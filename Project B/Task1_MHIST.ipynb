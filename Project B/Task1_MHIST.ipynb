{
  "cells": [
    {
      "cell_type": "markdown",
      "source": [
        "# MHIST Dataset\n"
      ],
      "metadata": {
        "id": "h6VZKyWsaFbi"
      }
    },
    {
      "cell_type": "markdown",
      "source": [
        "## Load Data Part\n",
        "Load the MHIST Dataset and Pre-processing the images.\n",
        "\n"
      ],
      "metadata": {
        "id": "VG_rI0FuZsPc"
      }
    },
    {
      "cell_type": "code",
      "execution_count": 1,
      "metadata": {
        "colab": {
          "base_uri": "https://localhost:8080/"
        },
        "id": "7jBqfbwRJmdd",
        "outputId": "b13d5d2b-e0cf-450a-c80a-b317e3633d1f"
      },
      "outputs": [
        {
          "output_type": "stream",
          "name": "stdout",
          "text": [
            "Mounted at /content/drive\n"
          ]
        }
      ],
      "source": [
        "from google.colab import drive\n",
        "drive.mount('/content/drive')"
      ]
    },
    {
      "cell_type": "code",
      "execution_count": 2,
      "metadata": {
        "id": "vwXI0B4iJqlD"
      },
      "outputs": [],
      "source": [
        "import numpy as np\n",
        "import pandas as pd\n",
        "import matplotlib.pyplot as plt\n",
        "import torch\n",
        "import torch.nn as nn\n",
        "import torch.optim as optim\n",
        "from torchvision import datasets, transforms\n",
        "from torch.utils.data import DataLoader\n",
        "import tqdm\n",
        "import os\n",
        "import copy\n",
        "import time\n",
        "from torchvision.utils import save_image\n",
        "import warnings\n",
        "warnings.filterwarnings('ignore')\n",
        "\n",
        "import sys\n",
        "sys.path.append('/content/drive/MyDrive/ECE1512/ProjectB')\n",
        "import utils\n",
        "import networks"
      ]
    },
    {
      "cell_type": "code",
      "execution_count": 3,
      "metadata": {
        "colab": {
          "base_uri": "https://localhost:8080/"
        },
        "id": "UYRPmH2MJteF",
        "outputId": "037aa854-fa90-4d64-9d50-5069429ab820"
      },
      "outputs": [
        {
          "output_type": "stream",
          "name": "stdout",
          "text": [
            "Drive already mounted at /content/drive/; to attempt to forcibly remount, call drive.mount(\"/content/drive/\", force_remount=True).\n"
          ]
        }
      ],
      "source": [
        "from PIL import Image\n",
        "import zipfile\n",
        "from google.colab import drive\n",
        "\n",
        "drive.mount('/content/drive/')\n",
        "\n",
        "zip_ref = zipfile.ZipFile(\"/content/drive/MyDrive/ECE1512/ProjectB/mhist_dataset/images.zip\", 'r')\n",
        "zip_ref.extractall(\"./\")\n",
        "zip_ref.close()"
      ]
    },
    {
      "cell_type": "code",
      "execution_count": 4,
      "metadata": {
        "id": "GvfOWcyNJ05X"
      },
      "outputs": [],
      "source": [
        "def load_data (img_path, csv_path, split):\n",
        "  annotations = pd.read_csv(csv_path)\n",
        "  data = annotations[annotations['Partition'] == split].reset_index(drop=True)\n",
        "  return data, img_path\n",
        "\n",
        "def get_item(data, image_path, idx, transformer):\n",
        "  image_full_name = os.path.join(image_path, data.iloc[idx]['Image Name'])\n",
        "  x = Image.open(image_full_name)\n",
        "\n",
        "  if transformer:\n",
        "      x = transformer(x)\n",
        "\n",
        "  label = data.iloc[idx][\"Majority Vote Label\"]\n",
        "  if label == 'HP':\n",
        "      y = 0 #torch.tensor([1, 0, 0, 0, 0])\n",
        "  else:\n",
        "      y = 1\n",
        "\n",
        "  return x, y\n",
        "\n",
        "def data_loader(train_data, test_data, train_image_path, test_image_path, batch_size):\n",
        "  im_size = (128,128)\n",
        "  channel = 3\n",
        "  num_classes = 2\n",
        "  mean = [0.485, 0.456, 0.406]\n",
        "  std = [0.5, 0.5, 0.5]\n",
        "  transformer = transforms.Compose([transforms.Resize(im_size),transforms.ToTensor(), transforms.Normalize(mean= mean, std = std)])\n",
        "\n",
        "  data = {'images_train': [], 'labels_train': [],'images_test':[], 'labels_test':[]}\n",
        "  class_names = torch.tensor([0, 1])\n",
        "\n",
        "  ''' train data '''\n",
        "  for idx in range(len(train_data)):\n",
        "    x, y = get_item(train_data, train_image_path, idx, transformer)\n",
        "    data['images_train'].append(torch.unsqueeze(x, dim=0))\n",
        "    data['labels_train'].append(y)\n",
        "\n",
        "  train_images = torch.cat(data['images_train'],dim = 0)\n",
        "  train_labels = torch.tensor(data['labels_train'],dtype=torch.long)\n",
        "  dst_train = utils.TensorDataset(train_images, train_labels)\n",
        "\n",
        "\n",
        "  '''' test data '''\n",
        "  for idx in range(len(test_data)):\n",
        "    x, y = get_item(test_data, test_image_path, idx, transformer)\n",
        "    data['images_test'].append(torch.unsqueeze(x, dim=0))\n",
        "    data['labels_test'].append(y)\n",
        "  test_images = torch.cat(data['images_test'],dim = 0)\n",
        "  test_labels = torch.tensor(data['labels_test'],dtype=torch.long)\n",
        "  dst_test = utils.TensorDataset(test_images, test_labels)\n",
        "\n",
        "  testloader = torch.utils.data.DataLoader(dst_test, batch_size=batch_size, shuffle=False, num_workers = 0)\n",
        "\n",
        "  return channel, im_size, num_classes, class_names, mean, std, dst_train, dst_test, testloader"
      ]
    },
    {
      "cell_type": "code",
      "execution_count": 5,
      "metadata": {
        "id": "YitY0JbeJ10f"
      },
      "outputs": [],
      "source": [
        "image_path = '/content/images'\n",
        "csv_path = '/content/drive/MyDrive/ECE1512/ProjectB/mhist_dataset/annotations.csv'\n",
        "\n",
        "train_data, train_image_path = load_data(image_path, csv_path, 'train')\n",
        "test_data, test_image_path = load_data(image_path, csv_path, 'test')\n",
        "\n",
        "mh_channel, mh_im_size, mh_num_classes, mh_class_names, mh_mean, mh_std, mh_dst_train, mh_dst_test, mh_testloader = data_loader(train_data, test_data, train_image_path,test_image_path, 128)"
      ]
    },
    {
      "cell_type": "markdown",
      "source": [
        "## Arugment Creating Part\n"
      ],
      "metadata": {
        "id": "GuM-4U2VZzTb"
      }
    },
    {
      "cell_type": "code",
      "execution_count": 6,
      "metadata": {
        "id": "lQNiWHMVJ7jZ"
      },
      "outputs": [],
      "source": [
        "NET = 'ConvNet'\n",
        "device = 'cuda' if torch.cuda.is_available() else 'cpu'\n",
        "model = utils.get_network(NET,mh_channel,mh_num_classes).to(device)\n",
        "class mh_argument():\n",
        "  def __init__(self, device, ipc = 50):\n",
        "    self.num_classes = mh_num_classes\n",
        "    self.dataset = 'MHIST'\n",
        "    self.channel = mh_channel\n",
        "    self.im_size = mh_im_size\n",
        "    self.mean = mh_mean\n",
        "    self.std = mh_std\n",
        "    self.ipc = ipc\n",
        "    self.Iteration = 200 #K\n",
        "    self.num_epochs = 2\n",
        "    self.num_eval = 20\n",
        "    self.num_op_step = 1\n",
        "    self.lr_img = 0.1\n",
        "    self.lr_net = 0.01\n",
        "    self.epoch_eval_train = 20\n",
        "    self.batch_train = 128\n",
        "    self.outer_loop, self.inner_loop = utils.get_loops(self.ipc)\n",
        "    self.dis_metric = 'ours'\n",
        "    self.init = 'real'\n",
        "    self.testloader = mh_testloader\n",
        "    self.save_path = \"MHISTresult\"\n",
        "\n",
        "\n",
        "    self.device = device\n",
        "    self.dsa = False\n",
        "    self.dsa_param = utils.ParamDiffAug()\n",
        "    self.dc_aug_param = utils.get_daparam(self.dataset, model, NET, ipc = self.ipc)\n",
        "    self.dsa_strategy = self.dc_aug_param['strategy']\n"
      ]
    },
    {
      "cell_type": "markdown",
      "metadata": {
        "id": "cRjl6qXeMtU-"
      },
      "source": [
        "## Task 1.2"
      ]
    },
    {
      "cell_type": "markdown",
      "source": [
        "### Part A"
      ],
      "metadata": {
        "id": "bBMiRjz0aT6r"
      }
    },
    {
      "cell_type": "markdown",
      "source": [
        "Calculated The FLOPs for model"
      ],
      "metadata": {
        "id": "VsbP0icutUVT"
      }
    },
    {
      "cell_type": "code",
      "source": [
        "!pip install thop\n",
        "from thop import profile\n",
        "#Flops\n",
        "input = torch.randn(1, mh_channel, 32, 32).to(device)\n",
        "flops, params = profile(model, inputs=(input, ))\n",
        "print(f'FLOPs: {flops}')"
      ],
      "metadata": {
        "colab": {
          "base_uri": "https://localhost:8080/"
        },
        "id": "vbfShd0CSKfs",
        "outputId": "ce1f293f-00d6-45a2-85d9-bac0e9f8fc91"
      },
      "execution_count": null,
      "outputs": [
        {
          "output_type": "stream",
          "name": "stdout",
          "text": [
            "[INFO] Register count_convNd() for <class 'torch.nn.modules.conv.Conv2d'>.\n",
            "[INFO] Register zero_ops() for <class 'torch.nn.modules.activation.ReLU'>.\n",
            "[INFO] Register count_avgpool() for <class 'torch.nn.modules.pooling.AvgPool2d'>.\n",
            "[INFO] Register zero_ops() for <class 'torch.nn.modules.container.Sequential'>.\n",
            "[INFO] Register count_linear() for <class 'torch.nn.modules.linear.Linear'>.\n",
            "FLOPs: 50771968.0\n"
          ]
        }
      ]
    },
    {
      "cell_type": "markdown",
      "source": [
        "Use the real dataset to train the model"
      ],
      "metadata": {
        "id": "uPleveH5tiKb"
      }
    },
    {
      "cell_type": "code",
      "execution_count": null,
      "metadata": {
        "id": "PjzUx1AsMrqn",
        "colab": {
          "base_uri": "https://localhost:8080/"
        },
        "outputId": "f7c09c3b-b299-4a7f-eabe-6c355a1e5281"
      },
      "outputs": [
        {
          "output_type": "stream",
          "name": "stderr",
          "text": [
            "100%|██████████| 200/200 [15:22<00:00,  4.61s/it]\n"
          ]
        },
        {
          "output_type": "stream",
          "name": "stdout",
          "text": [
            "\n",
            "Train Loss: 0.0026, Test Loss: 1.2831, Train Acc: 1.0000, Test Acc: 0.7380\n"
          ]
        }
      ],
      "source": [
        "NET = 'ConvNet'\n",
        "num_epochs = 200 #Epoch times\n",
        "device = 'cuda' if torch.cuda.is_available() else 'cpu'\n",
        "model = utils.get_network(NET, mh_channel, mh_num_classes, mh_im_size).to(device)\n",
        "args = mh_argument(device, 50)\n",
        "lr = float(args.lr_net)\n",
        "optimizer = optim.SGD(model.parameters(), lr=args.lr_net, momentum=0.9)\n",
        "lr_schedule = [num_epochs//2+1]\n",
        "criterion = nn.CrossEntropyLoss()\n",
        "scheduler = torch.optim.lr_scheduler.CosineAnnealingLR(optimizer, T_max=20, eta_min=0)\n",
        "\n",
        "mh_train_loader = DataLoader(mh_dst_train, batch_size=128, shuffle=True)\n",
        "\n",
        "for epoch in tqdm.tqdm(range(num_epochs)):\n",
        "    train_loss, train_acc = utils.epoch('train', mh_train_loader, model, optimizer, criterion, args, aug=False)\n",
        "    if epoch in lr_schedule:\n",
        "      lr *= 0.1\n",
        "      optimizer = torch.optim.SGD(model.parameters(), lr=lr, momentum=0.9, weight_decay=0.0005)\n",
        "\n",
        "test_loss, test_acc = utils.epoch('test', args.testloader, model, optimizer, criterion, args, aug=True)\n",
        "print(f'\\nTrain Loss: {train_loss:.4f}, Test Loss: {test_loss:.4f}, Train Acc: {train_acc:.4f}, Test Acc: {test_acc:.4f}')"
      ]
    },
    {
      "cell_type": "markdown",
      "source": [
        "### Part BCD\n",
        "The DataD_GradientM function below will created an synthetic dataset.\n",
        "When args.init = 'real', the dataset will be initiallize with real dataset(d);\n",
        "otherwide, the synthetic dataset will be created with Gaussian noise(c).\n",
        "The synthetic dataset will be save as png for visualization(b).\n",
        "\n",
        "**Reference**: Bo Zhao, Konda Reddy Mopuri, and Hakan Bilen. Dataset condensation with gradient matching. ICLR, 1(2):3, 2021. https://arxiv.org/abs/2006.05929.\n",
        "\n"
      ],
      "metadata": {
        "id": "fiCWgq8faAdS"
      }
    },
    {
      "cell_type": "code",
      "execution_count": 7,
      "metadata": {
        "id": "6YN5GihoK6gb"
      },
      "outputs": [],
      "source": [
        "\"\"\"\n",
        "@inproceedings{\n",
        "zhao2021DC,\n",
        "title={Dataset Condensation with Gradient Matching},\n",
        "author={Bo Zhao and Konda Reddy Mopuri and Hakan Bilen},\n",
        "booktitle={International Conference on Learning Representations},\n",
        "year={2021},\n",
        "url={https://openreview.net/forum?id=mSAKhLYLSsl}\n",
        "}\n",
        "\"\"\"\n",
        "\n",
        "def DataD_GradientM(NET, args):\n",
        "  '''\n",
        "  itype:\n",
        "    Net -> str(): net type\n",
        "    image_syn ->\n",
        "    args -> obj: parameters\n",
        "  rtype:\n",
        "    data_save, visual_save, test_acc, train_acc -> list[],list[],list[],list[]\n",
        "  '''\n",
        "  if not os.path.exists(args.save_path):\n",
        "    os.mkdir(args.save_path)\n",
        "\n",
        "  ''' orgainize image part '''\n",
        "  indices_class = [[] for c in range(args.num_classes)]\n",
        "  images_all = [torch.unsqueeze(mh_dst_train[i][0], dim=0) for i in range(len(mh_dst_train))]\n",
        "  labels_all = [mh_dst_train[i][1] for i in range(len(mh_dst_train))]\n",
        "\n",
        "  for i, lab in enumerate(labels_all):\n",
        "    indices_class[lab].append(i)\n",
        "\n",
        "  images_all = torch.cat(images_all, dim=0).to(args.device)\n",
        "  labels_all = torch.tensor(labels_all, dtype=torch.long, device=args.device)\n",
        "\n",
        "  for c in range(args.num_classes):\n",
        "    print('class c = %d: %d real images'%(c, len(indices_class[c])))\n",
        "\n",
        "  def get_images(c, n): # get random n images from class c\n",
        "      idx_shuffle = np.random.permutation(indices_class[c])[:n]\n",
        "      return images_all[idx_shuffle]\n",
        "\n",
        "  ''' initialize the synthetic data '''\n",
        "  image_syn = torch.randn(size=(args.num_classes*args.ipc, mh_channel, mh_im_size[0], mh_im_size[1]), dtype=torch.float, requires_grad=True, device=args.device)\n",
        "  label_syn = torch.tensor([np.ones(args.ipc)*i for i in range(args.num_classes)], dtype=torch.long, requires_grad=False, device=args.device).view(-1)\n",
        "\n",
        "  if args.init == 'real':\n",
        "    print('initialize synthetic data from random real images')\n",
        "    for c in range(args.num_classes):\n",
        "      image_syn.data[c*args.ipc:(c+1)*args.ipc] = get_images(c, args.ipc).detach().data\n",
        "  else:\n",
        "    print('initialize synthetic data from random noise')\n",
        "\n",
        "  data_save = []   #final syn-dataset (data_save[0][0] = images; data_save[0][1] = labels)\n",
        "  test_acc = []    #record test accuracy of every iteration\n",
        "  train_acc = []   #record train accuracy of every iteration\n",
        "\n",
        "  optimizer_img = torch.optim.SGD([image_syn, ], lr=args.lr_img, momentum=0.5)\n",
        "  optimizer_img.zero_grad()\n",
        "  criterion_img = nn.CrossEntropyLoss().to(args.device)\n",
        "\n",
        "\n",
        "  for it in range(args.Iteration):\n",
        "    print(f'Iteration {it}')\n",
        "\n",
        "    ''' visualization of condensed images per class for MNIST datasets'''\n",
        "    if it%10 == 0:\n",
        "      save_name = os.path.join(args.save_path, args.init+'vis_%s_%dipc_iter%d.png'%( args.dataset, args.ipc, it))\n",
        "      image_syn_vis = copy.deepcopy(image_syn.detach().cpu())\n",
        "      for ch in range(args.channel):\n",
        "        image_syn_vis[:, ch] = image_syn_vis[:, ch]  * args.std[ch] + args.mean[ch]\n",
        "      image_syn_vis[image_syn_vis<0] = 0.0\n",
        "      image_syn_vis[image_syn_vis>1] = 1.0\n",
        "      save_image(image_syn_vis, save_name, nrow=args.ipc)\n",
        "\n",
        "    ''' initial net '''\n",
        "    net = utils.get_network(NET,args.channel,args.num_classes, args.im_size).to(args.device)\n",
        "    net.train()\n",
        "    net_parameters = list(net.parameters())\n",
        "    optimizer_net = torch.optim.SGD(net.parameters(), lr=args.lr_net)\n",
        "    optimizer_net.zero_grad()\n",
        "    args.dc_aug_param = None\n",
        "\n",
        "    for ol in tqdm.tqdm(range(args.outer_loop)): #outer loop\n",
        "\n",
        "      ''' update synthesis data '''\n",
        "      loss = torch.tensor(0.0).to(args.device)\n",
        "      for c in range(args.num_classes): #class loop\n",
        "        ''' Sample a minibatch pair BTc ∼ T and BSc ∼ S '''\n",
        "        real_minibatch = get_images(c, args.batch_train)\n",
        "        lab_real = torch.ones((real_minibatch.shape[0],), device=args.device, dtype=torch.long) * c\n",
        "        synt_minibatch = image_syn[c*args.ipc:(c+1)*args.ipc].reshape((args.ipc, args.channel, args.im_size[0], args.im_size[1]))\n",
        "        lab_synt = torch.ones((args.ipc,), device=args.device, dtype=torch.long) * c\n",
        "\n",
        "        if args.dsa:\n",
        "          seed = int(time.time() * 1000) % 100000\n",
        "          img_real = utils.DiffAugment(img_real, args.dsa_strategy, seed=seed, param=args.dsa_param)\n",
        "          img_syn = utils.DiffAugment(img_syn, args.dsa_strategy, seed=seed, param=args.dsa_param)\n",
        "\n",
        "\n",
        "        ''' compute loss for both minibatch '''\n",
        "        output_real = net(real_minibatch)\n",
        "        loss_real = criterion_img(output_real, lab_real)\n",
        "        gw_real = torch.autograd.grad(loss_real, net_parameters)\n",
        "        gw_real = list((_.detach().clone() for _ in gw_real))\n",
        "\n",
        "        output_synt = net(synt_minibatch)\n",
        "        loss_synt = criterion_img(output_synt, lab_synt)\n",
        "        gw_synt = torch.autograd.grad(loss_synt, net_parameters, create_graph=True)\n",
        "\n",
        "        loss += utils.match_loss(gw_synt, gw_real, args)\n",
        "\n",
        "      ''' update '''\n",
        "      optimizer_img.zero_grad()\n",
        "      loss.backward()\n",
        "      optimizer_img.step()\n",
        "\n",
        "      image_syn_train, label_syn_train = copy.deepcopy(image_syn.detach()), copy.deepcopy(label_syn.detach())\n",
        "      dst_syn_train = utils.TensorDataset(image_syn_train, label_syn_train)\n",
        "      trainloader = torch.utils.data.DataLoader(dst_syn_train, batch_size=args.batch_train, shuffle=True, num_workers=0)\n",
        "\n",
        "      ''' inner outer '''\n",
        "      for inner in range(args.inner_loop):\n",
        "        utils.epoch('train', trainloader, net, optimizer_net, criterion_img, args, aug = True if args.dsa else False)\n",
        "\n",
        "    ''' evaluate '''\n",
        "    args.epoch_eval_train = 100\n",
        "    net_eval = utils.get_network(NET, args.channel, args.num_classes, args.im_size).to(args.device) # get a random model\n",
        "    image_syn_eval, label_syn_eval = copy.deepcopy(image_syn.detach()), copy.deepcopy(label_syn.detach())\n",
        "    _, acc_train, acc_test = utils.evaluate_synset(it, net_eval, image_syn_eval, label_syn_eval, args.testloader, args)\n",
        "    test_acc.append(acc_test)\n",
        "    train_acc.append(acc_train)\n",
        "\n",
        "    '''Save the synthetic data result'''\n",
        "    if it == (args.Iteration-1):\n",
        "      data_save.append([copy.deepcopy(image_syn.detach().cpu()), copy.deepcopy(label_syn.detach().cpu())])\n",
        "      torch.save({'data': data_save}, os.path.join(args.save_path, args.init+'res_%s_%dipc.pt'%(args.dataset, args.ipc)))\n",
        "  return data_save, test_acc, train_acc\n"
      ]
    },
    {
      "cell_type": "markdown",
      "metadata": {
        "id": "_PLij59VMy71"
      },
      "source": [
        "### Part D"
      ]
    },
    {
      "cell_type": "code",
      "execution_count": 8,
      "metadata": {
        "colab": {
          "base_uri": "https://localhost:8080/"
        },
        "id": "anhbIDAELRWA",
        "outputId": "0011033a-840f-42b9-ecc0-27642243fab8"
      },
      "outputs": [
        {
          "output_type": "stream",
          "name": "stdout",
          "text": [
            "class c = 0: 1545 real images\n",
            "class c = 1: 630 real images\n",
            "initialize synthetic data from random real images\n",
            "Iteration 0\n"
          ]
        },
        {
          "output_type": "stream",
          "name": "stderr",
          "text": [
            "100%|██████████| 50/50 [03:03<00:00,  3.66s/it]\n"
          ]
        },
        {
          "output_type": "stream",
          "name": "stdout",
          "text": [
            "[2023-12-05 03:26:08] Evaluate_00: epoch = 0100 train time = 20 s train loss = 0.000039 train acc = 1.0000, test acc = 0.5241\n",
            "Iteration 1\n"
          ]
        },
        {
          "output_type": "stream",
          "name": "stderr",
          "text": [
            "100%|██████████| 50/50 [02:57<00:00,  3.55s/it]\n"
          ]
        },
        {
          "output_type": "stream",
          "name": "stdout",
          "text": [
            "[2023-12-05 03:29:27] Evaluate_01: epoch = 0100 train time = 20 s train loss = 0.000136 train acc = 1.0000, test acc = 0.5415\n",
            "Iteration 2\n"
          ]
        },
        {
          "output_type": "stream",
          "name": "stderr",
          "text": [
            "100%|██████████| 50/50 [02:57<00:00,  3.55s/it]\n"
          ]
        },
        {
          "output_type": "stream",
          "name": "stdout",
          "text": [
            "[2023-12-05 03:32:46] Evaluate_02: epoch = 0100 train time = 20 s train loss = 0.000005 train acc = 1.0000, test acc = 0.4944\n",
            "Iteration 3\n"
          ]
        },
        {
          "output_type": "stream",
          "name": "stderr",
          "text": [
            "100%|██████████| 50/50 [02:57<00:00,  3.55s/it]\n"
          ]
        },
        {
          "output_type": "stream",
          "name": "stdout",
          "text": [
            "[2023-12-05 03:36:05] Evaluate_03: epoch = 0100 train time = 20 s train loss = 0.000010 train acc = 1.0000, test acc = 0.5507\n",
            "Iteration 4\n"
          ]
        },
        {
          "output_type": "stream",
          "name": "stderr",
          "text": [
            "100%|██████████| 50/50 [02:57<00:00,  3.55s/it]\n"
          ]
        },
        {
          "output_type": "stream",
          "name": "stdout",
          "text": [
            "[2023-12-05 03:39:25] Evaluate_04: epoch = 0100 train time = 20 s train loss = 0.000600 train acc = 1.0000, test acc = 0.5711\n",
            "Iteration 5\n"
          ]
        },
        {
          "output_type": "stream",
          "name": "stderr",
          "text": [
            "100%|██████████| 50/50 [02:57<00:00,  3.55s/it]\n"
          ]
        },
        {
          "output_type": "stream",
          "name": "stdout",
          "text": [
            "[2023-12-05 03:42:44] Evaluate_05: epoch = 0100 train time = 20 s train loss = 0.000470 train acc = 1.0000, test acc = 0.5384\n",
            "Iteration 6\n"
          ]
        },
        {
          "output_type": "stream",
          "name": "stderr",
          "text": [
            "100%|██████████| 50/50 [02:57<00:00,  3.55s/it]\n"
          ]
        },
        {
          "output_type": "stream",
          "name": "stdout",
          "text": [
            "[2023-12-05 03:46:03] Evaluate_06: epoch = 0100 train time = 20 s train loss = 0.000131 train acc = 1.0000, test acc = 0.5578\n",
            "Iteration 7\n"
          ]
        },
        {
          "output_type": "stream",
          "name": "stderr",
          "text": [
            "100%|██████████| 50/50 [02:57<00:00,  3.55s/it]\n"
          ]
        },
        {
          "output_type": "stream",
          "name": "stdout",
          "text": [
            "[2023-12-05 03:49:23] Evaluate_07: epoch = 0100 train time = 20 s train loss = 0.000095 train acc = 1.0000, test acc = 0.5855\n",
            "Iteration 8\n"
          ]
        },
        {
          "output_type": "stream",
          "name": "stderr",
          "text": [
            "100%|██████████| 50/50 [02:57<00:00,  3.55s/it]\n"
          ]
        },
        {
          "output_type": "stream",
          "name": "stdout",
          "text": [
            "[2023-12-05 03:52:42] Evaluate_08: epoch = 0100 train time = 20 s train loss = 0.001034 train acc = 1.0000, test acc = 0.5077\n",
            "Iteration 9\n"
          ]
        },
        {
          "output_type": "stream",
          "name": "stderr",
          "text": [
            "100%|██████████| 50/50 [02:57<00:00,  3.55s/it]\n"
          ]
        },
        {
          "output_type": "stream",
          "name": "stdout",
          "text": [
            "[2023-12-05 03:56:01] Evaluate_09: epoch = 0100 train time = 20 s train loss = 0.000243 train acc = 1.0000, test acc = 0.5363\n",
            "Iteration 10\n"
          ]
        },
        {
          "output_type": "stream",
          "name": "stderr",
          "text": [
            "100%|██████████| 50/50 [02:57<00:00,  3.55s/it]\n"
          ]
        },
        {
          "output_type": "stream",
          "name": "stdout",
          "text": [
            "[2023-12-05 03:59:21] Evaluate_10: epoch = 0100 train time = 20 s train loss = 0.000129 train acc = 1.0000, test acc = 0.5476\n",
            "Iteration 11\n"
          ]
        },
        {
          "output_type": "stream",
          "name": "stderr",
          "text": [
            "100%|██████████| 50/50 [02:57<00:00,  3.55s/it]\n"
          ]
        },
        {
          "output_type": "stream",
          "name": "stdout",
          "text": [
            "[2023-12-05 04:02:40] Evaluate_11: epoch = 0100 train time = 20 s train loss = 0.000479 train acc = 1.0000, test acc = 0.5783\n",
            "Iteration 12\n"
          ]
        },
        {
          "output_type": "stream",
          "name": "stderr",
          "text": [
            "100%|██████████| 50/50 [02:57<00:00,  3.55s/it]\n"
          ]
        },
        {
          "output_type": "stream",
          "name": "stdout",
          "text": [
            "[2023-12-05 04:05:59] Evaluate_12: epoch = 0100 train time = 20 s train loss = 0.000198 train acc = 1.0000, test acc = 0.5834\n",
            "Iteration 13\n"
          ]
        },
        {
          "output_type": "stream",
          "name": "stderr",
          "text": [
            "100%|██████████| 50/50 [02:57<00:00,  3.55s/it]\n"
          ]
        },
        {
          "output_type": "stream",
          "name": "stdout",
          "text": [
            "[2023-12-05 04:09:18] Evaluate_13: epoch = 0100 train time = 20 s train loss = 0.000170 train acc = 1.0000, test acc = 0.5855\n",
            "Iteration 14\n"
          ]
        },
        {
          "output_type": "stream",
          "name": "stderr",
          "text": [
            "100%|██████████| 50/50 [02:57<00:00,  3.55s/it]\n"
          ]
        },
        {
          "output_type": "stream",
          "name": "stdout",
          "text": [
            "[2023-12-05 04:12:37] Evaluate_14: epoch = 0100 train time = 20 s train loss = 0.000297 train acc = 1.0000, test acc = 0.5425\n",
            "Iteration 15\n"
          ]
        },
        {
          "output_type": "stream",
          "name": "stderr",
          "text": [
            "100%|██████████| 50/50 [02:57<00:00,  3.55s/it]\n"
          ]
        },
        {
          "output_type": "stream",
          "name": "stdout",
          "text": [
            "[2023-12-05 04:15:56] Evaluate_15: epoch = 0100 train time = 20 s train loss = 0.000306 train acc = 1.0000, test acc = 0.6151\n",
            "Iteration 16\n"
          ]
        },
        {
          "output_type": "stream",
          "name": "stderr",
          "text": [
            "100%|██████████| 50/50 [02:57<00:00,  3.55s/it]\n"
          ]
        },
        {
          "output_type": "stream",
          "name": "stdout",
          "text": [
            "[2023-12-05 04:19:15] Evaluate_16: epoch = 0100 train time = 20 s train loss = 0.000321 train acc = 1.0000, test acc = 0.5937\n",
            "Iteration 17\n"
          ]
        },
        {
          "output_type": "stream",
          "name": "stderr",
          "text": [
            "100%|██████████| 50/50 [02:57<00:00,  3.55s/it]\n"
          ]
        },
        {
          "output_type": "stream",
          "name": "stdout",
          "text": [
            "[2023-12-05 04:22:35] Evaluate_17: epoch = 0100 train time = 20 s train loss = 0.000226 train acc = 1.0000, test acc = 0.5599\n",
            "Iteration 18\n"
          ]
        },
        {
          "output_type": "stream",
          "name": "stderr",
          "text": [
            "100%|██████████| 50/50 [02:57<00:00,  3.55s/it]\n"
          ]
        },
        {
          "output_type": "stream",
          "name": "stdout",
          "text": [
            "[2023-12-05 04:25:54] Evaluate_18: epoch = 0100 train time = 20 s train loss = 0.000460 train acc = 1.0000, test acc = 0.5803\n",
            "Iteration 19\n"
          ]
        },
        {
          "output_type": "stream",
          "name": "stderr",
          "text": [
            "100%|██████████| 50/50 [02:57<00:00,  3.55s/it]\n"
          ]
        },
        {
          "output_type": "stream",
          "name": "stdout",
          "text": [
            "[2023-12-05 04:29:13] Evaluate_19: epoch = 0100 train time = 20 s train loss = 0.000426 train acc = 1.0000, test acc = 0.5445\n",
            "Iteration 20\n"
          ]
        },
        {
          "output_type": "stream",
          "name": "stderr",
          "text": [
            "100%|██████████| 50/50 [02:57<00:00,  3.55s/it]\n"
          ]
        },
        {
          "output_type": "stream",
          "name": "stdout",
          "text": [
            "[2023-12-05 04:32:33] Evaluate_20: epoch = 0100 train time = 20 s train loss = 0.000724 train acc = 1.0000, test acc = 0.5486\n",
            "Iteration 21\n"
          ]
        },
        {
          "output_type": "stream",
          "name": "stderr",
          "text": [
            "100%|██████████| 50/50 [02:57<00:00,  3.55s/it]\n"
          ]
        },
        {
          "output_type": "stream",
          "name": "stdout",
          "text": [
            "[2023-12-05 04:35:52] Evaluate_21: epoch = 0100 train time = 20 s train loss = 0.000690 train acc = 1.0000, test acc = 0.5568\n",
            "Iteration 22\n"
          ]
        },
        {
          "output_type": "stream",
          "name": "stderr",
          "text": [
            "100%|██████████| 50/50 [02:57<00:00,  3.54s/it]\n"
          ]
        },
        {
          "output_type": "stream",
          "name": "stdout",
          "text": [
            "[2023-12-05 04:39:11] Evaluate_22: epoch = 0100 train time = 20 s train loss = 0.000390 train acc = 1.0000, test acc = 0.5271\n",
            "Iteration 23\n"
          ]
        },
        {
          "output_type": "stream",
          "name": "stderr",
          "text": [
            "100%|██████████| 50/50 [02:57<00:00,  3.55s/it]\n"
          ]
        },
        {
          "output_type": "stream",
          "name": "stdout",
          "text": [
            "[2023-12-05 04:42:30] Evaluate_23: epoch = 0100 train time = 20 s train loss = 0.000190 train acc = 1.0000, test acc = 0.5589\n",
            "Iteration 24\n"
          ]
        },
        {
          "output_type": "stream",
          "name": "stderr",
          "text": [
            "100%|██████████| 50/50 [02:57<00:00,  3.54s/it]\n"
          ]
        },
        {
          "output_type": "stream",
          "name": "stdout",
          "text": [
            "[2023-12-05 04:45:49] Evaluate_24: epoch = 0100 train time = 20 s train loss = 0.000201 train acc = 1.0000, test acc = 0.5527\n",
            "Iteration 25\n"
          ]
        },
        {
          "output_type": "stream",
          "name": "stderr",
          "text": [
            "100%|██████████| 50/50 [02:57<00:00,  3.55s/it]\n"
          ]
        },
        {
          "output_type": "stream",
          "name": "stdout",
          "text": [
            "[2023-12-05 04:49:08] Evaluate_25: epoch = 0100 train time = 20 s train loss = 0.001724 train acc = 1.0000, test acc = 0.5814\n",
            "Iteration 26\n"
          ]
        },
        {
          "output_type": "stream",
          "name": "stderr",
          "text": [
            "100%|██████████| 50/50 [02:57<00:00,  3.54s/it]\n"
          ]
        },
        {
          "output_type": "stream",
          "name": "stdout",
          "text": [
            "[2023-12-05 04:52:27] Evaluate_26: epoch = 0100 train time = 20 s train loss = 0.000654 train acc = 1.0000, test acc = 0.5292\n",
            "Iteration 27\n"
          ]
        },
        {
          "output_type": "stream",
          "name": "stderr",
          "text": [
            "100%|██████████| 50/50 [02:57<00:00,  3.54s/it]\n"
          ]
        },
        {
          "output_type": "stream",
          "name": "stdout",
          "text": [
            "[2023-12-05 04:55:46] Evaluate_27: epoch = 0100 train time = 20 s train loss = 0.000247 train acc = 1.0000, test acc = 0.5599\n",
            "Iteration 28\n"
          ]
        },
        {
          "output_type": "stream",
          "name": "stderr",
          "text": [
            "100%|██████████| 50/50 [02:57<00:00,  3.54s/it]\n"
          ]
        },
        {
          "output_type": "stream",
          "name": "stdout",
          "text": [
            "[2023-12-05 04:59:05] Evaluate_28: epoch = 0100 train time = 20 s train loss = 0.000680 train acc = 1.0000, test acc = 0.5466\n",
            "Iteration 29\n"
          ]
        },
        {
          "output_type": "stream",
          "name": "stderr",
          "text": [
            "100%|██████████| 50/50 [02:57<00:00,  3.55s/it]\n"
          ]
        },
        {
          "output_type": "stream",
          "name": "stdout",
          "text": [
            "[2023-12-05 05:02:24] Evaluate_29: epoch = 0100 train time = 20 s train loss = 0.000927 train acc = 1.0000, test acc = 0.4893\n",
            "Iteration 30\n"
          ]
        },
        {
          "output_type": "stream",
          "name": "stderr",
          "text": [
            "100%|██████████| 50/50 [02:57<00:00,  3.55s/it]\n"
          ]
        },
        {
          "output_type": "stream",
          "name": "stdout",
          "text": [
            "[2023-12-05 05:05:44] Evaluate_30: epoch = 0100 train time = 20 s train loss = 0.000062 train acc = 1.0000, test acc = 0.4729\n",
            "Iteration 31\n"
          ]
        },
        {
          "output_type": "stream",
          "name": "stderr",
          "text": [
            "100%|██████████| 50/50 [02:57<00:00,  3.55s/it]\n"
          ]
        },
        {
          "output_type": "stream",
          "name": "stdout",
          "text": [
            "[2023-12-05 05:09:03] Evaluate_31: epoch = 0100 train time = 20 s train loss = 0.000235 train acc = 1.0000, test acc = 0.5578\n",
            "Iteration 32\n"
          ]
        },
        {
          "output_type": "stream",
          "name": "stderr",
          "text": [
            "100%|██████████| 50/50 [02:57<00:00,  3.54s/it]\n"
          ]
        },
        {
          "output_type": "stream",
          "name": "stdout",
          "text": [
            "[2023-12-05 05:12:22] Evaluate_32: epoch = 0100 train time = 20 s train loss = 0.000439 train acc = 1.0000, test acc = 0.4913\n",
            "Iteration 33\n"
          ]
        },
        {
          "output_type": "stream",
          "name": "stderr",
          "text": [
            "100%|██████████| 50/50 [02:57<00:00,  3.55s/it]\n"
          ]
        },
        {
          "output_type": "stream",
          "name": "stdout",
          "text": [
            "[2023-12-05 05:15:41] Evaluate_33: epoch = 0100 train time = 20 s train loss = 0.000493 train acc = 1.0000, test acc = 0.4995\n",
            "Iteration 34\n"
          ]
        },
        {
          "output_type": "stream",
          "name": "stderr",
          "text": [
            "100%|██████████| 50/50 [02:57<00:00,  3.55s/it]\n"
          ]
        },
        {
          "output_type": "stream",
          "name": "stdout",
          "text": [
            "[2023-12-05 05:19:00] Evaluate_34: epoch = 0100 train time = 20 s train loss = 0.002133 train acc = 1.0000, test acc = 0.5220\n",
            "Iteration 35\n"
          ]
        },
        {
          "output_type": "stream",
          "name": "stderr",
          "text": [
            "100%|██████████| 50/50 [02:57<00:00,  3.55s/it]\n"
          ]
        },
        {
          "output_type": "stream",
          "name": "stdout",
          "text": [
            "[2023-12-05 05:22:19] Evaluate_35: epoch = 0100 train time = 20 s train loss = 0.000799 train acc = 1.0000, test acc = 0.5425\n",
            "Iteration 36\n"
          ]
        },
        {
          "output_type": "stream",
          "name": "stderr",
          "text": [
            "100%|██████████| 50/50 [02:57<00:00,  3.55s/it]\n"
          ]
        },
        {
          "output_type": "stream",
          "name": "stdout",
          "text": [
            "[2023-12-05 05:25:39] Evaluate_36: epoch = 0100 train time = 20 s train loss = 0.000675 train acc = 1.0000, test acc = 0.4893\n",
            "Iteration 37\n"
          ]
        },
        {
          "output_type": "stream",
          "name": "stderr",
          "text": [
            "100%|██████████| 50/50 [02:57<00:00,  3.55s/it]\n"
          ]
        },
        {
          "output_type": "stream",
          "name": "stdout",
          "text": [
            "[2023-12-05 05:28:58] Evaluate_37: epoch = 0100 train time = 20 s train loss = 0.000552 train acc = 1.0000, test acc = 0.5128\n",
            "Iteration 38\n"
          ]
        },
        {
          "output_type": "stream",
          "name": "stderr",
          "text": [
            "100%|██████████| 50/50 [02:57<00:00,  3.55s/it]\n"
          ]
        },
        {
          "output_type": "stream",
          "name": "stdout",
          "text": [
            "[2023-12-05 05:32:17] Evaluate_38: epoch = 0100 train time = 20 s train loss = 0.004958 train acc = 1.0000, test acc = 0.5855\n",
            "Iteration 39\n"
          ]
        },
        {
          "output_type": "stream",
          "name": "stderr",
          "text": [
            "100%|██████████| 50/50 [02:57<00:00,  3.54s/it]\n"
          ]
        },
        {
          "output_type": "stream",
          "name": "stdout",
          "text": [
            "[2023-12-05 05:35:36] Evaluate_39: epoch = 0100 train time = 20 s train loss = 0.001092 train acc = 1.0000, test acc = 0.5118\n",
            "Iteration 40\n"
          ]
        },
        {
          "output_type": "stream",
          "name": "stderr",
          "text": [
            "100%|██████████| 50/50 [02:57<00:00,  3.55s/it]\n"
          ]
        },
        {
          "output_type": "stream",
          "name": "stdout",
          "text": [
            "[2023-12-05 05:38:55] Evaluate_40: epoch = 0100 train time = 20 s train loss = 0.001719 train acc = 1.0000, test acc = 0.5015\n",
            "Iteration 41\n"
          ]
        },
        {
          "output_type": "stream",
          "name": "stderr",
          "text": [
            "100%|██████████| 50/50 [02:57<00:00,  3.55s/it]\n"
          ]
        },
        {
          "output_type": "stream",
          "name": "stdout",
          "text": [
            "[2023-12-05 05:42:15] Evaluate_41: epoch = 0100 train time = 20 s train loss = 0.001881 train acc = 1.0000, test acc = 0.5138\n",
            "Iteration 42\n"
          ]
        },
        {
          "output_type": "stream",
          "name": "stderr",
          "text": [
            "100%|██████████| 50/50 [02:57<00:00,  3.54s/it]\n"
          ]
        },
        {
          "output_type": "stream",
          "name": "stdout",
          "text": [
            "[2023-12-05 05:45:34] Evaluate_42: epoch = 0100 train time = 20 s train loss = 0.000848 train acc = 1.0000, test acc = 0.5732\n",
            "Iteration 43\n"
          ]
        },
        {
          "output_type": "stream",
          "name": "stderr",
          "text": [
            "100%|██████████| 50/50 [02:57<00:00,  3.55s/it]\n"
          ]
        },
        {
          "output_type": "stream",
          "name": "stdout",
          "text": [
            "[2023-12-05 05:48:53] Evaluate_43: epoch = 0100 train time = 20 s train loss = 0.001016 train acc = 1.0000, test acc = 0.5107\n",
            "Iteration 44\n"
          ]
        },
        {
          "output_type": "stream",
          "name": "stderr",
          "text": [
            "100%|██████████| 50/50 [02:57<00:00,  3.55s/it]\n"
          ]
        },
        {
          "output_type": "stream",
          "name": "stdout",
          "text": [
            "[2023-12-05 05:52:12] Evaluate_44: epoch = 0100 train time = 20 s train loss = 0.000603 train acc = 1.0000, test acc = 0.5353\n",
            "Iteration 45\n"
          ]
        },
        {
          "output_type": "stream",
          "name": "stderr",
          "text": [
            "100%|██████████| 50/50 [02:57<00:00,  3.54s/it]\n"
          ]
        },
        {
          "output_type": "stream",
          "name": "stdout",
          "text": [
            "[2023-12-05 05:55:31] Evaluate_45: epoch = 0100 train time = 20 s train loss = 0.000846 train acc = 1.0000, test acc = 0.5036\n",
            "Iteration 46\n"
          ]
        },
        {
          "output_type": "stream",
          "name": "stderr",
          "text": [
            "100%|██████████| 50/50 [02:57<00:00,  3.54s/it]\n"
          ]
        },
        {
          "output_type": "stream",
          "name": "stdout",
          "text": [
            "[2023-12-05 05:58:50] Evaluate_46: epoch = 0100 train time = 20 s train loss = 0.004532 train acc = 1.0000, test acc = 0.5537\n",
            "Iteration 47\n"
          ]
        },
        {
          "output_type": "stream",
          "name": "stderr",
          "text": [
            "100%|██████████| 50/50 [02:57<00:00,  3.54s/it]\n"
          ]
        },
        {
          "output_type": "stream",
          "name": "stdout",
          "text": [
            "[2023-12-05 06:02:09] Evaluate_47: epoch = 0100 train time = 20 s train loss = 0.006339 train acc = 1.0000, test acc = 0.5148\n",
            "Iteration 48\n"
          ]
        },
        {
          "output_type": "stream",
          "name": "stderr",
          "text": [
            "100%|██████████| 50/50 [02:57<00:00,  3.54s/it]\n"
          ]
        },
        {
          "output_type": "stream",
          "name": "stdout",
          "text": [
            "[2023-12-05 06:05:28] Evaluate_48: epoch = 0100 train time = 20 s train loss = 0.008459 train acc = 1.0000, test acc = 0.5189\n",
            "Iteration 49\n"
          ]
        },
        {
          "output_type": "stream",
          "name": "stderr",
          "text": [
            "100%|██████████| 50/50 [02:57<00:00,  3.54s/it]\n"
          ]
        },
        {
          "output_type": "stream",
          "name": "stdout",
          "text": [
            "[2023-12-05 06:08:47] Evaluate_49: epoch = 0100 train time = 20 s train loss = 0.002503 train acc = 1.0000, test acc = 0.5486\n",
            "Iteration 50\n"
          ]
        },
        {
          "output_type": "stream",
          "name": "stderr",
          "text": [
            "100%|██████████| 50/50 [02:57<00:00,  3.55s/it]\n"
          ]
        },
        {
          "output_type": "stream",
          "name": "stdout",
          "text": [
            "[2023-12-05 06:12:07] Evaluate_50: epoch = 0100 train time = 20 s train loss = 0.001567 train acc = 1.0000, test acc = 0.5537\n",
            "Iteration 51\n"
          ]
        },
        {
          "output_type": "stream",
          "name": "stderr",
          "text": [
            "100%|██████████| 50/50 [02:57<00:00,  3.54s/it]\n"
          ]
        },
        {
          "output_type": "stream",
          "name": "stdout",
          "text": [
            "[2023-12-05 06:15:26] Evaluate_51: epoch = 0100 train time = 20 s train loss = 0.001883 train acc = 1.0000, test acc = 0.5650\n",
            "Iteration 52\n"
          ]
        },
        {
          "output_type": "stream",
          "name": "stderr",
          "text": [
            "100%|██████████| 50/50 [02:57<00:00,  3.55s/it]\n"
          ]
        },
        {
          "output_type": "stream",
          "name": "stdout",
          "text": [
            "[2023-12-05 06:18:45] Evaluate_52: epoch = 0100 train time = 20 s train loss = 0.001230 train acc = 1.0000, test acc = 0.5056\n",
            "Iteration 53\n"
          ]
        },
        {
          "output_type": "stream",
          "name": "stderr",
          "text": [
            "100%|██████████| 50/50 [02:57<00:00,  3.55s/it]\n"
          ]
        },
        {
          "output_type": "stream",
          "name": "stdout",
          "text": [
            "[2023-12-05 06:22:04] Evaluate_53: epoch = 0100 train time = 20 s train loss = 0.006992 train acc = 1.0000, test acc = 0.5415\n",
            "Iteration 54\n"
          ]
        },
        {
          "output_type": "stream",
          "name": "stderr",
          "text": [
            "100%|██████████| 50/50 [02:57<00:00,  3.54s/it]\n"
          ]
        },
        {
          "output_type": "stream",
          "name": "stdout",
          "text": [
            "[2023-12-05 06:25:23] Evaluate_54: epoch = 0100 train time = 20 s train loss = 0.003583 train acc = 1.0000, test acc = 0.5128\n",
            "Iteration 55\n"
          ]
        },
        {
          "output_type": "stream",
          "name": "stderr",
          "text": [
            "100%|██████████| 50/50 [02:57<00:00,  3.55s/it]\n"
          ]
        },
        {
          "output_type": "stream",
          "name": "stdout",
          "text": [
            "[2023-12-05 06:28:42] Evaluate_55: epoch = 0100 train time = 20 s train loss = 0.008474 train acc = 1.0000, test acc = 0.5200\n",
            "Iteration 56\n"
          ]
        },
        {
          "output_type": "stream",
          "name": "stderr",
          "text": [
            "100%|██████████| 50/50 [02:57<00:00,  3.54s/it]\n"
          ]
        },
        {
          "output_type": "stream",
          "name": "stdout",
          "text": [
            "[2023-12-05 06:32:01] Evaluate_56: epoch = 0100 train time = 20 s train loss = 0.002610 train acc = 1.0000, test acc = 0.5517\n",
            "Iteration 57\n"
          ]
        },
        {
          "output_type": "stream",
          "name": "stderr",
          "text": [
            "100%|██████████| 50/50 [02:57<00:00,  3.55s/it]\n"
          ]
        },
        {
          "output_type": "stream",
          "name": "stdout",
          "text": [
            "[2023-12-05 06:35:20] Evaluate_57: epoch = 0100 train time = 20 s train loss = 0.002139 train acc = 1.0000, test acc = 0.5210\n",
            "Iteration 58\n"
          ]
        },
        {
          "output_type": "stream",
          "name": "stderr",
          "text": [
            "100%|██████████| 50/50 [02:57<00:00,  3.55s/it]\n"
          ]
        },
        {
          "output_type": "stream",
          "name": "stdout",
          "text": [
            "[2023-12-05 06:38:40] Evaluate_58: epoch = 0100 train time = 20 s train loss = 0.001883 train acc = 1.0000, test acc = 0.5026\n",
            "Iteration 59\n"
          ]
        },
        {
          "output_type": "stream",
          "name": "stderr",
          "text": [
            "100%|██████████| 50/50 [02:57<00:00,  3.54s/it]\n"
          ]
        },
        {
          "output_type": "stream",
          "name": "stdout",
          "text": [
            "[2023-12-05 06:41:59] Evaluate_59: epoch = 0100 train time = 20 s train loss = 0.014825 train acc = 1.0000, test acc = 0.5537\n",
            "Iteration 60\n"
          ]
        },
        {
          "output_type": "stream",
          "name": "stderr",
          "text": [
            "100%|██████████| 50/50 [02:57<00:00,  3.55s/it]\n"
          ]
        },
        {
          "output_type": "stream",
          "name": "stdout",
          "text": [
            "[2023-12-05 06:45:18] Evaluate_60: epoch = 0100 train time = 20 s train loss = 0.002882 train acc = 1.0000, test acc = 0.5087\n",
            "Iteration 61\n"
          ]
        },
        {
          "output_type": "stream",
          "name": "stderr",
          "text": [
            "100%|██████████| 50/50 [02:57<00:00,  3.55s/it]\n"
          ]
        },
        {
          "output_type": "stream",
          "name": "stdout",
          "text": [
            "[2023-12-05 06:48:38] Evaluate_61: epoch = 0100 train time = 20 s train loss = 0.010808 train acc = 1.0000, test acc = 0.4770\n",
            "Iteration 62\n"
          ]
        },
        {
          "output_type": "stream",
          "name": "stderr",
          "text": [
            "100%|██████████| 50/50 [02:57<00:00,  3.54s/it]\n"
          ]
        },
        {
          "output_type": "stream",
          "name": "stdout",
          "text": [
            "[2023-12-05 06:51:57] Evaluate_62: epoch = 0100 train time = 20 s train loss = 0.001022 train acc = 1.0000, test acc = 0.5404\n",
            "Iteration 63\n"
          ]
        },
        {
          "output_type": "stream",
          "name": "stderr",
          "text": [
            "100%|██████████| 50/50 [02:57<00:00,  3.54s/it]\n"
          ]
        },
        {
          "output_type": "stream",
          "name": "stdout",
          "text": [
            "[2023-12-05 06:55:16] Evaluate_63: epoch = 0100 train time = 20 s train loss = 0.005500 train acc = 1.0000, test acc = 0.5384\n",
            "Iteration 64\n"
          ]
        },
        {
          "output_type": "stream",
          "name": "stderr",
          "text": [
            "100%|██████████| 50/50 [02:57<00:00,  3.54s/it]\n"
          ]
        },
        {
          "output_type": "stream",
          "name": "stdout",
          "text": [
            "[2023-12-05 06:58:35] Evaluate_64: epoch = 0100 train time = 20 s train loss = 0.005866 train acc = 1.0000, test acc = 0.5353\n",
            "Iteration 65\n"
          ]
        },
        {
          "output_type": "stream",
          "name": "stderr",
          "text": [
            "100%|██████████| 50/50 [02:57<00:00,  3.55s/it]\n"
          ]
        },
        {
          "output_type": "stream",
          "name": "stdout",
          "text": [
            "[2023-12-05 07:01:54] Evaluate_65: epoch = 0100 train time = 20 s train loss = 0.000710 train acc = 1.0000, test acc = 0.6018\n",
            "Iteration 66\n"
          ]
        },
        {
          "output_type": "stream",
          "name": "stderr",
          "text": [
            "100%|██████████| 50/50 [02:57<00:00,  3.55s/it]\n"
          ]
        },
        {
          "output_type": "stream",
          "name": "stdout",
          "text": [
            "[2023-12-05 07:05:13] Evaluate_66: epoch = 0100 train time = 20 s train loss = 0.002259 train acc = 1.0000, test acc = 0.5343\n",
            "Iteration 67\n"
          ]
        },
        {
          "output_type": "stream",
          "name": "stderr",
          "text": [
            "100%|██████████| 50/50 [02:57<00:00,  3.55s/it]\n"
          ]
        },
        {
          "output_type": "stream",
          "name": "stdout",
          "text": [
            "[2023-12-05 07:08:32] Evaluate_67: epoch = 0100 train time = 20 s train loss = 0.000787 train acc = 1.0000, test acc = 0.5783\n",
            "Iteration 68\n"
          ]
        },
        {
          "output_type": "stream",
          "name": "stderr",
          "text": [
            "100%|██████████| 50/50 [02:57<00:00,  3.54s/it]\n"
          ]
        },
        {
          "output_type": "stream",
          "name": "stdout",
          "text": [
            "[2023-12-05 07:11:51] Evaluate_68: epoch = 0100 train time = 20 s train loss = 0.000320 train acc = 1.0000, test acc = 0.6172\n",
            "Iteration 69\n"
          ]
        },
        {
          "output_type": "stream",
          "name": "stderr",
          "text": [
            "100%|██████████| 50/50 [02:57<00:00,  3.55s/it]\n"
          ]
        },
        {
          "output_type": "stream",
          "name": "stdout",
          "text": [
            "[2023-12-05 07:15:10] Evaluate_69: epoch = 0100 train time = 20 s train loss = 0.003136 train acc = 1.0000, test acc = 0.6172\n",
            "Iteration 70\n"
          ]
        },
        {
          "output_type": "stream",
          "name": "stderr",
          "text": [
            "100%|██████████| 50/50 [02:57<00:00,  3.54s/it]\n"
          ]
        },
        {
          "output_type": "stream",
          "name": "stdout",
          "text": [
            "[2023-12-05 07:18:30] Evaluate_70: epoch = 0100 train time = 20 s train loss = 0.001430 train acc = 1.0000, test acc = 0.6018\n",
            "Iteration 71\n"
          ]
        },
        {
          "output_type": "stream",
          "name": "stderr",
          "text": [
            "100%|██████████| 50/50 [02:57<00:00,  3.55s/it]\n"
          ]
        },
        {
          "output_type": "stream",
          "name": "stdout",
          "text": [
            "[2023-12-05 07:21:49] Evaluate_71: epoch = 0100 train time = 20 s train loss = 0.009498 train acc = 1.0000, test acc = 0.5384\n",
            "Iteration 72\n"
          ]
        },
        {
          "output_type": "stream",
          "name": "stderr",
          "text": [
            "100%|██████████| 50/50 [02:57<00:00,  3.54s/it]\n"
          ]
        },
        {
          "output_type": "stream",
          "name": "stdout",
          "text": [
            "[2023-12-05 07:25:08] Evaluate_72: epoch = 0100 train time = 20 s train loss = 0.001769 train acc = 1.0000, test acc = 0.5977\n",
            "Iteration 73\n"
          ]
        },
        {
          "output_type": "stream",
          "name": "stderr",
          "text": [
            "100%|██████████| 50/50 [02:57<00:00,  3.55s/it]\n"
          ]
        },
        {
          "output_type": "stream",
          "name": "stdout",
          "text": [
            "[2023-12-05 07:28:27] Evaluate_73: epoch = 0100 train time = 20 s train loss = 0.008628 train acc = 1.0000, test acc = 0.5814\n",
            "Iteration 74\n"
          ]
        },
        {
          "output_type": "stream",
          "name": "stderr",
          "text": [
            "100%|██████████| 50/50 [02:57<00:00,  3.55s/it]\n"
          ]
        },
        {
          "output_type": "stream",
          "name": "stdout",
          "text": [
            "[2023-12-05 07:31:46] Evaluate_74: epoch = 0100 train time = 20 s train loss = 0.017611 train acc = 1.0000, test acc = 0.6018\n",
            "Iteration 75\n"
          ]
        },
        {
          "output_type": "stream",
          "name": "stderr",
          "text": [
            "100%|██████████| 50/50 [02:57<00:00,  3.55s/it]\n"
          ]
        },
        {
          "output_type": "stream",
          "name": "stdout",
          "text": [
            "[2023-12-05 07:35:05] Evaluate_75: epoch = 0100 train time = 20 s train loss = 0.000117 train acc = 1.0000, test acc = 0.5609\n",
            "Iteration 76\n"
          ]
        },
        {
          "output_type": "stream",
          "name": "stderr",
          "text": [
            "100%|██████████| 50/50 [02:57<00:00,  3.54s/it]\n"
          ]
        },
        {
          "output_type": "stream",
          "name": "stdout",
          "text": [
            "[2023-12-05 07:38:24] Evaluate_76: epoch = 0100 train time = 20 s train loss = 0.003129 train acc = 1.0000, test acc = 0.5558\n",
            "Iteration 77\n"
          ]
        },
        {
          "output_type": "stream",
          "name": "stderr",
          "text": [
            "100%|██████████| 50/50 [02:57<00:00,  3.55s/it]\n"
          ]
        },
        {
          "output_type": "stream",
          "name": "stdout",
          "text": [
            "[2023-12-05 07:41:43] Evaluate_77: epoch = 0100 train time = 20 s train loss = 0.010643 train acc = 1.0000, test acc = 0.5077\n",
            "Iteration 78\n"
          ]
        },
        {
          "output_type": "stream",
          "name": "stderr",
          "text": [
            "100%|██████████| 50/50 [02:57<00:00,  3.55s/it]\n"
          ]
        },
        {
          "output_type": "stream",
          "name": "stdout",
          "text": [
            "[2023-12-05 07:45:02] Evaluate_78: epoch = 0100 train time = 20 s train loss = 0.000260 train acc = 1.0000, test acc = 0.6612\n",
            "Iteration 79\n"
          ]
        },
        {
          "output_type": "stream",
          "name": "stderr",
          "text": [
            "100%|██████████| 50/50 [02:57<00:00,  3.55s/it]\n"
          ]
        },
        {
          "output_type": "stream",
          "name": "stdout",
          "text": [
            "[2023-12-05 07:48:22] Evaluate_79: epoch = 0100 train time = 20 s train loss = 0.002221 train acc = 1.0000, test acc = 0.5005\n",
            "Iteration 80\n"
          ]
        },
        {
          "output_type": "stream",
          "name": "stderr",
          "text": [
            "100%|██████████| 50/50 [02:57<00:00,  3.55s/it]\n"
          ]
        },
        {
          "output_type": "stream",
          "name": "stdout",
          "text": [
            "[2023-12-05 07:51:41] Evaluate_80: epoch = 0100 train time = 20 s train loss = 0.012989 train acc = 1.0000, test acc = 0.5937\n",
            "Iteration 81\n"
          ]
        },
        {
          "output_type": "stream",
          "name": "stderr",
          "text": [
            "100%|██████████| 50/50 [02:57<00:00,  3.55s/it]\n"
          ]
        },
        {
          "output_type": "stream",
          "name": "stdout",
          "text": [
            "[2023-12-05 07:55:00] Evaluate_81: epoch = 0100 train time = 20 s train loss = 0.004236 train acc = 1.0000, test acc = 0.5415\n",
            "Iteration 82\n"
          ]
        },
        {
          "output_type": "stream",
          "name": "stderr",
          "text": [
            "100%|██████████| 50/50 [02:57<00:00,  3.54s/it]\n"
          ]
        },
        {
          "output_type": "stream",
          "name": "stdout",
          "text": [
            "[2023-12-05 07:58:19] Evaluate_82: epoch = 0100 train time = 20 s train loss = 0.002684 train acc = 1.0000, test acc = 0.5640\n",
            "Iteration 83\n"
          ]
        },
        {
          "output_type": "stream",
          "name": "stderr",
          "text": [
            "100%|██████████| 50/50 [02:57<00:00,  3.55s/it]\n"
          ]
        },
        {
          "output_type": "stream",
          "name": "stdout",
          "text": [
            "[2023-12-05 08:01:39] Evaluate_83: epoch = 0100 train time = 20 s train loss = 0.002047 train acc = 1.0000, test acc = 0.4995\n",
            "Iteration 84\n"
          ]
        },
        {
          "output_type": "stream",
          "name": "stderr",
          "text": [
            "100%|██████████| 50/50 [02:57<00:00,  3.54s/it]\n"
          ]
        },
        {
          "output_type": "stream",
          "name": "stdout",
          "text": [
            "[2023-12-05 08:04:58] Evaluate_84: epoch = 0100 train time = 20 s train loss = 0.020697 train acc = 1.0000, test acc = 0.5906\n",
            "Iteration 85\n"
          ]
        },
        {
          "output_type": "stream",
          "name": "stderr",
          "text": [
            "100%|██████████| 50/50 [02:57<00:00,  3.55s/it]\n"
          ]
        },
        {
          "output_type": "stream",
          "name": "stdout",
          "text": [
            "[2023-12-05 08:08:17] Evaluate_85: epoch = 0100 train time = 20 s train loss = 0.003615 train acc = 1.0000, test acc = 0.5210\n",
            "Iteration 86\n"
          ]
        },
        {
          "output_type": "stream",
          "name": "stderr",
          "text": [
            "100%|██████████| 50/50 [02:57<00:00,  3.55s/it]\n"
          ]
        },
        {
          "output_type": "stream",
          "name": "stdout",
          "text": [
            "[2023-12-05 08:11:36] Evaluate_86: epoch = 0100 train time = 20 s train loss = 0.008141 train acc = 1.0000, test acc = 0.5507\n",
            "Iteration 87\n"
          ]
        },
        {
          "output_type": "stream",
          "name": "stderr",
          "text": [
            "100%|██████████| 50/50 [02:57<00:00,  3.55s/it]\n"
          ]
        },
        {
          "output_type": "stream",
          "name": "stdout",
          "text": [
            "[2023-12-05 08:14:55] Evaluate_87: epoch = 0100 train time = 20 s train loss = 0.002782 train acc = 1.0000, test acc = 0.5322\n",
            "Iteration 88\n"
          ]
        },
        {
          "output_type": "stream",
          "name": "stderr",
          "text": [
            "100%|██████████| 50/50 [02:57<00:00,  3.54s/it]\n"
          ]
        },
        {
          "output_type": "stream",
          "name": "stdout",
          "text": [
            "[2023-12-05 08:18:14] Evaluate_88: epoch = 0100 train time = 20 s train loss = 0.002085 train acc = 1.0000, test acc = 0.5026\n",
            "Iteration 89\n"
          ]
        },
        {
          "output_type": "stream",
          "name": "stderr",
          "text": [
            "100%|██████████| 50/50 [02:57<00:00,  3.54s/it]\n"
          ]
        },
        {
          "output_type": "stream",
          "name": "stdout",
          "text": [
            "[2023-12-05 08:21:33] Evaluate_89: epoch = 0100 train time = 20 s train loss = 0.000284 train acc = 1.0000, test acc = 0.6141\n",
            "Iteration 90\n"
          ]
        },
        {
          "output_type": "stream",
          "name": "stderr",
          "text": [
            "100%|██████████| 50/50 [02:57<00:00,  3.55s/it]\n"
          ]
        },
        {
          "output_type": "stream",
          "name": "stdout",
          "text": [
            "[2023-12-05 08:24:53] Evaluate_90: epoch = 0100 train time = 20 s train loss = 0.003000 train acc = 1.0000, test acc = 0.5292\n",
            "Iteration 91\n"
          ]
        },
        {
          "output_type": "stream",
          "name": "stderr",
          "text": [
            "100%|██████████| 50/50 [02:57<00:00,  3.55s/it]\n"
          ]
        },
        {
          "output_type": "stream",
          "name": "stdout",
          "text": [
            "[2023-12-05 08:28:12] Evaluate_91: epoch = 0100 train time = 20 s train loss = 0.002380 train acc = 1.0000, test acc = 0.5793\n",
            "Iteration 92\n"
          ]
        },
        {
          "output_type": "stream",
          "name": "stderr",
          "text": [
            "100%|██████████| 50/50 [02:57<00:00,  3.55s/it]\n"
          ]
        },
        {
          "output_type": "stream",
          "name": "stdout",
          "text": [
            "[2023-12-05 08:31:31] Evaluate_92: epoch = 0100 train time = 20 s train loss = 0.001634 train acc = 1.0000, test acc = 0.5916\n",
            "Iteration 93\n"
          ]
        },
        {
          "output_type": "stream",
          "name": "stderr",
          "text": [
            "100%|██████████| 50/50 [02:57<00:00,  3.55s/it]\n"
          ]
        },
        {
          "output_type": "stream",
          "name": "stdout",
          "text": [
            "[2023-12-05 08:34:50] Evaluate_93: epoch = 0100 train time = 20 s train loss = 0.004430 train acc = 1.0000, test acc = 0.5517\n",
            "Iteration 94\n"
          ]
        },
        {
          "output_type": "stream",
          "name": "stderr",
          "text": [
            "100%|██████████| 50/50 [02:57<00:00,  3.55s/it]\n"
          ]
        },
        {
          "output_type": "stream",
          "name": "stdout",
          "text": [
            "[2023-12-05 08:38:09] Evaluate_94: epoch = 0100 train time = 20 s train loss = 0.008268 train acc = 1.0000, test acc = 0.5384\n",
            "Iteration 95\n"
          ]
        },
        {
          "output_type": "stream",
          "name": "stderr",
          "text": [
            "100%|██████████| 50/50 [02:57<00:00,  3.54s/it]\n"
          ]
        },
        {
          "output_type": "stream",
          "name": "stdout",
          "text": [
            "[2023-12-05 08:41:28] Evaluate_95: epoch = 0100 train time = 20 s train loss = 0.002815 train acc = 1.0000, test acc = 0.5660\n",
            "Iteration 96\n"
          ]
        },
        {
          "output_type": "stream",
          "name": "stderr",
          "text": [
            "100%|██████████| 50/50 [02:56<00:00,  3.54s/it]\n"
          ]
        },
        {
          "output_type": "stream",
          "name": "stdout",
          "text": [
            "[2023-12-05 08:44:47] Evaluate_96: epoch = 0100 train time = 20 s train loss = 0.032256 train acc = 1.0000, test acc = 0.5609\n",
            "Iteration 97\n"
          ]
        },
        {
          "output_type": "stream",
          "name": "stderr",
          "text": [
            "100%|██████████| 50/50 [02:57<00:00,  3.54s/it]\n"
          ]
        },
        {
          "output_type": "stream",
          "name": "stdout",
          "text": [
            "[2023-12-05 08:48:06] Evaluate_97: epoch = 0100 train time = 20 s train loss = 0.008628 train acc = 1.0000, test acc = 0.5609\n",
            "Iteration 98\n"
          ]
        },
        {
          "output_type": "stream",
          "name": "stderr",
          "text": [
            "100%|██████████| 50/50 [02:56<00:00,  3.54s/it]\n"
          ]
        },
        {
          "output_type": "stream",
          "name": "stdout",
          "text": [
            "[2023-12-05 08:51:24] Evaluate_98: epoch = 0100 train time = 20 s train loss = 0.002628 train acc = 1.0000, test acc = 0.5650\n",
            "Iteration 99\n"
          ]
        },
        {
          "output_type": "stream",
          "name": "stderr",
          "text": [
            "100%|██████████| 50/50 [02:56<00:00,  3.54s/it]\n"
          ]
        },
        {
          "output_type": "stream",
          "name": "stdout",
          "text": [
            "[2023-12-05 08:54:43] Evaluate_99: epoch = 0100 train time = 20 s train loss = 0.002502 train acc = 1.0000, test acc = 0.5937\n",
            "Iteration 100\n"
          ]
        },
        {
          "output_type": "stream",
          "name": "stderr",
          "text": [
            "100%|██████████| 50/50 [02:56<00:00,  3.54s/it]\n"
          ]
        },
        {
          "output_type": "stream",
          "name": "stdout",
          "text": [
            "[2023-12-05 08:58:02] Evaluate_100: epoch = 0100 train time = 20 s train loss = 0.004550 train acc = 1.0000, test acc = 0.5292\n",
            "Iteration 101\n"
          ]
        },
        {
          "output_type": "stream",
          "name": "stderr",
          "text": [
            "100%|██████████| 50/50 [02:56<00:00,  3.54s/it]\n"
          ]
        },
        {
          "output_type": "stream",
          "name": "stdout",
          "text": [
            "[2023-12-05 09:01:21] Evaluate_101: epoch = 0100 train time = 20 s train loss = 0.001874 train acc = 1.0000, test acc = 0.6008\n",
            "Iteration 102\n"
          ]
        },
        {
          "output_type": "stream",
          "name": "stderr",
          "text": [
            "100%|██████████| 50/50 [02:56<00:00,  3.54s/it]\n"
          ]
        },
        {
          "output_type": "stream",
          "name": "stdout",
          "text": [
            "[2023-12-05 09:04:40] Evaluate_102: epoch = 0100 train time = 20 s train loss = 0.002635 train acc = 1.0000, test acc = 0.6274\n",
            "Iteration 103\n"
          ]
        },
        {
          "output_type": "stream",
          "name": "stderr",
          "text": [
            "100%|██████████| 50/50 [02:56<00:00,  3.54s/it]\n"
          ]
        },
        {
          "output_type": "stream",
          "name": "stdout",
          "text": [
            "[2023-12-05 09:07:58] Evaluate_103: epoch = 0100 train time = 20 s train loss = 0.006299 train acc = 1.0000, test acc = 0.5261\n",
            "Iteration 104\n"
          ]
        },
        {
          "output_type": "stream",
          "name": "stderr",
          "text": [
            "100%|██████████| 50/50 [02:56<00:00,  3.54s/it]\n"
          ]
        },
        {
          "output_type": "stream",
          "name": "stdout",
          "text": [
            "[2023-12-05 09:11:17] Evaluate_104: epoch = 0100 train time = 20 s train loss = 0.025773 train acc = 1.0000, test acc = 0.5711\n",
            "Iteration 105\n"
          ]
        },
        {
          "output_type": "stream",
          "name": "stderr",
          "text": [
            "100%|██████████| 50/50 [02:56<00:00,  3.54s/it]\n"
          ]
        },
        {
          "output_type": "stream",
          "name": "stdout",
          "text": [
            "[2023-12-05 09:14:36] Evaluate_105: epoch = 0100 train time = 20 s train loss = 0.001867 train acc = 1.0000, test acc = 0.4841\n",
            "Iteration 106\n"
          ]
        },
        {
          "output_type": "stream",
          "name": "stderr",
          "text": [
            "100%|██████████| 50/50 [02:56<00:00,  3.54s/it]\n"
          ]
        },
        {
          "output_type": "stream",
          "name": "stdout",
          "text": [
            "[2023-12-05 09:17:54] Evaluate_106: epoch = 0100 train time = 20 s train loss = 0.001280 train acc = 1.0000, test acc = 0.6213\n",
            "Iteration 107\n"
          ]
        },
        {
          "output_type": "stream",
          "name": "stderr",
          "text": [
            "100%|██████████| 50/50 [02:56<00:00,  3.54s/it]\n"
          ]
        },
        {
          "output_type": "stream",
          "name": "stdout",
          "text": [
            "[2023-12-05 09:21:13] Evaluate_107: epoch = 0100 train time = 20 s train loss = 0.003107 train acc = 1.0000, test acc = 0.5681\n",
            "Iteration 108\n"
          ]
        },
        {
          "output_type": "stream",
          "name": "stderr",
          "text": [
            "100%|██████████| 50/50 [02:56<00:00,  3.54s/it]\n"
          ]
        },
        {
          "output_type": "stream",
          "name": "stdout",
          "text": [
            "[2023-12-05 09:24:31] Evaluate_108: epoch = 0100 train time = 20 s train loss = 0.002465 train acc = 1.0000, test acc = 0.5691\n",
            "Iteration 109\n"
          ]
        },
        {
          "output_type": "stream",
          "name": "stderr",
          "text": [
            "100%|██████████| 50/50 [02:56<00:00,  3.54s/it]\n"
          ]
        },
        {
          "output_type": "stream",
          "name": "stdout",
          "text": [
            "[2023-12-05 09:27:50] Evaluate_109: epoch = 0100 train time = 20 s train loss = 0.003720 train acc = 1.0000, test acc = 0.5189\n",
            "Iteration 110\n"
          ]
        },
        {
          "output_type": "stream",
          "name": "stderr",
          "text": [
            "100%|██████████| 50/50 [02:56<00:00,  3.54s/it]\n"
          ]
        },
        {
          "output_type": "stream",
          "name": "stdout",
          "text": [
            "[2023-12-05 09:31:09] Evaluate_110: epoch = 0100 train time = 20 s train loss = 0.003690 train acc = 1.0000, test acc = 0.5711\n",
            "Iteration 111\n"
          ]
        },
        {
          "output_type": "stream",
          "name": "stderr",
          "text": [
            "100%|██████████| 50/50 [02:57<00:00,  3.54s/it]\n"
          ]
        },
        {
          "output_type": "stream",
          "name": "stdout",
          "text": [
            "[2023-12-05 09:34:28] Evaluate_111: epoch = 0100 train time = 20 s train loss = 0.035656 train acc = 1.0000, test acc = 0.4872\n",
            "Iteration 112\n"
          ]
        },
        {
          "output_type": "stream",
          "name": "stderr",
          "text": [
            "100%|██████████| 50/50 [02:57<00:00,  3.55s/it]\n"
          ]
        },
        {
          "output_type": "stream",
          "name": "stdout",
          "text": [
            "[2023-12-05 09:37:47] Evaluate_112: epoch = 0100 train time = 20 s train loss = 0.000528 train acc = 1.0000, test acc = 0.5681\n",
            "Iteration 113\n"
          ]
        },
        {
          "output_type": "stream",
          "name": "stderr",
          "text": [
            "100%|██████████| 50/50 [02:57<00:00,  3.55s/it]\n"
          ]
        },
        {
          "output_type": "stream",
          "name": "stdout",
          "text": [
            "[2023-12-05 09:41:07] Evaluate_113: epoch = 0100 train time = 20 s train loss = 0.002356 train acc = 1.0000, test acc = 0.5322\n",
            "Iteration 114\n"
          ]
        },
        {
          "output_type": "stream",
          "name": "stderr",
          "text": [
            "100%|██████████| 50/50 [02:57<00:00,  3.55s/it]\n"
          ]
        },
        {
          "output_type": "stream",
          "name": "stdout",
          "text": [
            "[2023-12-05 09:44:26] Evaluate_114: epoch = 0100 train time = 20 s train loss = 0.005690 train acc = 1.0000, test acc = 0.5640\n",
            "Iteration 115\n"
          ]
        },
        {
          "output_type": "stream",
          "name": "stderr",
          "text": [
            "100%|██████████| 50/50 [02:57<00:00,  3.55s/it]\n"
          ]
        },
        {
          "output_type": "stream",
          "name": "stdout",
          "text": [
            "[2023-12-05 09:47:45] Evaluate_115: epoch = 0100 train time = 20 s train loss = 0.051218 train acc = 1.0000, test acc = 0.5220\n",
            "Iteration 116\n"
          ]
        },
        {
          "output_type": "stream",
          "name": "stderr",
          "text": [
            "100%|██████████| 50/50 [02:57<00:00,  3.55s/it]\n"
          ]
        },
        {
          "output_type": "stream",
          "name": "stdout",
          "text": [
            "[2023-12-05 09:51:04] Evaluate_116: epoch = 0100 train time = 20 s train loss = 0.004777 train acc = 1.0000, test acc = 0.5374\n",
            "Iteration 117\n"
          ]
        },
        {
          "output_type": "stream",
          "name": "stderr",
          "text": [
            "100%|██████████| 50/50 [02:57<00:00,  3.55s/it]\n"
          ]
        },
        {
          "output_type": "stream",
          "name": "stdout",
          "text": [
            "[2023-12-05 09:54:23] Evaluate_117: epoch = 0100 train time = 20 s train loss = 0.002490 train acc = 1.0000, test acc = 0.5722\n",
            "Iteration 118\n"
          ]
        },
        {
          "output_type": "stream",
          "name": "stderr",
          "text": [
            "100%|██████████| 50/50 [02:57<00:00,  3.55s/it]\n"
          ]
        },
        {
          "output_type": "stream",
          "name": "stdout",
          "text": [
            "[2023-12-05 09:57:42] Evaluate_118: epoch = 0100 train time = 20 s train loss = 0.033830 train acc = 1.0000, test acc = 0.5517\n",
            "Iteration 119\n"
          ]
        },
        {
          "output_type": "stream",
          "name": "stderr",
          "text": [
            "100%|██████████| 50/50 [02:57<00:00,  3.55s/it]\n"
          ]
        },
        {
          "output_type": "stream",
          "name": "stdout",
          "text": [
            "[2023-12-05 10:01:01] Evaluate_119: epoch = 0100 train time = 20 s train loss = 0.002339 train acc = 1.0000, test acc = 0.6039\n",
            "Iteration 120\n"
          ]
        },
        {
          "output_type": "stream",
          "name": "stderr",
          "text": [
            "100%|██████████| 50/50 [02:57<00:00,  3.55s/it]\n"
          ]
        },
        {
          "output_type": "stream",
          "name": "stdout",
          "text": [
            "[2023-12-05 10:04:21] Evaluate_120: epoch = 0100 train time = 20 s train loss = 0.006282 train acc = 1.0000, test acc = 0.5384\n",
            "Iteration 121\n"
          ]
        },
        {
          "output_type": "stream",
          "name": "stderr",
          "text": [
            "100%|██████████| 50/50 [02:57<00:00,  3.55s/it]\n"
          ]
        },
        {
          "output_type": "stream",
          "name": "stdout",
          "text": [
            "[2023-12-05 10:07:40] Evaluate_121: epoch = 0100 train time = 20 s train loss = 0.002725 train acc = 1.0000, test acc = 0.5865\n",
            "Iteration 122\n"
          ]
        },
        {
          "output_type": "stream",
          "name": "stderr",
          "text": [
            "100%|██████████| 50/50 [02:57<00:00,  3.54s/it]\n"
          ]
        },
        {
          "output_type": "stream",
          "name": "stdout",
          "text": [
            "[2023-12-05 10:10:59] Evaluate_122: epoch = 0100 train time = 20 s train loss = 0.001900 train acc = 1.0000, test acc = 0.5425\n",
            "Iteration 123\n"
          ]
        },
        {
          "output_type": "stream",
          "name": "stderr",
          "text": [
            "100%|██████████| 50/50 [02:57<00:00,  3.54s/it]\n"
          ]
        },
        {
          "output_type": "stream",
          "name": "stdout",
          "text": [
            "[2023-12-05 10:14:18] Evaluate_123: epoch = 0100 train time = 20 s train loss = 0.002173 train acc = 1.0000, test acc = 0.5056\n",
            "Iteration 124\n"
          ]
        },
        {
          "output_type": "stream",
          "name": "stderr",
          "text": [
            "100%|██████████| 50/50 [02:57<00:00,  3.54s/it]\n"
          ]
        },
        {
          "output_type": "stream",
          "name": "stdout",
          "text": [
            "[2023-12-05 10:17:37] Evaluate_124: epoch = 0100 train time = 20 s train loss = 0.008838 train acc = 1.0000, test acc = 0.5230\n",
            "Iteration 125\n"
          ]
        },
        {
          "output_type": "stream",
          "name": "stderr",
          "text": [
            "100%|██████████| 50/50 [02:57<00:00,  3.54s/it]\n"
          ]
        },
        {
          "output_type": "stream",
          "name": "stdout",
          "text": [
            "[2023-12-05 10:20:56] Evaluate_125: epoch = 0100 train time = 20 s train loss = 0.025653 train acc = 1.0000, test acc = 0.5455\n",
            "Iteration 126\n"
          ]
        },
        {
          "output_type": "stream",
          "name": "stderr",
          "text": [
            "100%|██████████| 50/50 [02:57<00:00,  3.54s/it]\n"
          ]
        },
        {
          "output_type": "stream",
          "name": "stdout",
          "text": [
            "[2023-12-05 10:24:15] Evaluate_126: epoch = 0100 train time = 20 s train loss = 0.084926 train acc = 1.0000, test acc = 0.4217\n",
            "Iteration 127\n"
          ]
        },
        {
          "output_type": "stream",
          "name": "stderr",
          "text": [
            "100%|██████████| 50/50 [02:57<00:00,  3.54s/it]\n"
          ]
        },
        {
          "output_type": "stream",
          "name": "stdout",
          "text": [
            "[2023-12-05 10:27:34] Evaluate_127: epoch = 0100 train time = 20 s train loss = 0.003035 train acc = 1.0000, test acc = 0.6182\n",
            "Iteration 128\n"
          ]
        },
        {
          "output_type": "stream",
          "name": "stderr",
          "text": [
            "100%|██████████| 50/50 [02:57<00:00,  3.55s/it]\n"
          ]
        },
        {
          "output_type": "stream",
          "name": "stdout",
          "text": [
            "[2023-12-05 10:30:53] Evaluate_128: epoch = 0100 train time = 20 s train loss = 0.000246 train acc = 1.0000, test acc = 0.5937\n",
            "Iteration 129\n"
          ]
        },
        {
          "output_type": "stream",
          "name": "stderr",
          "text": [
            "100%|██████████| 50/50 [02:57<00:00,  3.55s/it]\n"
          ]
        },
        {
          "output_type": "stream",
          "name": "stdout",
          "text": [
            "[2023-12-05 10:34:12] Evaluate_129: epoch = 0100 train time = 20 s train loss = 0.008526 train acc = 1.0000, test acc = 0.5026\n",
            "Iteration 130\n"
          ]
        },
        {
          "output_type": "stream",
          "name": "stderr",
          "text": [
            "100%|██████████| 50/50 [02:57<00:00,  3.54s/it]\n"
          ]
        },
        {
          "output_type": "stream",
          "name": "stdout",
          "text": [
            "[2023-12-05 10:37:32] Evaluate_130: epoch = 0100 train time = 20 s train loss = 0.002815 train acc = 1.0000, test acc = 0.5046\n",
            "Iteration 131\n"
          ]
        },
        {
          "output_type": "stream",
          "name": "stderr",
          "text": [
            "100%|██████████| 50/50 [02:57<00:00,  3.55s/it]\n"
          ]
        },
        {
          "output_type": "stream",
          "name": "stdout",
          "text": [
            "[2023-12-05 10:40:51] Evaluate_131: epoch = 0100 train time = 20 s train loss = 0.001994 train acc = 1.0000, test acc = 0.5629\n",
            "Iteration 132\n"
          ]
        },
        {
          "output_type": "stream",
          "name": "stderr",
          "text": [
            "100%|██████████| 50/50 [02:57<00:00,  3.54s/it]\n"
          ]
        },
        {
          "output_type": "stream",
          "name": "stdout",
          "text": [
            "[2023-12-05 10:44:10] Evaluate_132: epoch = 0100 train time = 20 s train loss = 0.002813 train acc = 1.0000, test acc = 0.5578\n",
            "Iteration 133\n"
          ]
        },
        {
          "output_type": "stream",
          "name": "stderr",
          "text": [
            "100%|██████████| 50/50 [02:57<00:00,  3.55s/it]\n"
          ]
        },
        {
          "output_type": "stream",
          "name": "stdout",
          "text": [
            "[2023-12-05 10:47:29] Evaluate_133: epoch = 0100 train time = 20 s train loss = 0.003715 train acc = 1.0000, test acc = 0.5036\n",
            "Iteration 134\n"
          ]
        },
        {
          "output_type": "stream",
          "name": "stderr",
          "text": [
            "100%|██████████| 50/50 [02:57<00:00,  3.55s/it]\n"
          ]
        },
        {
          "output_type": "stream",
          "name": "stdout",
          "text": [
            "[2023-12-05 10:50:48] Evaluate_134: epoch = 0100 train time = 20 s train loss = 0.002243 train acc = 1.0000, test acc = 0.6131\n",
            "Iteration 135\n"
          ]
        },
        {
          "output_type": "stream",
          "name": "stderr",
          "text": [
            "100%|██████████| 50/50 [02:57<00:00,  3.54s/it]\n"
          ]
        },
        {
          "output_type": "stream",
          "name": "stdout",
          "text": [
            "[2023-12-05 10:54:07] Evaluate_135: epoch = 0100 train time = 20 s train loss = 0.003973 train acc = 1.0000, test acc = 0.5384\n",
            "Iteration 136\n"
          ]
        },
        {
          "output_type": "stream",
          "name": "stderr",
          "text": [
            "100%|██████████| 50/50 [02:57<00:00,  3.55s/it]\n"
          ]
        },
        {
          "output_type": "stream",
          "name": "stdout",
          "text": [
            "[2023-12-05 10:57:26] Evaluate_136: epoch = 0100 train time = 20 s train loss = 0.018494 train acc = 1.0000, test acc = 0.4852\n",
            "Iteration 137\n"
          ]
        },
        {
          "output_type": "stream",
          "name": "stderr",
          "text": [
            "100%|██████████| 50/50 [02:57<00:00,  3.55s/it]\n"
          ]
        },
        {
          "output_type": "stream",
          "name": "stdout",
          "text": [
            "[2023-12-05 11:00:46] Evaluate_137: epoch = 0100 train time = 20 s train loss = 0.002187 train acc = 1.0000, test acc = 0.5711\n",
            "Iteration 138\n"
          ]
        },
        {
          "output_type": "stream",
          "name": "stderr",
          "text": [
            "100%|██████████| 50/50 [02:57<00:00,  3.55s/it]\n"
          ]
        },
        {
          "output_type": "stream",
          "name": "stdout",
          "text": [
            "[2023-12-05 11:04:05] Evaluate_138: epoch = 0100 train time = 20 s train loss = 0.002628 train acc = 1.0000, test acc = 0.5660\n",
            "Iteration 139\n"
          ]
        },
        {
          "output_type": "stream",
          "name": "stderr",
          "text": [
            "100%|██████████| 50/50 [02:57<00:00,  3.55s/it]\n"
          ]
        },
        {
          "output_type": "stream",
          "name": "stdout",
          "text": [
            "[2023-12-05 11:07:24] Evaluate_139: epoch = 0100 train time = 20 s train loss = 0.006287 train acc = 1.0000, test acc = 0.5517\n",
            "Iteration 140\n"
          ]
        },
        {
          "output_type": "stream",
          "name": "stderr",
          "text": [
            "100%|██████████| 50/50 [02:57<00:00,  3.55s/it]\n"
          ]
        },
        {
          "output_type": "stream",
          "name": "stdout",
          "text": [
            "[2023-12-05 11:10:43] Evaluate_140: epoch = 0100 train time = 20 s train loss = 0.002819 train acc = 1.0000, test acc = 0.4923\n",
            "Iteration 141\n"
          ]
        },
        {
          "output_type": "stream",
          "name": "stderr",
          "text": [
            "100%|██████████| 50/50 [02:57<00:00,  3.55s/it]\n"
          ]
        },
        {
          "output_type": "stream",
          "name": "stdout",
          "text": [
            "[2023-12-05 11:14:03] Evaluate_141: epoch = 0100 train time = 20 s train loss = 0.006495 train acc = 1.0000, test acc = 0.5640\n",
            "Iteration 142\n"
          ]
        },
        {
          "output_type": "stream",
          "name": "stderr",
          "text": [
            "100%|██████████| 50/50 [02:57<00:00,  3.54s/it]\n"
          ]
        },
        {
          "output_type": "stream",
          "name": "stdout",
          "text": [
            "[2023-12-05 11:17:22] Evaluate_142: epoch = 0100 train time = 20 s train loss = 0.003367 train acc = 1.0000, test acc = 0.5015\n",
            "Iteration 143\n"
          ]
        },
        {
          "output_type": "stream",
          "name": "stderr",
          "text": [
            "100%|██████████| 50/50 [02:57<00:00,  3.55s/it]\n"
          ]
        },
        {
          "output_type": "stream",
          "name": "stdout",
          "text": [
            "[2023-12-05 11:20:41] Evaluate_143: epoch = 0100 train time = 20 s train loss = 0.000759 train acc = 1.0000, test acc = 0.6244\n",
            "Iteration 144\n"
          ]
        },
        {
          "output_type": "stream",
          "name": "stderr",
          "text": [
            "100%|██████████| 50/50 [02:57<00:00,  3.55s/it]\n"
          ]
        },
        {
          "output_type": "stream",
          "name": "stdout",
          "text": [
            "[2023-12-05 11:24:00] Evaluate_144: epoch = 0100 train time = 20 s train loss = 0.004348 train acc = 1.0000, test acc = 0.4647\n",
            "Iteration 145\n"
          ]
        },
        {
          "output_type": "stream",
          "name": "stderr",
          "text": [
            "100%|██████████| 50/50 [02:57<00:00,  3.55s/it]\n"
          ]
        },
        {
          "output_type": "stream",
          "name": "stdout",
          "text": [
            "[2023-12-05 11:27:19] Evaluate_145: epoch = 0100 train time = 20 s train loss = 0.001930 train acc = 1.0000, test acc = 0.5097\n",
            "Iteration 146\n"
          ]
        },
        {
          "output_type": "stream",
          "name": "stderr",
          "text": [
            "100%|██████████| 50/50 [02:57<00:00,  3.54s/it]\n"
          ]
        },
        {
          "output_type": "stream",
          "name": "stdout",
          "text": [
            "[2023-12-05 11:30:38] Evaluate_146: epoch = 0100 train time = 20 s train loss = 0.026415 train acc = 1.0000, test acc = 0.5374\n",
            "Iteration 147\n"
          ]
        },
        {
          "output_type": "stream",
          "name": "stderr",
          "text": [
            "100%|██████████| 50/50 [02:57<00:00,  3.55s/it]\n"
          ]
        },
        {
          "output_type": "stream",
          "name": "stdout",
          "text": [
            "[2023-12-05 11:33:57] Evaluate_147: epoch = 0100 train time = 20 s train loss = 0.001772 train acc = 1.0000, test acc = 0.5210\n",
            "Iteration 148\n"
          ]
        },
        {
          "output_type": "stream",
          "name": "stderr",
          "text": [
            "100%|██████████| 50/50 [02:57<00:00,  3.55s/it]\n"
          ]
        },
        {
          "output_type": "stream",
          "name": "stdout",
          "text": [
            "[2023-12-05 11:37:16] Evaluate_148: epoch = 0100 train time = 20 s train loss = 0.001431 train acc = 1.0000, test acc = 0.5589\n",
            "Iteration 149\n"
          ]
        },
        {
          "output_type": "stream",
          "name": "stderr",
          "text": [
            "100%|██████████| 50/50 [02:57<00:00,  3.55s/it]\n"
          ]
        },
        {
          "output_type": "stream",
          "name": "stdout",
          "text": [
            "[2023-12-05 11:40:35] Evaluate_149: epoch = 0100 train time = 20 s train loss = 0.002686 train acc = 1.0000, test acc = 0.5548\n",
            "Iteration 150\n"
          ]
        },
        {
          "output_type": "stream",
          "name": "stderr",
          "text": [
            "100%|██████████| 50/50 [02:57<00:00,  3.54s/it]\n"
          ]
        },
        {
          "output_type": "stream",
          "name": "stdout",
          "text": [
            "[2023-12-05 11:43:55] Evaluate_150: epoch = 0100 train time = 20 s train loss = 0.002556 train acc = 1.0000, test acc = 0.5855\n",
            "Iteration 151\n"
          ]
        },
        {
          "output_type": "stream",
          "name": "stderr",
          "text": [
            "100%|██████████| 50/50 [02:57<00:00,  3.55s/it]\n"
          ]
        },
        {
          "output_type": "stream",
          "name": "stdout",
          "text": [
            "[2023-12-05 11:47:14] Evaluate_151: epoch = 0100 train time = 20 s train loss = 0.001625 train acc = 1.0000, test acc = 0.5496\n",
            "Iteration 152\n"
          ]
        },
        {
          "output_type": "stream",
          "name": "stderr",
          "text": [
            "100%|██████████| 50/50 [02:57<00:00,  3.55s/it]\n"
          ]
        },
        {
          "output_type": "stream",
          "name": "stdout",
          "text": [
            "[2023-12-05 11:50:33] Evaluate_152: epoch = 0100 train time = 20 s train loss = 0.107844 train acc = 1.0000, test acc = 0.5476\n",
            "Iteration 153\n"
          ]
        },
        {
          "output_type": "stream",
          "name": "stderr",
          "text": [
            "100%|██████████| 50/50 [02:57<00:00,  3.55s/it]\n"
          ]
        },
        {
          "output_type": "stream",
          "name": "stdout",
          "text": [
            "[2023-12-05 11:53:52] Evaluate_153: epoch = 0100 train time = 20 s train loss = 0.022054 train acc = 1.0000, test acc = 0.4667\n",
            "Iteration 154\n"
          ]
        },
        {
          "output_type": "stream",
          "name": "stderr",
          "text": [
            "100%|██████████| 50/50 [02:57<00:00,  3.54s/it]\n"
          ]
        },
        {
          "output_type": "stream",
          "name": "stdout",
          "text": [
            "[2023-12-05 11:57:11] Evaluate_154: epoch = 0100 train time = 20 s train loss = 0.002196 train acc = 1.0000, test acc = 0.5312\n",
            "Iteration 155\n"
          ]
        },
        {
          "output_type": "stream",
          "name": "stderr",
          "text": [
            "100%|██████████| 50/50 [02:57<00:00,  3.54s/it]\n"
          ]
        },
        {
          "output_type": "stream",
          "name": "stdout",
          "text": [
            "[2023-12-05 12:00:30] Evaluate_155: epoch = 0100 train time = 20 s train loss = 0.003713 train acc = 1.0000, test acc = 0.5005\n",
            "Iteration 156\n"
          ]
        },
        {
          "output_type": "stream",
          "name": "stderr",
          "text": [
            "100%|██████████| 50/50 [02:57<00:00,  3.55s/it]\n"
          ]
        },
        {
          "output_type": "stream",
          "name": "stdout",
          "text": [
            "[2023-12-05 12:03:49] Evaluate_156: epoch = 0100 train time = 20 s train loss = 0.011387 train acc = 1.0000, test acc = 0.5476\n",
            "Iteration 157\n"
          ]
        },
        {
          "output_type": "stream",
          "name": "stderr",
          "text": [
            "100%|██████████| 50/50 [02:57<00:00,  3.55s/it]\n"
          ]
        },
        {
          "output_type": "stream",
          "name": "stdout",
          "text": [
            "[2023-12-05 12:07:08] Evaluate_157: epoch = 0100 train time = 20 s train loss = 0.004299 train acc = 1.0000, test acc = 0.5435\n",
            "Iteration 158\n"
          ]
        },
        {
          "output_type": "stream",
          "name": "stderr",
          "text": [
            "100%|██████████| 50/50 [02:57<00:00,  3.55s/it]\n"
          ]
        },
        {
          "output_type": "stream",
          "name": "stdout",
          "text": [
            "[2023-12-05 12:10:28] Evaluate_158: epoch = 0100 train time = 20 s train loss = 0.002376 train acc = 1.0000, test acc = 0.5947\n",
            "Iteration 159\n"
          ]
        },
        {
          "output_type": "stream",
          "name": "stderr",
          "text": [
            "100%|██████████| 50/50 [02:57<00:00,  3.54s/it]\n"
          ]
        },
        {
          "output_type": "stream",
          "name": "stdout",
          "text": [
            "[2023-12-05 12:13:47] Evaluate_159: epoch = 0100 train time = 20 s train loss = 0.005536 train acc = 1.0000, test acc = 0.4708\n",
            "Iteration 160\n"
          ]
        },
        {
          "output_type": "stream",
          "name": "stderr",
          "text": [
            "100%|██████████| 50/50 [02:57<00:00,  3.55s/it]\n"
          ]
        },
        {
          "output_type": "stream",
          "name": "stdout",
          "text": [
            "[2023-12-05 12:17:06] Evaluate_160: epoch = 0100 train time = 20 s train loss = 0.003905 train acc = 1.0000, test acc = 0.5046\n",
            "Iteration 161\n"
          ]
        },
        {
          "output_type": "stream",
          "name": "stderr",
          "text": [
            "100%|██████████| 50/50 [02:57<00:00,  3.55s/it]\n"
          ]
        },
        {
          "output_type": "stream",
          "name": "stdout",
          "text": [
            "[2023-12-05 12:20:26] Evaluate_161: epoch = 0100 train time = 20 s train loss = 0.003994 train acc = 1.0000, test acc = 0.4463\n",
            "Iteration 162\n"
          ]
        },
        {
          "output_type": "stream",
          "name": "stderr",
          "text": [
            "100%|██████████| 50/50 [02:57<00:00,  3.55s/it]\n"
          ]
        },
        {
          "output_type": "stream",
          "name": "stdout",
          "text": [
            "[2023-12-05 12:23:45] Evaluate_162: epoch = 0100 train time = 20 s train loss = 0.055663 train acc = 1.0000, test acc = 0.4852\n",
            "Iteration 163\n"
          ]
        },
        {
          "output_type": "stream",
          "name": "stderr",
          "text": [
            "100%|██████████| 50/50 [02:57<00:00,  3.55s/it]\n"
          ]
        },
        {
          "output_type": "stream",
          "name": "stdout",
          "text": [
            "[2023-12-05 12:27:04] Evaluate_163: epoch = 0100 train time = 20 s train loss = 0.003680 train acc = 1.0000, test acc = 0.4862\n",
            "Iteration 164\n"
          ]
        },
        {
          "output_type": "stream",
          "name": "stderr",
          "text": [
            "100%|██████████| 50/50 [02:57<00:00,  3.55s/it]\n"
          ]
        },
        {
          "output_type": "stream",
          "name": "stdout",
          "text": [
            "[2023-12-05 12:30:23] Evaluate_164: epoch = 0100 train time = 20 s train loss = 0.004607 train acc = 1.0000, test acc = 0.5599\n",
            "Iteration 165\n"
          ]
        },
        {
          "output_type": "stream",
          "name": "stderr",
          "text": [
            "100%|██████████| 50/50 [02:57<00:00,  3.55s/it]\n"
          ]
        },
        {
          "output_type": "stream",
          "name": "stdout",
          "text": [
            "[2023-12-05 12:33:42] Evaluate_165: epoch = 0100 train time = 20 s train loss = 0.006305 train acc = 1.0000, test acc = 0.6029\n",
            "Iteration 166\n"
          ]
        },
        {
          "output_type": "stream",
          "name": "stderr",
          "text": [
            "100%|██████████| 50/50 [02:57<00:00,  3.55s/it]\n"
          ]
        },
        {
          "output_type": "stream",
          "name": "stdout",
          "text": [
            "[2023-12-05 12:37:01] Evaluate_166: epoch = 0100 train time = 20 s train loss = 0.004684 train acc = 1.0000, test acc = 0.4585\n",
            "Iteration 167\n"
          ]
        },
        {
          "output_type": "stream",
          "name": "stderr",
          "text": [
            "100%|██████████| 50/50 [02:57<00:00,  3.55s/it]\n"
          ]
        },
        {
          "output_type": "stream",
          "name": "stdout",
          "text": [
            "[2023-12-05 12:40:20] Evaluate_167: epoch = 0100 train time = 20 s train loss = 0.010248 train acc = 1.0000, test acc = 0.5251\n",
            "Iteration 168\n"
          ]
        },
        {
          "output_type": "stream",
          "name": "stderr",
          "text": [
            "100%|██████████| 50/50 [02:57<00:00,  3.54s/it]\n"
          ]
        },
        {
          "output_type": "stream",
          "name": "stdout",
          "text": [
            "[2023-12-05 12:43:39] Evaluate_168: epoch = 0100 train time = 20 s train loss = 0.055263 train acc = 1.0000, test acc = 0.3889\n",
            "Iteration 169\n"
          ]
        },
        {
          "output_type": "stream",
          "name": "stderr",
          "text": [
            "100%|██████████| 50/50 [02:57<00:00,  3.54s/it]\n"
          ]
        },
        {
          "output_type": "stream",
          "name": "stdout",
          "text": [
            "[2023-12-05 12:46:58] Evaluate_169: epoch = 0100 train time = 20 s train loss = 0.082568 train acc = 1.0000, test acc = 0.4176\n",
            "Iteration 170\n"
          ]
        },
        {
          "output_type": "stream",
          "name": "stderr",
          "text": [
            "100%|██████████| 50/50 [02:57<00:00,  3.55s/it]\n"
          ]
        },
        {
          "output_type": "stream",
          "name": "stdout",
          "text": [
            "[2023-12-05 12:50:18] Evaluate_170: epoch = 0100 train time = 20 s train loss = 0.018129 train acc = 1.0000, test acc = 0.4698\n",
            "Iteration 171\n"
          ]
        },
        {
          "output_type": "stream",
          "name": "stderr",
          "text": [
            "100%|██████████| 50/50 [02:57<00:00,  3.54s/it]\n"
          ]
        },
        {
          "output_type": "stream",
          "name": "stdout",
          "text": [
            "[2023-12-05 12:53:37] Evaluate_171: epoch = 0100 train time = 20 s train loss = 0.000219 train acc = 1.0000, test acc = 0.5865\n",
            "Iteration 172\n"
          ]
        },
        {
          "output_type": "stream",
          "name": "stderr",
          "text": [
            "100%|██████████| 50/50 [02:57<00:00,  3.55s/it]\n"
          ]
        },
        {
          "output_type": "stream",
          "name": "stdout",
          "text": [
            "[2023-12-05 12:56:56] Evaluate_172: epoch = 0100 train time = 20 s train loss = 0.002356 train acc = 1.0000, test acc = 0.5793\n",
            "Iteration 173\n"
          ]
        },
        {
          "output_type": "stream",
          "name": "stderr",
          "text": [
            "100%|██████████| 50/50 [02:57<00:00,  3.54s/it]\n"
          ]
        },
        {
          "output_type": "stream",
          "name": "stdout",
          "text": [
            "[2023-12-05 13:00:15] Evaluate_173: epoch = 0100 train time = 20 s train loss = 0.001983 train acc = 1.0000, test acc = 0.4759\n",
            "Iteration 174\n"
          ]
        },
        {
          "output_type": "stream",
          "name": "stderr",
          "text": [
            "100%|██████████| 50/50 [02:57<00:00,  3.55s/it]\n"
          ]
        },
        {
          "output_type": "stream",
          "name": "stdout",
          "text": [
            "[2023-12-05 13:03:34] Evaluate_174: epoch = 0100 train time = 20 s train loss = 0.002524 train acc = 1.0000, test acc = 0.4749\n",
            "Iteration 175\n"
          ]
        },
        {
          "output_type": "stream",
          "name": "stderr",
          "text": [
            "100%|██████████| 50/50 [02:57<00:00,  3.55s/it]\n"
          ]
        },
        {
          "output_type": "stream",
          "name": "stdout",
          "text": [
            "[2023-12-05 13:06:53] Evaluate_175: epoch = 0100 train time = 20 s train loss = 0.003758 train acc = 1.0000, test acc = 0.5486\n",
            "Iteration 176\n"
          ]
        },
        {
          "output_type": "stream",
          "name": "stderr",
          "text": [
            "100%|██████████| 50/50 [02:57<00:00,  3.55s/it]\n"
          ]
        },
        {
          "output_type": "stream",
          "name": "stdout",
          "text": [
            "[2023-12-05 13:10:12] Evaluate_176: epoch = 0100 train time = 20 s train loss = 0.030628 train acc = 1.0000, test acc = 0.5609\n",
            "Iteration 177\n"
          ]
        },
        {
          "output_type": "stream",
          "name": "stderr",
          "text": [
            "100%|██████████| 50/50 [02:57<00:00,  3.54s/it]\n"
          ]
        },
        {
          "output_type": "stream",
          "name": "stdout",
          "text": [
            "[2023-12-05 13:13:31] Evaluate_177: epoch = 0100 train time = 20 s train loss = 0.004789 train acc = 1.0000, test acc = 0.5875\n",
            "Iteration 178\n"
          ]
        },
        {
          "output_type": "stream",
          "name": "stderr",
          "text": [
            "100%|██████████| 50/50 [02:57<00:00,  3.55s/it]\n"
          ]
        },
        {
          "output_type": "stream",
          "name": "stdout",
          "text": [
            "[2023-12-05 13:16:51] Evaluate_178: epoch = 0100 train time = 20 s train loss = 0.005048 train acc = 1.0000, test acc = 0.5026\n",
            "Iteration 179\n"
          ]
        },
        {
          "output_type": "stream",
          "name": "stderr",
          "text": [
            "100%|██████████| 50/50 [02:57<00:00,  3.54s/it]\n"
          ]
        },
        {
          "output_type": "stream",
          "name": "stdout",
          "text": [
            "[2023-12-05 13:20:10] Evaluate_179: epoch = 0100 train time = 20 s train loss = 0.020634 train acc = 1.0000, test acc = 0.5230\n",
            "Iteration 180\n"
          ]
        },
        {
          "output_type": "stream",
          "name": "stderr",
          "text": [
            "100%|██████████| 50/50 [02:57<00:00,  3.54s/it]\n"
          ]
        },
        {
          "output_type": "stream",
          "name": "stdout",
          "text": [
            "[2023-12-05 13:23:29] Evaluate_180: epoch = 0100 train time = 20 s train loss = 0.005475 train acc = 1.0000, test acc = 0.5476\n",
            "Iteration 181\n"
          ]
        },
        {
          "output_type": "stream",
          "name": "stderr",
          "text": [
            "100%|██████████| 50/50 [02:57<00:00,  3.55s/it]\n"
          ]
        },
        {
          "output_type": "stream",
          "name": "stdout",
          "text": [
            "[2023-12-05 13:26:48] Evaluate_181: epoch = 0100 train time = 20 s train loss = 0.003759 train acc = 1.0000, test acc = 0.5650\n",
            "Iteration 182\n"
          ]
        },
        {
          "output_type": "stream",
          "name": "stderr",
          "text": [
            "100%|██████████| 50/50 [02:57<00:00,  3.55s/it]\n"
          ]
        },
        {
          "output_type": "stream",
          "name": "stdout",
          "text": [
            "[2023-12-05 13:30:07] Evaluate_182: epoch = 0100 train time = 20 s train loss = 0.004928 train acc = 1.0000, test acc = 0.5322\n",
            "Iteration 183\n"
          ]
        },
        {
          "output_type": "stream",
          "name": "stderr",
          "text": [
            "100%|██████████| 50/50 [02:57<00:00,  3.55s/it]\n"
          ]
        },
        {
          "output_type": "stream",
          "name": "stdout",
          "text": [
            "[2023-12-05 13:33:26] Evaluate_183: epoch = 0100 train time = 20 s train loss = 0.006628 train acc = 1.0000, test acc = 0.5261\n",
            "Iteration 184\n"
          ]
        },
        {
          "output_type": "stream",
          "name": "stderr",
          "text": [
            "100%|██████████| 50/50 [02:57<00:00,  3.55s/it]\n"
          ]
        },
        {
          "output_type": "stream",
          "name": "stdout",
          "text": [
            "[2023-12-05 13:36:46] Evaluate_184: epoch = 0100 train time = 20 s train loss = 0.009989 train acc = 1.0000, test acc = 0.4913\n",
            "Iteration 185\n"
          ]
        },
        {
          "output_type": "stream",
          "name": "stderr",
          "text": [
            "100%|██████████| 50/50 [02:57<00:00,  3.55s/it]\n"
          ]
        },
        {
          "output_type": "stream",
          "name": "stdout",
          "text": [
            "[2023-12-05 13:40:05] Evaluate_185: epoch = 0100 train time = 20 s train loss = 0.003334 train acc = 1.0000, test acc = 0.5793\n",
            "Iteration 186\n"
          ]
        },
        {
          "output_type": "stream",
          "name": "stderr",
          "text": [
            "100%|██████████| 50/50 [02:57<00:00,  3.55s/it]\n"
          ]
        },
        {
          "output_type": "stream",
          "name": "stdout",
          "text": [
            "[2023-12-05 13:43:24] Evaluate_186: epoch = 0100 train time = 20 s train loss = 0.007149 train acc = 1.0000, test acc = 0.4872\n",
            "Iteration 187\n"
          ]
        },
        {
          "output_type": "stream",
          "name": "stderr",
          "text": [
            "100%|██████████| 50/50 [02:57<00:00,  3.55s/it]\n"
          ]
        },
        {
          "output_type": "stream",
          "name": "stdout",
          "text": [
            "[2023-12-05 13:46:43] Evaluate_187: epoch = 0100 train time = 20 s train loss = 0.092329 train acc = 1.0000, test acc = 0.5148\n",
            "Iteration 188\n"
          ]
        },
        {
          "output_type": "stream",
          "name": "stderr",
          "text": [
            "100%|██████████| 50/50 [02:57<00:00,  3.55s/it]\n"
          ]
        },
        {
          "output_type": "stream",
          "name": "stdout",
          "text": [
            "[2023-12-05 13:50:02] Evaluate_188: epoch = 0100 train time = 20 s train loss = 0.004097 train acc = 1.0000, test acc = 0.4657\n",
            "Iteration 189\n"
          ]
        },
        {
          "output_type": "stream",
          "name": "stderr",
          "text": [
            "100%|██████████| 50/50 [02:57<00:00,  3.55s/it]\n"
          ]
        },
        {
          "output_type": "stream",
          "name": "stdout",
          "text": [
            "[2023-12-05 13:53:21] Evaluate_189: epoch = 0100 train time = 20 s train loss = 0.124248 train acc = 1.0000, test acc = 0.4995\n",
            "Iteration 190\n"
          ]
        },
        {
          "output_type": "stream",
          "name": "stderr",
          "text": [
            "100%|██████████| 50/50 [02:57<00:00,  3.55s/it]\n"
          ]
        },
        {
          "output_type": "stream",
          "name": "stdout",
          "text": [
            "[2023-12-05 13:56:41] Evaluate_190: epoch = 0100 train time = 20 s train loss = 0.032533 train acc = 1.0000, test acc = 0.5722\n",
            "Iteration 191\n"
          ]
        },
        {
          "output_type": "stream",
          "name": "stderr",
          "text": [
            "100%|██████████| 50/50 [02:57<00:00,  3.55s/it]\n"
          ]
        },
        {
          "output_type": "stream",
          "name": "stdout",
          "text": [
            "[2023-12-05 14:00:00] Evaluate_191: epoch = 0100 train time = 20 s train loss = 0.006167 train acc = 1.0000, test acc = 0.5200\n",
            "Iteration 192\n"
          ]
        },
        {
          "output_type": "stream",
          "name": "stderr",
          "text": [
            "100%|██████████| 50/50 [02:57<00:00,  3.55s/it]\n"
          ]
        },
        {
          "output_type": "stream",
          "name": "stdout",
          "text": [
            "[2023-12-05 14:03:20] Evaluate_192: epoch = 0100 train time = 20 s train loss = 0.005774 train acc = 1.0000, test acc = 0.5466\n",
            "Iteration 193\n"
          ]
        },
        {
          "output_type": "stream",
          "name": "stderr",
          "text": [
            "100%|██████████| 50/50 [02:57<00:00,  3.55s/it]\n"
          ]
        },
        {
          "output_type": "stream",
          "name": "stdout",
          "text": [
            "[2023-12-05 14:06:39] Evaluate_193: epoch = 0100 train time = 20 s train loss = 0.050039 train acc = 1.0000, test acc = 0.4555\n",
            "Iteration 194\n"
          ]
        },
        {
          "output_type": "stream",
          "name": "stderr",
          "text": [
            "100%|██████████| 50/50 [02:57<00:00,  3.55s/it]\n"
          ]
        },
        {
          "output_type": "stream",
          "name": "stdout",
          "text": [
            "[2023-12-05 14:09:58] Evaluate_194: epoch = 0100 train time = 20 s train loss = 0.041327 train acc = 1.0000, test acc = 0.5548\n",
            "Iteration 195\n"
          ]
        },
        {
          "output_type": "stream",
          "name": "stderr",
          "text": [
            "100%|██████████| 50/50 [02:57<00:00,  3.55s/it]\n"
          ]
        },
        {
          "output_type": "stream",
          "name": "stdout",
          "text": [
            "[2023-12-05 14:13:17] Evaluate_195: epoch = 0100 train time = 20 s train loss = 0.018171 train acc = 1.0000, test acc = 0.5558\n",
            "Iteration 196\n"
          ]
        },
        {
          "output_type": "stream",
          "name": "stderr",
          "text": [
            "100%|██████████| 50/50 [02:57<00:00,  3.55s/it]\n"
          ]
        },
        {
          "output_type": "stream",
          "name": "stdout",
          "text": [
            "[2023-12-05 14:16:36] Evaluate_196: epoch = 0100 train time = 20 s train loss = 0.106924 train acc = 1.0000, test acc = 0.4391\n",
            "Iteration 197\n"
          ]
        },
        {
          "output_type": "stream",
          "name": "stderr",
          "text": [
            "100%|██████████| 50/50 [02:57<00:00,  3.55s/it]\n"
          ]
        },
        {
          "output_type": "stream",
          "name": "stdout",
          "text": [
            "[2023-12-05 14:19:55] Evaluate_197: epoch = 0100 train time = 20 s train loss = 0.002212 train acc = 1.0000, test acc = 0.5435\n",
            "Iteration 198\n"
          ]
        },
        {
          "output_type": "stream",
          "name": "stderr",
          "text": [
            "100%|██████████| 50/50 [02:57<00:00,  3.55s/it]\n"
          ]
        },
        {
          "output_type": "stream",
          "name": "stdout",
          "text": [
            "[2023-12-05 14:23:15] Evaluate_198: epoch = 0100 train time = 20 s train loss = 0.032163 train acc = 1.0000, test acc = 0.5200\n",
            "Iteration 199\n"
          ]
        },
        {
          "output_type": "stream",
          "name": "stderr",
          "text": [
            "100%|██████████| 50/50 [02:57<00:00,  3.55s/it]\n"
          ]
        },
        {
          "output_type": "stream",
          "name": "stdout",
          "text": [
            "[2023-12-05 14:26:34] Evaluate_199: epoch = 0100 train time = 20 s train loss = 0.018323 train acc = 1.0000, test acc = 0.5619\n",
            "time:  39832.006828546524\n"
          ]
        }
      ],
      "source": [
        "\"\"\"\n",
        "Initialization Synthetic Dataset with Real Dataset\n",
        "\"\"\"\n",
        "NET = \"ConvNet\"\n",
        "args = mh_argument(device, 50)\n",
        "args.init = 'real'\n",
        "start_time = time.time()\n",
        "real_data_save, real_test_acc, real_train_acc = DataD_GradientM(NET, args)\n",
        "print(\"time: \", time.time()-start_time)\n"
      ]
    },
    {
      "cell_type": "code",
      "execution_count": null,
      "metadata": {
        "id": "98zCd9hmNHpM",
        "colab": {
          "base_uri": "https://localhost:8080/"
        },
        "outputId": "10384e00-e268-41e6-dbd2-3b2c1012e911"
      },
      "outputs": [
        {
          "output_type": "stream",
          "name": "stdout",
          "text": [
            "class c = 0: 1545 real images\n",
            "class c = 1: 630 real images\n",
            "initialize synthetic data from random noise\n",
            "Iteration 0\n"
          ]
        },
        {
          "output_type": "stream",
          "name": "stderr",
          "text": [
            "100%|██████████| 50/50 [00:11<00:00,  4.21it/s]\n"
          ]
        },
        {
          "output_type": "stream",
          "name": "stdout",
          "text": [
            "[2023-11-28 19:29:11] Evaluate_00: epoch = 0100 train time = 1 s train loss = 0.001948 train acc = 1.0000, test acc = 0.5384\n",
            "Iteration 1\n"
          ]
        },
        {
          "output_type": "stream",
          "name": "stderr",
          "text": [
            "100%|██████████| 50/50 [00:11<00:00,  4.20it/s]\n"
          ]
        },
        {
          "output_type": "stream",
          "name": "stdout",
          "text": [
            "[2023-11-28 19:29:24] Evaluate_01: epoch = 0100 train time = 1 s train loss = 0.002119 train acc = 1.0000, test acc = 0.6080\n",
            "Iteration 2\n"
          ]
        },
        {
          "output_type": "stream",
          "name": "stderr",
          "text": [
            "100%|██████████| 50/50 [00:11<00:00,  4.21it/s]\n"
          ]
        },
        {
          "output_type": "stream",
          "name": "stdout",
          "text": [
            "[2023-11-28 19:29:38] Evaluate_02: epoch = 0100 train time = 1 s train loss = 0.002309 train acc = 1.0000, test acc = 0.5957\n",
            "Iteration 3\n"
          ]
        },
        {
          "output_type": "stream",
          "name": "stderr",
          "text": [
            "100%|██████████| 50/50 [00:11<00:00,  4.22it/s]\n"
          ]
        },
        {
          "output_type": "stream",
          "name": "stdout",
          "text": [
            "[2023-11-28 19:29:51] Evaluate_03: epoch = 0100 train time = 1 s train loss = 0.002464 train acc = 1.0000, test acc = 0.6182\n",
            "Iteration 4\n"
          ]
        },
        {
          "output_type": "stream",
          "name": "stderr",
          "text": [
            "100%|██████████| 50/50 [00:11<00:00,  4.22it/s]\n"
          ]
        },
        {
          "output_type": "stream",
          "name": "stdout",
          "text": [
            "[2023-11-28 19:30:04] Evaluate_04: epoch = 0100 train time = 1 s train loss = 0.002463 train acc = 1.0000, test acc = 0.6438\n",
            "Iteration 5\n"
          ]
        },
        {
          "output_type": "stream",
          "name": "stderr",
          "text": [
            "100%|██████████| 50/50 [00:11<00:00,  4.22it/s]\n"
          ]
        },
        {
          "output_type": "stream",
          "name": "stdout",
          "text": [
            "[2023-11-28 19:30:18] Evaluate_05: epoch = 0100 train time = 1 s train loss = 0.002710 train acc = 1.0000, test acc = 0.6244\n",
            "Iteration 6\n"
          ]
        },
        {
          "output_type": "stream",
          "name": "stderr",
          "text": [
            "100%|██████████| 50/50 [00:11<00:00,  4.21it/s]\n"
          ]
        },
        {
          "output_type": "stream",
          "name": "stdout",
          "text": [
            "[2023-11-28 19:30:31] Evaluate_06: epoch = 0100 train time = 1 s train loss = 0.002883 train acc = 1.0000, test acc = 0.6151\n",
            "Iteration 7\n"
          ]
        },
        {
          "output_type": "stream",
          "name": "stderr",
          "text": [
            "100%|██████████| 50/50 [00:11<00:00,  4.21it/s]\n"
          ]
        },
        {
          "output_type": "stream",
          "name": "stdout",
          "text": [
            "[2023-11-28 19:30:45] Evaluate_07: epoch = 0100 train time = 1 s train loss = 0.002782 train acc = 1.0000, test acc = 0.6121\n",
            "Iteration 8\n"
          ]
        },
        {
          "output_type": "stream",
          "name": "stderr",
          "text": [
            "100%|██████████| 50/50 [00:11<00:00,  4.20it/s]\n"
          ]
        },
        {
          "output_type": "stream",
          "name": "stdout",
          "text": [
            "[2023-11-28 19:30:58] Evaluate_08: epoch = 0100 train time = 1 s train loss = 0.002806 train acc = 1.0000, test acc = 0.6090\n",
            "Iteration 9\n"
          ]
        },
        {
          "output_type": "stream",
          "name": "stderr",
          "text": [
            "100%|██████████| 50/50 [00:11<00:00,  4.22it/s]\n"
          ]
        },
        {
          "output_type": "stream",
          "name": "stdout",
          "text": [
            "[2023-11-28 19:31:11] Evaluate_09: epoch = 0100 train time = 1 s train loss = 0.003506 train acc = 1.0000, test acc = 0.6151\n",
            "Iteration 10\n"
          ]
        },
        {
          "output_type": "stream",
          "name": "stderr",
          "text": [
            "100%|██████████| 50/50 [00:11<00:00,  4.23it/s]\n"
          ]
        },
        {
          "output_type": "stream",
          "name": "stdout",
          "text": [
            "[2023-11-28 19:31:25] Evaluate_10: epoch = 0100 train time = 1 s train loss = 0.003143 train acc = 1.0000, test acc = 0.6162\n",
            "Iteration 11\n"
          ]
        },
        {
          "output_type": "stream",
          "name": "stderr",
          "text": [
            "100%|██████████| 50/50 [00:11<00:00,  4.21it/s]\n"
          ]
        },
        {
          "output_type": "stream",
          "name": "stdout",
          "text": [
            "[2023-11-28 19:31:38] Evaluate_11: epoch = 0100 train time = 1 s train loss = 0.002995 train acc = 1.0000, test acc = 0.6172\n",
            "Iteration 12\n"
          ]
        },
        {
          "output_type": "stream",
          "name": "stderr",
          "text": [
            "100%|██████████| 50/50 [00:11<00:00,  4.20it/s]\n"
          ]
        },
        {
          "output_type": "stream",
          "name": "stdout",
          "text": [
            "[2023-11-28 19:31:52] Evaluate_12: epoch = 0100 train time = 1 s train loss = 0.003712 train acc = 1.0000, test acc = 0.6100\n",
            "Iteration 13\n"
          ]
        },
        {
          "output_type": "stream",
          "name": "stderr",
          "text": [
            "100%|██████████| 50/50 [00:11<00:00,  4.20it/s]\n"
          ]
        },
        {
          "output_type": "stream",
          "name": "stdout",
          "text": [
            "[2023-11-28 19:32:05] Evaluate_13: epoch = 0100 train time = 1 s train loss = 0.003589 train acc = 1.0000, test acc = 0.6592\n",
            "Iteration 14\n"
          ]
        },
        {
          "output_type": "stream",
          "name": "stderr",
          "text": [
            "100%|██████████| 50/50 [00:11<00:00,  4.21it/s]\n"
          ]
        },
        {
          "output_type": "stream",
          "name": "stdout",
          "text": [
            "[2023-11-28 19:32:18] Evaluate_14: epoch = 0100 train time = 1 s train loss = 0.004001 train acc = 1.0000, test acc = 0.5896\n",
            "Iteration 15\n"
          ]
        },
        {
          "output_type": "stream",
          "name": "stderr",
          "text": [
            "100%|██████████| 50/50 [00:11<00:00,  4.23it/s]\n"
          ]
        },
        {
          "output_type": "stream",
          "name": "stdout",
          "text": [
            "[2023-11-28 19:32:32] Evaluate_15: epoch = 0100 train time = 1 s train loss = 0.003811 train acc = 1.0000, test acc = 0.6356\n",
            "Iteration 16\n"
          ]
        },
        {
          "output_type": "stream",
          "name": "stderr",
          "text": [
            "100%|██████████| 50/50 [00:11<00:00,  4.22it/s]\n"
          ]
        },
        {
          "output_type": "stream",
          "name": "stdout",
          "text": [
            "[2023-11-28 19:32:45] Evaluate_16: epoch = 0100 train time = 1 s train loss = 0.004313 train acc = 1.0000, test acc = 0.6581\n",
            "Iteration 17\n"
          ]
        },
        {
          "output_type": "stream",
          "name": "stderr",
          "text": [
            "100%|██████████| 50/50 [00:11<00:00,  4.21it/s]\n"
          ]
        },
        {
          "output_type": "stream",
          "name": "stdout",
          "text": [
            "[2023-11-28 19:32:59] Evaluate_17: epoch = 0100 train time = 1 s train loss = 0.004448 train acc = 1.0000, test acc = 0.5732\n",
            "Iteration 18\n"
          ]
        },
        {
          "output_type": "stream",
          "name": "stderr",
          "text": [
            "100%|██████████| 50/50 [00:11<00:00,  4.21it/s]\n"
          ]
        },
        {
          "output_type": "stream",
          "name": "stdout",
          "text": [
            "[2023-11-28 19:33:12] Evaluate_18: epoch = 0100 train time = 1 s train loss = 0.004016 train acc = 1.0000, test acc = 0.6387\n",
            "Iteration 19\n"
          ]
        },
        {
          "output_type": "stream",
          "name": "stderr",
          "text": [
            "100%|██████████| 50/50 [00:11<00:00,  4.21it/s]\n"
          ]
        },
        {
          "output_type": "stream",
          "name": "stdout",
          "text": [
            "[2023-11-28 19:33:25] Evaluate_19: epoch = 0100 train time = 1 s train loss = 0.004229 train acc = 1.0000, test acc = 0.6305\n",
            "Iteration 20\n"
          ]
        },
        {
          "output_type": "stream",
          "name": "stderr",
          "text": [
            "100%|██████████| 50/50 [00:11<00:00,  4.22it/s]\n"
          ]
        },
        {
          "output_type": "stream",
          "name": "stdout",
          "text": [
            "[2023-11-28 19:33:39] Evaluate_20: epoch = 0100 train time = 1 s train loss = 0.004675 train acc = 1.0000, test acc = 0.6469\n",
            "Iteration 21\n"
          ]
        },
        {
          "output_type": "stream",
          "name": "stderr",
          "text": [
            "100%|██████████| 50/50 [00:11<00:00,  4.23it/s]\n"
          ]
        },
        {
          "output_type": "stream",
          "name": "stdout",
          "text": [
            "[2023-11-28 19:33:52] Evaluate_21: epoch = 0100 train time = 1 s train loss = 0.004323 train acc = 1.0000, test acc = 0.6622\n",
            "Iteration 22\n"
          ]
        },
        {
          "output_type": "stream",
          "name": "stderr",
          "text": [
            "100%|██████████| 50/50 [00:11<00:00,  4.22it/s]\n"
          ]
        },
        {
          "output_type": "stream",
          "name": "stdout",
          "text": [
            "[2023-11-28 19:34:06] Evaluate_22: epoch = 0100 train time = 1 s train loss = 0.005128 train acc = 1.0000, test acc = 0.6182\n",
            "Iteration 23\n"
          ]
        },
        {
          "output_type": "stream",
          "name": "stderr",
          "text": [
            "100%|██████████| 50/50 [00:11<00:00,  4.20it/s]\n"
          ]
        },
        {
          "output_type": "stream",
          "name": "stdout",
          "text": [
            "[2023-11-28 19:34:19] Evaluate_23: epoch = 0100 train time = 1 s train loss = 0.004825 train acc = 1.0000, test acc = 0.6172\n",
            "Iteration 24\n"
          ]
        },
        {
          "output_type": "stream",
          "name": "stderr",
          "text": [
            "100%|██████████| 50/50 [00:11<00:00,  4.21it/s]\n"
          ]
        },
        {
          "output_type": "stream",
          "name": "stdout",
          "text": [
            "[2023-11-28 19:34:32] Evaluate_24: epoch = 0100 train time = 1 s train loss = 0.005412 train acc = 1.0000, test acc = 0.6295\n",
            "Iteration 25\n"
          ]
        },
        {
          "output_type": "stream",
          "name": "stderr",
          "text": [
            "100%|██████████| 50/50 [00:11<00:00,  4.20it/s]\n"
          ]
        },
        {
          "output_type": "stream",
          "name": "stdout",
          "text": [
            "[2023-11-28 19:34:46] Evaluate_25: epoch = 0100 train time = 1 s train loss = 0.005462 train acc = 1.0000, test acc = 0.6766\n",
            "Iteration 26\n"
          ]
        },
        {
          "output_type": "stream",
          "name": "stderr",
          "text": [
            "100%|██████████| 50/50 [00:11<00:00,  4.22it/s]\n"
          ]
        },
        {
          "output_type": "stream",
          "name": "stdout",
          "text": [
            "[2023-11-28 19:34:59] Evaluate_26: epoch = 0100 train time = 1 s train loss = 0.005342 train acc = 1.0000, test acc = 0.6366\n",
            "Iteration 27\n"
          ]
        },
        {
          "output_type": "stream",
          "name": "stderr",
          "text": [
            "100%|██████████| 50/50 [00:11<00:00,  4.22it/s]\n"
          ]
        },
        {
          "output_type": "stream",
          "name": "stdout",
          "text": [
            "[2023-11-28 19:35:13] Evaluate_27: epoch = 0100 train time = 1 s train loss = 0.004820 train acc = 1.0000, test acc = 0.6612\n",
            "Iteration 28\n"
          ]
        },
        {
          "output_type": "stream",
          "name": "stderr",
          "text": [
            "100%|██████████| 50/50 [00:11<00:00,  4.21it/s]\n"
          ]
        },
        {
          "output_type": "stream",
          "name": "stdout",
          "text": [
            "[2023-11-28 19:35:26] Evaluate_28: epoch = 0100 train time = 1 s train loss = 0.004557 train acc = 1.0000, test acc = 0.6663\n",
            "Iteration 29\n"
          ]
        },
        {
          "output_type": "stream",
          "name": "stderr",
          "text": [
            "100%|██████████| 50/50 [00:11<00:00,  4.20it/s]\n"
          ]
        },
        {
          "output_type": "stream",
          "name": "stdout",
          "text": [
            "[2023-11-28 19:35:39] Evaluate_29: epoch = 0100 train time = 1 s train loss = 0.005473 train acc = 1.0000, test acc = 0.6622\n",
            "Iteration 30\n"
          ]
        },
        {
          "output_type": "stream",
          "name": "stderr",
          "text": [
            "100%|██████████| 50/50 [00:11<00:00,  4.21it/s]\n"
          ]
        },
        {
          "output_type": "stream",
          "name": "stdout",
          "text": [
            "[2023-11-28 19:35:53] Evaluate_30: epoch = 0100 train time = 1 s train loss = 0.004957 train acc = 1.0000, test acc = 0.6172\n",
            "Iteration 31\n"
          ]
        },
        {
          "output_type": "stream",
          "name": "stderr",
          "text": [
            "100%|██████████| 50/50 [00:11<00:00,  4.22it/s]\n"
          ]
        },
        {
          "output_type": "stream",
          "name": "stdout",
          "text": [
            "[2023-11-28 19:36:06] Evaluate_31: epoch = 0100 train time = 1 s train loss = 0.005016 train acc = 1.0000, test acc = 0.6612\n",
            "Iteration 32\n"
          ]
        },
        {
          "output_type": "stream",
          "name": "stderr",
          "text": [
            "100%|██████████| 50/50 [00:11<00:00,  4.23it/s]\n"
          ]
        },
        {
          "output_type": "stream",
          "name": "stdout",
          "text": [
            "[2023-11-28 19:36:19] Evaluate_32: epoch = 0100 train time = 1 s train loss = 0.004659 train acc = 1.0000, test acc = 0.6448\n",
            "Iteration 33\n"
          ]
        },
        {
          "output_type": "stream",
          "name": "stderr",
          "text": [
            "100%|██████████| 50/50 [00:11<00:00,  4.23it/s]\n"
          ]
        },
        {
          "output_type": "stream",
          "name": "stdout",
          "text": [
            "[2023-11-28 19:36:33] Evaluate_33: epoch = 0100 train time = 1 s train loss = 0.004314 train acc = 1.0000, test acc = 0.6786\n",
            "Iteration 34\n"
          ]
        },
        {
          "output_type": "stream",
          "name": "stderr",
          "text": [
            "100%|██████████| 50/50 [00:11<00:00,  4.21it/s]\n"
          ]
        },
        {
          "output_type": "stream",
          "name": "stdout",
          "text": [
            "[2023-11-28 19:36:46] Evaluate_34: epoch = 0100 train time = 1 s train loss = 0.004733 train acc = 1.0000, test acc = 0.6192\n",
            "Iteration 35\n"
          ]
        },
        {
          "output_type": "stream",
          "name": "stderr",
          "text": [
            "100%|██████████| 50/50 [00:11<00:00,  4.21it/s]\n"
          ]
        },
        {
          "output_type": "stream",
          "name": "stdout",
          "text": [
            "[2023-11-28 19:37:00] Evaluate_35: epoch = 0100 train time = 1 s train loss = 0.004369 train acc = 1.0000, test acc = 0.6940\n",
            "Iteration 36\n"
          ]
        },
        {
          "output_type": "stream",
          "name": "stderr",
          "text": [
            "100%|██████████| 50/50 [00:11<00:00,  4.20it/s]\n"
          ]
        },
        {
          "output_type": "stream",
          "name": "stdout",
          "text": [
            "[2023-11-28 19:37:13] Evaluate_36: epoch = 0100 train time = 1 s train loss = 0.004795 train acc = 1.0000, test acc = 0.6428\n",
            "Iteration 37\n"
          ]
        },
        {
          "output_type": "stream",
          "name": "stderr",
          "text": [
            "100%|██████████| 50/50 [00:11<00:00,  4.21it/s]\n"
          ]
        },
        {
          "output_type": "stream",
          "name": "stdout",
          "text": [
            "[2023-11-28 19:37:26] Evaluate_37: epoch = 0100 train time = 1 s train loss = 0.006227 train acc = 1.0000, test acc = 0.6336\n",
            "Iteration 38\n"
          ]
        },
        {
          "output_type": "stream",
          "name": "stderr",
          "text": [
            "100%|██████████| 50/50 [00:11<00:00,  4.22it/s]\n"
          ]
        },
        {
          "output_type": "stream",
          "name": "stdout",
          "text": [
            "[2023-11-28 19:37:40] Evaluate_38: epoch = 0100 train time = 1 s train loss = 0.004576 train acc = 1.0000, test acc = 0.6837\n",
            "Iteration 39\n"
          ]
        },
        {
          "output_type": "stream",
          "name": "stderr",
          "text": [
            "100%|██████████| 50/50 [00:11<00:00,  4.22it/s]\n"
          ]
        },
        {
          "output_type": "stream",
          "name": "stdout",
          "text": [
            "[2023-11-28 19:37:53] Evaluate_39: epoch = 0100 train time = 1 s train loss = 0.005637 train acc = 1.0000, test acc = 0.6561\n",
            "Iteration 40\n"
          ]
        },
        {
          "output_type": "stream",
          "name": "stderr",
          "text": [
            "100%|██████████| 50/50 [00:11<00:00,  4.21it/s]\n"
          ]
        },
        {
          "output_type": "stream",
          "name": "stdout",
          "text": [
            "[2023-11-28 19:38:07] Evaluate_40: epoch = 0100 train time = 1 s train loss = 0.005820 train acc = 1.0000, test acc = 0.6459\n",
            "Iteration 41\n"
          ]
        },
        {
          "output_type": "stream",
          "name": "stderr",
          "text": [
            "100%|██████████| 50/50 [00:11<00:00,  4.20it/s]\n"
          ]
        },
        {
          "output_type": "stream",
          "name": "stdout",
          "text": [
            "[2023-11-28 19:38:20] Evaluate_41: epoch = 0100 train time = 1 s train loss = 0.004940 train acc = 1.0000, test acc = 0.6878\n",
            "Iteration 42\n"
          ]
        },
        {
          "output_type": "stream",
          "name": "stderr",
          "text": [
            "100%|██████████| 50/50 [00:11<00:00,  4.20it/s]\n"
          ]
        },
        {
          "output_type": "stream",
          "name": "stdout",
          "text": [
            "[2023-11-28 19:38:33] Evaluate_42: epoch = 0100 train time = 1 s train loss = 0.005385 train acc = 1.0000, test acc = 0.6663\n",
            "Iteration 43\n"
          ]
        },
        {
          "output_type": "stream",
          "name": "stderr",
          "text": [
            "100%|██████████| 50/50 [00:11<00:00,  4.22it/s]\n"
          ]
        },
        {
          "output_type": "stream",
          "name": "stdout",
          "text": [
            "[2023-11-28 19:38:47] Evaluate_43: epoch = 0100 train time = 1 s train loss = 0.006411 train acc = 1.0000, test acc = 0.6499\n",
            "Iteration 44\n"
          ]
        },
        {
          "output_type": "stream",
          "name": "stderr",
          "text": [
            "100%|██████████| 50/50 [00:11<00:00,  4.22it/s]\n"
          ]
        },
        {
          "output_type": "stream",
          "name": "stdout",
          "text": [
            "[2023-11-28 19:39:00] Evaluate_44: epoch = 0100 train time = 1 s train loss = 0.005088 train acc = 1.0000, test acc = 0.6561\n",
            "Iteration 45\n"
          ]
        },
        {
          "output_type": "stream",
          "name": "stderr",
          "text": [
            "100%|██████████| 50/50 [00:11<00:00,  4.22it/s]\n"
          ]
        },
        {
          "output_type": "stream",
          "name": "stdout",
          "text": [
            "[2023-11-28 19:39:14] Evaluate_45: epoch = 0100 train time = 1 s train loss = 0.005851 train acc = 1.0000, test acc = 0.6602\n",
            "Iteration 46\n"
          ]
        },
        {
          "output_type": "stream",
          "name": "stderr",
          "text": [
            "100%|██████████| 50/50 [00:11<00:00,  4.20it/s]\n"
          ]
        },
        {
          "output_type": "stream",
          "name": "stdout",
          "text": [
            "[2023-11-28 19:39:27] Evaluate_46: epoch = 0100 train time = 1 s train loss = 0.004882 train acc = 1.0000, test acc = 0.6622\n",
            "Iteration 47\n"
          ]
        },
        {
          "output_type": "stream",
          "name": "stderr",
          "text": [
            "100%|██████████| 50/50 [00:11<00:00,  4.19it/s]\n"
          ]
        },
        {
          "output_type": "stream",
          "name": "stdout",
          "text": [
            "[2023-11-28 19:39:40] Evaluate_47: epoch = 0100 train time = 1 s train loss = 0.004588 train acc = 1.0000, test acc = 0.6981\n",
            "Iteration 48\n"
          ]
        },
        {
          "output_type": "stream",
          "name": "stderr",
          "text": [
            "100%|██████████| 50/50 [00:11<00:00,  4.20it/s]\n"
          ]
        },
        {
          "output_type": "stream",
          "name": "stdout",
          "text": [
            "[2023-11-28 19:39:54] Evaluate_48: epoch = 0100 train time = 1 s train loss = 0.005501 train acc = 1.0000, test acc = 0.6192\n",
            "Iteration 49\n"
          ]
        },
        {
          "output_type": "stream",
          "name": "stderr",
          "text": [
            "100%|██████████| 50/50 [00:12<00:00,  4.13it/s]\n"
          ]
        },
        {
          "output_type": "stream",
          "name": "stdout",
          "text": [
            "[2023-11-28 19:40:08] Evaluate_49: epoch = 0100 train time = 1 s train loss = 0.005180 train acc = 1.0000, test acc = 0.6397\n",
            "Iteration 50\n"
          ]
        },
        {
          "output_type": "stream",
          "name": "stderr",
          "text": [
            "100%|██████████| 50/50 [00:11<00:00,  4.22it/s]\n"
          ]
        },
        {
          "output_type": "stream",
          "name": "stdout",
          "text": [
            "[2023-11-28 19:40:21] Evaluate_50: epoch = 0100 train time = 1 s train loss = 0.005786 train acc = 1.0000, test acc = 0.6592\n",
            "Iteration 51\n"
          ]
        },
        {
          "output_type": "stream",
          "name": "stderr",
          "text": [
            "100%|██████████| 50/50 [00:11<00:00,  4.22it/s]\n"
          ]
        },
        {
          "output_type": "stream",
          "name": "stdout",
          "text": [
            "[2023-11-28 19:40:34] Evaluate_51: epoch = 0100 train time = 1 s train loss = 0.005386 train acc = 1.0000, test acc = 0.6285\n",
            "Iteration 52\n"
          ]
        },
        {
          "output_type": "stream",
          "name": "stderr",
          "text": [
            "100%|██████████| 50/50 [00:11<00:00,  4.21it/s]\n"
          ]
        },
        {
          "output_type": "stream",
          "name": "stdout",
          "text": [
            "[2023-11-28 19:40:48] Evaluate_52: epoch = 0100 train time = 1 s train loss = 0.005234 train acc = 1.0000, test acc = 0.6796\n",
            "Iteration 53\n"
          ]
        },
        {
          "output_type": "stream",
          "name": "stderr",
          "text": [
            "100%|██████████| 50/50 [00:11<00:00,  4.19it/s]\n"
          ]
        },
        {
          "output_type": "stream",
          "name": "stdout",
          "text": [
            "[2023-11-28 19:41:01] Evaluate_53: epoch = 0100 train time = 1 s train loss = 0.005442 train acc = 1.0000, test acc = 0.6643\n",
            "Iteration 54\n"
          ]
        },
        {
          "output_type": "stream",
          "name": "stderr",
          "text": [
            "100%|██████████| 50/50 [00:11<00:00,  4.20it/s]\n"
          ]
        },
        {
          "output_type": "stream",
          "name": "stdout",
          "text": [
            "[2023-11-28 19:41:15] Evaluate_54: epoch = 0100 train time = 1 s train loss = 0.004741 train acc = 1.0000, test acc = 0.6827\n",
            "Iteration 55\n"
          ]
        },
        {
          "output_type": "stream",
          "name": "stderr",
          "text": [
            "100%|██████████| 50/50 [00:11<00:00,  4.22it/s]\n"
          ]
        },
        {
          "output_type": "stream",
          "name": "stdout",
          "text": [
            "[2023-11-28 19:41:28] Evaluate_55: epoch = 0100 train time = 1 s train loss = 0.005101 train acc = 1.0000, test acc = 0.6694\n",
            "Iteration 56\n"
          ]
        },
        {
          "output_type": "stream",
          "name": "stderr",
          "text": [
            "100%|██████████| 50/50 [00:11<00:00,  4.22it/s]\n"
          ]
        },
        {
          "output_type": "stream",
          "name": "stdout",
          "text": [
            "[2023-11-28 19:41:41] Evaluate_56: epoch = 0100 train time = 1 s train loss = 0.004953 train acc = 1.0000, test acc = 0.6663\n",
            "Iteration 57\n"
          ]
        },
        {
          "output_type": "stream",
          "name": "stderr",
          "text": [
            "100%|██████████| 50/50 [00:11<00:00,  4.21it/s]\n"
          ]
        },
        {
          "output_type": "stream",
          "name": "stdout",
          "text": [
            "[2023-11-28 19:41:55] Evaluate_57: epoch = 0100 train time = 1 s train loss = 0.005348 train acc = 1.0000, test acc = 0.6694\n",
            "Iteration 58\n"
          ]
        },
        {
          "output_type": "stream",
          "name": "stderr",
          "text": [
            "100%|██████████| 50/50 [00:11<00:00,  4.19it/s]\n"
          ]
        },
        {
          "output_type": "stream",
          "name": "stdout",
          "text": [
            "[2023-11-28 19:42:08] Evaluate_58: epoch = 0100 train time = 1 s train loss = 0.005391 train acc = 1.0000, test acc = 0.6520\n",
            "Iteration 59\n"
          ]
        },
        {
          "output_type": "stream",
          "name": "stderr",
          "text": [
            "100%|██████████| 50/50 [00:11<00:00,  4.20it/s]\n"
          ]
        },
        {
          "output_type": "stream",
          "name": "stdout",
          "text": [
            "[2023-11-28 19:42:22] Evaluate_59: epoch = 0100 train time = 1 s train loss = 0.005846 train acc = 1.0000, test acc = 0.6418\n",
            "Iteration 60\n"
          ]
        },
        {
          "output_type": "stream",
          "name": "stderr",
          "text": [
            "100%|██████████| 50/50 [00:11<00:00,  4.20it/s]\n"
          ]
        },
        {
          "output_type": "stream",
          "name": "stdout",
          "text": [
            "[2023-11-28 19:42:35] Evaluate_60: epoch = 0100 train time = 1 s train loss = 0.006026 train acc = 1.0000, test acc = 0.6786\n",
            "Iteration 61\n"
          ]
        },
        {
          "output_type": "stream",
          "name": "stderr",
          "text": [
            "100%|██████████| 50/50 [00:11<00:00,  4.22it/s]\n"
          ]
        },
        {
          "output_type": "stream",
          "name": "stdout",
          "text": [
            "[2023-11-28 19:42:48] Evaluate_61: epoch = 0100 train time = 1 s train loss = 0.005501 train acc = 1.0000, test acc = 0.6878\n",
            "Iteration 62\n"
          ]
        },
        {
          "output_type": "stream",
          "name": "stderr",
          "text": [
            "100%|██████████| 50/50 [00:11<00:00,  4.21it/s]\n"
          ]
        },
        {
          "output_type": "stream",
          "name": "stdout",
          "text": [
            "[2023-11-28 19:43:02] Evaluate_62: epoch = 0100 train time = 1 s train loss = 0.005818 train acc = 1.0000, test acc = 0.6530\n",
            "Iteration 63\n"
          ]
        },
        {
          "output_type": "stream",
          "name": "stderr",
          "text": [
            "100%|██████████| 50/50 [00:11<00:00,  4.20it/s]\n"
          ]
        },
        {
          "output_type": "stream",
          "name": "stdout",
          "text": [
            "[2023-11-28 19:43:15] Evaluate_63: epoch = 0100 train time = 1 s train loss = 0.005448 train acc = 1.0000, test acc = 0.6714\n",
            "Iteration 64\n"
          ]
        },
        {
          "output_type": "stream",
          "name": "stderr",
          "text": [
            "100%|██████████| 50/50 [00:11<00:00,  4.20it/s]\n"
          ]
        },
        {
          "output_type": "stream",
          "name": "stdout",
          "text": [
            "[2023-11-28 19:43:29] Evaluate_64: epoch = 0100 train time = 1 s train loss = 0.005741 train acc = 1.0000, test acc = 0.6909\n",
            "Iteration 65\n"
          ]
        },
        {
          "output_type": "stream",
          "name": "stderr",
          "text": [
            "100%|██████████| 50/50 [00:11<00:00,  4.20it/s]\n"
          ]
        },
        {
          "output_type": "stream",
          "name": "stdout",
          "text": [
            "[2023-11-28 19:43:42] Evaluate_65: epoch = 0100 train time = 1 s train loss = 0.006534 train acc = 1.0000, test acc = 0.6387\n",
            "Iteration 66\n"
          ]
        },
        {
          "output_type": "stream",
          "name": "stderr",
          "text": [
            "100%|██████████| 50/50 [00:11<00:00,  4.21it/s]\n"
          ]
        },
        {
          "output_type": "stream",
          "name": "stdout",
          "text": [
            "[2023-11-28 19:43:56] Evaluate_66: epoch = 0100 train time = 1 s train loss = 0.005223 train acc = 1.0000, test acc = 0.6633\n",
            "Iteration 67\n"
          ]
        },
        {
          "output_type": "stream",
          "name": "stderr",
          "text": [
            "100%|██████████| 50/50 [00:11<00:00,  4.22it/s]\n"
          ]
        },
        {
          "output_type": "stream",
          "name": "stdout",
          "text": [
            "[2023-11-28 19:44:09] Evaluate_67: epoch = 0100 train time = 1 s train loss = 0.006322 train acc = 1.0000, test acc = 0.6377\n",
            "Iteration 68\n"
          ]
        },
        {
          "output_type": "stream",
          "name": "stderr",
          "text": [
            "100%|██████████| 50/50 [00:11<00:00,  4.21it/s]\n"
          ]
        },
        {
          "output_type": "stream",
          "name": "stdout",
          "text": [
            "[2023-11-28 19:44:22] Evaluate_68: epoch = 0100 train time = 1 s train loss = 0.006228 train acc = 1.0000, test acc = 0.6673\n",
            "Iteration 69\n"
          ]
        },
        {
          "output_type": "stream",
          "name": "stderr",
          "text": [
            "100%|██████████| 50/50 [00:11<00:00,  4.20it/s]\n"
          ]
        },
        {
          "output_type": "stream",
          "name": "stdout",
          "text": [
            "[2023-11-28 19:44:36] Evaluate_69: epoch = 0100 train time = 1 s train loss = 0.005997 train acc = 1.0000, test acc = 0.6428\n",
            "Iteration 70\n"
          ]
        },
        {
          "output_type": "stream",
          "name": "stderr",
          "text": [
            "100%|██████████| 50/50 [00:11<00:00,  4.20it/s]\n"
          ]
        },
        {
          "output_type": "stream",
          "name": "stdout",
          "text": [
            "[2023-11-28 19:44:49] Evaluate_70: epoch = 0100 train time = 1 s train loss = 0.006753 train acc = 1.0000, test acc = 0.6858\n",
            "Iteration 71\n"
          ]
        },
        {
          "output_type": "stream",
          "name": "stderr",
          "text": [
            "100%|██████████| 50/50 [00:11<00:00,  4.22it/s]\n"
          ]
        },
        {
          "output_type": "stream",
          "name": "stdout",
          "text": [
            "[2023-11-28 19:45:03] Evaluate_71: epoch = 0100 train time = 1 s train loss = 0.004940 train acc = 1.0000, test acc = 0.6919\n",
            "Iteration 72\n"
          ]
        },
        {
          "output_type": "stream",
          "name": "stderr",
          "text": [
            "100%|██████████| 50/50 [00:12<00:00,  4.07it/s]\n"
          ]
        },
        {
          "output_type": "stream",
          "name": "stdout",
          "text": [
            "[2023-11-28 19:45:16] Evaluate_72: epoch = 0100 train time = 1 s train loss = 0.004862 train acc = 1.0000, test acc = 0.6745\n",
            "Iteration 73\n"
          ]
        },
        {
          "output_type": "stream",
          "name": "stderr",
          "text": [
            "100%|██████████| 50/50 [00:11<00:00,  4.21it/s]\n"
          ]
        },
        {
          "output_type": "stream",
          "name": "stdout",
          "text": [
            "[2023-11-28 19:45:30] Evaluate_73: epoch = 0100 train time = 1 s train loss = 0.006603 train acc = 1.0000, test acc = 0.6469\n",
            "Iteration 74\n"
          ]
        },
        {
          "output_type": "stream",
          "name": "stderr",
          "text": [
            "100%|██████████| 50/50 [00:11<00:00,  4.20it/s]\n"
          ]
        },
        {
          "output_type": "stream",
          "name": "stdout",
          "text": [
            "[2023-11-28 19:45:43] Evaluate_74: epoch = 0100 train time = 1 s train loss = 0.005710 train acc = 1.0000, test acc = 0.6745\n",
            "Iteration 75\n"
          ]
        },
        {
          "output_type": "stream",
          "name": "stderr",
          "text": [
            "100%|██████████| 50/50 [00:11<00:00,  4.19it/s]\n"
          ]
        },
        {
          "output_type": "stream",
          "name": "stdout",
          "text": [
            "[2023-11-28 19:45:57] Evaluate_75: epoch = 0100 train time = 1 s train loss = 0.006713 train acc = 1.0000, test acc = 0.7073\n",
            "Iteration 76\n"
          ]
        },
        {
          "output_type": "stream",
          "name": "stderr",
          "text": [
            "100%|██████████| 50/50 [00:11<00:00,  4.21it/s]\n"
          ]
        },
        {
          "output_type": "stream",
          "name": "stdout",
          "text": [
            "[2023-11-28 19:46:10] Evaluate_76: epoch = 0100 train time = 1 s train loss = 0.006054 train acc = 1.0000, test acc = 0.7021\n",
            "Iteration 77\n"
          ]
        },
        {
          "output_type": "stream",
          "name": "stderr",
          "text": [
            "100%|██████████| 50/50 [00:12<00:00,  4.04it/s]\n"
          ]
        },
        {
          "output_type": "stream",
          "name": "stdout",
          "text": [
            "[2023-11-28 19:46:24] Evaluate_77: epoch = 0100 train time = 1 s train loss = 0.005964 train acc = 1.0000, test acc = 0.6520\n",
            "Iteration 78\n"
          ]
        },
        {
          "output_type": "stream",
          "name": "stderr",
          "text": [
            "100%|██████████| 50/50 [00:11<00:00,  4.22it/s]\n"
          ]
        },
        {
          "output_type": "stream",
          "name": "stdout",
          "text": [
            "[2023-11-28 19:46:37] Evaluate_78: epoch = 0100 train time = 1 s train loss = 0.005312 train acc = 1.0000, test acc = 0.6847\n",
            "Iteration 79\n"
          ]
        },
        {
          "output_type": "stream",
          "name": "stderr",
          "text": [
            "100%|██████████| 50/50 [00:11<00:00,  4.21it/s]\n"
          ]
        },
        {
          "output_type": "stream",
          "name": "stdout",
          "text": [
            "[2023-11-28 19:46:51] Evaluate_79: epoch = 0100 train time = 1 s train loss = 0.005324 train acc = 1.0000, test acc = 0.6817\n",
            "Iteration 80\n"
          ]
        },
        {
          "output_type": "stream",
          "name": "stderr",
          "text": [
            "100%|██████████| 50/50 [00:11<00:00,  4.20it/s]\n"
          ]
        },
        {
          "output_type": "stream",
          "name": "stdout",
          "text": [
            "[2023-11-28 19:47:04] Evaluate_80: epoch = 0100 train time = 1 s train loss = 0.005515 train acc = 1.0000, test acc = 0.6909\n",
            "Iteration 81\n"
          ]
        },
        {
          "output_type": "stream",
          "name": "stderr",
          "text": [
            "100%|██████████| 50/50 [00:11<00:00,  4.20it/s]\n"
          ]
        },
        {
          "output_type": "stream",
          "name": "stdout",
          "text": [
            "[2023-11-28 19:47:18] Evaluate_81: epoch = 0100 train time = 1 s train loss = 0.005728 train acc = 1.0000, test acc = 0.6704\n",
            "Iteration 82\n"
          ]
        },
        {
          "output_type": "stream",
          "name": "stderr",
          "text": [
            "100%|██████████| 50/50 [00:11<00:00,  4.21it/s]\n"
          ]
        },
        {
          "output_type": "stream",
          "name": "stdout",
          "text": [
            "[2023-11-28 19:47:31] Evaluate_82: epoch = 0100 train time = 1 s train loss = 0.004945 train acc = 1.0000, test acc = 0.6909\n",
            "Iteration 83\n"
          ]
        },
        {
          "output_type": "stream",
          "name": "stderr",
          "text": [
            "100%|██████████| 50/50 [00:11<00:00,  4.22it/s]\n"
          ]
        },
        {
          "output_type": "stream",
          "name": "stdout",
          "text": [
            "[2023-11-28 19:47:44] Evaluate_83: epoch = 0100 train time = 1 s train loss = 0.006729 train acc = 1.0000, test acc = 0.6704\n",
            "Iteration 84\n"
          ]
        },
        {
          "output_type": "stream",
          "name": "stderr",
          "text": [
            "100%|██████████| 50/50 [00:11<00:00,  4.21it/s]\n"
          ]
        },
        {
          "output_type": "stream",
          "name": "stdout",
          "text": [
            "[2023-11-28 19:47:58] Evaluate_84: epoch = 0100 train time = 1 s train loss = 0.005065 train acc = 1.0000, test acc = 0.6899\n",
            "Iteration 85\n"
          ]
        },
        {
          "output_type": "stream",
          "name": "stderr",
          "text": [
            "100%|██████████| 50/50 [00:11<00:00,  4.19it/s]\n"
          ]
        },
        {
          "output_type": "stream",
          "name": "stdout",
          "text": [
            "[2023-11-28 19:48:11] Evaluate_85: epoch = 0100 train time = 1 s train loss = 0.005392 train acc = 1.0000, test acc = 0.6868\n",
            "Iteration 86\n"
          ]
        },
        {
          "output_type": "stream",
          "name": "stderr",
          "text": [
            "100%|██████████| 50/50 [00:11<00:00,  4.20it/s]\n"
          ]
        },
        {
          "output_type": "stream",
          "name": "stdout",
          "text": [
            "[2023-11-28 19:48:25] Evaluate_86: epoch = 0100 train time = 1 s train loss = 0.006151 train acc = 1.0000, test acc = 0.6633\n",
            "Iteration 87\n"
          ]
        },
        {
          "output_type": "stream",
          "name": "stderr",
          "text": [
            "100%|██████████| 50/50 [00:11<00:00,  4.21it/s]\n"
          ]
        },
        {
          "output_type": "stream",
          "name": "stdout",
          "text": [
            "[2023-11-28 19:48:38] Evaluate_87: epoch = 0100 train time = 1 s train loss = 0.004895 train acc = 1.0000, test acc = 0.7134\n",
            "Iteration 88\n"
          ]
        },
        {
          "output_type": "stream",
          "name": "stderr",
          "text": [
            "100%|██████████| 50/50 [00:11<00:00,  4.22it/s]\n"
          ]
        },
        {
          "output_type": "stream",
          "name": "stdout",
          "text": [
            "[2023-11-28 19:48:51] Evaluate_88: epoch = 0100 train time = 1 s train loss = 0.006257 train acc = 1.0000, test acc = 0.6540\n",
            "Iteration 89\n"
          ]
        },
        {
          "output_type": "stream",
          "name": "stderr",
          "text": [
            "100%|██████████| 50/50 [00:11<00:00,  4.22it/s]\n"
          ]
        },
        {
          "output_type": "stream",
          "name": "stdout",
          "text": [
            "[2023-11-28 19:49:05] Evaluate_89: epoch = 0100 train time = 1 s train loss = 0.005554 train acc = 1.0000, test acc = 0.6899\n",
            "Iteration 90\n"
          ]
        },
        {
          "output_type": "stream",
          "name": "stderr",
          "text": [
            "100%|██████████| 50/50 [00:11<00:00,  4.19it/s]\n"
          ]
        },
        {
          "output_type": "stream",
          "name": "stdout",
          "text": [
            "[2023-11-28 19:49:18] Evaluate_90: epoch = 0100 train time = 1 s train loss = 0.007444 train acc = 1.0000, test acc = 0.7042\n",
            "Iteration 91\n"
          ]
        },
        {
          "output_type": "stream",
          "name": "stderr",
          "text": [
            "100%|██████████| 50/50 [00:11<00:00,  4.20it/s]\n"
          ]
        },
        {
          "output_type": "stream",
          "name": "stdout",
          "text": [
            "[2023-11-28 19:49:32] Evaluate_91: epoch = 0100 train time = 1 s train loss = 0.006056 train acc = 1.0000, test acc = 0.6397\n",
            "Iteration 92\n"
          ]
        },
        {
          "output_type": "stream",
          "name": "stderr",
          "text": [
            "100%|██████████| 50/50 [00:11<00:00,  4.20it/s]\n"
          ]
        },
        {
          "output_type": "stream",
          "name": "stdout",
          "text": [
            "[2023-11-28 19:49:45] Evaluate_92: epoch = 0100 train time = 1 s train loss = 0.005670 train acc = 1.0000, test acc = 0.6858\n",
            "Iteration 93\n"
          ]
        },
        {
          "output_type": "stream",
          "name": "stderr",
          "text": [
            "100%|██████████| 50/50 [00:11<00:00,  4.21it/s]\n"
          ]
        },
        {
          "output_type": "stream",
          "name": "stdout",
          "text": [
            "[2023-11-28 19:49:59] Evaluate_93: epoch = 0100 train time = 1 s train loss = 0.006191 train acc = 1.0000, test acc = 0.6745\n",
            "Iteration 94\n"
          ]
        },
        {
          "output_type": "stream",
          "name": "stderr",
          "text": [
            "100%|██████████| 50/50 [00:11<00:00,  4.22it/s]\n"
          ]
        },
        {
          "output_type": "stream",
          "name": "stdout",
          "text": [
            "[2023-11-28 19:50:12] Evaluate_94: epoch = 0100 train time = 1 s train loss = 0.007182 train acc = 1.0000, test acc = 0.6796\n",
            "Iteration 95\n"
          ]
        },
        {
          "output_type": "stream",
          "name": "stderr",
          "text": [
            "100%|██████████| 50/50 [00:11<00:00,  4.22it/s]\n"
          ]
        },
        {
          "output_type": "stream",
          "name": "stdout",
          "text": [
            "[2023-11-28 19:50:25] Evaluate_95: epoch = 0100 train time = 1 s train loss = 0.006585 train acc = 1.0000, test acc = 0.6929\n",
            "Iteration 96\n"
          ]
        },
        {
          "output_type": "stream",
          "name": "stderr",
          "text": [
            "100%|██████████| 50/50 [00:11<00:00,  4.20it/s]\n"
          ]
        },
        {
          "output_type": "stream",
          "name": "stdout",
          "text": [
            "[2023-11-28 19:50:39] Evaluate_96: epoch = 0100 train time = 1 s train loss = 0.005094 train acc = 1.0000, test acc = 0.7093\n",
            "Iteration 97\n"
          ]
        },
        {
          "output_type": "stream",
          "name": "stderr",
          "text": [
            "100%|██████████| 50/50 [00:11<00:00,  4.19it/s]\n"
          ]
        },
        {
          "output_type": "stream",
          "name": "stdout",
          "text": [
            "[2023-11-28 19:50:52] Evaluate_97: epoch = 0100 train time = 1 s train loss = 0.005820 train acc = 1.0000, test acc = 0.6653\n",
            "Iteration 98\n"
          ]
        },
        {
          "output_type": "stream",
          "name": "stderr",
          "text": [
            "100%|██████████| 50/50 [00:11<00:00,  4.20it/s]\n"
          ]
        },
        {
          "output_type": "stream",
          "name": "stdout",
          "text": [
            "[2023-11-28 19:51:06] Evaluate_98: epoch = 0100 train time = 1 s train loss = 0.005032 train acc = 1.0000, test acc = 0.6540\n",
            "Iteration 99\n"
          ]
        },
        {
          "output_type": "stream",
          "name": "stderr",
          "text": [
            "100%|██████████| 50/50 [00:11<00:00,  4.21it/s]\n"
          ]
        },
        {
          "output_type": "stream",
          "name": "stdout",
          "text": [
            "[2023-11-28 19:51:19] Evaluate_99: epoch = 0100 train time = 1 s train loss = 0.005407 train acc = 1.0000, test acc = 0.6510\n",
            "Iteration 100\n"
          ]
        },
        {
          "output_type": "stream",
          "name": "stderr",
          "text": [
            "100%|██████████| 50/50 [00:11<00:00,  4.22it/s]\n"
          ]
        },
        {
          "output_type": "stream",
          "name": "stdout",
          "text": [
            "[2023-11-28 19:51:33] Evaluate_100: epoch = 0100 train time = 1 s train loss = 0.005793 train acc = 1.0000, test acc = 0.6489\n",
            "Iteration 101\n"
          ]
        },
        {
          "output_type": "stream",
          "name": "stderr",
          "text": [
            "100%|██████████| 50/50 [00:11<00:00,  4.20it/s]\n"
          ]
        },
        {
          "output_type": "stream",
          "name": "stdout",
          "text": [
            "[2023-11-28 19:51:46] Evaluate_101: epoch = 0100 train time = 1 s train loss = 0.006147 train acc = 1.0000, test acc = 0.6551\n",
            "Iteration 102\n"
          ]
        },
        {
          "output_type": "stream",
          "name": "stderr",
          "text": [
            "100%|██████████| 50/50 [00:11<00:00,  4.20it/s]\n"
          ]
        },
        {
          "output_type": "stream",
          "name": "stdout",
          "text": [
            "[2023-11-28 19:51:59] Evaluate_102: epoch = 0100 train time = 1 s train loss = 0.004609 train acc = 1.0000, test acc = 0.6407\n",
            "Iteration 103\n"
          ]
        },
        {
          "output_type": "stream",
          "name": "stderr",
          "text": [
            "100%|██████████| 50/50 [00:11<00:00,  4.20it/s]\n"
          ]
        },
        {
          "output_type": "stream",
          "name": "stdout",
          "text": [
            "[2023-11-28 19:52:13] Evaluate_103: epoch = 0100 train time = 1 s train loss = 0.006073 train acc = 1.0000, test acc = 0.6704\n",
            "Iteration 104\n"
          ]
        },
        {
          "output_type": "stream",
          "name": "stderr",
          "text": [
            "100%|██████████| 50/50 [00:11<00:00,  4.20it/s]\n"
          ]
        },
        {
          "output_type": "stream",
          "name": "stdout",
          "text": [
            "[2023-11-28 19:52:26] Evaluate_104: epoch = 0100 train time = 1 s train loss = 0.007075 train acc = 1.0000, test acc = 0.6581\n",
            "Iteration 105\n"
          ]
        },
        {
          "output_type": "stream",
          "name": "stderr",
          "text": [
            "100%|██████████| 50/50 [00:11<00:00,  4.21it/s]\n"
          ]
        },
        {
          "output_type": "stream",
          "name": "stdout",
          "text": [
            "[2023-11-28 19:52:40] Evaluate_105: epoch = 0100 train time = 1 s train loss = 0.006254 train acc = 1.0000, test acc = 0.6858\n",
            "Iteration 106\n"
          ]
        },
        {
          "output_type": "stream",
          "name": "stderr",
          "text": [
            "100%|██████████| 50/50 [00:11<00:00,  4.21it/s]\n"
          ]
        },
        {
          "output_type": "stream",
          "name": "stdout",
          "text": [
            "[2023-11-28 19:52:53] Evaluate_106: epoch = 0100 train time = 1 s train loss = 0.007044 train acc = 1.0000, test acc = 0.6858\n",
            "Iteration 107\n"
          ]
        },
        {
          "output_type": "stream",
          "name": "stderr",
          "text": [
            "100%|██████████| 50/50 [00:11<00:00,  4.19it/s]\n"
          ]
        },
        {
          "output_type": "stream",
          "name": "stdout",
          "text": [
            "[2023-11-28 19:53:07] Evaluate_107: epoch = 0100 train time = 1 s train loss = 0.005681 train acc = 1.0000, test acc = 0.6643\n",
            "Iteration 108\n"
          ]
        },
        {
          "output_type": "stream",
          "name": "stderr",
          "text": [
            "100%|██████████| 50/50 [00:11<00:00,  4.20it/s]\n"
          ]
        },
        {
          "output_type": "stream",
          "name": "stdout",
          "text": [
            "[2023-11-28 19:53:20] Evaluate_108: epoch = 0100 train time = 1 s train loss = 0.005889 train acc = 1.0000, test acc = 0.6459\n",
            "Iteration 109\n"
          ]
        },
        {
          "output_type": "stream",
          "name": "stderr",
          "text": [
            "100%|██████████| 50/50 [00:11<00:00,  4.20it/s]\n"
          ]
        },
        {
          "output_type": "stream",
          "name": "stdout",
          "text": [
            "[2023-11-28 19:53:33] Evaluate_109: epoch = 0100 train time = 1 s train loss = 0.005425 train acc = 1.0000, test acc = 0.6673\n",
            "Iteration 110\n"
          ]
        },
        {
          "output_type": "stream",
          "name": "stderr",
          "text": [
            "100%|██████████| 50/50 [00:11<00:00,  4.21it/s]\n"
          ]
        },
        {
          "output_type": "stream",
          "name": "stdout",
          "text": [
            "[2023-11-28 19:53:47] Evaluate_110: epoch = 0100 train time = 1 s train loss = 0.006497 train acc = 1.0000, test acc = 0.6581\n",
            "Iteration 111\n"
          ]
        },
        {
          "output_type": "stream",
          "name": "stderr",
          "text": [
            "100%|██████████| 50/50 [00:11<00:00,  4.23it/s]\n"
          ]
        },
        {
          "output_type": "stream",
          "name": "stdout",
          "text": [
            "[2023-11-28 19:54:00] Evaluate_111: epoch = 0100 train time = 1 s train loss = 0.006277 train acc = 1.0000, test acc = 0.6694\n",
            "Iteration 112\n"
          ]
        },
        {
          "output_type": "stream",
          "name": "stderr",
          "text": [
            "100%|██████████| 50/50 [00:11<00:00,  4.21it/s]\n"
          ]
        },
        {
          "output_type": "stream",
          "name": "stdout",
          "text": [
            "[2023-11-28 19:54:14] Evaluate_112: epoch = 0100 train time = 1 s train loss = 0.004775 train acc = 1.0000, test acc = 0.6704\n",
            "Iteration 113\n"
          ]
        },
        {
          "output_type": "stream",
          "name": "stderr",
          "text": [
            "100%|██████████| 50/50 [00:11<00:00,  4.19it/s]\n"
          ]
        },
        {
          "output_type": "stream",
          "name": "stdout",
          "text": [
            "[2023-11-28 19:54:27] Evaluate_113: epoch = 0100 train time = 1 s train loss = 0.006722 train acc = 1.0000, test acc = 0.6847\n",
            "Iteration 114\n"
          ]
        },
        {
          "output_type": "stream",
          "name": "stderr",
          "text": [
            "100%|██████████| 50/50 [00:11<00:00,  4.20it/s]\n"
          ]
        },
        {
          "output_type": "stream",
          "name": "stdout",
          "text": [
            "[2023-11-28 19:54:40] Evaluate_114: epoch = 0100 train time = 1 s train loss = 0.005105 train acc = 1.0000, test acc = 0.6694\n",
            "Iteration 115\n"
          ]
        },
        {
          "output_type": "stream",
          "name": "stderr",
          "text": [
            "100%|██████████| 50/50 [00:11<00:00,  4.21it/s]\n"
          ]
        },
        {
          "output_type": "stream",
          "name": "stdout",
          "text": [
            "[2023-11-28 19:54:54] Evaluate_115: epoch = 0100 train time = 1 s train loss = 0.006238 train acc = 1.0000, test acc = 0.6520\n",
            "Iteration 116\n"
          ]
        },
        {
          "output_type": "stream",
          "name": "stderr",
          "text": [
            "100%|██████████| 50/50 [00:11<00:00,  4.22it/s]\n"
          ]
        },
        {
          "output_type": "stream",
          "name": "stdout",
          "text": [
            "[2023-11-28 19:55:07] Evaluate_116: epoch = 0100 train time = 1 s train loss = 0.004850 train acc = 1.0000, test acc = 0.6684\n",
            "Iteration 117\n"
          ]
        },
        {
          "output_type": "stream",
          "name": "stderr",
          "text": [
            "100%|██████████| 50/50 [00:11<00:00,  4.21it/s]\n"
          ]
        },
        {
          "output_type": "stream",
          "name": "stdout",
          "text": [
            "[2023-11-28 19:55:21] Evaluate_117: epoch = 0100 train time = 1 s train loss = 0.005742 train acc = 1.0000, test acc = 0.6305\n",
            "Iteration 118\n"
          ]
        },
        {
          "output_type": "stream",
          "name": "stderr",
          "text": [
            "100%|██████████| 50/50 [00:12<00:00,  4.12it/s]\n"
          ]
        },
        {
          "output_type": "stream",
          "name": "stdout",
          "text": [
            "[2023-11-28 19:55:34] Evaluate_118: epoch = 0100 train time = 1 s train loss = 0.004705 train acc = 1.0000, test acc = 0.6111\n",
            "Iteration 119\n"
          ]
        },
        {
          "output_type": "stream",
          "name": "stderr",
          "text": [
            "100%|██████████| 50/50 [00:11<00:00,  4.20it/s]\n"
          ]
        },
        {
          "output_type": "stream",
          "name": "stdout",
          "text": [
            "[2023-11-28 19:55:48] Evaluate_119: epoch = 0100 train time = 1 s train loss = 0.004633 train acc = 1.0000, test acc = 0.6755\n",
            "Iteration 120\n"
          ]
        },
        {
          "output_type": "stream",
          "name": "stderr",
          "text": [
            "100%|██████████| 50/50 [00:11<00:00,  4.21it/s]\n"
          ]
        },
        {
          "output_type": "stream",
          "name": "stdout",
          "text": [
            "[2023-11-28 19:56:01] Evaluate_120: epoch = 0100 train time = 1 s train loss = 0.005051 train acc = 1.0000, test acc = 0.6192\n",
            "Iteration 121\n"
          ]
        },
        {
          "output_type": "stream",
          "name": "stderr",
          "text": [
            "100%|██████████| 50/50 [00:11<00:00,  4.22it/s]\n"
          ]
        },
        {
          "output_type": "stream",
          "name": "stdout",
          "text": [
            "[2023-11-28 19:56:15] Evaluate_121: epoch = 0100 train time = 1 s train loss = 0.006251 train acc = 1.0000, test acc = 0.6438\n",
            "Iteration 122\n"
          ]
        },
        {
          "output_type": "stream",
          "name": "stderr",
          "text": [
            "100%|██████████| 50/50 [00:11<00:00,  4.22it/s]\n"
          ]
        },
        {
          "output_type": "stream",
          "name": "stdout",
          "text": [
            "[2023-11-28 19:56:28] Evaluate_122: epoch = 0100 train time = 1 s train loss = 0.006599 train acc = 1.0000, test acc = 0.6592\n",
            "Iteration 123\n"
          ]
        },
        {
          "output_type": "stream",
          "name": "stderr",
          "text": [
            "100%|██████████| 50/50 [00:11<00:00,  4.21it/s]\n"
          ]
        },
        {
          "output_type": "stream",
          "name": "stdout",
          "text": [
            "[2023-11-28 19:56:41] Evaluate_123: epoch = 0100 train time = 1 s train loss = 0.005063 train acc = 1.0000, test acc = 0.6858\n",
            "Iteration 124\n"
          ]
        },
        {
          "output_type": "stream",
          "name": "stderr",
          "text": [
            "100%|██████████| 50/50 [00:11<00:00,  4.19it/s]\n"
          ]
        },
        {
          "output_type": "stream",
          "name": "stdout",
          "text": [
            "[2023-11-28 19:56:55] Evaluate_124: epoch = 0100 train time = 1 s train loss = 0.005175 train acc = 1.0000, test acc = 0.6356\n",
            "Iteration 125\n"
          ]
        },
        {
          "output_type": "stream",
          "name": "stderr",
          "text": [
            "100%|██████████| 50/50 [00:11<00:00,  4.20it/s]\n"
          ]
        },
        {
          "output_type": "stream",
          "name": "stdout",
          "text": [
            "[2023-11-28 19:57:08] Evaluate_125: epoch = 0100 train time = 1 s train loss = 0.004898 train acc = 1.0000, test acc = 0.6684\n",
            "Iteration 126\n"
          ]
        },
        {
          "output_type": "stream",
          "name": "stderr",
          "text": [
            "100%|██████████| 50/50 [00:11<00:00,  4.19it/s]\n"
          ]
        },
        {
          "output_type": "stream",
          "name": "stdout",
          "text": [
            "[2023-11-28 19:57:22] Evaluate_126: epoch = 0100 train time = 1 s train loss = 0.006155 train acc = 1.0000, test acc = 0.6571\n",
            "Iteration 127\n"
          ]
        },
        {
          "output_type": "stream",
          "name": "stderr",
          "text": [
            "100%|██████████| 50/50 [00:11<00:00,  4.22it/s]\n"
          ]
        },
        {
          "output_type": "stream",
          "name": "stdout",
          "text": [
            "[2023-11-28 19:57:35] Evaluate_127: epoch = 0100 train time = 1 s train loss = 0.005047 train acc = 1.0000, test acc = 0.6499\n",
            "Iteration 128\n"
          ]
        },
        {
          "output_type": "stream",
          "name": "stderr",
          "text": [
            "100%|██████████| 50/50 [00:11<00:00,  4.23it/s]\n"
          ]
        },
        {
          "output_type": "stream",
          "name": "stdout",
          "text": [
            "[2023-11-28 19:57:48] Evaluate_128: epoch = 0100 train time = 1 s train loss = 0.005960 train acc = 1.0000, test acc = 0.6090\n",
            "Iteration 129\n"
          ]
        },
        {
          "output_type": "stream",
          "name": "stderr",
          "text": [
            "100%|██████████| 50/50 [00:11<00:00,  4.20it/s]\n"
          ]
        },
        {
          "output_type": "stream",
          "name": "stdout",
          "text": [
            "[2023-11-28 19:58:02] Evaluate_129: epoch = 0100 train time = 1 s train loss = 0.006434 train acc = 1.0000, test acc = 0.6612\n",
            "Iteration 130\n"
          ]
        },
        {
          "output_type": "stream",
          "name": "stderr",
          "text": [
            "100%|██████████| 50/50 [00:11<00:00,  4.20it/s]\n"
          ]
        },
        {
          "output_type": "stream",
          "name": "stdout",
          "text": [
            "[2023-11-28 19:58:15] Evaluate_130: epoch = 0100 train time = 1 s train loss = 0.007199 train acc = 1.0000, test acc = 0.6847\n",
            "Iteration 131\n"
          ]
        },
        {
          "output_type": "stream",
          "name": "stderr",
          "text": [
            "100%|██████████| 50/50 [00:11<00:00,  4.19it/s]\n"
          ]
        },
        {
          "output_type": "stream",
          "name": "stdout",
          "text": [
            "[2023-11-28 19:58:29] Evaluate_131: epoch = 0100 train time = 1 s train loss = 0.005244 train acc = 1.0000, test acc = 0.6438\n",
            "Iteration 132\n"
          ]
        },
        {
          "output_type": "stream",
          "name": "stderr",
          "text": [
            "100%|██████████| 50/50 [00:11<00:00,  4.22it/s]\n"
          ]
        },
        {
          "output_type": "stream",
          "name": "stdout",
          "text": [
            "[2023-11-28 19:58:42] Evaluate_132: epoch = 0100 train time = 1 s train loss = 0.003365 train acc = 1.0000, test acc = 0.6080\n",
            "Iteration 133\n"
          ]
        },
        {
          "output_type": "stream",
          "name": "stderr",
          "text": [
            "100%|██████████| 50/50 [00:11<00:00,  4.22it/s]\n"
          ]
        },
        {
          "output_type": "stream",
          "name": "stdout",
          "text": [
            "[2023-11-28 19:58:56] Evaluate_133: epoch = 0100 train time = 1 s train loss = 0.004712 train acc = 1.0000, test acc = 0.6663\n",
            "Iteration 134\n"
          ]
        },
        {
          "output_type": "stream",
          "name": "stderr",
          "text": [
            "100%|██████████| 50/50 [00:11<00:00,  4.22it/s]\n"
          ]
        },
        {
          "output_type": "stream",
          "name": "stdout",
          "text": [
            "[2023-11-28 19:59:09] Evaluate_134: epoch = 0100 train time = 1 s train loss = 0.004880 train acc = 1.0000, test acc = 0.7011\n",
            "Iteration 135\n"
          ]
        },
        {
          "output_type": "stream",
          "name": "stderr",
          "text": [
            "100%|██████████| 50/50 [00:11<00:00,  4.21it/s]\n"
          ]
        },
        {
          "output_type": "stream",
          "name": "stdout",
          "text": [
            "[2023-11-28 19:59:22] Evaluate_135: epoch = 0100 train time = 1 s train loss = 0.004117 train acc = 1.0000, test acc = 0.6428\n",
            "Iteration 136\n"
          ]
        },
        {
          "output_type": "stream",
          "name": "stderr",
          "text": [
            "100%|██████████| 50/50 [00:11<00:00,  4.21it/s]\n"
          ]
        },
        {
          "output_type": "stream",
          "name": "stdout",
          "text": [
            "[2023-11-28 19:59:36] Evaluate_136: epoch = 0100 train time = 1 s train loss = 0.005128 train acc = 1.0000, test acc = 0.6459\n",
            "Iteration 137\n"
          ]
        },
        {
          "output_type": "stream",
          "name": "stderr",
          "text": [
            "100%|██████████| 50/50 [00:11<00:00,  4.21it/s]\n"
          ]
        },
        {
          "output_type": "stream",
          "name": "stdout",
          "text": [
            "[2023-11-28 19:59:49] Evaluate_137: epoch = 0100 train time = 1 s train loss = 0.005476 train acc = 1.0000, test acc = 0.6776\n",
            "Iteration 138\n"
          ]
        },
        {
          "output_type": "stream",
          "name": "stderr",
          "text": [
            "100%|██████████| 50/50 [00:11<00:00,  4.22it/s]\n"
          ]
        },
        {
          "output_type": "stream",
          "name": "stdout",
          "text": [
            "[2023-11-28 20:00:02] Evaluate_138: epoch = 0100 train time = 1 s train loss = 0.005549 train acc = 1.0000, test acc = 0.6663\n",
            "Iteration 139\n"
          ]
        },
        {
          "output_type": "stream",
          "name": "stderr",
          "text": [
            "100%|██████████| 50/50 [00:11<00:00,  4.23it/s]\n"
          ]
        },
        {
          "output_type": "stream",
          "name": "stdout",
          "text": [
            "[2023-11-28 20:00:16] Evaluate_139: epoch = 0100 train time = 1 s train loss = 0.005776 train acc = 1.0000, test acc = 0.6684\n",
            "Iteration 140\n"
          ]
        },
        {
          "output_type": "stream",
          "name": "stderr",
          "text": [
            "100%|██████████| 50/50 [00:11<00:00,  4.22it/s]\n"
          ]
        },
        {
          "output_type": "stream",
          "name": "stdout",
          "text": [
            "[2023-11-28 20:00:29] Evaluate_140: epoch = 0100 train time = 1 s train loss = 0.005361 train acc = 1.0000, test acc = 0.6315\n",
            "Iteration 141\n"
          ]
        },
        {
          "output_type": "stream",
          "name": "stderr",
          "text": [
            "100%|██████████| 50/50 [00:11<00:00,  4.21it/s]\n"
          ]
        },
        {
          "output_type": "stream",
          "name": "stdout",
          "text": [
            "[2023-11-28 20:00:43] Evaluate_141: epoch = 0100 train time = 1 s train loss = 0.004812 train acc = 1.0000, test acc = 0.6244\n",
            "Iteration 142\n"
          ]
        },
        {
          "output_type": "stream",
          "name": "stderr",
          "text": [
            "100%|██████████| 50/50 [00:11<00:00,  4.20it/s]\n"
          ]
        },
        {
          "output_type": "stream",
          "name": "stdout",
          "text": [
            "[2023-11-28 20:00:56] Evaluate_142: epoch = 0100 train time = 1 s train loss = 0.005013 train acc = 1.0000, test acc = 0.6448\n",
            "Iteration 143\n"
          ]
        },
        {
          "output_type": "stream",
          "name": "stderr",
          "text": [
            "100%|██████████| 50/50 [00:11<00:00,  4.21it/s]\n"
          ]
        },
        {
          "output_type": "stream",
          "name": "stdout",
          "text": [
            "[2023-11-28 20:01:09] Evaluate_143: epoch = 0100 train time = 1 s train loss = 0.005885 train acc = 1.0000, test acc = 0.6714\n",
            "Iteration 144\n"
          ]
        },
        {
          "output_type": "stream",
          "name": "stderr",
          "text": [
            "100%|██████████| 50/50 [00:11<00:00,  4.23it/s]\n"
          ]
        },
        {
          "output_type": "stream",
          "name": "stdout",
          "text": [
            "[2023-11-28 20:01:23] Evaluate_144: epoch = 0100 train time = 1 s train loss = 0.005017 train acc = 1.0000, test acc = 0.6469\n",
            "Iteration 145\n"
          ]
        },
        {
          "output_type": "stream",
          "name": "stderr",
          "text": [
            "100%|██████████| 50/50 [00:11<00:00,  4.23it/s]\n"
          ]
        },
        {
          "output_type": "stream",
          "name": "stdout",
          "text": [
            "[2023-11-28 20:01:36] Evaluate_145: epoch = 0100 train time = 1 s train loss = 0.005616 train acc = 1.0000, test acc = 0.6008\n",
            "Iteration 146\n"
          ]
        },
        {
          "output_type": "stream",
          "name": "stderr",
          "text": [
            "100%|██████████| 50/50 [00:11<00:00,  4.21it/s]\n"
          ]
        },
        {
          "output_type": "stream",
          "name": "stdout",
          "text": [
            "[2023-11-28 20:01:50] Evaluate_146: epoch = 0100 train time = 1 s train loss = 0.005936 train acc = 1.0000, test acc = 0.6919\n",
            "Iteration 147\n"
          ]
        },
        {
          "output_type": "stream",
          "name": "stderr",
          "text": [
            "100%|██████████| 50/50 [00:11<00:00,  4.21it/s]\n"
          ]
        },
        {
          "output_type": "stream",
          "name": "stdout",
          "text": [
            "[2023-11-28 20:02:03] Evaluate_147: epoch = 0100 train time = 1 s train loss = 0.006282 train acc = 1.0000, test acc = 0.6714\n",
            "Iteration 148\n"
          ]
        },
        {
          "output_type": "stream",
          "name": "stderr",
          "text": [
            "100%|██████████| 50/50 [00:11<00:00,  4.21it/s]\n"
          ]
        },
        {
          "output_type": "stream",
          "name": "stdout",
          "text": [
            "[2023-11-28 20:02:16] Evaluate_148: epoch = 0100 train time = 1 s train loss = 0.005668 train acc = 1.0000, test acc = 0.6633\n",
            "Iteration 149\n"
          ]
        },
        {
          "output_type": "stream",
          "name": "stderr",
          "text": [
            "100%|██████████| 50/50 [00:11<00:00,  4.22it/s]\n"
          ]
        },
        {
          "output_type": "stream",
          "name": "stdout",
          "text": [
            "[2023-11-28 20:02:30] Evaluate_149: epoch = 0100 train time = 1 s train loss = 0.005127 train acc = 1.0000, test acc = 0.6479\n",
            "Iteration 150\n"
          ]
        },
        {
          "output_type": "stream",
          "name": "stderr",
          "text": [
            "100%|██████████| 50/50 [00:11<00:00,  4.23it/s]\n"
          ]
        },
        {
          "output_type": "stream",
          "name": "stdout",
          "text": [
            "[2023-11-28 20:02:43] Evaluate_150: epoch = 0100 train time = 1 s train loss = 0.006083 train acc = 1.0000, test acc = 0.6561\n",
            "Iteration 151\n"
          ]
        },
        {
          "output_type": "stream",
          "name": "stderr",
          "text": [
            "100%|██████████| 50/50 [00:11<00:00,  4.23it/s]\n"
          ]
        },
        {
          "output_type": "stream",
          "name": "stdout",
          "text": [
            "[2023-11-28 20:02:56] Evaluate_151: epoch = 0100 train time = 1 s train loss = 0.005924 train acc = 1.0000, test acc = 0.6571\n",
            "Iteration 152\n"
          ]
        },
        {
          "output_type": "stream",
          "name": "stderr",
          "text": [
            "100%|██████████| 50/50 [00:11<00:00,  4.21it/s]\n"
          ]
        },
        {
          "output_type": "stream",
          "name": "stdout",
          "text": [
            "[2023-11-28 20:03:10] Evaluate_152: epoch = 0100 train time = 1 s train loss = 0.005192 train acc = 1.0000, test acc = 0.6786\n",
            "Iteration 153\n"
          ]
        },
        {
          "output_type": "stream",
          "name": "stderr",
          "text": [
            "100%|██████████| 50/50 [00:11<00:00,  4.21it/s]\n"
          ]
        },
        {
          "output_type": "stream",
          "name": "stdout",
          "text": [
            "[2023-11-28 20:03:23] Evaluate_153: epoch = 0100 train time = 1 s train loss = 0.005325 train acc = 1.0000, test acc = 0.6387\n",
            "Iteration 154\n"
          ]
        },
        {
          "output_type": "stream",
          "name": "stderr",
          "text": [
            "100%|██████████| 50/50 [00:11<00:00,  4.21it/s]\n"
          ]
        },
        {
          "output_type": "stream",
          "name": "stdout",
          "text": [
            "[2023-11-28 20:03:37] Evaluate_154: epoch = 0100 train time = 1 s train loss = 0.004971 train acc = 1.0000, test acc = 0.6459\n",
            "Iteration 155\n"
          ]
        },
        {
          "output_type": "stream",
          "name": "stderr",
          "text": [
            "100%|██████████| 50/50 [00:11<00:00,  4.22it/s]\n"
          ]
        },
        {
          "output_type": "stream",
          "name": "stdout",
          "text": [
            "[2023-11-28 20:03:50] Evaluate_155: epoch = 0100 train time = 1 s train loss = 0.004820 train acc = 1.0000, test acc = 0.6029\n",
            "Iteration 156\n"
          ]
        },
        {
          "output_type": "stream",
          "name": "stderr",
          "text": [
            "100%|██████████| 50/50 [00:11<00:00,  4.21it/s]\n"
          ]
        },
        {
          "output_type": "stream",
          "name": "stdout",
          "text": [
            "[2023-11-28 20:04:03] Evaluate_156: epoch = 0100 train time = 1 s train loss = 0.005052 train acc = 1.0000, test acc = 0.6346\n",
            "Iteration 157\n"
          ]
        },
        {
          "output_type": "stream",
          "name": "stderr",
          "text": [
            "100%|██████████| 50/50 [00:11<00:00,  4.22it/s]\n"
          ]
        },
        {
          "output_type": "stream",
          "name": "stdout",
          "text": [
            "[2023-11-28 20:04:17] Evaluate_157: epoch = 0100 train time = 1 s train loss = 0.004582 train acc = 1.0000, test acc = 0.6448\n",
            "Iteration 158\n"
          ]
        },
        {
          "output_type": "stream",
          "name": "stderr",
          "text": [
            "100%|██████████| 50/50 [00:11<00:00,  4.22it/s]\n"
          ]
        },
        {
          "output_type": "stream",
          "name": "stdout",
          "text": [
            "[2023-11-28 20:04:30] Evaluate_158: epoch = 0100 train time = 1 s train loss = 0.004625 train acc = 1.0000, test acc = 0.6602\n",
            "Iteration 159\n"
          ]
        },
        {
          "output_type": "stream",
          "name": "stderr",
          "text": [
            "100%|██████████| 50/50 [00:11<00:00,  4.21it/s]\n"
          ]
        },
        {
          "output_type": "stream",
          "name": "stdout",
          "text": [
            "[2023-11-28 20:04:44] Evaluate_159: epoch = 0100 train time = 1 s train loss = 0.003608 train acc = 1.0000, test acc = 0.6581\n",
            "Iteration 160\n"
          ]
        },
        {
          "output_type": "stream",
          "name": "stderr",
          "text": [
            "100%|██████████| 50/50 [00:11<00:00,  4.21it/s]\n"
          ]
        },
        {
          "output_type": "stream",
          "name": "stdout",
          "text": [
            "[2023-11-28 20:04:57] Evaluate_160: epoch = 0100 train time = 1 s train loss = 0.006151 train acc = 1.0000, test acc = 0.6551\n",
            "Iteration 161\n"
          ]
        },
        {
          "output_type": "stream",
          "name": "stderr",
          "text": [
            "100%|██████████| 50/50 [00:11<00:00,  4.22it/s]\n"
          ]
        },
        {
          "output_type": "stream",
          "name": "stdout",
          "text": [
            "[2023-11-28 20:05:10] Evaluate_161: epoch = 0100 train time = 1 s train loss = 0.004957 train acc = 1.0000, test acc = 0.6612\n",
            "Iteration 162\n"
          ]
        },
        {
          "output_type": "stream",
          "name": "stderr",
          "text": [
            "100%|██████████| 50/50 [00:11<00:00,  4.22it/s]\n"
          ]
        },
        {
          "output_type": "stream",
          "name": "stdout",
          "text": [
            "[2023-11-28 20:05:24] Evaluate_162: epoch = 0100 train time = 1 s train loss = 0.005936 train acc = 1.0000, test acc = 0.6377\n",
            "Iteration 163\n"
          ]
        },
        {
          "output_type": "stream",
          "name": "stderr",
          "text": [
            "100%|██████████| 50/50 [00:11<00:00,  4.21it/s]\n"
          ]
        },
        {
          "output_type": "stream",
          "name": "stdout",
          "text": [
            "[2023-11-28 20:05:37] Evaluate_163: epoch = 0100 train time = 1 s train loss = 0.005665 train acc = 1.0000, test acc = 0.6192\n",
            "Iteration 164\n"
          ]
        },
        {
          "output_type": "stream",
          "name": "stderr",
          "text": [
            "100%|██████████| 50/50 [00:11<00:00,  4.20it/s]\n"
          ]
        },
        {
          "output_type": "stream",
          "name": "stdout",
          "text": [
            "[2023-11-28 20:05:51] Evaluate_164: epoch = 0100 train time = 1 s train loss = 0.004652 train acc = 1.0000, test acc = 0.6285\n",
            "Iteration 165\n"
          ]
        },
        {
          "output_type": "stream",
          "name": "stderr",
          "text": [
            "100%|██████████| 50/50 [00:11<00:00,  4.20it/s]\n"
          ]
        },
        {
          "output_type": "stream",
          "name": "stdout",
          "text": [
            "[2023-11-28 20:06:04] Evaluate_165: epoch = 0100 train time = 1 s train loss = 0.004808 train acc = 1.0000, test acc = 0.6438\n",
            "Iteration 166\n"
          ]
        },
        {
          "output_type": "stream",
          "name": "stderr",
          "text": [
            "100%|██████████| 50/50 [00:11<00:00,  4.21it/s]\n"
          ]
        },
        {
          "output_type": "stream",
          "name": "stdout",
          "text": [
            "[2023-11-28 20:06:17] Evaluate_166: epoch = 0100 train time = 1 s train loss = 0.004968 train acc = 1.0000, test acc = 0.6489\n",
            "Iteration 167\n"
          ]
        },
        {
          "output_type": "stream",
          "name": "stderr",
          "text": [
            "100%|██████████| 50/50 [00:11<00:00,  4.23it/s]\n"
          ]
        },
        {
          "output_type": "stream",
          "name": "stdout",
          "text": [
            "[2023-11-28 20:06:31] Evaluate_167: epoch = 0100 train time = 1 s train loss = 0.005230 train acc = 1.0000, test acc = 0.6766\n",
            "Iteration 168\n"
          ]
        },
        {
          "output_type": "stream",
          "name": "stderr",
          "text": [
            "100%|██████████| 50/50 [00:12<00:00,  4.10it/s]\n"
          ]
        },
        {
          "output_type": "stream",
          "name": "stdout",
          "text": [
            "[2023-11-28 20:06:45] Evaluate_168: epoch = 0100 train time = 1 s train loss = 0.004733 train acc = 1.0000, test acc = 0.6551\n",
            "Iteration 169\n"
          ]
        },
        {
          "output_type": "stream",
          "name": "stderr",
          "text": [
            "100%|██████████| 50/50 [00:11<00:00,  4.21it/s]\n"
          ]
        },
        {
          "output_type": "stream",
          "name": "stdout",
          "text": [
            "[2023-11-28 20:06:58] Evaluate_169: epoch = 0100 train time = 1 s train loss = 0.006180 train acc = 1.0000, test acc = 0.6387\n",
            "Iteration 170\n"
          ]
        },
        {
          "output_type": "stream",
          "name": "stderr",
          "text": [
            "100%|██████████| 50/50 [00:11<00:00,  4.19it/s]\n"
          ]
        },
        {
          "output_type": "stream",
          "name": "stdout",
          "text": [
            "[2023-11-28 20:07:12] Evaluate_170: epoch = 0100 train time = 1 s train loss = 0.004696 train acc = 1.0000, test acc = 0.6438\n",
            "Iteration 171\n"
          ]
        },
        {
          "output_type": "stream",
          "name": "stderr",
          "text": [
            "100%|██████████| 50/50 [00:11<00:00,  4.19it/s]\n"
          ]
        },
        {
          "output_type": "stream",
          "name": "stdout",
          "text": [
            "[2023-11-28 20:07:25] Evaluate_171: epoch = 0100 train time = 1 s train loss = 0.005450 train acc = 1.0000, test acc = 0.6520\n",
            "Iteration 172\n"
          ]
        },
        {
          "output_type": "stream",
          "name": "stderr",
          "text": [
            "100%|██████████| 50/50 [00:11<00:00,  4.19it/s]\n"
          ]
        },
        {
          "output_type": "stream",
          "name": "stdout",
          "text": [
            "[2023-11-28 20:07:39] Evaluate_172: epoch = 0100 train time = 1 s train loss = 0.004993 train acc = 1.0000, test acc = 0.6192\n",
            "Iteration 173\n"
          ]
        },
        {
          "output_type": "stream",
          "name": "stderr",
          "text": [
            "100%|██████████| 50/50 [00:11<00:00,  4.21it/s]\n"
          ]
        },
        {
          "output_type": "stream",
          "name": "stdout",
          "text": [
            "[2023-11-28 20:07:52] Evaluate_173: epoch = 0100 train time = 1 s train loss = 0.004875 train acc = 1.0000, test acc = 0.6172\n",
            "Iteration 174\n"
          ]
        },
        {
          "output_type": "stream",
          "name": "stderr",
          "text": [
            "100%|██████████| 50/50 [00:11<00:00,  4.22it/s]\n"
          ]
        },
        {
          "output_type": "stream",
          "name": "stdout",
          "text": [
            "[2023-11-28 20:08:05] Evaluate_174: epoch = 0100 train time = 1 s train loss = 0.005554 train acc = 1.0000, test acc = 0.6643\n",
            "Iteration 175\n"
          ]
        },
        {
          "output_type": "stream",
          "name": "stderr",
          "text": [
            "100%|██████████| 50/50 [00:11<00:00,  4.20it/s]\n"
          ]
        },
        {
          "output_type": "stream",
          "name": "stdout",
          "text": [
            "[2023-11-28 20:08:19] Evaluate_175: epoch = 0100 train time = 1 s train loss = 0.004830 train acc = 1.0000, test acc = 0.6295\n",
            "Iteration 176\n"
          ]
        },
        {
          "output_type": "stream",
          "name": "stderr",
          "text": [
            "100%|██████████| 50/50 [00:11<00:00,  4.21it/s]\n"
          ]
        },
        {
          "output_type": "stream",
          "name": "stdout",
          "text": [
            "[2023-11-28 20:08:32] Evaluate_176: epoch = 0100 train time = 1 s train loss = 0.005253 train acc = 1.0000, test acc = 0.6100\n",
            "Iteration 177\n"
          ]
        },
        {
          "output_type": "stream",
          "name": "stderr",
          "text": [
            "100%|██████████| 50/50 [00:11<00:00,  4.20it/s]\n"
          ]
        },
        {
          "output_type": "stream",
          "name": "stdout",
          "text": [
            "[2023-11-28 20:08:46] Evaluate_177: epoch = 0100 train time = 1 s train loss = 0.004955 train acc = 1.0000, test acc = 0.6663\n",
            "Iteration 178\n"
          ]
        },
        {
          "output_type": "stream",
          "name": "stderr",
          "text": [
            "100%|██████████| 50/50 [00:11<00:00,  4.22it/s]\n"
          ]
        },
        {
          "output_type": "stream",
          "name": "stdout",
          "text": [
            "[2023-11-28 20:08:59] Evaluate_178: epoch = 0100 train time = 1 s train loss = 0.005511 train acc = 1.0000, test acc = 0.6633\n",
            "Iteration 179\n"
          ]
        },
        {
          "output_type": "stream",
          "name": "stderr",
          "text": [
            "100%|██████████| 50/50 [00:11<00:00,  4.22it/s]\n"
          ]
        },
        {
          "output_type": "stream",
          "name": "stdout",
          "text": [
            "[2023-11-28 20:09:12] Evaluate_179: epoch = 0100 train time = 1 s train loss = 0.005404 train acc = 1.0000, test acc = 0.6182\n",
            "Iteration 180\n"
          ]
        },
        {
          "output_type": "stream",
          "name": "stderr",
          "text": [
            "100%|██████████| 50/50 [00:11<00:00,  4.21it/s]\n"
          ]
        },
        {
          "output_type": "stream",
          "name": "stdout",
          "text": [
            "[2023-11-28 20:09:26] Evaluate_180: epoch = 0100 train time = 1 s train loss = 0.005858 train acc = 1.0000, test acc = 0.6581\n",
            "Iteration 181\n"
          ]
        },
        {
          "output_type": "stream",
          "name": "stderr",
          "text": [
            "100%|██████████| 50/50 [00:11<00:00,  4.21it/s]\n"
          ]
        },
        {
          "output_type": "stream",
          "name": "stdout",
          "text": [
            "[2023-11-28 20:09:39] Evaluate_181: epoch = 0100 train time = 1 s train loss = 0.006437 train acc = 1.0000, test acc = 0.6499\n",
            "Iteration 182\n"
          ]
        },
        {
          "output_type": "stream",
          "name": "stderr",
          "text": [
            "100%|██████████| 50/50 [00:11<00:00,  4.21it/s]\n"
          ]
        },
        {
          "output_type": "stream",
          "name": "stdout",
          "text": [
            "[2023-11-28 20:09:53] Evaluate_182: epoch = 0100 train time = 1 s train loss = 0.007254 train acc = 1.0000, test acc = 0.6459\n",
            "Iteration 183\n"
          ]
        },
        {
          "output_type": "stream",
          "name": "stderr",
          "text": [
            "100%|██████████| 50/50 [00:11<00:00,  4.21it/s]\n"
          ]
        },
        {
          "output_type": "stream",
          "name": "stdout",
          "text": [
            "[2023-11-28 20:10:06] Evaluate_183: epoch = 0100 train time = 1 s train loss = 0.006165 train acc = 1.0000, test acc = 0.6919\n",
            "Iteration 184\n"
          ]
        },
        {
          "output_type": "stream",
          "name": "stderr",
          "text": [
            "100%|██████████| 50/50 [00:11<00:00,  4.22it/s]\n"
          ]
        },
        {
          "output_type": "stream",
          "name": "stdout",
          "text": [
            "[2023-11-28 20:10:20] Evaluate_184: epoch = 0100 train time = 1 s train loss = 0.004584 train acc = 1.0000, test acc = 0.6530\n",
            "Iteration 185\n"
          ]
        },
        {
          "output_type": "stream",
          "name": "stderr",
          "text": [
            "100%|██████████| 50/50 [00:11<00:00,  4.22it/s]\n"
          ]
        },
        {
          "output_type": "stream",
          "name": "stdout",
          "text": [
            "[2023-11-28 20:10:33] Evaluate_185: epoch = 0100 train time = 1 s train loss = 0.004814 train acc = 1.0000, test acc = 0.6479\n",
            "Iteration 186\n"
          ]
        },
        {
          "output_type": "stream",
          "name": "stderr",
          "text": [
            "100%|██████████| 50/50 [00:11<00:00,  4.20it/s]\n"
          ]
        },
        {
          "output_type": "stream",
          "name": "stdout",
          "text": [
            "[2023-11-28 20:10:46] Evaluate_186: epoch = 0100 train time = 1 s train loss = 0.003492 train acc = 1.0000, test acc = 0.6551\n",
            "Iteration 187\n"
          ]
        },
        {
          "output_type": "stream",
          "name": "stderr",
          "text": [
            "100%|██████████| 50/50 [00:11<00:00,  4.20it/s]\n"
          ]
        },
        {
          "output_type": "stream",
          "name": "stdout",
          "text": [
            "[2023-11-28 20:11:00] Evaluate_187: epoch = 0100 train time = 1 s train loss = 0.005060 train acc = 1.0000, test acc = 0.6510\n",
            "Iteration 188\n"
          ]
        },
        {
          "output_type": "stream",
          "name": "stderr",
          "text": [
            "100%|██████████| 50/50 [00:11<00:00,  4.20it/s]\n"
          ]
        },
        {
          "output_type": "stream",
          "name": "stdout",
          "text": [
            "[2023-11-28 20:11:13] Evaluate_188: epoch = 0100 train time = 1 s train loss = 0.006421 train acc = 1.0000, test acc = 0.6612\n",
            "Iteration 189\n"
          ]
        },
        {
          "output_type": "stream",
          "name": "stderr",
          "text": [
            "100%|██████████| 50/50 [00:11<00:00,  4.22it/s]\n"
          ]
        },
        {
          "output_type": "stream",
          "name": "stdout",
          "text": [
            "[2023-11-28 20:11:27] Evaluate_189: epoch = 0100 train time = 1 s train loss = 0.004466 train acc = 1.0000, test acc = 0.6540\n",
            "Iteration 190\n"
          ]
        },
        {
          "output_type": "stream",
          "name": "stderr",
          "text": [
            "100%|██████████| 50/50 [00:11<00:00,  4.23it/s]\n"
          ]
        },
        {
          "output_type": "stream",
          "name": "stdout",
          "text": [
            "[2023-11-28 20:11:40] Evaluate_190: epoch = 0100 train time = 1 s train loss = 0.004709 train acc = 1.0000, test acc = 0.6714\n",
            "Iteration 191\n"
          ]
        },
        {
          "output_type": "stream",
          "name": "stderr",
          "text": [
            "100%|██████████| 50/50 [00:11<00:00,  4.21it/s]\n"
          ]
        },
        {
          "output_type": "stream",
          "name": "stdout",
          "text": [
            "[2023-11-28 20:11:53] Evaluate_191: epoch = 0100 train time = 1 s train loss = 0.004132 train acc = 1.0000, test acc = 0.6940\n",
            "Iteration 192\n"
          ]
        },
        {
          "output_type": "stream",
          "name": "stderr",
          "text": [
            "100%|██████████| 50/50 [00:11<00:00,  4.19it/s]\n"
          ]
        },
        {
          "output_type": "stream",
          "name": "stdout",
          "text": [
            "[2023-11-28 20:12:07] Evaluate_192: epoch = 0100 train time = 1 s train loss = 0.005430 train acc = 1.0000, test acc = 0.6847\n",
            "Iteration 193\n"
          ]
        },
        {
          "output_type": "stream",
          "name": "stderr",
          "text": [
            "100%|██████████| 50/50 [00:11<00:00,  4.20it/s]\n"
          ]
        },
        {
          "output_type": "stream",
          "name": "stdout",
          "text": [
            "[2023-11-28 20:12:20] Evaluate_193: epoch = 0100 train time = 1 s train loss = 0.005577 train acc = 1.0000, test acc = 0.6561\n",
            "Iteration 194\n"
          ]
        },
        {
          "output_type": "stream",
          "name": "stderr",
          "text": [
            "100%|██████████| 50/50 [00:11<00:00,  4.21it/s]\n"
          ]
        },
        {
          "output_type": "stream",
          "name": "stdout",
          "text": [
            "[2023-11-28 20:12:34] Evaluate_194: epoch = 0100 train time = 1 s train loss = 0.005608 train acc = 1.0000, test acc = 0.6663\n",
            "Iteration 195\n"
          ]
        },
        {
          "output_type": "stream",
          "name": "stderr",
          "text": [
            "100%|██████████| 50/50 [00:11<00:00,  4.21it/s]\n"
          ]
        },
        {
          "output_type": "stream",
          "name": "stdout",
          "text": [
            "[2023-11-28 20:12:47] Evaluate_195: epoch = 0100 train time = 1 s train loss = 0.006069 train acc = 1.0000, test acc = 0.6540\n",
            "Iteration 196\n"
          ]
        },
        {
          "output_type": "stream",
          "name": "stderr",
          "text": [
            "100%|██████████| 50/50 [00:11<00:00,  4.23it/s]\n"
          ]
        },
        {
          "output_type": "stream",
          "name": "stdout",
          "text": [
            "[2023-11-28 20:13:00] Evaluate_196: epoch = 0100 train time = 1 s train loss = 0.005531 train acc = 1.0000, test acc = 0.6694\n",
            "Iteration 197\n"
          ]
        },
        {
          "output_type": "stream",
          "name": "stderr",
          "text": [
            "100%|██████████| 50/50 [00:11<00:00,  4.21it/s]\n"
          ]
        },
        {
          "output_type": "stream",
          "name": "stdout",
          "text": [
            "[2023-11-28 20:13:14] Evaluate_197: epoch = 0100 train time = 1 s train loss = 0.005633 train acc = 1.0000, test acc = 0.6694\n",
            "Iteration 198\n"
          ]
        },
        {
          "output_type": "stream",
          "name": "stderr",
          "text": [
            "100%|██████████| 50/50 [00:11<00:00,  4.20it/s]\n"
          ]
        },
        {
          "output_type": "stream",
          "name": "stdout",
          "text": [
            "[2023-11-28 20:13:27] Evaluate_198: epoch = 0100 train time = 1 s train loss = 0.005626 train acc = 1.0000, test acc = 0.6571\n",
            "Iteration 199\n"
          ]
        },
        {
          "output_type": "stream",
          "name": "stderr",
          "text": [
            "100%|██████████| 50/50 [00:11<00:00,  4.20it/s]\n"
          ]
        },
        {
          "output_type": "stream",
          "name": "stdout",
          "text": [
            "[2023-11-28 20:13:41] Evaluate_199: epoch = 0100 train time = 1 s train loss = 0.006469 train acc = 1.0000, test acc = 0.6592\n"
          ]
        }
      ],
      "source": [
        "\"\"\"\n",
        "Initialliza Synthetice dataset with Gaussian Noise\n",
        "\"\"\"\n",
        "NET = \"ConvNet\"\n",
        "args = mh_argument(device, 50)\n",
        "args.init = 'noise'\n",
        "start_time = time.time()\n",
        "noise_data_save, noise_test_acc, noise_train_acc = DataD_GradientM(NET, args)\n",
        "print(\"time:\", time.time()-start_time)"
      ]
    },
    {
      "cell_type": "markdown",
      "source": [
        "### Part E\n",
        "Use Synthetic Dataset to training model with the same paramter setting with part A, like epoch_eval_train = 200."
      ],
      "metadata": {
        "id": "2zyhdl4Wti1D"
      }
    },
    {
      "cell_type": "code",
      "source": [
        "Net = \"ConvNet\"\n",
        "model = utils.get_network(Net, mh_channel, mh_num_classes, mh_im_size).to(device)\n",
        "print(model)\n",
        "args = mh_argument(device, 50)\n",
        "args.epoch_eval_train = 200\n",
        "\n",
        "''' load Data Part'''\n",
        "#syn dataset\n",
        "image_syn, label_syn = copy.deepcopy(real_data_save[0][0]), copy.deepcopy(real_data_save[0][1])\n",
        "dst_syn = utils.TensorDataset(image_syn, label_syn)\n",
        "\n",
        "start_time = time.time()\n",
        "_, acc_train, acc_test = utils.evaluate_synset(1,model ,image_syn, label_syn, args.testloader, args)\n",
        "print(\"test with synthetic dataset, accuracy = %.4f\"%(acc_test))\n",
        "print(\"time: \", time.time()-start_time)"
      ],
      "metadata": {
        "colab": {
          "base_uri": "https://localhost:8080/"
        },
        "id": "g7HlA7HstlDT",
        "outputId": "2124aac1-c064-48a8-b997-8016b3da34f3"
      },
      "execution_count": null,
      "outputs": [
        {
          "output_type": "stream",
          "name": "stdout",
          "text": [
            "ConvNet(\n",
            "  (features): Sequential(\n",
            "    (0): Conv2d(3, 128, kernel_size=(3, 3), stride=(1, 1), padding=(1, 1))\n",
            "    (1): GroupNorm(128, 128, eps=1e-05, affine=True)\n",
            "    (2): ReLU(inplace=True)\n",
            "    (3): AvgPool2d(kernel_size=2, stride=2, padding=0)\n",
            "    (4): Conv2d(128, 128, kernel_size=(3, 3), stride=(1, 1), padding=(1, 1))\n",
            "    (5): GroupNorm(128, 128, eps=1e-05, affine=True)\n",
            "    (6): ReLU(inplace=True)\n",
            "    (7): AvgPool2d(kernel_size=2, stride=2, padding=0)\n",
            "    (8): Conv2d(128, 128, kernel_size=(3, 3), stride=(1, 1), padding=(1, 1))\n",
            "    (9): GroupNorm(128, 128, eps=1e-05, affine=True)\n",
            "    (10): ReLU(inplace=True)\n",
            "    (11): AvgPool2d(kernel_size=2, stride=2, padding=0)\n",
            "  )\n",
            "  (classifier): Linear(in_features=2048, out_features=2, bias=True)\n",
            ")\n",
            "[2023-11-28 20:56:09] Evaluate_01: epoch = 0200 train time = 2 s train loss = 0.002266 train acc = 1.0000, test acc = 0.7226\n",
            "test with synthetic dataset, accuracy = 0.7226\n",
            "time:  2.960446834564209\n"
          ]
        }
      ]
    },
    {
      "cell_type": "markdown",
      "source": [
        "## Task 1.3\n",
        "In this part we trained different model with synthetic dataset"
      ],
      "metadata": {
        "id": "J7xXpS3aamYI"
      }
    },
    {
      "cell_type": "markdown",
      "source": [
        "#### AlexNet"
      ],
      "metadata": {
        "id": "EHaS3hrK-zJM"
      }
    },
    {
      "cell_type": "code",
      "source": [
        "Net = \"AlexNet\"\n",
        "model = utils.get_network(Net, mh_channel, mh_num_classes, mh_im_size).to(device)\n",
        "print(model)\n",
        "args = mh_argument(device, 50)\n",
        "args.epoch_eval_train = 200\n",
        "\n",
        "''' load Data Part'''\n",
        "#syn dataset\n",
        "image_syn, label_syn = copy.deepcopy(real_data_save[0][0]), copy.deepcopy(real_data_save[0][1])\n",
        "dst_syn = utils.TensorDataset(image_syn, label_syn)\n",
        "\n",
        "_, acc_train, acc_test = utils.evaluate_synset(1,model ,image_syn, label_syn, args.testloader, args)\n",
        "print(\"test with synthetic dataset, accuracy = %.4f\"%(acc_test))"
      ],
      "metadata": {
        "colab": {
          "base_uri": "https://localhost:8080/"
        },
        "id": "OrvZAooCas_w",
        "outputId": "e3f548d1-8b6d-4d3d-8685-c518eb62791f"
      },
      "execution_count": null,
      "outputs": [
        {
          "output_type": "stream",
          "name": "stdout",
          "text": [
            "AlexNet(\n",
            "  (features): Sequential(\n",
            "    (0): Conv2d(3, 128, kernel_size=(5, 5), stride=(1, 1), padding=(2, 2))\n",
            "    (1): ReLU(inplace=True)\n",
            "    (2): MaxPool2d(kernel_size=2, stride=2, padding=0, dilation=1, ceil_mode=False)\n",
            "    (3): Conv2d(128, 192, kernel_size=(5, 5), stride=(1, 1), padding=(2, 2))\n",
            "    (4): ReLU(inplace=True)\n",
            "    (5): MaxPool2d(kernel_size=2, stride=2, padding=0, dilation=1, ceil_mode=False)\n",
            "    (6): Conv2d(192, 256, kernel_size=(3, 3), stride=(1, 1), padding=(1, 1))\n",
            "    (7): ReLU(inplace=True)\n",
            "    (8): Conv2d(256, 192, kernel_size=(3, 3), stride=(1, 1), padding=(1, 1))\n",
            "    (9): ReLU(inplace=True)\n",
            "    (10): Conv2d(192, 192, kernel_size=(3, 3), stride=(1, 1), padding=(1, 1))\n",
            "    (11): ReLU(inplace=True)\n",
            "    (12): MaxPool2d(kernel_size=2, stride=2, padding=0, dilation=1, ceil_mode=False)\n",
            "  )\n",
            "  (fc): Linear(in_features=3072, out_features=2, bias=True)\n",
            ")\n",
            "[2023-11-23 21:22:37] Evaluate_01: epoch = 0200 train time = 5 s train loss = 0.592060 train acc = 0.7800, test acc = 0.6377\n",
            "test with synthetic dataset, accuracy = 0.6377\n"
          ]
        }
      ]
    },
    {
      "cell_type": "code",
      "source": [
        "#Noise Data testing\n",
        "Net = \"AlexNet\"\n",
        "model = utils.get_network(Net, mh_channel, mh_num_classes, mh_im_size).to(device)\n",
        "args = mh_argument(device, 50)\n",
        "it_eval = args.num_eval\n",
        "args.epoch_eval_train = 200\n",
        "\n",
        "\n",
        "''' load Data Part'''\n",
        "#syn dataset\n",
        "image_syn, label_syn = copy.deepcopy(noise_data_save[0][0]), copy.deepcopy(noise_data_save[0][1])\n",
        "dst_syn = utils.TensorDataset(image_syn, label_syn)\n",
        "\n",
        "_, acc_train, acc_test = utils.evaluate_synset(1, model, image_syn,label_syn, args.testloader, args)"
      ],
      "metadata": {
        "colab": {
          "base_uri": "https://localhost:8080/"
        },
        "id": "kft9YmTZhQUo",
        "outputId": "6e566cb2-aac8-4971-c5aa-072176128308"
      },
      "execution_count": null,
      "outputs": [
        {
          "output_type": "stream",
          "name": "stdout",
          "text": [
            "[2023-11-23 21:24:12] Evaluate_01: epoch = 0200 train time = 5 s train loss = 0.036083 train acc = 1.0000, test acc = 0.4411\n"
          ]
        }
      ]
    },
    {
      "cell_type": "markdown",
      "source": [
        "#### VGG11"
      ],
      "metadata": {
        "id": "wrFbeAUF-2aW"
      }
    },
    {
      "cell_type": "code",
      "source": [
        "#Real Data Testing\n",
        "Net = \"VGG11\"\n",
        "model = utils.get_network(Net, mh_channel, mh_num_classes, mh_im_size).to(device)\n",
        "print(model)\n",
        "args = mh_argument(device, 50)\n",
        "args.epoch_eval_train = 200\n",
        "\n",
        "''' load Data Part'''\n",
        "#syn dataset\n",
        "image_syn, label_syn = copy.deepcopy(real_data_save[0][0]), copy.deepcopy(real_data_save[0][1])\n",
        "dst_syn = utils.TensorDataset(image_syn, label_syn)\n",
        "\n",
        "_, acc_train, acc_test = utils.evaluate_synset(1,model ,image_syn, label_syn, args.testloader, args)\n",
        "print(\"test with synthetic dataset, accuracy = %.4f\"%(acc_test))"
      ],
      "metadata": {
        "colab": {
          "base_uri": "https://localhost:8080/"
        },
        "id": "prbL0zfB4Icg",
        "outputId": "840e9df2-07f5-4e52-b839-02c8b43aedc7"
      },
      "execution_count": null,
      "outputs": [
        {
          "output_type": "stream",
          "name": "stdout",
          "text": [
            "VGG(\n",
            "  (features): Sequential(\n",
            "    (0): Conv2d(3, 64, kernel_size=(3, 3), stride=(1, 1), padding=(1, 1))\n",
            "    (1): GroupNorm(64, 64, eps=1e-05, affine=True)\n",
            "    (2): ReLU(inplace=True)\n",
            "    (3): MaxPool2d(kernel_size=2, stride=2, padding=0, dilation=1, ceil_mode=False)\n",
            "    (4): Conv2d(64, 128, kernel_size=(3, 3), stride=(1, 1), padding=(1, 1))\n",
            "    (5): GroupNorm(128, 128, eps=1e-05, affine=True)\n",
            "    (6): ReLU(inplace=True)\n",
            "    (7): MaxPool2d(kernel_size=2, stride=2, padding=0, dilation=1, ceil_mode=False)\n",
            "    (8): Conv2d(128, 256, kernel_size=(3, 3), stride=(1, 1), padding=(1, 1))\n",
            "    (9): GroupNorm(256, 256, eps=1e-05, affine=True)\n",
            "    (10): ReLU(inplace=True)\n",
            "    (11): Conv2d(256, 256, kernel_size=(3, 3), stride=(1, 1), padding=(1, 1))\n",
            "    (12): GroupNorm(256, 256, eps=1e-05, affine=True)\n",
            "    (13): ReLU(inplace=True)\n",
            "    (14): MaxPool2d(kernel_size=2, stride=2, padding=0, dilation=1, ceil_mode=False)\n",
            "    (15): Conv2d(256, 512, kernel_size=(3, 3), stride=(1, 1), padding=(1, 1))\n",
            "    (16): GroupNorm(512, 512, eps=1e-05, affine=True)\n",
            "    (17): ReLU(inplace=True)\n",
            "    (18): Conv2d(512, 512, kernel_size=(3, 3), stride=(1, 1), padding=(1, 1))\n",
            "    (19): GroupNorm(512, 512, eps=1e-05, affine=True)\n",
            "    (20): ReLU(inplace=True)\n",
            "    (21): MaxPool2d(kernel_size=2, stride=2, padding=0, dilation=1, ceil_mode=False)\n",
            "    (22): Conv2d(512, 512, kernel_size=(3, 3), stride=(1, 1), padding=(1, 1))\n",
            "    (23): GroupNorm(512, 512, eps=1e-05, affine=True)\n",
            "    (24): ReLU(inplace=True)\n",
            "    (25): Conv2d(512, 512, kernel_size=(3, 3), stride=(1, 1), padding=(1, 1))\n",
            "    (26): GroupNorm(512, 512, eps=1e-05, affine=True)\n",
            "    (27): ReLU(inplace=True)\n",
            "    (28): MaxPool2d(kernel_size=2, stride=2, padding=0, dilation=1, ceil_mode=False)\n",
            "    (29): AvgPool2d(kernel_size=1, stride=1, padding=0)\n",
            "  )\n",
            "  (classifier): Linear(in_features=512, out_features=2, bias=True)\n",
            ")\n",
            "[2023-11-23 20:31:56] Evaluate_01: epoch = 0200 train time = 6 s train loss = 0.000146 train acc = 1.0000, test acc = 0.6960\n",
            "test with synthetic dataset, accuracy = 0.6960\n"
          ]
        }
      ]
    },
    {
      "cell_type": "code",
      "source": [
        "#Noise Data testing\n",
        "Net = \"VGG11\"\n",
        "model = utils.get_network(Net, mh_channel, mh_num_classes, mh_im_size).to(device)\n",
        "args = mh_argument(device, 50)\n",
        "it_eval = args.num_eval\n",
        "args.epoch_eval_train = 200\n",
        "\n",
        "\n",
        "''' load Data Part'''\n",
        "#syn dataset\n",
        "image_syn, label_syn = copy.deepcopy(noise_data_save[0][0]), copy.deepcopy(noise_data_save[0][1])\n",
        "dst_syn = utils.TensorDataset(image_syn, label_syn)\n",
        "start_time = time.time()\n",
        "_, acc_train, acc_test = utils.evaluate_synset(1, model, image_syn,label_syn, args.testloader, args)\n",
        "vgg_time = time.time()-start_time\n",
        "print(\"vgg_noisy_time = %.4f\"%(vgg_time))"
      ],
      "metadata": {
        "colab": {
          "base_uri": "https://localhost:8080/"
        },
        "id": "wxCAzcRm4mbx",
        "outputId": "dfc1f1fe-69b9-4bb5-8361-d19b21a771f8"
      },
      "execution_count": null,
      "outputs": [
        {
          "output_type": "stream",
          "name": "stdout",
          "text": [
            "[2023-11-23 21:24:48] Evaluate_01: epoch = 0200 train time = 6 s train loss = 0.000169 train acc = 1.0000, test acc = 0.6551\n"
          ]
        }
      ]
    },
    {
      "cell_type": "markdown",
      "source": [
        "#### AlexNet\n",
        "use AlexNet To train real dataset"
      ],
      "metadata": {
        "id": "r7jziMrRLfbb"
      }
    },
    {
      "cell_type": "code",
      "source": [
        "NET = \"AlexNet\"\n",
        "num_epochs = 200\n",
        "lr = float(args.lr_net)\n",
        "device = 'cuda' if torch.cuda.is_available() else 'cpu'\n",
        "model = utils.get_network(NET, mh_channel, mh_num_classes, mh_im_size).to(device)\n",
        "args = mh_argument(device, 50)\n",
        "optimizer = optim.SGD(model.parameters(), lr=args.lr_net, momentum=0.9)\n",
        "lr_schedule = [num_epochs//2+1]\n",
        "criterion = nn.CrossEntropyLoss()\n",
        "scheduler = torch.optim.lr_scheduler.CosineAnnealingLR(optimizer, T_max=20, eta_min=0)\n",
        "\n",
        "mh_train_loader = DataLoader(mh_dst_train, batch_size=128, shuffle=True)\n",
        "for epoch in tqdm.tqdm(range(num_epochs)):\n",
        "    train_loss, train_acc = utils.epoch('train', mh_train_loader, model, optimizer, criterion, args, aug=False)\n",
        "    if epoch in lr_schedule:\n",
        "      lr *= 0.1\n",
        "      optimizer = torch.optim.SGD(model.parameters(), lr=lr, momentum=0.9, weight_decay=0.0005)\n",
        "\n",
        "\n",
        "test_loss, test_acc = utils.epoch('test', args.testloader, model, optimizer, criterion, args, aug=True)\n",
        "print(f'\\nTrain Loss: {train_loss:.4f}, Test Loss: {test_loss:.4f}, Train Acc: {train_acc:.4f}, Test Acc: {test_acc:.4f}')"
      ],
      "metadata": {
        "colab": {
          "base_uri": "https://localhost:8080/"
        },
        "id": "CfEj3wBEIq-g",
        "outputId": "d58b1168-fa88-4cbf-a624-91cd7e124dc2"
      },
      "execution_count": null,
      "outputs": [
        {
          "output_type": "stream",
          "name": "stderr",
          "text": [
            "100%|██████████| 200/200 [01:45<00:00,  1.90it/s]"
          ]
        },
        {
          "output_type": "stream",
          "name": "stdout",
          "text": [
            "\n",
            "Train Loss: 0.0002, Test Loss: 1.5989, Train Acc: 1.0000, Test Acc: 0.7441\n"
          ]
        },
        {
          "output_type": "stream",
          "name": "stderr",
          "text": [
            "\n"
          ]
        }
      ]
    },
    {
      "cell_type": "markdown",
      "source": [
        "#### MLP"
      ],
      "metadata": {
        "id": "dMKZbEJbLkR3"
      }
    },
    {
      "cell_type": "code",
      "source": [
        "NET = \"MLP\"\n",
        "num_epochs = 200\n",
        "lr = float(args.lr_net)\n",
        "device = 'cuda' if torch.cuda.is_available() else 'cpu'\n",
        "model = utils.get_network(NET, mh_channel, mh_num_classes, mh_im_size).to(device)\n",
        "args = mh_argument(device, 50)\n",
        "optimizer = optim.SGD(model.parameters(), lr=args.lr_net, momentum=0.9)\n",
        "lr_schedule = [num_epochs//2+1]\n",
        "criterion = nn.CrossEntropyLoss()\n",
        "scheduler = torch.optim.lr_scheduler.CosineAnnealingLR(optimizer, T_max=20, eta_min=0)\n",
        "\n",
        "mh_train_loader = DataLoader(mh_dst_train, batch_size=128, shuffle=True)\n",
        "\n",
        "for epoch in tqdm.tqdm(range(num_epochs)):\n",
        "    train_loss, train_acc = utils.epoch('train', mh_train_loader, model, optimizer, criterion, args, aug=False)\n",
        "    if epoch in lr_schedule:\n",
        "      lr *= 0.1\n",
        "      optimizer = torch.optim.SGD(model.parameters(), lr=lr, momentum=0.9, weight_decay=0.0005)\n",
        "\n",
        "test_loss, test_acc = utils.epoch('test', args.testloader, model, optimizer, criterion, args, aug=True)\n",
        "print(f'\\nTrain Loss: {train_loss:.4f}, Test Loss: {test_loss:.4f}, Train Acc: {train_acc:.4f}, Test Acc: {test_acc:.4f}')"
      ],
      "metadata": {
        "colab": {
          "base_uri": "https://localhost:8080/"
        },
        "id": "1yOKe7PuI3wr",
        "outputId": "541de547-f9fc-4f12-dd28-ce5923952210"
      },
      "execution_count": null,
      "outputs": [
        {
          "output_type": "stream",
          "name": "stderr",
          "text": [
            "100%|██████████| 201/201 [00:12<00:00, 16.23it/s]"
          ]
        },
        {
          "output_type": "stream",
          "name": "stdout",
          "text": [
            "\n",
            "Train Loss: 0.0119, Test Loss: 1.6532, Train Acc: 0.9986, Test Acc: 0.7124\n"
          ]
        },
        {
          "output_type": "stream",
          "name": "stderr",
          "text": [
            "\n"
          ]
        }
      ]
    },
    {
      "cell_type": "code",
      "source": [
        "#Real Syn Data Testing\n",
        "Net = \"MLP\"\n",
        "model = utils.get_network(Net, mh_channel, mh_num_classes, mh_im_size)\n",
        "print(model)\n",
        "args = mh_argument(device, 50)\n",
        "args.epoch_eval_train = 200\n",
        "\n",
        "''' load Data Part'''\n",
        "#syn dataset\n",
        "image_syn, label_syn = copy.deepcopy(real_data_save[0][0]), copy.deepcopy(real_data_save[0][1])\n",
        "start_time = time.time()\n",
        "_, acc_train, acc_test = utils.evaluate_synset(1,model ,image_syn, label_syn, args.testloader, args)\n",
        "print(\"test with synthetic dataset, accuracy = %.4f\"%(acc_test))\n",
        "mlp_time = time.time() - start_time\n",
        "print(\"mlp_time = %.4f\"%(mlp_time))"
      ],
      "metadata": {
        "colab": {
          "base_uri": "https://localhost:8080/"
        },
        "id": "nqopK2IpGqoN",
        "outputId": "1810b8d5-5cf7-4c03-fdca-51c166e9ac31"
      },
      "execution_count": null,
      "outputs": [
        {
          "output_type": "stream",
          "name": "stdout",
          "text": [
            "MLP(\n",
            "  (fc_1): Linear(in_features=3072, out_features=128, bias=True)\n",
            "  (fc_2): Linear(in_features=128, out_features=128, bias=True)\n",
            "  (fc_3): Linear(in_features=128, out_features=2, bias=True)\n",
            ")\n",
            "[2023-11-23 22:19:32] Evaluate_01: epoch = 0200 train time = 0 s train loss = 0.001622 train acc = 1.0000, test acc = 0.7011\n",
            "test with synthetic dataset, accuracy = 0.7011\n",
            "mlp_time = 0.7561\n"
          ]
        }
      ]
    },
    {
      "cell_type": "markdown",
      "source": [
        "#### LeNet\n"
      ],
      "metadata": {
        "id": "JE0_utQULnk4"
      }
    },
    {
      "cell_type": "code",
      "source": [
        "NET = \"LeNet\"\n",
        "num_epochs = 200\n",
        "lr = float(args.lr_net)\n",
        "device = 'cuda' if torch.cuda.is_available() else 'cpu'\n",
        "model = utils.get_network(NET, mh_channel, mh_num_classes, mh_im_size).to(device)\n",
        "args = mh_argument(device, 50)\n",
        "optimizer = optim.SGD(model.parameters(), lr=args.lr_net, momentum=0.9)\n",
        "lr_schedule = [num_epochs//2+1]\n",
        "criterion = nn.CrossEntropyLoss()\n",
        "scheduler = torch.optim.lr_scheduler.CosineAnnealingLR(optimizer, T_max=20, eta_min=0)\n",
        "\n",
        "mh_train_loader = DataLoader(mh_dst_train, batch_size=128, shuffle=True)\n",
        "\n",
        "for epoch in tqdm.tqdm(range(num_epochs)):\n",
        "    train_loss, train_acc = utils.epoch('train', mh_train_loader, model, optimizer, criterion, args, aug=False)\n",
        "    if epoch in lr_schedule:\n",
        "      lr *= 0.1\n",
        "      optimizer = torch.optim.SGD(model.parameters(), lr=lr, momentum=0.9, weight_decay=0.0005)\n",
        "\n",
        "test_loss, test_acc = utils.epoch('test', args.testloader, model, optimizer, criterion, args, aug=True)\n",
        "print(f'\\nTrain Loss: {train_loss:.4f}, Test Loss: {test_loss:.4f}, Train Acc: {train_acc:.4f}, Test Acc: {test_acc:.4f}')"
      ],
      "metadata": {
        "colab": {
          "base_uri": "https://localhost:8080/"
        },
        "id": "8k9E3qcFJDBd",
        "outputId": "5ac99547-3b1d-47d0-c33e-02b2273a6a17"
      },
      "execution_count": null,
      "outputs": [
        {
          "output_type": "stream",
          "name": "stderr",
          "text": [
            "100%|██████████| 200/200 [00:14<00:00, 13.50it/s]"
          ]
        },
        {
          "output_type": "stream",
          "name": "stdout",
          "text": [
            "\n",
            "Train Loss: 0.0002, Test Loss: 2.2513, Train Acc: 1.0000, Test Acc: 0.7349\n"
          ]
        },
        {
          "output_type": "stream",
          "name": "stderr",
          "text": [
            "\n"
          ]
        }
      ]
    },
    {
      "cell_type": "code",
      "source": [
        "#Real Syn Data Testing\n",
        "Net = \"LeNet\"\n",
        "model = utils.get_network(Net, mh_channel, mh_num_classes, mh_im_size)\n",
        "print(model)\n",
        "args = mh_argument(device, 50)\n",
        "args.epoch_eval_train = 200\n",
        "\n",
        "''' load Data Part'''\n",
        "#syn dataset\n",
        "image_syn, label_syn = copy.deepcopy(real_data_save[0][0]), copy.deepcopy(real_data_save[0][1])\n",
        "\n",
        "start_time = time.time()\n",
        "_, acc_train, acc_test = utils.evaluate_synset(1,model ,image_syn, label_syn, args.testloader, args)\n",
        "print(\"test with synthetic dataset, accuracy = %.4f\"%(acc_test))\n",
        "letNet_time = time.time() - start_time\n",
        "print(\"letNet_time: %.4f\"%(letNet_time))"
      ],
      "metadata": {
        "colab": {
          "base_uri": "https://localhost:8080/"
        },
        "id": "Kt1k53ghGsnU",
        "outputId": "49f93e2d-62fa-4f8a-d997-8d490f8c724a"
      },
      "execution_count": null,
      "outputs": [
        {
          "output_type": "stream",
          "name": "stdout",
          "text": [
            "LeNet(\n",
            "  (features): Sequential(\n",
            "    (0): Conv2d(3, 6, kernel_size=(5, 5), stride=(1, 1))\n",
            "    (1): ReLU(inplace=True)\n",
            "    (2): MaxPool2d(kernel_size=2, stride=2, padding=0, dilation=1, ceil_mode=False)\n",
            "    (3): Conv2d(6, 16, kernel_size=(5, 5), stride=(1, 1))\n",
            "    (4): ReLU(inplace=True)\n",
            "    (5): MaxPool2d(kernel_size=2, stride=2, padding=0, dilation=1, ceil_mode=False)\n",
            "  )\n",
            "  (fc_1): Linear(in_features=400, out_features=120, bias=True)\n",
            "  (fc_2): Linear(in_features=120, out_features=84, bias=True)\n",
            "  (fc_3): Linear(in_features=84, out_features=2, bias=True)\n",
            ")\n",
            "[2023-11-23 22:19:39] Evaluate_01: epoch = 0200 train time = 0 s train loss = 0.304847 train acc = 0.9800, test acc = 0.6684\n",
            "test with synthetic dataset, accuracy = 0.6684\n",
            "letNet_time: 0.6883\n"
          ]
        }
      ]
    }
  ],
  "metadata": {
    "accelerator": "GPU",
    "colab": {
      "provenance": [],
      "collapsed_sections": [
        "bBMiRjz0aT6r"
      ]
    },
    "kernelspec": {
      "display_name": "Python 3",
      "name": "python3"
    },
    "language_info": {
      "name": "python"
    }
  },
  "nbformat": 4,
  "nbformat_minor": 0
}