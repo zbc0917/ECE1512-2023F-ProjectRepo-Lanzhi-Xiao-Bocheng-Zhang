{
  "nbformat": 4,
  "nbformat_minor": 0,
  "metadata": {
    "colab": {
      "provenance": [],
      "gpuType": "T4"
    },
    "kernelspec": {
      "name": "python3",
      "display_name": "Python 3"
    },
    "language_info": {
      "name": "python"
    },
    "accelerator": "GPU"
  },
  "cells": [
    {
      "cell_type": "markdown",
      "source": [
        "# Coding Environment Setup"
      ],
      "metadata": {
        "id": "y5cVe_t2SrXm"
      }
    },
    {
      "cell_type": "code",
      "source": [
        "from google.colab import drive\n",
        "drive.mount('/content/drive')"
      ],
      "metadata": {
        "colab": {
          "base_uri": "https://localhost:8080/"
        },
        "id": "lEjTweh6UZmK",
        "outputId": "6f29d074-aee6-4968-f780-95d1c942b1f2"
      },
      "execution_count": null,
      "outputs": [
        {
          "output_type": "stream",
          "name": "stdout",
          "text": [
            "Mounted at /content/drive\n"
          ]
        }
      ]
    },
    {
      "cell_type": "markdown",
      "source": [
        "In order to import the utils to this, we convert utils and networks to python."
      ],
      "metadata": {
        "id": "TWjilk9CXhhm"
      }
    },
    {
      "cell_type": "code",
      "source": [
        "!jupyter nbconvert --to python '/content/drive/MyDrive/ECE1512/ProjectB/networks.ipynb'\n",
        "%run '/content/drive/MyDrive/ECE1512/ProjectB/networks.ipynb'\n",
        "!jupyter nbconvert --to python '/content/drive/MyDrive/ECE1512/ProjectB/utils.ipynb'\n",
        "%run '/content/drive/MyDrive/ECE1512/ProjectB/utils.ipynb'"
      ],
      "metadata": {
        "id": "eu2MSazyXBh1",
        "colab": {
          "base_uri": "https://localhost:8080/"
        },
        "outputId": "379a815c-0744-4c6d-8647-fabd5f1edbf5"
      },
      "execution_count": null,
      "outputs": [
        {
          "output_type": "stream",
          "name": "stdout",
          "text": [
            "[NbConvertApp] Converting notebook /content/drive/MyDrive/ECE1512/ProjectB/networks.ipynb to python\n",
            "[NbConvertApp] Writing 19903 bytes to /content/drive/MyDrive/ECE1512/ProjectB/networks.py\n",
            "[NbConvertApp] Converting notebook /content/drive/MyDrive/ECE1512/ProjectB/utils.ipynb to python\n",
            "[NbConvertApp] ERROR | Notebook JSON is invalid: Additional properties are not allowed ('errorDetails' was unexpected)\n",
            "\n",
            "Failed validating 'additionalProperties' in error:\n",
            "\n",
            "On instance['cells'][0]['outputs'][0]:\n",
            "{'ename': 'ModuleNotFoundError',\n",
            " 'errorDetails': {'actions': [{'action': 'open_url',\n",
            "                               'actionText': 'Open Examples',\n",
            "                               'url': '/notebooks/snippets/importing_libraries.ipynb'}]},\n",
            " 'evalue': 'ignored',\n",
            " 'output_type': 'error',\n",
            " 'traceback': ['\\x1b[0;31m---------------------------------------------------------...',\n",
            "               '\\x1b[0;31mModuleNotFoundError\\x1b[0m                       '\n",
            "               'Traceback (...',\n",
            "               '\\x1b[0;32m<ipython-input-1-d4a23aa8b8f3>\\x1b[0m in '\n",
            "               '\\x1b[0;36m<module>\\x1b[0;...',\n",
            "               '\\x1b[0;31mModuleNotFoundError\\x1b[0m: No module named '\n",
            "               \"'networks'\",\n",
            "               '',\n",
            "               '\\x1b[0;31m---------------------------------------------------------...']}\n",
            "[NbConvertApp] Writing 27398 bytes to /content/drive/MyDrive/ECE1512/ProjectB/utils.py\n"
          ]
        },
        {
          "output_type": "stream",
          "name": "stderr",
          "text": [
            "<ipython-input-2-d4a23aa8b8f3>:9: DeprecationWarning: Please use `rotate` from the `scipy.ndimage` namespace, the `scipy.ndimage.interpolation` namespace is deprecated.\n",
            "  from scipy.ndimage.interpolation import rotate as scipyrotate\n"
          ]
        }
      ]
    },
    {
      "cell_type": "code",
      "execution_count": null,
      "metadata": {
        "id": "i1vRmN7nSc5W"
      },
      "outputs": [],
      "source": [
        "import numpy as np\n",
        "import pandas as pd\n",
        "import matplotlib.pyplot as plt\n",
        "import torch\n",
        "import torch.nn as nn\n",
        "import torch.optim as optim\n",
        "from torchvision import datasets, transforms\n",
        "from torch.utils.data import DataLoader\n",
        "import tqdm\n",
        "import os\n",
        "import copy\n",
        "import time\n",
        "from torchvision.utils import save_image\n",
        "import warnings\n",
        "warnings.filterwarnings('ignore')\n",
        "\n",
        "import sys\n",
        "sys.path.append('/content/drive/MyDrive/ECE1512/ProjectB')\n",
        "import utils\n",
        "import networks\n"
      ]
    },
    {
      "cell_type": "markdown",
      "source": [
        "# MNIST Dataset Part\n",
        "\n",
        "\n",
        "\n"
      ],
      "metadata": {
        "id": "iNmDM31lX-hb"
      }
    },
    {
      "cell_type": "markdown",
      "source": [
        "### Load Data Part\n"
      ],
      "metadata": {
        "id": "XhnFasZ8b9YO"
      }
    },
    {
      "cell_type": "code",
      "source": [
        "mnist_dataset = 'MNIST'\n",
        "mnist_data_path = './mnist_data'\n",
        "channel, im_size, num_classes, class_names, mean, std, dst_train, dst_test, testloader = utils.get_dataset(mnist_dataset, mnist_data_path)\n"
      ],
      "metadata": {
        "id": "vBBD6uNMX9jd",
        "colab": {
          "base_uri": "https://localhost:8080/"
        },
        "outputId": "92b9113a-babf-495e-c567-20e13397bef4"
      },
      "execution_count": null,
      "outputs": [
        {
          "output_type": "stream",
          "name": "stdout",
          "text": [
            "Downloading http://yann.lecun.com/exdb/mnist/train-images-idx3-ubyte.gz\n",
            "Downloading http://yann.lecun.com/exdb/mnist/train-images-idx3-ubyte.gz to ./mnist_data/MNIST/raw/train-images-idx3-ubyte.gz\n"
          ]
        },
        {
          "output_type": "stream",
          "name": "stderr",
          "text": [
            "100%|██████████| 9912422/9912422 [00:00<00:00, 124334485.43it/s]"
          ]
        },
        {
          "output_type": "stream",
          "name": "stdout",
          "text": [
            "Extracting ./mnist_data/MNIST/raw/train-images-idx3-ubyte.gz to ./mnist_data/MNIST/raw\n"
          ]
        },
        {
          "output_type": "stream",
          "name": "stderr",
          "text": [
            "\n"
          ]
        },
        {
          "output_type": "stream",
          "name": "stdout",
          "text": [
            "\n",
            "Downloading http://yann.lecun.com/exdb/mnist/train-labels-idx1-ubyte.gz\n",
            "Downloading http://yann.lecun.com/exdb/mnist/train-labels-idx1-ubyte.gz to ./mnist_data/MNIST/raw/train-labels-idx1-ubyte.gz\n"
          ]
        },
        {
          "output_type": "stream",
          "name": "stderr",
          "text": [
            "100%|██████████| 28881/28881 [00:00<00:00, 38689138.88it/s]\n"
          ]
        },
        {
          "output_type": "stream",
          "name": "stdout",
          "text": [
            "Extracting ./mnist_data/MNIST/raw/train-labels-idx1-ubyte.gz to ./mnist_data/MNIST/raw\n",
            "\n",
            "Downloading http://yann.lecun.com/exdb/mnist/t10k-images-idx3-ubyte.gz\n",
            "Downloading http://yann.lecun.com/exdb/mnist/t10k-images-idx3-ubyte.gz to ./mnist_data/MNIST/raw/t10k-images-idx3-ubyte.gz\n"
          ]
        },
        {
          "output_type": "stream",
          "name": "stderr",
          "text": [
            "100%|██████████| 1648877/1648877 [00:00<00:00, 41964087.23it/s]"
          ]
        },
        {
          "output_type": "stream",
          "name": "stdout",
          "text": [
            "Extracting ./mnist_data/MNIST/raw/t10k-images-idx3-ubyte.gz to ./mnist_data/MNIST/raw\n"
          ]
        },
        {
          "output_type": "stream",
          "name": "stderr",
          "text": [
            "\n"
          ]
        },
        {
          "output_type": "stream",
          "name": "stdout",
          "text": [
            "\n",
            "Downloading http://yann.lecun.com/exdb/mnist/t10k-labels-idx1-ubyte.gz\n",
            "Downloading http://yann.lecun.com/exdb/mnist/t10k-labels-idx1-ubyte.gz to ./mnist_data/MNIST/raw/t10k-labels-idx1-ubyte.gz\n"
          ]
        },
        {
          "output_type": "stream",
          "name": "stderr",
          "text": [
            "100%|██████████| 4542/4542 [00:00<00:00, 23091550.02it/s]\n"
          ]
        },
        {
          "output_type": "stream",
          "name": "stdout",
          "text": [
            "Extracting ./mnist_data/MNIST/raw/t10k-labels-idx1-ubyte.gz to ./mnist_data/MNIST/raw\n",
            "\n"
          ]
        }
      ]
    },
    {
      "cell_type": "code",
      "source": [
        "mnist_train_loader = DataLoader(dst_train, batch_size=64, shuffle=True)\n",
        "mnist_test_loader = DataLoader(dst_test, batch_size=64, shuffle=False)"
      ],
      "metadata": {
        "id": "FJtC9G2CpKCj"
      },
      "execution_count": null,
      "outputs": []
    },
    {
      "cell_type": "markdown",
      "source": [
        "# Part2"
      ],
      "metadata": {
        "id": "qgThvV3rzP3Q"
      }
    },
    {
      "cell_type": "markdown",
      "source": [
        "citation:\n",
        "[1] Bo Zhao, Konda Reddy Mopuri, and Hakan Bilen. Dataset condensation with gradient matching.ICLR, 1(2):3, 2021. https://arxiv.org/abs/2006.05929"
      ],
      "metadata": {
        "id": "1GRAAIvH06g-"
      }
    },
    {
      "cell_type": "markdown",
      "source": [
        "code citation:\n",
        "VICO-UoE. (2022). DatasetCondensation [Code]. GitHub. https://github.com/VICO-UoE/DatasetCondensation\n"
      ],
      "metadata": {
        "id": "fsmyw6EK03vV"
      }
    },
    {
      "cell_type": "markdown",
      "source": [],
      "metadata": {
        "id": "HfR9tRAW2BRO"
      }
    },
    {
      "cell_type": "markdown",
      "source": [
        "## Part 2(a)\n"
      ],
      "metadata": {
        "id": "JmeABOZbimkz"
      }
    },
    {
      "cell_type": "markdown",
      "source": [
        "Model/Device Setup"
      ],
      "metadata": {
        "id": "q1tGvu_WdYsL"
      }
    },
    {
      "cell_type": "code",
      "source": [
        "NET = 'ConvNet'\n",
        "device = 'cuda' if torch.cuda.is_available() else 'cpu'\n",
        "model = utils.get_network(NET,channel,num_classes).to(device)\n",
        "class argument():\n",
        "  def __init__(self,device,ipc = 10):\n",
        "    self.model = 'ConvNet'\n",
        "    self.num_classes = num_classes\n",
        "    self.dataset = 'MNIST'\n",
        "    self.channel = channel\n",
        "    self.im_size = im_size\n",
        "    self.mean = mean\n",
        "    self.std = std\n",
        "    self.ipc = ipc\n",
        "    self.Iteration = 10 #K\n",
        "    self.num_epochs = 2\n",
        "    self.num_op_step = 1\n",
        "    self.lr_img = 0.1\n",
        "    self.lr_net = 0.01\n",
        "    self.epoch_eval_train = 2  #need be 20 as final test\n",
        "    self.batch_train = 256\n",
        "    self.outer_loop, self.inner_loop = utils.get_loops(self.ipc)\n",
        "    self.dis_metric = 'ours'\n",
        "\n",
        "    self.device = device\n",
        "    self.dsa = False\n",
        "    self.dsa_param = utils.ParamDiffAug()\n",
        "    self.dc_aug_param = utils.get_daparam(self.dataset, model, NET, ipc = self.ipc)\n",
        "    self.dsa_strategy = self.dc_aug_param['strategy']\n",
        "\n",
        "args = argument(device, 10)\n",
        "\n",
        "\n"
      ],
      "metadata": {
        "id": "u0IzyzYwcus4"
      },
      "execution_count": null,
      "outputs": []
    },
    {
      "cell_type": "markdown",
      "source": [
        "FLOP Calculate\n",
        "\n",
        "\n",
        "\n"
      ],
      "metadata": {
        "id": "X-CHaoKyrJFp"
      }
    },
    {
      "cell_type": "code",
      "source": [
        "len(dst_test)"
      ],
      "metadata": {
        "colab": {
          "base_uri": "https://localhost:8080/"
        },
        "id": "3yxtBMLM2rlh",
        "outputId": "c9d6ee0b-0627-4202-c29c-1c27fa78d4b4"
      },
      "execution_count": null,
      "outputs": [
        {
          "output_type": "execute_result",
          "data": {
            "text/plain": [
              "10000"
            ]
          },
          "metadata": {},
          "execution_count": 7
        }
      ]
    },
    {
      "cell_type": "markdown",
      "source": [
        " answer: the FLOP for 10000 images in test set"
      ],
      "metadata": {
        "id": "X5nH192h2wIp"
      }
    },
    {
      "cell_type": "code",
      "source": [
        "! pip install fvcore"
      ],
      "metadata": {
        "colab": {
          "base_uri": "https://localhost:8080/"
        },
        "id": "2fEt21t2NF86",
        "outputId": "f319fe03-8754-4606-9f0a-134c1ad48bbf"
      },
      "execution_count": 24,
      "outputs": [
        {
          "output_type": "stream",
          "name": "stdout",
          "text": [
            "Collecting fvcore\n",
            "  Downloading fvcore-0.1.5.post20221221.tar.gz (50 kB)\n",
            "\u001b[2K     \u001b[90m━━━━━━━━━━━━━━━━━━━━━━━━━━━━━━━━━━━━━━━━\u001b[0m \u001b[32m50.2/50.2 kB\u001b[0m \u001b[31m1.8 MB/s\u001b[0m eta \u001b[36m0:00:00\u001b[0m\n",
            "\u001b[?25h  Preparing metadata (setup.py) ... \u001b[?25l\u001b[?25hdone\n",
            "Requirement already satisfied: numpy in /usr/local/lib/python3.10/dist-packages (from fvcore) (1.23.5)\n",
            "Collecting yacs>=0.1.6 (from fvcore)\n",
            "  Downloading yacs-0.1.8-py3-none-any.whl (14 kB)\n",
            "Requirement already satisfied: pyyaml>=5.1 in /usr/local/lib/python3.10/dist-packages (from fvcore) (6.0.1)\n",
            "Requirement already satisfied: tqdm in /usr/local/lib/python3.10/dist-packages (from fvcore) (4.66.1)\n",
            "Requirement already satisfied: termcolor>=1.1 in /usr/local/lib/python3.10/dist-packages (from fvcore) (2.3.0)\n",
            "Requirement already satisfied: Pillow in /usr/local/lib/python3.10/dist-packages (from fvcore) (9.4.0)\n",
            "Requirement already satisfied: tabulate in /usr/local/lib/python3.10/dist-packages (from fvcore) (0.9.0)\n",
            "Collecting iopath>=0.1.7 (from fvcore)\n",
            "  Downloading iopath-0.1.10.tar.gz (42 kB)\n",
            "\u001b[2K     \u001b[90m━━━━━━━━━━━━━━━━━━━━━━━━━━━━━━━━━━━━━━━━\u001b[0m \u001b[32m42.2/42.2 kB\u001b[0m \u001b[31m5.9 MB/s\u001b[0m eta \u001b[36m0:00:00\u001b[0m\n",
            "\u001b[?25h  Preparing metadata (setup.py) ... \u001b[?25l\u001b[?25hdone\n",
            "Requirement already satisfied: typing_extensions in /usr/local/lib/python3.10/dist-packages (from iopath>=0.1.7->fvcore) (4.5.0)\n",
            "Collecting portalocker (from iopath>=0.1.7->fvcore)\n",
            "  Downloading portalocker-2.8.2-py3-none-any.whl (17 kB)\n",
            "Building wheels for collected packages: fvcore, iopath\n",
            "  Building wheel for fvcore (setup.py) ... \u001b[?25l\u001b[?25hdone\n",
            "  Created wheel for fvcore: filename=fvcore-0.1.5.post20221221-py3-none-any.whl size=61400 sha256=969d0b4487c64fc75ec0090dc0c58fc2f252ce39cd80757f1120de209365009b\n",
            "  Stored in directory: /root/.cache/pip/wheels/01/c0/af/77c1cf53a1be9e42a52b48e5af2169d40ec2e89f7362489dd0\n",
            "  Building wheel for iopath (setup.py) ... \u001b[?25l\u001b[?25hdone\n",
            "  Created wheel for iopath: filename=iopath-0.1.10-py3-none-any.whl size=31532 sha256=c0c502c0d759ca0877f7fd4075f29b4452dbac34dd0e0474b4adaa45e15c84b8\n",
            "  Stored in directory: /root/.cache/pip/wheels/9a/a3/b6/ac0fcd1b4ed5cfeb3db92e6a0e476cfd48ed0df92b91080c1d\n",
            "Successfully built fvcore iopath\n",
            "Installing collected packages: yacs, portalocker, iopath, fvcore\n",
            "Successfully installed fvcore-0.1.5.post20221221 iopath-0.1.10 portalocker-2.8.2 yacs-0.1.8\n"
          ]
        }
      ]
    },
    {
      "cell_type": "code",
      "source": [
        "from fvcore.nn import FlopCountAnalysis\n",
        "MNIST_dataset = 'MNIST'\n",
        "MNIST_data_path = './MNISTdata'\n",
        "MNIST_channel, MNIST_im_size, MNIST_num_classes, MNIST_class_names, MNIST_mean, MNIST_std, MNIST_dst_train, MNIST_dst_test, MNIST_testloader = get_dataset(MNIST_dataset, MNIST_data_path)\n",
        "MNIST_trainloader = torch.utils.data.DataLoader(MNIST_dst_train, batch_size=8, shuffle=True, num_workers=0)\n",
        "model = get_network('ConvNet', MNIST_channel, MNIST_num_classes, MNIST_im_size).to(device) # get a random model\n",
        "sythetic_img_all = torch.ones((100,1,28,28)).to(device)\n",
        "flops_syn = FlopCountAnalysis(model, sythetic_img_all)\n",
        "print('The FLOPs for 10000 real validation images is {}'.format(flops_syn.total()*100))"
      ],
      "metadata": {
        "id": "eNjEPnfmC2Bn",
        "colab": {
          "base_uri": "https://localhost:8080/"
        },
        "outputId": "5ce3dfe0-e603-4b21-c496-8bbfcbd96f7d"
      },
      "execution_count": 25,
      "outputs": [
        {
          "output_type": "stream",
          "name": "stdout",
          "text": [
            "Downloading http://yann.lecun.com/exdb/mnist/train-images-idx3-ubyte.gz\n",
            "Downloading http://yann.lecun.com/exdb/mnist/train-images-idx3-ubyte.gz to ./MNISTdata/MNIST/raw/train-images-idx3-ubyte.gz\n"
          ]
        },
        {
          "output_type": "stream",
          "name": "stderr",
          "text": [
            "100%|██████████| 9912422/9912422 [00:00<00:00, 103799149.26it/s]\n"
          ]
        },
        {
          "output_type": "stream",
          "name": "stdout",
          "text": [
            "Extracting ./MNISTdata/MNIST/raw/train-images-idx3-ubyte.gz to ./MNISTdata/MNIST/raw\n",
            "\n",
            "Downloading http://yann.lecun.com/exdb/mnist/train-labels-idx1-ubyte.gz\n",
            "Downloading http://yann.lecun.com/exdb/mnist/train-labels-idx1-ubyte.gz to ./MNISTdata/MNIST/raw/train-labels-idx1-ubyte.gz\n"
          ]
        },
        {
          "output_type": "stream",
          "name": "stderr",
          "text": [
            "100%|██████████| 28881/28881 [00:00<00:00, 126314592.10it/s]\n"
          ]
        },
        {
          "output_type": "stream",
          "name": "stdout",
          "text": [
            "Extracting ./MNISTdata/MNIST/raw/train-labels-idx1-ubyte.gz to ./MNISTdata/MNIST/raw\n",
            "\n",
            "Downloading http://yann.lecun.com/exdb/mnist/t10k-images-idx3-ubyte.gz\n",
            "Downloading http://yann.lecun.com/exdb/mnist/t10k-images-idx3-ubyte.gz to ./MNISTdata/MNIST/raw/t10k-images-idx3-ubyte.gz\n"
          ]
        },
        {
          "output_type": "stream",
          "name": "stderr",
          "text": [
            "100%|██████████| 1648877/1648877 [00:00<00:00, 38270238.81it/s]\n"
          ]
        },
        {
          "output_type": "stream",
          "name": "stdout",
          "text": [
            "Extracting ./MNISTdata/MNIST/raw/t10k-images-idx3-ubyte.gz to ./MNISTdata/MNIST/raw\n",
            "\n",
            "Downloading http://yann.lecun.com/exdb/mnist/t10k-labels-idx1-ubyte.gz\n",
            "Downloading http://yann.lecun.com/exdb/mnist/t10k-labels-idx1-ubyte.gz to ./MNISTdata/MNIST/raw/t10k-labels-idx1-ubyte.gz\n"
          ]
        },
        {
          "output_type": "stream",
          "name": "stderr",
          "text": [
            "100%|██████████| 4542/4542 [00:00<00:00, 20484439.54it/s]\n"
          ]
        },
        {
          "output_type": "stream",
          "name": "stdout",
          "text": [
            "Extracting ./MNISTdata/MNIST/raw/t10k-labels-idx1-ubyte.gz to ./MNISTdata/MNIST/raw\n",
            "\n"
          ]
        },
        {
          "output_type": "stream",
          "name": "stderr",
          "text": [
            "WARNING:fvcore.nn.jit_analysis:Unsupported operator aten::avg_pool2d encountered 3 time(s)\n"
          ]
        },
        {
          "output_type": "stream",
          "name": "stdout",
          "text": [
            "The FLOPs for 10000 real validation images is 492462080000\n"
          ]
        }
      ]
    },
    {
      "cell_type": "markdown",
      "source": [
        "Train Model With Orginal Data-Set"
      ],
      "metadata": {
        "id": "yi7kHQoXrUZ_"
      }
    },
    {
      "cell_type": "code",
      "source": [
        "optimizer = optim.SGD(model.parameters(), lr=0.01, momentum=0.9)\n",
        "criterion = nn.CrossEntropyLoss()\n",
        "scheduler = torch.optim.lr_scheduler.CosineAnnealingLR(optimizer, T_max=20, eta_min=0)\n",
        "lr = float(args.lr_net)\n",
        "Epoch = int(args.epoch_eval_train)\n",
        "lr_schedule = [Epoch//2+1]\n",
        "num_epochs = 20\n",
        "for epoch in range(num_epochs):\n",
        "    if epoch in lr_schedule:\n",
        "      lr *= 0.1\n",
        "      optimizer = torch.optim.SGD(model.parameters(), lr=lr, momentum=0.9, weight_decay=0.0005)\n",
        "    train_loss, train_acc = utils.epoch('train', mnist_train_loader, model, optimizer, criterion, args, aug=False)\n",
        "\n",
        "    loss_test, acc_test = utils.epoch('test', testloader, model, optimizer, criterion, args, aug = False)\n",
        "\n",
        "    scheduler.step()\n",
        "    print(f'\\nTrain Loss: {train_loss:.4f}, Train Acc: {train_acc:.4f}')\n",
        "    print(f'\\nTest Loss: {loss_test:.4f}, Test Acc: {acc_test:.4f}')\n",
        "\n"
      ],
      "metadata": {
        "id": "iS8vB1BTilvo",
        "colab": {
          "base_uri": "https://localhost:8080/"
        },
        "outputId": "27a867ac-8fa3-4dee-b631-895746a51874"
      },
      "execution_count": 29,
      "outputs": [
        {
          "output_type": "stream",
          "name": "stdout",
          "text": [
            "\n",
            "Train Loss: 0.0493, Train Acc: 0.9849\n",
            "\n",
            "Test Loss: 0.0303, Test Acc: 0.9903\n",
            "\n",
            "Train Loss: 0.0338, Train Acc: 0.9899\n",
            "\n",
            "Test Loss: 0.0255, Test Acc: 0.9920\n",
            "\n",
            "Train Loss: 0.0263, Train Acc: 0.9920\n",
            "\n",
            "Test Loss: 0.0228, Test Acc: 0.9929\n",
            "\n",
            "Train Loss: 0.0207, Train Acc: 0.9938\n",
            "\n",
            "Test Loss: 0.0255, Test Acc: 0.9922\n",
            "\n",
            "Train Loss: 0.0167, Train Acc: 0.9952\n",
            "\n",
            "Test Loss: 0.0246, Test Acc: 0.9925\n",
            "\n",
            "Train Loss: 0.0136, Train Acc: 0.9960\n",
            "\n",
            "Test Loss: 0.0195, Test Acc: 0.9932\n",
            "\n",
            "Train Loss: 0.0114, Train Acc: 0.9968\n",
            "\n",
            "Test Loss: 0.0200, Test Acc: 0.9945\n",
            "\n",
            "Train Loss: 0.0088, Train Acc: 0.9977\n",
            "\n",
            "Test Loss: 0.0179, Test Acc: 0.9944\n",
            "\n",
            "Train Loss: 0.0075, Train Acc: 0.9982\n",
            "\n",
            "Test Loss: 0.0198, Test Acc: 0.9941\n",
            "\n",
            "Train Loss: 0.0059, Train Acc: 0.9989\n",
            "\n",
            "Test Loss: 0.0179, Test Acc: 0.9943\n",
            "\n",
            "Train Loss: 0.0049, Train Acc: 0.9991\n",
            "\n",
            "Test Loss: 0.0163, Test Acc: 0.9951\n",
            "\n",
            "Train Loss: 0.0041, Train Acc: 0.9994\n",
            "\n",
            "Test Loss: 0.0166, Test Acc: 0.9945\n",
            "\n",
            "Train Loss: 0.0034, Train Acc: 0.9996\n",
            "\n",
            "Test Loss: 0.0158, Test Acc: 0.9953\n",
            "\n",
            "Train Loss: 0.0030, Train Acc: 0.9997\n",
            "\n",
            "Test Loss: 0.0161, Test Acc: 0.9950\n",
            "\n",
            "Train Loss: 0.0028, Train Acc: 0.9997\n",
            "\n",
            "Test Loss: 0.0158, Test Acc: 0.9950\n",
            "\n",
            "Train Loss: 0.0025, Train Acc: 0.9998\n",
            "\n",
            "Test Loss: 0.0158, Test Acc: 0.9950\n",
            "\n",
            "Train Loss: 0.0024, Train Acc: 0.9998\n",
            "\n",
            "Test Loss: 0.0158, Test Acc: 0.9953\n",
            "\n",
            "Train Loss: 0.0023, Train Acc: 0.9999\n",
            "\n",
            "Test Loss: 0.0159, Test Acc: 0.9952\n",
            "\n",
            "Train Loss: 0.0022, Train Acc: 0.9999\n",
            "\n",
            "Test Loss: 0.0158, Test Acc: 0.9952\n",
            "\n",
            "Train Loss: 0.0022, Train Acc: 0.9999\n",
            "\n",
            "Test Loss: 0.0158, Test Acc: 0.9952\n"
          ]
        }
      ]
    },
    {
      "cell_type": "markdown",
      "source": [
        "## Part 2.(B)  "
      ],
      "metadata": {
        "id": "z5i2qGGWEG0O"
      }
    },
    {
      "cell_type": "code",
      "source": [
        "NET = 'ConvNet'\n",
        "device = 'cuda' if torch.cuda.is_available() else 'cpu'\n",
        "model = utils.get_network(NET,channel,num_classes).to(device)\n",
        "class argument():\n",
        "  def __init__(self,device,ipc = 10):\n",
        "    self.num_classes = num_classes\n",
        "    self.dataset = 'MNIST'\n",
        "    self.channel = channel\n",
        "    self.im_size = im_size\n",
        "    self.mean = mean\n",
        "    self.std = std\n",
        "    self.ipc = 10\n",
        "    self.Iteration = 100 #K\n",
        "    self.num_epochs = 2\n",
        "    self.num_op_step = 1\n",
        "    self.lr_img = 0.1\n",
        "    self.lr_net = 0.01\n",
        "    self.epoch_eval_train = 20\n",
        "    self.batch_train = 256\n",
        "    self.outer_loop, self.inner_loop = utils.get_loops(self.ipc)\n",
        "    self.dis_metric = 'ours'\n",
        "    self.init = 'real'\n",
        "    self.eval_mode = 'S'\n",
        "    self.save_path = \"MNISTresult\"\n",
        "\n",
        "\n",
        "\n",
        "    self.device = device\n",
        "    self.dsa = False\n",
        "    self.dsa_param = utils.ParamDiffAug()\n",
        "    self.dc_aug_param = utils.get_daparam(self.dataset, model, NET, ipc = self.ipc)\n",
        "    self.dsa_strategy = self.dc_aug_param['strategy']\n",
        "\n",
        "\n"
      ],
      "metadata": {
        "id": "X5Z21Sc2LIS7"
      },
      "execution_count": null,
      "outputs": []
    },
    {
      "cell_type": "code",
      "source": [
        "# Train\n",
        "def DataD_GradientM(Net, args):\n",
        "  '''\n",
        "    itype:\n",
        "      Net -> str(): net type\n",
        "      image_syn ->\n",
        "      args -> obj: parameters\n",
        "    rtype:\n",
        "      data_save, visual_save, test_acc, train_acc -> list[],list[],list[],list[]\n",
        "  '''\n",
        "  if not os.path.exists(args.save_path):\n",
        "    os.mkdir(args.save_path)\n",
        "\n",
        "  eval_it_pool = list(range(0, args.Iteration + 1, 20))\n",
        "\n",
        "\n",
        "\n",
        "  # record accuracy of each model\n",
        "  records = dict()\n",
        "\n",
        "\n",
        "\n",
        "  records[model] = []\n",
        "\n",
        "  ''' orgainize image part '''\n",
        "  indices_class = [[] for c in range(num_classes)]\n",
        "  images_all = [torch.unsqueeze(dst_train[i][0], dim=0) for i in range(len(dst_train))]\n",
        "  labels_all = [dst_train[i][1] for i in range(len(dst_train))]\n",
        "\n",
        "  for i, lab in enumerate(labels_all):\n",
        "      indices_class[lab].append(i)\n",
        "\n",
        "  images_all = torch.cat(images_all, dim=0).to(args.device)\n",
        "  labels_all = torch.tensor(labels_all, dtype=torch.long, device=args.device)\n",
        "\n",
        "  for c in range(num_classes):\n",
        "      print('class c = %d: %d real images'%(c, len(indices_class[c])))\n",
        "\n",
        "  def get_images(c, n): # get random n images from class c\n",
        "      idx_shuffle = np.random.permutation(indices_class[c])[:n]\n",
        "      return images_all[idx_shuffle]\n",
        "\n",
        "  '''initialize the synthetic data '''\n",
        "  image_syn = torch.randn(size=(args.num_classes*args.ipc, args.channel, args.im_size[0], args.im_size[1]), dtype=torch.float, requires_grad=True, device=args.device)\n",
        "  label_syn = torch.tensor([i // args.num_classes for i in range(args.num_classes * args.ipc)],dtype=torch.long, device=args.device)\n",
        "\n",
        "  if args.init == 'real':\n",
        "    print('initialize synthetic data from random real images')\n",
        "    for c in range(args.num_classes):\n",
        "      image_syn.data[c*args.ipc:(c+1)*args.ipc] = get_images(c, args.ipc).detach().data\n",
        "  else:\n",
        "    print('initialize synthetic data from random noise')\n",
        "\n",
        "  ''' train '''\n",
        "  data_save = []   #final syn-dataset (data_save[0][0] = images; data_save[0][1] = labels)\n",
        "  test_acc = []    #record test accuracy of every iteration\n",
        "  train_acc = []   #record train accuracy of every iteration\n",
        "  all_losses =[]\n",
        "\n",
        "  optimizer_img = torch.optim.SGD([image_syn, ], lr=args.lr_img, momentum=0.5)\n",
        "  optimizer_img.zero_grad()\n",
        "  criterion_img = nn.CrossEntropyLoss().to(args.device)\n",
        "\n",
        "\n",
        "  for it in range(args.Iteration):\n",
        "    print(f'Iteration {it}')\n",
        "    ''' visualization of condensed images per class for MNIST datasets'''\n",
        "    if it%20 == 0 or  it == (args.Iteration-1):\n",
        "      save_name = os.path.join(args.save_path, args.init+'vis_%s_%dipc_iter%d.png'%( args.dataset, args.ipc, it))\n",
        "      image_syn_vis = copy.deepcopy(image_syn.detach().cpu())\n",
        "      for ch in range(channel):\n",
        "          image_syn_vis[:, ch] = image_syn_vis[:, ch]  * std[ch] + mean[ch]\n",
        "          image_syn_vis[image_syn_vis<0] = 0.0\n",
        "          image_syn_vis[image_syn_vis>1] = 1.0\n",
        "          save_image(image_syn_vis, save_name, nrow=args.ipc) # Trying normalize = True/False may get better visual effects.\n",
        "\n",
        "\n",
        "\n",
        "    ''' initial theta '''\n",
        "    net = utils.get_network(NET,args.channel,args.num_classes, args.im_size).to(args.device)\n",
        "    net.train()\n",
        "    net_parameters = list(net.parameters())\n",
        "    optimizer_net = torch.optim.SGD(net.parameters(), lr=args.lr_net)\n",
        "    optimizer_net.zero_grad()\n",
        "\n",
        "    for ol in tqdm.tqdm(range(args.outer_loop)): #outer loop\n",
        "      loss = torch.tensor(0.0).to(args.device)\n",
        "      for c in range(args.num_classes): #class loop\n",
        "        ''' Sample a minibatch pair BTc ∼ T and BSc ∼ S '''\n",
        "        img_real = get_images(c, args.batch_train)\n",
        "        lab_real = torch.ones((img_real.shape[0],), device=args.device, dtype=torch.long) * c\n",
        "        img_syn = image_syn[c*args.ipc:(c+1)*args.ipc].reshape((args.ipc, args.channel, args.im_size[0], args.im_size[1]))\n",
        "        lab_syn = torch.ones((args.ipc,), device=args.device, dtype=torch.long) * c\n",
        "\n",
        "        if args.dsa:\n",
        "          seed = int(time.time() * 1000) % 100000\n",
        "          img_real = utils.DiffAugment(img_real, args.dsa_strategy, seed=seed, param=args.dsa_param)\n",
        "          img_syn = utils.DiffAugment(img_syn, args.dsa_strategy, seed=seed, param=args.dsa_param)\n",
        "\n",
        "\n",
        "        ''' compute loss for both minibatch '''\n",
        "        output_real = net(img_real)\n",
        "        loss_real = criterion_img(output_real, lab_real)\n",
        "        gw_real = torch.autograd.grad(loss_real, net_parameters)\n",
        "        gw_real = list((_.detach().clone() for _ in gw_real))\n",
        "\n",
        "        output_synt = net(img_syn)\n",
        "        loss_synt = criterion_img(output_synt, lab_syn)\n",
        "        gw_synt = torch.autograd.grad(loss_synt, net_parameters, create_graph=True)\n",
        "\n",
        "        loss += utils.match_loss(gw_synt, gw_real, args)\n",
        "\n",
        "      ''' update '''\n",
        "      optimizer_img.zero_grad()\n",
        "      loss.backward()\n",
        "      optimizer_img.step()\n",
        "      if ol == args.outer_loop - 1:\n",
        "        break\n",
        "\n",
        "      image_syn_train, label_syn_train = copy.deepcopy(image_syn.detach()), copy.deepcopy(label_syn.detach())\n",
        "      dst_syn_train = utils.TensorDataset(image_syn_train, label_syn_train)\n",
        "      trainloader = torch.utils.data.DataLoader(dst_syn_train, batch_size=args.batch_train, shuffle=True, num_workers=0)\n",
        "      ''' inner outer '''\n",
        "      for inner in range(args.inner_loop):\n",
        "        utils.epoch('train', trainloader, net, optimizer_net, criterion_img, args, aug = True if args.dsa else False)\n",
        "\n",
        "    ''' evaluate '''\n",
        "    args.epoch_eval_train = 100\n",
        "    net_eval = utils.get_network(NET, channel, num_classes, im_size).to(args.device) # get a random model\n",
        "    image_syn_eval, label_syn_eval = copy.deepcopy(image_syn.detach()), copy.deepcopy(label_syn.detach())\n",
        "    _, acc_train, acc_test = utils.evaluate_synset(it, net_eval, image_syn_eval, label_syn_eval, testloader, args)\n",
        "    test_acc.append(acc_test)\n",
        "    train_acc.append(acc_train)\n",
        "\n",
        "    '''Save the synthetic data result'''\n",
        "    if it == (args.Iteration-1):\n",
        "      data_save.append([copy.deepcopy(image_syn.detach().cpu()), copy.deepcopy(label_syn.detach().cpu())])\n",
        "      torch.save({'data': data_save}, os.path.join(args.save_path, args.init+'res_%s_%dipc.pt'%(args.dataset, args.ipc)))\n",
        "      print(\"The Final Accuracy for the sythetic data result: \", str(test_acc[-1]))\n",
        "  return data_save,  test_acc, train_acc\n",
        "\n",
        "\n",
        "\n"
      ],
      "metadata": {
        "id": "srnrR2OPiUFS"
      },
      "execution_count": null,
      "outputs": []
    },
    {
      "cell_type": "code",
      "source": [
        "args = argument(device, 10)\n",
        "NET = \"ConvNet\"\n",
        "# image_syn, label_syn = init_syn(args, 'real')\n",
        "data_save,  test_acc, train_acc = DataD_GradientM(NET, args)"
      ],
      "metadata": {
        "colab": {
          "base_uri": "https://localhost:8080/"
        },
        "id": "rbZtbaLt-Sp9",
        "outputId": "7304214a-635e-45bb-aecd-5570a0760234"
      },
      "execution_count": null,
      "outputs": [
        {
          "output_type": "stream",
          "name": "stdout",
          "text": [
            "class c = 0: 5923 real images\n",
            "class c = 1: 6742 real images\n",
            "class c = 2: 5958 real images\n",
            "class c = 3: 6131 real images\n",
            "class c = 4: 5842 real images\n",
            "class c = 5: 5421 real images\n",
            "class c = 6: 5918 real images\n",
            "class c = 7: 6265 real images\n",
            "class c = 8: 5851 real images\n",
            "class c = 9: 5949 real images\n",
            "initialize synthetic data from random real images\n",
            "Iteration 0\n"
          ]
        },
        {
          "output_type": "stream",
          "name": "stderr",
          "text": [
            " 90%|█████████ | 9/10 [00:17<00:01,  1.96s/it]\n"
          ]
        },
        {
          "output_type": "stream",
          "name": "stdout",
          "text": [
            "[2023-12-05 03:05:13] Evaluate_00: epoch = 0100 train time = 4 s train loss = 0.283096 train acc = 0.9300, test acc = 0.9406\n",
            "Iteration 1\n"
          ]
        },
        {
          "output_type": "stream",
          "name": "stderr",
          "text": [
            " 90%|█████████ | 9/10 [00:09<00:01,  1.11s/it]\n"
          ]
        },
        {
          "output_type": "stream",
          "name": "stdout",
          "text": [
            "[2023-12-05 03:05:29] Evaluate_01: epoch = 0100 train time = 4 s train loss = 0.235343 train acc = 0.9400, test acc = 0.9511\n",
            "Iteration 2\n"
          ]
        },
        {
          "output_type": "stream",
          "name": "stderr",
          "text": [
            " 90%|█████████ | 9/10 [00:10<00:01,  1.12s/it]\n"
          ]
        },
        {
          "output_type": "stream",
          "name": "stdout",
          "text": [
            "[2023-12-05 03:05:46] Evaluate_02: epoch = 0100 train time = 4 s train loss = 0.271785 train acc = 0.9200, test acc = 0.9542\n",
            "Iteration 3\n"
          ]
        },
        {
          "output_type": "stream",
          "name": "stderr",
          "text": [
            " 90%|█████████ | 9/10 [00:10<00:01,  1.12s/it]\n"
          ]
        },
        {
          "output_type": "stream",
          "name": "stdout",
          "text": [
            "[2023-12-05 03:06:02] Evaluate_03: epoch = 0100 train time = 4 s train loss = 0.277622 train acc = 0.9200, test acc = 0.9532\n",
            "Iteration 4\n"
          ]
        },
        {
          "output_type": "stream",
          "name": "stderr",
          "text": [
            " 90%|█████████ | 9/10 [00:10<00:01,  1.19s/it]\n"
          ]
        },
        {
          "output_type": "stream",
          "name": "stdout",
          "text": [
            "[2023-12-05 03:06:19] Evaluate_04: epoch = 0100 train time = 3 s train loss = 0.324812 train acc = 0.9300, test acc = 0.9580\n",
            "Iteration 5\n"
          ]
        },
        {
          "output_type": "stream",
          "name": "stderr",
          "text": [
            " 90%|█████████ | 9/10 [00:10<00:01,  1.14s/it]\n"
          ]
        },
        {
          "output_type": "stream",
          "name": "stdout",
          "text": [
            "[2023-12-05 03:06:36] Evaluate_05: epoch = 0100 train time = 3 s train loss = 0.320169 train acc = 0.9000, test acc = 0.9546\n",
            "Iteration 6\n"
          ]
        },
        {
          "output_type": "stream",
          "name": "stderr",
          "text": [
            " 90%|█████████ | 9/10 [00:10<00:01,  1.15s/it]\n"
          ]
        },
        {
          "output_type": "stream",
          "name": "stdout",
          "text": [
            "[2023-12-05 03:06:52] Evaluate_06: epoch = 0100 train time = 3 s train loss = 0.252473 train acc = 0.9200, test acc = 0.9586\n",
            "Iteration 7\n"
          ]
        },
        {
          "output_type": "stream",
          "name": "stderr",
          "text": [
            " 90%|█████████ | 9/10 [00:10<00:01,  1.16s/it]\n"
          ]
        },
        {
          "output_type": "stream",
          "name": "stdout",
          "text": [
            "[2023-12-05 03:07:09] Evaluate_07: epoch = 0100 train time = 3 s train loss = 0.211422 train acc = 0.9700, test acc = 0.9573\n",
            "Iteration 8\n"
          ]
        },
        {
          "output_type": "stream",
          "name": "stderr",
          "text": [
            " 90%|█████████ | 9/10 [00:10<00:01,  1.16s/it]\n"
          ]
        },
        {
          "output_type": "stream",
          "name": "stdout",
          "text": [
            "[2023-12-05 03:07:25] Evaluate_08: epoch = 0100 train time = 3 s train loss = 0.346483 train acc = 0.9100, test acc = 0.9569\n",
            "Iteration 9\n"
          ]
        },
        {
          "output_type": "stream",
          "name": "stderr",
          "text": [
            " 90%|█████████ | 9/10 [00:10<00:01,  1.16s/it]\n"
          ]
        },
        {
          "output_type": "stream",
          "name": "stdout",
          "text": [
            "[2023-12-05 03:07:42] Evaluate_09: epoch = 0100 train time = 3 s train loss = 0.323662 train acc = 0.9000, test acc = 0.9584\n",
            "Iteration 10\n"
          ]
        },
        {
          "output_type": "stream",
          "name": "stderr",
          "text": [
            " 90%|█████████ | 9/10 [00:10<00:01,  1.15s/it]\n"
          ]
        },
        {
          "output_type": "stream",
          "name": "stdout",
          "text": [
            "[2023-12-05 03:08:00] Evaluate_10: epoch = 0100 train time = 3 s train loss = 0.296801 train acc = 0.9100, test acc = 0.9578\n",
            "Iteration 11\n"
          ]
        },
        {
          "output_type": "stream",
          "name": "stderr",
          "text": [
            " 90%|█████████ | 9/10 [00:10<00:01,  1.15s/it]\n"
          ]
        },
        {
          "output_type": "stream",
          "name": "stdout",
          "text": [
            "[2023-12-05 03:08:17] Evaluate_11: epoch = 0100 train time = 4 s train loss = 0.335778 train acc = 0.9100, test acc = 0.9597\n",
            "Iteration 12\n"
          ]
        },
        {
          "output_type": "stream",
          "name": "stderr",
          "text": [
            " 90%|█████████ | 9/10 [00:10<00:01,  1.15s/it]\n"
          ]
        },
        {
          "output_type": "stream",
          "name": "stdout",
          "text": [
            "[2023-12-05 03:08:35] Evaluate_12: epoch = 0100 train time = 4 s train loss = 0.359043 train acc = 0.9000, test acc = 0.9607\n",
            "Iteration 13\n"
          ]
        },
        {
          "output_type": "stream",
          "name": "stderr",
          "text": [
            " 90%|█████████ | 9/10 [00:10<00:01,  1.15s/it]\n"
          ]
        },
        {
          "output_type": "stream",
          "name": "stdout",
          "text": [
            "[2023-12-05 03:08:52] Evaluate_13: epoch = 0100 train time = 4 s train loss = 0.270773 train acc = 0.9500, test acc = 0.9559\n",
            "Iteration 14\n"
          ]
        },
        {
          "output_type": "stream",
          "name": "stderr",
          "text": [
            " 90%|█████████ | 9/10 [00:10<00:01,  1.15s/it]\n"
          ]
        },
        {
          "output_type": "stream",
          "name": "stdout",
          "text": [
            "[2023-12-05 03:09:10] Evaluate_14: epoch = 0100 train time = 4 s train loss = 0.335270 train acc = 0.9000, test acc = 0.9577\n",
            "Iteration 15\n"
          ]
        },
        {
          "output_type": "stream",
          "name": "stderr",
          "text": [
            " 90%|█████████ | 9/10 [00:10<00:01,  1.18s/it]\n"
          ]
        },
        {
          "output_type": "stream",
          "name": "stdout",
          "text": [
            "[2023-12-05 03:09:27] Evaluate_15: epoch = 0100 train time = 3 s train loss = 0.311727 train acc = 0.9000, test acc = 0.9589\n",
            "Iteration 16\n"
          ]
        },
        {
          "output_type": "stream",
          "name": "stderr",
          "text": [
            " 90%|█████████ | 9/10 [00:10<00:01,  1.16s/it]\n"
          ]
        },
        {
          "output_type": "stream",
          "name": "stdout",
          "text": [
            "[2023-12-05 03:09:43] Evaluate_16: epoch = 0100 train time = 3 s train loss = 0.317022 train acc = 0.9100, test acc = 0.9592\n",
            "Iteration 17\n"
          ]
        },
        {
          "output_type": "stream",
          "name": "stderr",
          "text": [
            " 90%|█████████ | 9/10 [00:10<00:01,  1.16s/it]\n"
          ]
        },
        {
          "output_type": "stream",
          "name": "stdout",
          "text": [
            "[2023-12-05 03:10:00] Evaluate_17: epoch = 0100 train time = 3 s train loss = 0.317041 train acc = 0.9300, test acc = 0.9635\n",
            "Iteration 18\n"
          ]
        },
        {
          "output_type": "stream",
          "name": "stderr",
          "text": [
            " 90%|█████████ | 9/10 [00:10<00:01,  1.16s/it]\n"
          ]
        },
        {
          "output_type": "stream",
          "name": "stdout",
          "text": [
            "[2023-12-05 03:10:16] Evaluate_18: epoch = 0100 train time = 3 s train loss = 0.398494 train acc = 0.9100, test acc = 0.9594\n",
            "Iteration 19\n"
          ]
        },
        {
          "output_type": "stream",
          "name": "stderr",
          "text": [
            " 90%|█████████ | 9/10 [00:10<00:01,  1.16s/it]\n"
          ]
        },
        {
          "output_type": "stream",
          "name": "stdout",
          "text": [
            "[2023-12-05 03:10:33] Evaluate_19: epoch = 0100 train time = 3 s train loss = 0.315799 train acc = 0.9200, test acc = 0.9608\n",
            "Iteration 20\n"
          ]
        },
        {
          "output_type": "stream",
          "name": "stderr",
          "text": [
            " 90%|█████████ | 9/10 [00:10<00:01,  1.16s/it]\n"
          ]
        },
        {
          "output_type": "stream",
          "name": "stdout",
          "text": [
            "[2023-12-05 03:10:49] Evaluate_20: epoch = 0100 train time = 3 s train loss = 0.270610 train acc = 0.9600, test acc = 0.9599\n",
            "Iteration 21\n"
          ]
        },
        {
          "output_type": "stream",
          "name": "stderr",
          "text": [
            " 90%|█████████ | 9/10 [00:10<00:01,  1.16s/it]\n"
          ]
        },
        {
          "output_type": "stream",
          "name": "stdout",
          "text": [
            "[2023-12-05 03:11:06] Evaluate_21: epoch = 0100 train time = 3 s train loss = 0.295389 train acc = 0.9100, test acc = 0.9599\n",
            "Iteration 22\n"
          ]
        },
        {
          "output_type": "stream",
          "name": "stderr",
          "text": [
            " 90%|█████████ | 9/10 [00:10<00:01,  1.15s/it]\n"
          ]
        },
        {
          "output_type": "stream",
          "name": "stdout",
          "text": [
            "[2023-12-05 03:11:23] Evaluate_22: epoch = 0100 train time = 3 s train loss = 0.290165 train acc = 0.9200, test acc = 0.9582\n",
            "Iteration 23\n"
          ]
        },
        {
          "output_type": "stream",
          "name": "stderr",
          "text": [
            " 90%|█████████ | 9/10 [00:10<00:01,  1.15s/it]\n"
          ]
        },
        {
          "output_type": "stream",
          "name": "stdout",
          "text": [
            "[2023-12-05 03:11:40] Evaluate_23: epoch = 0100 train time = 3 s train loss = 0.211766 train acc = 0.9500, test acc = 0.9595\n",
            "Iteration 24\n"
          ]
        },
        {
          "output_type": "stream",
          "name": "stderr",
          "text": [
            " 90%|█████████ | 9/10 [00:10<00:01,  1.15s/it]\n"
          ]
        },
        {
          "output_type": "stream",
          "name": "stdout",
          "text": [
            "[2023-12-05 03:11:58] Evaluate_24: epoch = 0100 train time = 4 s train loss = 0.360862 train acc = 0.9100, test acc = 0.9594\n",
            "Iteration 25\n"
          ]
        },
        {
          "output_type": "stream",
          "name": "stderr",
          "text": [
            " 90%|█████████ | 9/10 [00:10<00:01,  1.14s/it]\n"
          ]
        },
        {
          "output_type": "stream",
          "name": "stdout",
          "text": [
            "[2023-12-05 03:12:16] Evaluate_25: epoch = 0100 train time = 4 s train loss = 0.273753 train acc = 0.9500, test acc = 0.9622\n",
            "Iteration 26\n"
          ]
        },
        {
          "output_type": "stream",
          "name": "stderr",
          "text": [
            " 90%|█████████ | 9/10 [00:10<00:01,  1.15s/it]\n"
          ]
        },
        {
          "output_type": "stream",
          "name": "stdout",
          "text": [
            "[2023-12-05 03:12:33] Evaluate_26: epoch = 0100 train time = 4 s train loss = 0.320825 train acc = 0.9100, test acc = 0.9609\n",
            "Iteration 27\n"
          ]
        },
        {
          "output_type": "stream",
          "name": "stderr",
          "text": [
            " 90%|█████████ | 9/10 [00:10<00:01,  1.15s/it]\n"
          ]
        },
        {
          "output_type": "stream",
          "name": "stdout",
          "text": [
            "[2023-12-05 03:12:50] Evaluate_27: epoch = 0100 train time = 3 s train loss = 0.295722 train acc = 0.9200, test acc = 0.9636\n",
            "Iteration 28\n"
          ]
        },
        {
          "output_type": "stream",
          "name": "stderr",
          "text": [
            " 90%|█████████ | 9/10 [00:10<00:01,  1.16s/it]\n"
          ]
        },
        {
          "output_type": "stream",
          "name": "stdout",
          "text": [
            "[2023-12-05 03:13:06] Evaluate_28: epoch = 0100 train time = 3 s train loss = 0.403627 train acc = 0.8600, test acc = 0.9604\n",
            "Iteration 29\n"
          ]
        },
        {
          "output_type": "stream",
          "name": "stderr",
          "text": [
            " 90%|█████████ | 9/10 [00:10<00:01,  1.16s/it]\n"
          ]
        },
        {
          "output_type": "stream",
          "name": "stdout",
          "text": [
            "[2023-12-05 03:13:23] Evaluate_29: epoch = 0100 train time = 3 s train loss = 0.328126 train acc = 0.9200, test acc = 0.9583\n",
            "Iteration 30\n"
          ]
        },
        {
          "output_type": "stream",
          "name": "stderr",
          "text": [
            " 90%|█████████ | 9/10 [00:10<00:01,  1.16s/it]\n"
          ]
        },
        {
          "output_type": "stream",
          "name": "stdout",
          "text": [
            "[2023-12-05 03:13:39] Evaluate_30: epoch = 0100 train time = 3 s train loss = 0.367186 train acc = 0.8900, test acc = 0.9597\n",
            "Iteration 31\n"
          ]
        },
        {
          "output_type": "stream",
          "name": "stderr",
          "text": [
            " 90%|█████████ | 9/10 [00:10<00:01,  1.15s/it]\n"
          ]
        },
        {
          "output_type": "stream",
          "name": "stdout",
          "text": [
            "[2023-12-05 03:13:56] Evaluate_31: epoch = 0100 train time = 3 s train loss = 0.435734 train acc = 0.8400, test acc = 0.9610\n",
            "Iteration 32\n"
          ]
        },
        {
          "output_type": "stream",
          "name": "stderr",
          "text": [
            " 90%|█████████ | 9/10 [00:10<00:01,  1.15s/it]\n"
          ]
        },
        {
          "output_type": "stream",
          "name": "stdout",
          "text": [
            "[2023-12-05 03:14:12] Evaluate_32: epoch = 0100 train time = 3 s train loss = 0.235171 train acc = 0.9300, test acc = 0.9622\n",
            "Iteration 33\n"
          ]
        },
        {
          "output_type": "stream",
          "name": "stderr",
          "text": [
            " 90%|█████████ | 9/10 [00:10<00:01,  1.18s/it]\n"
          ]
        },
        {
          "output_type": "stream",
          "name": "stdout",
          "text": [
            "[2023-12-05 03:14:29] Evaluate_33: epoch = 0100 train time = 4 s train loss = 0.358519 train acc = 0.9400, test acc = 0.9628\n",
            "Iteration 34\n"
          ]
        },
        {
          "output_type": "stream",
          "name": "stderr",
          "text": [
            " 90%|█████████ | 9/10 [00:10<00:01,  1.16s/it]\n"
          ]
        },
        {
          "output_type": "stream",
          "name": "stdout",
          "text": [
            "[2023-12-05 03:14:46] Evaluate_34: epoch = 0100 train time = 3 s train loss = 0.407679 train acc = 0.9200, test acc = 0.9618\n",
            "Iteration 35\n"
          ]
        },
        {
          "output_type": "stream",
          "name": "stderr",
          "text": [
            " 90%|█████████ | 9/10 [00:10<00:01,  1.16s/it]\n"
          ]
        },
        {
          "output_type": "stream",
          "name": "stdout",
          "text": [
            "[2023-12-05 03:15:03] Evaluate_35: epoch = 0100 train time = 3 s train loss = 0.279679 train acc = 0.9500, test acc = 0.9609\n",
            "Iteration 36\n"
          ]
        },
        {
          "output_type": "stream",
          "name": "stderr",
          "text": [
            " 90%|█████████ | 9/10 [00:10<00:01,  1.15s/it]\n"
          ]
        },
        {
          "output_type": "stream",
          "name": "stdout",
          "text": [
            "[2023-12-05 03:15:20] Evaluate_36: epoch = 0100 train time = 3 s train loss = 0.327610 train acc = 0.9400, test acc = 0.9623\n",
            "Iteration 37\n"
          ]
        },
        {
          "output_type": "stream",
          "name": "stderr",
          "text": [
            " 90%|█████████ | 9/10 [00:10<00:01,  1.15s/it]\n"
          ]
        },
        {
          "output_type": "stream",
          "name": "stdout",
          "text": [
            "[2023-12-05 03:15:38] Evaluate_37: epoch = 0100 train time = 4 s train loss = 0.302183 train acc = 0.9500, test acc = 0.9590\n",
            "Iteration 38\n"
          ]
        },
        {
          "output_type": "stream",
          "name": "stderr",
          "text": [
            " 90%|█████████ | 9/10 [00:10<00:01,  1.14s/it]\n"
          ]
        },
        {
          "output_type": "stream",
          "name": "stdout",
          "text": [
            "[2023-12-05 03:15:56] Evaluate_38: epoch = 0100 train time = 4 s train loss = 0.331773 train acc = 0.9400, test acc = 0.9604\n",
            "Iteration 39\n"
          ]
        },
        {
          "output_type": "stream",
          "name": "stderr",
          "text": [
            " 90%|█████████ | 9/10 [00:10<00:01,  1.15s/it]\n"
          ]
        },
        {
          "output_type": "stream",
          "name": "stdout",
          "text": [
            "[2023-12-05 03:16:13] Evaluate_39: epoch = 0100 train time = 4 s train loss = 0.252979 train acc = 0.9700, test acc = 0.9621\n",
            "Iteration 40\n"
          ]
        },
        {
          "output_type": "stream",
          "name": "stderr",
          "text": [
            " 90%|█████████ | 9/10 [00:10<00:01,  1.15s/it]\n"
          ]
        },
        {
          "output_type": "stream",
          "name": "stdout",
          "text": [
            "[2023-12-05 03:16:30] Evaluate_40: epoch = 0100 train time = 4 s train loss = 0.391620 train acc = 0.8900, test acc = 0.9628\n",
            "Iteration 41\n"
          ]
        },
        {
          "output_type": "stream",
          "name": "stderr",
          "text": [
            " 90%|█████████ | 9/10 [00:10<00:01,  1.16s/it]\n"
          ]
        },
        {
          "output_type": "stream",
          "name": "stdout",
          "text": [
            "[2023-12-05 03:16:47] Evaluate_41: epoch = 0100 train time = 3 s train loss = 0.312413 train acc = 0.9200, test acc = 0.9616\n",
            "Iteration 42\n"
          ]
        },
        {
          "output_type": "stream",
          "name": "stderr",
          "text": [
            " 90%|█████████ | 9/10 [00:10<00:01,  1.15s/it]\n"
          ]
        },
        {
          "output_type": "stream",
          "name": "stdout",
          "text": [
            "[2023-12-05 03:17:03] Evaluate_42: epoch = 0100 train time = 3 s train loss = 0.420549 train acc = 0.8900, test acc = 0.9622\n",
            "Iteration 43\n"
          ]
        },
        {
          "output_type": "stream",
          "name": "stderr",
          "text": [
            " 90%|█████████ | 9/10 [00:10<00:01,  1.16s/it]\n"
          ]
        },
        {
          "output_type": "stream",
          "name": "stdout",
          "text": [
            "[2023-12-05 03:17:19] Evaluate_43: epoch = 0100 train time = 3 s train loss = 0.403126 train acc = 0.8900, test acc = 0.9621\n",
            "Iteration 44\n"
          ]
        },
        {
          "output_type": "stream",
          "name": "stderr",
          "text": [
            " 90%|█████████ | 9/10 [00:10<00:01,  1.16s/it]\n"
          ]
        },
        {
          "output_type": "stream",
          "name": "stdout",
          "text": [
            "[2023-12-05 03:17:36] Evaluate_44: epoch = 0100 train time = 3 s train loss = 0.385192 train acc = 0.9100, test acc = 0.9650\n",
            "Iteration 45\n"
          ]
        },
        {
          "output_type": "stream",
          "name": "stderr",
          "text": [
            " 90%|█████████ | 9/10 [00:10<00:01,  1.16s/it]\n"
          ]
        },
        {
          "output_type": "stream",
          "name": "stdout",
          "text": [
            "[2023-12-05 03:17:52] Evaluate_45: epoch = 0100 train time = 3 s train loss = 0.459153 train acc = 0.9100, test acc = 0.9595\n",
            "Iteration 46\n"
          ]
        },
        {
          "output_type": "stream",
          "name": "stderr",
          "text": [
            " 90%|█████████ | 9/10 [00:10<00:01,  1.16s/it]\n"
          ]
        },
        {
          "output_type": "stream",
          "name": "stdout",
          "text": [
            "[2023-12-05 03:18:09] Evaluate_46: epoch = 0100 train time = 3 s train loss = 0.448622 train acc = 0.8500, test acc = 0.9602\n",
            "Iteration 47\n"
          ]
        },
        {
          "output_type": "stream",
          "name": "stderr",
          "text": [
            " 90%|█████████ | 9/10 [00:10<00:01,  1.16s/it]\n"
          ]
        },
        {
          "output_type": "stream",
          "name": "stdout",
          "text": [
            "[2023-12-05 03:18:26] Evaluate_47: epoch = 0100 train time = 3 s train loss = 0.280850 train acc = 0.9300, test acc = 0.9626\n",
            "Iteration 48\n"
          ]
        },
        {
          "output_type": "stream",
          "name": "stderr",
          "text": [
            " 90%|█████████ | 9/10 [00:10<00:01,  1.16s/it]\n"
          ]
        },
        {
          "output_type": "stream",
          "name": "stdout",
          "text": [
            "[2023-12-05 03:18:43] Evaluate_48: epoch = 0100 train time = 3 s train loss = 0.482518 train acc = 0.8300, test acc = 0.9611\n",
            "Iteration 49\n"
          ]
        },
        {
          "output_type": "stream",
          "name": "stderr",
          "text": [
            " 90%|█████████ | 9/10 [00:10<00:01,  1.15s/it]\n"
          ]
        },
        {
          "output_type": "stream",
          "name": "stdout",
          "text": [
            "[2023-12-05 03:19:00] Evaluate_49: epoch = 0100 train time = 3 s train loss = 0.343636 train acc = 0.9200, test acc = 0.9675\n",
            "Iteration 50\n"
          ]
        },
        {
          "output_type": "stream",
          "name": "stderr",
          "text": [
            " 90%|█████████ | 9/10 [00:10<00:01,  1.15s/it]\n"
          ]
        },
        {
          "output_type": "stream",
          "name": "stdout",
          "text": [
            "[2023-12-05 03:19:18] Evaluate_50: epoch = 0100 train time = 4 s train loss = 0.420881 train acc = 0.8900, test acc = 0.9638\n",
            "Iteration 51\n"
          ]
        },
        {
          "output_type": "stream",
          "name": "stderr",
          "text": [
            " 90%|█████████ | 9/10 [00:10<00:01,  1.15s/it]\n"
          ]
        },
        {
          "output_type": "stream",
          "name": "stdout",
          "text": [
            "[2023-12-05 03:19:36] Evaluate_51: epoch = 0100 train time = 4 s train loss = 0.339085 train acc = 0.9200, test acc = 0.9640\n",
            "Iteration 52\n"
          ]
        },
        {
          "output_type": "stream",
          "name": "stderr",
          "text": [
            " 90%|█████████ | 9/10 [00:10<00:01,  1.14s/it]\n"
          ]
        },
        {
          "output_type": "stream",
          "name": "stdout",
          "text": [
            "[2023-12-05 03:19:53] Evaluate_52: epoch = 0100 train time = 4 s train loss = 0.396645 train acc = 0.9100, test acc = 0.9620\n",
            "Iteration 53\n"
          ]
        },
        {
          "output_type": "stream",
          "name": "stderr",
          "text": [
            " 90%|█████████ | 9/10 [00:10<00:01,  1.16s/it]\n"
          ]
        },
        {
          "output_type": "stream",
          "name": "stdout",
          "text": [
            "[2023-12-05 03:20:11] Evaluate_53: epoch = 0100 train time = 4 s train loss = 0.321149 train acc = 0.9200, test acc = 0.9635\n",
            "Iteration 54\n"
          ]
        },
        {
          "output_type": "stream",
          "name": "stderr",
          "text": [
            " 90%|█████████ | 9/10 [00:10<00:01,  1.16s/it]\n"
          ]
        },
        {
          "output_type": "stream",
          "name": "stdout",
          "text": [
            "[2023-12-05 03:20:27] Evaluate_54: epoch = 0100 train time = 3 s train loss = 0.448307 train acc = 0.8700, test acc = 0.9632\n",
            "Iteration 55\n"
          ]
        },
        {
          "output_type": "stream",
          "name": "stderr",
          "text": [
            " 90%|█████████ | 9/10 [00:10<00:01,  1.16s/it]\n"
          ]
        },
        {
          "output_type": "stream",
          "name": "stdout",
          "text": [
            "[2023-12-05 03:20:44] Evaluate_55: epoch = 0100 train time = 3 s train loss = 0.422220 train acc = 0.8800, test acc = 0.9663\n",
            "Iteration 56\n"
          ]
        },
        {
          "output_type": "stream",
          "name": "stderr",
          "text": [
            " 90%|█████████ | 9/10 [00:10<00:01,  1.15s/it]\n"
          ]
        },
        {
          "output_type": "stream",
          "name": "stdout",
          "text": [
            "[2023-12-05 03:21:00] Evaluate_56: epoch = 0100 train time = 3 s train loss = 0.467169 train acc = 0.8700, test acc = 0.9640\n",
            "Iteration 57\n"
          ]
        },
        {
          "output_type": "stream",
          "name": "stderr",
          "text": [
            " 90%|█████████ | 9/10 [00:10<00:01,  1.16s/it]\n"
          ]
        },
        {
          "output_type": "stream",
          "name": "stdout",
          "text": [
            "[2023-12-05 03:21:17] Evaluate_57: epoch = 0100 train time = 3 s train loss = 0.318464 train acc = 0.9600, test acc = 0.9648\n",
            "Iteration 58\n"
          ]
        },
        {
          "output_type": "stream",
          "name": "stderr",
          "text": [
            " 90%|█████████ | 9/10 [00:10<00:01,  1.16s/it]\n"
          ]
        },
        {
          "output_type": "stream",
          "name": "stdout",
          "text": [
            "[2023-12-05 03:21:34] Evaluate_58: epoch = 0100 train time = 3 s train loss = 0.336610 train acc = 0.9400, test acc = 0.9591\n",
            "Iteration 59\n"
          ]
        },
        {
          "output_type": "stream",
          "name": "stderr",
          "text": [
            " 90%|█████████ | 9/10 [00:10<00:01,  1.16s/it]\n"
          ]
        },
        {
          "output_type": "stream",
          "name": "stdout",
          "text": [
            "[2023-12-05 03:21:50] Evaluate_59: epoch = 0100 train time = 3 s train loss = 0.439874 train acc = 0.8700, test acc = 0.9625\n",
            "Iteration 60\n"
          ]
        },
        {
          "output_type": "stream",
          "name": "stderr",
          "text": [
            " 90%|█████████ | 9/10 [00:10<00:01,  1.15s/it]\n"
          ]
        },
        {
          "output_type": "stream",
          "name": "stdout",
          "text": [
            "[2023-12-05 03:22:07] Evaluate_60: epoch = 0100 train time = 3 s train loss = 0.431737 train acc = 0.8800, test acc = 0.9658\n",
            "Iteration 61\n"
          ]
        },
        {
          "output_type": "stream",
          "name": "stderr",
          "text": [
            " 90%|█████████ | 9/10 [00:10<00:01,  1.15s/it]\n"
          ]
        },
        {
          "output_type": "stream",
          "name": "stdout",
          "text": [
            "[2023-12-05 03:22:24] Evaluate_61: epoch = 0100 train time = 3 s train loss = 0.433247 train acc = 0.8600, test acc = 0.9636\n",
            "Iteration 62\n"
          ]
        },
        {
          "output_type": "stream",
          "name": "stderr",
          "text": [
            " 90%|█████████ | 9/10 [00:10<00:01,  1.15s/it]\n"
          ]
        },
        {
          "output_type": "stream",
          "name": "stdout",
          "text": [
            "[2023-12-05 03:22:41] Evaluate_62: epoch = 0100 train time = 3 s train loss = 0.408657 train acc = 0.8900, test acc = 0.9631\n",
            "Iteration 63\n"
          ]
        },
        {
          "output_type": "stream",
          "name": "stderr",
          "text": [
            " 90%|█████████ | 9/10 [00:10<00:01,  1.15s/it]\n"
          ]
        },
        {
          "output_type": "stream",
          "name": "stdout",
          "text": [
            "[2023-12-05 03:22:59] Evaluate_63: epoch = 0100 train time = 4 s train loss = 0.390689 train acc = 0.8900, test acc = 0.9652\n",
            "Iteration 64\n"
          ]
        },
        {
          "output_type": "stream",
          "name": "stderr",
          "text": [
            " 90%|█████████ | 9/10 [00:10<00:01,  1.14s/it]\n"
          ]
        },
        {
          "output_type": "stream",
          "name": "stdout",
          "text": [
            "[2023-12-05 03:23:17] Evaluate_64: epoch = 0100 train time = 4 s train loss = 0.384105 train acc = 0.9100, test acc = 0.9601\n",
            "Iteration 65\n"
          ]
        },
        {
          "output_type": "stream",
          "name": "stderr",
          "text": [
            " 90%|█████████ | 9/10 [00:10<00:01,  1.15s/it]\n"
          ]
        },
        {
          "output_type": "stream",
          "name": "stdout",
          "text": [
            "[2023-12-05 03:23:34] Evaluate_65: epoch = 0100 train time = 4 s train loss = 0.366920 train acc = 0.9200, test acc = 0.9611\n",
            "Iteration 66\n"
          ]
        },
        {
          "output_type": "stream",
          "name": "stderr",
          "text": [
            " 90%|█████████ | 9/10 [00:10<00:01,  1.15s/it]\n"
          ]
        },
        {
          "output_type": "stream",
          "name": "stdout",
          "text": [
            "[2023-12-05 03:23:51] Evaluate_66: epoch = 0100 train time = 4 s train loss = 0.347486 train acc = 0.9500, test acc = 0.9626\n",
            "Iteration 67\n"
          ]
        },
        {
          "output_type": "stream",
          "name": "stderr",
          "text": [
            " 90%|█████████ | 9/10 [00:10<00:01,  1.16s/it]\n"
          ]
        },
        {
          "output_type": "stream",
          "name": "stdout",
          "text": [
            "[2023-12-05 03:24:07] Evaluate_67: epoch = 0100 train time = 3 s train loss = 0.364186 train acc = 0.9300, test acc = 0.9637\n",
            "Iteration 68\n"
          ]
        },
        {
          "output_type": "stream",
          "name": "stderr",
          "text": [
            " 90%|█████████ | 9/10 [00:10<00:01,  1.15s/it]\n"
          ]
        },
        {
          "output_type": "stream",
          "name": "stdout",
          "text": [
            "[2023-12-05 03:24:24] Evaluate_68: epoch = 0100 train time = 3 s train loss = 0.422066 train acc = 0.8800, test acc = 0.9638\n",
            "Iteration 69\n"
          ]
        },
        {
          "output_type": "stream",
          "name": "stderr",
          "text": [
            " 90%|█████████ | 9/10 [00:10<00:01,  1.17s/it]\n"
          ]
        },
        {
          "output_type": "stream",
          "name": "stdout",
          "text": [
            "[2023-12-05 03:24:42] Evaluate_69: epoch = 0100 train time = 4 s train loss = 0.508456 train acc = 0.8700, test acc = 0.9620\n",
            "Iteration 70\n"
          ]
        },
        {
          "output_type": "stream",
          "name": "stderr",
          "text": [
            " 90%|█████████ | 9/10 [00:10<00:01,  1.16s/it]\n"
          ]
        },
        {
          "output_type": "stream",
          "name": "stdout",
          "text": [
            "[2023-12-05 03:24:58] Evaluate_70: epoch = 0100 train time = 3 s train loss = 0.496278 train acc = 0.8200, test acc = 0.9633\n",
            "Iteration 71\n"
          ]
        },
        {
          "output_type": "stream",
          "name": "stderr",
          "text": [
            " 90%|█████████ | 9/10 [00:10<00:01,  1.16s/it]\n"
          ]
        },
        {
          "output_type": "stream",
          "name": "stdout",
          "text": [
            "[2023-12-05 03:25:15] Evaluate_71: epoch = 0100 train time = 3 s train loss = 0.376058 train acc = 0.9000, test acc = 0.9610\n",
            "Iteration 72\n"
          ]
        },
        {
          "output_type": "stream",
          "name": "stderr",
          "text": [
            " 90%|█████████ | 9/10 [00:10<00:01,  1.16s/it]\n"
          ]
        },
        {
          "output_type": "stream",
          "name": "stdout",
          "text": [
            "[2023-12-05 03:25:31] Evaluate_72: epoch = 0100 train time = 3 s train loss = 0.380784 train acc = 0.8900, test acc = 0.9630\n",
            "Iteration 73\n"
          ]
        },
        {
          "output_type": "stream",
          "name": "stderr",
          "text": [
            " 90%|█████████ | 9/10 [00:10<00:01,  1.16s/it]\n"
          ]
        },
        {
          "output_type": "stream",
          "name": "stdout",
          "text": [
            "[2023-12-05 03:25:48] Evaluate_73: epoch = 0100 train time = 3 s train loss = 0.358901 train acc = 0.9300, test acc = 0.9619\n",
            "Iteration 74\n"
          ]
        },
        {
          "output_type": "stream",
          "name": "stderr",
          "text": [
            " 90%|█████████ | 9/10 [00:10<00:01,  1.15s/it]\n"
          ]
        },
        {
          "output_type": "stream",
          "name": "stdout",
          "text": [
            "[2023-12-05 03:26:04] Evaluate_74: epoch = 0100 train time = 3 s train loss = 0.411133 train acc = 0.9300, test acc = 0.9644\n",
            "Iteration 75\n"
          ]
        },
        {
          "output_type": "stream",
          "name": "stderr",
          "text": [
            " 90%|█████████ | 9/10 [00:10<00:01,  1.16s/it]\n"
          ]
        },
        {
          "output_type": "stream",
          "name": "stdout",
          "text": [
            "[2023-12-05 03:26:21] Evaluate_75: epoch = 0100 train time = 3 s train loss = 0.313166 train acc = 0.9500, test acc = 0.9609\n",
            "Iteration 76\n"
          ]
        },
        {
          "output_type": "stream",
          "name": "stderr",
          "text": [
            " 90%|█████████ | 9/10 [00:10<00:01,  1.15s/it]\n"
          ]
        },
        {
          "output_type": "stream",
          "name": "stdout",
          "text": [
            "[2023-12-05 03:26:38] Evaluate_76: epoch = 0100 train time = 3 s train loss = 0.370855 train acc = 0.9000, test acc = 0.9635\n",
            "Iteration 77\n"
          ]
        },
        {
          "output_type": "stream",
          "name": "stderr",
          "text": [
            " 90%|█████████ | 9/10 [00:10<00:01,  1.15s/it]\n"
          ]
        },
        {
          "output_type": "stream",
          "name": "stdout",
          "text": [
            "[2023-12-05 03:26:56] Evaluate_77: epoch = 0100 train time = 4 s train loss = 0.381095 train acc = 0.8900, test acc = 0.9619\n",
            "Iteration 78\n"
          ]
        },
        {
          "output_type": "stream",
          "name": "stderr",
          "text": [
            " 90%|█████████ | 9/10 [00:10<00:01,  1.15s/it]\n"
          ]
        },
        {
          "output_type": "stream",
          "name": "stdout",
          "text": [
            "[2023-12-05 03:27:14] Evaluate_78: epoch = 0100 train time = 4 s train loss = 0.275979 train acc = 0.9400, test acc = 0.9632\n",
            "Iteration 79\n"
          ]
        },
        {
          "output_type": "stream",
          "name": "stderr",
          "text": [
            " 90%|█████████ | 9/10 [00:10<00:01,  1.14s/it]\n"
          ]
        },
        {
          "output_type": "stream",
          "name": "stdout",
          "text": [
            "[2023-12-05 03:27:32] Evaluate_79: epoch = 0100 train time = 4 s train loss = 0.344323 train acc = 0.9200, test acc = 0.9626\n",
            "Iteration 80\n"
          ]
        },
        {
          "output_type": "stream",
          "name": "stderr",
          "text": [
            " 90%|█████████ | 9/10 [00:10<00:01,  1.15s/it]\n"
          ]
        },
        {
          "output_type": "stream",
          "name": "stdout",
          "text": [
            "[2023-12-05 03:27:49] Evaluate_80: epoch = 0100 train time = 4 s train loss = 0.352432 train acc = 0.9100, test acc = 0.9615\n",
            "Iteration 81\n"
          ]
        },
        {
          "output_type": "stream",
          "name": "stderr",
          "text": [
            " 90%|█████████ | 9/10 [00:10<00:01,  1.15s/it]\n"
          ]
        },
        {
          "output_type": "stream",
          "name": "stdout",
          "text": [
            "[2023-12-05 03:28:06] Evaluate_81: epoch = 0100 train time = 3 s train loss = 0.479809 train acc = 0.8600, test acc = 0.9624\n",
            "Iteration 82\n"
          ]
        },
        {
          "output_type": "stream",
          "name": "stderr",
          "text": [
            " 90%|█████████ | 9/10 [00:10<00:01,  1.16s/it]\n"
          ]
        },
        {
          "output_type": "stream",
          "name": "stdout",
          "text": [
            "[2023-12-05 03:28:22] Evaluate_82: epoch = 0100 train time = 3 s train loss = 0.385120 train acc = 0.9000, test acc = 0.9644\n",
            "Iteration 83\n"
          ]
        },
        {
          "output_type": "stream",
          "name": "stderr",
          "text": [
            " 90%|█████████ | 9/10 [00:10<00:01,  1.16s/it]\n"
          ]
        },
        {
          "output_type": "stream",
          "name": "stdout",
          "text": [
            "[2023-12-05 03:28:39] Evaluate_83: epoch = 0100 train time = 3 s train loss = 0.407278 train acc = 0.8900, test acc = 0.9648\n",
            "Iteration 84\n"
          ]
        },
        {
          "output_type": "stream",
          "name": "stderr",
          "text": [
            " 90%|█████████ | 9/10 [00:10<00:01,  1.16s/it]\n"
          ]
        },
        {
          "output_type": "stream",
          "name": "stdout",
          "text": [
            "[2023-12-05 03:28:55] Evaluate_84: epoch = 0100 train time = 3 s train loss = 0.501822 train acc = 0.8400, test acc = 0.9651\n",
            "Iteration 85\n"
          ]
        },
        {
          "output_type": "stream",
          "name": "stderr",
          "text": [
            " 90%|█████████ | 9/10 [00:10<00:01,  1.15s/it]\n"
          ]
        },
        {
          "output_type": "stream",
          "name": "stdout",
          "text": [
            "[2023-12-05 03:29:12] Evaluate_85: epoch = 0100 train time = 3 s train loss = 0.388598 train acc = 0.9100, test acc = 0.9614\n",
            "Iteration 86\n"
          ]
        },
        {
          "output_type": "stream",
          "name": "stderr",
          "text": [
            " 90%|█████████ | 9/10 [00:10<00:01,  1.15s/it]\n"
          ]
        },
        {
          "output_type": "stream",
          "name": "stdout",
          "text": [
            "[2023-12-05 03:29:28] Evaluate_86: epoch = 0100 train time = 3 s train loss = 0.394936 train acc = 0.9100, test acc = 0.9633\n",
            "Iteration 87\n"
          ]
        },
        {
          "output_type": "stream",
          "name": "stderr",
          "text": [
            " 90%|█████████ | 9/10 [00:10<00:01,  1.17s/it]\n"
          ]
        },
        {
          "output_type": "stream",
          "name": "stdout",
          "text": [
            "[2023-12-05 03:29:46] Evaluate_87: epoch = 0100 train time = 4 s train loss = 0.386306 train acc = 0.8900, test acc = 0.9615\n",
            "Iteration 88\n"
          ]
        },
        {
          "output_type": "stream",
          "name": "stderr",
          "text": [
            " 90%|█████████ | 9/10 [00:10<00:01,  1.15s/it]\n"
          ]
        },
        {
          "output_type": "stream",
          "name": "stdout",
          "text": [
            "[2023-12-05 03:30:03] Evaluate_88: epoch = 0100 train time = 3 s train loss = 0.449353 train acc = 0.8700, test acc = 0.9632\n",
            "Iteration 89\n"
          ]
        },
        {
          "output_type": "stream",
          "name": "stderr",
          "text": [
            " 90%|█████████ | 9/10 [00:10<00:01,  1.15s/it]\n"
          ]
        },
        {
          "output_type": "stream",
          "name": "stdout",
          "text": [
            "[2023-12-05 03:30:21] Evaluate_89: epoch = 0100 train time = 4 s train loss = 0.383401 train acc = 0.9000, test acc = 0.9667\n",
            "Iteration 90\n"
          ]
        },
        {
          "output_type": "stream",
          "name": "stderr",
          "text": [
            " 90%|█████████ | 9/10 [00:10<00:01,  1.14s/it]\n"
          ]
        },
        {
          "output_type": "stream",
          "name": "stdout",
          "text": [
            "[2023-12-05 03:30:38] Evaluate_90: epoch = 0100 train time = 4 s train loss = 0.442550 train acc = 0.8600, test acc = 0.9641\n",
            "Iteration 91\n"
          ]
        },
        {
          "output_type": "stream",
          "name": "stderr",
          "text": [
            " 90%|█████████ | 9/10 [00:10<00:01,  1.14s/it]\n"
          ]
        },
        {
          "output_type": "stream",
          "name": "stdout",
          "text": [
            "[2023-12-05 03:30:56] Evaluate_91: epoch = 0100 train time = 4 s train loss = 0.371515 train acc = 0.9200, test acc = 0.9583\n",
            "Iteration 92\n"
          ]
        },
        {
          "output_type": "stream",
          "name": "stderr",
          "text": [
            " 90%|█████████ | 9/10 [00:10<00:01,  1.15s/it]\n"
          ]
        },
        {
          "output_type": "stream",
          "name": "stdout",
          "text": [
            "[2023-12-05 03:31:13] Evaluate_92: epoch = 0100 train time = 4 s train loss = 0.358261 train acc = 0.9000, test acc = 0.9621\n",
            "Iteration 93\n"
          ]
        },
        {
          "output_type": "stream",
          "name": "stderr",
          "text": [
            " 90%|█████████ | 9/10 [00:10<00:01,  1.16s/it]\n"
          ]
        },
        {
          "output_type": "stream",
          "name": "stdout",
          "text": [
            "[2023-12-05 03:31:30] Evaluate_93: epoch = 0100 train time = 3 s train loss = 0.346405 train acc = 0.8900, test acc = 0.9630\n",
            "Iteration 94\n"
          ]
        },
        {
          "output_type": "stream",
          "name": "stderr",
          "text": [
            " 90%|█████████ | 9/10 [00:10<00:01,  1.16s/it]\n"
          ]
        },
        {
          "output_type": "stream",
          "name": "stdout",
          "text": [
            "[2023-12-05 03:31:46] Evaluate_94: epoch = 0100 train time = 3 s train loss = 0.479253 train acc = 0.9000, test acc = 0.9625\n",
            "Iteration 95\n"
          ]
        },
        {
          "output_type": "stream",
          "name": "stderr",
          "text": [
            " 90%|█████████ | 9/10 [00:10<00:01,  1.15s/it]\n"
          ]
        },
        {
          "output_type": "stream",
          "name": "stdout",
          "text": [
            "[2023-12-05 03:32:03] Evaluate_95: epoch = 0100 train time = 3 s train loss = 0.417849 train acc = 0.8500, test acc = 0.9608\n",
            "Iteration 96\n"
          ]
        },
        {
          "output_type": "stream",
          "name": "stderr",
          "text": [
            " 90%|█████████ | 9/10 [00:10<00:01,  1.16s/it]\n"
          ]
        },
        {
          "output_type": "stream",
          "name": "stdout",
          "text": [
            "[2023-12-05 03:32:19] Evaluate_96: epoch = 0100 train time = 3 s train loss = 0.380088 train acc = 0.9200, test acc = 0.9648\n",
            "Iteration 97\n"
          ]
        },
        {
          "output_type": "stream",
          "name": "stderr",
          "text": [
            " 90%|█████████ | 9/10 [00:10<00:01,  1.16s/it]\n"
          ]
        },
        {
          "output_type": "stream",
          "name": "stdout",
          "text": [
            "[2023-12-05 03:32:36] Evaluate_97: epoch = 0100 train time = 3 s train loss = 0.442152 train acc = 0.9200, test acc = 0.9620\n",
            "Iteration 98\n"
          ]
        },
        {
          "output_type": "stream",
          "name": "stderr",
          "text": [
            " 90%|█████████ | 9/10 [00:10<00:01,  1.16s/it]\n"
          ]
        },
        {
          "output_type": "stream",
          "name": "stdout",
          "text": [
            "[2023-12-05 03:32:52] Evaluate_98: epoch = 0100 train time = 3 s train loss = 0.451909 train acc = 0.8900, test acc = 0.9640\n",
            "Iteration 99\n"
          ]
        },
        {
          "output_type": "stream",
          "name": "stderr",
          "text": [
            " 90%|█████████ | 9/10 [00:10<00:01,  1.16s/it]\n"
          ]
        },
        {
          "output_type": "stream",
          "name": "stdout",
          "text": [
            "[2023-12-05 03:33:09] Evaluate_99: epoch = 0100 train time = 3 s train loss = 0.443827 train acc = 0.8300, test acc = 0.9602\n",
            "The Final Accuracy for the sythetic data result:  0.9602\n"
          ]
        }
      ]
    },
    {
      "cell_type": "markdown",
      "source": [
        "## Part2(c)\n",
        "Provide the visualization -> saved in the file"
      ],
      "metadata": {
        "id": "ZuUVSWJ1AlH1"
      }
    },
    {
      "cell_type": "markdown",
      "source": [
        "##Part 2(d)\n",
        "condensed images are initialized with Gaussian noise and real data\n"
      ],
      "metadata": {
        "id": "aMS5F6E12-vc"
      }
    },
    {
      "cell_type": "code",
      "source": [
        "mnist_dataset = 'MNIST'\n",
        "mnist_data_path = './mnist_data'\n",
        "channel, im_size, num_classes, class_names, mean, std, dst_train, dst_test, testloader = utils.get_dataset(mnist_dataset, mnist_data_path)"
      ],
      "metadata": {
        "id": "KRK62_EcBgjs"
      },
      "execution_count": null,
      "outputs": []
    },
    {
      "cell_type": "code",
      "source": [
        "NET = 'ConvNet'\n",
        "device = 'cuda' if torch.cuda.is_available() else 'cpu'\n",
        "model = utils.get_network(NET,channel,num_classes).to(device)\n",
        "class argument():\n",
        "  def __init__(self,device,ipc = 10):\n",
        "    self.num_classes = num_classes\n",
        "    self.dataset = 'MNIST'\n",
        "    self.channel = channel\n",
        "    self.im_size = im_size\n",
        "    self.mean = mean\n",
        "    self.std = std\n",
        "    self.ipc = 10\n",
        "    self.Iteration = 100 #K\n",
        "    self.num_epochs = 2\n",
        "    self.num_op_step = 1\n",
        "    self.lr_img = 0.1\n",
        "    self.lr_net = 0.01\n",
        "    self.epoch_eval_train = 20\n",
        "    self.batch_train = 256\n",
        "    self.outer_loop, self.inner_loop = utils.get_loops(self.ipc)\n",
        "    self.dis_metric = 'ours'\n",
        "    self.init = 'noise'\n",
        "    self.eval_mode = 'S'\n",
        "    self.save_path = \"MNISTresult\"\n",
        "    self.device = device\n",
        "    self.dsa = False\n",
        "    self.dsa_param = utils.ParamDiffAug()\n",
        "    self.dc_aug_param = utils.get_daparam(self.dataset, model, NET, ipc = self.ipc)\n",
        "    self.dsa_strategy = self.dc_aug_param['strategy']\n",
        "\n",
        "\n"
      ],
      "metadata": {
        "id": "vrnR_HJdBsKz"
      },
      "execution_count": null,
      "outputs": []
    },
    {
      "cell_type": "code",
      "source": [
        "args = argument(device,ipc=10)\n",
        "NET = \"ConvNet\"\n",
        "# image_syn, label_syn = init_syn(args, 'real')\n",
        "rn_mn_data_save, rn_mn_test_acc, rn_mn_train_acc = DataD_GradientM(NET, args)"
      ],
      "metadata": {
        "colab": {
          "base_uri": "https://localhost:8080/"
        },
        "id": "oNFbD_DM1IL7",
        "outputId": "3758b9c8-88b8-43cb-d82b-700f6b832600"
      },
      "execution_count": null,
      "outputs": [
        {
          "output_type": "stream",
          "name": "stdout",
          "text": [
            "class c = 0: 5923 real images\n",
            "class c = 1: 6742 real images\n",
            "class c = 2: 5958 real images\n",
            "class c = 3: 6131 real images\n",
            "class c = 4: 5842 real images\n",
            "class c = 5: 5421 real images\n",
            "class c = 6: 5918 real images\n",
            "class c = 7: 6265 real images\n",
            "class c = 8: 5851 real images\n",
            "class c = 9: 5949 real images\n",
            "initialize synthetic data from random noise\n",
            "Iteration 0\n"
          ]
        },
        {
          "output_type": "stream",
          "name": "stderr",
          "text": [
            " 90%|█████████ | 9/10 [00:10<00:01,  1.15s/it]\n"
          ]
        },
        {
          "output_type": "stream",
          "name": "stdout",
          "text": [
            "[2023-12-05 03:33:52] Evaluate_00: epoch = 0100 train time = 3 s train loss = 0.670891 train acc = 0.8800, test acc = 0.6010\n",
            "Iteration 1\n"
          ]
        },
        {
          "output_type": "stream",
          "name": "stderr",
          "text": [
            " 90%|█████████ | 9/10 [00:10<00:01,  1.16s/it]\n"
          ]
        },
        {
          "output_type": "stream",
          "name": "stdout",
          "text": [
            "[2023-12-05 03:34:09] Evaluate_01: epoch = 0100 train time = 3 s train loss = 0.726091 train acc = 0.8400, test acc = 0.7681\n",
            "Iteration 2\n"
          ]
        },
        {
          "output_type": "stream",
          "name": "stderr",
          "text": [
            " 90%|█████████ | 9/10 [00:10<00:01,  1.16s/it]\n"
          ]
        },
        {
          "output_type": "stream",
          "name": "stdout",
          "text": [
            "[2023-12-05 03:34:25] Evaluate_02: epoch = 0100 train time = 3 s train loss = 0.630933 train acc = 0.8100, test acc = 0.7515\n",
            "Iteration 3\n"
          ]
        },
        {
          "output_type": "stream",
          "name": "stderr",
          "text": [
            " 90%|█████████ | 9/10 [00:10<00:01,  1.15s/it]\n"
          ]
        },
        {
          "output_type": "stream",
          "name": "stdout",
          "text": [
            "[2023-12-05 03:34:42] Evaluate_03: epoch = 0100 train time = 3 s train loss = 0.659899 train acc = 0.8000, test acc = 0.7698\n",
            "Iteration 4\n"
          ]
        },
        {
          "output_type": "stream",
          "name": "stderr",
          "text": [
            " 90%|█████████ | 9/10 [00:10<00:01,  1.19s/it]\n"
          ]
        },
        {
          "output_type": "stream",
          "name": "stdout",
          "text": [
            "[2023-12-05 03:34:59] Evaluate_04: epoch = 0100 train time = 3 s train loss = 0.690829 train acc = 0.7800, test acc = 0.7644\n",
            "Iteration 5\n"
          ]
        },
        {
          "output_type": "stream",
          "name": "stderr",
          "text": [
            " 90%|█████████ | 9/10 [00:10<00:01,  1.16s/it]\n"
          ]
        },
        {
          "output_type": "stream",
          "name": "stdout",
          "text": [
            "[2023-12-05 03:35:15] Evaluate_05: epoch = 0100 train time = 3 s train loss = 0.459342 train acc = 0.8800, test acc = 0.8089\n",
            "Iteration 6\n"
          ]
        },
        {
          "output_type": "stream",
          "name": "stderr",
          "text": [
            " 90%|█████████ | 9/10 [00:10<00:01,  1.16s/it]\n"
          ]
        },
        {
          "output_type": "stream",
          "name": "stdout",
          "text": [
            "[2023-12-05 03:35:32] Evaluate_06: epoch = 0100 train time = 3 s train loss = 0.572257 train acc = 0.8500, test acc = 0.8042\n",
            "Iteration 7\n"
          ]
        },
        {
          "output_type": "stream",
          "name": "stderr",
          "text": [
            " 90%|█████████ | 9/10 [00:10<00:01,  1.15s/it]\n"
          ]
        },
        {
          "output_type": "stream",
          "name": "stdout",
          "text": [
            "[2023-12-05 03:35:48] Evaluate_07: epoch = 0100 train time = 3 s train loss = 0.454962 train acc = 0.8900, test acc = 0.8347\n",
            "Iteration 8\n"
          ]
        },
        {
          "output_type": "stream",
          "name": "stderr",
          "text": [
            " 90%|█████████ | 9/10 [00:10<00:01,  1.15s/it]\n"
          ]
        },
        {
          "output_type": "stream",
          "name": "stdout",
          "text": [
            "[2023-12-05 03:36:05] Evaluate_08: epoch = 0100 train time = 3 s train loss = 0.513500 train acc = 0.8400, test acc = 0.8507\n",
            "Iteration 9\n"
          ]
        },
        {
          "output_type": "stream",
          "name": "stderr",
          "text": [
            " 90%|█████████ | 9/10 [00:10<00:01,  1.15s/it]\n"
          ]
        },
        {
          "output_type": "stream",
          "name": "stdout",
          "text": [
            "[2023-12-05 03:36:23] Evaluate_09: epoch = 0100 train time = 3 s train loss = 0.353843 train acc = 0.9000, test acc = 0.8670\n",
            "Iteration 10\n"
          ]
        },
        {
          "output_type": "stream",
          "name": "stderr",
          "text": [
            " 90%|█████████ | 9/10 [00:10<00:01,  1.15s/it]\n"
          ]
        },
        {
          "output_type": "stream",
          "name": "stdout",
          "text": [
            "[2023-12-05 03:36:41] Evaluate_10: epoch = 0100 train time = 4 s train loss = 0.439725 train acc = 0.9000, test acc = 0.8720\n",
            "Iteration 11\n"
          ]
        },
        {
          "output_type": "stream",
          "name": "stderr",
          "text": [
            " 90%|█████████ | 9/10 [00:10<00:01,  1.14s/it]\n"
          ]
        },
        {
          "output_type": "stream",
          "name": "stdout",
          "text": [
            "[2023-12-05 03:36:58] Evaluate_11: epoch = 0100 train time = 4 s train loss = 0.353905 train acc = 0.9500, test acc = 0.8862\n",
            "Iteration 12\n"
          ]
        },
        {
          "output_type": "stream",
          "name": "stderr",
          "text": [
            " 90%|█████████ | 9/10 [00:10<00:01,  1.15s/it]\n"
          ]
        },
        {
          "output_type": "stream",
          "name": "stdout",
          "text": [
            "[2023-12-05 03:37:16] Evaluate_12: epoch = 0100 train time = 4 s train loss = 0.412277 train acc = 0.8700, test acc = 0.8689\n",
            "Iteration 13\n"
          ]
        },
        {
          "output_type": "stream",
          "name": "stderr",
          "text": [
            " 90%|█████████ | 9/10 [00:10<00:01,  1.15s/it]\n"
          ]
        },
        {
          "output_type": "stream",
          "name": "stdout",
          "text": [
            "[2023-12-05 03:37:32] Evaluate_13: epoch = 0100 train time = 4 s train loss = 0.393994 train acc = 0.9100, test acc = 0.8918\n",
            "Iteration 14\n"
          ]
        },
        {
          "output_type": "stream",
          "name": "stderr",
          "text": [
            " 90%|█████████ | 9/10 [00:10<00:01,  1.16s/it]\n"
          ]
        },
        {
          "output_type": "stream",
          "name": "stdout",
          "text": [
            "[2023-12-05 03:37:49] Evaluate_14: epoch = 0100 train time = 3 s train loss = 0.389021 train acc = 0.9100, test acc = 0.8851\n",
            "Iteration 15\n"
          ]
        },
        {
          "output_type": "stream",
          "name": "stderr",
          "text": [
            " 90%|█████████ | 9/10 [00:10<00:01,  1.16s/it]\n"
          ]
        },
        {
          "output_type": "stream",
          "name": "stdout",
          "text": [
            "[2023-12-05 03:38:05] Evaluate_15: epoch = 0100 train time = 3 s train loss = 0.431125 train acc = 0.8800, test acc = 0.8774\n",
            "Iteration 16\n"
          ]
        },
        {
          "output_type": "stream",
          "name": "stderr",
          "text": [
            " 90%|█████████ | 9/10 [00:10<00:01,  1.16s/it]\n"
          ]
        },
        {
          "output_type": "stream",
          "name": "stdout",
          "text": [
            "[2023-12-05 03:38:22] Evaluate_16: epoch = 0100 train time = 3 s train loss = 0.446943 train acc = 0.8400, test acc = 0.8822\n",
            "Iteration 17\n"
          ]
        },
        {
          "output_type": "stream",
          "name": "stderr",
          "text": [
            " 90%|█████████ | 9/10 [00:10<00:01,  1.16s/it]\n"
          ]
        },
        {
          "output_type": "stream",
          "name": "stdout",
          "text": [
            "[2023-12-05 03:38:38] Evaluate_17: epoch = 0100 train time = 3 s train loss = 0.268826 train acc = 0.9600, test acc = 0.9134\n",
            "Iteration 18\n"
          ]
        },
        {
          "output_type": "stream",
          "name": "stderr",
          "text": [
            " 90%|█████████ | 9/10 [00:10<00:01,  1.16s/it]\n"
          ]
        },
        {
          "output_type": "stream",
          "name": "stdout",
          "text": [
            "[2023-12-05 03:38:55] Evaluate_18: epoch = 0100 train time = 3 s train loss = 0.531036 train acc = 0.8700, test acc = 0.9118\n",
            "Iteration 19\n"
          ]
        },
        {
          "output_type": "stream",
          "name": "stderr",
          "text": [
            " 90%|█████████ | 9/10 [00:10<00:01,  1.15s/it]\n"
          ]
        },
        {
          "output_type": "stream",
          "name": "stdout",
          "text": [
            "[2023-12-05 03:39:12] Evaluate_19: epoch = 0100 train time = 3 s train loss = 0.323729 train acc = 0.9200, test acc = 0.9082\n",
            "Iteration 20\n"
          ]
        },
        {
          "output_type": "stream",
          "name": "stderr",
          "text": [
            " 90%|█████████ | 9/10 [00:10<00:01,  1.16s/it]\n"
          ]
        },
        {
          "output_type": "stream",
          "name": "stdout",
          "text": [
            "[2023-12-05 03:39:29] Evaluate_20: epoch = 0100 train time = 3 s train loss = 0.353033 train acc = 0.8900, test acc = 0.9226\n",
            "Iteration 21\n"
          ]
        },
        {
          "output_type": "stream",
          "name": "stderr",
          "text": [
            " 90%|█████████ | 9/10 [00:10<00:01,  1.15s/it]\n"
          ]
        },
        {
          "output_type": "stream",
          "name": "stdout",
          "text": [
            "[2023-12-05 03:39:46] Evaluate_21: epoch = 0100 train time = 3 s train loss = 0.371239 train acc = 0.9400, test acc = 0.9114\n",
            "Iteration 22\n"
          ]
        },
        {
          "output_type": "stream",
          "name": "stderr",
          "text": [
            " 90%|█████████ | 9/10 [00:10<00:01,  1.19s/it]\n"
          ]
        },
        {
          "output_type": "stream",
          "name": "stdout",
          "text": [
            "[2023-12-05 03:40:03] Evaluate_22: epoch = 0100 train time = 3 s train loss = 0.434605 train acc = 0.8800, test acc = 0.9009\n",
            "Iteration 23\n"
          ]
        },
        {
          "output_type": "stream",
          "name": "stderr",
          "text": [
            " 90%|█████████ | 9/10 [00:10<00:01,  1.15s/it]\n"
          ]
        },
        {
          "output_type": "stream",
          "name": "stdout",
          "text": [
            "[2023-12-05 03:40:21] Evaluate_23: epoch = 0100 train time = 3 s train loss = 0.278627 train acc = 0.9300, test acc = 0.9180\n",
            "Iteration 24\n"
          ]
        },
        {
          "output_type": "stream",
          "name": "stderr",
          "text": [
            " 90%|█████████ | 9/10 [00:10<00:01,  1.15s/it]\n"
          ]
        },
        {
          "output_type": "stream",
          "name": "stdout",
          "text": [
            "[2023-12-05 03:40:39] Evaluate_24: epoch = 0100 train time = 4 s train loss = 0.405539 train acc = 0.9000, test acc = 0.9138\n",
            "Iteration 25\n"
          ]
        },
        {
          "output_type": "stream",
          "name": "stderr",
          "text": [
            " 90%|█████████ | 9/10 [00:10<00:01,  1.13s/it]\n"
          ]
        },
        {
          "output_type": "stream",
          "name": "stdout",
          "text": [
            "[2023-12-05 03:40:56] Evaluate_25: epoch = 0100 train time = 4 s train loss = 0.267636 train acc = 0.9500, test acc = 0.9073\n",
            "Iteration 26\n"
          ]
        },
        {
          "output_type": "stream",
          "name": "stderr",
          "text": [
            " 90%|█████████ | 9/10 [00:10<00:01,  1.15s/it]\n"
          ]
        },
        {
          "output_type": "stream",
          "name": "stdout",
          "text": [
            "[2023-12-05 03:41:13] Evaluate_26: epoch = 0100 train time = 4 s train loss = 0.270860 train acc = 0.9400, test acc = 0.9102\n",
            "Iteration 27\n"
          ]
        },
        {
          "output_type": "stream",
          "name": "stderr",
          "text": [
            " 90%|█████████ | 9/10 [00:10<00:01,  1.16s/it]\n"
          ]
        },
        {
          "output_type": "stream",
          "name": "stdout",
          "text": [
            "[2023-12-05 03:41:30] Evaluate_27: epoch = 0100 train time = 4 s train loss = 0.400231 train acc = 0.9000, test acc = 0.9158\n",
            "Iteration 28\n"
          ]
        },
        {
          "output_type": "stream",
          "name": "stderr",
          "text": [
            " 90%|█████████ | 9/10 [00:10<00:01,  1.16s/it]\n"
          ]
        },
        {
          "output_type": "stream",
          "name": "stdout",
          "text": [
            "[2023-12-05 03:41:47] Evaluate_28: epoch = 0100 train time = 3 s train loss = 0.376234 train acc = 0.9100, test acc = 0.9247\n",
            "Iteration 29\n"
          ]
        },
        {
          "output_type": "stream",
          "name": "stderr",
          "text": [
            " 90%|█████████ | 9/10 [00:10<00:01,  1.16s/it]\n"
          ]
        },
        {
          "output_type": "stream",
          "name": "stdout",
          "text": [
            "[2023-12-05 03:42:03] Evaluate_29: epoch = 0100 train time = 3 s train loss = 0.313384 train acc = 0.9300, test acc = 0.9246\n",
            "Iteration 30\n"
          ]
        },
        {
          "output_type": "stream",
          "name": "stderr",
          "text": [
            " 90%|█████████ | 9/10 [00:10<00:01,  1.15s/it]\n"
          ]
        },
        {
          "output_type": "stream",
          "name": "stdout",
          "text": [
            "[2023-12-05 03:42:20] Evaluate_30: epoch = 0100 train time = 3 s train loss = 0.324667 train acc = 0.9100, test acc = 0.9232\n",
            "Iteration 31\n"
          ]
        },
        {
          "output_type": "stream",
          "name": "stderr",
          "text": [
            " 90%|█████████ | 9/10 [00:10<00:01,  1.16s/it]\n"
          ]
        },
        {
          "output_type": "stream",
          "name": "stdout",
          "text": [
            "[2023-12-05 03:42:37] Evaluate_31: epoch = 0100 train time = 3 s train loss = 0.329785 train acc = 0.9100, test acc = 0.9222\n",
            "Iteration 32\n"
          ]
        },
        {
          "output_type": "stream",
          "name": "stderr",
          "text": [
            " 90%|█████████ | 9/10 [00:10<00:01,  1.16s/it]\n"
          ]
        },
        {
          "output_type": "stream",
          "name": "stdout",
          "text": [
            "[2023-12-05 03:42:53] Evaluate_32: epoch = 0100 train time = 3 s train loss = 0.343465 train acc = 0.9100, test acc = 0.9206\n",
            "Iteration 33\n"
          ]
        },
        {
          "output_type": "stream",
          "name": "stderr",
          "text": [
            " 90%|█████████ | 9/10 [00:10<00:01,  1.16s/it]\n"
          ]
        },
        {
          "output_type": "stream",
          "name": "stdout",
          "text": [
            "[2023-12-05 03:43:10] Evaluate_33: epoch = 0100 train time = 3 s train loss = 0.360896 train acc = 0.9000, test acc = 0.9216\n",
            "Iteration 34\n"
          ]
        },
        {
          "output_type": "stream",
          "name": "stderr",
          "text": [
            " 90%|█████████ | 9/10 [00:10<00:01,  1.16s/it]\n"
          ]
        },
        {
          "output_type": "stream",
          "name": "stdout",
          "text": [
            "[2023-12-05 03:43:27] Evaluate_34: epoch = 0100 train time = 3 s train loss = 0.322247 train acc = 0.9200, test acc = 0.9241\n",
            "Iteration 35\n"
          ]
        },
        {
          "output_type": "stream",
          "name": "stderr",
          "text": [
            " 90%|█████████ | 9/10 [00:10<00:01,  1.16s/it]\n"
          ]
        },
        {
          "output_type": "stream",
          "name": "stdout",
          "text": [
            "[2023-12-05 03:43:44] Evaluate_35: epoch = 0100 train time = 3 s train loss = 0.230875 train acc = 0.9600, test acc = 0.9282\n",
            "Iteration 36\n"
          ]
        },
        {
          "output_type": "stream",
          "name": "stderr",
          "text": [
            " 90%|█████████ | 9/10 [00:10<00:01,  1.15s/it]\n"
          ]
        },
        {
          "output_type": "stream",
          "name": "stdout",
          "text": [
            "[2023-12-05 03:44:01] Evaluate_36: epoch = 0100 train time = 4 s train loss = 0.356179 train acc = 0.9200, test acc = 0.9275\n",
            "Iteration 37\n"
          ]
        },
        {
          "output_type": "stream",
          "name": "stderr",
          "text": [
            " 90%|█████████ | 9/10 [00:10<00:01,  1.14s/it]\n"
          ]
        },
        {
          "output_type": "stream",
          "name": "stdout",
          "text": [
            "[2023-12-05 03:44:19] Evaluate_37: epoch = 0100 train time = 4 s train loss = 0.377866 train acc = 0.8900, test acc = 0.9234\n",
            "Iteration 38\n"
          ]
        },
        {
          "output_type": "stream",
          "name": "stderr",
          "text": [
            " 90%|█████████ | 9/10 [00:10<00:01,  1.15s/it]\n"
          ]
        },
        {
          "output_type": "stream",
          "name": "stdout",
          "text": [
            "[2023-12-05 03:44:37] Evaluate_38: epoch = 0100 train time = 4 s train loss = 0.344701 train acc = 0.9100, test acc = 0.9304\n",
            "Iteration 39\n"
          ]
        },
        {
          "output_type": "stream",
          "name": "stderr",
          "text": [
            " 90%|█████████ | 9/10 [00:10<00:01,  1.16s/it]\n"
          ]
        },
        {
          "output_type": "stream",
          "name": "stdout",
          "text": [
            "[2023-12-05 03:44:55] Evaluate_39: epoch = 0100 train time = 4 s train loss = 0.307528 train acc = 0.9400, test acc = 0.9270\n",
            "Iteration 40\n"
          ]
        },
        {
          "output_type": "stream",
          "name": "stderr",
          "text": [
            " 90%|█████████ | 9/10 [00:10<00:01,  1.16s/it]\n"
          ]
        },
        {
          "output_type": "stream",
          "name": "stdout",
          "text": [
            "[2023-12-05 03:45:12] Evaluate_40: epoch = 0100 train time = 3 s train loss = 0.293815 train acc = 0.9300, test acc = 0.9342\n",
            "Iteration 41\n"
          ]
        },
        {
          "output_type": "stream",
          "name": "stderr",
          "text": [
            " 90%|█████████ | 9/10 [00:10<00:01,  1.16s/it]\n"
          ]
        },
        {
          "output_type": "stream",
          "name": "stdout",
          "text": [
            "[2023-12-05 03:45:28] Evaluate_41: epoch = 0100 train time = 3 s train loss = 0.363211 train acc = 0.9000, test acc = 0.9389\n",
            "Iteration 42\n"
          ]
        },
        {
          "output_type": "stream",
          "name": "stderr",
          "text": [
            " 90%|█████████ | 9/10 [00:10<00:01,  1.16s/it]\n"
          ]
        },
        {
          "output_type": "stream",
          "name": "stdout",
          "text": [
            "[2023-12-05 03:45:45] Evaluate_42: epoch = 0100 train time = 3 s train loss = 0.321577 train acc = 0.9400, test acc = 0.9336\n",
            "Iteration 43\n"
          ]
        },
        {
          "output_type": "stream",
          "name": "stderr",
          "text": [
            " 90%|█████████ | 9/10 [00:10<00:01,  1.15s/it]\n"
          ]
        },
        {
          "output_type": "stream",
          "name": "stdout",
          "text": [
            "[2023-12-05 03:46:01] Evaluate_43: epoch = 0100 train time = 3 s train loss = 0.303003 train acc = 0.9400, test acc = 0.9311\n",
            "Iteration 44\n"
          ]
        },
        {
          "output_type": "stream",
          "name": "stderr",
          "text": [
            " 90%|█████████ | 9/10 [00:10<00:01,  1.16s/it]\n"
          ]
        },
        {
          "output_type": "stream",
          "name": "stdout",
          "text": [
            "[2023-12-05 03:46:18] Evaluate_44: epoch = 0100 train time = 3 s train loss = 0.343706 train acc = 0.9100, test acc = 0.9304\n",
            "Iteration 45\n"
          ]
        },
        {
          "output_type": "stream",
          "name": "stderr",
          "text": [
            " 90%|█████████ | 9/10 [00:10<00:01,  1.16s/it]\n"
          ]
        },
        {
          "output_type": "stream",
          "name": "stdout",
          "text": [
            "[2023-12-05 03:46:35] Evaluate_45: epoch = 0100 train time = 3 s train loss = 0.311116 train acc = 0.9200, test acc = 0.9393\n",
            "Iteration 46\n"
          ]
        },
        {
          "output_type": "stream",
          "name": "stderr",
          "text": [
            " 90%|█████████ | 9/10 [00:10<00:01,  1.15s/it]\n"
          ]
        },
        {
          "output_type": "stream",
          "name": "stdout",
          "text": [
            "[2023-12-05 03:46:53] Evaluate_46: epoch = 0100 train time = 3 s train loss = 0.379216 train acc = 0.8900, test acc = 0.9393\n",
            "Iteration 47\n"
          ]
        },
        {
          "output_type": "stream",
          "name": "stderr",
          "text": [
            " 90%|█████████ | 9/10 [00:10<00:01,  1.15s/it]\n"
          ]
        },
        {
          "output_type": "stream",
          "name": "stdout",
          "text": [
            "[2023-12-05 03:47:11] Evaluate_47: epoch = 0100 train time = 4 s train loss = 0.244696 train acc = 0.9400, test acc = 0.9350\n",
            "Iteration 48\n"
          ]
        },
        {
          "output_type": "stream",
          "name": "stderr",
          "text": [
            " 90%|█████████ | 9/10 [00:10<00:01,  1.14s/it]\n"
          ]
        },
        {
          "output_type": "stream",
          "name": "stdout",
          "text": [
            "[2023-12-05 03:47:28] Evaluate_48: epoch = 0100 train time = 4 s train loss = 0.327623 train acc = 0.8800, test acc = 0.9348\n",
            "Iteration 49\n"
          ]
        },
        {
          "output_type": "stream",
          "name": "stderr",
          "text": [
            " 90%|█████████ | 9/10 [00:10<00:01,  1.15s/it]\n"
          ]
        },
        {
          "output_type": "stream",
          "name": "stdout",
          "text": [
            "[2023-12-05 03:47:45] Evaluate_49: epoch = 0100 train time = 4 s train loss = 0.455060 train acc = 0.8500, test acc = 0.9408\n",
            "Iteration 50\n"
          ]
        },
        {
          "output_type": "stream",
          "name": "stderr",
          "text": [
            " 90%|█████████ | 9/10 [00:10<00:01,  1.16s/it]\n"
          ]
        },
        {
          "output_type": "stream",
          "name": "stdout",
          "text": [
            "[2023-12-05 03:48:02] Evaluate_50: epoch = 0100 train time = 3 s train loss = 0.375457 train acc = 0.9000, test acc = 0.9355\n",
            "Iteration 51\n"
          ]
        },
        {
          "output_type": "stream",
          "name": "stderr",
          "text": [
            " 90%|█████████ | 9/10 [00:10<00:01,  1.16s/it]\n"
          ]
        },
        {
          "output_type": "stream",
          "name": "stdout",
          "text": [
            "[2023-12-05 03:48:19] Evaluate_51: epoch = 0100 train time = 3 s train loss = 0.331462 train acc = 0.9100, test acc = 0.9372\n",
            "Iteration 52\n"
          ]
        },
        {
          "output_type": "stream",
          "name": "stderr",
          "text": [
            " 90%|█████████ | 9/10 [00:10<00:01,  1.16s/it]\n"
          ]
        },
        {
          "output_type": "stream",
          "name": "stdout",
          "text": [
            "[2023-12-05 03:48:35] Evaluate_52: epoch = 0100 train time = 3 s train loss = 0.301470 train acc = 0.9200, test acc = 0.9424\n",
            "Iteration 53\n"
          ]
        },
        {
          "output_type": "stream",
          "name": "stderr",
          "text": [
            " 90%|█████████ | 9/10 [00:10<00:01,  1.15s/it]\n"
          ]
        },
        {
          "output_type": "stream",
          "name": "stdout",
          "text": [
            "[2023-12-05 03:48:52] Evaluate_53: epoch = 0100 train time = 3 s train loss = 0.328114 train acc = 0.9100, test acc = 0.9396\n",
            "Iteration 54\n"
          ]
        },
        {
          "output_type": "stream",
          "name": "stderr",
          "text": [
            " 90%|█████████ | 9/10 [00:10<00:01,  1.16s/it]\n"
          ]
        },
        {
          "output_type": "stream",
          "name": "stdout",
          "text": [
            "[2023-12-05 03:49:08] Evaluate_54: epoch = 0100 train time = 3 s train loss = 0.385073 train acc = 0.9100, test acc = 0.9373\n",
            "Iteration 55\n"
          ]
        },
        {
          "output_type": "stream",
          "name": "stderr",
          "text": [
            " 90%|█████████ | 9/10 [00:10<00:01,  1.16s/it]\n"
          ]
        },
        {
          "output_type": "stream",
          "name": "stdout",
          "text": [
            "[2023-12-05 03:49:25] Evaluate_55: epoch = 0100 train time = 3 s train loss = 0.421416 train acc = 0.9000, test acc = 0.9369\n",
            "Iteration 56\n"
          ]
        },
        {
          "output_type": "stream",
          "name": "stderr",
          "text": [
            " 90%|█████████ | 9/10 [00:10<00:01,  1.16s/it]\n"
          ]
        },
        {
          "output_type": "stream",
          "name": "stdout",
          "text": [
            "[2023-12-05 03:49:42] Evaluate_56: epoch = 0100 train time = 3 s train loss = 0.466986 train acc = 0.9000, test acc = 0.9430\n",
            "Iteration 57\n"
          ]
        },
        {
          "output_type": "stream",
          "name": "stderr",
          "text": [
            " 90%|█████████ | 9/10 [00:10<00:01,  1.16s/it]\n"
          ]
        },
        {
          "output_type": "stream",
          "name": "stdout",
          "text": [
            "[2023-12-05 03:50:00] Evaluate_57: epoch = 0100 train time = 4 s train loss = 0.256854 train acc = 0.9600, test acc = 0.9439\n",
            "Iteration 58\n"
          ]
        },
        {
          "output_type": "stream",
          "name": "stderr",
          "text": [
            " 90%|█████████ | 9/10 [00:10<00:01,  1.14s/it]\n"
          ]
        },
        {
          "output_type": "stream",
          "name": "stdout",
          "text": [
            "[2023-12-05 03:50:18] Evaluate_58: epoch = 0100 train time = 4 s train loss = 0.337159 train acc = 0.9200, test acc = 0.9389\n",
            "Iteration 59\n"
          ]
        },
        {
          "output_type": "stream",
          "name": "stderr",
          "text": [
            " 90%|█████████ | 9/10 [00:10<00:01,  1.14s/it]\n"
          ]
        },
        {
          "output_type": "stream",
          "name": "stdout",
          "text": [
            "[2023-12-05 03:50:36] Evaluate_59: epoch = 0100 train time = 4 s train loss = 0.370237 train acc = 0.8800, test acc = 0.9435\n",
            "Iteration 60\n"
          ]
        },
        {
          "output_type": "stream",
          "name": "stderr",
          "text": [
            " 90%|█████████ | 9/10 [00:10<00:01,  1.14s/it]\n"
          ]
        },
        {
          "output_type": "stream",
          "name": "stdout",
          "text": [
            "[2023-12-05 03:50:53] Evaluate_60: epoch = 0100 train time = 4 s train loss = 0.351685 train acc = 0.9200, test acc = 0.9419\n",
            "Iteration 61\n"
          ]
        },
        {
          "output_type": "stream",
          "name": "stderr",
          "text": [
            " 90%|█████████ | 9/10 [00:10<00:01,  1.15s/it]\n"
          ]
        },
        {
          "output_type": "stream",
          "name": "stdout",
          "text": [
            "[2023-12-05 03:51:10] Evaluate_61: epoch = 0100 train time = 4 s train loss = 0.556211 train acc = 0.8400, test acc = 0.9384\n",
            "Iteration 62\n"
          ]
        },
        {
          "output_type": "stream",
          "name": "stderr",
          "text": [
            " 90%|█████████ | 9/10 [00:10<00:01,  1.16s/it]\n"
          ]
        },
        {
          "output_type": "stream",
          "name": "stdout",
          "text": [
            "[2023-12-05 03:51:26] Evaluate_62: epoch = 0100 train time = 3 s train loss = 0.366110 train acc = 0.9500, test acc = 0.9483\n",
            "Iteration 63\n"
          ]
        },
        {
          "output_type": "stream",
          "name": "stderr",
          "text": [
            " 90%|█████████ | 9/10 [00:10<00:01,  1.16s/it]\n"
          ]
        },
        {
          "output_type": "stream",
          "name": "stdout",
          "text": [
            "[2023-12-05 03:51:43] Evaluate_63: epoch = 0100 train time = 3 s train loss = 0.520648 train acc = 0.8200, test acc = 0.9411\n",
            "Iteration 64\n"
          ]
        },
        {
          "output_type": "stream",
          "name": "stderr",
          "text": [
            " 90%|█████████ | 9/10 [00:10<00:01,  1.16s/it]\n"
          ]
        },
        {
          "output_type": "stream",
          "name": "stdout",
          "text": [
            "[2023-12-05 03:52:00] Evaluate_64: epoch = 0100 train time = 3 s train loss = 0.297916 train acc = 0.9500, test acc = 0.9459\n",
            "Iteration 65\n"
          ]
        },
        {
          "output_type": "stream",
          "name": "stderr",
          "text": [
            " 90%|█████████ | 9/10 [00:10<00:01,  1.15s/it]\n"
          ]
        },
        {
          "output_type": "stream",
          "name": "stdout",
          "text": [
            "[2023-12-05 03:52:16] Evaluate_65: epoch = 0100 train time = 3 s train loss = 0.331572 train acc = 0.9400, test acc = 0.9418\n",
            "Iteration 66\n"
          ]
        },
        {
          "output_type": "stream",
          "name": "stderr",
          "text": [
            " 90%|█████████ | 9/10 [00:10<00:01,  1.16s/it]\n"
          ]
        },
        {
          "output_type": "stream",
          "name": "stdout",
          "text": [
            "[2023-12-05 03:52:33] Evaluate_66: epoch = 0100 train time = 3 s train loss = 0.401055 train acc = 0.9200, test acc = 0.9453\n",
            "Iteration 67\n"
          ]
        },
        {
          "output_type": "stream",
          "name": "stderr",
          "text": [
            " 90%|█████████ | 9/10 [00:10<00:01,  1.16s/it]\n"
          ]
        },
        {
          "output_type": "stream",
          "name": "stdout",
          "text": [
            "[2023-12-05 03:52:49] Evaluate_67: epoch = 0100 train time = 3 s train loss = 0.334750 train acc = 0.9100, test acc = 0.9499\n",
            "Iteration 68\n"
          ]
        },
        {
          "output_type": "stream",
          "name": "stderr",
          "text": [
            " 90%|█████████ | 9/10 [00:10<00:01,  1.16s/it]\n"
          ]
        },
        {
          "output_type": "stream",
          "name": "stdout",
          "text": [
            "[2023-12-05 03:53:06] Evaluate_68: epoch = 0100 train time = 3 s train loss = 0.291086 train acc = 0.9300, test acc = 0.9489\n",
            "Iteration 69\n"
          ]
        },
        {
          "output_type": "stream",
          "name": "stderr",
          "text": [
            " 90%|█████████ | 9/10 [00:10<00:01,  1.16s/it]\n"
          ]
        },
        {
          "output_type": "stream",
          "name": "stdout",
          "text": [
            "[2023-12-05 03:53:23] Evaluate_69: epoch = 0100 train time = 3 s train loss = 0.344366 train acc = 0.9300, test acc = 0.9447\n",
            "Iteration 70\n"
          ]
        },
        {
          "output_type": "stream",
          "name": "stderr",
          "text": [
            " 90%|█████████ | 9/10 [00:10<00:01,  1.15s/it]\n"
          ]
        },
        {
          "output_type": "stream",
          "name": "stdout",
          "text": [
            "[2023-12-05 03:53:41] Evaluate_70: epoch = 0100 train time = 4 s train loss = 0.305600 train acc = 0.9300, test acc = 0.9474\n",
            "Iteration 71\n"
          ]
        },
        {
          "output_type": "stream",
          "name": "stderr",
          "text": [
            " 90%|█████████ | 9/10 [00:10<00:01,  1.14s/it]\n"
          ]
        },
        {
          "output_type": "stream",
          "name": "stdout",
          "text": [
            "[2023-12-05 03:53:59] Evaluate_71: epoch = 0100 train time = 4 s train loss = 0.285409 train acc = 0.9400, test acc = 0.9481\n",
            "Iteration 72\n"
          ]
        },
        {
          "output_type": "stream",
          "name": "stderr",
          "text": [
            " 90%|█████████ | 9/10 [00:10<00:01,  1.15s/it]\n"
          ]
        },
        {
          "output_type": "stream",
          "name": "stdout",
          "text": [
            "[2023-12-05 03:54:16] Evaluate_72: epoch = 0100 train time = 4 s train loss = 0.300390 train acc = 0.9500, test acc = 0.9391\n",
            "Iteration 73\n"
          ]
        },
        {
          "output_type": "stream",
          "name": "stderr",
          "text": [
            " 90%|█████████ | 9/10 [00:10<00:01,  1.16s/it]\n"
          ]
        },
        {
          "output_type": "stream",
          "name": "stdout",
          "text": [
            "[2023-12-05 03:54:33] Evaluate_73: epoch = 0100 train time = 4 s train loss = 0.303051 train acc = 0.9400, test acc = 0.9518\n",
            "Iteration 74\n"
          ]
        },
        {
          "output_type": "stream",
          "name": "stderr",
          "text": [
            " 90%|█████████ | 9/10 [00:10<00:01,  1.16s/it]\n"
          ]
        },
        {
          "output_type": "stream",
          "name": "stdout",
          "text": [
            "[2023-12-05 03:54:50] Evaluate_74: epoch = 0100 train time = 3 s train loss = 0.358789 train acc = 0.9100, test acc = 0.9493\n",
            "Iteration 75\n"
          ]
        },
        {
          "output_type": "stream",
          "name": "stderr",
          "text": [
            " 90%|█████████ | 9/10 [00:10<00:01,  1.20s/it]\n"
          ]
        },
        {
          "output_type": "stream",
          "name": "stdout",
          "text": [
            "[2023-12-05 03:55:08] Evaluate_75: epoch = 0100 train time = 4 s train loss = 0.353227 train acc = 0.9300, test acc = 0.9468\n",
            "Iteration 76\n"
          ]
        },
        {
          "output_type": "stream",
          "name": "stderr",
          "text": [
            " 90%|█████████ | 9/10 [00:10<00:01,  1.15s/it]\n"
          ]
        },
        {
          "output_type": "stream",
          "name": "stdout",
          "text": [
            "[2023-12-05 03:55:25] Evaluate_76: epoch = 0100 train time = 4 s train loss = 0.333150 train acc = 0.9200, test acc = 0.9522\n",
            "Iteration 77\n"
          ]
        },
        {
          "output_type": "stream",
          "name": "stderr",
          "text": [
            " 90%|█████████ | 9/10 [00:10<00:01,  1.16s/it]\n"
          ]
        },
        {
          "output_type": "stream",
          "name": "stdout",
          "text": [
            "[2023-12-05 03:55:41] Evaluate_77: epoch = 0100 train time = 3 s train loss = 0.422607 train acc = 0.8500, test acc = 0.9510\n",
            "Iteration 78\n"
          ]
        },
        {
          "output_type": "stream",
          "name": "stderr",
          "text": [
            " 90%|█████████ | 9/10 [00:10<00:01,  1.16s/it]\n"
          ]
        },
        {
          "output_type": "stream",
          "name": "stdout",
          "text": [
            "[2023-12-05 03:55:58] Evaluate_78: epoch = 0100 train time = 3 s train loss = 0.300622 train acc = 0.9300, test acc = 0.9510\n",
            "Iteration 79\n"
          ]
        },
        {
          "output_type": "stream",
          "name": "stderr",
          "text": [
            " 90%|█████████ | 9/10 [00:10<00:01,  1.16s/it]\n"
          ]
        },
        {
          "output_type": "stream",
          "name": "stdout",
          "text": [
            "[2023-12-05 03:56:14] Evaluate_79: epoch = 0100 train time = 3 s train loss = 0.431678 train acc = 0.8800, test acc = 0.9473\n",
            "Iteration 80\n"
          ]
        },
        {
          "output_type": "stream",
          "name": "stderr",
          "text": [
            " 90%|█████████ | 9/10 [00:10<00:01,  1.16s/it]\n"
          ]
        },
        {
          "output_type": "stream",
          "name": "stdout",
          "text": [
            "[2023-12-05 03:56:31] Evaluate_80: epoch = 0100 train time = 3 s train loss = 0.373143 train acc = 0.9200, test acc = 0.9525\n",
            "Iteration 81\n"
          ]
        },
        {
          "output_type": "stream",
          "name": "stderr",
          "text": [
            " 90%|█████████ | 9/10 [00:10<00:01,  1.16s/it]\n"
          ]
        },
        {
          "output_type": "stream",
          "name": "stdout",
          "text": [
            "[2023-12-05 03:56:48] Evaluate_81: epoch = 0100 train time = 3 s train loss = 0.366274 train acc = 0.9000, test acc = 0.9504\n",
            "Iteration 82\n"
          ]
        },
        {
          "output_type": "stream",
          "name": "stderr",
          "text": [
            " 90%|█████████ | 9/10 [00:10<00:01,  1.16s/it]\n"
          ]
        },
        {
          "output_type": "stream",
          "name": "stdout",
          "text": [
            "[2023-12-05 03:57:04] Evaluate_82: epoch = 0100 train time = 3 s train loss = 0.377188 train acc = 0.9000, test acc = 0.9483\n",
            "Iteration 83\n"
          ]
        },
        {
          "output_type": "stream",
          "name": "stderr",
          "text": [
            " 90%|█████████ | 9/10 [00:10<00:01,  1.15s/it]\n"
          ]
        },
        {
          "output_type": "stream",
          "name": "stdout",
          "text": [
            "[2023-12-05 03:57:21] Evaluate_83: epoch = 0100 train time = 3 s train loss = 0.306482 train acc = 0.9600, test acc = 0.9436\n",
            "Iteration 84\n"
          ]
        },
        {
          "output_type": "stream",
          "name": "stderr",
          "text": [
            " 90%|█████████ | 9/10 [00:10<00:01,  1.15s/it]\n"
          ]
        },
        {
          "output_type": "stream",
          "name": "stdout",
          "text": [
            "[2023-12-05 03:57:39] Evaluate_84: epoch = 0100 train time = 3 s train loss = 0.389282 train acc = 0.8900, test acc = 0.9469\n",
            "Iteration 85\n"
          ]
        },
        {
          "output_type": "stream",
          "name": "stderr",
          "text": [
            " 90%|█████████ | 9/10 [00:10<00:01,  1.14s/it]\n"
          ]
        },
        {
          "output_type": "stream",
          "name": "stdout",
          "text": [
            "[2023-12-05 03:57:57] Evaluate_85: epoch = 0100 train time = 4 s train loss = 0.343777 train acc = 0.9200, test acc = 0.9478\n",
            "Iteration 86\n"
          ]
        },
        {
          "output_type": "stream",
          "name": "stderr",
          "text": [
            " 90%|█████████ | 9/10 [00:10<00:01,  1.14s/it]\n"
          ]
        },
        {
          "output_type": "stream",
          "name": "stdout",
          "text": [
            "[2023-12-05 03:58:14] Evaluate_86: epoch = 0100 train time = 4 s train loss = 0.420847 train acc = 0.8700, test acc = 0.9494\n",
            "Iteration 87\n"
          ]
        },
        {
          "output_type": "stream",
          "name": "stderr",
          "text": [
            " 90%|█████████ | 9/10 [00:10<00:01,  1.15s/it]\n"
          ]
        },
        {
          "output_type": "stream",
          "name": "stdout",
          "text": [
            "[2023-12-05 03:58:31] Evaluate_87: epoch = 0100 train time = 4 s train loss = 0.347102 train acc = 0.9300, test acc = 0.9440\n",
            "Iteration 88\n"
          ]
        },
        {
          "output_type": "stream",
          "name": "stderr",
          "text": [
            " 90%|█████████ | 9/10 [00:10<00:01,  1.15s/it]\n"
          ]
        },
        {
          "output_type": "stream",
          "name": "stdout",
          "text": [
            "[2023-12-05 03:58:48] Evaluate_88: epoch = 0100 train time = 3 s train loss = 0.314055 train acc = 0.9500, test acc = 0.9485\n",
            "Iteration 89\n"
          ]
        },
        {
          "output_type": "stream",
          "name": "stderr",
          "text": [
            " 90%|█████████ | 9/10 [00:10<00:01,  1.16s/it]\n"
          ]
        },
        {
          "output_type": "stream",
          "name": "stdout",
          "text": [
            "[2023-12-05 03:59:05] Evaluate_89: epoch = 0100 train time = 3 s train loss = 0.359300 train acc = 0.9200, test acc = 0.9499\n",
            "Iteration 90\n"
          ]
        },
        {
          "output_type": "stream",
          "name": "stderr",
          "text": [
            " 90%|█████████ | 9/10 [00:10<00:01,  1.16s/it]\n"
          ]
        },
        {
          "output_type": "stream",
          "name": "stdout",
          "text": [
            "[2023-12-05 03:59:21] Evaluate_90: epoch = 0100 train time = 3 s train loss = 0.500968 train acc = 0.8400, test acc = 0.9481\n",
            "Iteration 91\n"
          ]
        },
        {
          "output_type": "stream",
          "name": "stderr",
          "text": [
            " 90%|█████████ | 9/10 [00:10<00:01,  1.16s/it]\n"
          ]
        },
        {
          "output_type": "stream",
          "name": "stdout",
          "text": [
            "[2023-12-05 03:59:38] Evaluate_91: epoch = 0100 train time = 3 s train loss = 0.301461 train acc = 0.9500, test acc = 0.9512\n",
            "Iteration 92\n"
          ]
        },
        {
          "output_type": "stream",
          "name": "stderr",
          "text": [
            " 90%|█████████ | 9/10 [00:10<00:01,  1.16s/it]\n"
          ]
        },
        {
          "output_type": "stream",
          "name": "stdout",
          "text": [
            "[2023-12-05 03:59:54] Evaluate_92: epoch = 0100 train time = 3 s train loss = 0.280603 train acc = 0.9500, test acc = 0.9549\n",
            "Iteration 93\n"
          ]
        },
        {
          "output_type": "stream",
          "name": "stderr",
          "text": [
            " 90%|█████████ | 9/10 [00:10<00:01,  1.19s/it]\n"
          ]
        },
        {
          "output_type": "stream",
          "name": "stdout",
          "text": [
            "[2023-12-05 04:00:11] Evaluate_93: epoch = 0100 train time = 4 s train loss = 0.407084 train acc = 0.8800, test acc = 0.9538\n",
            "Iteration 94\n"
          ]
        },
        {
          "output_type": "stream",
          "name": "stderr",
          "text": [
            " 90%|█████████ | 9/10 [00:10<00:01,  1.16s/it]\n"
          ]
        },
        {
          "output_type": "stream",
          "name": "stdout",
          "text": [
            "[2023-12-05 04:00:28] Evaluate_94: epoch = 0100 train time = 3 s train loss = 0.282522 train acc = 0.9800, test acc = 0.9530\n",
            "Iteration 95\n"
          ]
        },
        {
          "output_type": "stream",
          "name": "stderr",
          "text": [
            " 90%|█████████ | 9/10 [00:10<00:01,  1.16s/it]\n"
          ]
        },
        {
          "output_type": "stream",
          "name": "stdout",
          "text": [
            "[2023-12-05 04:00:45] Evaluate_95: epoch = 0100 train time = 3 s train loss = 0.421095 train acc = 0.8900, test acc = 0.9517\n",
            "Iteration 96\n"
          ]
        },
        {
          "output_type": "stream",
          "name": "stderr",
          "text": [
            " 90%|█████████ | 9/10 [00:10<00:01,  1.16s/it]\n"
          ]
        },
        {
          "output_type": "stream",
          "name": "stdout",
          "text": [
            "[2023-12-05 04:01:01] Evaluate_96: epoch = 0100 train time = 3 s train loss = 0.326684 train acc = 0.9400, test acc = 0.9513\n",
            "Iteration 97\n"
          ]
        },
        {
          "output_type": "stream",
          "name": "stderr",
          "text": [
            " 90%|█████████ | 9/10 [00:10<00:01,  1.16s/it]\n"
          ]
        },
        {
          "output_type": "stream",
          "name": "stdout",
          "text": [
            "[2023-12-05 04:01:18] Evaluate_97: epoch = 0100 train time = 3 s train loss = 0.558745 train acc = 0.8900, test acc = 0.9528\n",
            "Iteration 98\n"
          ]
        },
        {
          "output_type": "stream",
          "name": "stderr",
          "text": [
            " 90%|█████████ | 9/10 [00:10<00:01,  1.16s/it]\n"
          ]
        },
        {
          "output_type": "stream",
          "name": "stdout",
          "text": [
            "[2023-12-05 04:01:34] Evaluate_98: epoch = 0100 train time = 3 s train loss = 0.408489 train acc = 0.8700, test acc = 0.9523\n",
            "Iteration 99\n"
          ]
        },
        {
          "output_type": "stream",
          "name": "stderr",
          "text": [
            " 90%|█████████ | 9/10 [00:10<00:01,  1.16s/it]\n"
          ]
        },
        {
          "output_type": "stream",
          "name": "stdout",
          "text": [
            "[2023-12-05 04:01:52] Evaluate_99: epoch = 0100 train time = 3 s train loss = 0.400036 train acc = 0.8800, test acc = 0.9520\n",
            "The Final Accuracy for the sythetic data result:  0.952\n"
          ]
        }
      ]
    },
    {
      "cell_type": "code",
      "source": [
        "\"\"\" visualization Result \"\"\"\n",
        "x_axis = np.arange(args.Iteration)\n",
        "plt.plot(x_axis, test_acc, label='test_acc')\n",
        "plt.plot(x_axis, train_acc, label='train_acc')\n",
        "plt.legend()\n",
        "plt.show\n"
      ],
      "metadata": {
        "id": "x7gg8MRA08_d",
        "colab": {
          "base_uri": "https://localhost:8080/"
        },
        "outputId": "7337c3b3-4454-4ec7-f746-dac98d5a06fe"
      },
      "execution_count": null,
      "outputs": [
        {
          "output_type": "execute_result",
          "data": {
            "text/plain": [
              "<function matplotlib.pyplot.show(close=None, block=None)>"
            ]
          },
          "metadata": {},
          "execution_count": 15
        },
        {
          "output_type": "display_data",
          "data": {
            "text/plain": [
              "<Figure size 640x480 with 1 Axes>"
            ],
            "image/png": "[encoded data removed]"
          },
          "metadata": {}
        }
      ]
    },
    {
      "cell_type": "markdown",
      "source": [
        "## Part 2(e)\n",
        "Train the selected\n",
        "network on a learned synthetic dataset (with 100 training images), then evaluate it on the\n",
        "real testing data."
      ],
      "metadata": {
        "id": "wNn0vEaClEhI"
      }
    },
    {
      "cell_type": "code",
      "source": [
        "args.dataset = 'MNIST'\n",
        "it_eval = 20\n",
        "args.model = 'ConvNet'\n",
        "net = utils.get_network(args.model,channel=channel,num_classes=num_classes,im_size=im_size).to(args.device)\n",
        "\n",
        "images_train = data_save[0][0].to(args.device)\n",
        "labels_train = data_save[0][1].to(args.device)\n",
        "dst_train = utils.TensorDataset(images_train, labels_train)\n",
        "_, acc_train, acc_test = utils.evaluate_synset(it_eval,net,images_train ,labels_train,testloader,args)\n",
        "print(\"test with synthetic dataset, accuracy = %.4f\"%(acc_test))"
      ],
      "metadata": {
        "colab": {
          "base_uri": "https://localhost:8080/"
        },
        "id": "l59zpWdjldNl",
        "outputId": "9aac96f0-3b79-4cee-b2a8-884641aec2b2"
      },
      "execution_count": null,
      "outputs": [
        {
          "output_type": "stream",
          "name": "stdout",
          "text": [
            "[2023-12-05 04:01:59] Evaluate_20: epoch = 0100 train time = 4 s train loss = 0.417479 train acc = 0.8400, test acc = 0.9603\n",
            "test with synthetic dataset, accuracy = 0.9603\n"
          ]
        }
      ]
    },
    {
      "cell_type": "markdown",
      "source": [
        "### gaussian noise version"
      ],
      "metadata": {
        "id": "8PRpzsQr3GYW"
      }
    },
    {
      "cell_type": "code",
      "source": [
        "\n",
        "args.dataset = 'MNIST'\n",
        "it_eval = 20\n",
        "args.model = 'ConvNet'\n",
        "net = utils.get_network(args.model,channel=channel,num_classes=num_classes,im_size=im_size).to(args.device)\n",
        "\n",
        "images_train = rn_mn_data_save[0][0].to(args.device)\n",
        "labels_train = rn_mn_data_save[0][1].to(args.device)\n",
        "dst_train = utils.TensorDataset(images_train, labels_train)\n",
        "_, acc_train, acc_test = utils.evaluate_synset(it_eval,net,images_train ,labels_train,testloader,args)\n",
        "print(\"test with synthetic dataset, accuracy = %.4f\"%(acc_test))"
      ],
      "metadata": {
        "colab": {
          "base_uri": "https://localhost:8080/"
        },
        "id": "nY3M5olz3Fjf",
        "outputId": "50b0b1ea-c29b-4347-eac7-16dfe6ab8ad4"
      },
      "execution_count": null,
      "outputs": [
        {
          "output_type": "stream",
          "name": "stdout",
          "text": [
            "[2023-12-05 04:02:06] Evaluate_20: epoch = 0100 train time = 4 s train loss = 0.474889 train acc = 0.8500, test acc = 0.9546\n",
            "test with synthetic dataset, accuracy = 0.9546\n"
          ]
        }
      ]
    },
    {
      "cell_type": "markdown",
      "source": [
        "# Part 3 Cross_architecture\n"
      ],
      "metadata": {
        "id": "A3v6XPrgsIBm"
      }
    },
    {
      "cell_type": "markdown",
      "source": [
        "## AlexNet - real dataset initialization"
      ],
      "metadata": {
        "id": "Jiak6MkB0Kq1"
      }
    },
    {
      "cell_type": "code",
      "source": [
        "args.model = 'AlexNet'\n",
        "net = utils.get_network(args.model,channel=channel,num_classes=num_classes,im_size=im_size).to(args.device)\n",
        "\n",
        "images_train = data_save[0][0].to(args.device)\n",
        "labels_train = data_save[0][1].to(args.device)\n",
        "dst_train = utils.TensorDataset(images_train, labels_train)\n",
        "_, acc_train, acc_test = utils.evaluate_synset(it_eval,net,images_train ,labels_train,testloader,args)\n",
        "print(\"test with synthetic dataset, accuracy = %.4f\"%(acc_test))"
      ],
      "metadata": {
        "colab": {
          "base_uri": "https://localhost:8080/"
        },
        "id": "91EVmH98sLuR",
        "outputId": "b72f8b5b-229f-4fcf-c582-87257fc4a8e2"
      },
      "execution_count": null,
      "outputs": [
        {
          "output_type": "stream",
          "name": "stdout",
          "text": [
            "[2023-12-05 04:02:14] Evaluate_20: epoch = 0100 train time = 5 s train loss = 1.727417 train acc = 0.4200, test acc = 0.7291\n",
            "test with synthetic dataset, accuracy = 0.7291\n"
          ]
        }
      ]
    },
    {
      "cell_type": "markdown",
      "source": [
        "## AlexNet -  gaussian noise version"
      ],
      "metadata": {
        "id": "DyX0POm-3QeK"
      }
    },
    {
      "cell_type": "code",
      "source": [
        "args.dataset = 'MNIST'\n",
        "it_eval = 20\n",
        "args.model = 'AlexNet'\n",
        "net = utils.get_network(args.model,channel=channel,num_classes=num_classes,im_size=im_size).to(args.device)\n",
        "\n",
        "images_train = rn_mn_data_save[0][0].to(args.device)\n",
        "labels_train = rn_mn_data_save[0][1].to(args.device)\n",
        "dst_train = utils.TensorDataset(images_train, labels_train)\n",
        "_, acc_train, acc_test = utils.evaluate_synset(it_eval,net,images_train ,labels_train,testloader,args)\n",
        "print(\"test with synthetic dataset, accuracy = %.4f\"%(acc_test))"
      ],
      "metadata": {
        "colab": {
          "base_uri": "https://localhost:8080/"
        },
        "id": "D1WcM1Zh3Vu1",
        "outputId": "59e28648-cfdd-49b4-8415-2e40e6d25f88"
      },
      "execution_count": null,
      "outputs": [
        {
          "output_type": "stream",
          "name": "stdout",
          "text": [
            "[2023-12-05 04:02:21] Evaluate_20: epoch = 0100 train time = 4 s train loss = 1.911242 train acc = 0.4200, test acc = 0.7058\n",
            "test with synthetic dataset, accuracy = 0.7058\n"
          ]
        }
      ]
    },
    {
      "cell_type": "markdown",
      "source": [
        "## VGG11 - real dataset initialization"
      ],
      "metadata": {
        "id": "ThbTsX0_0Sm3"
      }
    },
    {
      "cell_type": "code",
      "source": [
        "args.model = 'VGG11'\n",
        "net = utils.get_network(args.model,channel=channel,num_classes=num_classes,im_size=im_size).to(args.device)\n",
        "images_train = data_save[0][0].to(args.device)\n",
        "labels_train = data_save[0][1].to(args.device)\n",
        "dst_train = utils.TensorDataset(images_train, labels_train)\n",
        "_, acc_train, acc_test = utils.evaluate_synset(it_eval,net,images_train ,labels_train,testloader,args)\n",
        "print(\"test with synthetic dataset, accuracy = %.4f\"%(acc_test))"
      ],
      "metadata": {
        "colab": {
          "base_uri": "https://localhost:8080/"
        },
        "id": "3bfMarhJsrzO",
        "outputId": "c1d7b9d4-1167-4ae3-cf6f-b888158c2c9e"
      },
      "execution_count": null,
      "outputs": [
        {
          "output_type": "stream",
          "name": "stdout",
          "text": [
            "[2023-12-05 04:02:30] Evaluate_20: epoch = 0100 train time = 5 s train loss = 0.225616 train acc = 0.9600, test acc = 0.9510\n",
            "test with synthetic dataset, accuracy = 0.9510\n"
          ]
        }
      ]
    },
    {
      "cell_type": "markdown",
      "source": [
        "## VGG11 - gaussian noise version"
      ],
      "metadata": {
        "id": "UuHRdzPu3dep"
      }
    },
    {
      "cell_type": "code",
      "source": [
        "args.model = 'VGG11'\n",
        "net = utils.get_network(args.model,channel=channel,num_classes=num_classes,im_size=im_size).to(args.device)\n",
        "images_train = rn_mn_data_save[0][0].to(args.device)\n",
        "labels_train = rn_mn_data_save[0][1].to(args.device)\n",
        "dst_train = utils.TensorDataset(images_train, labels_train)\n",
        "_, acc_train, acc_test = utils.evaluate_synset(it_eval,net,images_train ,labels_train,testloader,args)\n",
        "print(\"test with synthetic dataset, accuracy = %.4f\"%(acc_test))"
      ],
      "metadata": {
        "colab": {
          "base_uri": "https://localhost:8080/"
        },
        "id": "Y18SKvvB3c5N",
        "outputId": "22ab07d5-8566-455f-8299-9f0e4c8eab89"
      },
      "execution_count": null,
      "outputs": [
        {
          "output_type": "stream",
          "name": "stdout",
          "text": [
            "[2023-12-05 04:02:38] Evaluate_20: epoch = 0100 train time = 5 s train loss = 0.357423 train acc = 0.9100, test acc = 0.9297\n",
            "test with synthetic dataset, accuracy = 0.9297\n"
          ]
        }
      ]
    }
  ]
}
