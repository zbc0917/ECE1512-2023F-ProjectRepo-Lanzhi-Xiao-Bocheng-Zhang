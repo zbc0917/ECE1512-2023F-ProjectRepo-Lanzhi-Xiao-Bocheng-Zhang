{
  "nbformat": 4,
  "nbformat_minor": 0,
  "metadata": {
    "colab": {
      "provenance": [],
      "gpuType": "T4"
    },
    "kernelspec": {
      "name": "python3",
      "display_name": "Python 3"
    },
    "language_info": {
      "name": "python"
    },
    "accelerator": "GPU"
  },
  "cells": [
    {
      "cell_type": "markdown",
      "source": [
        "# Coding Environment Setup"
      ],
      "metadata": {
        "id": "y5cVe_t2SrXm"
      }
    },
    {
      "cell_type": "code",
      "source": [
        "from google.colab import drive\n",
        "drive.mount('/content/drive')"
      ],
      "metadata": {
        "colab": {
          "base_uri": "https://localhost:8080/"
        },
        "id": "lEjTweh6UZmK",
        "outputId": "770188a1-eb1f-4a6c-b396-6ec39c62a787"
      },
      "execution_count": null,
      "outputs": [
        {
          "output_type": "stream",
          "name": "stdout",
          "text": [
            "Mounted at /content/drive\n"
          ]
        }
      ]
    },
    {
      "cell_type": "markdown",
      "source": [
        "In order to import the utils to this, we convert utils and networks to python."
      ],
      "metadata": {
        "id": "TWjilk9CXhhm"
      }
    },
    {
      "cell_type": "code",
      "source": [
        "!jupyter nbconvert --to python '/content/drive/MyDrive/ECE1512/ProjectB/networks.ipynb'\n",
        "%run '/content/drive/MyDrive/ECE1512/ProjectB/networks.ipynb'\n",
        "!jupyter nbconvert --to python '/content/drive/MyDrive/ECE1512/ProjectB/utils.ipynb'\n",
        "%run '/content/drive/MyDrive/ECE1512/ProjectB/utils.ipynb'"
      ],
      "metadata": {
        "id": "eu2MSazyXBh1",
        "colab": {
          "base_uri": "https://localhost:8080/"
        },
        "outputId": "719b3a5d-c9ad-4e54-e35c-fcaff0ae1578"
      },
      "execution_count": null,
      "outputs": [
        {
          "output_type": "stream",
          "name": "stdout",
          "text": [
            "[NbConvertApp] Converting notebook /content/drive/MyDrive/ECE1512/ProjectB/networks.ipynb to python\n",
            "[NbConvertApp] Writing 19903 bytes to /content/drive/MyDrive/ECE1512/ProjectB/networks.py\n",
            "[NbConvertApp] Converting notebook /content/drive/MyDrive/ECE1512/ProjectB/utils.ipynb to python\n",
            "[NbConvertApp] ERROR | Notebook JSON is invalid: Additional properties are not allowed ('errorDetails' was unexpected)\n",
            "\n",
            "Failed validating 'additionalProperties' in error:\n",
            "\n",
            "On instance['cells'][0]['outputs'][0]:\n",
            "{'ename': 'ModuleNotFoundError',\n",
            " 'errorDetails': {'actions': [{'action': 'open_url',\n",
            "                               'actionText': 'Open Examples',\n",
            "                               'url': '/notebooks/snippets/importing_libraries.ipynb'}]},\n",
            " 'evalue': 'ignored',\n",
            " 'output_type': 'error',\n",
            " 'traceback': ['\\x1b[0;31m---------------------------------------------------------...',\n",
            "               '\\x1b[0;31mModuleNotFoundError\\x1b[0m                       '\n",
            "               'Traceback (...',\n",
            "               '\\x1b[0;32m<ipython-input-1-d4a23aa8b8f3>\\x1b[0m in '\n",
            "               '\\x1b[0;36m<module>\\x1b[0;...',\n",
            "               '\\x1b[0;31mModuleNotFoundError\\x1b[0m: No module named '\n",
            "               \"'networks'\",\n",
            "               '',\n",
            "               '\\x1b[0;31m---------------------------------------------------------...']}\n",
            "[NbConvertApp] Writing 27398 bytes to /content/drive/MyDrive/ECE1512/ProjectB/utils.py\n"
          ]
        },
        {
          "output_type": "stream",
          "name": "stderr",
          "text": [
            "<ipython-input-3-d4a23aa8b8f3>:9: DeprecationWarning: Please use `rotate` from the `scipy.ndimage` namespace, the `scipy.ndimage.interpolation` namespace is deprecated.\n",
            "  from scipy.ndimage.interpolation import rotate as scipyrotate\n"
          ]
        }
      ]
    },
    {
      "cell_type": "code",
      "execution_count": null,
      "metadata": {
        "id": "i1vRmN7nSc5W"
      },
      "outputs": [],
      "source": [
        "import numpy as np\n",
        "import pandas as pd\n",
        "import matplotlib.pyplot as plt\n",
        "import torch\n",
        "import torch.nn as nn\n",
        "import torch.optim as optim\n",
        "from torchvision import datasets, transforms\n",
        "from torch.utils.data import DataLoader\n",
        "import tqdm\n",
        "import os\n",
        "import copy\n",
        "import time\n",
        "from torchvision.utils import save_image\n",
        "import warnings\n",
        "warnings.filterwarnings('ignore')\n",
        "\n",
        "import sys\n",
        "sys.path.append('/content/drive/MyDrive/ECE1512/ProjectB')\n",
        "import utils\n",
        "import networks\n"
      ]
    },
    {
      "cell_type": "markdown",
      "source": [
        "# MNIST Dataset Part\n",
        "\n",
        "\n",
        "\n"
      ],
      "metadata": {
        "id": "iNmDM31lX-hb"
      }
    },
    {
      "cell_type": "markdown",
      "source": [
        "### Load Data Part\n"
      ],
      "metadata": {
        "id": "XhnFasZ8b9YO"
      }
    },
    {
      "cell_type": "code",
      "source": [
        "mnist_dataset = 'MNIST'\n",
        "mnist_data_path = './mnist_data'\n",
        "channel, im_size, num_classes, class_names, mean, std, dst_train, dst_test, testloader = utils.get_dataset(mnist_dataset, mnist_data_path)\n"
      ],
      "metadata": {
        "id": "vBBD6uNMX9jd",
        "colab": {
          "base_uri": "https://localhost:8080/"
        },
        "outputId": "ac50546d-5c56-4775-dafa-cb5efdf4aee9"
      },
      "execution_count": null,
      "outputs": [
        {
          "output_type": "stream",
          "name": "stdout",
          "text": [
            "Downloading http://yann.lecun.com/exdb/mnist/train-images-idx3-ubyte.gz\n",
            "Downloading http://yann.lecun.com/exdb/mnist/train-images-idx3-ubyte.gz to ./mnist_data/MNIST/raw/train-images-idx3-ubyte.gz\n"
          ]
        },
        {
          "output_type": "stream",
          "name": "stderr",
          "text": [
            "100%|██████████| 9912422/9912422 [00:00<00:00, 95486129.76it/s]\n"
          ]
        },
        {
          "output_type": "stream",
          "name": "stdout",
          "text": [
            "Extracting ./mnist_data/MNIST/raw/train-images-idx3-ubyte.gz to ./mnist_data/MNIST/raw\n",
            "\n",
            "Downloading http://yann.lecun.com/exdb/mnist/train-labels-idx1-ubyte.gz\n",
            "Downloading http://yann.lecun.com/exdb/mnist/train-labels-idx1-ubyte.gz to ./mnist_data/MNIST/raw/train-labels-idx1-ubyte.gz\n"
          ]
        },
        {
          "output_type": "stream",
          "name": "stderr",
          "text": [
            "100%|██████████| 28881/28881 [00:00<00:00, 23340210.76it/s]\n"
          ]
        },
        {
          "output_type": "stream",
          "name": "stdout",
          "text": [
            "Extracting ./mnist_data/MNIST/raw/train-labels-idx1-ubyte.gz to ./mnist_data/MNIST/raw\n",
            "\n",
            "Downloading http://yann.lecun.com/exdb/mnist/t10k-images-idx3-ubyte.gz\n",
            "Downloading http://yann.lecun.com/exdb/mnist/t10k-images-idx3-ubyte.gz to ./mnist_data/MNIST/raw/t10k-images-idx3-ubyte.gz\n"
          ]
        },
        {
          "output_type": "stream",
          "name": "stderr",
          "text": [
            "100%|██████████| 1648877/1648877 [00:00<00:00, 36061400.23it/s]"
          ]
        },
        {
          "output_type": "stream",
          "name": "stdout",
          "text": [
            "Extracting ./mnist_data/MNIST/raw/t10k-images-idx3-ubyte.gz to ./mnist_data/MNIST/raw\n"
          ]
        },
        {
          "output_type": "stream",
          "name": "stderr",
          "text": [
            "\n"
          ]
        },
        {
          "output_type": "stream",
          "name": "stdout",
          "text": [
            "\n",
            "Downloading http://yann.lecun.com/exdb/mnist/t10k-labels-idx1-ubyte.gz\n",
            "Downloading http://yann.lecun.com/exdb/mnist/t10k-labels-idx1-ubyte.gz to ./mnist_data/MNIST/raw/t10k-labels-idx1-ubyte.gz\n"
          ]
        },
        {
          "output_type": "stream",
          "name": "stderr",
          "text": [
            "100%|██████████| 4542/4542 [00:00<00:00, 3491665.83it/s]"
          ]
        },
        {
          "output_type": "stream",
          "name": "stdout",
          "text": [
            "Extracting ./mnist_data/MNIST/raw/t10k-labels-idx1-ubyte.gz to ./mnist_data/MNIST/raw\n",
            "\n"
          ]
        },
        {
          "output_type": "stream",
          "name": "stderr",
          "text": [
            "\n"
          ]
        }
      ]
    },
    {
      "cell_type": "code",
      "source": [
        "mnist_train_loader = DataLoader(dst_train, batch_size=64, shuffle=True)\n",
        "mnist_test_loader = DataLoader(dst_test, batch_size=64, shuffle=False)"
      ],
      "metadata": {
        "id": "FJtC9G2CpKCj"
      },
      "execution_count": null,
      "outputs": []
    },
    {
      "cell_type": "markdown",
      "source": [
        "# Part2"
      ],
      "metadata": {
        "id": "qgThvV3rzP3Q"
      }
    },
    {
      "cell_type": "markdown",
      "source": [
        "citation:\n",
        "[1] Bo Zhao, Konda Reddy Mopuri, and Hakan Bilen. Dataset condensation with gradient matching.ICLR, 1(2):3, 2021. https://arxiv.org/abs/2006.05929"
      ],
      "metadata": {
        "id": "1GRAAIvH06g-"
      }
    },
    {
      "cell_type": "markdown",
      "source": [
        "code citation:\n",
        "VICO-UoE. (2022). DatasetCondensation [Code]. GitHub. https://github.com/VICO-UoE/DatasetCondensation\n"
      ],
      "metadata": {
        "id": "fsmyw6EK03vV"
      }
    },
    {
      "cell_type": "markdown",
      "source": [],
      "metadata": {
        "id": "HfR9tRAW2BRO"
      }
    },
    {
      "cell_type": "markdown",
      "source": [
        "## Part 2(a)\n"
      ],
      "metadata": {
        "id": "JmeABOZbimkz"
      }
    },
    {
      "cell_type": "markdown",
      "source": [
        "Model/Device Setup"
      ],
      "metadata": {
        "id": "q1tGvu_WdYsL"
      }
    },
    {
      "cell_type": "code",
      "source": [
        "NET = 'ConvNet'\n",
        "device = 'cuda' if torch.cuda.is_available() else 'cpu'\n",
        "model = utils.get_network(NET,channel,num_classes).to(device)\n",
        "class argument():\n",
        "  def __init__(self,device,ipc = 10):\n",
        "    self.model = 'ConvNet'\n",
        "    self.num_classes = num_classes\n",
        "    self.dataset = 'MNIST'\n",
        "    self.channel = channel\n",
        "    self.im_size = im_size\n",
        "    self.mean = mean\n",
        "    self.std = std\n",
        "    self.ipc = ipc\n",
        "    self.Iteration = 10 #K\n",
        "    self.num_epochs = 2\n",
        "    self.num_op_step = 1\n",
        "    self.lr_img = 0.1\n",
        "    self.lr_net = 0.01\n",
        "    self.epoch_eval_train = 2  #need be 20 as final test\n",
        "    self.batch_train = 256\n",
        "    self.outer_loop, self.inner_loop = utils.get_loops(self.ipc)\n",
        "    self.dis_metric = 'ours'\n",
        "\n",
        "    self.device = device\n",
        "    self.dsa = False\n",
        "    self.dsa_param = utils.ParamDiffAug()\n",
        "    self.dc_aug_param = utils.get_daparam(self.dataset, model, NET, ipc = self.ipc)\n",
        "    self.dsa_strategy = self.dc_aug_param['strategy']\n",
        "\n",
        "args = argument(device, 10)\n",
        "\n",
        "\n"
      ],
      "metadata": {
        "id": "u0IzyzYwcus4"
      },
      "execution_count": null,
      "outputs": []
    },
    {
      "cell_type": "markdown",
      "source": [
        "FLOP Calculate\n",
        "\n",
        "\n",
        "\n"
      ],
      "metadata": {
        "id": "X-CHaoKyrJFp"
      }
    },
    {
      "cell_type": "code",
      "source": [
        "len(dst_test)"
      ],
      "metadata": {
        "colab": {
          "base_uri": "https://localhost:8080/"
        },
        "id": "3yxtBMLM2rlh",
        "outputId": "5cb436f7-a5ea-48db-ec1f-42fbab31c3cd"
      },
      "execution_count": null,
      "outputs": [
        {
          "output_type": "execute_result",
          "data": {
            "text/plain": [
              "10000"
            ]
          },
          "metadata": {},
          "execution_count": 8
        }
      ]
    },
    {
      "cell_type": "markdown",
      "source": [
        " answer: the FLOP for 10000 images in test set"
      ],
      "metadata": {
        "id": "X5nH192h2wIp"
      }
    },
    {
      "cell_type": "code",
      "source": [
        "from fvcore.nn import FlopCountAnalysis\n",
        "MNIST_dataset = 'MNIST'\n",
        "MNIST_data_path = './MNISTdata'\n",
        "MNIST_channel, MNIST_im_size, MNIST_num_classes, MNIST_class_names, MNIST_mean, MNIST_std, MNIST_dst_train, MNIST_dst_test, MNIST_testloader = get_dataset(MNIST_dataset, MNIST_data_path)\n",
        "MNIST_trainloader = torch.utils.data.DataLoader(MNIST_dst_train, batch_size=8, shuffle=True, num_workers=0)\n",
        "model = get_network('ConvNet', MNIST_channel, MNIST_num_classes, MNIST_im_size).to(device) # get a random model\n",
        "sythetic_img_all = torch.ones((100,1,28,28)).to(device)\n",
        "flops_syn = FlopCountAnalysis(model, sythetic_img_all)\n",
        "print('The FLOPs for 10000 real validation images is {}'.format(flops_syn.total()*100))"
      ],
      "metadata": {
        "id": "eNjEPnfmC2Bn",
        "colab": {
          "base_uri": "https://localhost:8080/"
        },
        "outputId": "52c800ad-5ede-4bc8-fa50-faa84315a8c4"
      },
      "execution_count": null,
      "outputs": [
        {
          "output_type": "stream",
          "name": "stdout",
          "text": [
            "Downloading http://yann.lecun.com/exdb/mnist/train-images-idx3-ubyte.gz\n",
            "Downloading http://yann.lecun.com/exdb/mnist/train-images-idx3-ubyte.gz to ./MNISTdata/MNIST/raw/train-images-idx3-ubyte.gz\n"
          ]
        },
        {
          "output_type": "stream",
          "name": "stderr",
          "text": [
            "100%|██████████| 9912422/9912422 [00:00<00:00, 280265539.86it/s]"
          ]
        },
        {
          "output_type": "stream",
          "name": "stdout",
          "text": [
            "Extracting ./MNISTdata/MNIST/raw/train-images-idx3-ubyte.gz to ./MNISTdata/MNIST/raw\n"
          ]
        },
        {
          "output_type": "stream",
          "name": "stderr",
          "text": [
            "\n"
          ]
        },
        {
          "output_type": "stream",
          "name": "stdout",
          "text": [
            "\n",
            "Downloading http://yann.lecun.com/exdb/mnist/train-labels-idx1-ubyte.gz\n",
            "Downloading http://yann.lecun.com/exdb/mnist/train-labels-idx1-ubyte.gz to ./MNISTdata/MNIST/raw/train-labels-idx1-ubyte.gz\n"
          ]
        },
        {
          "output_type": "stream",
          "name": "stderr",
          "text": [
            "100%|██████████| 28881/28881 [00:00<00:00, 103534781.05it/s]\n"
          ]
        },
        {
          "output_type": "stream",
          "name": "stdout",
          "text": [
            "Extracting ./MNISTdata/MNIST/raw/train-labels-idx1-ubyte.gz to ./MNISTdata/MNIST/raw\n",
            "\n",
            "Downloading http://yann.lecun.com/exdb/mnist/t10k-images-idx3-ubyte.gz\n",
            "Downloading http://yann.lecun.com/exdb/mnist/t10k-images-idx3-ubyte.gz to ./MNISTdata/MNIST/raw/t10k-images-idx3-ubyte.gz\n"
          ]
        },
        {
          "output_type": "stream",
          "name": "stderr",
          "text": [
            "100%|██████████| 1648877/1648877 [00:00<00:00, 44002897.50it/s]"
          ]
        },
        {
          "output_type": "stream",
          "name": "stdout",
          "text": [
            "Extracting ./MNISTdata/MNIST/raw/t10k-images-idx3-ubyte.gz to ./MNISTdata/MNIST/raw\n",
            "\n",
            "Downloading http://yann.lecun.com/exdb/mnist/t10k-labels-idx1-ubyte.gz\n"
          ]
        },
        {
          "output_type": "stream",
          "name": "stderr",
          "text": [
            "\n"
          ]
        },
        {
          "output_type": "stream",
          "name": "stdout",
          "text": [
            "Downloading http://yann.lecun.com/exdb/mnist/t10k-labels-idx1-ubyte.gz to ./MNISTdata/MNIST/raw/t10k-labels-idx1-ubyte.gz\n"
          ]
        },
        {
          "output_type": "stream",
          "name": "stderr",
          "text": [
            "100%|██████████| 4542/4542 [00:00<00:00, 22203413.48it/s]\n"
          ]
        },
        {
          "output_type": "stream",
          "name": "stdout",
          "text": [
            "Extracting ./MNISTdata/MNIST/raw/t10k-labels-idx1-ubyte.gz to ./MNISTdata/MNIST/raw\n",
            "\n"
          ]
        },
        {
          "output_type": "stream",
          "name": "stderr",
          "text": [
            "WARNING:fvcore.nn.jit_analysis:Unsupported operator aten::avg_pool2d encountered 3 time(s)\n"
          ]
        },
        {
          "output_type": "stream",
          "name": "stdout",
          "text": [
            "The FLOPs for 10000 real validation images is 492462080000\n"
          ]
        }
      ]
    },
    {
      "cell_type": "markdown",
      "source": [
        "Train Model With Orginal Data-Set"
      ],
      "metadata": {
        "id": "yi7kHQoXrUZ_"
      }
    },
    {
      "cell_type": "code",
      "source": [
        "optimizer = optim.SGD(model.parameters(), lr=0.01, momentum=0.9)\n",
        "criterion = nn.CrossEntropyLoss()\n",
        "scheduler = torch.optim.lr_scheduler.CosineAnnealingLR(optimizer, T_max=20, eta_min=0)\n",
        "\n",
        "num_epochs = 20\n",
        "for epoch in range(num_epochs):\n",
        "    train_loss, train_acc = utils.epoch('train', mnist_train_loader, model, optimizer, criterion, args, aug=False)\n",
        "    loss_test, acc_test = utils.epoch('test', testloader, model, optimizer, criterion, args, aug = False)\n",
        "\n",
        "    scheduler.step()\n",
        "    print(f'\\nTrain Loss: {train_loss:.4f}, Train Acc: {train_acc:.4f}')\n",
        "    print(f'\\nTest Loss: {loss_test:.4f}, Test Acc: {acc_test:.4f}')\n",
        "\n"
      ],
      "metadata": {
        "id": "iS8vB1BTilvo",
        "colab": {
          "base_uri": "https://localhost:8080/"
        },
        "outputId": "de2f597e-720e-4d7b-d392-99158a1210bb"
      },
      "execution_count": null,
      "outputs": [
        {
          "output_type": "stream",
          "name": "stdout",
          "text": [
            "\n",
            "Train Loss: 0.1093, Train Acc: 0.9668\n",
            "\n",
            "Test Loss: 0.0380, Test Acc: 0.9874\n",
            "\n",
            "Train Loss: 0.0384, Train Acc: 0.9880\n",
            "\n",
            "Test Loss: 0.0424, Test Acc: 0.9858\n",
            "\n",
            "Train Loss: 0.0284, Train Acc: 0.9909\n",
            "\n",
            "Test Loss: 0.0311, Test Acc: 0.9903\n",
            "\n",
            "Train Loss: 0.0229, Train Acc: 0.9928\n",
            "\n",
            "Test Loss: 0.0216, Test Acc: 0.9924\n",
            "\n",
            "Train Loss: 0.0186, Train Acc: 0.9943\n",
            "\n",
            "Test Loss: 0.0214, Test Acc: 0.9934\n",
            "\n",
            "Train Loss: 0.0149, Train Acc: 0.9954\n",
            "\n",
            "Test Loss: 0.0192, Test Acc: 0.9940\n",
            "\n",
            "Train Loss: 0.0128, Train Acc: 0.9963\n",
            "\n",
            "Test Loss: 0.0197, Test Acc: 0.9933\n",
            "\n",
            "Train Loss: 0.0099, Train Acc: 0.9976\n",
            "\n",
            "Test Loss: 0.0164, Test Acc: 0.9943\n",
            "\n",
            "Train Loss: 0.0084, Train Acc: 0.9979\n",
            "\n",
            "Test Loss: 0.0176, Test Acc: 0.9933\n",
            "\n",
            "Train Loss: 0.0072, Train Acc: 0.9984\n",
            "\n",
            "Test Loss: 0.0159, Test Acc: 0.9942\n",
            "\n",
            "Train Loss: 0.0061, Train Acc: 0.9988\n",
            "\n",
            "Test Loss: 0.0153, Test Acc: 0.9946\n",
            "\n",
            "Train Loss: 0.0049, Train Acc: 0.9992\n",
            "\n",
            "Test Loss: 0.0162, Test Acc: 0.9943\n",
            "\n",
            "Train Loss: 0.0043, Train Acc: 0.9994\n",
            "\n",
            "Test Loss: 0.0171, Test Acc: 0.9943\n",
            "\n",
            "Train Loss: 0.0037, Train Acc: 0.9995\n",
            "\n",
            "Test Loss: 0.0152, Test Acc: 0.9947\n",
            "\n",
            "Train Loss: 0.0033, Train Acc: 0.9996\n",
            "\n",
            "Test Loss: 0.0161, Test Acc: 0.9947\n",
            "\n",
            "Train Loss: 0.0031, Train Acc: 0.9997\n",
            "\n",
            "Test Loss: 0.0152, Test Acc: 0.9946\n",
            "\n",
            "Train Loss: 0.0029, Train Acc: 0.9997\n",
            "\n",
            "Test Loss: 0.0153, Test Acc: 0.9945\n",
            "\n",
            "Train Loss: 0.0027, Train Acc: 0.9998\n",
            "\n",
            "Test Loss: 0.0156, Test Acc: 0.9946\n",
            "\n",
            "Train Loss: 0.0027, Train Acc: 0.9997\n",
            "\n",
            "Test Loss: 0.0154, Test Acc: 0.9947\n",
            "\n",
            "Train Loss: 0.0026, Train Acc: 0.9998\n",
            "\n",
            "Test Loss: 0.0154, Test Acc: 0.9947\n"
          ]
        }
      ]
    },
    {
      "cell_type": "markdown",
      "source": [
        "## Part 2.(B)  "
      ],
      "metadata": {
        "id": "z5i2qGGWEG0O"
      }
    },
    {
      "cell_type": "code",
      "source": [
        "NET = 'ConvNet'\n",
        "device = 'cuda' if torch.cuda.is_available() else 'cpu'\n",
        "model = utils.get_network(NET,channel,num_classes).to(device)\n",
        "class argument():\n",
        "  def __init__(self,device,ipc = 10):\n",
        "    self.num_classes = num_classes\n",
        "    self.dataset = 'MNIST'\n",
        "    self.channel = channel\n",
        "    self.im_size = im_size\n",
        "    self.mean = mean\n",
        "    self.std = std\n",
        "    self.ipc = 10\n",
        "    self.Iteration = 100 #K\n",
        "    self.num_epochs = 2\n",
        "    self.num_op_step = 1\n",
        "    self.lr_img = 0.1\n",
        "    self.lr_net = 0.01\n",
        "    self.epoch_eval_train = 20\n",
        "    self.batch_train = 256\n",
        "    self.outer_loop, self.inner_loop = utils.get_loops(self.ipc)\n",
        "    self.dis_metric = 'ours'\n",
        "    self.init = 'real'\n",
        "    self.eval_mode = 'S'\n",
        "    self.save_path = \"MNISTresult\"\n",
        "\n",
        "\n",
        "\n",
        "    self.device = device\n",
        "    self.dsa = False\n",
        "    self.dsa_param = utils.ParamDiffAug()\n",
        "    self.dc_aug_param = utils.get_daparam(self.dataset, model, NET, ipc = self.ipc)\n",
        "    self.dsa_strategy = self.dc_aug_param['strategy']\n",
        "\n",
        "\n"
      ],
      "metadata": {
        "id": "X5Z21Sc2LIS7"
      },
      "execution_count": null,
      "outputs": []
    },
    {
      "cell_type": "code",
      "source": [
        "# Train\n",
        "def DataD_GradientM(Net, args):\n",
        "  '''\n",
        "    itype:\n",
        "      Net -> str(): net type\n",
        "      image_syn ->\n",
        "      args -> obj: parameters\n",
        "    rtype:\n",
        "      data_save, visual_save, test_acc, train_acc -> list[],list[],list[],list[]\n",
        "  '''\n",
        "  if not os.path.exists(args.save_path):\n",
        "    os.mkdir(args.save_path)\n",
        "\n",
        "  eval_it_pool = list(range(0, args.Iteration + 1, 20))\n",
        "\n",
        "\n",
        "\n",
        "  # record accuracy of each model\n",
        "  records = dict()\n",
        "\n",
        "\n",
        "\n",
        "  records[model] = []\n",
        "\n",
        "  ''' orgainize image part '''\n",
        "  indices_class = [[] for c in range(num_classes)]\n",
        "  images_all = [torch.unsqueeze(dst_train[i][0], dim=0) for i in range(len(dst_train))]\n",
        "  labels_all = [dst_train[i][1] for i in range(len(dst_train))]\n",
        "\n",
        "  for i, lab in enumerate(labels_all):\n",
        "      indices_class[lab].append(i)\n",
        "\n",
        "  images_all = torch.cat(images_all, dim=0).to(args.device)\n",
        "  labels_all = torch.tensor(labels_all, dtype=torch.long, device=args.device)\n",
        "\n",
        "  for c in range(num_classes):\n",
        "      print('class c = %d: %d real images'%(c, len(indices_class[c])))\n",
        "\n",
        "  def get_images(c, n): # get random n images from class c\n",
        "      idx_shuffle = np.random.permutation(indices_class[c])[:n]\n",
        "      return images_all[idx_shuffle]\n",
        "\n",
        "  '''initialize the synthetic data '''\n",
        "  image_syn = torch.randn(size=(args.num_classes*args.ipc, args.channel, args.im_size[0], args.im_size[1]), dtype=torch.float, requires_grad=True, device=args.device)\n",
        "  label_syn = torch.tensor([i // args.num_classes for i in range(args.num_classes * args.ipc)],dtype=torch.long, device=args.device)\n",
        "\n",
        "  if args.init == 'real':\n",
        "    print('initialize synthetic data from random real images')\n",
        "    for c in range(args.num_classes):\n",
        "      image_syn.data[c*args.ipc:(c+1)*args.ipc] = get_images(c, args.ipc).detach().data\n",
        "  else:\n",
        "    print('initialize synthetic data from random noise')\n",
        "\n",
        "  ''' train '''\n",
        "  data_save = []   #final syn-dataset (data_save[0][0] = images; data_save[0][1] = labels)\n",
        "  test_acc = []    #record test accuracy of every iteration\n",
        "  train_acc = []   #record train accuracy of every iteration\n",
        "  all_losses =[]\n",
        "\n",
        "  optimizer_img = torch.optim.SGD([image_syn, ], lr=args.lr_img, momentum=0.5)\n",
        "  optimizer_img.zero_grad()\n",
        "  criterion_img = nn.CrossEntropyLoss().to(args.device)\n",
        "\n",
        "\n",
        "  for it in range(args.Iteration):\n",
        "    print(f'Iteration {it}')\n",
        "    ''' visualization of condensed images per class for MNIST datasets'''\n",
        "    if it%20 == 0 or  it == (args.Iteration-1):\n",
        "      save_name = os.path.join(args.save_path, args.init+'vis_%s_%dipc_iter%d.png'%( args.dataset, args.ipc, it))\n",
        "      image_syn_vis = copy.deepcopy(image_syn.detach().cpu())\n",
        "      for ch in range(channel):\n",
        "          image_syn_vis[:, ch] = image_syn_vis[:, ch]  * std[ch] + mean[ch]\n",
        "          image_syn_vis[image_syn_vis<0] = 0.0\n",
        "          image_syn_vis[image_syn_vis>1] = 1.0\n",
        "          save_image(image_syn_vis, save_name, nrow=args.ipc) # Trying normalize = True/False may get better visual effects.\n",
        "\n",
        "\n",
        "\n",
        "    ''' initial theta '''\n",
        "    net = utils.get_network(NET,args.channel,args.num_classes, args.im_size).to(args.device)\n",
        "    net.train()\n",
        "    net_parameters = list(net.parameters())\n",
        "    optimizer_net = torch.optim.SGD(net.parameters(), lr=args.lr_net)\n",
        "    optimizer_net.zero_grad()\n",
        "\n",
        "    for ol in tqdm.tqdm(range(args.outer_loop)): #outer loop\n",
        "      loss = torch.tensor(0.0).to(args.device)\n",
        "      for c in range(args.num_classes): #class loop\n",
        "        ''' Sample a minibatch pair BTc ∼ T and BSc ∼ S '''\n",
        "        img_real = get_images(c, args.batch_train)\n",
        "        lab_real = torch.ones((img_real.shape[0],), device=args.device, dtype=torch.long) * c\n",
        "        img_syn = image_syn[c*args.ipc:(c+1)*args.ipc].reshape((args.ipc, args.channel, args.im_size[0], args.im_size[1]))\n",
        "        lab_syn = torch.ones((args.ipc,), device=args.device, dtype=torch.long) * c\n",
        "\n",
        "        if args.dsa:\n",
        "          seed = int(time.time() * 1000) % 100000\n",
        "          img_real = utils.DiffAugment(img_real, args.dsa_strategy, seed=seed, param=args.dsa_param)\n",
        "          img_syn = utils.DiffAugment(img_syn, args.dsa_strategy, seed=seed, param=args.dsa_param)\n",
        "\n",
        "\n",
        "        ''' compute loss for both minibatch '''\n",
        "        output_real = net(img_real)\n",
        "        loss_real = criterion_img(output_real, lab_real)\n",
        "        gw_real = torch.autograd.grad(loss_real, net_parameters)\n",
        "        gw_real = list((_.detach().clone() for _ in gw_real))\n",
        "\n",
        "        output_synt = net(img_syn)\n",
        "        loss_synt = criterion_img(output_synt, lab_syn)\n",
        "        gw_synt = torch.autograd.grad(loss_synt, net_parameters, create_graph=True)\n",
        "\n",
        "        loss += utils.match_loss(gw_synt, gw_real, args)\n",
        "\n",
        "      ''' update '''\n",
        "      optimizer_img.zero_grad()\n",
        "      loss.backward()\n",
        "      optimizer_img.step()\n",
        "      if ol == args.outer_loop - 1:\n",
        "        break\n",
        "\n",
        "      image_syn_train, label_syn_train = copy.deepcopy(image_syn.detach()), copy.deepcopy(label_syn.detach())\n",
        "      dst_syn_train = utils.TensorDataset(image_syn_train, label_syn_train)\n",
        "      trainloader = torch.utils.data.DataLoader(dst_syn_train, batch_size=args.batch_train, shuffle=True, num_workers=0)\n",
        "      ''' inner outer '''\n",
        "      for inner in range(args.inner_loop):\n",
        "        utils.epoch('train', trainloader, net, optimizer_net, criterion_img, args, aug = True if args.dsa else False)\n",
        "\n",
        "    ''' evaluate '''\n",
        "    args.epoch_eval_train = 100\n",
        "    net_eval = utils.get_network(NET, channel, num_classes, im_size).to(args.device) # get a random model\n",
        "    image_syn_eval, label_syn_eval = copy.deepcopy(image_syn.detach()), copy.deepcopy(label_syn.detach())\n",
        "    _, acc_train, acc_test = utils.evaluate_synset(it, net_eval, image_syn_eval, label_syn_eval, testloader, args)\n",
        "    test_acc.append(acc_test)\n",
        "    train_acc.append(acc_train)\n",
        "\n",
        "    '''Save the synthetic data result'''\n",
        "    if it == (args.Iteration-1):\n",
        "      data_save.append([copy.deepcopy(image_syn.detach().cpu()), copy.deepcopy(label_syn.detach().cpu())])\n",
        "      torch.save({'data': data_save}, os.path.join(args.save_path, args.init+'res_%s_%dipc.pt'%(args.dataset, args.ipc)))\n",
        "      print(\"The Final Accuracy for the sythetic data result: \", str(test_acc[-1]))\n",
        "  return data_save,  test_acc, train_acc\n",
        "\n",
        "\n",
        "\n"
      ],
      "metadata": {
        "id": "srnrR2OPiUFS"
      },
      "execution_count": null,
      "outputs": []
    },
    {
      "cell_type": "code",
      "source": [
        "args = argument(device, 10)\n",
        "NET = \"ConvNet\"\n",
        "# image_syn, label_syn = init_syn(args, 'real')\n",
        "data_save,  test_acc, train_acc = DataD_GradientM(NET, args)"
      ],
      "metadata": {
        "colab": {
          "base_uri": "https://localhost:8080/"
        },
        "id": "rbZtbaLt-Sp9",
        "outputId": "1b1ed5ce-8a96-4837-e6fb-42136055f9d5"
      },
      "execution_count": null,
      "outputs": [
        {
          "output_type": "stream",
          "name": "stdout",
          "text": [
            "class c = 0: 5923 real images\n",
            "class c = 1: 6742 real images\n",
            "class c = 2: 5958 real images\n",
            "class c = 3: 6131 real images\n",
            "class c = 4: 5842 real images\n",
            "class c = 5: 5421 real images\n",
            "class c = 6: 5918 real images\n",
            "class c = 7: 6265 real images\n",
            "class c = 8: 5851 real images\n",
            "class c = 9: 5949 real images\n",
            "initialize synthetic data from random real images\n",
            "Iteration 0\n"
          ]
        },
        {
          "output_type": "stream",
          "name": "stderr",
          "text": [
            " 90%|█████████ | 9/10 [00:10<00:01,  1.21s/it]\n"
          ]
        },
        {
          "output_type": "stream",
          "name": "stdout",
          "text": [
            "[2023-11-23 17:35:39] Evaluate_00: epoch = 0100 train time = 4 s train loss = 0.248928 train acc = 0.9400, test acc = 0.9512\n",
            "Iteration 1\n"
          ]
        },
        {
          "output_type": "stream",
          "name": "stderr",
          "text": [
            " 90%|█████████ | 9/10 [00:10<00:01,  1.20s/it]\n"
          ]
        },
        {
          "output_type": "stream",
          "name": "stdout",
          "text": [
            "[2023-11-23 17:35:59] Evaluate_01: epoch = 0100 train time = 5 s train loss = 0.252429 train acc = 0.9000, test acc = 0.9488\n",
            "Iteration 2\n"
          ]
        },
        {
          "output_type": "stream",
          "name": "stderr",
          "text": [
            " 90%|█████████ | 9/10 [00:11<00:01,  1.26s/it]\n"
          ]
        },
        {
          "output_type": "stream",
          "name": "stdout",
          "text": [
            "[2023-11-23 17:36:19] Evaluate_02: epoch = 0100 train time = 5 s train loss = 0.178471 train acc = 0.9600, test acc = 0.9589\n",
            "Iteration 3\n"
          ]
        },
        {
          "output_type": "stream",
          "name": "stderr",
          "text": [
            " 90%|█████████ | 9/10 [00:10<00:01,  1.20s/it]\n"
          ]
        },
        {
          "output_type": "stream",
          "name": "stdout",
          "text": [
            "[2023-11-23 17:36:38] Evaluate_03: epoch = 0100 train time = 5 s train loss = 0.181201 train acc = 0.9600, test acc = 0.9551\n",
            "Iteration 4\n"
          ]
        },
        {
          "output_type": "stream",
          "name": "stderr",
          "text": [
            " 90%|█████████ | 9/10 [00:10<00:01,  1.21s/it]\n"
          ]
        },
        {
          "output_type": "stream",
          "name": "stdout",
          "text": [
            "[2023-11-23 17:36:56] Evaluate_04: epoch = 0100 train time = 4 s train loss = 0.238926 train acc = 0.9700, test acc = 0.9502\n",
            "Iteration 5\n"
          ]
        },
        {
          "output_type": "stream",
          "name": "stderr",
          "text": [
            " 90%|█████████ | 9/10 [00:11<00:01,  1.23s/it]\n"
          ]
        },
        {
          "output_type": "stream",
          "name": "stdout",
          "text": [
            "[2023-11-23 17:37:15] Evaluate_05: epoch = 0100 train time = 4 s train loss = 0.196921 train acc = 0.9700, test acc = 0.9566\n",
            "Iteration 6\n"
          ]
        },
        {
          "output_type": "stream",
          "name": "stderr",
          "text": [
            " 90%|█████████ | 9/10 [00:10<00:01,  1.22s/it]\n"
          ]
        },
        {
          "output_type": "stream",
          "name": "stdout",
          "text": [
            "[2023-11-23 17:37:33] Evaluate_06: epoch = 0100 train time = 4 s train loss = 0.211226 train acc = 0.9400, test acc = 0.9569\n",
            "Iteration 7\n"
          ]
        },
        {
          "output_type": "stream",
          "name": "stderr",
          "text": [
            " 90%|█████████ | 9/10 [00:10<00:01,  1.22s/it]\n"
          ]
        },
        {
          "output_type": "stream",
          "name": "stdout",
          "text": [
            "[2023-11-23 17:37:51] Evaluate_07: epoch = 0100 train time = 4 s train loss = 0.175856 train acc = 0.9700, test acc = 0.9579\n",
            "Iteration 8\n"
          ]
        },
        {
          "output_type": "stream",
          "name": "stderr",
          "text": [
            " 90%|█████████ | 9/10 [00:10<00:01,  1.22s/it]\n"
          ]
        },
        {
          "output_type": "stream",
          "name": "stdout",
          "text": [
            "[2023-11-23 17:38:10] Evaluate_08: epoch = 0100 train time = 4 s train loss = 0.277020 train acc = 0.9300, test acc = 0.9581\n",
            "Iteration 9\n"
          ]
        },
        {
          "output_type": "stream",
          "name": "stderr",
          "text": [
            " 90%|█████████ | 9/10 [00:10<00:01,  1.22s/it]\n"
          ]
        },
        {
          "output_type": "stream",
          "name": "stdout",
          "text": [
            "[2023-11-23 17:38:29] Evaluate_09: epoch = 0100 train time = 4 s train loss = 0.251581 train acc = 0.9500, test acc = 0.9594\n",
            "Iteration 10\n"
          ]
        },
        {
          "output_type": "stream",
          "name": "stderr",
          "text": [
            " 90%|█████████ | 9/10 [00:10<00:01,  1.21s/it]\n"
          ]
        },
        {
          "output_type": "stream",
          "name": "stdout",
          "text": [
            "[2023-11-23 17:38:48] Evaluate_10: epoch = 0100 train time = 4 s train loss = 0.221608 train acc = 0.9400, test acc = 0.9571\n",
            "Iteration 11\n"
          ]
        },
        {
          "output_type": "stream",
          "name": "stderr",
          "text": [
            " 90%|█████████ | 9/10 [00:10<00:01,  1.19s/it]\n"
          ]
        },
        {
          "output_type": "stream",
          "name": "stdout",
          "text": [
            "[2023-11-23 17:39:08] Evaluate_11: epoch = 0100 train time = 5 s train loss = 0.240554 train acc = 0.9300, test acc = 0.9579\n",
            "Iteration 12\n"
          ]
        },
        {
          "output_type": "stream",
          "name": "stderr",
          "text": [
            " 90%|█████████ | 9/10 [00:10<00:01,  1.19s/it]\n"
          ]
        },
        {
          "output_type": "stream",
          "name": "stdout",
          "text": [
            "[2023-11-23 17:39:27] Evaluate_12: epoch = 0100 train time = 5 s train loss = 0.268754 train acc = 0.9100, test acc = 0.9625\n",
            "Iteration 13\n"
          ]
        },
        {
          "output_type": "stream",
          "name": "stderr",
          "text": [
            " 90%|█████████ | 9/10 [00:10<00:01,  1.21s/it]\n"
          ]
        },
        {
          "output_type": "stream",
          "name": "stdout",
          "text": [
            "[2023-11-23 17:39:46] Evaluate_13: epoch = 0100 train time = 5 s train loss = 0.187229 train acc = 0.9800, test acc = 0.9585\n",
            "Iteration 14\n"
          ]
        },
        {
          "output_type": "stream",
          "name": "stderr",
          "text": [
            " 90%|█████████ | 9/10 [00:10<00:01,  1.22s/it]\n"
          ]
        },
        {
          "output_type": "stream",
          "name": "stdout",
          "text": [
            "[2023-11-23 17:40:05] Evaluate_14: epoch = 0100 train time = 4 s train loss = 0.337382 train acc = 0.9000, test acc = 0.9615\n",
            "Iteration 15\n"
          ]
        },
        {
          "output_type": "stream",
          "name": "stderr",
          "text": [
            " 90%|█████████ | 9/10 [00:10<00:01,  1.22s/it]\n"
          ]
        },
        {
          "output_type": "stream",
          "name": "stdout",
          "text": [
            "[2023-11-23 17:40:23] Evaluate_15: epoch = 0100 train time = 4 s train loss = 0.218401 train acc = 0.9300, test acc = 0.9610\n",
            "Iteration 16\n"
          ]
        },
        {
          "output_type": "stream",
          "name": "stderr",
          "text": [
            " 90%|█████████ | 9/10 [00:10<00:01,  1.22s/it]\n"
          ]
        },
        {
          "output_type": "stream",
          "name": "stdout",
          "text": [
            "[2023-11-23 17:40:41] Evaluate_16: epoch = 0100 train time = 4 s train loss = 0.385914 train acc = 0.9000, test acc = 0.9587\n",
            "Iteration 17\n"
          ]
        },
        {
          "output_type": "stream",
          "name": "stderr",
          "text": [
            " 90%|█████████ | 9/10 [00:10<00:01,  1.22s/it]\n"
          ]
        },
        {
          "output_type": "stream",
          "name": "stdout",
          "text": [
            "[2023-11-23 17:40:59] Evaluate_17: epoch = 0100 train time = 4 s train loss = 0.273702 train acc = 0.9300, test acc = 0.9601\n",
            "Iteration 18\n"
          ]
        },
        {
          "output_type": "stream",
          "name": "stderr",
          "text": [
            " 90%|█████████ | 9/10 [00:10<00:01,  1.22s/it]\n"
          ]
        },
        {
          "output_type": "stream",
          "name": "stdout",
          "text": [
            "[2023-11-23 17:41:18] Evaluate_18: epoch = 0100 train time = 4 s train loss = 0.363943 train acc = 0.9100, test acc = 0.9585\n",
            "Iteration 19\n"
          ]
        },
        {
          "output_type": "stream",
          "name": "stderr",
          "text": [
            " 90%|█████████ | 9/10 [00:10<00:01,  1.22s/it]\n"
          ]
        },
        {
          "output_type": "stream",
          "name": "stdout",
          "text": [
            "[2023-11-23 17:41:37] Evaluate_19: epoch = 0100 train time = 4 s train loss = 0.240113 train acc = 0.9500, test acc = 0.9571\n",
            "Iteration 20\n"
          ]
        },
        {
          "output_type": "stream",
          "name": "stderr",
          "text": [
            " 90%|█████████ | 9/10 [00:10<00:01,  1.20s/it]\n"
          ]
        },
        {
          "output_type": "stream",
          "name": "stdout",
          "text": [
            "[2023-11-23 17:41:56] Evaluate_20: epoch = 0100 train time = 4 s train loss = 0.307146 train acc = 0.9100, test acc = 0.9615\n",
            "Iteration 21\n"
          ]
        },
        {
          "output_type": "stream",
          "name": "stderr",
          "text": [
            " 90%|█████████ | 9/10 [00:10<00:01,  1.19s/it]\n"
          ]
        },
        {
          "output_type": "stream",
          "name": "stdout",
          "text": [
            "[2023-11-23 17:42:16] Evaluate_21: epoch = 0100 train time = 5 s train loss = 0.366616 train acc = 0.9100, test acc = 0.9602\n",
            "Iteration 22\n"
          ]
        },
        {
          "output_type": "stream",
          "name": "stderr",
          "text": [
            " 90%|█████████ | 9/10 [00:10<00:01,  1.19s/it]\n"
          ]
        },
        {
          "output_type": "stream",
          "name": "stdout",
          "text": [
            "[2023-11-23 17:42:35] Evaluate_22: epoch = 0100 train time = 5 s train loss = 0.370742 train acc = 0.8800, test acc = 0.9595\n",
            "Iteration 23\n"
          ]
        },
        {
          "output_type": "stream",
          "name": "stderr",
          "text": [
            " 90%|█████████ | 9/10 [00:10<00:01,  1.20s/it]\n"
          ]
        },
        {
          "output_type": "stream",
          "name": "stdout",
          "text": [
            "[2023-11-23 17:42:54] Evaluate_23: epoch = 0100 train time = 5 s train loss = 0.336331 train acc = 0.8800, test acc = 0.9568\n",
            "Iteration 24\n"
          ]
        },
        {
          "output_type": "stream",
          "name": "stderr",
          "text": [
            " 90%|█████████ | 9/10 [00:10<00:01,  1.22s/it]\n"
          ]
        },
        {
          "output_type": "stream",
          "name": "stdout",
          "text": [
            "[2023-11-23 17:43:13] Evaluate_24: epoch = 0100 train time = 4 s train loss = 0.385913 train acc = 0.8800, test acc = 0.9598\n",
            "Iteration 25\n"
          ]
        },
        {
          "output_type": "stream",
          "name": "stderr",
          "text": [
            " 90%|█████████ | 9/10 [00:11<00:01,  1.22s/it]\n"
          ]
        },
        {
          "output_type": "stream",
          "name": "stdout",
          "text": [
            "[2023-11-23 17:43:31] Evaluate_25: epoch = 0100 train time = 4 s train loss = 0.271810 train acc = 0.9200, test acc = 0.9586\n",
            "Iteration 26\n"
          ]
        },
        {
          "output_type": "stream",
          "name": "stderr",
          "text": [
            " 90%|█████████ | 9/10 [00:10<00:01,  1.22s/it]\n"
          ]
        },
        {
          "output_type": "stream",
          "name": "stdout",
          "text": [
            "[2023-11-23 17:43:49] Evaluate_26: epoch = 0100 train time = 4 s train loss = 0.230849 train acc = 0.9600, test acc = 0.9591\n",
            "Iteration 27\n"
          ]
        },
        {
          "output_type": "stream",
          "name": "stderr",
          "text": [
            " 90%|█████████ | 9/10 [00:10<00:01,  1.22s/it]\n"
          ]
        },
        {
          "output_type": "stream",
          "name": "stdout",
          "text": [
            "[2023-11-23 17:44:07] Evaluate_27: epoch = 0100 train time = 4 s train loss = 0.340431 train acc = 0.9100, test acc = 0.9596\n",
            "Iteration 28\n"
          ]
        },
        {
          "output_type": "stream",
          "name": "stderr",
          "text": [
            " 90%|█████████ | 9/10 [00:10<00:01,  1.22s/it]\n"
          ]
        },
        {
          "output_type": "stream",
          "name": "stdout",
          "text": [
            "[2023-11-23 17:44:26] Evaluate_28: epoch = 0100 train time = 4 s train loss = 0.214900 train acc = 0.9700, test acc = 0.9598\n",
            "Iteration 29\n"
          ]
        },
        {
          "output_type": "stream",
          "name": "stderr",
          "text": [
            " 90%|█████████ | 9/10 [00:10<00:01,  1.21s/it]\n"
          ]
        },
        {
          "output_type": "stream",
          "name": "stdout",
          "text": [
            "[2023-11-23 17:44:45] Evaluate_29: epoch = 0100 train time = 4 s train loss = 0.327937 train acc = 0.9100, test acc = 0.9602\n",
            "Iteration 30\n"
          ]
        },
        {
          "output_type": "stream",
          "name": "stderr",
          "text": [
            " 90%|█████████ | 9/10 [00:10<00:01,  1.20s/it]\n"
          ]
        },
        {
          "output_type": "stream",
          "name": "stdout",
          "text": [
            "[2023-11-23 17:45:04] Evaluate_30: epoch = 0100 train time = 4 s train loss = 0.318657 train acc = 0.9300, test acc = 0.9587\n",
            "Iteration 31\n"
          ]
        },
        {
          "output_type": "stream",
          "name": "stderr",
          "text": [
            " 90%|█████████ | 9/10 [00:10<00:01,  1.19s/it]\n"
          ]
        },
        {
          "output_type": "stream",
          "name": "stdout",
          "text": [
            "[2023-11-23 17:45:24] Evaluate_31: epoch = 0100 train time = 5 s train loss = 0.309505 train acc = 0.9400, test acc = 0.9616\n",
            "Iteration 32\n"
          ]
        },
        {
          "output_type": "stream",
          "name": "stderr",
          "text": [
            " 90%|█████████ | 9/10 [00:10<00:01,  1.19s/it]\n"
          ]
        },
        {
          "output_type": "stream",
          "name": "stdout",
          "text": [
            "[2023-11-23 17:45:44] Evaluate_32: epoch = 0100 train time = 5 s train loss = 0.314070 train acc = 0.9300, test acc = 0.9602\n",
            "Iteration 33\n"
          ]
        },
        {
          "output_type": "stream",
          "name": "stderr",
          "text": [
            " 90%|█████████ | 9/10 [00:10<00:01,  1.20s/it]\n"
          ]
        },
        {
          "output_type": "stream",
          "name": "stdout",
          "text": [
            "[2023-11-23 17:46:02] Evaluate_33: epoch = 0100 train time = 5 s train loss = 0.316659 train acc = 0.9100, test acc = 0.9617\n",
            "Iteration 34\n"
          ]
        },
        {
          "output_type": "stream",
          "name": "stderr",
          "text": [
            " 90%|█████████ | 9/10 [00:10<00:01,  1.22s/it]\n"
          ]
        },
        {
          "output_type": "stream",
          "name": "stdout",
          "text": [
            "[2023-11-23 17:46:21] Evaluate_34: epoch = 0100 train time = 4 s train loss = 0.433664 train acc = 0.9000, test acc = 0.9597\n",
            "Iteration 35\n"
          ]
        },
        {
          "output_type": "stream",
          "name": "stderr",
          "text": [
            " 90%|█████████ | 9/10 [00:10<00:01,  1.22s/it]\n"
          ]
        },
        {
          "output_type": "stream",
          "name": "stdout",
          "text": [
            "[2023-11-23 17:46:39] Evaluate_35: epoch = 0100 train time = 4 s train loss = 0.309311 train acc = 0.9200, test acc = 0.9597\n",
            "Iteration 36\n"
          ]
        },
        {
          "output_type": "stream",
          "name": "stderr",
          "text": [
            " 90%|█████████ | 9/10 [00:11<00:01,  1.22s/it]\n"
          ]
        },
        {
          "output_type": "stream",
          "name": "stdout",
          "text": [
            "[2023-11-23 17:46:57] Evaluate_36: epoch = 0100 train time = 4 s train loss = 0.347865 train acc = 0.9000, test acc = 0.9618\n",
            "Iteration 37\n"
          ]
        },
        {
          "output_type": "stream",
          "name": "stderr",
          "text": [
            " 90%|█████████ | 9/10 [00:11<00:01,  1.22s/it]\n"
          ]
        },
        {
          "output_type": "stream",
          "name": "stdout",
          "text": [
            "[2023-11-23 17:47:16] Evaluate_37: epoch = 0100 train time = 4 s train loss = 0.348651 train acc = 0.8800, test acc = 0.9572\n",
            "Iteration 38\n"
          ]
        },
        {
          "output_type": "stream",
          "name": "stderr",
          "text": [
            " 90%|█████████ | 9/10 [00:11<00:01,  1.23s/it]\n"
          ]
        },
        {
          "output_type": "stream",
          "name": "stdout",
          "text": [
            "[2023-11-23 17:47:34] Evaluate_38: epoch = 0100 train time = 4 s train loss = 0.429455 train acc = 0.9000, test acc = 0.9612\n",
            "Iteration 39\n"
          ]
        },
        {
          "output_type": "stream",
          "name": "stderr",
          "text": [
            " 90%|█████████ | 9/10 [00:10<00:01,  1.22s/it]\n"
          ]
        },
        {
          "output_type": "stream",
          "name": "stdout",
          "text": [
            "[2023-11-23 17:47:53] Evaluate_39: epoch = 0100 train time = 4 s train loss = 0.365574 train acc = 0.9000, test acc = 0.9586\n",
            "Iteration 40\n"
          ]
        },
        {
          "output_type": "stream",
          "name": "stderr",
          "text": [
            " 90%|█████████ | 9/10 [00:10<00:01,  1.20s/it]\n"
          ]
        },
        {
          "output_type": "stream",
          "name": "stdout",
          "text": [
            "[2023-11-23 17:48:13] Evaluate_40: epoch = 0100 train time = 5 s train loss = 0.336545 train acc = 0.9100, test acc = 0.9624\n",
            "Iteration 41\n"
          ]
        },
        {
          "output_type": "stream",
          "name": "stderr",
          "text": [
            " 90%|█████████ | 9/10 [00:10<00:01,  1.19s/it]\n"
          ]
        },
        {
          "output_type": "stream",
          "name": "stdout",
          "text": [
            "[2023-11-23 17:48:33] Evaluate_41: epoch = 0100 train time = 5 s train loss = 0.289328 train acc = 0.9300, test acc = 0.9608\n",
            "Iteration 42\n"
          ]
        },
        {
          "output_type": "stream",
          "name": "stderr",
          "text": [
            " 90%|█████████ | 9/10 [00:10<00:01,  1.20s/it]\n"
          ]
        },
        {
          "output_type": "stream",
          "name": "stdout",
          "text": [
            "[2023-11-23 17:48:52] Evaluate_42: epoch = 0100 train time = 5 s train loss = 0.481962 train acc = 0.8500, test acc = 0.9597\n",
            "Iteration 43\n"
          ]
        },
        {
          "output_type": "stream",
          "name": "stderr",
          "text": [
            " 90%|█████████ | 9/10 [00:10<00:01,  1.21s/it]\n"
          ]
        },
        {
          "output_type": "stream",
          "name": "stdout",
          "text": [
            "[2023-11-23 17:49:11] Evaluate_43: epoch = 0100 train time = 5 s train loss = 0.301097 train acc = 0.9200, test acc = 0.9630\n",
            "Iteration 44\n"
          ]
        },
        {
          "output_type": "stream",
          "name": "stderr",
          "text": [
            " 90%|█████████ | 9/10 [00:10<00:01,  1.22s/it]\n"
          ]
        },
        {
          "output_type": "stream",
          "name": "stdout",
          "text": [
            "[2023-11-23 17:49:30] Evaluate_44: epoch = 0100 train time = 4 s train loss = 0.321703 train acc = 0.9200, test acc = 0.9609\n",
            "Iteration 45\n"
          ]
        },
        {
          "output_type": "stream",
          "name": "stderr",
          "text": [
            " 90%|█████████ | 9/10 [00:11<00:01,  1.23s/it]\n"
          ]
        },
        {
          "output_type": "stream",
          "name": "stdout",
          "text": [
            "[2023-11-23 17:49:48] Evaluate_45: epoch = 0100 train time = 4 s train loss = 0.343137 train acc = 0.9000, test acc = 0.9591\n",
            "Iteration 46\n"
          ]
        },
        {
          "output_type": "stream",
          "name": "stderr",
          "text": [
            " 90%|█████████ | 9/10 [00:10<00:01,  1.22s/it]\n"
          ]
        },
        {
          "output_type": "stream",
          "name": "stdout",
          "text": [
            "[2023-11-23 17:50:06] Evaluate_46: epoch = 0100 train time = 4 s train loss = 0.329246 train acc = 0.9300, test acc = 0.9591\n",
            "Iteration 47\n"
          ]
        },
        {
          "output_type": "stream",
          "name": "stderr",
          "text": [
            " 90%|█████████ | 9/10 [00:10<00:01,  1.22s/it]\n"
          ]
        },
        {
          "output_type": "stream",
          "name": "stdout",
          "text": [
            "[2023-11-23 17:50:24] Evaluate_47: epoch = 0100 train time = 4 s train loss = 0.353522 train acc = 0.8800, test acc = 0.9586\n",
            "Iteration 48\n"
          ]
        },
        {
          "output_type": "stream",
          "name": "stderr",
          "text": [
            " 90%|█████████ | 9/10 [00:10<00:01,  1.22s/it]\n"
          ]
        },
        {
          "output_type": "stream",
          "name": "stdout",
          "text": [
            "[2023-11-23 17:50:43] Evaluate_48: epoch = 0100 train time = 4 s train loss = 0.289851 train acc = 0.9300, test acc = 0.9596\n",
            "Iteration 49\n"
          ]
        },
        {
          "output_type": "stream",
          "name": "stderr",
          "text": [
            " 90%|█████████ | 9/10 [00:10<00:01,  1.21s/it]\n"
          ]
        },
        {
          "output_type": "stream",
          "name": "stdout",
          "text": [
            "[2023-11-23 17:51:02] Evaluate_49: epoch = 0100 train time = 4 s train loss = 0.417965 train acc = 0.9200, test acc = 0.9585\n",
            "Iteration 50\n"
          ]
        },
        {
          "output_type": "stream",
          "name": "stderr",
          "text": [
            " 90%|█████████ | 9/10 [00:10<00:01,  1.20s/it]\n"
          ]
        },
        {
          "output_type": "stream",
          "name": "stdout",
          "text": [
            "[2023-11-23 17:51:22] Evaluate_50: epoch = 0100 train time = 5 s train loss = 0.285958 train acc = 0.9600, test acc = 0.9612\n",
            "Iteration 51\n"
          ]
        },
        {
          "output_type": "stream",
          "name": "stderr",
          "text": [
            " 90%|█████████ | 9/10 [00:10<00:01,  1.19s/it]\n"
          ]
        },
        {
          "output_type": "stream",
          "name": "stdout",
          "text": [
            "[2023-11-23 17:51:42] Evaluate_51: epoch = 0100 train time = 5 s train loss = 0.370351 train acc = 0.9300, test acc = 0.9619\n",
            "Iteration 52\n"
          ]
        },
        {
          "output_type": "stream",
          "name": "stderr",
          "text": [
            " 90%|█████████ | 9/10 [00:10<00:01,  1.20s/it]\n"
          ]
        },
        {
          "output_type": "stream",
          "name": "stdout",
          "text": [
            "[2023-11-23 17:52:01] Evaluate_52: epoch = 0100 train time = 5 s train loss = 0.331023 train acc = 0.9100, test acc = 0.9590\n",
            "Iteration 53\n"
          ]
        },
        {
          "output_type": "stream",
          "name": "stderr",
          "text": [
            " 90%|█████████ | 9/10 [00:10<00:01,  1.22s/it]\n"
          ]
        },
        {
          "output_type": "stream",
          "name": "stdout",
          "text": [
            "[2023-11-23 17:52:20] Evaluate_53: epoch = 0100 train time = 5 s train loss = 0.353882 train acc = 0.9500, test acc = 0.9607\n",
            "Iteration 54\n"
          ]
        },
        {
          "output_type": "stream",
          "name": "stderr",
          "text": [
            " 90%|█████████ | 9/10 [00:11<00:01,  1.23s/it]\n"
          ]
        },
        {
          "output_type": "stream",
          "name": "stdout",
          "text": [
            "[2023-11-23 17:52:38] Evaluate_54: epoch = 0100 train time = 4 s train loss = 0.338384 train acc = 0.9400, test acc = 0.9642\n",
            "Iteration 55\n"
          ]
        },
        {
          "output_type": "stream",
          "name": "stderr",
          "text": [
            " 90%|█████████ | 9/10 [00:11<00:01,  1.22s/it]\n"
          ]
        },
        {
          "output_type": "stream",
          "name": "stdout",
          "text": [
            "[2023-11-23 17:52:56] Evaluate_55: epoch = 0100 train time = 4 s train loss = 0.340890 train acc = 0.9100, test acc = 0.9629\n",
            "Iteration 56\n"
          ]
        },
        {
          "output_type": "stream",
          "name": "stderr",
          "text": [
            " 90%|█████████ | 9/10 [00:10<00:01,  1.22s/it]\n"
          ]
        },
        {
          "output_type": "stream",
          "name": "stdout",
          "text": [
            "[2023-11-23 17:53:15] Evaluate_56: epoch = 0100 train time = 4 s train loss = 0.362999 train acc = 0.9100, test acc = 0.9642\n",
            "Iteration 57\n"
          ]
        },
        {
          "output_type": "stream",
          "name": "stderr",
          "text": [
            " 90%|█████████ | 9/10 [00:11<00:01,  1.23s/it]\n"
          ]
        },
        {
          "output_type": "stream",
          "name": "stdout",
          "text": [
            "[2023-11-23 17:53:33] Evaluate_57: epoch = 0100 train time = 4 s train loss = 0.385937 train acc = 0.9000, test acc = 0.9619\n",
            "Iteration 58\n"
          ]
        },
        {
          "output_type": "stream",
          "name": "stderr",
          "text": [
            " 90%|█████████ | 9/10 [00:10<00:01,  1.22s/it]\n"
          ]
        },
        {
          "output_type": "stream",
          "name": "stdout",
          "text": [
            "[2023-11-23 17:53:52] Evaluate_58: epoch = 0100 train time = 4 s train loss = 0.456926 train acc = 0.8700, test acc = 0.9621\n",
            "Iteration 59\n"
          ]
        },
        {
          "output_type": "stream",
          "name": "stderr",
          "text": [
            " 90%|█████████ | 9/10 [00:10<00:01,  1.21s/it]\n"
          ]
        },
        {
          "output_type": "stream",
          "name": "stdout",
          "text": [
            "[2023-11-23 17:54:12] Evaluate_59: epoch = 0100 train time = 4 s train loss = 0.464740 train acc = 0.8600, test acc = 0.9622\n",
            "Iteration 60\n"
          ]
        },
        {
          "output_type": "stream",
          "name": "stderr",
          "text": [
            " 90%|█████████ | 9/10 [00:10<00:01,  1.20s/it]\n"
          ]
        },
        {
          "output_type": "stream",
          "name": "stdout",
          "text": [
            "[2023-11-23 17:54:32] Evaluate_60: epoch = 0100 train time = 5 s train loss = 0.345536 train acc = 0.9300, test acc = 0.9600\n",
            "Iteration 61\n"
          ]
        },
        {
          "output_type": "stream",
          "name": "stderr",
          "text": [
            " 90%|█████████ | 9/10 [00:10<00:01,  1.20s/it]\n"
          ]
        },
        {
          "output_type": "stream",
          "name": "stdout",
          "text": [
            "[2023-11-23 17:54:51] Evaluate_61: epoch = 0100 train time = 5 s train loss = 0.436435 train acc = 0.8700, test acc = 0.9621\n",
            "Iteration 62\n"
          ]
        },
        {
          "output_type": "stream",
          "name": "stderr",
          "text": [
            " 90%|█████████ | 9/10 [00:10<00:01,  1.21s/it]\n"
          ]
        },
        {
          "output_type": "stream",
          "name": "stdout",
          "text": [
            "[2023-11-23 17:55:10] Evaluate_62: epoch = 0100 train time = 5 s train loss = 0.324244 train acc = 0.9200, test acc = 0.9614\n",
            "Iteration 63\n"
          ]
        },
        {
          "output_type": "stream",
          "name": "stderr",
          "text": [
            " 90%|█████████ | 9/10 [00:10<00:01,  1.22s/it]\n"
          ]
        },
        {
          "output_type": "stream",
          "name": "stdout",
          "text": [
            "[2023-11-23 17:55:29] Evaluate_63: epoch = 0100 train time = 4 s train loss = 0.300912 train acc = 0.9500, test acc = 0.9602\n",
            "Iteration 64\n"
          ]
        },
        {
          "output_type": "stream",
          "name": "stderr",
          "text": [
            " 90%|█████████ | 9/10 [00:11<00:01,  1.22s/it]\n"
          ]
        },
        {
          "output_type": "stream",
          "name": "stdout",
          "text": [
            "[2023-11-23 17:55:47] Evaluate_64: epoch = 0100 train time = 4 s train loss = 0.384164 train acc = 0.9000, test acc = 0.9608\n",
            "Iteration 65\n"
          ]
        },
        {
          "output_type": "stream",
          "name": "stderr",
          "text": [
            " 90%|█████████ | 9/10 [00:10<00:01,  1.22s/it]\n"
          ]
        },
        {
          "output_type": "stream",
          "name": "stdout",
          "text": [
            "[2023-11-23 17:56:05] Evaluate_65: epoch = 0100 train time = 4 s train loss = 0.376058 train acc = 0.9200, test acc = 0.9597\n",
            "Iteration 66\n"
          ]
        },
        {
          "output_type": "stream",
          "name": "stderr",
          "text": [
            " 90%|█████████ | 9/10 [00:11<00:01,  1.23s/it]\n"
          ]
        },
        {
          "output_type": "stream",
          "name": "stdout",
          "text": [
            "[2023-11-23 17:56:24] Evaluate_66: epoch = 0100 train time = 4 s train loss = 0.328119 train acc = 0.9300, test acc = 0.9571\n",
            "Iteration 67\n"
          ]
        },
        {
          "output_type": "stream",
          "name": "stderr",
          "text": [
            " 90%|█████████ | 9/10 [00:11<00:01,  1.22s/it]\n"
          ]
        },
        {
          "output_type": "stream",
          "name": "stdout",
          "text": [
            "[2023-11-23 17:56:42] Evaluate_67: epoch = 0100 train time = 4 s train loss = 0.374334 train acc = 0.9200, test acc = 0.9627\n",
            "Iteration 68\n"
          ]
        },
        {
          "output_type": "stream",
          "name": "stderr",
          "text": [
            " 90%|█████████ | 9/10 [00:10<00:01,  1.21s/it]\n"
          ]
        },
        {
          "output_type": "stream",
          "name": "stdout",
          "text": [
            "[2023-11-23 17:57:01] Evaluate_68: epoch = 0100 train time = 4 s train loss = 0.507155 train acc = 0.8600, test acc = 0.9597\n",
            "Iteration 69\n"
          ]
        },
        {
          "output_type": "stream",
          "name": "stderr",
          "text": [
            " 90%|█████████ | 9/10 [00:10<00:01,  1.20s/it]\n"
          ]
        },
        {
          "output_type": "stream",
          "name": "stdout",
          "text": [
            "[2023-11-23 17:57:21] Evaluate_69: epoch = 0100 train time = 4 s train loss = 0.382280 train acc = 0.9300, test acc = 0.9591\n",
            "Iteration 70\n"
          ]
        },
        {
          "output_type": "stream",
          "name": "stderr",
          "text": [
            " 90%|█████████ | 9/10 [00:10<00:01,  1.19s/it]\n"
          ]
        },
        {
          "output_type": "stream",
          "name": "stdout",
          "text": [
            "[2023-11-23 17:57:41] Evaluate_70: epoch = 0100 train time = 5 s train loss = 0.322685 train acc = 0.9500, test acc = 0.9607\n",
            "Iteration 71\n"
          ]
        },
        {
          "output_type": "stream",
          "name": "stderr",
          "text": [
            " 90%|█████████ | 9/10 [00:10<00:01,  1.19s/it]\n"
          ]
        },
        {
          "output_type": "stream",
          "name": "stdout",
          "text": [
            "[2023-11-23 17:58:00] Evaluate_71: epoch = 0100 train time = 5 s train loss = 0.341742 train acc = 0.9400, test acc = 0.9585\n",
            "Iteration 72\n"
          ]
        },
        {
          "output_type": "stream",
          "name": "stderr",
          "text": [
            " 90%|█████████ | 9/10 [00:10<00:01,  1.20s/it]\n"
          ]
        },
        {
          "output_type": "stream",
          "name": "stdout",
          "text": [
            "[2023-11-23 17:58:19] Evaluate_72: epoch = 0100 train time = 5 s train loss = 0.379867 train acc = 0.9100, test acc = 0.9625\n",
            "Iteration 73\n"
          ]
        },
        {
          "output_type": "stream",
          "name": "stderr",
          "text": [
            " 90%|█████████ | 9/10 [00:10<00:01,  1.21s/it]\n"
          ]
        },
        {
          "output_type": "stream",
          "name": "stdout",
          "text": [
            "[2023-11-23 17:58:37] Evaluate_73: epoch = 0100 train time = 4 s train loss = 0.321811 train acc = 0.9500, test acc = 0.9612\n",
            "Iteration 74\n"
          ]
        },
        {
          "output_type": "stream",
          "name": "stderr",
          "text": [
            " 90%|█████████ | 9/10 [00:10<00:01,  1.21s/it]\n"
          ]
        },
        {
          "output_type": "stream",
          "name": "stdout",
          "text": [
            "[2023-11-23 17:58:55] Evaluate_74: epoch = 0100 train time = 4 s train loss = 0.386512 train acc = 0.8800, test acc = 0.9553\n",
            "Iteration 75\n"
          ]
        },
        {
          "output_type": "stream",
          "name": "stderr",
          "text": [
            " 90%|█████████ | 9/10 [00:10<00:01,  1.21s/it]\n"
          ]
        },
        {
          "output_type": "stream",
          "name": "stdout",
          "text": [
            "[2023-11-23 17:59:14] Evaluate_75: epoch = 0100 train time = 4 s train loss = 0.347312 train acc = 0.9400, test acc = 0.9607\n",
            "Iteration 76\n"
          ]
        },
        {
          "output_type": "stream",
          "name": "stderr",
          "text": [
            " 90%|█████████ | 9/10 [00:10<00:01,  1.21s/it]\n"
          ]
        },
        {
          "output_type": "stream",
          "name": "stdout",
          "text": [
            "[2023-11-23 17:59:32] Evaluate_76: epoch = 0100 train time = 4 s train loss = 0.408803 train acc = 0.8900, test acc = 0.9634\n",
            "Iteration 77\n"
          ]
        },
        {
          "output_type": "stream",
          "name": "stderr",
          "text": [
            " 90%|█████████ | 9/10 [00:10<00:01,  1.21s/it]\n"
          ]
        },
        {
          "output_type": "stream",
          "name": "stdout",
          "text": [
            "[2023-11-23 17:59:50] Evaluate_77: epoch = 0100 train time = 4 s train loss = 0.406861 train acc = 0.8800, test acc = 0.9634\n",
            "Iteration 78\n"
          ]
        },
        {
          "output_type": "stream",
          "name": "stderr",
          "text": [
            " 90%|█████████ | 9/10 [00:10<00:01,  1.20s/it]\n"
          ]
        },
        {
          "output_type": "stream",
          "name": "stdout",
          "text": [
            "[2023-11-23 18:00:09] Evaluate_78: epoch = 0100 train time = 4 s train loss = 0.264386 train acc = 0.9400, test acc = 0.9607\n",
            "Iteration 79\n"
          ]
        },
        {
          "output_type": "stream",
          "name": "stderr",
          "text": [
            " 90%|█████████ | 9/10 [00:10<00:01,  1.19s/it]\n"
          ]
        },
        {
          "output_type": "stream",
          "name": "stdout",
          "text": [
            "[2023-11-23 18:00:28] Evaluate_79: epoch = 0100 train time = 4 s train loss = 0.412898 train acc = 0.9300, test acc = 0.9604\n",
            "Iteration 80\n"
          ]
        },
        {
          "output_type": "stream",
          "name": "stderr",
          "text": [
            " 90%|█████████ | 9/10 [00:10<00:01,  1.18s/it]\n"
          ]
        },
        {
          "output_type": "stream",
          "name": "stdout",
          "text": [
            "[2023-11-23 18:00:48] Evaluate_80: epoch = 0100 train time = 5 s train loss = 0.367070 train acc = 0.9200, test acc = 0.9569\n",
            "Iteration 81\n"
          ]
        },
        {
          "output_type": "stream",
          "name": "stderr",
          "text": [
            " 90%|█████████ | 9/10 [00:10<00:01,  1.17s/it]\n"
          ]
        },
        {
          "output_type": "stream",
          "name": "stdout",
          "text": [
            "[2023-11-23 18:01:07] Evaluate_81: epoch = 0100 train time = 5 s train loss = 0.413926 train acc = 0.8600, test acc = 0.9588\n",
            "Iteration 82\n"
          ]
        },
        {
          "output_type": "stream",
          "name": "stderr",
          "text": [
            " 90%|█████████ | 9/10 [00:10<00:01,  1.18s/it]\n"
          ]
        },
        {
          "output_type": "stream",
          "name": "stdout",
          "text": [
            "[2023-11-23 18:01:26] Evaluate_82: epoch = 0100 train time = 5 s train loss = 0.467416 train acc = 0.9000, test acc = 0.9604\n",
            "Iteration 83\n"
          ]
        },
        {
          "output_type": "stream",
          "name": "stderr",
          "text": [
            " 90%|█████████ | 9/10 [00:10<00:01,  1.19s/it]\n"
          ]
        },
        {
          "output_type": "stream",
          "name": "stdout",
          "text": [
            "[2023-11-23 18:01:45] Evaluate_83: epoch = 0100 train time = 5 s train loss = 0.428971 train acc = 0.9000, test acc = 0.9610\n",
            "Iteration 84\n"
          ]
        },
        {
          "output_type": "stream",
          "name": "stderr",
          "text": [
            " 90%|█████████ | 9/10 [00:10<00:01,  1.20s/it]\n"
          ]
        },
        {
          "output_type": "stream",
          "name": "stdout",
          "text": [
            "[2023-11-23 18:02:03] Evaluate_84: epoch = 0100 train time = 4 s train loss = 0.411178 train acc = 0.8900, test acc = 0.9624\n",
            "Iteration 85\n"
          ]
        },
        {
          "output_type": "stream",
          "name": "stderr",
          "text": [
            " 90%|█████████ | 9/10 [00:10<00:01,  1.21s/it]\n"
          ]
        },
        {
          "output_type": "stream",
          "name": "stdout",
          "text": [
            "[2023-11-23 18:02:22] Evaluate_85: epoch = 0100 train time = 4 s train loss = 0.471467 train acc = 0.8900, test acc = 0.9612\n",
            "Iteration 86\n"
          ]
        },
        {
          "output_type": "stream",
          "name": "stderr",
          "text": [
            " 90%|█████████ | 9/10 [00:10<00:01,  1.20s/it]\n"
          ]
        },
        {
          "output_type": "stream",
          "name": "stdout",
          "text": [
            "[2023-11-23 18:02:40] Evaluate_86: epoch = 0100 train time = 4 s train loss = 0.422189 train acc = 0.9100, test acc = 0.9584\n",
            "Iteration 87\n"
          ]
        },
        {
          "output_type": "stream",
          "name": "stderr",
          "text": [
            " 90%|█████████ | 9/10 [00:10<00:01,  1.20s/it]\n"
          ]
        },
        {
          "output_type": "stream",
          "name": "stdout",
          "text": [
            "[2023-11-23 18:02:58] Evaluate_87: epoch = 0100 train time = 4 s train loss = 0.416108 train acc = 0.8900, test acc = 0.9633\n",
            "Iteration 88\n"
          ]
        },
        {
          "output_type": "stream",
          "name": "stderr",
          "text": [
            " 90%|█████████ | 9/10 [00:10<00:01,  1.20s/it]\n"
          ]
        },
        {
          "output_type": "stream",
          "name": "stdout",
          "text": [
            "[2023-11-23 18:03:16] Evaluate_88: epoch = 0100 train time = 4 s train loss = 0.373477 train acc = 0.9500, test acc = 0.9607\n",
            "Iteration 89\n"
          ]
        },
        {
          "output_type": "stream",
          "name": "stderr",
          "text": [
            " 90%|█████████ | 9/10 [00:10<00:01,  1.20s/it]\n"
          ]
        },
        {
          "output_type": "stream",
          "name": "stdout",
          "text": [
            "[2023-11-23 18:03:35] Evaluate_89: epoch = 0100 train time = 4 s train loss = 0.467222 train acc = 0.9300, test acc = 0.9580\n",
            "Iteration 90\n"
          ]
        },
        {
          "output_type": "stream",
          "name": "stderr",
          "text": [
            " 90%|█████████ | 9/10 [00:10<00:01,  1.19s/it]\n"
          ]
        },
        {
          "output_type": "stream",
          "name": "stdout",
          "text": [
            "[2023-11-23 18:03:54] Evaluate_90: epoch = 0100 train time = 4 s train loss = 0.350329 train acc = 0.9300, test acc = 0.9596\n",
            "Iteration 91\n"
          ]
        },
        {
          "output_type": "stream",
          "name": "stderr",
          "text": [
            " 90%|█████████ | 9/10 [00:10<00:01,  1.18s/it]\n"
          ]
        },
        {
          "output_type": "stream",
          "name": "stdout",
          "text": [
            "[2023-11-23 18:04:14] Evaluate_91: epoch = 0100 train time = 5 s train loss = 0.453063 train acc = 0.9100, test acc = 0.9613\n",
            "Iteration 92\n"
          ]
        },
        {
          "output_type": "stream",
          "name": "stderr",
          "text": [
            " 90%|█████████ | 9/10 [00:10<00:01,  1.17s/it]\n"
          ]
        },
        {
          "output_type": "stream",
          "name": "stdout",
          "text": [
            "[2023-11-23 18:04:34] Evaluate_92: epoch = 0100 train time = 5 s train loss = 0.386411 train acc = 0.9100, test acc = 0.9622\n",
            "Iteration 93\n"
          ]
        },
        {
          "output_type": "stream",
          "name": "stderr",
          "text": [
            " 90%|█████████ | 9/10 [00:10<00:01,  1.18s/it]\n"
          ]
        },
        {
          "output_type": "stream",
          "name": "stdout",
          "text": [
            "[2023-11-23 18:04:53] Evaluate_93: epoch = 0100 train time = 5 s train loss = 0.333439 train acc = 0.9500, test acc = 0.9596\n",
            "Iteration 94\n"
          ]
        },
        {
          "output_type": "stream",
          "name": "stderr",
          "text": [
            " 90%|█████████ | 9/10 [00:10<00:01,  1.19s/it]\n"
          ]
        },
        {
          "output_type": "stream",
          "name": "stdout",
          "text": [
            "[2023-11-23 18:05:11] Evaluate_94: epoch = 0100 train time = 5 s train loss = 0.509639 train acc = 0.8400, test acc = 0.9586\n",
            "Iteration 95\n"
          ]
        },
        {
          "output_type": "stream",
          "name": "stderr",
          "text": [
            " 90%|█████████ | 9/10 [00:10<00:01,  1.20s/it]\n"
          ]
        },
        {
          "output_type": "stream",
          "name": "stdout",
          "text": [
            "[2023-11-23 18:05:30] Evaluate_95: epoch = 0100 train time = 4 s train loss = 0.519596 train acc = 0.8600, test acc = 0.9627\n",
            "Iteration 96\n"
          ]
        },
        {
          "output_type": "stream",
          "name": "stderr",
          "text": [
            " 90%|█████████ | 9/10 [00:10<00:01,  1.20s/it]\n"
          ]
        },
        {
          "output_type": "stream",
          "name": "stdout",
          "text": [
            "[2023-11-23 18:05:48] Evaluate_96: epoch = 0100 train time = 4 s train loss = 0.435436 train acc = 0.8800, test acc = 0.9611\n",
            "Iteration 97\n"
          ]
        },
        {
          "output_type": "stream",
          "name": "stderr",
          "text": [
            " 90%|█████████ | 9/10 [00:10<00:01,  1.20s/it]\n"
          ]
        },
        {
          "output_type": "stream",
          "name": "stdout",
          "text": [
            "[2023-11-23 18:06:06] Evaluate_97: epoch = 0100 train time = 4 s train loss = 0.345663 train acc = 0.9100, test acc = 0.9577\n",
            "Iteration 98\n"
          ]
        },
        {
          "output_type": "stream",
          "name": "stderr",
          "text": [
            " 90%|█████████ | 9/10 [00:10<00:01,  1.21s/it]\n"
          ]
        },
        {
          "output_type": "stream",
          "name": "stdout",
          "text": [
            "[2023-11-23 18:06:24] Evaluate_98: epoch = 0100 train time = 4 s train loss = 0.501624 train acc = 0.8800, test acc = 0.9640\n",
            "Iteration 99\n"
          ]
        },
        {
          "output_type": "stream",
          "name": "stderr",
          "text": [
            " 90%|█████████ | 9/10 [00:10<00:01,  1.22s/it]\n"
          ]
        },
        {
          "output_type": "stream",
          "name": "stdout",
          "text": [
            "[2023-11-23 18:06:42] Evaluate_99: epoch = 0100 train time = 4 s train loss = 0.480003 train acc = 0.8600, test acc = 0.9610\n",
            "The Final Accuracy for the sythetic data result:  0.961\n"
          ]
        }
      ]
    },
    {
      "cell_type": "markdown",
      "source": [
        "## Part2(c)\n",
        "Provide the visualization -> saved in the file"
      ],
      "metadata": {
        "id": "ZuUVSWJ1AlH1"
      }
    },
    {
      "cell_type": "markdown",
      "source": [
        "##Part 2(d)\n",
        "condensed images are initialized with Gaussian noise and real data\n"
      ],
      "metadata": {
        "id": "aMS5F6E12-vc"
      }
    },
    {
      "cell_type": "code",
      "source": [
        "mnist_dataset = 'MNIST'\n",
        "mnist_data_path = './mnist_data'\n",
        "channel, im_size, num_classes, class_names, mean, std, dst_train, dst_test, testloader = utils.get_dataset(mnist_dataset, mnist_data_path)"
      ],
      "metadata": {
        "colab": {
          "base_uri": "https://localhost:8080/"
        },
        "id": "KRK62_EcBgjs",
        "outputId": "ffcbc64a-4404-40e3-82dc-4e277151f550"
      },
      "execution_count": null,
      "outputs": [
        {
          "output_type": "stream",
          "name": "stdout",
          "text": [
            "Downloading http://yann.lecun.com/exdb/mnist/train-images-idx3-ubyte.gz\n",
            "Using downloaded and verified file: ./mnist_data/MNIST/raw/train-images-idx3-ubyte.gz\n",
            "Extracting ./mnist_data/MNIST/raw/train-images-idx3-ubyte.gz to ./mnist_data/MNIST/raw\n",
            "\n",
            "Downloading http://yann.lecun.com/exdb/mnist/train-labels-idx1-ubyte.gz\n",
            "Using downloaded and verified file: ./mnist_data/MNIST/raw/train-labels-idx1-ubyte.gz\n",
            "Extracting ./mnist_data/MNIST/raw/train-labels-idx1-ubyte.gz to ./mnist_data/MNIST/raw\n",
            "\n",
            "Downloading http://yann.lecun.com/exdb/mnist/t10k-images-idx3-ubyte.gz\n",
            "Downloading http://yann.lecun.com/exdb/mnist/t10k-images-idx3-ubyte.gz to ./mnist_data/MNIST/raw/t10k-images-idx3-ubyte.gz\n"
          ]
        },
        {
          "output_type": "stream",
          "name": "stderr",
          "text": [
            "100%|██████████| 1648877/1648877 [00:00<00:00, 31493273.63it/s]"
          ]
        },
        {
          "output_type": "stream",
          "name": "stdout",
          "text": [
            "Extracting ./mnist_data/MNIST/raw/t10k-images-idx3-ubyte.gz to ./mnist_data/MNIST/raw\n"
          ]
        },
        {
          "output_type": "stream",
          "name": "stderr",
          "text": [
            "\n"
          ]
        },
        {
          "output_type": "stream",
          "name": "stdout",
          "text": [
            "\n",
            "Downloading http://yann.lecun.com/exdb/mnist/t10k-labels-idx1-ubyte.gz\n",
            "Downloading http://yann.lecun.com/exdb/mnist/t10k-labels-idx1-ubyte.gz to ./mnist_data/MNIST/raw/t10k-labels-idx1-ubyte.gz\n"
          ]
        },
        {
          "output_type": "stream",
          "name": "stderr",
          "text": [
            "100%|██████████| 4542/4542 [00:00<00:00, 17381869.31it/s]"
          ]
        },
        {
          "output_type": "stream",
          "name": "stdout",
          "text": [
            "Extracting ./mnist_data/MNIST/raw/t10k-labels-idx1-ubyte.gz to ./mnist_data/MNIST/raw\n",
            "\n"
          ]
        },
        {
          "output_type": "stream",
          "name": "stderr",
          "text": [
            "\n"
          ]
        }
      ]
    },
    {
      "cell_type": "code",
      "source": [
        "NET = 'ConvNet'\n",
        "device = 'cuda' if torch.cuda.is_available() else 'cpu'\n",
        "model = utils.get_network(NET,channel,num_classes).to(device)\n",
        "class argument():\n",
        "  def __init__(self,device,ipc = 10):\n",
        "    self.num_classes = num_classes\n",
        "    self.dataset = 'MNIST'\n",
        "    self.channel = channel\n",
        "    self.im_size = im_size\n",
        "    self.mean = mean\n",
        "    self.std = std\n",
        "    self.ipc = 10\n",
        "    self.Iteration = 100 #K\n",
        "    self.num_epochs = 2\n",
        "    self.num_op_step = 1\n",
        "    self.lr_img = 0.1\n",
        "    self.lr_net = 0.01\n",
        "    self.epoch_eval_train = 20\n",
        "    self.batch_train = 256\n",
        "    self.outer_loop, self.inner_loop = utils.get_loops(self.ipc)\n",
        "    self.dis_metric = 'ours'\n",
        "    self.init = 'noise'\n",
        "    self.eval_mode = 'S'\n",
        "    self.save_path = \"MNISTresult\"\n",
        "    self.device = device\n",
        "    self.dsa = False\n",
        "    self.dsa_param = utils.ParamDiffAug()\n",
        "    self.dc_aug_param = utils.get_daparam(self.dataset, model, NET, ipc = self.ipc)\n",
        "    self.dsa_strategy = self.dc_aug_param['strategy']\n",
        "\n",
        "\n"
      ],
      "metadata": {
        "id": "vrnR_HJdBsKz"
      },
      "execution_count": null,
      "outputs": []
    },
    {
      "cell_type": "code",
      "source": [
        "args = argument(device,ipc=10)\n",
        "NET = \"ConvNet\"\n",
        "# image_syn, label_syn = init_syn(args, 'real')\n",
        "rn_mn_data_save, rn_mn_test_acc, rn_mn_train_acc = DataD_GradientM(NET, args)"
      ],
      "metadata": {
        "colab": {
          "base_uri": "https://localhost:8080/"
        },
        "id": "oNFbD_DM1IL7",
        "outputId": "35117993-3877-4cee-d56f-a3435c0ff88a"
      },
      "execution_count": null,
      "outputs": [
        {
          "output_type": "stream",
          "name": "stdout",
          "text": [
            "class c = 0: 5923 real images\n",
            "class c = 1: 6742 real images\n",
            "class c = 2: 5958 real images\n",
            "class c = 3: 6131 real images\n",
            "class c = 4: 5842 real images\n",
            "class c = 5: 5421 real images\n",
            "class c = 6: 5918 real images\n",
            "class c = 7: 6265 real images\n",
            "class c = 8: 5851 real images\n",
            "class c = 9: 5949 real images\n",
            "initialize synthetic data from random noise\n",
            "Iteration 0\n"
          ]
        },
        {
          "output_type": "stream",
          "name": "stderr",
          "text": [
            " 90%|█████████ | 9/10 [00:12<00:01,  1.41s/it]\n"
          ]
        },
        {
          "output_type": "stream",
          "name": "stdout",
          "text": [
            "[2023-11-23 18:22:57] Evaluate_00: epoch = 0100 train time = 5 s train loss = 0.976165 train acc = 0.8000, test acc = 0.5275\n",
            "Iteration 1\n"
          ]
        },
        {
          "output_type": "stream",
          "name": "stderr",
          "text": [
            " 90%|█████████ | 9/10 [00:11<00:01,  1.23s/it]\n"
          ]
        },
        {
          "output_type": "stream",
          "name": "stdout",
          "text": [
            "[2023-11-23 18:23:16] Evaluate_01: epoch = 0100 train time = 4 s train loss = 0.880821 train acc = 0.7500, test acc = 0.7507\n",
            "Iteration 2\n"
          ]
        },
        {
          "output_type": "stream",
          "name": "stderr",
          "text": [
            " 90%|█████████ | 9/10 [00:11<00:01,  1.22s/it]\n"
          ]
        },
        {
          "output_type": "stream",
          "name": "stdout",
          "text": [
            "[2023-11-23 18:23:34] Evaluate_02: epoch = 0100 train time = 4 s train loss = 0.573130 train acc = 0.8600, test acc = 0.8054\n",
            "Iteration 3\n"
          ]
        },
        {
          "output_type": "stream",
          "name": "stderr",
          "text": [
            " 90%|█████████ | 9/10 [00:10<00:01,  1.22s/it]\n"
          ]
        },
        {
          "output_type": "stream",
          "name": "stdout",
          "text": [
            "[2023-11-23 18:23:52] Evaluate_03: epoch = 0100 train time = 4 s train loss = 0.592839 train acc = 0.8400, test acc = 0.8230\n",
            "Iteration 4\n"
          ]
        },
        {
          "output_type": "stream",
          "name": "stderr",
          "text": [
            " 90%|█████████ | 9/10 [00:10<00:01,  1.21s/it]\n"
          ]
        },
        {
          "output_type": "stream",
          "name": "stdout",
          "text": [
            "[2023-11-23 18:24:11] Evaluate_04: epoch = 0100 train time = 4 s train loss = 0.579488 train acc = 0.8500, test acc = 0.8218\n",
            "Iteration 5\n"
          ]
        },
        {
          "output_type": "stream",
          "name": "stderr",
          "text": [
            " 90%|█████████ | 9/10 [00:11<00:01,  1.22s/it]\n"
          ]
        },
        {
          "output_type": "stream",
          "name": "stdout",
          "text": [
            "[2023-11-23 18:24:29] Evaluate_05: epoch = 0100 train time = 4 s train loss = 0.617369 train acc = 0.8300, test acc = 0.8499\n",
            "Iteration 6\n"
          ]
        },
        {
          "output_type": "stream",
          "name": "stderr",
          "text": [
            " 90%|█████████ | 9/10 [00:10<00:01,  1.22s/it]\n"
          ]
        },
        {
          "output_type": "stream",
          "name": "stdout",
          "text": [
            "[2023-11-23 18:24:48] Evaluate_06: epoch = 0100 train time = 4 s train loss = 0.411377 train acc = 0.8900, test acc = 0.8622\n",
            "Iteration 7\n"
          ]
        },
        {
          "output_type": "stream",
          "name": "stderr",
          "text": [
            " 90%|█████████ | 9/10 [00:10<00:01,  1.20s/it]\n"
          ]
        },
        {
          "output_type": "stream",
          "name": "stdout",
          "text": [
            "[2023-11-23 18:25:07] Evaluate_07: epoch = 0100 train time = 4 s train loss = 0.498200 train acc = 0.8700, test acc = 0.8625\n",
            "Iteration 8\n"
          ]
        },
        {
          "output_type": "stream",
          "name": "stderr",
          "text": [
            " 90%|█████████ | 9/10 [00:10<00:01,  1.19s/it]\n"
          ]
        },
        {
          "output_type": "stream",
          "name": "stdout",
          "text": [
            "[2023-11-23 18:25:27] Evaluate_08: epoch = 0100 train time = 5 s train loss = 0.569893 train acc = 0.8200, test acc = 0.8766\n",
            "Iteration 9\n"
          ]
        },
        {
          "output_type": "stream",
          "name": "stderr",
          "text": [
            " 90%|█████████ | 9/10 [00:10<00:01,  1.19s/it]\n"
          ]
        },
        {
          "output_type": "stream",
          "name": "stdout",
          "text": [
            "[2023-11-23 18:25:46] Evaluate_09: epoch = 0100 train time = 5 s train loss = 0.523629 train acc = 0.8600, test acc = 0.8632\n",
            "Iteration 10\n"
          ]
        },
        {
          "output_type": "stream",
          "name": "stderr",
          "text": [
            " 90%|█████████ | 9/10 [00:10<00:01,  1.21s/it]\n"
          ]
        },
        {
          "output_type": "stream",
          "name": "stdout",
          "text": [
            "[2023-11-23 18:26:05] Evaluate_10: epoch = 0100 train time = 5 s train loss = 0.467351 train acc = 0.8500, test acc = 0.8767\n",
            "Iteration 11\n"
          ]
        },
        {
          "output_type": "stream",
          "name": "stderr",
          "text": [
            " 90%|█████████ | 9/10 [00:10<00:01,  1.21s/it]\n"
          ]
        },
        {
          "output_type": "stream",
          "name": "stdout",
          "text": [
            "[2023-11-23 18:26:24] Evaluate_11: epoch = 0100 train time = 4 s train loss = 0.472643 train acc = 0.8800, test acc = 0.8656\n",
            "Iteration 12\n"
          ]
        },
        {
          "output_type": "stream",
          "name": "stderr",
          "text": [
            " 90%|█████████ | 9/10 [00:10<00:01,  1.22s/it]\n"
          ]
        },
        {
          "output_type": "stream",
          "name": "stdout",
          "text": [
            "[2023-11-23 18:26:42] Evaluate_12: epoch = 0100 train time = 4 s train loss = 0.511712 train acc = 0.8800, test acc = 0.8832\n",
            "Iteration 13\n"
          ]
        },
        {
          "output_type": "stream",
          "name": "stderr",
          "text": [
            " 90%|█████████ | 9/10 [00:10<00:01,  1.22s/it]\n"
          ]
        },
        {
          "output_type": "stream",
          "name": "stdout",
          "text": [
            "[2023-11-23 18:27:00] Evaluate_13: epoch = 0100 train time = 4 s train loss = 0.366166 train acc = 0.9100, test acc = 0.8915\n",
            "Iteration 14\n"
          ]
        },
        {
          "output_type": "stream",
          "name": "stderr",
          "text": [
            " 90%|█████████ | 9/10 [00:10<00:01,  1.22s/it]\n"
          ]
        },
        {
          "output_type": "stream",
          "name": "stdout",
          "text": [
            "[2023-11-23 18:27:18] Evaluate_14: epoch = 0100 train time = 4 s train loss = 0.463580 train acc = 0.8900, test acc = 0.8926\n",
            "Iteration 15\n"
          ]
        },
        {
          "output_type": "stream",
          "name": "stderr",
          "text": [
            " 90%|█████████ | 9/10 [00:10<00:01,  1.22s/it]\n"
          ]
        },
        {
          "output_type": "stream",
          "name": "stdout",
          "text": [
            "[2023-11-23 18:27:37] Evaluate_15: epoch = 0100 train time = 4 s train loss = 0.371116 train acc = 0.9100, test acc = 0.8864\n",
            "Iteration 16\n"
          ]
        },
        {
          "output_type": "stream",
          "name": "stderr",
          "text": [
            " 90%|█████████ | 9/10 [00:10<00:01,  1.21s/it]\n"
          ]
        },
        {
          "output_type": "stream",
          "name": "stdout",
          "text": [
            "[2023-11-23 18:27:55] Evaluate_16: epoch = 0100 train time = 4 s train loss = 0.361009 train acc = 0.9300, test acc = 0.8967\n",
            "Iteration 17\n"
          ]
        },
        {
          "output_type": "stream",
          "name": "stderr",
          "text": [
            " 90%|█████████ | 9/10 [00:10<00:01,  1.21s/it]\n"
          ]
        },
        {
          "output_type": "stream",
          "name": "stdout",
          "text": [
            "[2023-11-23 18:28:15] Evaluate_17: epoch = 0100 train time = 4 s train loss = 0.356077 train acc = 0.9100, test acc = 0.9014\n",
            "Iteration 18\n"
          ]
        },
        {
          "output_type": "stream",
          "name": "stderr",
          "text": [
            " 90%|█████████ | 9/10 [00:10<00:01,  1.19s/it]\n"
          ]
        },
        {
          "output_type": "stream",
          "name": "stdout",
          "text": [
            "[2023-11-23 18:28:34] Evaluate_18: epoch = 0100 train time = 5 s train loss = 0.408149 train acc = 0.8800, test acc = 0.8879\n",
            "Iteration 19\n"
          ]
        },
        {
          "output_type": "stream",
          "name": "stderr",
          "text": [
            " 90%|█████████ | 9/10 [00:10<00:01,  1.18s/it]\n"
          ]
        },
        {
          "output_type": "stream",
          "name": "stdout",
          "text": [
            "[2023-11-23 18:28:54] Evaluate_19: epoch = 0100 train time = 5 s train loss = 0.367455 train acc = 0.8800, test acc = 0.9059\n",
            "Iteration 20\n"
          ]
        },
        {
          "output_type": "stream",
          "name": "stderr",
          "text": [
            " 90%|█████████ | 9/10 [00:10<00:01,  1.20s/it]\n"
          ]
        },
        {
          "output_type": "stream",
          "name": "stdout",
          "text": [
            "[2023-11-23 18:29:13] Evaluate_20: epoch = 0100 train time = 5 s train loss = 0.453654 train acc = 0.8800, test acc = 0.8930\n",
            "Iteration 21\n"
          ]
        },
        {
          "output_type": "stream",
          "name": "stderr",
          "text": [
            " 90%|█████████ | 9/10 [00:10<00:01,  1.21s/it]\n"
          ]
        },
        {
          "output_type": "stream",
          "name": "stdout",
          "text": [
            "[2023-11-23 18:29:32] Evaluate_21: epoch = 0100 train time = 4 s train loss = 0.331706 train acc = 0.9200, test acc = 0.9142\n",
            "Iteration 22\n"
          ]
        },
        {
          "output_type": "stream",
          "name": "stderr",
          "text": [
            " 90%|█████████ | 9/10 [00:10<00:01,  1.22s/it]\n"
          ]
        },
        {
          "output_type": "stream",
          "name": "stdout",
          "text": [
            "[2023-11-23 18:29:50] Evaluate_22: epoch = 0100 train time = 4 s train loss = 0.358688 train acc = 0.9300, test acc = 0.9113\n",
            "Iteration 23\n"
          ]
        },
        {
          "output_type": "stream",
          "name": "stderr",
          "text": [
            " 90%|█████████ | 9/10 [00:10<00:01,  1.22s/it]\n"
          ]
        },
        {
          "output_type": "stream",
          "name": "stdout",
          "text": [
            "[2023-11-23 18:30:08] Evaluate_23: epoch = 0100 train time = 4 s train loss = 0.321416 train acc = 0.9100, test acc = 0.9157\n",
            "Iteration 24\n"
          ]
        },
        {
          "output_type": "stream",
          "name": "stderr",
          "text": [
            " 90%|█████████ | 9/10 [00:10<00:01,  1.22s/it]\n"
          ]
        },
        {
          "output_type": "stream",
          "name": "stdout",
          "text": [
            "[2023-11-23 18:30:26] Evaluate_24: epoch = 0100 train time = 4 s train loss = 0.262763 train acc = 0.9600, test acc = 0.9162\n",
            "Iteration 25\n"
          ]
        },
        {
          "output_type": "stream",
          "name": "stderr",
          "text": [
            " 90%|█████████ | 9/10 [00:10<00:01,  1.22s/it]\n"
          ]
        },
        {
          "output_type": "stream",
          "name": "stdout",
          "text": [
            "[2023-11-23 18:30:45] Evaluate_25: epoch = 0100 train time = 4 s train loss = 0.411082 train acc = 0.8800, test acc = 0.9132\n",
            "Iteration 26\n"
          ]
        },
        {
          "output_type": "stream",
          "name": "stderr",
          "text": [
            " 90%|█████████ | 9/10 [00:10<00:01,  1.22s/it]\n"
          ]
        },
        {
          "output_type": "stream",
          "name": "stdout",
          "text": [
            "[2023-11-23 18:31:03] Evaluate_26: epoch = 0100 train time = 4 s train loss = 0.364625 train acc = 0.9000, test acc = 0.9178\n",
            "Iteration 27\n"
          ]
        },
        {
          "output_type": "stream",
          "name": "stderr",
          "text": [
            " 90%|█████████ | 9/10 [00:10<00:01,  1.21s/it]\n"
          ]
        },
        {
          "output_type": "stream",
          "name": "stdout",
          "text": [
            "[2023-11-23 18:31:22] Evaluate_27: epoch = 0100 train time = 4 s train loss = 0.376899 train acc = 0.8900, test acc = 0.9207\n",
            "Iteration 28\n"
          ]
        },
        {
          "output_type": "stream",
          "name": "stderr",
          "text": [
            " 90%|█████████ | 9/10 [00:10<00:01,  1.19s/it]\n"
          ]
        },
        {
          "output_type": "stream",
          "name": "stdout",
          "text": [
            "[2023-11-23 18:31:42] Evaluate_28: epoch = 0100 train time = 4 s train loss = 0.512660 train acc = 0.8400, test acc = 0.9264\n",
            "Iteration 29\n"
          ]
        },
        {
          "output_type": "stream",
          "name": "stderr",
          "text": [
            " 90%|█████████ | 9/10 [00:10<00:01,  1.19s/it]\n"
          ]
        },
        {
          "output_type": "stream",
          "name": "stdout",
          "text": [
            "[2023-11-23 18:32:01] Evaluate_29: epoch = 0100 train time = 5 s train loss = 0.391154 train acc = 0.9200, test acc = 0.9244\n",
            "Iteration 30\n"
          ]
        },
        {
          "output_type": "stream",
          "name": "stderr",
          "text": [
            " 90%|█████████ | 9/10 [00:10<00:01,  1.20s/it]\n"
          ]
        },
        {
          "output_type": "stream",
          "name": "stdout",
          "text": [
            "[2023-11-23 18:32:21] Evaluate_30: epoch = 0100 train time = 5 s train loss = 0.435286 train acc = 0.8800, test acc = 0.9179\n",
            "Iteration 31\n"
          ]
        },
        {
          "output_type": "stream",
          "name": "stderr",
          "text": [
            " 90%|█████████ | 9/10 [00:10<00:01,  1.21s/it]\n"
          ]
        },
        {
          "output_type": "stream",
          "name": "stdout",
          "text": [
            "[2023-11-23 18:32:39] Evaluate_31: epoch = 0100 train time = 5 s train loss = 0.396615 train acc = 0.8800, test acc = 0.9351\n",
            "Iteration 32\n"
          ]
        },
        {
          "output_type": "stream",
          "name": "stderr",
          "text": [
            " 90%|█████████ | 9/10 [00:10<00:01,  1.22s/it]\n"
          ]
        },
        {
          "output_type": "stream",
          "name": "stdout",
          "text": [
            "[2023-11-23 18:32:58] Evaluate_32: epoch = 0100 train time = 4 s train loss = 0.238668 train acc = 0.9400, test acc = 0.9314\n",
            "Iteration 33\n"
          ]
        },
        {
          "output_type": "stream",
          "name": "stderr",
          "text": [
            " 90%|█████████ | 9/10 [00:10<00:01,  1.22s/it]\n"
          ]
        },
        {
          "output_type": "stream",
          "name": "stdout",
          "text": [
            "[2023-11-23 18:33:16] Evaluate_33: epoch = 0100 train time = 4 s train loss = 0.370588 train acc = 0.9300, test acc = 0.9309\n",
            "Iteration 34\n"
          ]
        },
        {
          "output_type": "stream",
          "name": "stderr",
          "text": [
            " 90%|█████████ | 9/10 [00:10<00:01,  1.22s/it]\n"
          ]
        },
        {
          "output_type": "stream",
          "name": "stdout",
          "text": [
            "[2023-11-23 18:33:34] Evaluate_34: epoch = 0100 train time = 4 s train loss = 0.369098 train acc = 0.9200, test acc = 0.9280\n",
            "Iteration 35\n"
          ]
        },
        {
          "output_type": "stream",
          "name": "stderr",
          "text": [
            " 90%|█████████ | 9/10 [00:10<00:01,  1.22s/it]\n"
          ]
        },
        {
          "output_type": "stream",
          "name": "stdout",
          "text": [
            "[2023-11-23 18:33:52] Evaluate_35: epoch = 0100 train time = 4 s train loss = 0.394311 train acc = 0.8800, test acc = 0.9293\n",
            "Iteration 36\n"
          ]
        },
        {
          "output_type": "stream",
          "name": "stderr",
          "text": [
            " 90%|█████████ | 9/10 [00:10<00:01,  1.22s/it]\n"
          ]
        },
        {
          "output_type": "stream",
          "name": "stdout",
          "text": [
            "[2023-11-23 18:34:10] Evaluate_36: epoch = 0100 train time = 4 s train loss = 0.445370 train acc = 0.8700, test acc = 0.9223\n",
            "Iteration 37\n"
          ]
        },
        {
          "output_type": "stream",
          "name": "stderr",
          "text": [
            " 90%|█████████ | 9/10 [00:10<00:01,  1.21s/it]\n"
          ]
        },
        {
          "output_type": "stream",
          "name": "stdout",
          "text": [
            "[2023-11-23 18:34:29] Evaluate_37: epoch = 0100 train time = 4 s train loss = 0.314309 train acc = 0.9400, test acc = 0.9340\n",
            "Iteration 38\n"
          ]
        },
        {
          "output_type": "stream",
          "name": "stderr",
          "text": [
            " 90%|█████████ | 9/10 [00:10<00:01,  1.20s/it]\n"
          ]
        },
        {
          "output_type": "stream",
          "name": "stdout",
          "text": [
            "[2023-11-23 18:34:49] Evaluate_38: epoch = 0100 train time = 4 s train loss = 0.342631 train acc = 0.9400, test acc = 0.9317\n",
            "Iteration 39\n"
          ]
        },
        {
          "output_type": "stream",
          "name": "stderr",
          "text": [
            " 90%|█████████ | 9/10 [00:10<00:01,  1.19s/it]\n"
          ]
        },
        {
          "output_type": "stream",
          "name": "stdout",
          "text": [
            "[2023-11-23 18:35:08] Evaluate_39: epoch = 0100 train time = 5 s train loss = 0.339872 train acc = 0.9000, test acc = 0.9310\n",
            "Iteration 40\n"
          ]
        },
        {
          "output_type": "stream",
          "name": "stderr",
          "text": [
            " 90%|█████████ | 9/10 [00:10<00:01,  1.19s/it]\n"
          ]
        },
        {
          "output_type": "stream",
          "name": "stdout",
          "text": [
            "[2023-11-23 18:35:28] Evaluate_40: epoch = 0100 train time = 5 s train loss = 0.340150 train acc = 0.9200, test acc = 0.9324\n",
            "Iteration 41\n"
          ]
        },
        {
          "output_type": "stream",
          "name": "stderr",
          "text": [
            " 90%|█████████ | 9/10 [00:10<00:01,  1.21s/it]\n"
          ]
        },
        {
          "output_type": "stream",
          "name": "stdout",
          "text": [
            "[2023-11-23 18:35:47] Evaluate_41: epoch = 0100 train time = 5 s train loss = 0.306295 train acc = 0.9200, test acc = 0.9369\n",
            "Iteration 42\n"
          ]
        },
        {
          "output_type": "stream",
          "name": "stderr",
          "text": [
            " 90%|█████████ | 9/10 [00:10<00:01,  1.21s/it]\n"
          ]
        },
        {
          "output_type": "stream",
          "name": "stdout",
          "text": [
            "[2023-11-23 18:36:05] Evaluate_42: epoch = 0100 train time = 4 s train loss = 0.295786 train acc = 0.9400, test acc = 0.9384\n",
            "Iteration 43\n"
          ]
        },
        {
          "output_type": "stream",
          "name": "stderr",
          "text": [
            " 90%|█████████ | 9/10 [00:10<00:01,  1.22s/it]\n"
          ]
        },
        {
          "output_type": "stream",
          "name": "stdout",
          "text": [
            "[2023-11-23 18:36:23] Evaluate_43: epoch = 0100 train time = 4 s train loss = 0.344003 train acc = 0.9200, test acc = 0.9356\n",
            "Iteration 44\n"
          ]
        },
        {
          "output_type": "stream",
          "name": "stderr",
          "text": [
            " 90%|█████████ | 9/10 [00:10<00:01,  1.22s/it]\n"
          ]
        },
        {
          "output_type": "stream",
          "name": "stdout",
          "text": [
            "[2023-11-23 18:36:41] Evaluate_44: epoch = 0100 train time = 4 s train loss = 0.270174 train acc = 0.9400, test acc = 0.9353\n",
            "Iteration 45\n"
          ]
        },
        {
          "output_type": "stream",
          "name": "stderr",
          "text": [
            " 90%|█████████ | 9/10 [00:10<00:01,  1.21s/it]\n"
          ]
        },
        {
          "output_type": "stream",
          "name": "stdout",
          "text": [
            "[2023-11-23 18:36:59] Evaluate_45: epoch = 0100 train time = 4 s train loss = 0.414614 train acc = 0.9000, test acc = 0.9414\n",
            "Iteration 46\n"
          ]
        },
        {
          "output_type": "stream",
          "name": "stderr",
          "text": [
            " 90%|█████████ | 9/10 [00:10<00:01,  1.22s/it]\n"
          ]
        },
        {
          "output_type": "stream",
          "name": "stdout",
          "text": [
            "[2023-11-23 18:37:18] Evaluate_46: epoch = 0100 train time = 4 s train loss = 0.315432 train acc = 0.9400, test acc = 0.9339\n",
            "Iteration 47\n"
          ]
        },
        {
          "output_type": "stream",
          "name": "stderr",
          "text": [
            " 90%|█████████ | 9/10 [00:10<00:01,  1.22s/it]\n"
          ]
        },
        {
          "output_type": "stream",
          "name": "stdout",
          "text": [
            "[2023-11-23 18:37:36] Evaluate_47: epoch = 0100 train time = 4 s train loss = 0.401034 train acc = 0.8800, test acc = 0.9271\n",
            "Iteration 48\n"
          ]
        },
        {
          "output_type": "stream",
          "name": "stderr",
          "text": [
            " 90%|█████████ | 9/10 [00:10<00:01,  1.20s/it]\n"
          ]
        },
        {
          "output_type": "stream",
          "name": "stdout",
          "text": [
            "[2023-11-23 18:37:55] Evaluate_48: epoch = 0100 train time = 4 s train loss = 0.338358 train acc = 0.9000, test acc = 0.9465\n",
            "Iteration 49\n"
          ]
        },
        {
          "output_type": "stream",
          "name": "stderr",
          "text": [
            " 90%|█████████ | 9/10 [00:10<00:01,  1.19s/it]\n"
          ]
        },
        {
          "output_type": "stream",
          "name": "stdout",
          "text": [
            "[2023-11-23 18:38:15] Evaluate_49: epoch = 0100 train time = 5 s train loss = 0.289169 train acc = 0.9400, test acc = 0.9420\n",
            "Iteration 50\n"
          ]
        },
        {
          "output_type": "stream",
          "name": "stderr",
          "text": [
            " 90%|█████████ | 9/10 [00:10<00:01,  1.19s/it]\n"
          ]
        },
        {
          "output_type": "stream",
          "name": "stdout",
          "text": [
            "[2023-11-23 18:38:35] Evaluate_50: epoch = 0100 train time = 5 s train loss = 0.370146 train acc = 0.8700, test acc = 0.9386\n",
            "Iteration 51\n"
          ]
        },
        {
          "output_type": "stream",
          "name": "stderr",
          "text": [
            " 90%|█████████ | 9/10 [00:10<00:01,  1.20s/it]\n"
          ]
        },
        {
          "output_type": "stream",
          "name": "stdout",
          "text": [
            "[2023-11-23 18:38:54] Evaluate_51: epoch = 0100 train time = 5 s train loss = 0.308818 train acc = 0.9400, test acc = 0.9458\n",
            "Iteration 52\n"
          ]
        },
        {
          "output_type": "stream",
          "name": "stderr",
          "text": [
            " 90%|█████████ | 9/10 [00:10<00:01,  1.21s/it]\n"
          ]
        },
        {
          "output_type": "stream",
          "name": "stdout",
          "text": [
            "[2023-11-23 18:39:13] Evaluate_52: epoch = 0100 train time = 5 s train loss = 0.296552 train acc = 0.9600, test acc = 0.9434\n",
            "Iteration 53\n"
          ]
        },
        {
          "output_type": "stream",
          "name": "stderr",
          "text": [
            " 90%|█████████ | 9/10 [00:10<00:01,  1.22s/it]\n"
          ]
        },
        {
          "output_type": "stream",
          "name": "stdout",
          "text": [
            "[2023-11-23 18:39:31] Evaluate_53: epoch = 0100 train time = 4 s train loss = 0.236831 train acc = 0.9800, test acc = 0.9391\n",
            "Iteration 54\n"
          ]
        },
        {
          "output_type": "stream",
          "name": "stderr",
          "text": [
            " 90%|█████████ | 9/10 [00:10<00:01,  1.22s/it]\n"
          ]
        },
        {
          "output_type": "stream",
          "name": "stdout",
          "text": [
            "[2023-11-23 18:39:49] Evaluate_54: epoch = 0100 train time = 4 s train loss = 0.230596 train acc = 0.9600, test acc = 0.9468\n",
            "Iteration 55\n"
          ]
        },
        {
          "output_type": "stream",
          "name": "stderr",
          "text": [
            " 90%|█████████ | 9/10 [00:10<00:01,  1.22s/it]\n"
          ]
        },
        {
          "output_type": "stream",
          "name": "stdout",
          "text": [
            "[2023-11-23 18:40:08] Evaluate_55: epoch = 0100 train time = 4 s train loss = 0.285433 train acc = 0.9400, test acc = 0.9441\n",
            "Iteration 56\n"
          ]
        },
        {
          "output_type": "stream",
          "name": "stderr",
          "text": [
            " 90%|█████████ | 9/10 [00:10<00:01,  1.22s/it]\n"
          ]
        },
        {
          "output_type": "stream",
          "name": "stdout",
          "text": [
            "[2023-11-23 18:40:26] Evaluate_56: epoch = 0100 train time = 4 s train loss = 0.342929 train acc = 0.9500, test acc = 0.9429\n",
            "Iteration 57\n"
          ]
        },
        {
          "output_type": "stream",
          "name": "stderr",
          "text": [
            " 90%|█████████ | 9/10 [00:10<00:01,  1.22s/it]\n"
          ]
        },
        {
          "output_type": "stream",
          "name": "stdout",
          "text": [
            "[2023-11-23 18:40:45] Evaluate_57: epoch = 0100 train time = 4 s train loss = 0.388294 train acc = 0.9000, test acc = 0.9450\n",
            "Iteration 58\n"
          ]
        },
        {
          "output_type": "stream",
          "name": "stderr",
          "text": [
            " 90%|█████████ | 9/10 [00:10<00:01,  1.21s/it]\n"
          ]
        },
        {
          "output_type": "stream",
          "name": "stdout",
          "text": [
            "[2023-11-23 18:41:04] Evaluate_58: epoch = 0100 train time = 4 s train loss = 0.384339 train acc = 0.9100, test acc = 0.9422\n",
            "Iteration 59\n"
          ]
        },
        {
          "output_type": "stream",
          "name": "stderr",
          "text": [
            " 90%|█████████ | 9/10 [00:10<00:01,  1.20s/it]\n"
          ]
        },
        {
          "output_type": "stream",
          "name": "stdout",
          "text": [
            "[2023-11-23 18:41:23] Evaluate_59: epoch = 0100 train time = 5 s train loss = 0.296496 train acc = 0.9400, test acc = 0.9466\n",
            "Iteration 60\n"
          ]
        },
        {
          "output_type": "stream",
          "name": "stderr",
          "text": [
            " 90%|█████████ | 9/10 [00:10<00:01,  1.18s/it]\n"
          ]
        },
        {
          "output_type": "stream",
          "name": "stdout",
          "text": [
            "[2023-11-23 18:41:43] Evaluate_60: epoch = 0100 train time = 5 s train loss = 0.328529 train acc = 0.9100, test acc = 0.9489\n",
            "Iteration 61\n"
          ]
        },
        {
          "output_type": "stream",
          "name": "stderr",
          "text": [
            " 90%|█████████ | 9/10 [00:10<00:01,  1.20s/it]\n"
          ]
        },
        {
          "output_type": "stream",
          "name": "stdout",
          "text": [
            "[2023-11-23 18:42:02] Evaluate_61: epoch = 0100 train time = 5 s train loss = 0.306335 train acc = 0.9400, test acc = 0.9480\n",
            "Iteration 62\n"
          ]
        },
        {
          "output_type": "stream",
          "name": "stderr",
          "text": [
            " 90%|█████████ | 9/10 [00:10<00:01,  1.21s/it]\n"
          ]
        },
        {
          "output_type": "stream",
          "name": "stdout",
          "text": [
            "[2023-11-23 18:42:21] Evaluate_62: epoch = 0100 train time = 5 s train loss = 0.450464 train acc = 0.8800, test acc = 0.9486\n",
            "Iteration 63\n"
          ]
        },
        {
          "output_type": "stream",
          "name": "stderr",
          "text": [
            " 90%|█████████ | 9/10 [00:10<00:01,  1.22s/it]\n"
          ]
        },
        {
          "output_type": "stream",
          "name": "stdout",
          "text": [
            "[2023-11-23 18:42:39] Evaluate_63: epoch = 0100 train time = 4 s train loss = 0.417395 train acc = 0.8800, test acc = 0.9477\n",
            "Iteration 64\n"
          ]
        },
        {
          "output_type": "stream",
          "name": "stderr",
          "text": [
            " 90%|█████████ | 9/10 [00:10<00:01,  1.22s/it]\n"
          ]
        },
        {
          "output_type": "stream",
          "name": "stdout",
          "text": [
            "[2023-11-23 18:42:58] Evaluate_64: epoch = 0100 train time = 4 s train loss = 0.351774 train acc = 0.9100, test acc = 0.9453\n",
            "Iteration 65\n"
          ]
        },
        {
          "output_type": "stream",
          "name": "stderr",
          "text": [
            " 90%|█████████ | 9/10 [00:10<00:01,  1.22s/it]\n"
          ]
        },
        {
          "output_type": "stream",
          "name": "stdout",
          "text": [
            "[2023-11-23 18:43:16] Evaluate_65: epoch = 0100 train time = 4 s train loss = 0.352732 train acc = 0.9000, test acc = 0.9489\n",
            "Iteration 66\n"
          ]
        },
        {
          "output_type": "stream",
          "name": "stderr",
          "text": [
            " 90%|█████████ | 9/10 [00:11<00:01,  1.22s/it]\n"
          ]
        },
        {
          "output_type": "stream",
          "name": "stdout",
          "text": [
            "[2023-11-23 18:43:34] Evaluate_66: epoch = 0100 train time = 4 s train loss = 0.319751 train acc = 0.9400, test acc = 0.9432\n",
            "Iteration 67\n"
          ]
        },
        {
          "output_type": "stream",
          "name": "stderr",
          "text": [
            " 90%|█████████ | 9/10 [00:11<00:01,  1.22s/it]\n"
          ]
        },
        {
          "output_type": "stream",
          "name": "stdout",
          "text": [
            "[2023-11-23 18:43:53] Evaluate_67: epoch = 0100 train time = 4 s train loss = 0.463979 train acc = 0.8600, test acc = 0.9458\n",
            "Iteration 68\n"
          ]
        },
        {
          "output_type": "stream",
          "name": "stderr",
          "text": [
            " 90%|█████████ | 9/10 [00:10<00:01,  1.22s/it]\n"
          ]
        },
        {
          "output_type": "stream",
          "name": "stdout",
          "text": [
            "[2023-11-23 18:44:12] Evaluate_68: epoch = 0100 train time = 4 s train loss = 0.444351 train acc = 0.8800, test acc = 0.9470\n",
            "Iteration 69\n"
          ]
        },
        {
          "output_type": "stream",
          "name": "stderr",
          "text": [
            " 90%|█████████ | 9/10 [00:10<00:01,  1.20s/it]\n"
          ]
        },
        {
          "output_type": "stream",
          "name": "stdout",
          "text": [
            "[2023-11-23 18:44:31] Evaluate_69: epoch = 0100 train time = 5 s train loss = 0.325251 train acc = 0.9000, test acc = 0.9462\n",
            "Iteration 70\n"
          ]
        },
        {
          "output_type": "stream",
          "name": "stderr",
          "text": [
            " 90%|█████████ | 9/10 [00:10<00:01,  1.19s/it]\n"
          ]
        },
        {
          "output_type": "stream",
          "name": "stdout",
          "text": [
            "[2023-11-23 18:44:51] Evaluate_70: epoch = 0100 train time = 5 s train loss = 0.203072 train acc = 0.9500, test acc = 0.9487\n",
            "Iteration 71\n"
          ]
        },
        {
          "output_type": "stream",
          "name": "stderr",
          "text": [
            " 90%|█████████ | 9/10 [00:10<00:01,  1.20s/it]\n"
          ]
        },
        {
          "output_type": "stream",
          "name": "stdout",
          "text": [
            "[2023-11-23 18:45:10] Evaluate_71: epoch = 0100 train time = 5 s train loss = 0.322489 train acc = 0.9400, test acc = 0.9479\n",
            "Iteration 72\n"
          ]
        },
        {
          "output_type": "stream",
          "name": "stderr",
          "text": [
            " 90%|█████████ | 9/10 [00:10<00:01,  1.21s/it]\n"
          ]
        },
        {
          "output_type": "stream",
          "name": "stdout",
          "text": [
            "[2023-11-23 18:45:29] Evaluate_72: epoch = 0100 train time = 5 s train loss = 0.366779 train acc = 0.9100, test acc = 0.9487\n",
            "Iteration 73\n"
          ]
        },
        {
          "output_type": "stream",
          "name": "stderr",
          "text": [
            " 90%|█████████ | 9/10 [00:10<00:01,  1.22s/it]\n"
          ]
        },
        {
          "output_type": "stream",
          "name": "stdout",
          "text": [
            "[2023-11-23 18:45:48] Evaluate_73: epoch = 0100 train time = 4 s train loss = 0.400583 train acc = 0.9100, test acc = 0.9492\n",
            "Iteration 74\n"
          ]
        },
        {
          "output_type": "stream",
          "name": "stderr",
          "text": [
            " 90%|█████████ | 9/10 [00:11<00:01,  1.22s/it]\n"
          ]
        },
        {
          "output_type": "stream",
          "name": "stdout",
          "text": [
            "[2023-11-23 18:46:06] Evaluate_74: epoch = 0100 train time = 4 s train loss = 0.375669 train acc = 0.8900, test acc = 0.9515\n",
            "Iteration 75\n"
          ]
        },
        {
          "output_type": "stream",
          "name": "stderr",
          "text": [
            " 90%|█████████ | 9/10 [00:11<00:01,  1.22s/it]\n"
          ]
        },
        {
          "output_type": "stream",
          "name": "stdout",
          "text": [
            "[2023-11-23 18:46:24] Evaluate_75: epoch = 0100 train time = 4 s train loss = 0.297559 train acc = 0.9400, test acc = 0.9507\n",
            "Iteration 76\n"
          ]
        },
        {
          "output_type": "stream",
          "name": "stderr",
          "text": [
            " 90%|█████████ | 9/10 [00:10<00:01,  1.22s/it]\n"
          ]
        },
        {
          "output_type": "stream",
          "name": "stdout",
          "text": [
            "[2023-11-23 18:46:43] Evaluate_76: epoch = 0100 train time = 4 s train loss = 0.327563 train acc = 0.9000, test acc = 0.9464\n",
            "Iteration 77\n"
          ]
        },
        {
          "output_type": "stream",
          "name": "stderr",
          "text": [
            " 90%|█████████ | 9/10 [00:11<00:01,  1.22s/it]\n"
          ]
        },
        {
          "output_type": "stream",
          "name": "stdout",
          "text": [
            "[2023-11-23 18:47:02] Evaluate_77: epoch = 0100 train time = 4 s train loss = 0.462449 train acc = 0.8700, test acc = 0.9515\n",
            "Iteration 78\n"
          ]
        },
        {
          "output_type": "stream",
          "name": "stderr",
          "text": [
            " 90%|█████████ | 9/10 [00:10<00:01,  1.21s/it]\n"
          ]
        },
        {
          "output_type": "stream",
          "name": "stdout",
          "text": [
            "[2023-11-23 18:47:21] Evaluate_78: epoch = 0100 train time = 4 s train loss = 0.310564 train acc = 0.9000, test acc = 0.9465\n",
            "Iteration 79\n"
          ]
        },
        {
          "output_type": "stream",
          "name": "stderr",
          "text": [
            " 90%|█████████ | 9/10 [00:10<00:01,  1.20s/it]\n"
          ]
        },
        {
          "output_type": "stream",
          "name": "stdout",
          "text": [
            "[2023-11-23 18:47:40] Evaluate_79: epoch = 0100 train time = 5 s train loss = 0.364644 train acc = 0.9100, test acc = 0.9505\n",
            "Iteration 80\n"
          ]
        },
        {
          "output_type": "stream",
          "name": "stderr",
          "text": [
            " 90%|█████████ | 9/10 [00:10<00:01,  1.19s/it]\n"
          ]
        },
        {
          "output_type": "stream",
          "name": "stdout",
          "text": [
            "[2023-11-23 18:48:00] Evaluate_80: epoch = 0100 train time = 5 s train loss = 0.429029 train acc = 0.8600, test acc = 0.9483\n",
            "Iteration 81\n"
          ]
        },
        {
          "output_type": "stream",
          "name": "stderr",
          "text": [
            " 90%|█████████ | 9/10 [00:10<00:01,  1.20s/it]\n"
          ]
        },
        {
          "output_type": "stream",
          "name": "stdout",
          "text": [
            "[2023-11-23 18:48:19] Evaluate_81: epoch = 0100 train time = 5 s train loss = 0.357829 train acc = 0.9300, test acc = 0.9520\n",
            "Iteration 82\n"
          ]
        },
        {
          "output_type": "stream",
          "name": "stderr",
          "text": [
            " 90%|█████████ | 9/10 [00:10<00:01,  1.21s/it]\n"
          ]
        },
        {
          "output_type": "stream",
          "name": "stdout",
          "text": [
            "[2023-11-23 18:48:38] Evaluate_82: epoch = 0100 train time = 4 s train loss = 0.480125 train acc = 0.8800, test acc = 0.9511\n",
            "Iteration 83\n"
          ]
        },
        {
          "output_type": "stream",
          "name": "stderr",
          "text": [
            " 90%|█████████ | 9/10 [00:10<00:01,  1.22s/it]\n"
          ]
        },
        {
          "output_type": "stream",
          "name": "stdout",
          "text": [
            "[2023-11-23 18:48:57] Evaluate_83: epoch = 0100 train time = 4 s train loss = 0.385309 train acc = 0.9000, test acc = 0.9511\n",
            "Iteration 84\n"
          ]
        },
        {
          "output_type": "stream",
          "name": "stderr",
          "text": [
            " 90%|█████████ | 9/10 [00:11<00:01,  1.22s/it]\n"
          ]
        },
        {
          "output_type": "stream",
          "name": "stdout",
          "text": [
            "[2023-11-23 18:49:15] Evaluate_84: epoch = 0100 train time = 4 s train loss = 0.249250 train acc = 0.9800, test acc = 0.9511\n",
            "Iteration 85\n"
          ]
        },
        {
          "output_type": "stream",
          "name": "stderr",
          "text": [
            " 90%|█████████ | 9/10 [00:10<00:01,  1.22s/it]\n"
          ]
        },
        {
          "output_type": "stream",
          "name": "stdout",
          "text": [
            "[2023-11-23 18:49:33] Evaluate_85: epoch = 0100 train time = 4 s train loss = 0.319626 train acc = 0.9400, test acc = 0.9534\n",
            "Iteration 86\n"
          ]
        },
        {
          "output_type": "stream",
          "name": "stderr",
          "text": [
            " 90%|█████████ | 9/10 [00:10<00:01,  1.22s/it]\n"
          ]
        },
        {
          "output_type": "stream",
          "name": "stdout",
          "text": [
            "[2023-11-23 18:49:51] Evaluate_86: epoch = 0100 train time = 4 s train loss = 0.465913 train acc = 0.8500, test acc = 0.9506\n",
            "Iteration 87\n"
          ]
        },
        {
          "output_type": "stream",
          "name": "stderr",
          "text": [
            " 90%|█████████ | 9/10 [00:10<00:01,  1.22s/it]\n"
          ]
        },
        {
          "output_type": "stream",
          "name": "stdout",
          "text": [
            "[2023-11-23 18:50:10] Evaluate_87: epoch = 0100 train time = 4 s train loss = 0.472354 train acc = 0.8500, test acc = 0.9530\n",
            "Iteration 88\n"
          ]
        },
        {
          "output_type": "stream",
          "name": "stderr",
          "text": [
            " 90%|█████████ | 9/10 [00:10<00:01,  1.22s/it]\n"
          ]
        },
        {
          "output_type": "stream",
          "name": "stdout",
          "text": [
            "[2023-11-23 18:50:29] Evaluate_88: epoch = 0100 train time = 4 s train loss = 0.413915 train acc = 0.9000, test acc = 0.9502\n",
            "Iteration 89\n"
          ]
        },
        {
          "output_type": "stream",
          "name": "stderr",
          "text": [
            " 90%|█████████ | 9/10 [00:10<00:01,  1.20s/it]\n"
          ]
        },
        {
          "output_type": "stream",
          "name": "stdout",
          "text": [
            "[2023-11-23 18:50:49] Evaluate_89: epoch = 0100 train time = 5 s train loss = 0.384070 train acc = 0.9000, test acc = 0.9514\n",
            "Iteration 90\n"
          ]
        },
        {
          "output_type": "stream",
          "name": "stderr",
          "text": [
            " 90%|█████████ | 9/10 [00:10<00:01,  1.19s/it]\n"
          ]
        },
        {
          "output_type": "stream",
          "name": "stdout",
          "text": [
            "[2023-11-23 18:51:09] Evaluate_90: epoch = 0100 train time = 5 s train loss = 0.268191 train acc = 0.9400, test acc = 0.9543\n",
            "Iteration 91\n"
          ]
        },
        {
          "output_type": "stream",
          "name": "stderr",
          "text": [
            " 90%|█████████ | 9/10 [00:10<00:01,  1.20s/it]\n"
          ]
        },
        {
          "output_type": "stream",
          "name": "stdout",
          "text": [
            "[2023-11-23 18:51:28] Evaluate_91: epoch = 0100 train time = 5 s train loss = 0.298978 train acc = 0.9400, test acc = 0.9536\n",
            "Iteration 92\n"
          ]
        },
        {
          "output_type": "stream",
          "name": "stderr",
          "text": [
            " 90%|█████████ | 9/10 [00:10<00:01,  1.21s/it]\n"
          ]
        },
        {
          "output_type": "stream",
          "name": "stdout",
          "text": [
            "[2023-11-23 18:51:47] Evaluate_92: epoch = 0100 train time = 5 s train loss = 0.318192 train acc = 0.9700, test acc = 0.9501\n",
            "Iteration 93\n"
          ]
        },
        {
          "output_type": "stream",
          "name": "stderr",
          "text": [
            " 90%|█████████ | 9/10 [00:11<00:01,  1.22s/it]\n"
          ]
        },
        {
          "output_type": "stream",
          "name": "stdout",
          "text": [
            "[2023-11-23 18:52:05] Evaluate_93: epoch = 0100 train time = 4 s train loss = 0.439474 train acc = 0.9000, test acc = 0.9522\n",
            "Iteration 94\n"
          ]
        },
        {
          "output_type": "stream",
          "name": "stderr",
          "text": [
            " 90%|█████████ | 9/10 [00:10<00:01,  1.22s/it]\n"
          ]
        },
        {
          "output_type": "stream",
          "name": "stdout",
          "text": [
            "[2023-11-23 18:52:24] Evaluate_94: epoch = 0100 train time = 4 s train loss = 0.452470 train acc = 0.8600, test acc = 0.9550\n",
            "Iteration 95\n"
          ]
        },
        {
          "output_type": "stream",
          "name": "stderr",
          "text": [
            " 90%|█████████ | 9/10 [00:10<00:01,  1.22s/it]\n"
          ]
        },
        {
          "output_type": "stream",
          "name": "stdout",
          "text": [
            "[2023-11-23 18:52:42] Evaluate_95: epoch = 0100 train time = 4 s train loss = 0.277647 train acc = 0.9400, test acc = 0.9531\n",
            "Iteration 96\n"
          ]
        },
        {
          "output_type": "stream",
          "name": "stderr",
          "text": [
            " 90%|█████████ | 9/10 [00:10<00:01,  1.22s/it]\n"
          ]
        },
        {
          "output_type": "stream",
          "name": "stdout",
          "text": [
            "[2023-11-23 18:53:00] Evaluate_96: epoch = 0100 train time = 4 s train loss = 0.424528 train acc = 0.8900, test acc = 0.9507\n",
            "Iteration 97\n"
          ]
        },
        {
          "output_type": "stream",
          "name": "stderr",
          "text": [
            " 90%|█████████ | 9/10 [00:11<00:01,  1.22s/it]\n"
          ]
        },
        {
          "output_type": "stream",
          "name": "stdout",
          "text": [
            "[2023-11-23 18:53:19] Evaluate_97: epoch = 0100 train time = 4 s train loss = 0.395984 train acc = 0.8700, test acc = 0.9558\n",
            "Iteration 98\n"
          ]
        },
        {
          "output_type": "stream",
          "name": "stderr",
          "text": [
            " 90%|█████████ | 9/10 [00:10<00:01,  1.21s/it]\n"
          ]
        },
        {
          "output_type": "stream",
          "name": "stdout",
          "text": [
            "[2023-11-23 18:53:38] Evaluate_98: epoch = 0100 train time = 4 s train loss = 0.365412 train acc = 0.9300, test acc = 0.9523\n",
            "Iteration 99\n"
          ]
        },
        {
          "output_type": "stream",
          "name": "stderr",
          "text": [
            " 90%|█████████ | 9/10 [00:10<00:01,  1.20s/it]\n"
          ]
        },
        {
          "output_type": "stream",
          "name": "stdout",
          "text": [
            "[2023-11-23 18:53:58] Evaluate_99: epoch = 0100 train time = 4 s train loss = 0.259940 train acc = 0.9500, test acc = 0.9488\n",
            "The Final Accuracy for the sythetic data result:  0.9488\n"
          ]
        }
      ]
    },
    {
      "cell_type": "code",
      "source": [
        "\"\"\" visualization Result \"\"\"\n",
        "x_axis = np.arange(args.Iteration)\n",
        "plt.plot(x_axis, test_acc, label='test_acc')\n",
        "plt.plot(x_axis, train_acc, label='train_acc')\n",
        "plt.legend()\n",
        "plt.show\n"
      ],
      "metadata": {
        "id": "x7gg8MRA08_d",
        "colab": {
          "base_uri": "https://localhost:8080/",
          "height": 448
        },
        "outputId": "e4183ebd-dce4-4d53-d6f2-07ae7f6dfe17"
      },
      "execution_count": null,
      "outputs": [
        {
          "output_type": "execute_result",
          "data": {
            "text/plain": [
              "<function matplotlib.pyplot.show(close=None, block=None)>"
            ]
          },
          "metadata": {},
          "execution_count": 22
        },
        {
          "output_type": "display_data",
          "data": {
            "text/plain": [
              "<Figure size 640x480 with 1 Axes>"
            ],
            "image/png": "[encoded data removed]"
          },
          "metadata": {}
        }
      ]
    },
    {
      "cell_type": "markdown",
      "source": [
        "## Part 2(e)\n",
        "Train the selected\n",
        "network on a learned synthetic dataset (with 100 training images), then evaluate it on the\n",
        "real testing data."
      ],
      "metadata": {
        "id": "wNn0vEaClEhI"
      }
    },
    {
      "cell_type": "code",
      "source": [
        "args.dataset = 'MNIST'\n",
        "it_eval = 20\n",
        "args.model = 'ConvNet'\n",
        "net = utils.get_network(args.model,channel=channel,num_classes=num_classes,im_size=im_size).to(args.device)\n",
        "\n",
        "images_train = data_save[0][0].to(args.device)\n",
        "labels_train = data_save[0][1].to(args.device)\n",
        "dst_train = utils.TensorDataset(images_train, labels_train)\n",
        "_, acc_train, acc_test = utils.evaluate_synset(it_eval,net,images_train ,labels_train,testloader,args)\n",
        "print(\"test with synthetic dataset, accuracy = %.4f\"%(acc_test))"
      ],
      "metadata": {
        "colab": {
          "base_uri": "https://localhost:8080/"
        },
        "id": "l59zpWdjldNl",
        "outputId": "f48bc6b9-32a0-4ad1-9d65-3821e3719062"
      },
      "execution_count": null,
      "outputs": [
        {
          "output_type": "stream",
          "name": "stdout",
          "text": [
            "[2023-11-23 19:42:23] Evaluate_10: epoch = 0100 train time = 6 s train loss = 0.409851 train acc = 0.8900, test acc = 0.9608\n",
            "test with synthetic dataset, accuracy = 0.9608\n"
          ]
        }
      ]
    },
    {
      "cell_type": "markdown",
      "source": [
        "### gaussian noise version"
      ],
      "metadata": {
        "id": "8PRpzsQr3GYW"
      }
    },
    {
      "cell_type": "code",
      "source": [
        "\n",
        "args.dataset = 'MNIST'\n",
        "it_eval = 20\n",
        "args.model = 'ConvNet'\n",
        "net = utils.get_network(args.model,channel=channel,num_classes=num_classes,im_size=im_size).to(args.device)\n",
        "\n",
        "images_train = rn_mn_data_save[0][0].to(args.device)\n",
        "labels_train = rn_mn_data_save[0][1].to(args.device)\n",
        "dst_train = utils.TensorDataset(images_train, labels_train)\n",
        "_, acc_train, acc_test = utils.evaluate_synset(it_eval,net,images_train ,labels_train,testloader,args)\n",
        "print(\"test with synthetic dataset, accuracy = %.4f\"%(acc_test))"
      ],
      "metadata": {
        "colab": {
          "base_uri": "https://localhost:8080/"
        },
        "id": "nY3M5olz3Fjf",
        "outputId": "83d8ceab-f251-41ec-d740-7d8b67169725"
      },
      "execution_count": null,
      "outputs": [
        {
          "output_type": "stream",
          "name": "stdout",
          "text": [
            "[2023-11-23 20:26:48] Evaluate_10: epoch = 0100 train time = 7 s train loss = 0.434159 train acc = 0.9100, test acc = 0.9536\n",
            "test with synthetic dataset, accuracy = 0.9536\n"
          ]
        }
      ]
    },
    {
      "cell_type": "markdown",
      "source": [
        "# Part 3 Cross_architecture\n"
      ],
      "metadata": {
        "id": "A3v6XPrgsIBm"
      }
    },
    {
      "cell_type": "markdown",
      "source": [
        "## AlexNet - real dataset initialization"
      ],
      "metadata": {
        "id": "Jiak6MkB0Kq1"
      }
    },
    {
      "cell_type": "code",
      "source": [
        "args.model = 'AlexNet'\n",
        "net = utils.get_network(args.model,channel=channel,num_classes=num_classes,im_size=im_size).to(args.device)\n",
        "\n",
        "images_train = data_save[0][0].to(args.device)\n",
        "labels_train = data_save[0][1].to(args.device)\n",
        "dst_train = utils.TensorDataset(images_train, labels_train)\n",
        "_, acc_train, acc_test = utils.evaluate_synset(it_eval,net,images_train ,labels_train,testloader,args)\n",
        "print(\"test with synthetic dataset, accuracy = %.4f\"%(acc_test))"
      ],
      "metadata": {
        "colab": {
          "base_uri": "https://localhost:8080/"
        },
        "id": "91EVmH98sLuR",
        "outputId": "2fadde6a-d597-4695-8c1f-481fcba063c5"
      },
      "execution_count": null,
      "outputs": [
        {
          "output_type": "stream",
          "name": "stdout",
          "text": [
            "[2023-11-23 20:29:31] Evaluate_10: epoch = 0100 train time = 6 s train loss = 1.743352 train acc = 0.5000, test acc = 0.7333\n",
            "test with synthetic dataset, accuracy = 0.7333\n"
          ]
        }
      ]
    },
    {
      "cell_type": "markdown",
      "source": [
        "## AlexNet -  gaussian noise version"
      ],
      "metadata": {
        "id": "DyX0POm-3QeK"
      }
    },
    {
      "cell_type": "code",
      "source": [
        "args.dataset = 'MNIST'\n",
        "it_eval = 10\n",
        "args.model = 'AlexNet'\n",
        "net = utils.get_network(args.model,channel=channel,num_classes=num_classes,im_size=im_size).to(args.device)\n",
        "\n",
        "images_train = rn_mn_data_save[0][0].to(args.device)\n",
        "labels_train = rn_mn_data_save[0][1].to(args.device)\n",
        "dst_train = utils.TensorDataset(images_train, labels_train)\n",
        "_, acc_train, acc_test = utils.evaluate_synset(it_eval,net,images_train ,labels_train,testloader,args)\n",
        "print(\"test with synthetic dataset, accuracy = %.4f\"%(acc_test))"
      ],
      "metadata": {
        "colab": {
          "base_uri": "https://localhost:8080/"
        },
        "id": "D1WcM1Zh3Vu1",
        "outputId": "5fce53d1-181c-4238-cadf-d31705c28574"
      },
      "execution_count": null,
      "outputs": [
        {
          "output_type": "stream",
          "name": "stdout",
          "text": [
            "[2023-11-23 20:29:16] Evaluate_10: epoch = 0100 train time = 6 s train loss = 1.588322 train acc = 0.4600, test acc = 0.7254\n",
            "test with synthetic dataset, accuracy = 0.7254\n"
          ]
        }
      ]
    },
    {
      "cell_type": "markdown",
      "source": [
        "## VGG11 - real dataset initialization"
      ],
      "metadata": {
        "id": "ThbTsX0_0Sm3"
      }
    },
    {
      "cell_type": "code",
      "source": [
        "args.model = 'VGG11'\n",
        "net = utils.get_network(args.model,channel=channel,num_classes=num_classes,im_size=im_size).to(args.device)\n",
        "images_train = data_save[0][0].to(args.device)\n",
        "labels_train = data_save[0][1].to(args.device)\n",
        "dst_train = utils.TensorDataset(images_train, labels_train)\n",
        "_, acc_train, acc_test = utils.evaluate_synset(it_eval,net,images_train ,labels_train,testloader,args)\n",
        "print(\"test with synthetic dataset, accuracy = %.4f\"%(acc_test))"
      ],
      "metadata": {
        "colab": {
          "base_uri": "https://localhost:8080/"
        },
        "id": "3bfMarhJsrzO",
        "outputId": "299b6cbe-9235-4228-d529-47d00173e42a"
      },
      "execution_count": null,
      "outputs": [
        {
          "output_type": "stream",
          "name": "stdout",
          "text": [
            "[2023-11-23 19:42:42] Evaluate_10: epoch = 0100 train time = 6 s train loss = 0.197287 train acc = 0.9900, test acc = 0.9343\n",
            "test with synthetic dataset, accuracy = 0.9343\n"
          ]
        }
      ]
    },
    {
      "cell_type": "markdown",
      "source": [
        "## VGG11 - gaussian noise version"
      ],
      "metadata": {
        "id": "UuHRdzPu3dep"
      }
    },
    {
      "cell_type": "code",
      "source": [
        "args.model = 'VGG11'\n",
        "net = utils.get_network(args.model,channel=channel,num_classes=num_classes,im_size=im_size).to(args.device)\n",
        "images_train = rn_mn_data_save[0][0].to(args.device)\n",
        "labels_train = rn_mn_data_save[0][1].to(args.device)\n",
        "dst_train = utils.TensorDataset(images_train, labels_train)\n",
        "_, acc_train, acc_test = utils.evaluate_synset(it_eval,net,images_train ,labels_train,testloader,args)\n",
        "print(\"test with synthetic dataset, accuracy = %.4f\"%(acc_test))"
      ],
      "metadata": {
        "colab": {
          "base_uri": "https://localhost:8080/"
        },
        "id": "Y18SKvvB3c5N",
        "outputId": "a2d7c547-9e71-4815-b2ee-3d662c99c528"
      },
      "execution_count": null,
      "outputs": [
        {
          "output_type": "stream",
          "name": "stdout",
          "text": [
            "[2023-11-23 20:29:01] Evaluate_10: epoch = 0100 train time = 7 s train loss = 0.177433 train acc = 0.9800, test acc = 0.9267\n",
            "test with synthetic dataset, accuracy = 0.9267\n"
          ]
        }
      ]
    }
  ]
}