{
  "cells": [
    {
      "cell_type": "markdown",
      "metadata": {
        "id": "y5cVe_t2SrXm"
      },
      "source": [
        "# Coding Environment Setup"
      ]
    },
    {
      "cell_type": "code",
      "execution_count": null,
      "metadata": {
        "colab": {
          "base_uri": "https://localhost:8080/"
        },
        "id": "lEjTweh6UZmK",
        "outputId": "9d6c1876-0ed9-4b18-886a-d34df045f74d"
      },
      "outputs": [
        {
          "output_type": "stream",
          "name": "stdout",
          "text": [
            "Drive already mounted at /content/drive; to attempt to forcibly remount, call drive.mount(\"/content/drive\", force_remount=True).\n"
          ]
        }
      ],
      "source": [
        "from google.colab import drive\n",
        "drive.mount('/content/drive')"
      ]
    },
    {
      "cell_type": "markdown",
      "metadata": {
        "id": "TWjilk9CXhhm"
      },
      "source": [
        "In order to import the utils to this, we convert utils and networks to python."
      ]
    },
    {
      "cell_type": "code",
      "execution_count": null,
      "metadata": {
        "colab": {
          "base_uri": "https://localhost:8080/"
        },
        "id": "eu2MSazyXBh1",
        "outputId": "a1005d0a-4a81-4d82-f4dd-d0245c2e6a42"
      },
      "outputs": [
        {
          "name": "stdout",
          "output_type": "stream",
          "text": [
            "[NbConvertApp] Converting notebook /content/drive/MyDrive/ECE1512/ProjectB/networks.ipynb to python\n",
            "[NbConvertApp] Writing 19903 bytes to /content/drive/MyDrive/ECE1512/ProjectB/networks.py\n",
            "[NbConvertApp] Converting notebook /content/drive/MyDrive/ECE1512/ProjectB/utils.ipynb to python\n",
            "[NbConvertApp] Writing 27468 bytes to /content/drive/MyDrive/ECE1512/ProjectB/utils.py\n"
          ]
        },
        {
          "name": "stderr",
          "output_type": "stream",
          "text": [
            "<ipython-input-2-7189dddfc568>:9: DeprecationWarning: Please use `rotate` from the `scipy.ndimage` namespace, the `scipy.ndimage.interpolation` namespace is deprecated.\n",
            "  from scipy.ndimage.interpolation import rotate as scipyrotate\n"
          ]
        },
        {
          "name": "stdout",
          "output_type": "stream",
          "text": [
            "[NbConvertApp] Converting notebook /content/drive/MyDrive/ECE1512/ProjectB/reparam_module.ipynb to python\n",
            "[NbConvertApp] Writing 6844 bytes to /content/drive/MyDrive/ECE1512/ProjectB/reparam_module.py\n",
            "Drive already mounted at /content/drive; to attempt to forcibly remount, call drive.mount(\"/content/drive\", force_remount=True).\n"
          ]
        }
      ],
      "source": [
        "!jupyter nbconvert --to python '/content/drive/MyDrive/ECE1512/ProjectB/networks.ipynb'\n",
        "%run '/content/drive/MyDrive/ECE1512/ProjectB/networks.ipynb'\n",
        "!jupyter nbconvert --to python '/content/drive/MyDrive/ECE1512/ProjectB/utils.ipynb'\n",
        "%run '/content/drive/MyDrive/ECE1512/ProjectB/utils.ipynb'\n",
        "!jupyter nbconvert --to python '/content/drive/MyDrive/ECE1512/ProjectB/reparam_module.ipynb'\n",
        "%run '/content/drive/MyDrive/ECE1512/ProjectB/reparam_module.ipynb'"
      ]
    },
    {
      "cell_type": "code",
      "execution_count": null,
      "metadata": {
        "colab": {
          "base_uri": "https://localhost:8080/"
        },
        "id": "i1vRmN7nSc5W",
        "outputId": "fcc8b274-8831-49d3-ccf2-d568b7f07093"
      },
      "outputs": [
        {
          "output_type": "stream",
          "name": "stdout",
          "text": [
            "Drive already mounted at /content/drive; to attempt to forcibly remount, call drive.mount(\"/content/drive\", force_remount=True).\n"
          ]
        }
      ],
      "source": [
        "import numpy as np\n",
        "import pandas as pd\n",
        "import matplotlib.pyplot as plt\n",
        "import torch\n",
        "import torch.nn as nn\n",
        "import torch.optim as optim\n",
        "from torchvision import datasets, transforms\n",
        "from torch.utils.data import DataLoader\n",
        "import tqdm\n",
        "import os\n",
        "import copy\n",
        "import time\n",
        "from torchvision.utils import save_image\n",
        "import warnings\n",
        "\n",
        "import random\n",
        "\n",
        "warnings.filterwarnings('ignore')\n",
        "\n",
        "import sys\n",
        "sys.path.append('/content/drive/MyDrive/ECE1512/ProjectB')\n",
        "from reparam_module import ReparamModule\n",
        "import utils\n",
        "import networks\n"
      ]
    },
    {
      "cell_type": "code",
      "execution_count": null,
      "metadata": {
        "colab": {
          "base_uri": "https://localhost:8080/"
        },
        "id": "6nUxIjOsdzlc",
        "outputId": "85f0fa6c-595a-46aa-fd13-9e160f3473ec"
      },
      "outputs": [
        {
          "output_type": "stream",
          "name": "stdout",
          "text": [
            "Collecting kornia\n",
            "  Downloading kornia-0.7.0-py2.py3-none-any.whl (705 kB)\n",
            "\u001b[?25l     \u001b[90m━━━━━━━━━━━━━━━━━━━━━━━━━━━━━━━━━━━━━━━━\u001b[0m \u001b[32m0.0/705.7 kB\u001b[0m \u001b[31m?\u001b[0m eta \u001b[36m-:--:--\u001b[0m\r\u001b[2K     \u001b[91m━━━━━━━━━━━\u001b[0m\u001b[90m╺\u001b[0m\u001b[90m━━━━━━━━━━━━━━━━━━━━━━━━━━━━\u001b[0m \u001b[32m194.6/705.7 kB\u001b[0m \u001b[31m5.8 MB/s\u001b[0m eta \u001b[36m0:00:01\u001b[0m\r\u001b[2K     \u001b[91m━━━━━━━━━━━━━━━━━━━━━━━━━━━━━━━━━━━━━━━\u001b[0m\u001b[90m╺\u001b[0m \u001b[32m696.3/705.7 kB\u001b[0m \u001b[31m10.2 MB/s\u001b[0m eta \u001b[36m0:00:01\u001b[0m\r\u001b[2K     \u001b[90m━━━━━━━━━━━━━━━━━━━━━━━━━━━━━━━━━━━━━━━━\u001b[0m \u001b[32m705.7/705.7 kB\u001b[0m \u001b[31m9.0 MB/s\u001b[0m eta \u001b[36m0:00:00\u001b[0m\n",
            "\u001b[?25hRequirement already satisfied: packaging in /usr/local/lib/python3.10/dist-packages (from kornia) (23.2)\n",
            "Requirement already satisfied: torch>=1.9.1 in /usr/local/lib/python3.10/dist-packages (from kornia) (2.1.0+cu118)\n",
            "Requirement already satisfied: filelock in /usr/local/lib/python3.10/dist-packages (from torch>=1.9.1->kornia) (3.13.1)\n",
            "Requirement already satisfied: typing-extensions in /usr/local/lib/python3.10/dist-packages (from torch>=1.9.1->kornia) (4.5.0)\n",
            "Requirement already satisfied: sympy in /usr/local/lib/python3.10/dist-packages (from torch>=1.9.1->kornia) (1.12)\n",
            "Requirement already satisfied: networkx in /usr/local/lib/python3.10/dist-packages (from torch>=1.9.1->kornia) (3.2.1)\n",
            "Requirement already satisfied: jinja2 in /usr/local/lib/python3.10/dist-packages (from torch>=1.9.1->kornia) (3.1.2)\n",
            "Requirement already satisfied: fsspec in /usr/local/lib/python3.10/dist-packages (from torch>=1.9.1->kornia) (2023.6.0)\n",
            "Requirement already satisfied: triton==2.1.0 in /usr/local/lib/python3.10/dist-packages (from torch>=1.9.1->kornia) (2.1.0)\n",
            "Requirement already satisfied: MarkupSafe>=2.0 in /usr/local/lib/python3.10/dist-packages (from jinja2->torch>=1.9.1->kornia) (2.1.3)\n",
            "Requirement already satisfied: mpmath>=0.19 in /usr/local/lib/python3.10/dist-packages (from sympy->torch>=1.9.1->kornia) (1.3.0)\n",
            "Installing collected packages: kornia\n",
            "Successfully installed kornia-0.7.0\n"
          ]
        }
      ],
      "source": [
        "!pip install kornia\n",
        "# import wandb\n",
        "import torchvision\n",
        "import kornia as K\n",
        "import torch.nn.functional as F"
      ]
    },
    {
      "cell_type": "markdown",
      "metadata": {
        "id": "XhnFasZ8b9YO"
      },
      "source": [
        "# Load MNIST Data\n"
      ]
    },
    {
      "cell_type": "code",
      "execution_count": null,
      "metadata": {
        "colab": {
          "base_uri": "https://localhost:8080/"
        },
        "id": "vBBD6uNMX9jd",
        "outputId": "7501b260-4671-4659-ca01-c79388ca7c4f"
      },
      "outputs": [
        {
          "output_type": "stream",
          "name": "stdout",
          "text": [
            "Downloading http://yann.lecun.com/exdb/mnist/train-images-idx3-ubyte.gz\n",
            "Downloading http://yann.lecun.com/exdb/mnist/train-images-idx3-ubyte.gz to ./mnist_data/MNIST/raw/train-images-idx3-ubyte.gz\n"
          ]
        },
        {
          "output_type": "stream",
          "name": "stderr",
          "text": [
            "100%|██████████| 9912422/9912422 [00:00<00:00, 245361152.72it/s]"
          ]
        },
        {
          "output_type": "stream",
          "name": "stdout",
          "text": [
            "Extracting ./mnist_data/MNIST/raw/train-images-idx3-ubyte.gz to ./mnist_data/MNIST/raw\n"
          ]
        },
        {
          "output_type": "stream",
          "name": "stderr",
          "text": [
            "\n"
          ]
        },
        {
          "output_type": "stream",
          "name": "stdout",
          "text": [
            "\n",
            "Downloading http://yann.lecun.com/exdb/mnist/train-labels-idx1-ubyte.gz\n",
            "Downloading http://yann.lecun.com/exdb/mnist/train-labels-idx1-ubyte.gz to ./mnist_data/MNIST/raw/train-labels-idx1-ubyte.gz\n"
          ]
        },
        {
          "output_type": "stream",
          "name": "stderr",
          "text": [
            "100%|██████████| 28881/28881 [00:00<00:00, 26699513.74it/s]\n"
          ]
        },
        {
          "output_type": "stream",
          "name": "stdout",
          "text": [
            "Extracting ./mnist_data/MNIST/raw/train-labels-idx1-ubyte.gz to ./mnist_data/MNIST/raw\n",
            "\n",
            "Downloading http://yann.lecun.com/exdb/mnist/t10k-images-idx3-ubyte.gz\n",
            "Downloading http://yann.lecun.com/exdb/mnist/t10k-images-idx3-ubyte.gz to ./mnist_data/MNIST/raw/t10k-images-idx3-ubyte.gz\n"
          ]
        },
        {
          "output_type": "stream",
          "name": "stderr",
          "text": [
            "100%|██████████| 1648877/1648877 [00:00<00:00, 76126799.97it/s]"
          ]
        },
        {
          "output_type": "stream",
          "name": "stdout",
          "text": [
            "Extracting ./mnist_data/MNIST/raw/t10k-images-idx3-ubyte.gz to ./mnist_data/MNIST/raw\n"
          ]
        },
        {
          "output_type": "stream",
          "name": "stderr",
          "text": [
            "\n"
          ]
        },
        {
          "output_type": "stream",
          "name": "stdout",
          "text": [
            "\n",
            "Downloading http://yann.lecun.com/exdb/mnist/t10k-labels-idx1-ubyte.gz\n",
            "Downloading http://yann.lecun.com/exdb/mnist/t10k-labels-idx1-ubyte.gz to ./mnist_data/MNIST/raw/t10k-labels-idx1-ubyte.gz\n"
          ]
        },
        {
          "output_type": "stream",
          "name": "stderr",
          "text": [
            "100%|██████████| 4542/4542 [00:00<00:00, 3864204.62it/s]\n"
          ]
        },
        {
          "output_type": "stream",
          "name": "stdout",
          "text": [
            "Extracting ./mnist_data/MNIST/raw/t10k-labels-idx1-ubyte.gz to ./mnist_data/MNIST/raw\n",
            "\n"
          ]
        }
      ],
      "source": [
        "mnist_dataset = 'MNIST'\n",
        "mnist_data_path = './mnist_data'\n",
        "channel, im_size, num_classes, class_names, mean, std, dst_train, dst_test, testloader = utils.get_dataset(mnist_dataset, mnist_data_path)\n"
      ]
    },
    {
      "cell_type": "markdown",
      "metadata": {
        "id": "OvBgFqAa25Q8"
      },
      "source": [
        "# GATM Implementation"
      ]
    },
    {
      "cell_type": "markdown",
      "source": [
        "#### Argument Class Created"
      ],
      "metadata": {
        "id": "FAMcT1Mr3C75"
      }
    },
    {
      "cell_type": "code",
      "execution_count": 54,
      "metadata": {
        "id": "X_9xaJEZ6ltd"
      },
      "outputs": [],
      "source": [
        "NET = 'ConvNet'\n",
        "class datm_arguments():\n",
        "  def __init__(self,device,ipc = 10):\n",
        "    self.dataset = 'MNIST'\n",
        "    self.subset = 'imagenette'\n",
        "    self.model = NET\n",
        "    self.lr_img = 1000\n",
        "    self.lr_lr = 1e-05\n",
        "    self.lr_teacher = 0.01\n",
        "    self.lr_y = 2\n",
        "    self.Momentum_y = 0.9\n",
        "    self.lr_init = 0.01\n",
        "    self.batch_real = 256\n",
        "    self.batch_train = 256\n",
        "    self.batch_syn = None\n",
        "    self.pix_init = \"samples_predicted_correctly\"\n",
        "\n",
        "    self.data_path = 'mnist_data'\n",
        "    self.buffer_path = './MNISTbuffers'\n",
        "    self.expert_epochs = 2\n",
        "    self.syn_steps = 22\n",
        "    self.max_start_epoch = 15\n",
        "    self.load_all = False\n",
        "    self.no_aug = False\n",
        "    self.zca = False\n",
        "    self.texture = False\n",
        "    self.canvas_size = 2\n",
        "    self.canvas_samples = 1\n",
        "    self.max_files = None\n",
        "    self.max_experts = None\n",
        "    self.force_save = False\n",
        "    self.ema_decay = 0.999\n",
        "    self.ipc = ipc\n",
        "    self.eval_mode = 'S'\n",
        "    self.num_eval = 20\n",
        "    self.eval_it = 20\n",
        "    self.epoch_eval_train = 200\n",
        "    self.Iteration = 100\n",
        "    self.Sequential_Generation = True\n",
        "    self.expansion_end_epoch = 100\n",
        "    self.current_max_start_epoch = 20\n",
        "    self.min_start_epoch = 0\n",
        "    self.max_start_epoch = 25\n",
        "    self.threshold = 1.0\n",
        "    self.Initialize_Label_With_Another_Model = False\n",
        "    self.parall_eva = False\n",
        "    self.Label_Model_Timestamp = -1\n",
        "\n",
        "\n",
        "\n",
        "    self.num_classes = num_classes\n",
        "    self.channel = channel\n",
        "    self.im_size = im_size\n",
        "    self.mean = mean\n",
        "    self.std = std\n",
        "\n",
        "    self.device = device\n",
        "    self.dsa = True\n",
        "    self.dsa_param = utils.ParamDiffAug()\n"
      ]
    },
    {
      "cell_type": "markdown",
      "source": [
        "#### Functions\n",
        "**get_dataset**: there are more items will be returned, like classmap,\n",
        "class_map_ive, loader_train_direct.\n",
        "\n",
        "**Epoch**: the label would be long instead float and input new train_criterion\n",
        "\n",
        "**evaluate_synset**: input the cirterion and pass to epoch.  "
      ],
      "metadata": {
        "id": "Uk9AjFiW3Nyw"
      }
    },
    {
      "cell_type": "code",
      "execution_count": null,
      "metadata": {
        "id": "hYp4uw1QT30t"
      },
      "outputs": [],
      "source": [
        "\"\"\"\n",
        "@misc{guo2023lossless,\n",
        "  title={Towards Lossless Dataset Distillation via Difficulty-Aligned Trajectory Matching},\n",
        "  author={Ziyao Guo and Kai Wang and George Cazenavette and Hui Li and Kaipeng Zhang and Yang You},\n",
        "  year={2023},\n",
        "  eprint={2310.05773},\n",
        "  archivePrefix={arXiv},\n",
        "  primaryClass={cs.CV}\n",
        "}\n",
        "\"\"\"\n",
        "def get_dataset(dataset, data_path, batch_size=1, subset=\"imagenette\", args=None, baseline=False):\n",
        "\n",
        "  class_map = None\n",
        "  loader_train_dict = None\n",
        "  class_map_inv = None\n",
        "\n",
        "  channel = 1\n",
        "  im_size = (28, 28)\n",
        "  num_classes = 10\n",
        "  mean = [0.1307]\n",
        "  std = [0.3081]\n",
        "  if not args.zca:\n",
        "    transform = transforms.Compose([transforms.ToTensor(), transforms.Normalize(mean=mean, std=std)])\n",
        "  else:\n",
        "    transform = transforms.Compose([transforms.ToTensor()])\n",
        "  dst_train = datasets.MNIST(data_path, train=True, download=True, transform=transform) # no augmentation\n",
        "  dst_test = datasets.MNIST(data_path, train=False, download=True, transform=transform)\n",
        "  class_names = [str(c) for c in range(num_classes)]\n",
        "  class_map = {x:x for x in range(num_classes)}\n",
        "\n",
        "  if args.zca:\n",
        "    images = []\n",
        "    labels = []\n",
        "    print(\"Train ZCA\")\n",
        "    for i in tqdm.tqdm(range(len(dst_train))):\n",
        "        im, lab = dst_train[i]\n",
        "        images.append(im)\n",
        "        labels.append(lab)\n",
        "    images = torch.stack(images, dim=0).to(args.device)\n",
        "    labels = torch.tensor(labels, dtype=torch.long, device=\"cpu\")\n",
        "    zca = K.enhance.ZCAWhitening(eps=0.1, compute_inv=True)\n",
        "    zca.fit(images)\n",
        "    zca_images = zca(images).to(\"cpu\")\n",
        "    dst_train = utils.TensorDataset(zca_images, labels)\n",
        "\n",
        "    images = []\n",
        "    labels = []\n",
        "    print(\"Test ZCA\")\n",
        "    for i in tqdm.tqdm(range(len(dst_test))):\n",
        "        im, lab = dst_test[i]\n",
        "        images.append(im)\n",
        "        labels.append(lab)\n",
        "    images = torch.stack(images, dim=0).to(args.device)\n",
        "    labels = torch.tensor(labels, dtype=torch.long, device=\"cpu\")\n",
        "\n",
        "    zca_images = zca(images).to(\"cpu\")\n",
        "    dst_test = utils.TensorDataset(zca_images, labels)\n",
        "\n",
        "    print(type(zca))\n",
        "\n",
        "\n",
        "    args.zca_trans = zca\n",
        "\n",
        "\n",
        "  testloader = torch.utils.data.DataLoader(dst_test, batch_size=256, shuffle=False, num_workers=2)\n",
        "\n",
        "\n",
        "  return channel, im_size, num_classes, class_names, mean, std, dst_train, dst_test, testloader, loader_train_dict, class_map, class_map_inv\n"
      ]
    },
    {
      "cell_type": "code",
      "execution_count": null,
      "metadata": {
        "id": "mSVZJ_V0fFFo"
      },
      "outputs": [],
      "source": [
        "\"\"\"\n",
        "@misc{guo2023lossless,\n",
        "  title={Towards Lossless Dataset Distillation via Difficulty-Aligned Trajectory Matching},\n",
        "  author={Ziyao Guo and Kai Wang and George Cazenavette and Hui Li and Kaipeng Zhang and Yang You},\n",
        "  year={2023},\n",
        "  eprint={2310.05773},\n",
        "  archivePrefix={arXiv},\n",
        "  primaryClass={cs.CV}\n",
        "}\n",
        "\"\"\"\n",
        "class Config:\n",
        "    imagenette = [0, 217, 482, 491, 497, 566, 569, 571, 574, 701]\n",
        "\n",
        "    # [\"australian_terrier\", \"border_terrier\", \"samoyed\", \"beagle\", \"shih-tzu\", \"english_foxhound\", \"rhodesian_ridgeback\", \"dingo\", \"golden_retriever\", \"english_sheepdog\"]\n",
        "    imagewoof = [193, 182, 258, 162, 155, 167, 159, 273, 207, 229]\n",
        "\n",
        "    # [\"tabby_cat\", \"bengal_cat\", \"persian_cat\", \"siamese_cat\", \"egyptian_cat\", \"lion\", \"tiger\", \"jaguar\", \"snow_leopard\", \"lynx\"]\n",
        "    imagemeow = [281, 282, 283, 284, 285, 291, 292, 290, 289, 287]\n",
        "\n",
        "    # [\"peacock\", \"flamingo\", \"macaw\", \"pelican\", \"king_penguin\", \"bald_eagle\", \"toucan\", \"ostrich\", \"black_swan\", \"cockatoo\"]\n",
        "    imagesquawk = [84, 130, 88, 144, 145, 22, 96, 9, 100, 89]\n",
        "\n",
        "    # [\"pineapple\", \"banana\", \"strawberry\", \"orange\", \"lemon\", \"pomegranate\", \"fig\", \"bell_pepper\", \"cucumber\", \"green_apple\"]\n",
        "    imagefruit = [953, 954, 949, 950, 951, 957, 952, 945, 943, 948]\n",
        "\n",
        "    # [\"bee\", \"ladys slipper\", \"banana\", \"lemon\", \"corn\", \"school_bus\", \"honeycomb\", \"lion\", \"garden_spider\", \"goldfinch\"]\n",
        "    imageyellow = [309, 986, 954, 951, 987, 779, 599, 291, 72, 11]\n",
        "\n",
        "    dict = {\n",
        "        \"imagenette\" : imagenette,\n",
        "        \"imagewoof\" : imagewoof,\n",
        "        \"imagefruit\": imagefruit,\n",
        "        \"imageyellow\": imageyellow,\n",
        "        \"imagemeow\": imagemeow,\n",
        "        \"imagesquawk\": imagesquawk,\n",
        "    }\n",
        "\n",
        "config = Config()\n",
        "\n",
        "def epoch(mode, dataloader, net, optimizer, criterion, args, aug, texture=False, If_Float = False):\n",
        "    loss_avg, acc_avg, num_exp = 0, 0, 0\n",
        "    if args.parall_eva==False:\n",
        "        device = torch.device(\"cuda:0\")\n",
        "    else:\n",
        "        device = args.device\n",
        "\n",
        "    if args.dataset == \"ImageNet\":\n",
        "        class_map = {x: i for i, x in enumerate(config.img_net_classes)}\n",
        "\n",
        "    if mode == 'train':\n",
        "        net.train()\n",
        "    else:\n",
        "        net.eval()\n",
        "    net = net.to(device)\n",
        "    for i_batch, datum in enumerate(dataloader):\n",
        "        img = datum[0].float().to(device)\n",
        "        if If_Float:\n",
        "            lab = datum[1].float().to(device)\n",
        "        else:\n",
        "            lab = datum[1].long().to(device)\n",
        "        if aug:\n",
        "            if args.dsa:\n",
        "                img = utils.DiffAugment(img, args.dsa_strategy, param=args.dsa_param)\n",
        "            else:\n",
        "                img = utils.augment(img, args.dc_aug_param, device=device)\n",
        "        img = img.to(device)\n",
        "        if args.dataset == \"ImageNet\" and mode != \"train\":\n",
        "            lab = torch.tensor([class_map[x.item()] for x in lab]).to(device)\n",
        "\n",
        "        n_b = lab.shape[0]\n",
        "\n",
        "        output = net(img)\n",
        "        loss = criterion(output, lab)\n",
        "\n",
        "\n",
        "        if If_Float:\n",
        "            acc = 1.\n",
        "        else:\n",
        "            acc = np.sum(np.equal(np.argmax(output.cpu().data.numpy(), axis=-1), lab.cpu().data.numpy()))\n",
        "\n",
        "        loss_avg += loss.item()*n_b\n",
        "        acc_avg += acc\n",
        "        num_exp += n_b\n",
        "\n",
        "        if mode == 'train':\n",
        "            optimizer.zero_grad()\n",
        "            loss.backward()\n",
        "            optimizer.step()\n",
        "\n",
        "    loss_avg /= num_exp\n",
        "    acc_avg /= num_exp\n",
        "\n",
        "    return loss_avg, acc_avg\n",
        "\n",
        "\n",
        "def evaluate_synset(it_eval, net, images_train, labels_train, testloader, args, return_loss=False, texture=False, train_criterion=None, Preciser_Scheduler=False, type=1):\n",
        "    if args.parall_eva==False:\n",
        "        device = torch.device(\"cuda:0\")\n",
        "    else:\n",
        "        device = args.device\n",
        "    net = net.to(device)\n",
        "    images_train.to(device)\n",
        "    labels_train.to(device)\n",
        "    lr = float(args.lr_net)\n",
        "    Epoch = int(args.epoch_eval_train)\n",
        "\n",
        "    if Preciser_Scheduler:\n",
        "        LR_begin=0.0000000001\n",
        "        LR_End = float(args.lr_net)\n",
        "        if type==0:\n",
        "            t=0\n",
        "        else:\n",
        "            t=500\n",
        "        T=Epoch\n",
        "        lambda1 = lambda epoch: ((LR_End-LR_begin)*epoch / t) if epoch < t else  LR_End * (1+math.cos(math.pi*(epoch - t)/(T-t)))/2.\n",
        "        optimizer = torch.optim.Adam(net.parameters(), lr=LR_End, weight_decay=0.0005)\n",
        "        scheduler = torch.optim.lr_scheduler.LambdaLR(optimizer, lr_lambda=lambda1)\n",
        "    else:\n",
        "        lr_schedule = [Epoch//2+1]\n",
        "        optimizer = torch.optim.SGD(net.parameters(), lr=lr, momentum=0.9, weight_decay=0.0005)\n",
        "\n",
        "    '''test'''\n",
        "    test_criterion = nn.CrossEntropyLoss().to(device)\n",
        "    If_Float = True\n",
        "    if train_criterion == None:\n",
        "        train_criterion = nn.CrossEntropyLoss().to(device)\n",
        "        If_Float = False\n",
        "\n",
        "    dst_train = utils.TensorDataset(images_train, labels_train)\n",
        "    trainloader = torch.utils.data.DataLoader(dst_train, batch_size=args.batch_train, shuffle=True, num_workers=0)\n",
        "\n",
        "    start = time.time()\n",
        "    acc_train_list = []\n",
        "    loss_train_list = []\n",
        "\n",
        "    for ep in tqdm.tqdm(range(Epoch+1)):\n",
        "        loss_train, acc_train = epoch('train', trainloader, net, optimizer, train_criterion, args, aug=True, texture=texture, If_Float=If_Float)\n",
        "        acc_train_list.append(acc_train)\n",
        "        loss_train_list.append(loss_train)\n",
        "        if ep == Epoch:\n",
        "            with torch.no_grad():\n",
        "                loss_test, acc_test = epoch('test', testloader, net, optimizer, test_criterion, args, aug=False, If_Float = False)\n",
        "        if Preciser_Scheduler:\n",
        "            scheduler.step()\n",
        "        else:\n",
        "            if ep in lr_schedule:\n",
        "                lr *= 0.1\n",
        "                optimizer = torch.optim.SGD(net.parameters(), lr=lr, momentum=0.9, weight_decay=0.0005)\n",
        "\n",
        "\n",
        "    time_train = time.time() - start\n",
        "\n",
        "    print('%s Evaluate_%02d: epoch = %04d train time = %d s train loss = %.6f train acc = %.4f, test acc = %.4f' % (utils.get_time(), it_eval, Epoch, int(time_train), loss_train, acc_train, acc_test))\n",
        "\n",
        "    if return_loss:\n",
        "        return net, acc_train_list, acc_test, loss_train_list, loss_test\n",
        "    else:\n",
        "        return net, acc_train_list, acc_test"
      ]
    },
    {
      "cell_type": "markdown",
      "source": [
        "#### DATM Function\n",
        "**Reference**: G. Cazenavette, T. Wang, A. Torralba, A. A. Efros, and J.-Y. Zhu, \"Dataset Distillation by Matching Training Trajectories,\" in Proceedings of the IEEE/CVF Conference on Computer Vision and Pattern Recognition, pp. 4750-4759, 2022. [Online]. Available: https://arxiv.org/abs/2203.11932"
      ],
      "metadata": {
        "id": "vi5l1rsC4dCM"
      }
    },
    {
      "cell_type": "code",
      "execution_count": null,
      "metadata": {
        "id": "zZzhHZsq29Au"
      },
      "outputs": [],
      "source": [
        "\"\"\"\n",
        "@misc{guo2023lossless,\n",
        "  title={Towards Lossless Dataset Distillation via Difficulty-Aligned Trajectory Matching},\n",
        "  author={Ziyao Guo and Kai Wang and George Cazenavette and Hui Li and Kaipeng Zhang and Yang You},\n",
        "  year={2023},\n",
        "  eprint={2310.05773},\n",
        "  archivePrefix={arXiv},\n",
        "  primaryClass={cs.CV}\n",
        "}\n",
        "\"\"\"\n",
        "def manual_seed(seed=0):\n",
        "\trandom.seed(seed)\n",
        "\tos.environ['PYTHONHASHSEED'] = str(seed)\n",
        "\tnp.random.seed(seed)\n",
        "\ttorch.manual_seed(seed)\n",
        "\ttorch.cuda.manual_seed(seed)\n",
        "\ttorch.cuda.manual_seed_all(seed)\n",
        "\n",
        "def DATM (args):\n",
        "  best_data = []\n",
        "  r_test_acc = []\n",
        "  r_train_acc = []\n",
        "  last_data = []\n",
        "\n",
        "  manual_seed()\n",
        "\n",
        "  if args.texture and args.pix_init == \"real\":\n",
        "      print(\"WARNING: Using texture with real initialization will take a very long time to smooth out the boundaries between images.\")\n",
        "\n",
        "  if args.max_experts is not None and args.max_files is not None:\n",
        "      args.total_experts = args.max_experts * args.max_files\n",
        "\n",
        "  if args.zca and args.texture:\n",
        "    raise AssertionError(\"Cannot use zca and texture together\")\n",
        "\n",
        "  ''' basic setup '''\n",
        "  args.device = 'cuda' if torch.cuda.is_available() else 'cpu'\n",
        "  args.dsa = True if args.dsa == 'True' else False\n",
        "  args.dc_aug_param = utils.get_daparam(args.dataset, model, NET, ipc = args.ipc)\n",
        "  args.dsa_strategy = args.dc_aug_param['strategy']\n",
        "\n",
        "  eval_it_pool = np.arange(0, args.Iteration + 1, args.eval_it).tolist()\n",
        "  #eval_it_pool = [0, 50, 100, 150, 170, 199]\n",
        "\n",
        "  channel, im_size, num_classes, class_names, mean, std, dst_train, dst_test, testloader, loader_train_dict, class_map, class_map_inv = get_dataset(args.dataset, args.data_path, args.batch_real, args.subset, args=args)\n",
        "  model_eval_pool = utils.get_eval_pool(args.eval_mode, args.model, args.model)\n",
        "\n",
        "  accs_all_exps = dict() # record performances of all experiments\n",
        "  for key in model_eval_pool:\n",
        "      accs_all_exps[key] = []\n",
        "\n",
        "  data_save = []\n",
        "\n",
        "\n",
        "  if args.dsa:\n",
        "    args.dc_aug_param = None\n",
        "\n",
        "  if args.zca:\n",
        "    zca_trans = args.zca_trans\n",
        "  else:\n",
        "    zca_trans = None\n",
        "\n",
        "  # wandb.init(sync_tensorboard=False,\n",
        "  #       project=\"DatasetDistillation\",\n",
        "  #       job_type=\"CleanRepo\",\n",
        "  #       config=args,\n",
        "  # )\n",
        "\n",
        "  args.zca_trans = zca_trans\n",
        "\n",
        "  if args.batch_syn is None:\n",
        "    args.batch_syn = num_classes * args.ipc\n",
        "\n",
        "\n",
        "  args.distributed = torch.cuda.device_count() > 1\n",
        "\n",
        "  '''organization Dataset'''\n",
        "  indices_class = [[] for c in range(num_classes)]\n",
        "  images_all = [torch.unsqueeze(dst_train[i][0], dim=0) for i in range(len(dst_train))]\n",
        "  labels_all = [dst_train[i][1] for i in range(len(dst_train))]\n",
        "\n",
        "  for i, lab in enumerate(labels_all):\n",
        "      indices_class[lab].append(i)\n",
        "\n",
        "  images_all = torch.cat(images_all, dim=0).to(args.device)\n",
        "  labels_all = torch.tensor(labels_all, dtype=torch.long, device=args.device)\n",
        "\n",
        "  for c in range(num_classes):\n",
        "      print('class c = %d: %d real images'%(c, len(indices_class[c])))\n",
        "\n",
        "  def get_images(c, n): # get random n images from class c\n",
        "      idx_shuffle = np.random.permutation(indices_class[c])[:n]\n",
        "      return images_all[idx_shuffle]\n",
        "\n",
        "  '''initialize the synthetic data '''\n",
        "  label_syn = torch.tensor([np.ones(args.ipc)*i for i in range(num_classes)], dtype=torch.long, requires_grad=False, device=args.device).view(-1)\n",
        "  image_syn = torch.randn(size=(num_classes * args.ipc, channel, im_size[0], im_size[1]), dtype=torch.float)\n",
        "  syn_lr = torch.tensor(args.lr_teacher).to(args.device)\n",
        "  expert_dir = os.path.join(args.buffer_path, args.dataset)\n",
        "  expert_dir = os.path.join(expert_dir, args.model)\n",
        "  print(\"Expert Dir: {}\".format(expert_dir))\n",
        "\n",
        "  if args.load_all:\n",
        "    buffer = []\n",
        "    n = 0\n",
        "    while os.path.exists(os.path.join(expert_dir, \"replay_buffer_{}.pt\".format(n))):\n",
        "        buffer = buffer + torch.load(os.path.join(expert_dir, \"replay_buffer_{}.pt\".format(n)))\n",
        "        n += 1\n",
        "    if n == 0:\n",
        "        raise AssertionError(\"No buffers detected at {}\".format(expert_dir))\n",
        "  else:\n",
        "    expert_files = []\n",
        "    n = 0\n",
        "    while os.path.exists(os.path.join(expert_dir, \"replay_buffer_{}.pt\".format(n))):\n",
        "        expert_files.append(os.path.join(expert_dir, \"replay_buffer_{}.pt\".format(n)))\n",
        "        n += 1\n",
        "    if n == 0:\n",
        "        raise AssertionError(\"No buffers detected at {}\".format(expert_dir))\n",
        "    file_idx = 0\n",
        "    expert_idx = 0\n",
        "    # random.shuffle(expert_files)\n",
        "    if args.max_files is not None:\n",
        "        expert_files = expert_files[:args.max_files]\n",
        "\n",
        "    expert_id = [i for i in range(len(expert_files))]\n",
        "    random.shuffle(expert_id)\n",
        "\n",
        "    print(\"loading file {}\".format(expert_files[expert_id[file_idx]]))\n",
        "    buffer = torch.load(expert_files[expert_id[file_idx]])\n",
        "    if args.max_experts is not None:\n",
        "        buffer = buffer[:args.max_experts]\n",
        "    buffer_id = [i for i in range(len(buffer))]\n",
        "    random.shuffle(buffer_id)\n",
        "\n",
        "\n",
        "  if args.pix_init == 'real':\n",
        "    print('initialize synthetic data from random real images')\n",
        "    for c in range(args.num_classes):\n",
        "      image_syn.data[c * args.ipc:(c + 1) * args.ipc] = get_images(c, args.ipc).detach().data\n",
        "  elif args.pix_init == 'samples_predicted_correctly':\n",
        "    if args.parall_eva==False:\n",
        "        device = torch.device(\"cuda:0\")\n",
        "    else:\n",
        "        device = args.device\n",
        "    if args.Initialize_Label_With_Another_Model:\n",
        "        Temp_net = utils.get_network(args.Initialize_Label_Model, channel, num_classes, im_size).to(device)  # get a random model\n",
        "    else:\n",
        "        Temp_net = utils.get_network(args.model, channel, num_classes, im_size).to(device)  # get a random model\n",
        "    Temp_net.eval()\n",
        "    Temp_net = ReparamModule(Temp_net)\n",
        "    if args.distributed and args.parall_eva==True:\n",
        "        Temp_net = torch.nn.DataParallel(Temp_net)\n",
        "    Temp_net.eval()\n",
        "    logits=[]\n",
        "    label_expert_files = expert_files\n",
        "    temp_params = torch.load(label_expert_files[0])[0][args.Label_Model_Timestamp]\n",
        "    temp_params = torch.cat([p.data.to(device).reshape(-1) for p in temp_params], 0)\n",
        "\n",
        "    if args.distributed and args.parall_eva==True:\n",
        "        temp_params = temp_params.unsqueeze(0).expand(torch.cuda.device_count(), -1)\n",
        "    for c in range(num_classes):\n",
        "        data_for_class_c = get_images(c, len(indices_class[c])).detach().data\n",
        "        n, _, w, h = data_for_class_c.shape\n",
        "        selected_num = 0\n",
        "        select_times = 0\n",
        "        cur=0\n",
        "        temp_img = None\n",
        "        Wrong_Predicted_Img = None\n",
        "        batch_size = 256\n",
        "        index = []\n",
        "        while len(index)<args.ipc:\n",
        "            print(str(c)+'.'+str(select_times)+'.'+str(cur))\n",
        "            current_data_batch = data_for_class_c[batch_size*select_times : batch_size*(select_times+1)].detach().to(device)\n",
        "            if batch_size*select_times > len(data_for_class_c):\n",
        "                select_times = 0\n",
        "                cur+=1\n",
        "                temp_params = torch.load(label_expert_files[int(cur/10)%10])[cur%10][args.Label_Model_Timestamp]\n",
        "                temp_params = torch.cat([p.data.to(device).reshape(-1) for p in temp_params], 0).to(device)\n",
        "                if args.distributed and args.parall_eva==True:\n",
        "                    temp_params = temp_params.unsqueeze(0).expand(torch.cuda.device_count(), -1)\n",
        "                continue\n",
        "            logits = Temp_net(current_data_batch, flat_param=temp_params).detach()\n",
        "            prediction_class = np.argmax(logits.cpu().data.numpy(), axis=-1)\n",
        "            for i in range(len(prediction_class)):\n",
        "                if prediction_class[i]==c and len(index)<args.ipc:\n",
        "                    index.append(batch_size*select_times+i)\n",
        "                    index=list(set(index))\n",
        "            select_times+=1\n",
        "            if len(index) == args.ipc:\n",
        "                temp_img = torch.index_select(data_for_class_c, dim=0, index=torch.tensor(index).to(device))\n",
        "                break\n",
        "        image_syn.data[c * args.ipc:(c + 1) * args.ipc] = temp_img.detach()\n",
        "  else:\n",
        "    print('initialize synthetic data from random noise')\n",
        "\n",
        "  ''' training part '''\n",
        "  image_syn = image_syn.detach().to(args.device).requires_grad_(True)\n",
        "  syn_lr = syn_lr.detach().to(args.device).requires_grad_(True)\n",
        "\n",
        "  optimizer_img = torch.optim.SGD([image_syn], lr=args.lr_img, momentum=0.5)\n",
        "  optimizer_lr = torch.optim.SGD([syn_lr], lr=args.lr_lr, momentum=0.5)\n",
        "  optimizer_img.zero_grad()\n",
        "\n",
        "\n",
        "  best_acc = {m: 0 for m in model_eval_pool}\n",
        "  best_std = {m: 0 for m in model_eval_pool}\n",
        "\n",
        "  def SoftCrossEntropy(inputs, target, reduction='average'):\n",
        "      input_log_likelihood = -F.log_softmax(inputs, dim=1)\n",
        "      target_log_likelihood = F.softmax(target, dim=1)\n",
        "      batch = inputs.shape[0]\n",
        "      loss = torch.sum(torch.mul(input_log_likelihood, target_log_likelihood)) / batch\n",
        "      return loss\n",
        "\n",
        "  criterion = SoftCrossEntropy\n",
        "\n",
        "  '''train'''\n",
        "  if args.pix_init == \"samples_predicted_correctly\":\n",
        "      if args.Initialize_Label_With_Another_Model:\n",
        "          Temp_net = utils.get_network(args.Initialize_Label_Model, channel, num_classes, im_size).to(device)  # get a random model\n",
        "      else:\n",
        "          Temp_net = utils.get_network(args.model, channel, num_classes, im_size).to(device)  # get a random model\n",
        "      Temp_net.eval()\n",
        "      Temp_net = ReparamModule(Temp_net)\n",
        "      if args.distributed:\n",
        "          Temp_net = torch.nn.DataParallel(Temp_net)\n",
        "      Temp_net.eval()\n",
        "      logits=[]\n",
        "      batch_size = 256\n",
        "      for i in range(len(label_expert_files)):\n",
        "          Temp_Buffer = torch.load(label_expert_files[i])\n",
        "          for j in Temp_Buffer:\n",
        "              temp_logits = None\n",
        "              for select_times in range((len(image_syn)+batch_size-1)//batch_size):\n",
        "                  current_data_batch = image_syn[batch_size*select_times : batch_size*(select_times+1)].detach().to(device)\n",
        "                  Temp_params = j[args.Label_Model_Timestamp]\n",
        "                  Initialize_Labels_params = torch.cat([p.data.to(args.device).reshape(-1) for p in Temp_params], 0)\n",
        "                  if args.distributed:\n",
        "                      Initialize_Labels_params = Initialize_Labels_params.unsqueeze(0).expand(torch.cuda.device_count(), -1)\n",
        "                  Initialized_Labels = Temp_net(current_data_batch, flat_param=Initialize_Labels_params)\n",
        "                  if temp_logits == None:\n",
        "                      temp_logits = Initialized_Labels.detach()\n",
        "                  else:\n",
        "                      temp_logits = torch.cat((temp_logits, Initialized_Labels.detach()),0)\n",
        "              logits.append(temp_logits.detach().cpu())\n",
        "      logits_tensor = torch.stack(logits)\n",
        "      true_labels = label_syn.cpu()\n",
        "      predicted_labels = torch.argmax(logits_tensor, dim=2).cpu()\n",
        "      correct_predictions = predicted_labels == true_labels.view(1, -1)\n",
        "      mask = correct_predictions.unsqueeze(2)\n",
        "      correct_logits = logits_tensor * mask.float()\n",
        "      correct_logits_per_model = correct_logits.sum(dim=0)\n",
        "      num_correct_images_per_model = correct_predictions.sum(dim=0, dtype=torch.float)\n",
        "      average_logits_per_image = correct_logits_per_model / num_correct_images_per_model.unsqueeze(1)\n",
        "      Initialized_Labels = average_logits_per_image\n",
        "\n",
        "  elif args.pix_init == \"real\":\n",
        "      Temp_net = utils.get_network(args.model, channel, num_classes, im_size).to(args.device)  # get a random model\n",
        "      Temp_net = ReparamModule(Temp_net)\n",
        "      if args.distributed:\n",
        "          Temp_net = torch.nn.DataParallel(Temp_net)\n",
        "      Temp_net.eval()\n",
        "      Temp_params = buffer[0][-1]\n",
        "      Initialize_Labels_params = torch.cat([p.data.to(args.device).reshape(-1) for p in Temp_params], 0)\n",
        "      if args.distributed:\n",
        "          Initialize_Labels_params = Initialize_Labels_params.unsqueeze(0).expand(torch.cuda.device_count(), -1)\n",
        "      Initialized_Labels = Temp_net(image_syn, flat_param=Initialize_Labels_params)\n",
        "\n",
        "  acc = np.sum(np.equal(np.argmax(Initialized_Labels.cpu().data.numpy(), axis=-1), label_syn.cpu().data.numpy()))\n",
        "  print('InitialAcc:{}'.format(acc/len(label_syn)))\n",
        "\n",
        "  label_syn = copy.deepcopy(Initialized_Labels.detach()).to(args.device).requires_grad_(True)\n",
        "  label_syn.requires_grad=True\n",
        "  label_syn = label_syn.to(args.device)\n",
        "\n",
        "\n",
        "  optimizer_y = torch.optim.SGD([label_syn], lr=args.lr_y, momentum=args.Momentum_y)\n",
        "  vs = torch.zeros_like(label_syn)\n",
        "  accumulated_grad = torch.zeros_like(label_syn)\n",
        "  last_random = 0\n",
        "\n",
        "  del Temp_net\n",
        "\n",
        "  for it in range(0, args.Iteration+1):\n",
        "    save_this_it = False\n",
        "    ''' Evaluate synthesis data '''\n",
        "    if it == (args.Iteration-1):\n",
        "        last_data.append([copy.deepcopy(image_save.detach().cpu()), copy.deepcopy(label_syn.detach().cpu())])\n",
        "    if it in eval_it_pool:\n",
        "      for model_eval in model_eval_pool:\n",
        "        print('-------------------------\\nEvaluation\\nmodel_train = %s, model_eval = %s, iteration = %d'%(args.model, model_eval, it))\n",
        "        if args.dsa:\n",
        "            print('DSA augmentation strategy: \\n', args.dsa_strategy)\n",
        "            print('DSA augmentation parameters: \\n', args.dsa_param.__dict__)\n",
        "        else:\n",
        "            print('DC augmentation parameters: \\n', args.dc_aug_param)\n",
        "\n",
        "        accs_test = []\n",
        "        accs_train = []\n",
        "        for it_eval in range(args.num_eval):\n",
        "          net_eval = utils.get_network(model_eval, channel, num_classes, im_size).to(args.device) # get a random model\n",
        "\n",
        "          eval_labs = label_syn\n",
        "          with torch.no_grad():\n",
        "              image_save = image_syn\n",
        "          image_syn_eval, label_syn_eval = copy.deepcopy(image_save.detach()), copy.deepcopy(eval_labs.detach()) # avoid any unaware modification\n",
        "\n",
        "          args.lr_net = syn_lr.item()\n",
        "          _, acc_train, acc_test = evaluate_synset(it_eval, net_eval, image_syn_eval, label_syn_eval, testloader, args, train_criterion=criterion)\n",
        "          accs_test.append(acc_test)\n",
        "          accs_train.append(acc_train)\n",
        "\n",
        "        accs_test = np.array(accs_test)\n",
        "        accs_train = np.array(accs_train)\n",
        "        acc_test_mean = np.mean(accs_test)\n",
        "        acc_test_std = np.std(accs_test)\n",
        "        r_test_acc.append((model_eval, np.mean(accs_test)))\n",
        "        r_train_acc.append((model_eval, np.mean(accs_train)))\n",
        "\n",
        "\n",
        "\n",
        "        if acc_test_mean > best_acc[model_eval]:\n",
        "            best_acc[model_eval] = acc_test_mean\n",
        "            best_std[model_eval] = acc_test_std\n",
        "            save_this_it = True\n",
        "        print('Evaluate %d random %s, mean = %.4f std = %.4f\\n-------------------------'%(len(accs_test), model_eval, acc_test_mean, acc_test_std))\n",
        "\n",
        "\n",
        "      '''save dataset'''\n",
        "      with torch.no_grad():\n",
        "        image_save = image_syn.cuda()\n",
        "        save_dir = os.path.join(\".\", \"logged_files\", args.dataset)\n",
        "\n",
        "        if not os.path.exists(save_dir):\n",
        "            os.makedirs(save_dir)\n",
        "\n",
        "        torch.save(image_save.cpu(), os.path.join(save_dir, \"images_{}.pt\".format(it)))\n",
        "        torch.save(label_syn.cpu(), os.path.join(save_dir, \"labels_{}.pt\".format(it)))\n",
        "\n",
        "        save_name = os.path.join(save_dir, args.pix_init+'vis_%s_%dipc_iter%d.png'%( args.dataset, args.ipc, it))\n",
        "        image_syn_vis = copy.deepcopy(image_syn.detach().cpu())\n",
        "        image_syn_vis[image_syn_vis<0] = 0.0\n",
        "        image_syn_vis[image_syn_vis>1] = 1.0\n",
        "        save_image(image_syn_vis, save_name, nrow=args.ipc)\n",
        "\n",
        "        if save_this_it:\n",
        "            save_name = os.path.join(save_dir, 'images_best.png')\n",
        "            image_syn_vis = copy.deepcopy(image_syn.detach().cpu())\n",
        "            image_syn_vis[image_syn_vis<0] = 0.0\n",
        "            image_syn_vis[image_syn_vis>1] = 1.0\n",
        "            save_image(image_syn_vis, save_name, nrow=args.ipc)\n",
        "            best_data.append([copy.deepcopy(image_save.detach().cpu()), copy.deepcopy(label_syn.detach().cpu())])\n",
        "            torch.save(image_save.cpu(), os.path.join(save_dir, \"images_best.pt\".format(it)))\n",
        "            torch.save(label_syn.cpu(), os.path.join(save_dir, \"labels_best.pt\".format(it)))\n",
        "\n",
        "\n",
        "        if args.ipc < 50 or args.force_save:\n",
        "            upsampled = image_save\n",
        "            if args.dataset != \"ImageNet\":\n",
        "                upsampled = torch.repeat_interleave(upsampled, repeats=4, dim=2)\n",
        "                upsampled = torch.repeat_interleave(upsampled, repeats=4, dim=3)\n",
        "            grid = torchvision.utils.make_grid(upsampled, nrow=10, normalize=True, scale_each=True)\n",
        "\n",
        "\n",
        "            for clip_val in [2.5]:\n",
        "                std = torch.std(image_save)\n",
        "                mean = torch.mean(image_save)\n",
        "                upsampled = torch.clip(image_save, min=mean-clip_val*std, max=mean+clip_val*std)\n",
        "                if args.dataset != \"ImageNet\":\n",
        "                  upsampled = torch.repeat_interleave(upsampled, repeats=4, dim=2)\n",
        "                  upsampled = torch.repeat_interleave(upsampled, repeats=4, dim=3)\n",
        "                grid = torchvision.utils.make_grid(upsampled, nrow=10, normalize=True, scale_each=True)\n",
        "\n",
        "\n",
        "            if args.zca:\n",
        "                image_save = image_save.to(args.device)\n",
        "                image_save = args.zca_trans.inverse_transform(image_save)\n",
        "                image_save.cpu()\n",
        "                torch.save(image_save.cpu(), os.path.join(save_dir, \"images_zca_{}.pt\".format(it)))\n",
        "                upsampled = image_save\n",
        "                if args.dataset != \"ImageNet\":\n",
        "                    upsampled = torch.repeat_interleave(upsampled, repeats=4, dim=2)\n",
        "                    upsampled = torch.repeat_interleave(upsampled, repeats=4, dim=3)\n",
        "                grid = torchvision.utils.make_grid(upsampled, nrow=10, normalize=True, scale_each=True)\n",
        "\n",
        "                for clip_val in [2.5]:\n",
        "                    std = torch.std(image_save)\n",
        "                    mean = torch.mean(image_save)\n",
        "                    upsampled = torch.clip(image_save, min=mean - clip_val * std, max=mean + clip_val * std)\n",
        "                    if args.dataset != \"ImageNet\":\n",
        "                        upsampled = torch.repeat_interleave(upsampled, repeats=4, dim=2)\n",
        "                        upsampled = torch.repeat_interleave(upsampled, repeats=4, dim=3)\n",
        "                    grid = torchvision.utils.make_grid(upsampled, nrow=10, normalize=True, scale_each=True)\n",
        "\n",
        "\n",
        "    ''' training'''\n",
        "\n",
        "    student_net = utils.get_network(args.model, channel, num_classes, im_size).to(args.device)  # get a random model\n",
        "    student_net = ReparamModule(student_net)\n",
        "    if args.distributed:\n",
        "      student_net = torch.nn.DataParallel(student_net)\n",
        "    student_net.train()\n",
        "    num_params = sum([np.prod(p.size()) for p in (student_net.parameters())])\n",
        "\n",
        "    if args.load_all:\n",
        "      expert_trajectory = buffer[np.random.randint(0, len(buffer))]\n",
        "    else:\n",
        "      expert_trajectory = buffer[buffer_id[expert_idx]]\n",
        "      expert_idx += 1\n",
        "      if expert_idx == len(buffer):\n",
        "          expert_idx = 0\n",
        "          file_idx += 1\n",
        "          if file_idx == len(expert_files):\n",
        "              file_idx = 0\n",
        "              random.shuffle(expert_files)\n",
        "          print(\"loading file {}\".format(expert_files[file_idx]))\n",
        "          if args.max_files != 1:\n",
        "              del buffer\n",
        "              buffer = torch.load(expert_files[file_idx])\n",
        "          if args.max_experts is not None:\n",
        "              buffer = buffer[:args.max_experts]\n",
        "          random.shuffle(buffer_id)\n",
        "\n",
        "    if args.Sequential_Generation:\n",
        "        Upper_Bound = args.current_max_start_epoch + int((args.max_start_epoch-args.current_max_start_epoch) * it/(args.expansion_end_epoch))\n",
        "        Upper_Bound = min(Upper_Bound, args.max_start_epoch)\n",
        "    else:\n",
        "        Upper_Bound = args.max_start_epoch\n",
        "\n",
        "    start_epoch = np.random.randint(args.min_start_epoch, Upper_Bound)\n",
        "\n",
        "    starting_params = expert_trajectory[start_epoch]\n",
        "\n",
        "    target_params = expert_trajectory[start_epoch+args.expert_epochs]\n",
        "    target_params = torch.cat([p.data.to(args.device).reshape(-1) for p in target_params], 0)\n",
        "\n",
        "    student_params = [torch.cat([p.data.to(args.device).reshape(-1) for p in starting_params], 0).requires_grad_(True)]\n",
        "\n",
        "    starting_params = torch.cat([p.data.to(args.device).reshape(-1) for p in starting_params], 0)\n",
        "\n",
        "    syn_images = image_syn\n",
        "\n",
        "    y_hat = label_syn.to(args.device)\n",
        "    param_loss_list = []\n",
        "    param_dist_list = []\n",
        "    indices_chunks = []\n",
        "\n",
        "    for step in range(args.syn_steps):\n",
        "      if not indices_chunks:\n",
        "          indices = torch.randperm(len(syn_images))\n",
        "          indices_chunks = list(torch.split(indices, args.batch_syn))\n",
        "\n",
        "      these_indices = indices_chunks.pop()\n",
        "\n",
        "      x = syn_images[these_indices]\n",
        "      this_y = y_hat[these_indices]\n",
        "\n",
        "\n",
        "      if args.dsa and (not args.no_aug):\n",
        "          x = utils.DiffAugment(x, args.dsa_strategy, param=args.dsa_param)\n",
        "\n",
        "      if args.distributed:\n",
        "          forward_params = student_params[-1].unsqueeze(0).expand(torch.cuda.device_count(), -1)\n",
        "      else:\n",
        "          forward_params = student_params[-1]\n",
        "      x = student_net(x, flat_param=forward_params)\n",
        "      ce_loss = criterion(x, this_y)\n",
        "\n",
        "      grad = torch.autograd.grad(ce_loss, student_params[-1], create_graph=True)[0]\n",
        "\n",
        "      student_params.append(student_params[-1] - syn_lr * grad)\n",
        "\n",
        "    param_loss = torch.tensor(0.0).to(args.device)\n",
        "    param_dist = torch.tensor(0.0).to(args.device)\n",
        "\n",
        "    param_loss += torch.nn.functional.mse_loss(student_params[-1], target_params, reduction=\"sum\")\n",
        "    param_dist += torch.nn.functional.mse_loss(starting_params, target_params, reduction=\"sum\")\n",
        "\n",
        "    param_loss_list.append(param_loss)\n",
        "    param_dist_list.append(param_dist)\n",
        "\n",
        "    param_loss /= num_params\n",
        "    param_dist /= num_params\n",
        "\n",
        "    param_loss /= param_dist\n",
        "\n",
        "    grand_loss = param_loss\n",
        "\n",
        "    optimizer_img.zero_grad()\n",
        "    optimizer_lr.zero_grad()\n",
        "    optimizer_y.zero_grad()\n",
        "\n",
        "    grand_loss.backward()\n",
        "\n",
        "    if grand_loss<=args.threshold:\n",
        "      optimizer_y.step()\n",
        "      optimizer_img.step()\n",
        "      optimizer_lr.step()\n",
        "\n",
        "    for _ in student_params:\n",
        "        del _\n",
        "\n",
        "    if it%10 == 0:\n",
        "        print('%s iter = %04d, loss = %.4f' % (utils.get_time(), it, grand_loss.item()))\n",
        "  return best_data, last_data, r_test_acc, r_train_acc\n",
        "\n",
        "\n"
      ]
    },
    {
      "cell_type": "markdown",
      "source": [
        "#### DATM in Two initiallzation Way"
      ],
      "metadata": {
        "id": "Kw3B6a9udm9C"
      }
    },
    {
      "cell_type": "code",
      "execution_count": null,
      "metadata": {
        "colab": {
          "base_uri": "https://localhost:8080/"
        },
        "id": "dGZxg8H0ynah",
        "outputId": "dd12411e-3565-4ab6-a902-09350c051974"
      },
      "outputs": [
        {
          "output_type": "stream",
          "name": "stdout",
          "text": [
            "class c = 0: 5923 real images\n",
            "class c = 1: 6742 real images\n",
            "class c = 2: 5958 real images\n",
            "class c = 3: 6131 real images\n",
            "class c = 4: 5842 real images\n",
            "class c = 5: 5421 real images\n",
            "class c = 6: 5918 real images\n",
            "class c = 7: 6265 real images\n",
            "class c = 8: 5851 real images\n",
            "class c = 9: 5949 real images\n",
            "Expert Dir: ./MNISTbuffers/MNIST/ConvNet\n",
            "loading file ./MNISTbuffers/MNIST/ConvNet/replay_buffer_2.pt\n",
            "0.0.0\n",
            "1.0.0\n",
            "2.0.0\n",
            "3.0.0\n",
            "4.0.0\n",
            "5.0.0\n",
            "6.0.0\n",
            "7.0.0\n",
            "8.0.0\n",
            "9.0.0\n",
            "InitialAcc:1.0\n",
            "-------------------------\n",
            "Evaluation\n",
            "model_train = ConvNet, model_eval = ConvNet, iteration = 0\n",
            "DC augmentation parameters: \n",
            " {'crop': 4, 'scale': 0.2, 'rotate': 45, 'noise': 0.001, 'strategy': 'crop_scale_rotate'}\n"
          ]
        },
        {
          "output_type": "stream",
          "name": "stderr",
          "text": [
            "100%|██████████| 201/201 [00:12<00:00, 15.55it/s]\n"
          ]
        },
        {
          "output_type": "stream",
          "name": "stdout",
          "text": [
            "[2023-12-04 22:14:52] Evaluate_00: epoch = 0200 train time = 12 s train loss = 0.106107 train acc = 0.0100, test acc = 0.9551\n"
          ]
        },
        {
          "output_type": "stream",
          "name": "stderr",
          "text": [
            "100%|██████████| 201/201 [00:12<00:00, 16.71it/s]\n"
          ]
        },
        {
          "output_type": "stream",
          "name": "stdout",
          "text": [
            "[2023-12-04 22:15:04] Evaluate_01: epoch = 0200 train time = 12 s train loss = 0.114521 train acc = 0.0100, test acc = 0.9542\n"
          ]
        },
        {
          "output_type": "stream",
          "name": "stderr",
          "text": [
            "100%|██████████| 201/201 [00:13<00:00, 15.39it/s]\n"
          ]
        },
        {
          "output_type": "stream",
          "name": "stdout",
          "text": [
            "[2023-12-04 22:15:17] Evaluate_02: epoch = 0200 train time = 13 s train loss = 0.159302 train acc = 0.0100, test acc = 0.9578\n"
          ]
        },
        {
          "output_type": "stream",
          "name": "stderr",
          "text": [
            "100%|██████████| 201/201 [00:13<00:00, 15.38it/s]\n"
          ]
        },
        {
          "output_type": "stream",
          "name": "stdout",
          "text": [
            "[2023-12-04 22:15:30] Evaluate_03: epoch = 0200 train time = 13 s train loss = 0.116220 train acc = 0.0100, test acc = 0.9542\n"
          ]
        },
        {
          "output_type": "stream",
          "name": "stderr",
          "text": [
            "100%|██████████| 201/201 [00:12<00:00, 16.14it/s]\n"
          ]
        },
        {
          "output_type": "stream",
          "name": "stdout",
          "text": [
            "[2023-12-04 22:15:43] Evaluate_04: epoch = 0200 train time = 12 s train loss = 0.100796 train acc = 0.0100, test acc = 0.9589\n"
          ]
        },
        {
          "output_type": "stream",
          "name": "stderr",
          "text": [
            "100%|██████████| 201/201 [00:14<00:00, 14.22it/s]\n"
          ]
        },
        {
          "output_type": "stream",
          "name": "stdout",
          "text": [
            "[2023-12-04 22:15:57] Evaluate_05: epoch = 0200 train time = 14 s train loss = 0.094002 train acc = 0.0100, test acc = 0.9540\n"
          ]
        },
        {
          "output_type": "stream",
          "name": "stderr",
          "text": [
            "100%|██████████| 201/201 [00:12<00:00, 15.80it/s]\n"
          ]
        },
        {
          "output_type": "stream",
          "name": "stdout",
          "text": [
            "[2023-12-04 22:16:10] Evaluate_06: epoch = 0200 train time = 12 s train loss = 0.150054 train acc = 0.0100, test acc = 0.9569\n"
          ]
        },
        {
          "output_type": "stream",
          "name": "stderr",
          "text": [
            "100%|██████████| 201/201 [00:12<00:00, 15.66it/s]\n"
          ]
        },
        {
          "output_type": "stream",
          "name": "stdout",
          "text": [
            "[2023-12-04 22:16:22] Evaluate_07: epoch = 0200 train time = 12 s train loss = 0.091335 train acc = 0.0100, test acc = 0.9541\n"
          ]
        },
        {
          "output_type": "stream",
          "name": "stderr",
          "text": [
            "100%|██████████| 201/201 [00:13<00:00, 14.74it/s]\n"
          ]
        },
        {
          "output_type": "stream",
          "name": "stdout",
          "text": [
            "[2023-12-04 22:16:36] Evaluate_08: epoch = 0200 train time = 13 s train loss = 0.078338 train acc = 0.0100, test acc = 0.9572\n"
          ]
        },
        {
          "output_type": "stream",
          "name": "stderr",
          "text": [
            "100%|██████████| 201/201 [00:12<00:00, 16.43it/s]\n"
          ]
        },
        {
          "output_type": "stream",
          "name": "stdout",
          "text": [
            "[2023-12-04 22:16:48] Evaluate_09: epoch = 0200 train time = 12 s train loss = 0.082244 train acc = 0.0100, test acc = 0.9551\n"
          ]
        },
        {
          "output_type": "stream",
          "name": "stderr",
          "text": [
            "100%|██████████| 201/201 [00:12<00:00, 15.80it/s]\n"
          ]
        },
        {
          "output_type": "stream",
          "name": "stdout",
          "text": [
            "[2023-12-04 22:17:01] Evaluate_10: epoch = 0200 train time = 12 s train loss = 0.129341 train acc = 0.0100, test acc = 0.9545\n"
          ]
        },
        {
          "output_type": "stream",
          "name": "stderr",
          "text": [
            "100%|██████████| 201/201 [00:13<00:00, 15.41it/s]\n"
          ]
        },
        {
          "output_type": "stream",
          "name": "stdout",
          "text": [
            "[2023-12-04 22:17:14] Evaluate_11: epoch = 0200 train time = 13 s train loss = 0.114385 train acc = 0.0100, test acc = 0.9549\n"
          ]
        },
        {
          "output_type": "stream",
          "name": "stderr",
          "text": [
            "100%|██████████| 201/201 [00:13<00:00, 15.10it/s]\n"
          ]
        },
        {
          "output_type": "stream",
          "name": "stdout",
          "text": [
            "[2023-12-04 22:17:28] Evaluate_12: epoch = 0200 train time = 13 s train loss = 0.106010 train acc = 0.0100, test acc = 0.9547\n"
          ]
        },
        {
          "output_type": "stream",
          "name": "stderr",
          "text": [
            "100%|██████████| 201/201 [00:13<00:00, 15.32it/s]\n"
          ]
        },
        {
          "output_type": "stream",
          "name": "stdout",
          "text": [
            "[2023-12-04 22:17:41] Evaluate_13: epoch = 0200 train time = 13 s train loss = 0.137454 train acc = 0.0100, test acc = 0.9582\n"
          ]
        },
        {
          "output_type": "stream",
          "name": "stderr",
          "text": [
            "100%|██████████| 201/201 [00:12<00:00, 16.45it/s]\n"
          ]
        },
        {
          "output_type": "stream",
          "name": "stdout",
          "text": [
            "[2023-12-04 22:17:53] Evaluate_14: epoch = 0200 train time = 12 s train loss = 0.145292 train acc = 0.0100, test acc = 0.9552\n"
          ]
        },
        {
          "output_type": "stream",
          "name": "stderr",
          "text": [
            "100%|██████████| 201/201 [00:13<00:00, 15.32it/s]\n"
          ]
        },
        {
          "output_type": "stream",
          "name": "stdout",
          "text": [
            "[2023-12-04 22:18:06] Evaluate_15: epoch = 0200 train time = 13 s train loss = 0.110031 train acc = 0.0100, test acc = 0.9563\n"
          ]
        },
        {
          "output_type": "stream",
          "name": "stderr",
          "text": [
            "100%|██████████| 201/201 [00:13<00:00, 15.39it/s]\n"
          ]
        },
        {
          "output_type": "stream",
          "name": "stdout",
          "text": [
            "[2023-12-04 22:18:19] Evaluate_16: epoch = 0200 train time = 13 s train loss = 0.087313 train acc = 0.0100, test acc = 0.9548\n"
          ]
        },
        {
          "output_type": "stream",
          "name": "stderr",
          "text": [
            "100%|██████████| 201/201 [00:12<00:00, 15.51it/s]\n"
          ]
        },
        {
          "output_type": "stream",
          "name": "stdout",
          "text": [
            "[2023-12-04 22:18:32] Evaluate_17: epoch = 0200 train time = 12 s train loss = 0.116825 train acc = 0.0100, test acc = 0.9567\n"
          ]
        },
        {
          "output_type": "stream",
          "name": "stderr",
          "text": [
            "100%|██████████| 201/201 [00:11<00:00, 16.81it/s]\n"
          ]
        },
        {
          "output_type": "stream",
          "name": "stdout",
          "text": [
            "[2023-12-04 22:18:44] Evaluate_18: epoch = 0200 train time = 11 s train loss = 0.136650 train acc = 0.0100, test acc = 0.9597\n"
          ]
        },
        {
          "output_type": "stream",
          "name": "stderr",
          "text": [
            "100%|██████████| 201/201 [00:12<00:00, 15.46it/s]\n"
          ]
        },
        {
          "output_type": "stream",
          "name": "stdout",
          "text": [
            "[2023-12-04 22:18:57] Evaluate_19: epoch = 0200 train time = 13 s train loss = 0.106452 train acc = 0.0100, test acc = 0.9557\n",
            "Evaluate 20 random ConvNet, mean = 0.9559 std = 0.0017\n",
            "-------------------------\n",
            "[2023-12-04 22:18:58] iter = 0000, loss = 0.9933\n",
            "loading file ./MNISTbuffers/MNIST/ConvNet/replay_buffer_1.pt\n",
            "[2023-12-04 22:19:11] iter = 0010, loss = 0.9850\n",
            "loading file ./MNISTbuffers/MNIST/ConvNet/replay_buffer_2.pt\n",
            "-------------------------\n",
            "Evaluation\n",
            "model_train = ConvNet, model_eval = ConvNet, iteration = 20\n",
            "DC augmentation parameters: \n",
            " {'crop': 4, 'scale': 0.2, 'rotate': 45, 'noise': 0.001, 'strategy': 'crop_scale_rotate'}\n"
          ]
        },
        {
          "output_type": "stream",
          "name": "stderr",
          "text": [
            "100%|██████████| 201/201 [00:11<00:00, 17.59it/s]\n"
          ]
        },
        {
          "output_type": "stream",
          "name": "stdout",
          "text": [
            "[2023-12-04 22:19:34] Evaluate_00: epoch = 0200 train time = 11 s train loss = 0.108707 train acc = 0.0100, test acc = 0.9640\n"
          ]
        },
        {
          "output_type": "stream",
          "name": "stderr",
          "text": [
            "100%|██████████| 201/201 [00:12<00:00, 15.65it/s]\n"
          ]
        },
        {
          "output_type": "stream",
          "name": "stdout",
          "text": [
            "[2023-12-04 22:19:46] Evaluate_01: epoch = 0200 train time = 12 s train loss = 0.067611 train acc = 0.0100, test acc = 0.9613\n"
          ]
        },
        {
          "output_type": "stream",
          "name": "stderr",
          "text": [
            "100%|██████████| 201/201 [00:12<00:00, 15.50it/s]\n"
          ]
        },
        {
          "output_type": "stream",
          "name": "stdout",
          "text": [
            "[2023-12-04 22:19:59] Evaluate_02: epoch = 0200 train time = 12 s train loss = 0.098760 train acc = 0.0100, test acc = 0.9624\n"
          ]
        },
        {
          "output_type": "stream",
          "name": "stderr",
          "text": [
            "100%|██████████| 201/201 [00:13<00:00, 14.75it/s]\n"
          ]
        },
        {
          "output_type": "stream",
          "name": "stdout",
          "text": [
            "[2023-12-04 22:20:13] Evaluate_03: epoch = 0200 train time = 13 s train loss = 0.112129 train acc = 0.0100, test acc = 0.9609\n"
          ]
        },
        {
          "output_type": "stream",
          "name": "stderr",
          "text": [
            "100%|██████████| 201/201 [00:13<00:00, 15.05it/s]\n"
          ]
        },
        {
          "output_type": "stream",
          "name": "stdout",
          "text": [
            "[2023-12-04 22:20:26] Evaluate_04: epoch = 0200 train time = 13 s train loss = 0.082199 train acc = 0.0100, test acc = 0.9611\n"
          ]
        },
        {
          "output_type": "stream",
          "name": "stderr",
          "text": [
            "100%|██████████| 201/201 [00:13<00:00, 15.31it/s]\n"
          ]
        },
        {
          "output_type": "stream",
          "name": "stdout",
          "text": [
            "[2023-12-04 22:20:40] Evaluate_05: epoch = 0200 train time = 13 s train loss = 0.119062 train acc = 0.0100, test acc = 0.9593\n"
          ]
        },
        {
          "output_type": "stream",
          "name": "stderr",
          "text": [
            "100%|██████████| 201/201 [00:13<00:00, 15.07it/s]\n"
          ]
        },
        {
          "output_type": "stream",
          "name": "stdout",
          "text": [
            "[2023-12-04 22:20:53] Evaluate_06: epoch = 0200 train time = 13 s train loss = 0.103637 train acc = 0.0100, test acc = 0.9601\n"
          ]
        },
        {
          "output_type": "stream",
          "name": "stderr",
          "text": [
            "100%|██████████| 201/201 [00:12<00:00, 15.87it/s]\n"
          ]
        },
        {
          "output_type": "stream",
          "name": "stdout",
          "text": [
            "[2023-12-04 22:21:06] Evaluate_07: epoch = 0200 train time = 12 s train loss = 0.104805 train acc = 0.0100, test acc = 0.9619\n"
          ]
        },
        {
          "output_type": "stream",
          "name": "stderr",
          "text": [
            "100%|██████████| 201/201 [00:12<00:00, 16.75it/s]\n"
          ]
        },
        {
          "output_type": "stream",
          "name": "stdout",
          "text": [
            "[2023-12-04 22:21:18] Evaluate_08: epoch = 0200 train time = 12 s train loss = 0.116043 train acc = 0.0100, test acc = 0.9607\n"
          ]
        },
        {
          "output_type": "stream",
          "name": "stderr",
          "text": [
            "100%|██████████| 201/201 [00:13<00:00, 15.34it/s]\n"
          ]
        },
        {
          "output_type": "stream",
          "name": "stdout",
          "text": [
            "[2023-12-04 22:21:31] Evaluate_09: epoch = 0200 train time = 13 s train loss = 0.111429 train acc = 0.0100, test acc = 0.9619\n"
          ]
        },
        {
          "output_type": "stream",
          "name": "stderr",
          "text": [
            "100%|██████████| 201/201 [00:13<00:00, 15.44it/s]\n"
          ]
        },
        {
          "output_type": "stream",
          "name": "stdout",
          "text": [
            "[2023-12-04 22:21:44] Evaluate_10: epoch = 0200 train time = 13 s train loss = 0.151739 train acc = 0.0100, test acc = 0.9644\n"
          ]
        },
        {
          "output_type": "stream",
          "name": "stderr",
          "text": [
            "100%|██████████| 201/201 [00:12<00:00, 15.47it/s]\n"
          ]
        },
        {
          "output_type": "stream",
          "name": "stdout",
          "text": [
            "[2023-12-04 22:21:57] Evaluate_11: epoch = 0200 train time = 12 s train loss = 0.110197 train acc = 0.0100, test acc = 0.9630\n"
          ]
        },
        {
          "output_type": "stream",
          "name": "stderr",
          "text": [
            "100%|██████████| 201/201 [00:11<00:00, 17.13it/s]\n"
          ]
        },
        {
          "output_type": "stream",
          "name": "stdout",
          "text": [
            "[2023-12-04 22:22:09] Evaluate_12: epoch = 0200 train time = 11 s train loss = 0.084817 train acc = 0.0100, test acc = 0.9615\n"
          ]
        },
        {
          "output_type": "stream",
          "name": "stderr",
          "text": [
            "100%|██████████| 201/201 [00:12<00:00, 15.61it/s]\n"
          ]
        },
        {
          "output_type": "stream",
          "name": "stdout",
          "text": [
            "[2023-12-04 22:22:21] Evaluate_13: epoch = 0200 train time = 12 s train loss = 0.109887 train acc = 0.0100, test acc = 0.9636\n"
          ]
        },
        {
          "output_type": "stream",
          "name": "stderr",
          "text": [
            "100%|██████████| 201/201 [00:12<00:00, 15.52it/s]\n"
          ]
        },
        {
          "output_type": "stream",
          "name": "stdout",
          "text": [
            "[2023-12-04 22:22:34] Evaluate_14: epoch = 0200 train time = 12 s train loss = 0.070600 train acc = 0.0100, test acc = 0.9633\n"
          ]
        },
        {
          "output_type": "stream",
          "name": "stderr",
          "text": [
            "100%|██████████| 201/201 [00:12<00:00, 15.53it/s]\n"
          ]
        },
        {
          "output_type": "stream",
          "name": "stdout",
          "text": [
            "[2023-12-04 22:22:47] Evaluate_15: epoch = 0200 train time = 12 s train loss = 0.077245 train acc = 0.0100, test acc = 0.9643\n"
          ]
        },
        {
          "output_type": "stream",
          "name": "stderr",
          "text": [
            "100%|██████████| 201/201 [00:12<00:00, 16.69it/s]\n"
          ]
        },
        {
          "output_type": "stream",
          "name": "stdout",
          "text": [
            "[2023-12-04 22:22:59] Evaluate_16: epoch = 0200 train time = 12 s train loss = 0.114797 train acc = 0.0100, test acc = 0.9631\n"
          ]
        },
        {
          "output_type": "stream",
          "name": "stderr",
          "text": [
            "100%|██████████| 201/201 [00:12<00:00, 15.59it/s]\n"
          ]
        },
        {
          "output_type": "stream",
          "name": "stdout",
          "text": [
            "[2023-12-04 22:23:12] Evaluate_17: epoch = 0200 train time = 12 s train loss = 0.121599 train acc = 0.0100, test acc = 0.9615\n"
          ]
        },
        {
          "output_type": "stream",
          "name": "stderr",
          "text": [
            "100%|██████████| 201/201 [00:12<00:00, 15.48it/s]\n"
          ]
        },
        {
          "output_type": "stream",
          "name": "stdout",
          "text": [
            "[2023-12-04 22:23:25] Evaluate_18: epoch = 0200 train time = 12 s train loss = 0.075693 train acc = 0.0100, test acc = 0.9615\n"
          ]
        },
        {
          "output_type": "stream",
          "name": "stderr",
          "text": [
            "100%|██████████| 201/201 [00:13<00:00, 15.41it/s]\n"
          ]
        },
        {
          "output_type": "stream",
          "name": "stdout",
          "text": [
            "[2023-12-04 22:23:38] Evaluate_19: epoch = 0200 train time = 13 s train loss = 0.103474 train acc = 0.0100, test acc = 0.9614\n",
            "Evaluate 20 random ConvNet, mean = 0.9621 std = 0.0014\n",
            "-------------------------\n",
            "[2023-12-04 22:23:40] iter = 0020, loss = 0.9000\n",
            "loading file ./MNISTbuffers/MNIST/ConvNet/replay_buffer_3.pt\n",
            "[2023-12-04 22:23:52] iter = 0030, loss = 0.9830\n",
            "loading file ./MNISTbuffers/MNIST/ConvNet/replay_buffer_1.pt\n",
            "-------------------------\n",
            "Evaluation\n",
            "model_train = ConvNet, model_eval = ConvNet, iteration = 40\n",
            "DC augmentation parameters: \n",
            " {'crop': 4, 'scale': 0.2, 'rotate': 45, 'noise': 0.001, 'strategy': 'crop_scale_rotate'}\n"
          ]
        },
        {
          "output_type": "stream",
          "name": "stderr",
          "text": [
            "100%|██████████| 201/201 [00:12<00:00, 16.30it/s]\n"
          ]
        },
        {
          "output_type": "stream",
          "name": "stdout",
          "text": [
            "[2023-12-04 22:24:16] Evaluate_00: epoch = 0200 train time = 12 s train loss = 0.101904 train acc = 0.0100, test acc = 0.9660\n"
          ]
        },
        {
          "output_type": "stream",
          "name": "stderr",
          "text": [
            "100%|██████████| 201/201 [00:13<00:00, 15.18it/s]\n"
          ]
        },
        {
          "output_type": "stream",
          "name": "stdout",
          "text": [
            "[2023-12-04 22:24:29] Evaluate_01: epoch = 0200 train time = 13 s train loss = 0.076561 train acc = 0.0100, test acc = 0.9657\n"
          ]
        },
        {
          "output_type": "stream",
          "name": "stderr",
          "text": [
            "100%|██████████| 201/201 [00:14<00:00, 13.74it/s]\n"
          ]
        },
        {
          "output_type": "stream",
          "name": "stdout",
          "text": [
            "[2023-12-04 22:24:44] Evaluate_02: epoch = 0200 train time = 14 s train loss = 0.102836 train acc = 0.0100, test acc = 0.9611\n"
          ]
        },
        {
          "output_type": "stream",
          "name": "stderr",
          "text": [
            "100%|██████████| 201/201 [00:11<00:00, 16.86it/s]\n"
          ]
        },
        {
          "output_type": "stream",
          "name": "stdout",
          "text": [
            "[2023-12-04 22:24:56] Evaluate_03: epoch = 0200 train time = 11 s train loss = 0.100315 train acc = 0.0100, test acc = 0.9642\n"
          ]
        },
        {
          "output_type": "stream",
          "name": "stderr",
          "text": [
            "100%|██████████| 201/201 [00:12<00:00, 15.64it/s]\n"
          ]
        },
        {
          "output_type": "stream",
          "name": "stdout",
          "text": [
            "[2023-12-04 22:25:08] Evaluate_04: epoch = 0200 train time = 12 s train loss = 0.110815 train acc = 0.0100, test acc = 0.9647\n"
          ]
        },
        {
          "output_type": "stream",
          "name": "stderr",
          "text": [
            "100%|██████████| 201/201 [00:12<00:00, 15.69it/s]\n"
          ]
        },
        {
          "output_type": "stream",
          "name": "stdout",
          "text": [
            "[2023-12-04 22:25:21] Evaluate_05: epoch = 0200 train time = 12 s train loss = 0.150148 train acc = 0.0100, test acc = 0.9589\n"
          ]
        },
        {
          "output_type": "stream",
          "name": "stderr",
          "text": [
            "100%|██████████| 201/201 [00:13<00:00, 15.36it/s]\n"
          ]
        },
        {
          "output_type": "stream",
          "name": "stdout",
          "text": [
            "[2023-12-04 22:25:34] Evaluate_06: epoch = 0200 train time = 13 s train loss = 0.099624 train acc = 0.0100, test acc = 0.9632\n"
          ]
        },
        {
          "output_type": "stream",
          "name": "stderr",
          "text": [
            "100%|██████████| 201/201 [00:11<00:00, 17.30it/s]\n"
          ]
        },
        {
          "output_type": "stream",
          "name": "stdout",
          "text": [
            "[2023-12-04 22:25:46] Evaluate_07: epoch = 0200 train time = 11 s train loss = 0.101958 train acc = 0.0100, test acc = 0.9641\n"
          ]
        },
        {
          "output_type": "stream",
          "name": "stderr",
          "text": [
            "100%|██████████| 201/201 [00:12<00:00, 15.50it/s]\n"
          ]
        },
        {
          "output_type": "stream",
          "name": "stdout",
          "text": [
            "[2023-12-04 22:25:59] Evaluate_08: epoch = 0200 train time = 12 s train loss = 0.070100 train acc = 0.0100, test acc = 0.9644\n"
          ]
        },
        {
          "output_type": "stream",
          "name": "stderr",
          "text": [
            "100%|██████████| 201/201 [00:12<00:00, 15.60it/s]\n"
          ]
        },
        {
          "output_type": "stream",
          "name": "stdout",
          "text": [
            "[2023-12-04 22:26:12] Evaluate_09: epoch = 0200 train time = 12 s train loss = 0.097471 train acc = 0.0100, test acc = 0.9635\n"
          ]
        },
        {
          "output_type": "stream",
          "name": "stderr",
          "text": [
            "100%|██████████| 201/201 [00:13<00:00, 15.23it/s]\n"
          ]
        },
        {
          "output_type": "stream",
          "name": "stdout",
          "text": [
            "[2023-12-04 22:26:25] Evaluate_10: epoch = 0200 train time = 13 s train loss = 0.115372 train acc = 0.0100, test acc = 0.9668\n"
          ]
        },
        {
          "output_type": "stream",
          "name": "stderr",
          "text": [
            "100%|██████████| 201/201 [00:11<00:00, 16.89it/s]\n"
          ]
        },
        {
          "output_type": "stream",
          "name": "stdout",
          "text": [
            "[2023-12-04 22:26:37] Evaluate_11: epoch = 0200 train time = 11 s train loss = 0.134655 train acc = 0.0100, test acc = 0.9656\n"
          ]
        },
        {
          "output_type": "stream",
          "name": "stderr",
          "text": [
            "100%|██████████| 201/201 [00:12<00:00, 15.77it/s]\n"
          ]
        },
        {
          "output_type": "stream",
          "name": "stdout",
          "text": [
            "[2023-12-04 22:26:50] Evaluate_12: epoch = 0200 train time = 12 s train loss = 0.094407 train acc = 0.0100, test acc = 0.9627\n"
          ]
        },
        {
          "output_type": "stream",
          "name": "stderr",
          "text": [
            "100%|██████████| 201/201 [00:13<00:00, 15.43it/s]\n"
          ]
        },
        {
          "output_type": "stream",
          "name": "stdout",
          "text": [
            "[2023-12-04 22:27:03] Evaluate_13: epoch = 0200 train time = 13 s train loss = 0.085057 train acc = 0.0100, test acc = 0.9646\n"
          ]
        },
        {
          "output_type": "stream",
          "name": "stderr",
          "text": [
            "100%|██████████| 201/201 [00:13<00:00, 15.18it/s]\n"
          ]
        },
        {
          "output_type": "stream",
          "name": "stdout",
          "text": [
            "[2023-12-04 22:27:16] Evaluate_14: epoch = 0200 train time = 13 s train loss = 0.114998 train acc = 0.0100, test acc = 0.9649\n"
          ]
        },
        {
          "output_type": "stream",
          "name": "stderr",
          "text": [
            "100%|██████████| 201/201 [00:11<00:00, 16.82it/s]\n"
          ]
        },
        {
          "output_type": "stream",
          "name": "stdout",
          "text": [
            "[2023-12-04 22:27:28] Evaluate_15: epoch = 0200 train time = 11 s train loss = 0.086851 train acc = 0.0100, test acc = 0.9647\n"
          ]
        },
        {
          "output_type": "stream",
          "name": "stderr",
          "text": [
            "100%|██████████| 201/201 [00:12<00:00, 15.88it/s]\n"
          ]
        },
        {
          "output_type": "stream",
          "name": "stdout",
          "text": [
            "[2023-12-04 22:27:41] Evaluate_16: epoch = 0200 train time = 12 s train loss = 0.097239 train acc = 0.0100, test acc = 0.9660\n"
          ]
        },
        {
          "output_type": "stream",
          "name": "stderr",
          "text": [
            "100%|██████████| 201/201 [00:12<00:00, 15.59it/s]\n"
          ]
        },
        {
          "output_type": "stream",
          "name": "stdout",
          "text": [
            "[2023-12-04 22:27:54] Evaluate_17: epoch = 0200 train time = 12 s train loss = 0.137855 train acc = 0.0100, test acc = 0.9620\n"
          ]
        },
        {
          "output_type": "stream",
          "name": "stderr",
          "text": [
            "100%|██████████| 201/201 [00:13<00:00, 15.21it/s]\n"
          ]
        },
        {
          "output_type": "stream",
          "name": "stdout",
          "text": [
            "[2023-12-04 22:28:07] Evaluate_18: epoch = 0200 train time = 13 s train loss = 0.088473 train acc = 0.0100, test acc = 0.9641\n"
          ]
        },
        {
          "output_type": "stream",
          "name": "stderr",
          "text": [
            "100%|██████████| 201/201 [00:11<00:00, 17.02it/s]\n"
          ]
        },
        {
          "output_type": "stream",
          "name": "stdout",
          "text": [
            "[2023-12-04 22:28:19] Evaluate_19: epoch = 0200 train time = 11 s train loss = 0.055284 train acc = 0.0100, test acc = 0.9655\n",
            "Evaluate 20 random ConvNet, mean = 0.9641 std = 0.0018\n",
            "-------------------------\n",
            "[2023-12-04 22:28:20] iter = 0040, loss = 0.9338\n",
            "loading file ./MNISTbuffers/MNIST/ConvNet/replay_buffer_3.pt\n",
            "[2023-12-04 22:28:32] iter = 0050, loss = 0.9178\n",
            "loading file ./MNISTbuffers/MNIST/ConvNet/replay_buffer_2.pt\n",
            "-------------------------\n",
            "Evaluation\n",
            "model_train = ConvNet, model_eval = ConvNet, iteration = 60\n",
            "DC augmentation parameters: \n",
            " {'crop': 4, 'scale': 0.2, 'rotate': 45, 'noise': 0.001, 'strategy': 'crop_scale_rotate'}\n"
          ]
        },
        {
          "output_type": "stream",
          "name": "stderr",
          "text": [
            "100%|██████████| 201/201 [00:13<00:00, 14.94it/s]\n"
          ]
        },
        {
          "output_type": "stream",
          "name": "stdout",
          "text": [
            "[2023-12-04 22:28:57] Evaluate_00: epoch = 0200 train time = 13 s train loss = 0.090728 train acc = 0.0100, test acc = 0.9638\n"
          ]
        },
        {
          "output_type": "stream",
          "name": "stderr",
          "text": [
            "100%|██████████| 201/201 [00:13<00:00, 14.61it/s]\n"
          ]
        },
        {
          "output_type": "stream",
          "name": "stdout",
          "text": [
            "[2023-12-04 22:29:11] Evaluate_01: epoch = 0200 train time = 13 s train loss = 0.061444 train acc = 0.0100, test acc = 0.9594\n"
          ]
        },
        {
          "output_type": "stream",
          "name": "stderr",
          "text": [
            "100%|██████████| 201/201 [00:12<00:00, 16.44it/s]\n"
          ]
        },
        {
          "output_type": "stream",
          "name": "stdout",
          "text": [
            "[2023-12-04 22:29:23] Evaluate_02: epoch = 0200 train time = 12 s train loss = 0.072005 train acc = 0.0100, test acc = 0.9605\n"
          ]
        },
        {
          "output_type": "stream",
          "name": "stderr",
          "text": [
            "100%|██████████| 201/201 [00:13<00:00, 15.46it/s]\n"
          ]
        },
        {
          "output_type": "stream",
          "name": "stdout",
          "text": [
            "[2023-12-04 22:29:36] Evaluate_03: epoch = 0200 train time = 13 s train loss = 0.089980 train acc = 0.0100, test acc = 0.9625\n"
          ]
        },
        {
          "output_type": "stream",
          "name": "stderr",
          "text": [
            "100%|██████████| 201/201 [00:13<00:00, 15.11it/s]\n"
          ]
        },
        {
          "output_type": "stream",
          "name": "stdout",
          "text": [
            "[2023-12-04 22:29:49] Evaluate_04: epoch = 0200 train time = 13 s train loss = 0.071319 train acc = 0.0100, test acc = 0.9612\n"
          ]
        },
        {
          "output_type": "stream",
          "name": "stderr",
          "text": [
            "100%|██████████| 201/201 [00:12<00:00, 15.78it/s]\n"
          ]
        },
        {
          "output_type": "stream",
          "name": "stdout",
          "text": [
            "[2023-12-04 22:30:02] Evaluate_05: epoch = 0200 train time = 12 s train loss = 0.101287 train acc = 0.0100, test acc = 0.9592\n"
          ]
        },
        {
          "output_type": "stream",
          "name": "stderr",
          "text": [
            "100%|██████████| 201/201 [00:12<00:00, 16.39it/s]\n"
          ]
        },
        {
          "output_type": "stream",
          "name": "stdout",
          "text": [
            "[2023-12-04 22:30:14] Evaluate_06: epoch = 0200 train time = 12 s train loss = 0.094194 train acc = 0.0100, test acc = 0.9630\n"
          ]
        },
        {
          "output_type": "stream",
          "name": "stderr",
          "text": [
            "100%|██████████| 201/201 [00:13<00:00, 15.23it/s]\n"
          ]
        },
        {
          "output_type": "stream",
          "name": "stdout",
          "text": [
            "[2023-12-04 22:30:28] Evaluate_07: epoch = 0200 train time = 13 s train loss = 0.091431 train acc = 0.0100, test acc = 0.9588\n"
          ]
        },
        {
          "output_type": "stream",
          "name": "stderr",
          "text": [
            "100%|██████████| 201/201 [00:13<00:00, 15.22it/s]\n"
          ]
        },
        {
          "output_type": "stream",
          "name": "stdout",
          "text": [
            "[2023-12-04 22:30:41] Evaluate_08: epoch = 0200 train time = 13 s train loss = 0.087654 train acc = 0.0100, test acc = 0.9647\n"
          ]
        },
        {
          "output_type": "stream",
          "name": "stderr",
          "text": [
            "100%|██████████| 201/201 [00:13<00:00, 15.41it/s]\n"
          ]
        },
        {
          "output_type": "stream",
          "name": "stdout",
          "text": [
            "[2023-12-04 22:30:54] Evaluate_09: epoch = 0200 train time = 13 s train loss = 0.093898 train acc = 0.0100, test acc = 0.9627\n"
          ]
        },
        {
          "output_type": "stream",
          "name": "stderr",
          "text": [
            "100%|██████████| 201/201 [00:11<00:00, 17.05it/s]\n"
          ]
        },
        {
          "output_type": "stream",
          "name": "stdout",
          "text": [
            "[2023-12-04 22:31:06] Evaluate_10: epoch = 0200 train time = 11 s train loss = 0.053204 train acc = 0.0100, test acc = 0.9633\n"
          ]
        },
        {
          "output_type": "stream",
          "name": "stderr",
          "text": [
            "100%|██████████| 201/201 [00:12<00:00, 15.56it/s]\n"
          ]
        },
        {
          "output_type": "stream",
          "name": "stdout",
          "text": [
            "[2023-12-04 22:31:19] Evaluate_11: epoch = 0200 train time = 12 s train loss = 0.085013 train acc = 0.0100, test acc = 0.9631\n"
          ]
        },
        {
          "output_type": "stream",
          "name": "stderr",
          "text": [
            "100%|██████████| 201/201 [00:12<00:00, 15.55it/s]\n"
          ]
        },
        {
          "output_type": "stream",
          "name": "stdout",
          "text": [
            "[2023-12-04 22:31:32] Evaluate_12: epoch = 0200 train time = 12 s train loss = 0.074735 train acc = 0.0100, test acc = 0.9642\n"
          ]
        },
        {
          "output_type": "stream",
          "name": "stderr",
          "text": [
            "100%|██████████| 201/201 [00:13<00:00, 15.28it/s]\n"
          ]
        },
        {
          "output_type": "stream",
          "name": "stdout",
          "text": [
            "[2023-12-04 22:31:45] Evaluate_13: epoch = 0200 train time = 13 s train loss = 0.092414 train acc = 0.0100, test acc = 0.9630\n"
          ]
        },
        {
          "output_type": "stream",
          "name": "stderr",
          "text": [
            "100%|██████████| 201/201 [00:11<00:00, 16.88it/s]\n"
          ]
        },
        {
          "output_type": "stream",
          "name": "stdout",
          "text": [
            "[2023-12-04 22:31:57] Evaluate_14: epoch = 0200 train time = 11 s train loss = 0.076279 train acc = 0.0100, test acc = 0.9577\n"
          ]
        },
        {
          "output_type": "stream",
          "name": "stderr",
          "text": [
            "100%|██████████| 201/201 [00:13<00:00, 15.41it/s]\n"
          ]
        },
        {
          "output_type": "stream",
          "name": "stdout",
          "text": [
            "[2023-12-04 22:32:10] Evaluate_15: epoch = 0200 train time = 13 s train loss = 0.067267 train acc = 0.0100, test acc = 0.9608\n"
          ]
        },
        {
          "output_type": "stream",
          "name": "stderr",
          "text": [
            "100%|██████████| 201/201 [00:12<00:00, 15.47it/s]\n"
          ]
        },
        {
          "output_type": "stream",
          "name": "stdout",
          "text": [
            "[2023-12-04 22:32:23] Evaluate_16: epoch = 0200 train time = 13 s train loss = 0.072704 train acc = 0.0100, test acc = 0.9634\n"
          ]
        },
        {
          "output_type": "stream",
          "name": "stderr",
          "text": [
            "100%|██████████| 201/201 [00:13<00:00, 15.28it/s]\n"
          ]
        },
        {
          "output_type": "stream",
          "name": "stdout",
          "text": [
            "[2023-12-04 22:32:36] Evaluate_17: epoch = 0200 train time = 13 s train loss = 0.097748 train acc = 0.0100, test acc = 0.9607\n"
          ]
        },
        {
          "output_type": "stream",
          "name": "stderr",
          "text": [
            "100%|██████████| 201/201 [00:11<00:00, 16.98it/s]\n"
          ]
        },
        {
          "output_type": "stream",
          "name": "stdout",
          "text": [
            "[2023-12-04 22:32:48] Evaluate_18: epoch = 0200 train time = 11 s train loss = 0.085772 train acc = 0.0100, test acc = 0.9605\n"
          ]
        },
        {
          "output_type": "stream",
          "name": "stderr",
          "text": [
            "100%|██████████| 201/201 [00:12<00:00, 15.99it/s]\n"
          ]
        },
        {
          "output_type": "stream",
          "name": "stdout",
          "text": [
            "[2023-12-04 22:33:00] Evaluate_19: epoch = 0200 train time = 12 s train loss = 0.086132 train acc = 0.0100, test acc = 0.9649\n",
            "Evaluate 20 random ConvNet, mean = 0.9619 std = 0.0020\n",
            "-------------------------\n",
            "[2023-12-04 22:33:02] iter = 0060, loss = 0.9826\n",
            "loading file ./MNISTbuffers/MNIST/ConvNet/replay_buffer_0.pt\n",
            "[2023-12-04 22:33:14] iter = 0070, loss = 0.9878\n",
            "loading file ./MNISTbuffers/MNIST/ConvNet/replay_buffer_2.pt\n",
            "-------------------------\n",
            "Evaluation\n",
            "model_train = ConvNet, model_eval = ConvNet, iteration = 80\n",
            "DC augmentation parameters: \n",
            " {'crop': 4, 'scale': 0.2, 'rotate': 45, 'noise': 0.001, 'strategy': 'crop_scale_rotate'}\n"
          ]
        },
        {
          "output_type": "stream",
          "name": "stderr",
          "text": [
            "100%|██████████| 201/201 [00:11<00:00, 17.17it/s]\n"
          ]
        },
        {
          "output_type": "stream",
          "name": "stdout",
          "text": [
            "[2023-12-04 22:33:37] Evaluate_00: epoch = 0200 train time = 11 s train loss = 0.089405 train acc = 0.0100, test acc = 0.9626\n"
          ]
        },
        {
          "output_type": "stream",
          "name": "stderr",
          "text": [
            "100%|██████████| 201/201 [00:12<00:00, 15.55it/s]\n"
          ]
        },
        {
          "output_type": "stream",
          "name": "stdout",
          "text": [
            "[2023-12-04 22:33:50] Evaluate_01: epoch = 0200 train time = 12 s train loss = 0.085169 train acc = 0.0100, test acc = 0.9603\n"
          ]
        },
        {
          "output_type": "stream",
          "name": "stderr",
          "text": [
            "100%|██████████| 201/201 [00:13<00:00, 15.41it/s]\n"
          ]
        },
        {
          "output_type": "stream",
          "name": "stdout",
          "text": [
            "[2023-12-04 22:34:03] Evaluate_02: epoch = 0200 train time = 13 s train loss = 0.085536 train acc = 0.0100, test acc = 0.9605\n"
          ]
        },
        {
          "output_type": "stream",
          "name": "stderr",
          "text": [
            "100%|██████████| 201/201 [00:12<00:00, 15.75it/s]\n"
          ]
        },
        {
          "output_type": "stream",
          "name": "stdout",
          "text": [
            "[2023-12-04 22:34:16] Evaluate_03: epoch = 0200 train time = 12 s train loss = 0.102547 train acc = 0.0100, test acc = 0.9607\n"
          ]
        },
        {
          "output_type": "stream",
          "name": "stderr",
          "text": [
            "100%|██████████| 201/201 [00:11<00:00, 16.81it/s]\n"
          ]
        },
        {
          "output_type": "stream",
          "name": "stdout",
          "text": [
            "[2023-12-04 22:34:28] Evaluate_04: epoch = 0200 train time = 11 s train loss = 0.060471 train acc = 0.0100, test acc = 0.9643\n"
          ]
        },
        {
          "output_type": "stream",
          "name": "stderr",
          "text": [
            "100%|██████████| 201/201 [00:12<00:00, 15.49it/s]\n"
          ]
        },
        {
          "output_type": "stream",
          "name": "stdout",
          "text": [
            "[2023-12-04 22:34:41] Evaluate_05: epoch = 0200 train time = 12 s train loss = 0.084888 train acc = 0.0100, test acc = 0.9621\n"
          ]
        },
        {
          "output_type": "stream",
          "name": "stderr",
          "text": [
            "100%|██████████| 201/201 [00:12<00:00, 15.62it/s]\n"
          ]
        },
        {
          "output_type": "stream",
          "name": "stdout",
          "text": [
            "[2023-12-04 22:34:54] Evaluate_06: epoch = 0200 train time = 12 s train loss = 0.061838 train acc = 0.0100, test acc = 0.9569\n"
          ]
        },
        {
          "output_type": "stream",
          "name": "stderr",
          "text": [
            "100%|██████████| 201/201 [00:12<00:00, 15.94it/s]\n"
          ]
        },
        {
          "output_type": "stream",
          "name": "stdout",
          "text": [
            "[2023-12-04 22:35:07] Evaluate_07: epoch = 0200 train time = 12 s train loss = 0.070324 train acc = 0.0100, test acc = 0.9635\n"
          ]
        },
        {
          "output_type": "stream",
          "name": "stderr",
          "text": [
            "100%|██████████| 201/201 [00:11<00:00, 16.92it/s]\n"
          ]
        },
        {
          "output_type": "stream",
          "name": "stdout",
          "text": [
            "[2023-12-04 22:35:18] Evaluate_08: epoch = 0200 train time = 11 s train loss = 0.061342 train acc = 0.0100, test acc = 0.9575\n"
          ]
        },
        {
          "output_type": "stream",
          "name": "stderr",
          "text": [
            "100%|██████████| 201/201 [00:12<00:00, 15.55it/s]\n"
          ]
        },
        {
          "output_type": "stream",
          "name": "stdout",
          "text": [
            "[2023-12-04 22:35:31] Evaluate_09: epoch = 0200 train time = 12 s train loss = 0.059373 train acc = 0.0100, test acc = 0.9667\n"
          ]
        },
        {
          "output_type": "stream",
          "name": "stderr",
          "text": [
            "100%|██████████| 201/201 [00:12<00:00, 15.57it/s]\n"
          ]
        },
        {
          "output_type": "stream",
          "name": "stdout",
          "text": [
            "[2023-12-04 22:35:44] Evaluate_10: epoch = 0200 train time = 12 s train loss = 0.075448 train acc = 0.0100, test acc = 0.9604\n"
          ]
        },
        {
          "output_type": "stream",
          "name": "stderr",
          "text": [
            "100%|██████████| 201/201 [00:12<00:00, 15.55it/s]\n"
          ]
        },
        {
          "output_type": "stream",
          "name": "stdout",
          "text": [
            "[2023-12-04 22:35:57] Evaluate_11: epoch = 0200 train time = 12 s train loss = 0.049065 train acc = 0.0100, test acc = 0.9617\n"
          ]
        },
        {
          "output_type": "stream",
          "name": "stderr",
          "text": [
            "100%|██████████| 201/201 [00:11<00:00, 17.26it/s]\n"
          ]
        },
        {
          "output_type": "stream",
          "name": "stdout",
          "text": [
            "[2023-12-04 22:36:09] Evaluate_12: epoch = 0200 train time = 11 s train loss = 0.081168 train acc = 0.0100, test acc = 0.9574\n"
          ]
        },
        {
          "output_type": "stream",
          "name": "stderr",
          "text": [
            "100%|██████████| 201/201 [00:12<00:00, 15.63it/s]\n"
          ]
        },
        {
          "output_type": "stream",
          "name": "stdout",
          "text": [
            "[2023-12-04 22:36:22] Evaluate_13: epoch = 0200 train time = 12 s train loss = 0.095205 train acc = 0.0100, test acc = 0.9622\n"
          ]
        },
        {
          "output_type": "stream",
          "name": "stderr",
          "text": [
            "100%|██████████| 201/201 [00:12<00:00, 15.62it/s]\n"
          ]
        },
        {
          "output_type": "stream",
          "name": "stdout",
          "text": [
            "[2023-12-04 22:36:35] Evaluate_14: epoch = 0200 train time = 12 s train loss = 0.064242 train acc = 0.0100, test acc = 0.9631\n"
          ]
        },
        {
          "output_type": "stream",
          "name": "stderr",
          "text": [
            "100%|██████████| 201/201 [00:12<00:00, 15.64it/s]\n"
          ]
        },
        {
          "output_type": "stream",
          "name": "stdout",
          "text": [
            "[2023-12-04 22:36:48] Evaluate_15: epoch = 0200 train time = 12 s train loss = 0.097863 train acc = 0.0100, test acc = 0.9605\n"
          ]
        },
        {
          "output_type": "stream",
          "name": "stderr",
          "text": [
            "100%|██████████| 201/201 [00:11<00:00, 17.11it/s]\n"
          ]
        },
        {
          "output_type": "stream",
          "name": "stdout",
          "text": [
            "[2023-12-04 22:36:59] Evaluate_16: epoch = 0200 train time = 11 s train loss = 0.063547 train acc = 0.0100, test acc = 0.9606\n"
          ]
        },
        {
          "output_type": "stream",
          "name": "stderr",
          "text": [
            "100%|██████████| 201/201 [00:12<00:00, 15.68it/s]\n"
          ]
        },
        {
          "output_type": "stream",
          "name": "stdout",
          "text": [
            "[2023-12-04 22:37:12] Evaluate_17: epoch = 0200 train time = 12 s train loss = 0.076563 train acc = 0.0100, test acc = 0.9590\n"
          ]
        },
        {
          "output_type": "stream",
          "name": "stderr",
          "text": [
            "100%|██████████| 201/201 [00:12<00:00, 15.69it/s]\n"
          ]
        },
        {
          "output_type": "stream",
          "name": "stdout",
          "text": [
            "[2023-12-04 22:37:25] Evaluate_18: epoch = 0200 train time = 12 s train loss = 0.090085 train acc = 0.0100, test acc = 0.9613\n"
          ]
        },
        {
          "output_type": "stream",
          "name": "stderr",
          "text": [
            "100%|██████████| 201/201 [00:13<00:00, 15.06it/s]\n"
          ]
        },
        {
          "output_type": "stream",
          "name": "stdout",
          "text": [
            "[2023-12-04 22:37:38] Evaluate_19: epoch = 0200 train time = 13 s train loss = 0.066417 train acc = 0.0100, test acc = 0.9649\n",
            "Evaluate 20 random ConvNet, mean = 0.9613 std = 0.0025\n",
            "-------------------------\n",
            "[2023-12-04 22:37:40] iter = 0080, loss = 0.9252\n",
            "loading file ./MNISTbuffers/MNIST/ConvNet/replay_buffer_1.pt\n",
            "[2023-12-04 22:37:52] iter = 0090, loss = 0.9869\n",
            "loading file ./MNISTbuffers/MNIST/ConvNet/replay_buffer_3.pt\n",
            "-------------------------\n",
            "Evaluation\n",
            "model_train = ConvNet, model_eval = ConvNet, iteration = 100\n",
            "DC augmentation parameters: \n",
            " {'crop': 4, 'scale': 0.2, 'rotate': 45, 'noise': 0.001, 'strategy': 'crop_scale_rotate'}\n"
          ]
        },
        {
          "output_type": "stream",
          "name": "stderr",
          "text": [
            "100%|██████████| 201/201 [00:12<00:00, 15.98it/s]\n"
          ]
        },
        {
          "output_type": "stream",
          "name": "stdout",
          "text": [
            "[2023-12-04 22:38:16] Evaluate_00: epoch = 0200 train time = 12 s train loss = 0.073548 train acc = 0.0100, test acc = 0.9631\n"
          ]
        },
        {
          "output_type": "stream",
          "name": "stderr",
          "text": [
            "100%|██████████| 201/201 [00:12<00:00, 15.50it/s]\n"
          ]
        },
        {
          "output_type": "stream",
          "name": "stdout",
          "text": [
            "[2023-12-04 22:38:29] Evaluate_01: epoch = 0200 train time = 12 s train loss = 0.077767 train acc = 0.0100, test acc = 0.9611\n"
          ]
        },
        {
          "output_type": "stream",
          "name": "stderr",
          "text": [
            "100%|██████████| 201/201 [00:11<00:00, 17.29it/s]\n"
          ]
        },
        {
          "output_type": "stream",
          "name": "stdout",
          "text": [
            "[2023-12-04 22:38:41] Evaluate_02: epoch = 0200 train time = 11 s train loss = 0.044480 train acc = 0.0100, test acc = 0.9621\n"
          ]
        },
        {
          "output_type": "stream",
          "name": "stderr",
          "text": [
            "100%|██████████| 201/201 [00:12<00:00, 15.63it/s]\n"
          ]
        },
        {
          "output_type": "stream",
          "name": "stdout",
          "text": [
            "[2023-12-04 22:38:53] Evaluate_03: epoch = 0200 train time = 12 s train loss = 0.064008 train acc = 0.0100, test acc = 0.9601\n"
          ]
        },
        {
          "output_type": "stream",
          "name": "stderr",
          "text": [
            "100%|██████████| 201/201 [00:12<00:00, 15.68it/s]\n"
          ]
        },
        {
          "output_type": "stream",
          "name": "stdout",
          "text": [
            "[2023-12-04 22:39:06] Evaluate_04: epoch = 0200 train time = 12 s train loss = 0.068190 train acc = 0.0100, test acc = 0.9595\n"
          ]
        },
        {
          "output_type": "stream",
          "name": "stderr",
          "text": [
            "100%|██████████| 201/201 [00:13<00:00, 15.35it/s]\n"
          ]
        },
        {
          "output_type": "stream",
          "name": "stdout",
          "text": [
            "[2023-12-04 22:39:19] Evaluate_05: epoch = 0200 train time = 13 s train loss = 0.068831 train acc = 0.0100, test acc = 0.9591\n"
          ]
        },
        {
          "output_type": "stream",
          "name": "stderr",
          "text": [
            "100%|██████████| 201/201 [00:11<00:00, 17.16it/s]\n"
          ]
        },
        {
          "output_type": "stream",
          "name": "stdout",
          "text": [
            "[2023-12-04 22:39:31] Evaluate_06: epoch = 0200 train time = 11 s train loss = 0.105715 train acc = 0.0100, test acc = 0.9619\n"
          ]
        },
        {
          "output_type": "stream",
          "name": "stderr",
          "text": [
            "100%|██████████| 201/201 [00:12<00:00, 15.90it/s]\n"
          ]
        },
        {
          "output_type": "stream",
          "name": "stdout",
          "text": [
            "[2023-12-04 22:39:44] Evaluate_07: epoch = 0200 train time = 12 s train loss = 0.057541 train acc = 0.0100, test acc = 0.9614\n"
          ]
        },
        {
          "output_type": "stream",
          "name": "stderr",
          "text": [
            "100%|██████████| 201/201 [00:12<00:00, 15.70it/s]\n"
          ]
        },
        {
          "output_type": "stream",
          "name": "stdout",
          "text": [
            "[2023-12-04 22:39:57] Evaluate_08: epoch = 0200 train time = 12 s train loss = 0.078345 train acc = 0.0100, test acc = 0.9557\n"
          ]
        },
        {
          "output_type": "stream",
          "name": "stderr",
          "text": [
            "100%|██████████| 201/201 [00:13<00:00, 15.33it/s]\n"
          ]
        },
        {
          "output_type": "stream",
          "name": "stdout",
          "text": [
            "[2023-12-04 22:40:10] Evaluate_09: epoch = 0200 train time = 13 s train loss = 0.081985 train acc = 0.0100, test acc = 0.9543\n"
          ]
        },
        {
          "output_type": "stream",
          "name": "stderr",
          "text": [
            "100%|██████████| 201/201 [00:11<00:00, 17.02it/s]\n"
          ]
        },
        {
          "output_type": "stream",
          "name": "stdout",
          "text": [
            "[2023-12-04 22:40:22] Evaluate_10: epoch = 0200 train time = 11 s train loss = 0.093001 train acc = 0.0100, test acc = 0.9616\n"
          ]
        },
        {
          "output_type": "stream",
          "name": "stderr",
          "text": [
            "100%|██████████| 201/201 [00:12<00:00, 16.01it/s]\n"
          ]
        },
        {
          "output_type": "stream",
          "name": "stdout",
          "text": [
            "[2023-12-04 22:40:34] Evaluate_11: epoch = 0200 train time = 12 s train loss = 0.069164 train acc = 0.0100, test acc = 0.9607\n"
          ]
        },
        {
          "output_type": "stream",
          "name": "stderr",
          "text": [
            "100%|██████████| 201/201 [00:12<00:00, 15.88it/s]\n"
          ]
        },
        {
          "output_type": "stream",
          "name": "stdout",
          "text": [
            "[2023-12-04 22:40:47] Evaluate_12: epoch = 0200 train time = 12 s train loss = 0.069467 train acc = 0.0100, test acc = 0.9604\n"
          ]
        },
        {
          "output_type": "stream",
          "name": "stderr",
          "text": [
            "100%|██████████| 201/201 [00:12<00:00, 15.47it/s]\n"
          ]
        },
        {
          "output_type": "stream",
          "name": "stdout",
          "text": [
            "[2023-12-04 22:41:00] Evaluate_13: epoch = 0200 train time = 13 s train loss = 0.055771 train acc = 0.0100, test acc = 0.9623\n"
          ]
        },
        {
          "output_type": "stream",
          "name": "stderr",
          "text": [
            "100%|██████████| 201/201 [00:11<00:00, 17.12it/s]\n"
          ]
        },
        {
          "output_type": "stream",
          "name": "stdout",
          "text": [
            "[2023-12-04 22:41:12] Evaluate_14: epoch = 0200 train time = 11 s train loss = 0.066049 train acc = 0.0100, test acc = 0.9583\n"
          ]
        },
        {
          "output_type": "stream",
          "name": "stderr",
          "text": [
            "100%|██████████| 201/201 [00:12<00:00, 15.73it/s]\n"
          ]
        },
        {
          "output_type": "stream",
          "name": "stdout",
          "text": [
            "[2023-12-04 22:41:24] Evaluate_15: epoch = 0200 train time = 12 s train loss = 0.057549 train acc = 0.0100, test acc = 0.9607\n"
          ]
        },
        {
          "output_type": "stream",
          "name": "stderr",
          "text": [
            "100%|██████████| 201/201 [00:12<00:00, 15.54it/s]\n"
          ]
        },
        {
          "output_type": "stream",
          "name": "stdout",
          "text": [
            "[2023-12-04 22:41:37] Evaluate_16: epoch = 0200 train time = 12 s train loss = 0.079674 train acc = 0.0100, test acc = 0.9563\n"
          ]
        },
        {
          "output_type": "stream",
          "name": "stderr",
          "text": [
            "100%|██████████| 201/201 [00:13<00:00, 15.26it/s]\n"
          ]
        },
        {
          "output_type": "stream",
          "name": "stdout",
          "text": [
            "[2023-12-04 22:41:51] Evaluate_17: epoch = 0200 train time = 13 s train loss = 0.073377 train acc = 0.0100, test acc = 0.9609\n"
          ]
        },
        {
          "output_type": "stream",
          "name": "stderr",
          "text": [
            "100%|██████████| 201/201 [00:14<00:00, 13.84it/s]\n"
          ]
        },
        {
          "output_type": "stream",
          "name": "stdout",
          "text": [
            "[2023-12-04 22:42:05] Evaluate_18: epoch = 0200 train time = 14 s train loss = 0.068752 train acc = 0.0100, test acc = 0.9625\n"
          ]
        },
        {
          "output_type": "stream",
          "name": "stderr",
          "text": [
            "100%|██████████| 201/201 [00:12<00:00, 16.36it/s]\n"
          ]
        },
        {
          "output_type": "stream",
          "name": "stdout",
          "text": [
            "[2023-12-04 22:42:17] Evaluate_19: epoch = 0200 train time = 12 s train loss = 0.080454 train acc = 0.0100, test acc = 0.9642\n",
            "Evaluate 20 random ConvNet, mean = 0.9603 std = 0.0025\n",
            "-------------------------\n",
            "[2023-12-04 22:42:19] iter = 0100, loss = 0.8997\n"
          ]
        }
      ],
      "source": [
        "device = 'cuda' if torch.cuda.is_available() else 'cpu'\n",
        "args = datm_arguments(device, 10)\n",
        "model = utils.get_network(NET,channel,num_classes).to(device)\n",
        "channel, im_size, num_classes, class_names, mean, std, dst_train, dst_test, testloader = utils.get_dataset(mnist_dataset, mnist_data_path)\n",
        "NET = \"ConvNet\"\n",
        "args.pix_init = \"samples_predicted_correctly\"\n",
        "spc_best_data,spc_last_data, spc_r_test_acc,spc_r_train_acc = DATM(args)"
      ]
    },
    {
      "cell_type": "code",
      "execution_count": null,
      "metadata": {
        "colab": {
          "base_uri": "https://localhost:8080/"
        },
        "id": "aUw5wvLJVneZ",
        "outputId": "a5f38d0c-4110-4450-ac46-b6e8562d7083"
      },
      "outputs": [
        {
          "output_type": "stream",
          "name": "stdout",
          "text": [
            "[('ConvNet', 0.9559100000000003), ('ConvNet', 0.9620600000000001), ('ConvNet', 0.964135), ('ConvNet', 0.96187), ('ConvNet', 0.9613100000000001), ('ConvNet', 0.9603099999999998)]\n",
            "[('ConvNet', 0.01), ('ConvNet', 0.01), ('ConvNet', 0.01), ('ConvNet', 0.01), ('ConvNet', 0.01), ('ConvNet', 0.01)]\n"
          ]
        }
      ],
      "source": [
        "print(spc_r_test_acc)\n",
        "print(spc_r_train_acc)"
      ]
    },
    {
      "cell_type": "code",
      "source": [
        "device = 'cuda' if torch.cuda.is_available() else 'cpu'\n",
        "args = datm_arguments(device, 10)\n",
        "model = utils.get_network(NET,channel,num_classes).to(device)\n",
        "channel, im_size, num_classes, class_names, mean, std, dst_train, dst_test, testloader = utils.get_dataset(mnist_dataset, mnist_data_path)\n",
        "NET = \"ConvNet\"\n",
        "args.pix_init = \"real\"\n",
        "real_best_data, real_last_data, real_r_test_acc,real_r_train_acc = DATM(args)"
      ],
      "metadata": {
        "colab": {
          "base_uri": "https://localhost:8080/"
        },
        "id": "_uw0j1tMG1m9",
        "outputId": "15b21c4c-5c62-4d00-9c53-ea271990d02b"
      },
      "execution_count": null,
      "outputs": [
        {
          "output_type": "stream",
          "name": "stdout",
          "text": [
            "class c = 0: 5923 real images\n",
            "class c = 1: 6742 real images\n",
            "class c = 2: 5958 real images\n",
            "class c = 3: 6131 real images\n",
            "class c = 4: 5842 real images\n",
            "class c = 5: 5421 real images\n",
            "class c = 6: 5918 real images\n",
            "class c = 7: 6265 real images\n",
            "class c = 8: 5851 real images\n",
            "class c = 9: 5949 real images\n",
            "Expert Dir: ./MNISTbuffers/MNIST/ConvNet\n",
            "loading file ./MNISTbuffers/MNIST/ConvNet/replay_buffer_2.pt\n",
            "initialize synthetic data from random real images\n",
            "InitialAcc:0.99\n",
            "-------------------------\n",
            "Evaluation\n",
            "model_train = ConvNet, model_eval = ConvNet, iteration = 0\n",
            "DC augmentation parameters: \n",
            " {'crop': 4, 'scale': 0.2, 'rotate': 45, 'noise': 0.001, 'strategy': 'crop_scale_rotate'}\n"
          ]
        },
        {
          "output_type": "stream",
          "name": "stderr",
          "text": [
            "100%|██████████| 201/201 [00:14<00:00, 13.45it/s]\n"
          ]
        },
        {
          "output_type": "stream",
          "name": "stdout",
          "text": [
            "[2023-12-04 23:16:00] Evaluate_00: epoch = 0200 train time = 14 s train loss = 0.109447 train acc = 0.0100, test acc = 0.9596\n"
          ]
        },
        {
          "output_type": "stream",
          "name": "stderr",
          "text": [
            "100%|██████████| 201/201 [00:13<00:00, 15.29it/s]\n"
          ]
        },
        {
          "output_type": "stream",
          "name": "stdout",
          "text": [
            "[2023-12-04 23:16:13] Evaluate_01: epoch = 0200 train time = 13 s train loss = 0.118280 train acc = 0.0100, test acc = 0.9543\n"
          ]
        },
        {
          "output_type": "stream",
          "name": "stderr",
          "text": [
            "100%|██████████| 201/201 [00:13<00:00, 15.37it/s]\n"
          ]
        },
        {
          "output_type": "stream",
          "name": "stdout",
          "text": [
            "[2023-12-04 23:16:26] Evaluate_02: epoch = 0200 train time = 13 s train loss = 0.126202 train acc = 0.0100, test acc = 0.9580\n"
          ]
        },
        {
          "output_type": "stream",
          "name": "stderr",
          "text": [
            "100%|██████████| 201/201 [00:14<00:00, 14.25it/s]\n"
          ]
        },
        {
          "output_type": "stream",
          "name": "stdout",
          "text": [
            "[2023-12-04 23:16:41] Evaluate_03: epoch = 0200 train time = 14 s train loss = 0.112773 train acc = 0.0100, test acc = 0.9568\n"
          ]
        },
        {
          "output_type": "stream",
          "name": "stderr",
          "text": [
            "100%|██████████| 201/201 [00:11<00:00, 17.10it/s]\n"
          ]
        },
        {
          "output_type": "stream",
          "name": "stdout",
          "text": [
            "[2023-12-04 23:16:52] Evaluate_04: epoch = 0200 train time = 11 s train loss = 0.101319 train acc = 0.0100, test acc = 0.9571\n"
          ]
        },
        {
          "output_type": "stream",
          "name": "stderr",
          "text": [
            "100%|██████████| 201/201 [00:12<00:00, 15.69it/s]\n"
          ]
        },
        {
          "output_type": "stream",
          "name": "stdout",
          "text": [
            "[2023-12-04 23:17:05] Evaluate_05: epoch = 0200 train time = 12 s train loss = 0.130058 train acc = 0.0100, test acc = 0.9590\n"
          ]
        },
        {
          "output_type": "stream",
          "name": "stderr",
          "text": [
            "100%|██████████| 201/201 [00:12<00:00, 15.54it/s]\n"
          ]
        },
        {
          "output_type": "stream",
          "name": "stdout",
          "text": [
            "[2023-12-04 23:17:18] Evaluate_06: epoch = 0200 train time = 12 s train loss = 0.135154 train acc = 0.0100, test acc = 0.9549\n"
          ]
        },
        {
          "output_type": "stream",
          "name": "stderr",
          "text": [
            "100%|██████████| 201/201 [00:13<00:00, 15.04it/s]\n"
          ]
        },
        {
          "output_type": "stream",
          "name": "stdout",
          "text": [
            "[2023-12-04 23:17:31] Evaluate_07: epoch = 0200 train time = 13 s train loss = 0.113506 train acc = 0.0100, test acc = 0.9544\n"
          ]
        },
        {
          "output_type": "stream",
          "name": "stderr",
          "text": [
            "100%|██████████| 201/201 [00:12<00:00, 16.51it/s]\n"
          ]
        },
        {
          "output_type": "stream",
          "name": "stdout",
          "text": [
            "[2023-12-04 23:17:44] Evaluate_08: epoch = 0200 train time = 12 s train loss = 0.125437 train acc = 0.0100, test acc = 0.9531\n"
          ]
        },
        {
          "output_type": "stream",
          "name": "stderr",
          "text": [
            "100%|██████████| 201/201 [00:12<00:00, 15.80it/s]\n"
          ]
        },
        {
          "output_type": "stream",
          "name": "stdout",
          "text": [
            "[2023-12-04 23:17:56] Evaluate_09: epoch = 0200 train time = 12 s train loss = 0.124100 train acc = 0.0100, test acc = 0.9551\n"
          ]
        },
        {
          "output_type": "stream",
          "name": "stderr",
          "text": [
            "100%|██████████| 201/201 [00:13<00:00, 15.26it/s]\n"
          ]
        },
        {
          "output_type": "stream",
          "name": "stdout",
          "text": [
            "[2023-12-04 23:18:10] Evaluate_10: epoch = 0200 train time = 13 s train loss = 0.168921 train acc = 0.0100, test acc = 0.9564\n"
          ]
        },
        {
          "output_type": "stream",
          "name": "stderr",
          "text": [
            "100%|██████████| 201/201 [00:13<00:00, 15.07it/s]\n"
          ]
        },
        {
          "output_type": "stream",
          "name": "stdout",
          "text": [
            "[2023-12-04 23:18:23] Evaluate_11: epoch = 0200 train time = 13 s train loss = 0.122245 train acc = 0.0100, test acc = 0.9587\n"
          ]
        },
        {
          "output_type": "stream",
          "name": "stderr",
          "text": [
            "100%|██████████| 201/201 [00:12<00:00, 16.44it/s]\n"
          ]
        },
        {
          "output_type": "stream",
          "name": "stdout",
          "text": [
            "[2023-12-04 23:18:35] Evaluate_12: epoch = 0200 train time = 12 s train loss = 0.148135 train acc = 0.0100, test acc = 0.9580\n"
          ]
        },
        {
          "output_type": "stream",
          "name": "stderr",
          "text": [
            "100%|██████████| 201/201 [00:12<00:00, 16.23it/s]\n"
          ]
        },
        {
          "output_type": "stream",
          "name": "stdout",
          "text": [
            "[2023-12-04 23:18:48] Evaluate_13: epoch = 0200 train time = 12 s train loss = 0.121827 train acc = 0.0100, test acc = 0.9552\n"
          ]
        },
        {
          "output_type": "stream",
          "name": "stderr",
          "text": [
            "100%|██████████| 201/201 [00:12<00:00, 15.64it/s]\n"
          ]
        },
        {
          "output_type": "stream",
          "name": "stdout",
          "text": [
            "[2023-12-04 23:19:01] Evaluate_14: epoch = 0200 train time = 12 s train loss = 0.148629 train acc = 0.0100, test acc = 0.9568\n"
          ]
        },
        {
          "output_type": "stream",
          "name": "stderr",
          "text": [
            "100%|██████████| 201/201 [00:13<00:00, 15.23it/s]\n"
          ]
        },
        {
          "output_type": "stream",
          "name": "stdout",
          "text": [
            "[2023-12-04 23:19:14] Evaluate_15: epoch = 0200 train time = 13 s train loss = 0.130358 train acc = 0.0100, test acc = 0.9574\n"
          ]
        },
        {
          "output_type": "stream",
          "name": "stderr",
          "text": [
            "100%|██████████| 201/201 [00:12<00:00, 16.23it/s]\n"
          ]
        },
        {
          "output_type": "stream",
          "name": "stdout",
          "text": [
            "[2023-12-04 23:19:26] Evaluate_16: epoch = 0200 train time = 12 s train loss = 0.107872 train acc = 0.0100, test acc = 0.9580\n"
          ]
        },
        {
          "output_type": "stream",
          "name": "stderr",
          "text": [
            "100%|██████████| 201/201 [00:12<00:00, 16.53it/s]\n"
          ]
        },
        {
          "output_type": "stream",
          "name": "stdout",
          "text": [
            "[2023-12-04 23:19:38] Evaluate_17: epoch = 0200 train time = 12 s train loss = 0.156835 train acc = 0.0100, test acc = 0.9571\n"
          ]
        },
        {
          "output_type": "stream",
          "name": "stderr",
          "text": [
            "100%|██████████| 201/201 [00:12<00:00, 15.53it/s]\n"
          ]
        },
        {
          "output_type": "stream",
          "name": "stdout",
          "text": [
            "[2023-12-04 23:19:51] Evaluate_18: epoch = 0200 train time = 12 s train loss = 0.182514 train acc = 0.0100, test acc = 0.9592\n"
          ]
        },
        {
          "output_type": "stream",
          "name": "stderr",
          "text": [
            "100%|██████████| 201/201 [00:15<00:00, 13.03it/s]\n"
          ]
        },
        {
          "output_type": "stream",
          "name": "stdout",
          "text": [
            "[2023-12-04 23:20:07] Evaluate_19: epoch = 0200 train time = 15 s train loss = 0.167317 train acc = 0.0100, test acc = 0.9581\n",
            "Evaluate 20 random ConvNet, mean = 0.9569 std = 0.0018\n",
            "-------------------------\n",
            "[2023-12-04 23:20:08] iter = 0000, loss = 0.9974\n",
            "loading file ./MNISTbuffers/MNIST/ConvNet/replay_buffer_1.pt\n",
            "[2023-12-04 23:20:21] iter = 0010, loss = 0.9841\n",
            "loading file ./MNISTbuffers/MNIST/ConvNet/replay_buffer_2.pt\n",
            "-------------------------\n",
            "Evaluation\n",
            "model_train = ConvNet, model_eval = ConvNet, iteration = 20\n",
            "DC augmentation parameters: \n",
            " {'crop': 4, 'scale': 0.2, 'rotate': 45, 'noise': 0.001, 'strategy': 'crop_scale_rotate'}\n"
          ]
        },
        {
          "output_type": "stream",
          "name": "stderr",
          "text": [
            "100%|██████████| 201/201 [00:12<00:00, 15.63it/s]\n"
          ]
        },
        {
          "output_type": "stream",
          "name": "stdout",
          "text": [
            "[2023-12-04 23:20:45] Evaluate_00: epoch = 0200 train time = 12 s train loss = 0.137354 train acc = 0.0100, test acc = 0.9620\n"
          ]
        },
        {
          "output_type": "stream",
          "name": "stderr",
          "text": [
            "100%|██████████| 201/201 [00:12<00:00, 15.56it/s]\n"
          ]
        },
        {
          "output_type": "stream",
          "name": "stdout",
          "text": [
            "[2023-12-04 23:20:57] Evaluate_01: epoch = 0200 train time = 12 s train loss = 0.107349 train acc = 0.0100, test acc = 0.9636\n"
          ]
        },
        {
          "output_type": "stream",
          "name": "stderr",
          "text": [
            "100%|██████████| 201/201 [00:13<00:00, 15.44it/s]\n"
          ]
        },
        {
          "output_type": "stream",
          "name": "stdout",
          "text": [
            "[2023-12-04 23:21:10] Evaluate_02: epoch = 0200 train time = 13 s train loss = 0.112895 train acc = 0.0100, test acc = 0.9607\n"
          ]
        },
        {
          "output_type": "stream",
          "name": "stderr",
          "text": [
            "100%|██████████| 201/201 [00:11<00:00, 17.22it/s]\n"
          ]
        },
        {
          "output_type": "stream",
          "name": "stdout",
          "text": [
            "[2023-12-04 23:21:22] Evaluate_03: epoch = 0200 train time = 11 s train loss = 0.105164 train acc = 0.0100, test acc = 0.9623\n"
          ]
        },
        {
          "output_type": "stream",
          "name": "stderr",
          "text": [
            "100%|██████████| 201/201 [00:12<00:00, 15.55it/s]\n"
          ]
        },
        {
          "output_type": "stream",
          "name": "stdout",
          "text": [
            "[2023-12-04 23:21:35] Evaluate_04: epoch = 0200 train time = 12 s train loss = 0.108163 train acc = 0.0100, test acc = 0.9623\n"
          ]
        },
        {
          "output_type": "stream",
          "name": "stderr",
          "text": [
            "100%|██████████| 201/201 [00:12<00:00, 15.53it/s]\n"
          ]
        },
        {
          "output_type": "stream",
          "name": "stdout",
          "text": [
            "[2023-12-04 23:21:48] Evaluate_05: epoch = 0200 train time = 12 s train loss = 0.182970 train acc = 0.0100, test acc = 0.9644\n"
          ]
        },
        {
          "output_type": "stream",
          "name": "stderr",
          "text": [
            "100%|██████████| 201/201 [00:13<00:00, 15.30it/s]\n"
          ]
        },
        {
          "output_type": "stream",
          "name": "stdout",
          "text": [
            "[2023-12-04 23:22:01] Evaluate_06: epoch = 0200 train time = 13 s train loss = 0.119028 train acc = 0.0100, test acc = 0.9563\n"
          ]
        },
        {
          "output_type": "stream",
          "name": "stderr",
          "text": [
            "100%|██████████| 201/201 [00:11<00:00, 16.85it/s]\n"
          ]
        },
        {
          "output_type": "stream",
          "name": "stdout",
          "text": [
            "[2023-12-04 23:22:13] Evaluate_07: epoch = 0200 train time = 11 s train loss = 0.108133 train acc = 0.0100, test acc = 0.9621\n"
          ]
        },
        {
          "output_type": "stream",
          "name": "stderr",
          "text": [
            "100%|██████████| 201/201 [00:12<00:00, 15.70it/s]\n"
          ]
        },
        {
          "output_type": "stream",
          "name": "stdout",
          "text": [
            "[2023-12-04 23:22:26] Evaluate_08: epoch = 0200 train time = 12 s train loss = 0.101556 train acc = 0.0100, test acc = 0.9620\n"
          ]
        },
        {
          "output_type": "stream",
          "name": "stderr",
          "text": [
            "100%|██████████| 201/201 [00:13<00:00, 15.38it/s]\n"
          ]
        },
        {
          "output_type": "stream",
          "name": "stdout",
          "text": [
            "[2023-12-04 23:22:39] Evaluate_09: epoch = 0200 train time = 13 s train loss = 0.124541 train acc = 0.0100, test acc = 0.9632\n"
          ]
        },
        {
          "output_type": "stream",
          "name": "stderr",
          "text": [
            "100%|██████████| 201/201 [00:12<00:00, 15.55it/s]\n"
          ]
        },
        {
          "output_type": "stream",
          "name": "stdout",
          "text": [
            "[2023-12-04 23:22:52] Evaluate_10: epoch = 0200 train time = 12 s train loss = 0.147061 train acc = 0.0100, test acc = 0.9623\n"
          ]
        },
        {
          "output_type": "stream",
          "name": "stderr",
          "text": [
            "100%|██████████| 201/201 [00:11<00:00, 16.79it/s]\n"
          ]
        },
        {
          "output_type": "stream",
          "name": "stdout",
          "text": [
            "[2023-12-04 23:23:04] Evaluate_11: epoch = 0200 train time = 11 s train loss = 0.099370 train acc = 0.0100, test acc = 0.9645\n"
          ]
        },
        {
          "output_type": "stream",
          "name": "stderr",
          "text": [
            "100%|██████████| 201/201 [00:12<00:00, 15.85it/s]\n"
          ]
        },
        {
          "output_type": "stream",
          "name": "stdout",
          "text": [
            "[2023-12-04 23:23:17] Evaluate_12: epoch = 0200 train time = 12 s train loss = 0.103022 train acc = 0.0100, test acc = 0.9575\n"
          ]
        },
        {
          "output_type": "stream",
          "name": "stderr",
          "text": [
            "100%|██████████| 201/201 [00:13<00:00, 15.31it/s]\n"
          ]
        },
        {
          "output_type": "stream",
          "name": "stdout",
          "text": [
            "[2023-12-04 23:23:30] Evaluate_13: epoch = 0200 train time = 13 s train loss = 0.126046 train acc = 0.0100, test acc = 0.9616\n"
          ]
        },
        {
          "output_type": "stream",
          "name": "stderr",
          "text": [
            "100%|██████████| 201/201 [00:13<00:00, 15.05it/s]\n"
          ]
        },
        {
          "output_type": "stream",
          "name": "stdout",
          "text": [
            "[2023-12-04 23:23:43] Evaluate_14: epoch = 0200 train time = 13 s train loss = 0.077706 train acc = 0.0100, test acc = 0.9590\n"
          ]
        },
        {
          "output_type": "stream",
          "name": "stderr",
          "text": [
            "100%|██████████| 201/201 [00:12<00:00, 16.63it/s]\n"
          ]
        },
        {
          "output_type": "stream",
          "name": "stdout",
          "text": [
            "[2023-12-04 23:23:55] Evaluate_15: epoch = 0200 train time = 12 s train loss = 0.137033 train acc = 0.0100, test acc = 0.9657\n"
          ]
        },
        {
          "output_type": "stream",
          "name": "stderr",
          "text": [
            "100%|██████████| 201/201 [00:14<00:00, 14.07it/s]\n"
          ]
        },
        {
          "output_type": "stream",
          "name": "stdout",
          "text": [
            "[2023-12-04 23:24:10] Evaluate_16: epoch = 0200 train time = 14 s train loss = 0.133958 train acc = 0.0100, test acc = 0.9639\n"
          ]
        },
        {
          "output_type": "stream",
          "name": "stderr",
          "text": [
            "100%|██████████| 201/201 [00:12<00:00, 15.55it/s]\n"
          ]
        },
        {
          "output_type": "stream",
          "name": "stdout",
          "text": [
            "[2023-12-04 23:24:23] Evaluate_17: epoch = 0200 train time = 12 s train loss = 0.162447 train acc = 0.0100, test acc = 0.9642\n"
          ]
        },
        {
          "output_type": "stream",
          "name": "stderr",
          "text": [
            "100%|██████████| 201/201 [00:13<00:00, 15.31it/s]\n"
          ]
        },
        {
          "output_type": "stream",
          "name": "stdout",
          "text": [
            "[2023-12-04 23:24:36] Evaluate_18: epoch = 0200 train time = 13 s train loss = 0.123796 train acc = 0.0100, test acc = 0.9607\n"
          ]
        },
        {
          "output_type": "stream",
          "name": "stderr",
          "text": [
            "100%|██████████| 201/201 [00:12<00:00, 16.06it/s]\n"
          ]
        },
        {
          "output_type": "stream",
          "name": "stdout",
          "text": [
            "[2023-12-04 23:24:48] Evaluate_19: epoch = 0200 train time = 12 s train loss = 0.145993 train acc = 0.0100, test acc = 0.9611\n",
            "Evaluate 20 random ConvNet, mean = 0.9620 std = 0.0023\n",
            "-------------------------\n",
            "[2023-12-04 23:24:50] iter = 0020, loss = 0.8991\n",
            "loading file ./MNISTbuffers/MNIST/ConvNet/replay_buffer_3.pt\n",
            "[2023-12-04 23:25:02] iter = 0030, loss = 0.9843\n",
            "loading file ./MNISTbuffers/MNIST/ConvNet/replay_buffer_1.pt\n",
            "-------------------------\n",
            "Evaluation\n",
            "model_train = ConvNet, model_eval = ConvNet, iteration = 40\n",
            "DC augmentation parameters: \n",
            " {'crop': 4, 'scale': 0.2, 'rotate': 45, 'noise': 0.001, 'strategy': 'crop_scale_rotate'}\n"
          ]
        },
        {
          "output_type": "stream",
          "name": "stderr",
          "text": [
            "100%|██████████| 201/201 [00:12<00:00, 15.92it/s]\n"
          ]
        },
        {
          "output_type": "stream",
          "name": "stdout",
          "text": [
            "[2023-12-04 23:25:26] Evaluate_00: epoch = 0200 train time = 12 s train loss = 0.088027 train acc = 0.0100, test acc = 0.9577\n"
          ]
        },
        {
          "output_type": "stream",
          "name": "stderr",
          "text": [
            "100%|██████████| 201/201 [00:12<00:00, 15.73it/s]\n"
          ]
        },
        {
          "output_type": "stream",
          "name": "stdout",
          "text": [
            "[2023-12-04 23:25:39] Evaluate_01: epoch = 0200 train time = 12 s train loss = 0.160599 train acc = 0.0100, test acc = 0.9552\n"
          ]
        },
        {
          "output_type": "stream",
          "name": "stderr",
          "text": [
            "100%|██████████| 201/201 [00:12<00:00, 16.69it/s]\n"
          ]
        },
        {
          "output_type": "stream",
          "name": "stdout",
          "text": [
            "[2023-12-04 23:25:51] Evaluate_02: epoch = 0200 train time = 12 s train loss = 0.107910 train acc = 0.0100, test acc = 0.9599\n"
          ]
        },
        {
          "output_type": "stream",
          "name": "stderr",
          "text": [
            "100%|██████████| 201/201 [00:12<00:00, 15.50it/s]\n"
          ]
        },
        {
          "output_type": "stream",
          "name": "stdout",
          "text": [
            "[2023-12-04 23:26:04] Evaluate_03: epoch = 0200 train time = 12 s train loss = 0.131174 train acc = 0.0100, test acc = 0.9599\n"
          ]
        },
        {
          "output_type": "stream",
          "name": "stderr",
          "text": [
            "100%|██████████| 201/201 [00:13<00:00, 15.43it/s]\n"
          ]
        },
        {
          "output_type": "stream",
          "name": "stdout",
          "text": [
            "[2023-12-04 23:26:17] Evaluate_04: epoch = 0200 train time = 13 s train loss = 0.110532 train acc = 0.0100, test acc = 0.9617\n"
          ]
        },
        {
          "output_type": "stream",
          "name": "stderr",
          "text": [
            "100%|██████████| 201/201 [00:12<00:00, 15.63it/s]\n"
          ]
        },
        {
          "output_type": "stream",
          "name": "stdout",
          "text": [
            "[2023-12-04 23:26:30] Evaluate_05: epoch = 0200 train time = 12 s train loss = 0.120545 train acc = 0.0100, test acc = 0.9616\n"
          ]
        },
        {
          "output_type": "stream",
          "name": "stderr",
          "text": [
            "100%|██████████| 201/201 [00:11<00:00, 17.00it/s]\n"
          ]
        },
        {
          "output_type": "stream",
          "name": "stdout",
          "text": [
            "[2023-12-04 23:26:42] Evaluate_06: epoch = 0200 train time = 11 s train loss = 0.090271 train acc = 0.0100, test acc = 0.9620\n"
          ]
        },
        {
          "output_type": "stream",
          "name": "stderr",
          "text": [
            "100%|██████████| 201/201 [00:12<00:00, 15.52it/s]\n"
          ]
        },
        {
          "output_type": "stream",
          "name": "stdout",
          "text": [
            "[2023-12-04 23:26:54] Evaluate_07: epoch = 0200 train time = 12 s train loss = 0.120669 train acc = 0.0100, test acc = 0.9592\n"
          ]
        },
        {
          "output_type": "stream",
          "name": "stderr",
          "text": [
            "100%|██████████| 201/201 [00:12<00:00, 15.52it/s]\n"
          ]
        },
        {
          "output_type": "stream",
          "name": "stdout",
          "text": [
            "[2023-12-04 23:27:07] Evaluate_08: epoch = 0200 train time = 12 s train loss = 0.091493 train acc = 0.0100, test acc = 0.9591\n"
          ]
        },
        {
          "output_type": "stream",
          "name": "stderr",
          "text": [
            "100%|██████████| 201/201 [00:12<00:00, 15.65it/s]\n"
          ]
        },
        {
          "output_type": "stream",
          "name": "stdout",
          "text": [
            "[2023-12-04 23:27:20] Evaluate_09: epoch = 0200 train time = 12 s train loss = 0.082981 train acc = 0.0100, test acc = 0.9577\n"
          ]
        },
        {
          "output_type": "stream",
          "name": "stderr",
          "text": [
            "100%|██████████| 201/201 [00:11<00:00, 17.07it/s]\n"
          ]
        },
        {
          "output_type": "stream",
          "name": "stdout",
          "text": [
            "[2023-12-04 23:27:32] Evaluate_10: epoch = 0200 train time = 11 s train loss = 0.122614 train acc = 0.0100, test acc = 0.9593\n"
          ]
        },
        {
          "output_type": "stream",
          "name": "stderr",
          "text": [
            "100%|██████████| 201/201 [00:13<00:00, 15.27it/s]\n"
          ]
        },
        {
          "output_type": "stream",
          "name": "stdout",
          "text": [
            "[2023-12-04 23:27:45] Evaluate_11: epoch = 0200 train time = 13 s train loss = 0.123687 train acc = 0.0100, test acc = 0.9617\n"
          ]
        },
        {
          "output_type": "stream",
          "name": "stderr",
          "text": [
            "100%|██████████| 201/201 [00:13<00:00, 15.26it/s]\n"
          ]
        },
        {
          "output_type": "stream",
          "name": "stdout",
          "text": [
            "[2023-12-04 23:27:58] Evaluate_12: epoch = 0200 train time = 13 s train loss = 0.104127 train acc = 0.0100, test acc = 0.9596\n"
          ]
        },
        {
          "output_type": "stream",
          "name": "stderr",
          "text": [
            "100%|██████████| 201/201 [00:13<00:00, 14.51it/s]\n"
          ]
        },
        {
          "output_type": "stream",
          "name": "stdout",
          "text": [
            "[2023-12-04 23:28:12] Evaluate_13: epoch = 0200 train time = 13 s train loss = 0.114713 train acc = 0.0100, test acc = 0.9618\n"
          ]
        },
        {
          "output_type": "stream",
          "name": "stderr",
          "text": [
            "100%|██████████| 201/201 [00:13<00:00, 14.87it/s]\n"
          ]
        },
        {
          "output_type": "stream",
          "name": "stdout",
          "text": [
            "[2023-12-04 23:28:26] Evaluate_14: epoch = 0200 train time = 13 s train loss = 0.116396 train acc = 0.0100, test acc = 0.9641\n"
          ]
        },
        {
          "output_type": "stream",
          "name": "stderr",
          "text": [
            "100%|██████████| 201/201 [00:12<00:00, 15.52it/s]\n"
          ]
        },
        {
          "output_type": "stream",
          "name": "stdout",
          "text": [
            "[2023-12-04 23:28:39] Evaluate_15: epoch = 0200 train time = 12 s train loss = 0.102194 train acc = 0.0100, test acc = 0.9575\n"
          ]
        },
        {
          "output_type": "stream",
          "name": "stderr",
          "text": [
            "100%|██████████| 201/201 [00:13<00:00, 15.04it/s]\n"
          ]
        },
        {
          "output_type": "stream",
          "name": "stdout",
          "text": [
            "[2023-12-04 23:28:52] Evaluate_16: epoch = 0200 train time = 13 s train loss = 0.083049 train acc = 0.0100, test acc = 0.9569\n"
          ]
        },
        {
          "output_type": "stream",
          "name": "stderr",
          "text": [
            "100%|██████████| 201/201 [00:12<00:00, 16.68it/s]\n"
          ]
        },
        {
          "output_type": "stream",
          "name": "stdout",
          "text": [
            "[2023-12-04 23:29:04] Evaluate_17: epoch = 0200 train time = 12 s train loss = 0.146326 train acc = 0.0100, test acc = 0.9604\n"
          ]
        },
        {
          "output_type": "stream",
          "name": "stderr",
          "text": [
            "100%|██████████| 201/201 [00:12<00:00, 16.31it/s]\n"
          ]
        },
        {
          "output_type": "stream",
          "name": "stdout",
          "text": [
            "[2023-12-04 23:29:17] Evaluate_18: epoch = 0200 train time = 12 s train loss = 0.098896 train acc = 0.0100, test acc = 0.9612\n"
          ]
        },
        {
          "output_type": "stream",
          "name": "stderr",
          "text": [
            "100%|██████████| 201/201 [00:12<00:00, 15.66it/s]\n"
          ]
        },
        {
          "output_type": "stream",
          "name": "stdout",
          "text": [
            "[2023-12-04 23:29:30] Evaluate_19: epoch = 0200 train time = 12 s train loss = 0.102195 train acc = 0.0100, test acc = 0.9625\n",
            "Evaluate 20 random ConvNet, mean = 0.9600 std = 0.0021\n",
            "-------------------------\n",
            "[2023-12-04 23:29:31] iter = 0040, loss = 0.9413\n",
            "loading file ./MNISTbuffers/MNIST/ConvNet/replay_buffer_3.pt\n",
            "[2023-12-04 23:29:44] iter = 0050, loss = 0.9216\n",
            "loading file ./MNISTbuffers/MNIST/ConvNet/replay_buffer_2.pt\n",
            "-------------------------\n",
            "Evaluation\n",
            "model_train = ConvNet, model_eval = ConvNet, iteration = 60\n",
            "DC augmentation parameters: \n",
            " {'crop': 4, 'scale': 0.2, 'rotate': 45, 'noise': 0.001, 'strategy': 'crop_scale_rotate'}\n"
          ]
        },
        {
          "output_type": "stream",
          "name": "stderr",
          "text": [
            "100%|██████████| 201/201 [00:11<00:00, 17.08it/s]\n"
          ]
        },
        {
          "output_type": "stream",
          "name": "stdout",
          "text": [
            "[2023-12-04 23:30:06] Evaluate_00: epoch = 0200 train time = 11 s train loss = 0.097693 train acc = 0.0100, test acc = 0.9602\n"
          ]
        },
        {
          "output_type": "stream",
          "name": "stderr",
          "text": [
            "100%|██████████| 201/201 [00:12<00:00, 15.55it/s]\n"
          ]
        },
        {
          "output_type": "stream",
          "name": "stdout",
          "text": [
            "[2023-12-04 23:30:19] Evaluate_01: epoch = 0200 train time = 12 s train loss = 0.095232 train acc = 0.0100, test acc = 0.9622\n"
          ]
        },
        {
          "output_type": "stream",
          "name": "stderr",
          "text": [
            "100%|██████████| 201/201 [00:13<00:00, 15.37it/s]\n"
          ]
        },
        {
          "output_type": "stream",
          "name": "stdout",
          "text": [
            "[2023-12-04 23:30:33] Evaluate_02: epoch = 0200 train time = 13 s train loss = 0.110563 train acc = 0.0100, test acc = 0.9635\n"
          ]
        },
        {
          "output_type": "stream",
          "name": "stderr",
          "text": [
            "100%|██████████| 201/201 [00:12<00:00, 15.81it/s]\n"
          ]
        },
        {
          "output_type": "stream",
          "name": "stdout",
          "text": [
            "[2023-12-04 23:30:45] Evaluate_03: epoch = 0200 train time = 12 s train loss = 0.089232 train acc = 0.0100, test acc = 0.9639\n"
          ]
        },
        {
          "output_type": "stream",
          "name": "stderr",
          "text": [
            "100%|██████████| 201/201 [00:12<00:00, 16.60it/s]\n"
          ]
        },
        {
          "output_type": "stream",
          "name": "stdout",
          "text": [
            "[2023-12-04 23:30:57] Evaluate_04: epoch = 0200 train time = 12 s train loss = 0.080125 train acc = 0.0100, test acc = 0.9661\n"
          ]
        },
        {
          "output_type": "stream",
          "name": "stderr",
          "text": [
            "100%|██████████| 201/201 [00:13<00:00, 15.33it/s]\n"
          ]
        },
        {
          "output_type": "stream",
          "name": "stdout",
          "text": [
            "[2023-12-04 23:31:10] Evaluate_05: epoch = 0200 train time = 13 s train loss = 0.112785 train acc = 0.0100, test acc = 0.9648\n"
          ]
        },
        {
          "output_type": "stream",
          "name": "stderr",
          "text": [
            "100%|██████████| 201/201 [00:13<00:00, 15.12it/s]\n"
          ]
        },
        {
          "output_type": "stream",
          "name": "stdout",
          "text": [
            "[2023-12-04 23:31:24] Evaluate_06: epoch = 0200 train time = 13 s train loss = 0.096914 train acc = 0.0100, test acc = 0.9631\n"
          ]
        },
        {
          "output_type": "stream",
          "name": "stderr",
          "text": [
            "100%|██████████| 201/201 [00:12<00:00, 15.58it/s]\n"
          ]
        },
        {
          "output_type": "stream",
          "name": "stdout",
          "text": [
            "[2023-12-04 23:31:37] Evaluate_07: epoch = 0200 train time = 12 s train loss = 0.085755 train acc = 0.0100, test acc = 0.9620\n"
          ]
        },
        {
          "output_type": "stream",
          "name": "stderr",
          "text": [
            "100%|██████████| 201/201 [00:11<00:00, 16.92it/s]\n"
          ]
        },
        {
          "output_type": "stream",
          "name": "stdout",
          "text": [
            "[2023-12-04 23:31:49] Evaluate_08: epoch = 0200 train time = 11 s train loss = 0.099239 train acc = 0.0100, test acc = 0.9640\n"
          ]
        },
        {
          "output_type": "stream",
          "name": "stderr",
          "text": [
            "100%|██████████| 201/201 [00:12<00:00, 15.60it/s]\n"
          ]
        },
        {
          "output_type": "stream",
          "name": "stdout",
          "text": [
            "[2023-12-04 23:32:02] Evaluate_09: epoch = 0200 train time = 12 s train loss = 0.139691 train acc = 0.0100, test acc = 0.9640\n"
          ]
        },
        {
          "output_type": "stream",
          "name": "stderr",
          "text": [
            "100%|██████████| 201/201 [00:13<00:00, 14.50it/s]\n"
          ]
        },
        {
          "output_type": "stream",
          "name": "stdout",
          "text": [
            "[2023-12-04 23:32:15] Evaluate_10: epoch = 0200 train time = 13 s train loss = 0.082947 train acc = 0.0100, test acc = 0.9624\n"
          ]
        },
        {
          "output_type": "stream",
          "name": "stderr",
          "text": [
            "100%|██████████| 201/201 [00:14<00:00, 14.04it/s]\n"
          ]
        },
        {
          "output_type": "stream",
          "name": "stdout",
          "text": [
            "[2023-12-04 23:32:30] Evaluate_11: epoch = 0200 train time = 14 s train loss = 0.089416 train acc = 0.0100, test acc = 0.9624\n"
          ]
        },
        {
          "output_type": "stream",
          "name": "stderr",
          "text": [
            "100%|██████████| 201/201 [00:12<00:00, 16.49it/s]\n"
          ]
        },
        {
          "output_type": "stream",
          "name": "stdout",
          "text": [
            "[2023-12-04 23:32:42] Evaluate_12: epoch = 0200 train time = 12 s train loss = 0.077184 train acc = 0.0100, test acc = 0.9656\n"
          ]
        },
        {
          "output_type": "stream",
          "name": "stderr",
          "text": [
            "100%|██████████| 201/201 [00:12<00:00, 16.06it/s]\n"
          ]
        },
        {
          "output_type": "stream",
          "name": "stdout",
          "text": [
            "[2023-12-04 23:32:55] Evaluate_13: epoch = 0200 train time = 12 s train loss = 0.101722 train acc = 0.0100, test acc = 0.9631\n"
          ]
        },
        {
          "output_type": "stream",
          "name": "stderr",
          "text": [
            "100%|██████████| 201/201 [00:13<00:00, 15.40it/s]\n"
          ]
        },
        {
          "output_type": "stream",
          "name": "stdout",
          "text": [
            "[2023-12-04 23:33:08] Evaluate_14: epoch = 0200 train time = 13 s train loss = 0.102587 train acc = 0.0100, test acc = 0.9649\n"
          ]
        },
        {
          "output_type": "stream",
          "name": "stderr",
          "text": [
            "100%|██████████| 201/201 [00:13<00:00, 15.01it/s]\n"
          ]
        },
        {
          "output_type": "stream",
          "name": "stdout",
          "text": [
            "[2023-12-04 23:33:21] Evaluate_15: epoch = 0200 train time = 13 s train loss = 0.106730 train acc = 0.0100, test acc = 0.9632\n"
          ]
        },
        {
          "output_type": "stream",
          "name": "stderr",
          "text": [
            "100%|██████████| 201/201 [00:12<00:00, 15.68it/s]\n"
          ]
        },
        {
          "output_type": "stream",
          "name": "stdout",
          "text": [
            "[2023-12-04 23:33:34] Evaluate_16: epoch = 0200 train time = 12 s train loss = 0.078678 train acc = 0.0100, test acc = 0.9599\n"
          ]
        },
        {
          "output_type": "stream",
          "name": "stderr",
          "text": [
            "100%|██████████| 201/201 [00:11<00:00, 16.84it/s]\n"
          ]
        },
        {
          "output_type": "stream",
          "name": "stdout",
          "text": [
            "[2023-12-04 23:33:46] Evaluate_17: epoch = 0200 train time = 11 s train loss = 0.098377 train acc = 0.0100, test acc = 0.9582\n"
          ]
        },
        {
          "output_type": "stream",
          "name": "stderr",
          "text": [
            "100%|██████████| 201/201 [00:13<00:00, 15.32it/s]\n"
          ]
        },
        {
          "output_type": "stream",
          "name": "stdout",
          "text": [
            "[2023-12-04 23:33:59] Evaluate_18: epoch = 0200 train time = 13 s train loss = 0.120578 train acc = 0.0100, test acc = 0.9619\n"
          ]
        },
        {
          "output_type": "stream",
          "name": "stderr",
          "text": [
            "100%|██████████| 201/201 [00:13<00:00, 15.20it/s]\n"
          ]
        },
        {
          "output_type": "stream",
          "name": "stdout",
          "text": [
            "[2023-12-04 23:34:12] Evaluate_19: epoch = 0200 train time = 13 s train loss = 0.104726 train acc = 0.0100, test acc = 0.9619\n",
            "Evaluate 20 random ConvNet, mean = 0.9629 std = 0.0019\n",
            "-------------------------\n",
            "[2023-12-04 23:34:13] iter = 0060, loss = 0.9826\n",
            "loading file ./MNISTbuffers/MNIST/ConvNet/replay_buffer_0.pt\n",
            "[2023-12-04 23:34:26] iter = 0070, loss = 0.9856\n",
            "loading file ./MNISTbuffers/MNIST/ConvNet/replay_buffer_2.pt\n",
            "-------------------------\n",
            "Evaluation\n",
            "model_train = ConvNet, model_eval = ConvNet, iteration = 80\n",
            "DC augmentation parameters: \n",
            " {'crop': 4, 'scale': 0.2, 'rotate': 45, 'noise': 0.001, 'strategy': 'crop_scale_rotate'}\n"
          ]
        },
        {
          "output_type": "stream",
          "name": "stderr",
          "text": [
            "100%|██████████| 201/201 [00:12<00:00, 16.37it/s]\n"
          ]
        },
        {
          "output_type": "stream",
          "name": "stdout",
          "text": [
            "[2023-12-04 23:34:50] Evaluate_00: epoch = 0200 train time = 12 s train loss = 0.067618 train acc = 0.0100, test acc = 0.9622\n"
          ]
        },
        {
          "output_type": "stream",
          "name": "stderr",
          "text": [
            "100%|██████████| 201/201 [00:13<00:00, 15.42it/s]\n"
          ]
        },
        {
          "output_type": "stream",
          "name": "stdout",
          "text": [
            "[2023-12-04 23:35:03] Evaluate_01: epoch = 0200 train time = 13 s train loss = 0.095567 train acc = 0.0100, test acc = 0.9592\n"
          ]
        },
        {
          "output_type": "stream",
          "name": "stderr",
          "text": [
            "100%|██████████| 201/201 [00:12<00:00, 15.48it/s]\n"
          ]
        },
        {
          "output_type": "stream",
          "name": "stdout",
          "text": [
            "[2023-12-04 23:35:16] Evaluate_02: epoch = 0200 train time = 12 s train loss = 0.098628 train acc = 0.0100, test acc = 0.9653\n"
          ]
        },
        {
          "output_type": "stream",
          "name": "stderr",
          "text": [
            "100%|██████████| 201/201 [00:12<00:00, 16.65it/s]\n"
          ]
        },
        {
          "output_type": "stream",
          "name": "stdout",
          "text": [
            "[2023-12-04 23:35:28] Evaluate_03: epoch = 0200 train time = 12 s train loss = 0.099407 train acc = 0.0100, test acc = 0.9610\n"
          ]
        },
        {
          "output_type": "stream",
          "name": "stderr",
          "text": [
            "100%|██████████| 201/201 [00:12<00:00, 15.84it/s]\n"
          ]
        },
        {
          "output_type": "stream",
          "name": "stdout",
          "text": [
            "[2023-12-04 23:35:40] Evaluate_04: epoch = 0200 train time = 12 s train loss = 0.072376 train acc = 0.0100, test acc = 0.9602\n"
          ]
        },
        {
          "output_type": "stream",
          "name": "stderr",
          "text": [
            "100%|██████████| 201/201 [00:13<00:00, 15.34it/s]\n"
          ]
        },
        {
          "output_type": "stream",
          "name": "stdout",
          "text": [
            "[2023-12-04 23:35:54] Evaluate_05: epoch = 0200 train time = 13 s train loss = 0.095732 train acc = 0.0100, test acc = 0.9615\n"
          ]
        },
        {
          "output_type": "stream",
          "name": "stderr",
          "text": [
            "100%|██████████| 201/201 [00:13<00:00, 14.98it/s]\n"
          ]
        },
        {
          "output_type": "stream",
          "name": "stdout",
          "text": [
            "[2023-12-04 23:36:07] Evaluate_06: epoch = 0200 train time = 13 s train loss = 0.093355 train acc = 0.0100, test acc = 0.9651\n"
          ]
        },
        {
          "output_type": "stream",
          "name": "stderr",
          "text": [
            "100%|██████████| 201/201 [00:13<00:00, 15.22it/s]\n"
          ]
        },
        {
          "output_type": "stream",
          "name": "stdout",
          "text": [
            "[2023-12-04 23:36:20] Evaluate_07: epoch = 0200 train time = 13 s train loss = 0.067109 train acc = 0.0100, test acc = 0.9632\n"
          ]
        },
        {
          "output_type": "stream",
          "name": "stderr",
          "text": [
            "100%|██████████| 201/201 [00:13<00:00, 14.73it/s]\n"
          ]
        },
        {
          "output_type": "stream",
          "name": "stdout",
          "text": [
            "[2023-12-04 23:36:34] Evaluate_08: epoch = 0200 train time = 13 s train loss = 0.089409 train acc = 0.0100, test acc = 0.9643\n"
          ]
        },
        {
          "output_type": "stream",
          "name": "stderr",
          "text": [
            "100%|██████████| 201/201 [00:13<00:00, 15.44it/s]\n"
          ]
        },
        {
          "output_type": "stream",
          "name": "stdout",
          "text": [
            "[2023-12-04 23:36:47] Evaluate_09: epoch = 0200 train time = 13 s train loss = 0.076638 train acc = 0.0100, test acc = 0.9661\n"
          ]
        },
        {
          "output_type": "stream",
          "name": "stderr",
          "text": [
            "100%|██████████| 201/201 [00:12<00:00, 15.84it/s]\n"
          ]
        },
        {
          "output_type": "stream",
          "name": "stdout",
          "text": [
            "[2023-12-04 23:37:00] Evaluate_10: epoch = 0200 train time = 12 s train loss = 0.092725 train acc = 0.0100, test acc = 0.9633\n"
          ]
        },
        {
          "output_type": "stream",
          "name": "stderr",
          "text": [
            "100%|██████████| 201/201 [00:11<00:00, 16.94it/s]\n"
          ]
        },
        {
          "output_type": "stream",
          "name": "stdout",
          "text": [
            "[2023-12-04 23:37:12] Evaluate_11: epoch = 0200 train time = 11 s train loss = 0.070448 train acc = 0.0100, test acc = 0.9634\n"
          ]
        },
        {
          "output_type": "stream",
          "name": "stderr",
          "text": [
            "100%|██████████| 201/201 [00:12<00:00, 15.68it/s]\n"
          ]
        },
        {
          "output_type": "stream",
          "name": "stdout",
          "text": [
            "[2023-12-04 23:37:24] Evaluate_12: epoch = 0200 train time = 12 s train loss = 0.086184 train acc = 0.0100, test acc = 0.9646\n"
          ]
        },
        {
          "output_type": "stream",
          "name": "stderr",
          "text": [
            "100%|██████████| 201/201 [00:13<00:00, 15.45it/s]\n"
          ]
        },
        {
          "output_type": "stream",
          "name": "stdout",
          "text": [
            "[2023-12-04 23:37:37] Evaluate_13: epoch = 0200 train time = 13 s train loss = 0.104304 train acc = 0.0100, test acc = 0.9630\n"
          ]
        },
        {
          "output_type": "stream",
          "name": "stderr",
          "text": [
            "100%|██████████| 201/201 [00:12<00:00, 15.92it/s]\n"
          ]
        },
        {
          "output_type": "stream",
          "name": "stdout",
          "text": [
            "[2023-12-04 23:37:50] Evaluate_14: epoch = 0200 train time = 12 s train loss = 0.074511 train acc = 0.0100, test acc = 0.9634\n"
          ]
        },
        {
          "output_type": "stream",
          "name": "stderr",
          "text": [
            "100%|██████████| 201/201 [00:11<00:00, 16.98it/s]\n"
          ]
        },
        {
          "output_type": "stream",
          "name": "stdout",
          "text": [
            "[2023-12-04 23:38:02] Evaluate_15: epoch = 0200 train time = 11 s train loss = 0.109225 train acc = 0.0100, test acc = 0.9619\n"
          ]
        },
        {
          "output_type": "stream",
          "name": "stderr",
          "text": [
            "100%|██████████| 201/201 [00:12<00:00, 15.65it/s]\n"
          ]
        },
        {
          "output_type": "stream",
          "name": "stdout",
          "text": [
            "[2023-12-04 23:38:15] Evaluate_16: epoch = 0200 train time = 12 s train loss = 0.062100 train acc = 0.0100, test acc = 0.9626\n"
          ]
        },
        {
          "output_type": "stream",
          "name": "stderr",
          "text": [
            "100%|██████████| 201/201 [00:13<00:00, 15.20it/s]\n"
          ]
        },
        {
          "output_type": "stream",
          "name": "stdout",
          "text": [
            "[2023-12-04 23:38:28] Evaluate_17: epoch = 0200 train time = 13 s train loss = 0.098958 train acc = 0.0100, test acc = 0.9591\n"
          ]
        },
        {
          "output_type": "stream",
          "name": "stderr",
          "text": [
            "100%|██████████| 201/201 [00:12<00:00, 16.08it/s]\n"
          ]
        },
        {
          "output_type": "stream",
          "name": "stdout",
          "text": [
            "[2023-12-04 23:38:41] Evaluate_18: epoch = 0200 train time = 12 s train loss = 0.098696 train acc = 0.0100, test acc = 0.9638\n"
          ]
        },
        {
          "output_type": "stream",
          "name": "stderr",
          "text": [
            "100%|██████████| 201/201 [00:11<00:00, 16.82it/s]\n"
          ]
        },
        {
          "output_type": "stream",
          "name": "stdout",
          "text": [
            "[2023-12-04 23:38:52] Evaluate_19: epoch = 0200 train time = 11 s train loss = 0.090804 train acc = 0.0100, test acc = 0.9660\n",
            "Evaluate 20 random ConvNet, mean = 0.9630 std = 0.0020\n",
            "-------------------------\n",
            "[2023-12-04 23:38:54] iter = 0080, loss = 0.9266\n",
            "loading file ./MNISTbuffers/MNIST/ConvNet/replay_buffer_1.pt\n",
            "[2023-12-04 23:39:06] iter = 0090, loss = 0.9989\n",
            "loading file ./MNISTbuffers/MNIST/ConvNet/replay_buffer_3.pt\n",
            "-------------------------\n",
            "Evaluation\n",
            "model_train = ConvNet, model_eval = ConvNet, iteration = 100\n",
            "DC augmentation parameters: \n",
            " {'crop': 4, 'scale': 0.2, 'rotate': 45, 'noise': 0.001, 'strategy': 'crop_scale_rotate'}\n"
          ]
        },
        {
          "output_type": "stream",
          "name": "stderr",
          "text": [
            "100%|██████████| 201/201 [00:12<00:00, 15.84it/s]\n"
          ]
        },
        {
          "output_type": "stream",
          "name": "stdout",
          "text": [
            "[2023-12-04 23:39:30] Evaluate_00: epoch = 0200 train time = 12 s train loss = 0.077712 train acc = 0.0100, test acc = 0.9595\n"
          ]
        },
        {
          "output_type": "stream",
          "name": "stderr",
          "text": [
            "100%|██████████| 201/201 [00:11<00:00, 17.04it/s]\n"
          ]
        },
        {
          "output_type": "stream",
          "name": "stdout",
          "text": [
            "[2023-12-04 23:39:42] Evaluate_01: epoch = 0200 train time = 11 s train loss = 0.126725 train acc = 0.0100, test acc = 0.9599\n"
          ]
        },
        {
          "output_type": "stream",
          "name": "stderr",
          "text": [
            "100%|██████████| 201/201 [00:13<00:00, 15.39it/s]\n"
          ]
        },
        {
          "output_type": "stream",
          "name": "stdout",
          "text": [
            "[2023-12-04 23:39:55] Evaluate_02: epoch = 0200 train time = 13 s train loss = 0.087481 train acc = 0.0100, test acc = 0.9620\n"
          ]
        },
        {
          "output_type": "stream",
          "name": "stderr",
          "text": [
            "100%|██████████| 201/201 [00:13<00:00, 15.37it/s]\n"
          ]
        },
        {
          "output_type": "stream",
          "name": "stdout",
          "text": [
            "[2023-12-04 23:40:08] Evaluate_03: epoch = 0200 train time = 13 s train loss = 0.081153 train acc = 0.0100, test acc = 0.9647\n"
          ]
        },
        {
          "output_type": "stream",
          "name": "stderr",
          "text": [
            "100%|██████████| 201/201 [00:13<00:00, 15.22it/s]\n"
          ]
        },
        {
          "output_type": "stream",
          "name": "stdout",
          "text": [
            "[2023-12-04 23:40:21] Evaluate_04: epoch = 0200 train time = 13 s train loss = 0.070526 train acc = 0.0100, test acc = 0.9609\n"
          ]
        },
        {
          "output_type": "stream",
          "name": "stderr",
          "text": [
            "100%|██████████| 201/201 [00:13<00:00, 14.78it/s]\n"
          ]
        },
        {
          "output_type": "stream",
          "name": "stdout",
          "text": [
            "[2023-12-04 23:40:35] Evaluate_05: epoch = 0200 train time = 13 s train loss = 0.075353 train acc = 0.0100, test acc = 0.9656\n"
          ]
        },
        {
          "output_type": "stream",
          "name": "stderr",
          "text": [
            "100%|██████████| 201/201 [00:12<00:00, 15.85it/s]\n"
          ]
        },
        {
          "output_type": "stream",
          "name": "stdout",
          "text": [
            "[2023-12-04 23:40:48] Evaluate_06: epoch = 0200 train time = 12 s train loss = 0.086045 train acc = 0.0100, test acc = 0.9618\n"
          ]
        },
        {
          "output_type": "stream",
          "name": "stderr",
          "text": [
            "100%|██████████| 201/201 [00:12<00:00, 15.68it/s]\n"
          ]
        },
        {
          "output_type": "stream",
          "name": "stdout",
          "text": [
            "[2023-12-04 23:41:00] Evaluate_07: epoch = 0200 train time = 12 s train loss = 0.067556 train acc = 0.0100, test acc = 0.9618\n"
          ]
        },
        {
          "output_type": "stream",
          "name": "stderr",
          "text": [
            "100%|██████████| 201/201 [00:13<00:00, 15.38it/s]\n"
          ]
        },
        {
          "output_type": "stream",
          "name": "stdout",
          "text": [
            "[2023-12-04 23:41:14] Evaluate_08: epoch = 0200 train time = 13 s train loss = 0.077526 train acc = 0.0100, test acc = 0.9649\n"
          ]
        },
        {
          "output_type": "stream",
          "name": "stderr",
          "text": [
            "100%|██████████| 201/201 [00:12<00:00, 16.59it/s]\n"
          ]
        },
        {
          "output_type": "stream",
          "name": "stdout",
          "text": [
            "[2023-12-04 23:41:26] Evaluate_09: epoch = 0200 train time = 12 s train loss = 0.083808 train acc = 0.0100, test acc = 0.9630\n"
          ]
        },
        {
          "output_type": "stream",
          "name": "stderr",
          "text": [
            "100%|██████████| 201/201 [00:12<00:00, 16.03it/s]\n"
          ]
        },
        {
          "output_type": "stream",
          "name": "stdout",
          "text": [
            "[2023-12-04 23:41:38] Evaluate_10: epoch = 0200 train time = 12 s train loss = 0.090741 train acc = 0.0100, test acc = 0.9627\n"
          ]
        },
        {
          "output_type": "stream",
          "name": "stderr",
          "text": [
            "100%|██████████| 201/201 [00:13<00:00, 15.39it/s]\n"
          ]
        },
        {
          "output_type": "stream",
          "name": "stdout",
          "text": [
            "[2023-12-04 23:41:51] Evaluate_11: epoch = 0200 train time = 13 s train loss = 0.071159 train acc = 0.0100, test acc = 0.9593\n"
          ]
        },
        {
          "output_type": "stream",
          "name": "stderr",
          "text": [
            "100%|██████████| 201/201 [00:13<00:00, 15.13it/s]\n"
          ]
        },
        {
          "output_type": "stream",
          "name": "stdout",
          "text": [
            "[2023-12-04 23:42:05] Evaluate_12: epoch = 0200 train time = 13 s train loss = 0.091260 train acc = 0.0100, test acc = 0.9613\n"
          ]
        },
        {
          "output_type": "stream",
          "name": "stderr",
          "text": [
            "100%|██████████| 201/201 [00:12<00:00, 16.65it/s]\n"
          ]
        },
        {
          "output_type": "stream",
          "name": "stdout",
          "text": [
            "[2023-12-04 23:42:17] Evaluate_13: epoch = 0200 train time = 12 s train loss = 0.073694 train acc = 0.0100, test acc = 0.9647\n"
          ]
        },
        {
          "output_type": "stream",
          "name": "stderr",
          "text": [
            "100%|██████████| 201/201 [00:12<00:00, 15.96it/s]\n"
          ]
        },
        {
          "output_type": "stream",
          "name": "stdout",
          "text": [
            "[2023-12-04 23:42:29] Evaluate_14: epoch = 0200 train time = 12 s train loss = 0.100011 train acc = 0.0100, test acc = 0.9543\n"
          ]
        },
        {
          "output_type": "stream",
          "name": "stderr",
          "text": [
            "100%|██████████| 201/201 [00:12<00:00, 15.48it/s]\n"
          ]
        },
        {
          "output_type": "stream",
          "name": "stdout",
          "text": [
            "[2023-12-04 23:42:42] Evaluate_15: epoch = 0200 train time = 12 s train loss = 0.076226 train acc = 0.0100, test acc = 0.9588\n"
          ]
        },
        {
          "output_type": "stream",
          "name": "stderr",
          "text": [
            "100%|██████████| 201/201 [00:13<00:00, 15.24it/s]\n"
          ]
        },
        {
          "output_type": "stream",
          "name": "stdout",
          "text": [
            "[2023-12-04 23:42:56] Evaluate_16: epoch = 0200 train time = 13 s train loss = 0.098016 train acc = 0.0100, test acc = 0.9641\n"
          ]
        },
        {
          "output_type": "stream",
          "name": "stderr",
          "text": [
            "100%|██████████| 201/201 [00:12<00:00, 16.62it/s]\n"
          ]
        },
        {
          "output_type": "stream",
          "name": "stdout",
          "text": [
            "[2023-12-04 23:43:08] Evaluate_17: epoch = 0200 train time = 12 s train loss = 0.089454 train acc = 0.0100, test acc = 0.9623\n"
          ]
        },
        {
          "output_type": "stream",
          "name": "stderr",
          "text": [
            "100%|██████████| 201/201 [00:12<00:00, 16.39it/s]\n"
          ]
        },
        {
          "output_type": "stream",
          "name": "stdout",
          "text": [
            "[2023-12-04 23:43:20] Evaluate_18: epoch = 0200 train time = 12 s train loss = 0.093776 train acc = 0.0100, test acc = 0.9655\n"
          ]
        },
        {
          "output_type": "stream",
          "name": "stderr",
          "text": [
            "100%|██████████| 201/201 [00:12<00:00, 15.51it/s]\n"
          ]
        },
        {
          "output_type": "stream",
          "name": "stdout",
          "text": [
            "[2023-12-04 23:43:33] Evaluate_19: epoch = 0200 train time = 12 s train loss = 0.082257 train acc = 0.0100, test acc = 0.9553\n",
            "Evaluate 20 random ConvNet, mean = 0.9616 std = 0.0030\n",
            "-------------------------\n",
            "[2023-12-04 23:43:34] iter = 0100, loss = 0.9031\n"
          ]
        }
      ]
    },
    {
      "cell_type": "code",
      "source": [
        "print(real_r_test_acc)\n",
        "print(real_r_train_acc)"
      ],
      "metadata": {
        "colab": {
          "base_uri": "https://localhost:8080/"
        },
        "id": "Dk5ShuwNdel9",
        "outputId": "0c8bf544-48f4-4b8b-b668-f3a8b0b454c8"
      },
      "execution_count": null,
      "outputs": [
        {
          "output_type": "stream",
          "name": "stdout",
          "text": [
            "[('ConvNet', 0.95686), ('ConvNet', 0.9619699999999998), ('ConvNet', 0.9599500000000001), ('ConvNet', 0.9628650000000001), ('ConvNet', 0.96296), ('ConvNet', 0.9616199999999999)]\n",
            "[('ConvNet', 0.01), ('ConvNet', 0.01), ('ConvNet', 0.01), ('ConvNet', 0.01), ('ConvNet', 0.01), ('ConvNet', 0.01)]\n"
          ]
        }
      ]
    },
    {
      "cell_type": "markdown",
      "source": [
        "### Train Different model with Syntheic Dataset"
      ],
      "metadata": {
        "id": "mqBNU6ged5-j"
      }
    },
    {
      "cell_type": "markdown",
      "source": [
        "#### ConvNet"
      ],
      "metadata": {
        "id": "QPzwaSQBetKM"
      }
    },
    {
      "cell_type": "code",
      "execution_count": 52,
      "metadata": {
        "colab": {
          "base_uri": "https://localhost:8080/"
        },
        "id": "4Y3lLSXPGhXv",
        "outputId": "47eb1646-371b-4122-d9cf-c1e8dc7684b0"
      },
      "outputs": [
        {
          "output_type": "stream",
          "name": "stdout",
          "text": [
            "ConvNet(\n",
            "  (features): Sequential(\n",
            "    (0): Conv2d(1, 128, kernel_size=(3, 3), stride=(1, 1), padding=(3, 3))\n",
            "    (1): GroupNorm(128, 128, eps=1e-05, affine=True)\n",
            "    (2): ReLU(inplace=True)\n",
            "    (3): AvgPool2d(kernel_size=2, stride=2, padding=0)\n",
            "    (4): Conv2d(128, 128, kernel_size=(3, 3), stride=(1, 1), padding=(1, 1))\n",
            "    (5): GroupNorm(128, 128, eps=1e-05, affine=True)\n",
            "    (6): ReLU(inplace=True)\n",
            "    (7): AvgPool2d(kernel_size=2, stride=2, padding=0)\n",
            "    (8): Conv2d(128, 128, kernel_size=(3, 3), stride=(1, 1), padding=(1, 1))\n",
            "    (9): GroupNorm(128, 128, eps=1e-05, affine=True)\n",
            "    (10): ReLU(inplace=True)\n",
            "    (11): AvgPool2d(kernel_size=2, stride=2, padding=0)\n",
            "  )\n",
            "  (classifier): Linear(in_features=2048, out_features=10, bias=True)\n",
            ")\n"
          ]
        },
        {
          "output_type": "stream",
          "name": "stderr",
          "text": [
            "100%|██████████| 101/101 [00:04<00:00, 23.60it/s]"
          ]
        },
        {
          "output_type": "stream",
          "name": "stdout",
          "text": [
            "[2023-12-05 02:58:56] Evaluate_01: epoch = 0100 train time = 4 s train loss = 0.472251 train acc = 0.0100, test acc = 0.9380\n",
            "[0.01, 0.01, 0.01, 0.01, 0.01, 0.01, 0.01, 0.01, 0.01, 0.01, 0.01, 0.01, 0.01, 0.01, 0.01, 0.01, 0.01, 0.01, 0.01, 0.01, 0.01, 0.01, 0.01, 0.01, 0.01, 0.01, 0.01, 0.01, 0.01, 0.01, 0.01, 0.01, 0.01, 0.01, 0.01, 0.01, 0.01, 0.01, 0.01, 0.01, 0.01, 0.01, 0.01, 0.01, 0.01, 0.01, 0.01, 0.01, 0.01, 0.01, 0.01, 0.01, 0.01, 0.01, 0.01, 0.01, 0.01, 0.01, 0.01, 0.01, 0.01, 0.01, 0.01, 0.01, 0.01, 0.01, 0.01, 0.01, 0.01, 0.01, 0.01, 0.01, 0.01, 0.01, 0.01, 0.01, 0.01, 0.01, 0.01, 0.01, 0.01, 0.01, 0.01, 0.01, 0.01, 0.01, 0.01, 0.01, 0.01, 0.01, 0.01, 0.01, 0.01, 0.01, 0.01, 0.01, 0.01, 0.01, 0.01, 0.01, 0.01]\n",
            "0.938\n"
          ]
        },
        {
          "output_type": "stream",
          "name": "stderr",
          "text": [
            "\n"
          ]
        }
      ],
      "source": [
        "Net = \"ConvNet\"\n",
        "model = utils.get_network(Net, channel, num_classes, im_size).to(device)\n",
        "print(model)\n",
        "args = datm_arguments(device, 10)\n",
        "args.lr_net = 0.01\n",
        "args.epoch_eval_train = 100\n",
        "args.parall_eva = False\n",
        "args.dc_aug_param = utils.get_daparam(args.dataset, model, NET, ipc = args.ipc)\n",
        "args.dsa_strategy = args.dc_aug_param['strategy']\n",
        "\n",
        "def SoftCrossEntropy(inputs, target, reduction='average'):\n",
        "    input_log_likelihood = -F.log_softmax(inputs, dim=1)\n",
        "    target_log_likelihood = F.softmax(target, dim=1)\n",
        "    batch = inputs.shape[0]\n",
        "    loss = torch.sum(torch.mul(input_log_likelihood, target_log_likelihood)) / batch\n",
        "    return loss\n",
        "\n",
        "criterion = SoftCrossEntropy\n",
        "\n",
        "image_syn, label_syn = copy.deepcopy(spc_best_data[0][0]), copy.deepcopy(spc_best_data[0][1]).float()\n",
        "_, acc_train, acc_test = evaluate_synset(1,model ,image_syn, label_syn, testloader, args, train_criterion=criterion)\n",
        "print(acc_train)\n",
        "print(acc_test)"
      ]
    },
    {
      "cell_type": "code",
      "source": [
        "Net = \"ConvNet\"\n",
        "model = utils.get_network(Net, channel, num_classes, im_size).to(device)\n",
        "print(model)\n",
        "args = datm_arguments(device, 10)\n",
        "args.lr_net = 0.01\n",
        "args.epoch_eval_train = 100\n",
        "args.parall_eva = False\n",
        "args.dc_aug_param = utils.get_daparam(args.dataset, model, NET, ipc = args.ipc)\n",
        "args.dsa_strategy = args.dc_aug_param['strategy']\n",
        "\n",
        "def SoftCrossEntropy(inputs, target, reduction='average'):\n",
        "    input_log_likelihood = -F.log_softmax(inputs, dim=1)\n",
        "    target_log_likelihood = F.softmax(target, dim=1)\n",
        "    batch = inputs.shape[0]\n",
        "    loss = torch.sum(torch.mul(input_log_likelihood, target_log_likelihood)) / batch\n",
        "    return loss\n",
        "\n",
        "criterion = SoftCrossEntropy\n",
        "\n",
        "image_syn, label_syn = copy.deepcopy(real_last_data[0][0]), copy.deepcopy(real_last_data[0][1])\n",
        "_, acc_train, acc_test = evaluate_synset(1,model ,image_syn, label_syn, testloader, args, train_criterion=criterion)\n",
        "print(acc_train)\n",
        "print(acc_test)"
      ],
      "metadata": {
        "colab": {
          "base_uri": "https://localhost:8080/"
        },
        "id": "rhEC2EFlfPqD",
        "outputId": "436563ae-c3da-4063-9264-ed07e51f25b1"
      },
      "execution_count": 53,
      "outputs": [
        {
          "output_type": "stream",
          "name": "stdout",
          "text": [
            "ConvNet(\n",
            "  (features): Sequential(\n",
            "    (0): Conv2d(1, 128, kernel_size=(3, 3), stride=(1, 1), padding=(3, 3))\n",
            "    (1): GroupNorm(128, 128, eps=1e-05, affine=True)\n",
            "    (2): ReLU(inplace=True)\n",
            "    (3): AvgPool2d(kernel_size=2, stride=2, padding=0)\n",
            "    (4): Conv2d(128, 128, kernel_size=(3, 3), stride=(1, 1), padding=(1, 1))\n",
            "    (5): GroupNorm(128, 128, eps=1e-05, affine=True)\n",
            "    (6): ReLU(inplace=True)\n",
            "    (7): AvgPool2d(kernel_size=2, stride=2, padding=0)\n",
            "    (8): Conv2d(128, 128, kernel_size=(3, 3), stride=(1, 1), padding=(1, 1))\n",
            "    (9): GroupNorm(128, 128, eps=1e-05, affine=True)\n",
            "    (10): ReLU(inplace=True)\n",
            "    (11): AvgPool2d(kernel_size=2, stride=2, padding=0)\n",
            "  )\n",
            "  (classifier): Linear(in_features=2048, out_features=10, bias=True)\n",
            ")\n"
          ]
        },
        {
          "output_type": "stream",
          "name": "stderr",
          "text": [
            "100%|██████████| 201/201 [00:07<00:00, 26.26it/s]"
          ]
        },
        {
          "output_type": "stream",
          "name": "stdout",
          "text": [
            "[2023-12-05 02:59:18] Evaluate_01: epoch = 0200 train time = 7 s train loss = 0.040060 train acc = 0.0100, test acc = 0.9545\n",
            "[0.01, 0.01, 0.01, 0.01, 0.01, 0.01, 0.01, 0.01, 0.01, 0.01, 0.01, 0.01, 0.01, 0.01, 0.01, 0.01, 0.01, 0.01, 0.01, 0.01, 0.01, 0.01, 0.01, 0.01, 0.01, 0.01, 0.01, 0.01, 0.01, 0.01, 0.01, 0.01, 0.01, 0.01, 0.01, 0.01, 0.01, 0.01, 0.01, 0.01, 0.01, 0.01, 0.01, 0.01, 0.01, 0.01, 0.01, 0.01, 0.01, 0.01, 0.01, 0.01, 0.01, 0.01, 0.01, 0.01, 0.01, 0.01, 0.01, 0.01, 0.01, 0.01, 0.01, 0.01, 0.01, 0.01, 0.01, 0.01, 0.01, 0.01, 0.01, 0.01, 0.01, 0.01, 0.01, 0.01, 0.01, 0.01, 0.01, 0.01, 0.01, 0.01, 0.01, 0.01, 0.01, 0.01, 0.01, 0.01, 0.01, 0.01, 0.01, 0.01, 0.01, 0.01, 0.01, 0.01, 0.01, 0.01, 0.01, 0.01, 0.01, 0.01, 0.01, 0.01, 0.01, 0.01, 0.01, 0.01, 0.01, 0.01, 0.01, 0.01, 0.01, 0.01, 0.01, 0.01, 0.01, 0.01, 0.01, 0.01, 0.01, 0.01, 0.01, 0.01, 0.01, 0.01, 0.01, 0.01, 0.01, 0.01, 0.01, 0.01, 0.01, 0.01, 0.01, 0.01, 0.01, 0.01, 0.01, 0.01, 0.01, 0.01, 0.01, 0.01, 0.01, 0.01, 0.01, 0.01, 0.01, 0.01, 0.01, 0.01, 0.01, 0.01, 0.01, 0.01, 0.01, 0.01, 0.01, 0.01, 0.01, 0.01, 0.01, 0.01, 0.01, 0.01, 0.01, 0.01, 0.01, 0.01, 0.01, 0.01, 0.01, 0.01, 0.01, 0.01, 0.01, 0.01, 0.01, 0.01, 0.01, 0.01, 0.01, 0.01, 0.01, 0.01, 0.01, 0.01, 0.01, 0.01, 0.01, 0.01, 0.01, 0.01, 0.01, 0.01, 0.01, 0.01, 0.01, 0.01, 0.01]\n",
            "0.9545\n"
          ]
        },
        {
          "output_type": "stream",
          "name": "stderr",
          "text": [
            "\n"
          ]
        }
      ]
    },
    {
      "cell_type": "markdown",
      "source": [
        "#### VGG11"
      ],
      "metadata": {
        "id": "oy74_wXfexCf"
      }
    },
    {
      "cell_type": "code",
      "execution_count": null,
      "metadata": {
        "colab": {
          "base_uri": "https://localhost:8080/"
        },
        "id": "ahXS4LscUp1W",
        "outputId": "d6176c5a-9726-4bbf-9142-99e877180835"
      },
      "outputs": [
        {
          "output_type": "stream",
          "name": "stdout",
          "text": [
            "VGG(\n",
            "  (features): Sequential(\n",
            "    (0): Conv2d(1, 64, kernel_size=(3, 3), stride=(1, 1), padding=(3, 3))\n",
            "    (1): GroupNorm(64, 64, eps=1e-05, affine=True)\n",
            "    (2): ReLU(inplace=True)\n",
            "    (3): MaxPool2d(kernel_size=2, stride=2, padding=0, dilation=1, ceil_mode=False)\n",
            "    (4): Conv2d(64, 128, kernel_size=(3, 3), stride=(1, 1), padding=(1, 1))\n",
            "    (5): GroupNorm(128, 128, eps=1e-05, affine=True)\n",
            "    (6): ReLU(inplace=True)\n",
            "    (7): MaxPool2d(kernel_size=2, stride=2, padding=0, dilation=1, ceil_mode=False)\n",
            "    (8): Conv2d(128, 256, kernel_size=(3, 3), stride=(1, 1), padding=(1, 1))\n",
            "    (9): GroupNorm(256, 256, eps=1e-05, affine=True)\n",
            "    (10): ReLU(inplace=True)\n",
            "    (11): Conv2d(256, 256, kernel_size=(3, 3), stride=(1, 1), padding=(1, 1))\n",
            "    (12): GroupNorm(256, 256, eps=1e-05, affine=True)\n",
            "    (13): ReLU(inplace=True)\n",
            "    (14): MaxPool2d(kernel_size=2, stride=2, padding=0, dilation=1, ceil_mode=False)\n",
            "    (15): Conv2d(256, 512, kernel_size=(3, 3), stride=(1, 1), padding=(1, 1))\n",
            "    (16): GroupNorm(512, 512, eps=1e-05, affine=True)\n",
            "    (17): ReLU(inplace=True)\n",
            "    (18): Conv2d(512, 512, kernel_size=(3, 3), stride=(1, 1), padding=(1, 1))\n",
            "    (19): GroupNorm(512, 512, eps=1e-05, affine=True)\n",
            "    (20): ReLU(inplace=True)\n",
            "    (21): MaxPool2d(kernel_size=2, stride=2, padding=0, dilation=1, ceil_mode=False)\n",
            "    (22): Conv2d(512, 512, kernel_size=(3, 3), stride=(1, 1), padding=(1, 1))\n",
            "    (23): GroupNorm(512, 512, eps=1e-05, affine=True)\n",
            "    (24): ReLU(inplace=True)\n",
            "    (25): Conv2d(512, 512, kernel_size=(3, 3), stride=(1, 1), padding=(1, 1))\n",
            "    (26): GroupNorm(512, 512, eps=1e-05, affine=True)\n",
            "    (27): ReLU(inplace=True)\n",
            "    (28): MaxPool2d(kernel_size=2, stride=2, padding=0, dilation=1, ceil_mode=False)\n",
            "    (29): AvgPool2d(kernel_size=1, stride=1, padding=0)\n",
            "  )\n",
            "  (classifier): Linear(in_features=512, out_features=10, bias=True)\n",
            ")\n"
          ]
        },
        {
          "output_type": "stream",
          "name": "stderr",
          "text": [
            "100%|██████████| 100/100 [00:06<00:00, 15.75it/s]"
          ]
        },
        {
          "output_type": "stream",
          "name": "stdout",
          "text": [
            "[2023-12-05 01:03:17] Evaluate_01: epoch = 0099 train time = 6 s train loss = 0.058570 train acc = 0.0100, test acc = 0.9266\n",
            "[0.01, 0.01, 0.01, 0.01, 0.01, 0.01, 0.01, 0.01, 0.01, 0.01, 0.01, 0.01, 0.01, 0.01, 0.01, 0.01, 0.01, 0.01, 0.01, 0.01, 0.01, 0.01, 0.01, 0.01, 0.01, 0.01, 0.01, 0.01, 0.01, 0.01, 0.01, 0.01, 0.01, 0.01, 0.01, 0.01, 0.01, 0.01, 0.01, 0.01, 0.01, 0.01, 0.01, 0.01, 0.01, 0.01, 0.01, 0.01, 0.01, 0.01, 0.01, 0.01, 0.01, 0.01, 0.01, 0.01, 0.01, 0.01, 0.01, 0.01, 0.01, 0.01, 0.01, 0.01, 0.01, 0.01, 0.01, 0.01, 0.01, 0.01, 0.01, 0.01, 0.01, 0.01, 0.01, 0.01, 0.01, 0.01, 0.01, 0.01, 0.01, 0.01, 0.01, 0.01, 0.01, 0.01, 0.01, 0.01, 0.01, 0.01, 0.01, 0.01, 0.01, 0.01, 0.01, 0.01, 0.01, 0.01, 0.01, 0.01]\n",
            "0.9266\n"
          ]
        },
        {
          "output_type": "stream",
          "name": "stderr",
          "text": [
            "\n"
          ]
        }
      ],
      "source": [
        "Net = \"VGG11\"\n",
        "model = utils.get_network(Net, channel, num_classes, im_size).to(device)\n",
        "print(model)\n",
        "args = args = datm_arguments(device, 10)\n",
        "args.lr_net = 0.01\n",
        "args.epoch_eval_train = 99\n",
        "args.parall_eva = False\n",
        "args.dc_aug_param = utils.get_daparam(args.dataset, model, NET, ipc = args.ipc)\n",
        "args.dsa_strategy = args.dc_aug_param['strategy']\n",
        "\n",
        "def SoftCrossEntropy(inputs, target, reduction='average'):\n",
        "    input_log_likelihood = -F.log_softmax(inputs, dim=1)\n",
        "    target_log_likelihood = F.softmax(target, dim=1)\n",
        "    batch = inputs.shape[0]\n",
        "    loss = torch.sum(torch.mul(input_log_likelihood, target_log_likelihood)) / batch\n",
        "    return loss\n",
        "\n",
        "criterion = SoftCrossEntropy\n",
        "\n",
        "image_syn, label_syn = copy.deepcopy(spc_last_data[0][0]), copy.deepcopy(spc_last_data[0][1])\n",
        "_, acc_train, acc_test = evaluate_synset(1,model ,image_syn, label_syn, testloader, args, train_criterion=criterion)\n",
        "print(acc_train)\n",
        "print(acc_test)"
      ]
    },
    {
      "cell_type": "code",
      "execution_count": null,
      "metadata": {
        "colab": {
          "base_uri": "https://localhost:8080/"
        },
        "id": "InJ8xDcQUxlX",
        "outputId": "ee5bbdc0-b26e-4413-8066-0eb245e66274"
      },
      "outputs": [
        {
          "output_type": "stream",
          "name": "stdout",
          "text": [
            "VGG(\n",
            "  (features): Sequential(\n",
            "    (0): Conv2d(1, 64, kernel_size=(3, 3), stride=(1, 1), padding=(3, 3))\n",
            "    (1): GroupNorm(64, 64, eps=1e-05, affine=True)\n",
            "    (2): ReLU(inplace=True)\n",
            "    (3): MaxPool2d(kernel_size=2, stride=2, padding=0, dilation=1, ceil_mode=False)\n",
            "    (4): Conv2d(64, 128, kernel_size=(3, 3), stride=(1, 1), padding=(1, 1))\n",
            "    (5): GroupNorm(128, 128, eps=1e-05, affine=True)\n",
            "    (6): ReLU(inplace=True)\n",
            "    (7): MaxPool2d(kernel_size=2, stride=2, padding=0, dilation=1, ceil_mode=False)\n",
            "    (8): Conv2d(128, 256, kernel_size=(3, 3), stride=(1, 1), padding=(1, 1))\n",
            "    (9): GroupNorm(256, 256, eps=1e-05, affine=True)\n",
            "    (10): ReLU(inplace=True)\n",
            "    (11): Conv2d(256, 256, kernel_size=(3, 3), stride=(1, 1), padding=(1, 1))\n",
            "    (12): GroupNorm(256, 256, eps=1e-05, affine=True)\n",
            "    (13): ReLU(inplace=True)\n",
            "    (14): MaxPool2d(kernel_size=2, stride=2, padding=0, dilation=1, ceil_mode=False)\n",
            "    (15): Conv2d(256, 512, kernel_size=(3, 3), stride=(1, 1), padding=(1, 1))\n",
            "    (16): GroupNorm(512, 512, eps=1e-05, affine=True)\n",
            "    (17): ReLU(inplace=True)\n",
            "    (18): Conv2d(512, 512, kernel_size=(3, 3), stride=(1, 1), padding=(1, 1))\n",
            "    (19): GroupNorm(512, 512, eps=1e-05, affine=True)\n",
            "    (20): ReLU(inplace=True)\n",
            "    (21): MaxPool2d(kernel_size=2, stride=2, padding=0, dilation=1, ceil_mode=False)\n",
            "    (22): Conv2d(512, 512, kernel_size=(3, 3), stride=(1, 1), padding=(1, 1))\n",
            "    (23): GroupNorm(512, 512, eps=1e-05, affine=True)\n",
            "    (24): ReLU(inplace=True)\n",
            "    (25): Conv2d(512, 512, kernel_size=(3, 3), stride=(1, 1), padding=(1, 1))\n",
            "    (26): GroupNorm(512, 512, eps=1e-05, affine=True)\n",
            "    (27): ReLU(inplace=True)\n",
            "    (28): MaxPool2d(kernel_size=2, stride=2, padding=0, dilation=1, ceil_mode=False)\n",
            "    (29): AvgPool2d(kernel_size=1, stride=1, padding=0)\n",
            "  )\n",
            "  (classifier): Linear(in_features=512, out_features=10, bias=True)\n",
            ")\n"
          ]
        },
        {
          "output_type": "stream",
          "name": "stderr",
          "text": [
            "100%|██████████| 100/100 [00:06<00:00, 16.04it/s]"
          ]
        },
        {
          "output_type": "stream",
          "name": "stdout",
          "text": [
            "[2023-12-05 01:04:43] Evaluate_01: epoch = 0099 train time = 6 s train loss = 0.064985 train acc = 0.0100, test acc = 0.9385\n",
            "[0.01, 0.01, 0.01, 0.01, 0.01, 0.01, 0.01, 0.01, 0.01, 0.01, 0.01, 0.01, 0.01, 0.01, 0.01, 0.01, 0.01, 0.01, 0.01, 0.01, 0.01, 0.01, 0.01, 0.01, 0.01, 0.01, 0.01, 0.01, 0.01, 0.01, 0.01, 0.01, 0.01, 0.01, 0.01, 0.01, 0.01, 0.01, 0.01, 0.01, 0.01, 0.01, 0.01, 0.01, 0.01, 0.01, 0.01, 0.01, 0.01, 0.01, 0.01, 0.01, 0.01, 0.01, 0.01, 0.01, 0.01, 0.01, 0.01, 0.01, 0.01, 0.01, 0.01, 0.01, 0.01, 0.01, 0.01, 0.01, 0.01, 0.01, 0.01, 0.01, 0.01, 0.01, 0.01, 0.01, 0.01, 0.01, 0.01, 0.01, 0.01, 0.01, 0.01, 0.01, 0.01, 0.01, 0.01, 0.01, 0.01, 0.01, 0.01, 0.01, 0.01, 0.01, 0.01, 0.01, 0.01, 0.01, 0.01, 0.01]\n",
            "0.9385\n"
          ]
        },
        {
          "output_type": "stream",
          "name": "stderr",
          "text": [
            "\n"
          ]
        }
      ],
      "source": [
        "Net = \"VGG11\"\n",
        "model = utils.get_network(Net, channel, num_classes, im_size).to(device)\n",
        "print(model)\n",
        "args = datm_arguments(device, 10)\n",
        "args.lr_net = 0.01\n",
        "args.epoch_eval_train = 99\n",
        "args.parall_eva = False\n",
        "args.dc_aug_param = utils.get_daparam(args.dataset, model, NET, ipc = args.ipc)\n",
        "args.dsa_strategy = args.dc_aug_param['strategy']\n",
        "\n",
        "def SoftCrossEntropy(inputs, target, reduction='average'):\n",
        "    input_log_likelihood = -F.log_softmax(inputs, dim=1)\n",
        "    target_log_likelihood = F.softmax(target, dim=1)\n",
        "    batch = inputs.shape[0]\n",
        "    loss = torch.sum(torch.mul(input_log_likelihood, target_log_likelihood)) / batch\n",
        "    return loss\n",
        "\n",
        "criterion = SoftCrossEntropy\n",
        "\n",
        "image_syn, label_syn = copy.deepcopy(real_best_data[0][0]), copy.deepcopy(real_best_data[0][1])\n",
        "_, acc_train, acc_test = evaluate_synset(1,model ,image_syn, label_syn, testloader, args, train_criterion=criterion)\n",
        "print(acc_train)\n",
        "print(acc_test)"
      ]
    },
    {
      "cell_type": "markdown",
      "metadata": {
        "id": "x0H-LMU7pMWM"
      },
      "source": [
        "# Bonus"
      ]
    },
    {
      "cell_type": "code",
      "execution_count": null,
      "metadata": {
        "colab": {
          "base_uri": "https://localhost:8080/"
        },
        "id": "5jPb0gHEpKEj",
        "outputId": "1193ff76-0741-4f97-9642-66e3ae69a778"
      },
      "outputs": [
        {
          "metadata": {
            "tags": null
          },
          "name": "stdout",
          "output_type": "stream",
          "text": [
            "class c = 0: 5923 real images\n",
            "class c = 1: 6742 real images\n",
            "class c = 2: 5958 real images\n",
            "class c = 3: 6131 real images\n",
            "class c = 4: 5842 real images\n",
            "class c = 5: 5421 real images\n",
            "class c = 6: 5918 real images\n",
            "class c = 7: 6265 real images\n",
            "class c = 8: 5851 real images\n",
            "class c = 9: 5949 real images\n",
            "Expert Dir: ./MNISTbuffers/MNIST/ConvNet\n",
            "loading file ./MNISTbuffers/MNIST/ConvNet/replay_buffer_2.pt\n",
            "0.0.0\n",
            "1.0.0\n",
            "2.0.0\n",
            "3.0.0\n",
            "4.0.0\n",
            "5.0.0\n",
            "6.0.0\n",
            "7.0.0\n",
            "8.0.0\n",
            "9.0.0\n",
            "InitialAcc:1.0\n",
            "-------------------------\n",
            "Evaluation\n",
            "model_train = ConvNet, model_eval = ConvNet, iteration = 0\n",
            "DC augmentation parameters: \n",
            " {'crop': 4, 'scale': 0.2, 'rotate': 45, 'noise': 0.001, 'strategy': 'crop_scale_rotate'}\n"
          ]
        },
        {
          "metadata": {
            "tags": null
          },
          "name": "stderr",
          "output_type": "stream",
          "text": [
            "100%|██████████| 201/201 [00:21<00:00,  9.53it/s]\n"
          ]
        },
        {
          "metadata": {
            "tags": null
          },
          "name": "stdout",
          "output_type": "stream",
          "text": [
            "[2023-12-05 01:06:57] Evaluate_00: epoch = 0200 train time = 21 s train loss = 0.143394 train acc = 0.0050, test acc = 0.9611\n"
          ]
        },
        {
          "metadata": {
            "tags": null
          },
          "name": "stderr",
          "output_type": "stream",
          "text": [
            "100%|██████████| 201/201 [00:21<00:00,  9.36it/s]\n"
          ]
        },
        {
          "metadata": {
            "tags": null
          },
          "name": "stdout",
          "output_type": "stream",
          "text": [
            "[2023-12-05 01:07:18] Evaluate_01: epoch = 0200 train time = 21 s train loss = 0.147654 train acc = 0.0050, test acc = 0.9636\n"
          ]
        },
        {
          "metadata": {
            "tags": null
          },
          "name": "stderr",
          "output_type": "stream",
          "text": [
            "100%|██████████| 201/201 [00:22<00:00,  8.76it/s]\n"
          ]
        },
        {
          "metadata": {
            "tags": null
          },
          "name": "stdout",
          "output_type": "stream",
          "text": [
            "[2023-12-05 01:07:41] Evaluate_02: epoch = 0200 train time = 22 s train loss = 0.125956 train acc = 0.0050, test acc = 0.9640\n"
          ]
        },
        {
          "metadata": {
            "tags": null
          },
          "name": "stderr",
          "output_type": "stream",
          "text": [
            "100%|██████████| 201/201 [00:21<00:00,  9.45it/s]\n"
          ]
        },
        {
          "metadata": {
            "tags": null
          },
          "name": "stdout",
          "output_type": "stream",
          "text": [
            "[2023-12-05 01:08:03] Evaluate_03: epoch = 0200 train time = 21 s train loss = 0.102915 train acc = 0.0050, test acc = 0.9650\n"
          ]
        },
        {
          "metadata": {
            "tags": null
          },
          "name": "stderr",
          "output_type": "stream",
          "text": [
            "100%|██████████| 201/201 [00:22<00:00,  8.82it/s]\n"
          ]
        },
        {
          "metadata": {
            "tags": null
          },
          "name": "stdout",
          "output_type": "stream",
          "text": [
            "[2023-12-05 01:08:25] Evaluate_04: epoch = 0200 train time = 22 s train loss = 0.124722 train acc = 0.0050, test acc = 0.9653\n"
          ]
        },
        {
          "metadata": {
            "tags": null
          },
          "name": "stderr",
          "output_type": "stream",
          "text": [
            "100%|██████████| 201/201 [00:23<00:00,  8.45it/s]\n"
          ]
        },
        {
          "metadata": {
            "tags": null
          },
          "name": "stdout",
          "output_type": "stream",
          "text": [
            "[2023-12-05 01:08:49] Evaluate_05: epoch = 0200 train time = 23 s train loss = 0.153929 train acc = 0.0050, test acc = 0.9635\n"
          ]
        },
        {
          "metadata": {
            "tags": null
          },
          "name": "stderr",
          "output_type": "stream",
          "text": [
            "100%|██████████| 201/201 [00:21<00:00,  9.36it/s]\n"
          ]
        },
        {
          "metadata": {
            "tags": null
          },
          "name": "stdout",
          "output_type": "stream",
          "text": [
            "[2023-12-05 01:09:11] Evaluate_06: epoch = 0200 train time = 21 s train loss = 0.117313 train acc = 0.0050, test acc = 0.9666\n"
          ]
        },
        {
          "metadata": {
            "tags": null
          },
          "name": "stderr",
          "output_type": "stream",
          "text": [
            "100%|██████████| 201/201 [00:21<00:00,  9.35it/s]\n"
          ]
        },
        {
          "metadata": {
            "tags": null
          },
          "name": "stdout",
          "output_type": "stream",
          "text": [
            "[2023-12-05 01:09:32] Evaluate_07: epoch = 0200 train time = 21 s train loss = 0.131583 train acc = 0.0050, test acc = 0.9648\n"
          ]
        },
        {
          "metadata": {
            "tags": null
          },
          "name": "stderr",
          "output_type": "stream",
          "text": [
            "100%|██████████| 201/201 [00:22<00:00,  8.90it/s]\n"
          ]
        },
        {
          "metadata": {
            "tags": null
          },
          "name": "stdout",
          "output_type": "stream",
          "text": [
            "[2023-12-05 01:09:55] Evaluate_08: epoch = 0200 train time = 22 s train loss = 0.112294 train acc = 0.0050, test acc = 0.9652\n"
          ]
        },
        {
          "metadata": {
            "tags": null
          },
          "name": "stderr",
          "output_type": "stream",
          "text": [
            "100%|██████████| 201/201 [00:21<00:00,  9.34it/s]\n"
          ]
        },
        {
          "metadata": {
            "tags": null
          },
          "name": "stdout",
          "output_type": "stream",
          "text": [
            "[2023-12-05 01:10:16] Evaluate_09: epoch = 0200 train time = 21 s train loss = 0.135463 train acc = 0.0050, test acc = 0.9642\n"
          ]
        },
        {
          "metadata": {
            "tags": null
          },
          "name": "stderr",
          "output_type": "stream",
          "text": [
            "100%|██████████| 201/201 [00:21<00:00,  9.38it/s]\n"
          ]
        },
        {
          "metadata": {
            "tags": null
          },
          "name": "stdout",
          "output_type": "stream",
          "text": [
            "[2023-12-05 01:10:38] Evaluate_10: epoch = 0200 train time = 21 s train loss = 0.089249 train acc = 0.0050, test acc = 0.9636\n"
          ]
        },
        {
          "metadata": {
            "tags": null
          },
          "name": "stderr",
          "output_type": "stream",
          "text": [
            "100%|██████████| 201/201 [00:22<00:00,  8.92it/s]\n"
          ]
        },
        {
          "metadata": {
            "tags": null
          },
          "name": "stdout",
          "output_type": "stream",
          "text": [
            "[2023-12-05 01:11:00] Evaluate_11: epoch = 0200 train time = 22 s train loss = 0.131599 train acc = 0.0050, test acc = 0.9638\n"
          ]
        },
        {
          "metadata": {
            "tags": null
          },
          "name": "stderr",
          "output_type": "stream",
          "text": [
            "100%|██████████| 201/201 [00:22<00:00,  9.04it/s]\n"
          ]
        },
        {
          "metadata": {
            "tags": null
          },
          "name": "stdout",
          "output_type": "stream",
          "text": [
            "[2023-12-05 01:11:23] Evaluate_12: epoch = 0200 train time = 22 s train loss = 0.113651 train acc = 0.0050, test acc = 0.9650\n"
          ]
        },
        {
          "metadata": {
            "tags": null
          },
          "name": "stderr",
          "output_type": "stream",
          "text": [
            "100%|██████████| 201/201 [00:21<00:00,  9.32it/s]\n"
          ]
        },
        {
          "metadata": {
            "tags": null
          },
          "name": "stdout",
          "output_type": "stream",
          "text": [
            "[2023-12-05 01:11:44] Evaluate_13: epoch = 0200 train time = 21 s train loss = 0.142996 train acc = 0.0050, test acc = 0.9650\n"
          ]
        },
        {
          "metadata": {
            "tags": null
          },
          "name": "stderr",
          "output_type": "stream",
          "text": [
            "100%|██████████| 201/201 [00:22<00:00,  8.90it/s]\n"
          ]
        },
        {
          "metadata": {
            "tags": null
          },
          "name": "stdout",
          "output_type": "stream",
          "text": [
            "[2023-12-05 01:12:07] Evaluate_14: epoch = 0200 train time = 22 s train loss = 0.142567 train acc = 0.0050, test acc = 0.9650\n"
          ]
        },
        {
          "metadata": {
            "tags": null
          },
          "name": "stderr",
          "output_type": "stream",
          "text": [
            "100%|██████████| 201/201 [00:22<00:00,  8.95it/s]\n"
          ]
        },
        {
          "metadata": {
            "tags": null
          },
          "name": "stdout",
          "output_type": "stream",
          "text": [
            "[2023-12-05 01:12:29] Evaluate_15: epoch = 0200 train time = 22 s train loss = 0.120215 train acc = 0.0050, test acc = 0.9643\n"
          ]
        },
        {
          "metadata": {
            "tags": null
          },
          "name": "stderr",
          "output_type": "stream",
          "text": [
            "100%|██████████| 201/201 [00:22<00:00,  8.83it/s]\n"
          ]
        },
        {
          "metadata": {
            "tags": null
          },
          "name": "stdout",
          "output_type": "stream",
          "text": [
            "[2023-12-05 01:12:52] Evaluate_16: epoch = 0200 train time = 22 s train loss = 0.128705 train acc = 0.0050, test acc = 0.9645\n"
          ]
        },
        {
          "metadata": {
            "tags": null
          },
          "name": "stderr",
          "output_type": "stream",
          "text": [
            "100%|██████████| 201/201 [00:23<00:00,  8.54it/s]\n"
          ]
        },
        {
          "metadata": {
            "tags": null
          },
          "name": "stdout",
          "output_type": "stream",
          "text": [
            "[2023-12-05 01:13:16] Evaluate_17: epoch = 0200 train time = 23 s train loss = 0.115978 train acc = 0.0050, test acc = 0.9619\n"
          ]
        },
        {
          "metadata": {
            "tags": null
          },
          "name": "stderr",
          "output_type": "stream",
          "text": [
            "100%|██████████| 201/201 [00:22<00:00,  9.08it/s]\n"
          ]
        },
        {
          "metadata": {
            "tags": null
          },
          "name": "stdout",
          "output_type": "stream",
          "text": [
            "[2023-12-05 01:13:38] Evaluate_18: epoch = 0200 train time = 22 s train loss = 0.122040 train acc = 0.0050, test acc = 0.9622\n"
          ]
        },
        {
          "metadata": {
            "tags": null
          },
          "name": "stderr",
          "output_type": "stream",
          "text": [
            "100%|██████████| 201/201 [00:21<00:00,  9.36it/s]\n"
          ]
        },
        {
          "metadata": {
            "tags": null
          },
          "name": "stdout",
          "output_type": "stream",
          "text": [
            "[2023-12-05 01:13:59] Evaluate_19: epoch = 0200 train time = 21 s train loss = 0.125880 train acc = 0.0050, test acc = 0.9658\n",
            "Evaluate 20 random ConvNet, mean = 0.9642 std = 0.0013\n",
            "-------------------------\n",
            "[2023-12-05 01:14:02] iter = 0000, loss = 0.9836\n",
            "loading file ./MNISTbuffers/MNIST/ConvNet/replay_buffer_1.pt\n",
            "[2023-12-05 01:14:26] iter = 0010, loss = 0.9910\n",
            "loading file ./MNISTbuffers/MNIST/ConvNet/replay_buffer_2.pt\n",
            "-------------------------\n",
            "Evaluation\n",
            "model_train = ConvNet, model_eval = ConvNet, iteration = 20\n",
            "DC augmentation parameters: \n",
            " {'crop': 4, 'scale': 0.2, 'rotate': 45, 'noise': 0.001, 'strategy': 'crop_scale_rotate'}\n"
          ]
        },
        {
          "metadata": {
            "tags": null
          },
          "name": "stderr",
          "output_type": "stream",
          "text": [
            "100%|██████████| 201/201 [00:21<00:00,  9.50it/s]\n"
          ]
        },
        {
          "metadata": {
            "tags": null
          },
          "name": "stdout",
          "output_type": "stream",
          "text": [
            "[2023-12-05 01:15:08] Evaluate_00: epoch = 0200 train time = 21 s train loss = 0.127764 train acc = 0.0050, test acc = 0.9655\n"
          ]
        },
        {
          "metadata": {
            "tags": null
          },
          "name": "stderr",
          "output_type": "stream",
          "text": [
            "100%|██████████| 201/201 [00:23<00:00,  8.72it/s]\n"
          ]
        },
        {
          "metadata": {
            "tags": null
          },
          "name": "stdout",
          "output_type": "stream",
          "text": [
            "[2023-12-05 01:15:31] Evaluate_01: epoch = 0200 train time = 23 s train loss = 0.150580 train acc = 0.0050, test acc = 0.9654\n"
          ]
        },
        {
          "metadata": {
            "tags": null
          },
          "name": "stderr",
          "output_type": "stream",
          "text": [
            "100%|██████████| 201/201 [00:21<00:00,  9.37it/s]\n"
          ]
        },
        {
          "metadata": {
            "tags": null
          },
          "name": "stdout",
          "output_type": "stream",
          "text": [
            "[2023-12-05 01:15:52] Evaluate_02: epoch = 0200 train time = 21 s train loss = 0.122251 train acc = 0.0050, test acc = 0.9678\n"
          ]
        },
        {
          "metadata": {
            "tags": null
          },
          "name": "stderr",
          "output_type": "stream",
          "text": [
            "100%|██████████| 201/201 [00:21<00:00,  9.24it/s]\n"
          ]
        },
        {
          "metadata": {
            "tags": null
          },
          "name": "stdout",
          "output_type": "stream",
          "text": [
            "[2023-12-05 01:16:14] Evaluate_03: epoch = 0200 train time = 21 s train loss = 0.143265 train acc = 0.0050, test acc = 0.9685\n"
          ]
        },
        {
          "metadata": {
            "tags": null
          },
          "name": "stderr",
          "output_type": "stream",
          "text": [
            "100%|██████████| 201/201 [00:22<00:00,  8.84it/s]\n"
          ]
        },
        {
          "metadata": {
            "tags": null
          },
          "name": "stdout",
          "output_type": "stream",
          "text": [
            "[2023-12-05 01:16:37] Evaluate_04: epoch = 0200 train time = 22 s train loss = 0.115008 train acc = 0.0050, test acc = 0.9686\n"
          ]
        },
        {
          "metadata": {
            "tags": null
          },
          "name": "stderr",
          "output_type": "stream",
          "text": [
            "100%|██████████| 201/201 [00:21<00:00,  9.47it/s]\n"
          ]
        },
        {
          "metadata": {
            "tags": null
          },
          "name": "stdout",
          "output_type": "stream",
          "text": [
            "[2023-12-05 01:16:58] Evaluate_05: epoch = 0200 train time = 21 s train loss = 0.130787 train acc = 0.0050, test acc = 0.9676\n"
          ]
        },
        {
          "metadata": {
            "tags": null
          },
          "name": "stderr",
          "output_type": "stream",
          "text": [
            "100%|██████████| 201/201 [00:22<00:00,  8.89it/s]\n"
          ]
        },
        {
          "metadata": {
            "tags": null
          },
          "name": "stdout",
          "output_type": "stream",
          "text": [
            "[2023-12-05 01:17:21] Evaluate_06: epoch = 0200 train time = 22 s train loss = 0.111848 train acc = 0.0050, test acc = 0.9658\n"
          ]
        },
        {
          "metadata": {
            "tags": null
          },
          "name": "stderr",
          "output_type": "stream",
          "text": [
            "100%|██████████| 201/201 [00:23<00:00,  8.43it/s]\n"
          ]
        },
        {
          "metadata": {
            "tags": null
          },
          "name": "stdout",
          "output_type": "stream",
          "text": [
            "[2023-12-05 01:17:45] Evaluate_07: epoch = 0200 train time = 23 s train loss = 0.124238 train acc = 0.0050, test acc = 0.9669\n"
          ]
        },
        {
          "metadata": {
            "tags": null
          },
          "name": "stderr",
          "output_type": "stream",
          "text": [
            "100%|██████████| 201/201 [00:21<00:00,  9.20it/s]\n"
          ]
        },
        {
          "metadata": {
            "tags": null
          },
          "name": "stdout",
          "output_type": "stream",
          "text": [
            "[2023-12-05 01:18:07] Evaluate_08: epoch = 0200 train time = 21 s train loss = 0.127427 train acc = 0.0050, test acc = 0.9697\n"
          ]
        },
        {
          "metadata": {
            "tags": null
          },
          "name": "stderr",
          "output_type": "stream",
          "text": [
            "100%|██████████| 201/201 [00:21<00:00,  9.52it/s]\n"
          ]
        },
        {
          "metadata": {
            "tags": null
          },
          "name": "stdout",
          "output_type": "stream",
          "text": [
            "[2023-12-05 01:18:28] Evaluate_09: epoch = 0200 train time = 21 s train loss = 0.127492 train acc = 0.0050, test acc = 0.9650\n"
          ]
        },
        {
          "metadata": {
            "tags": null
          },
          "name": "stderr",
          "output_type": "stream",
          "text": [
            "100%|██████████| 201/201 [00:21<00:00,  9.26it/s]\n"
          ]
        },
        {
          "metadata": {
            "tags": null
          },
          "name": "stdout",
          "output_type": "stream",
          "text": [
            "[2023-12-05 01:18:50] Evaluate_10: epoch = 0200 train time = 21 s train loss = 0.158289 train acc = 0.0050, test acc = 0.9665\n"
          ]
        },
        {
          "metadata": {
            "tags": null
          },
          "name": "stderr",
          "output_type": "stream",
          "text": [
            "100%|██████████| 201/201 [00:22<00:00,  8.96it/s]\n"
          ]
        },
        {
          "metadata": {
            "tags": null
          },
          "name": "stdout",
          "output_type": "stream",
          "text": [
            "[2023-12-05 01:19:12] Evaluate_11: epoch = 0200 train time = 22 s train loss = 0.120795 train acc = 0.0050, test acc = 0.9678\n"
          ]
        },
        {
          "metadata": {
            "tags": null
          },
          "name": "stderr",
          "output_type": "stream",
          "text": [
            "100%|██████████| 201/201 [00:21<00:00,  9.51it/s]\n"
          ]
        },
        {
          "metadata": {
            "tags": null
          },
          "name": "stdout",
          "output_type": "stream",
          "text": [
            "[2023-12-05 01:19:33] Evaluate_12: epoch = 0200 train time = 21 s train loss = 0.112094 train acc = 0.0050, test acc = 0.9659\n"
          ]
        },
        {
          "metadata": {
            "tags": null
          },
          "name": "stderr",
          "output_type": "stream",
          "text": [
            "100%|██████████| 201/201 [00:21<00:00,  9.24it/s]\n"
          ]
        },
        {
          "metadata": {
            "tags": null
          },
          "name": "stdout",
          "output_type": "stream",
          "text": [
            "[2023-12-05 01:19:55] Evaluate_13: epoch = 0200 train time = 21 s train loss = 0.115354 train acc = 0.0050, test acc = 0.9662\n"
          ]
        },
        {
          "metadata": {
            "tags": null
          },
          "name": "stderr",
          "output_type": "stream",
          "text": [
            "100%|██████████| 201/201 [00:23<00:00,  8.69it/s]\n"
          ]
        },
        {
          "metadata": {
            "tags": null
          },
          "name": "stdout",
          "output_type": "stream",
          "text": [
            "[2023-12-05 01:20:18] Evaluate_14: epoch = 0200 train time = 23 s train loss = 0.129845 train acc = 0.0050, test acc = 0.9675\n"
          ]
        },
        {
          "metadata": {
            "tags": null
          },
          "name": "stderr",
          "output_type": "stream",
          "text": [
            "100%|██████████| 201/201 [00:21<00:00,  9.42it/s]\n"
          ]
        },
        {
          "metadata": {
            "tags": null
          },
          "name": "stdout",
          "output_type": "stream",
          "text": [
            "[2023-12-05 01:20:39] Evaluate_15: epoch = 0200 train time = 21 s train loss = 0.145588 train acc = 0.0050, test acc = 0.9649\n"
          ]
        },
        {
          "metadata": {
            "tags": null
          },
          "name": "stderr",
          "output_type": "stream",
          "text": [
            "100%|██████████| 201/201 [00:21<00:00,  9.48it/s]\n"
          ]
        },
        {
          "metadata": {
            "tags": null
          },
          "name": "stdout",
          "output_type": "stream",
          "text": [
            "[2023-12-05 01:21:01] Evaluate_16: epoch = 0200 train time = 21 s train loss = 0.128703 train acc = 0.0050, test acc = 0.9651\n"
          ]
        },
        {
          "metadata": {
            "tags": null
          },
          "name": "stderr",
          "output_type": "stream",
          "text": [
            "100%|██████████| 201/201 [00:22<00:00,  8.77it/s]\n"
          ]
        },
        {
          "metadata": {
            "tags": null
          },
          "name": "stdout",
          "output_type": "stream",
          "text": [
            "[2023-12-05 01:21:24] Evaluate_17: epoch = 0200 train time = 22 s train loss = 0.122956 train acc = 0.0050, test acc = 0.9705\n"
          ]
        },
        {
          "metadata": {
            "tags": null
          },
          "name": "stderr",
          "output_type": "stream",
          "text": [
            "100%|██████████| 201/201 [00:21<00:00,  9.45it/s]\n"
          ]
        },
        {
          "metadata": {
            "tags": null
          },
          "name": "stdout",
          "output_type": "stream",
          "text": [
            "[2023-12-05 01:21:45] Evaluate_18: epoch = 0200 train time = 21 s train loss = 0.119297 train acc = 0.0050, test acc = 0.9677\n"
          ]
        },
        {
          "metadata": {
            "tags": null
          },
          "name": "stderr",
          "output_type": "stream",
          "text": [
            "100%|██████████| 201/201 [00:23<00:00,  8.66it/s]\n"
          ]
        },
        {
          "metadata": {
            "tags": null
          },
          "name": "stdout",
          "output_type": "stream",
          "text": [
            "[2023-12-05 01:22:08] Evaluate_19: epoch = 0200 train time = 23 s train loss = 0.123362 train acc = 0.0050, test acc = 0.9693\n",
            "Evaluate 20 random ConvNet, mean = 0.9671 std = 0.0016\n",
            "-------------------------\n",
            "[2023-12-05 01:22:11] iter = 0020, loss = 0.9377\n",
            "loading file ./MNISTbuffers/MNIST/ConvNet/replay_buffer_3.pt\n",
            "[2023-12-05 01:22:34] iter = 0030, loss = 0.7624\n",
            "loading file ./MNISTbuffers/MNIST/ConvNet/replay_buffer_1.pt\n",
            "-------------------------\n",
            "Evaluation\n",
            "model_train = ConvNet, model_eval = ConvNet, iteration = 40\n",
            "DC augmentation parameters: \n",
            " {'crop': 4, 'scale': 0.2, 'rotate': 45, 'noise': 0.001, 'strategy': 'crop_scale_rotate'}\n"
          ]
        },
        {
          "metadata": {
            "tags": null
          },
          "name": "stderr",
          "output_type": "stream",
          "text": [
            "100%|██████████| 201/201 [00:20<00:00,  9.70it/s]\n"
          ]
        },
        {
          "metadata": {
            "tags": null
          },
          "name": "stdout",
          "output_type": "stream",
          "text": [
            "[2023-12-05 01:23:16] Evaluate_00: epoch = 0200 train time = 20 s train loss = 0.111437 train acc = 0.0050, test acc = 0.9705\n"
          ]
        },
        {
          "metadata": {
            "tags": null
          },
          "name": "stderr",
          "output_type": "stream",
          "text": [
            "100%|██████████| 201/201 [00:22<00:00,  8.95it/s]\n"
          ]
        },
        {
          "metadata": {
            "tags": null
          },
          "name": "stdout",
          "output_type": "stream",
          "text": [
            "[2023-12-05 01:23:38] Evaluate_01: epoch = 0200 train time = 22 s train loss = 0.129202 train acc = 0.0050, test acc = 0.9701\n"
          ]
        },
        {
          "metadata": {
            "tags": null
          },
          "name": "stderr",
          "output_type": "stream",
          "text": [
            "100%|██████████| 201/201 [00:21<00:00,  9.34it/s]\n"
          ]
        },
        {
          "metadata": {
            "tags": null
          },
          "name": "stdout",
          "output_type": "stream",
          "text": [
            "[2023-12-05 01:24:00] Evaluate_02: epoch = 0200 train time = 21 s train loss = 0.123987 train acc = 0.0050, test acc = 0.9701\n"
          ]
        },
        {
          "metadata": {
            "tags": null
          },
          "name": "stderr",
          "output_type": "stream",
          "text": [
            "100%|██████████| 201/201 [00:21<00:00,  9.47it/s]\n"
          ]
        },
        {
          "metadata": {
            "tags": null
          },
          "name": "stdout",
          "output_type": "stream",
          "text": [
            "[2023-12-05 01:24:21] Evaluate_03: epoch = 0200 train time = 21 s train loss = 0.146388 train acc = 0.0050, test acc = 0.9689\n"
          ]
        },
        {
          "metadata": {
            "tags": null
          },
          "name": "stderr",
          "output_type": "stream",
          "text": [
            "100%|██████████| 201/201 [00:21<00:00,  9.18it/s]\n"
          ]
        },
        {
          "metadata": {
            "tags": null
          },
          "name": "stdout",
          "output_type": "stream",
          "text": [
            "[2023-12-05 01:24:43] Evaluate_04: epoch = 0200 train time = 21 s train loss = 0.108359 train acc = 0.0050, test acc = 0.9672\n"
          ]
        },
        {
          "metadata": {
            "tags": null
          },
          "name": "stderr",
          "output_type": "stream",
          "text": [
            "100%|██████████| 201/201 [00:22<00:00,  9.01it/s]\n"
          ]
        },
        {
          "metadata": {
            "tags": null
          },
          "name": "stdout",
          "output_type": "stream",
          "text": [
            "[2023-12-05 01:25:05] Evaluate_05: epoch = 0200 train time = 22 s train loss = 0.108847 train acc = 0.0050, test acc = 0.9700\n"
          ]
        },
        {
          "metadata": {
            "tags": null
          },
          "name": "stderr",
          "output_type": "stream",
          "text": [
            "100%|██████████| 201/201 [00:21<00:00,  9.56it/s]\n"
          ]
        },
        {
          "metadata": {
            "tags": null
          },
          "name": "stdout",
          "output_type": "stream",
          "text": [
            "[2023-12-05 01:25:26] Evaluate_06: epoch = 0200 train time = 21 s train loss = 0.148185 train acc = 0.0050, test acc = 0.9706\n"
          ]
        },
        {
          "metadata": {
            "tags": null
          },
          "name": "stderr",
          "output_type": "stream",
          "text": [
            "100%|██████████| 201/201 [00:21<00:00,  9.51it/s]\n"
          ]
        },
        {
          "metadata": {
            "tags": null
          },
          "name": "stdout",
          "output_type": "stream",
          "text": [
            "[2023-12-05 01:25:48] Evaluate_07: epoch = 0200 train time = 21 s train loss = 0.143021 train acc = 0.0050, test acc = 0.9724\n"
          ]
        },
        {
          "metadata": {
            "tags": null
          },
          "name": "stderr",
          "output_type": "stream",
          "text": [
            "100%|██████████| 201/201 [00:23<00:00,  8.70it/s]\n"
          ]
        },
        {
          "metadata": {
            "tags": null
          },
          "name": "stdout",
          "output_type": "stream",
          "text": [
            "[2023-12-05 01:26:11] Evaluate_08: epoch = 0200 train time = 23 s train loss = 0.122744 train acc = 0.0050, test acc = 0.9670\n"
          ]
        },
        {
          "metadata": {
            "tags": null
          },
          "name": "stderr",
          "output_type": "stream",
          "text": [
            "100%|██████████| 201/201 [00:23<00:00,  8.57it/s]\n"
          ]
        },
        {
          "metadata": {
            "tags": null
          },
          "name": "stdout",
          "output_type": "stream",
          "text": [
            "[2023-12-05 01:26:34] Evaluate_09: epoch = 0200 train time = 23 s train loss = 0.130966 train acc = 0.0050, test acc = 0.9702\n"
          ]
        },
        {
          "metadata": {
            "tags": null
          },
          "name": "stderr",
          "output_type": "stream",
          "text": [
            "100%|██████████| 201/201 [00:21<00:00,  9.51it/s]\n"
          ]
        },
        {
          "metadata": {
            "tags": null
          },
          "name": "stdout",
          "output_type": "stream",
          "text": [
            "[2023-12-05 01:26:55] Evaluate_10: epoch = 0200 train time = 21 s train loss = 0.122318 train acc = 0.0050, test acc = 0.9676\n"
          ]
        },
        {
          "metadata": {
            "tags": null
          },
          "name": "stderr",
          "output_type": "stream",
          "text": [
            "100%|██████████| 201/201 [00:21<00:00,  9.43it/s]\n"
          ]
        },
        {
          "metadata": {
            "tags": null
          },
          "name": "stdout",
          "output_type": "stream",
          "text": [
            "[2023-12-05 01:27:17] Evaluate_11: epoch = 0200 train time = 21 s train loss = 0.129911 train acc = 0.0050, test acc = 0.9692\n"
          ]
        },
        {
          "metadata": {
            "tags": null
          },
          "name": "stderr",
          "output_type": "stream",
          "text": [
            "100%|██████████| 201/201 [00:22<00:00,  8.77it/s]\n"
          ]
        },
        {
          "metadata": {
            "tags": null
          },
          "name": "stdout",
          "output_type": "stream",
          "text": [
            "[2023-12-05 01:27:40] Evaluate_12: epoch = 0200 train time = 22 s train loss = 0.116443 train acc = 0.0050, test acc = 0.9679\n"
          ]
        },
        {
          "metadata": {
            "tags": null
          },
          "name": "stderr",
          "output_type": "stream",
          "text": [
            "100%|██████████| 201/201 [00:20<00:00,  9.59it/s]\n"
          ]
        },
        {
          "metadata": {
            "tags": null
          },
          "name": "stdout",
          "output_type": "stream",
          "text": [
            "[2023-12-05 01:28:01] Evaluate_13: epoch = 0200 train time = 20 s train loss = 0.097514 train acc = 0.0050, test acc = 0.9695\n"
          ]
        },
        {
          "metadata": {
            "tags": null
          },
          "name": "stderr",
          "output_type": "stream",
          "text": [
            "100%|██████████| 201/201 [00:21<00:00,  9.47it/s]\n"
          ]
        },
        {
          "metadata": {
            "tags": null
          },
          "name": "stdout",
          "output_type": "stream",
          "text": [
            "[2023-12-05 01:28:22] Evaluate_14: epoch = 0200 train time = 21 s train loss = 0.128481 train acc = 0.0050, test acc = 0.9694\n"
          ]
        },
        {
          "metadata": {
            "tags": null
          },
          "name": "stderr",
          "output_type": "stream",
          "text": [
            "100%|██████████| 201/201 [00:22<00:00,  8.94it/s]\n"
          ]
        },
        {
          "metadata": {
            "tags": null
          },
          "name": "stdout",
          "output_type": "stream",
          "text": [
            "[2023-12-05 01:28:44] Evaluate_15: epoch = 0200 train time = 22 s train loss = 0.101760 train acc = 0.0050, test acc = 0.9690\n"
          ]
        },
        {
          "metadata": {
            "tags": null
          },
          "name": "stderr",
          "output_type": "stream",
          "text": [
            "100%|██████████| 201/201 [00:21<00:00,  9.45it/s]\n"
          ]
        },
        {
          "metadata": {
            "tags": null
          },
          "name": "stdout",
          "output_type": "stream",
          "text": [
            "[2023-12-05 01:29:06] Evaluate_16: epoch = 0200 train time = 21 s train loss = 0.136565 train acc = 0.0050, test acc = 0.9695\n"
          ]
        },
        {
          "metadata": {
            "tags": null
          },
          "name": "stderr",
          "output_type": "stream",
          "text": [
            "100%|██████████| 201/201 [00:21<00:00,  9.41it/s]\n"
          ]
        },
        {
          "metadata": {
            "tags": null
          },
          "name": "stdout",
          "output_type": "stream",
          "text": [
            "[2023-12-05 01:29:27] Evaluate_17: epoch = 0200 train time = 21 s train loss = 0.126072 train acc = 0.0050, test acc = 0.9693\n"
          ]
        },
        {
          "metadata": {
            "tags": null
          },
          "name": "stderr",
          "output_type": "stream",
          "text": [
            "100%|██████████| 201/201 [00:21<00:00,  9.26it/s]\n"
          ]
        },
        {
          "metadata": {
            "tags": null
          },
          "name": "stdout",
          "output_type": "stream",
          "text": [
            "[2023-12-05 01:29:49] Evaluate_18: epoch = 0200 train time = 21 s train loss = 0.134869 train acc = 0.0050, test acc = 0.9686\n"
          ]
        },
        {
          "metadata": {
            "tags": null
          },
          "name": "stderr",
          "output_type": "stream",
          "text": [
            "100%|██████████| 201/201 [00:22<00:00,  8.97it/s]\n"
          ]
        },
        {
          "metadata": {
            "tags": null
          },
          "name": "stdout",
          "output_type": "stream",
          "text": [
            "[2023-12-05 01:30:11] Evaluate_19: epoch = 0200 train time = 22 s train loss = 0.146873 train acc = 0.0050, test acc = 0.9659\n",
            "Evaluate 20 random ConvNet, mean = 0.9691 std = 0.0014\n",
            "-------------------------\n",
            "[2023-12-05 01:30:14] iter = 0040, loss = 0.9744\n",
            "loading file ./MNISTbuffers/MNIST/ConvNet/replay_buffer_3.pt\n",
            "[2023-12-05 01:30:37] iter = 0050, loss = 0.9750\n",
            "loading file ./MNISTbuffers/MNIST/ConvNet/replay_buffer_2.pt\n",
            "-------------------------\n",
            "Evaluation\n",
            "model_train = ConvNet, model_eval = ConvNet, iteration = 60\n",
            "DC augmentation parameters: \n",
            " {'crop': 4, 'scale': 0.2, 'rotate': 45, 'noise': 0.001, 'strategy': 'crop_scale_rotate'}\n"
          ]
        },
        {
          "metadata": {
            "tags": null
          },
          "name": "stderr",
          "output_type": "stream",
          "text": [
            "100%|██████████| 201/201 [00:22<00:00,  8.80it/s]\n"
          ]
        },
        {
          "metadata": {
            "tags": null
          },
          "name": "stdout",
          "output_type": "stream",
          "text": [
            "[2023-12-05 01:31:21] Evaluate_00: epoch = 0200 train time = 22 s train loss = 0.111928 train acc = 0.0050, test acc = 0.9674\n"
          ]
        },
        {
          "metadata": {
            "tags": null
          },
          "name": "stderr",
          "output_type": "stream",
          "text": [
            "100%|██████████| 201/201 [00:21<00:00,  9.48it/s]\n"
          ]
        },
        {
          "metadata": {
            "tags": null
          },
          "name": "stdout",
          "output_type": "stream",
          "text": [
            "[2023-12-05 01:31:43] Evaluate_01: epoch = 0200 train time = 21 s train loss = 0.123750 train acc = 0.0050, test acc = 0.9700\n"
          ]
        },
        {
          "metadata": {
            "tags": null
          },
          "name": "stderr",
          "output_type": "stream",
          "text": [
            "100%|██████████| 201/201 [00:21<00:00,  9.14it/s]\n"
          ]
        },
        {
          "metadata": {
            "tags": null
          },
          "name": "stdout",
          "output_type": "stream",
          "text": [
            "[2023-12-05 01:32:05] Evaluate_02: epoch = 0200 train time = 21 s train loss = 0.113669 train acc = 0.0050, test acc = 0.9711\n"
          ]
        },
        {
          "metadata": {
            "tags": null
          },
          "name": "stderr",
          "output_type": "stream",
          "text": [
            "100%|██████████| 201/201 [00:23<00:00,  8.66it/s]\n"
          ]
        },
        {
          "metadata": {
            "tags": null
          },
          "name": "stdout",
          "output_type": "stream",
          "text": [
            "[2023-12-05 01:32:28] Evaluate_03: epoch = 0200 train time = 23 s train loss = 0.129916 train acc = 0.0050, test acc = 0.9706\n"
          ]
        },
        {
          "metadata": {
            "tags": null
          },
          "name": "stderr",
          "output_type": "stream",
          "text": [
            "100%|██████████| 201/201 [00:21<00:00,  9.45it/s]\n"
          ]
        },
        {
          "metadata": {
            "tags": null
          },
          "name": "stdout",
          "output_type": "stream",
          "text": [
            "[2023-12-05 01:32:49] Evaluate_04: epoch = 0200 train time = 21 s train loss = 0.094095 train acc = 0.0050, test acc = 0.9708\n"
          ]
        },
        {
          "metadata": {
            "tags": null
          },
          "name": "stderr",
          "output_type": "stream",
          "text": [
            "100%|██████████| 201/201 [00:21<00:00,  9.52it/s]\n"
          ]
        },
        {
          "metadata": {
            "tags": null
          },
          "name": "stdout",
          "output_type": "stream",
          "text": [
            "[2023-12-05 01:33:10] Evaluate_05: epoch = 0200 train time = 21 s train loss = 0.120268 train acc = 0.0050, test acc = 0.9670\n"
          ]
        },
        {
          "metadata": {
            "tags": null
          },
          "name": "stderr",
          "output_type": "stream",
          "text": [
            "100%|██████████| 201/201 [00:23<00:00,  8.68it/s]\n"
          ]
        },
        {
          "metadata": {
            "tags": null
          },
          "name": "stdout",
          "output_type": "stream",
          "text": [
            "[2023-12-05 01:33:33] Evaluate_06: epoch = 0200 train time = 23 s train loss = 0.088513 train acc = 0.0050, test acc = 0.9682\n"
          ]
        },
        {
          "metadata": {
            "tags": null
          },
          "name": "stderr",
          "output_type": "stream",
          "text": [
            "100%|██████████| 201/201 [00:21<00:00,  9.36it/s]\n"
          ]
        },
        {
          "metadata": {
            "tags": null
          },
          "name": "stdout",
          "output_type": "stream",
          "text": [
            "[2023-12-05 01:33:55] Evaluate_07: epoch = 0200 train time = 21 s train loss = 0.107731 train acc = 0.0050, test acc = 0.9668\n"
          ]
        },
        {
          "metadata": {
            "tags": null
          },
          "name": "stderr",
          "output_type": "stream",
          "text": [
            "100%|██████████| 201/201 [00:21<00:00,  9.48it/s]\n"
          ]
        },
        {
          "metadata": {
            "tags": null
          },
          "name": "stdout",
          "output_type": "stream",
          "text": [
            "[2023-12-05 01:34:16] Evaluate_08: epoch = 0200 train time = 21 s train loss = 0.115969 train acc = 0.0050, test acc = 0.9713\n"
          ]
        },
        {
          "metadata": {
            "tags": null
          },
          "name": "stderr",
          "output_type": "stream",
          "text": [
            "100%|██████████| 201/201 [00:22<00:00,  8.96it/s]\n"
          ]
        },
        {
          "metadata": {
            "tags": null
          },
          "name": "stdout",
          "output_type": "stream",
          "text": [
            "[2023-12-05 01:34:39] Evaluate_09: epoch = 0200 train time = 22 s train loss = 0.121740 train acc = 0.0050, test acc = 0.9687\n"
          ]
        },
        {
          "metadata": {
            "tags": null
          },
          "name": "stderr",
          "output_type": "stream",
          "text": [
            "100%|██████████| 201/201 [00:21<00:00,  9.24it/s]\n"
          ]
        },
        {
          "metadata": {
            "tags": null
          },
          "name": "stdout",
          "output_type": "stream",
          "text": [
            "[2023-12-05 01:35:00] Evaluate_10: epoch = 0200 train time = 21 s train loss = 0.106101 train acc = 0.0050, test acc = 0.9694\n"
          ]
        },
        {
          "metadata": {
            "tags": null
          },
          "name": "stderr",
          "output_type": "stream",
          "text": [
            "100%|██████████| 201/201 [00:21<00:00,  9.39it/s]\n"
          ]
        },
        {
          "metadata": {
            "tags": null
          },
          "name": "stdout",
          "output_type": "stream",
          "text": [
            "[2023-12-05 01:35:22] Evaluate_11: epoch = 0200 train time = 21 s train loss = 0.132525 train acc = 0.0050, test acc = 0.9688\n"
          ]
        },
        {
          "metadata": {
            "tags": null
          },
          "name": "stderr",
          "output_type": "stream",
          "text": [
            "100%|██████████| 201/201 [00:24<00:00,  8.26it/s]\n"
          ]
        },
        {
          "metadata": {
            "tags": null
          },
          "name": "stdout",
          "output_type": "stream",
          "text": [
            "[2023-12-05 01:35:46] Evaluate_12: epoch = 0200 train time = 24 s train loss = 0.125170 train acc = 0.0050, test acc = 0.9696\n"
          ]
        },
        {
          "metadata": {
            "tags": null
          },
          "name": "stderr",
          "output_type": "stream",
          "text": [
            "100%|██████████| 201/201 [00:22<00:00,  9.13it/s]\n"
          ]
        },
        {
          "metadata": {
            "tags": null
          },
          "name": "stdout",
          "output_type": "stream",
          "text": [
            "[2023-12-05 01:36:08] Evaluate_13: epoch = 0200 train time = 22 s train loss = 0.107162 train acc = 0.0050, test acc = 0.9694\n"
          ]
        },
        {
          "metadata": {
            "tags": null
          },
          "name": "stderr",
          "output_type": "stream",
          "text": [
            "100%|██████████| 201/201 [00:21<00:00,  9.52it/s]\n"
          ]
        },
        {
          "metadata": {
            "tags": null
          },
          "name": "stdout",
          "output_type": "stream",
          "text": [
            "[2023-12-05 01:36:29] Evaluate_14: epoch = 0200 train time = 21 s train loss = 0.131741 train acc = 0.0050, test acc = 0.9665\n"
          ]
        },
        {
          "metadata": {
            "tags": null
          },
          "name": "stderr",
          "output_type": "stream",
          "text": [
            "100%|██████████| 201/201 [00:21<00:00,  9.44it/s]\n"
          ]
        },
        {
          "metadata": {
            "tags": null
          },
          "name": "stdout",
          "output_type": "stream",
          "text": [
            "[2023-12-05 01:36:51] Evaluate_15: epoch = 0200 train time = 21 s train loss = 0.121890 train acc = 0.0050, test acc = 0.9736\n"
          ]
        },
        {
          "metadata": {
            "tags": null
          },
          "name": "stderr",
          "output_type": "stream",
          "text": [
            "100%|██████████| 201/201 [00:23<00:00,  8.73it/s]\n"
          ]
        },
        {
          "metadata": {
            "tags": null
          },
          "name": "stdout",
          "output_type": "stream",
          "text": [
            "[2023-12-05 01:37:14] Evaluate_16: epoch = 0200 train time = 23 s train loss = 0.101900 train acc = 0.0050, test acc = 0.9692\n"
          ]
        },
        {
          "metadata": {
            "tags": null
          },
          "name": "stderr",
          "output_type": "stream",
          "text": [
            "100%|██████████| 201/201 [00:20<00:00,  9.60it/s]\n"
          ]
        },
        {
          "metadata": {
            "tags": null
          },
          "name": "stdout",
          "output_type": "stream",
          "text": [
            "[2023-12-05 01:37:35] Evaluate_17: epoch = 0200 train time = 20 s train loss = 0.102869 train acc = 0.0050, test acc = 0.9680\n"
          ]
        },
        {
          "metadata": {
            "tags": null
          },
          "name": "stderr",
          "output_type": "stream",
          "text": [
            "100%|██████████| 201/201 [00:21<00:00,  9.49it/s]\n"
          ]
        },
        {
          "metadata": {
            "tags": null
          },
          "name": "stdout",
          "output_type": "stream",
          "text": [
            "[2023-12-05 01:37:56] Evaluate_18: epoch = 0200 train time = 21 s train loss = 0.147605 train acc = 0.0050, test acc = 0.9708\n"
          ]
        },
        {
          "metadata": {
            "tags": null
          },
          "name": "stderr",
          "output_type": "stream",
          "text": [
            "100%|██████████| 201/201 [00:22<00:00,  8.94it/s]\n"
          ]
        },
        {
          "metadata": {
            "tags": null
          },
          "name": "stdout",
          "output_type": "stream",
          "text": [
            "[2023-12-05 01:38:18] Evaluate_19: epoch = 0200 train time = 22 s train loss = 0.110966 train acc = 0.0050, test acc = 0.9699\n",
            "Evaluate 20 random ConvNet, mean = 0.9694 std = 0.0017\n",
            "-------------------------\n",
            "[2023-12-05 01:38:21] iter = 0060, loss = 0.9861\n",
            "loading file ./MNISTbuffers/MNIST/ConvNet/replay_buffer_0.pt\n",
            "[2023-12-05 01:38:45] iter = 0070, loss = 0.9820\n",
            "loading file ./MNISTbuffers/MNIST/ConvNet/replay_buffer_2.pt\n",
            "-------------------------\n",
            "Evaluation\n",
            "model_train = ConvNet, model_eval = ConvNet, iteration = 80\n",
            "DC augmentation parameters: \n",
            " {'crop': 4, 'scale': 0.2, 'rotate': 45, 'noise': 0.001, 'strategy': 'crop_scale_rotate'}\n"
          ]
        },
        {
          "metadata": {
            "tags": null
          },
          "name": "stderr",
          "output_type": "stream",
          "text": [
            "100%|██████████| 201/201 [00:21<00:00,  9.39it/s]\n"
          ]
        },
        {
          "metadata": {
            "tags": null
          },
          "name": "stdout",
          "output_type": "stream",
          "text": [
            "[2023-12-05 01:39:27] Evaluate_00: epoch = 0200 train time = 21 s train loss = 0.088247 train acc = 0.0050, test acc = 0.9701\n"
          ]
        },
        {
          "metadata": {
            "tags": null
          },
          "name": "stderr",
          "output_type": "stream",
          "text": [
            "100%|██████████| 201/201 [00:20<00:00,  9.61it/s]\n"
          ]
        },
        {
          "metadata": {
            "tags": null
          },
          "name": "stdout",
          "output_type": "stream",
          "text": [
            "[2023-12-05 01:39:48] Evaluate_01: epoch = 0200 train time = 20 s train loss = 0.088590 train acc = 0.0050, test acc = 0.9718\n"
          ]
        },
        {
          "metadata": {
            "tags": null
          },
          "name": "stderr",
          "output_type": "stream",
          "text": [
            "100%|██████████| 201/201 [00:22<00:00,  8.86it/s]\n"
          ]
        },
        {
          "metadata": {
            "tags": null
          },
          "name": "stdout",
          "output_type": "stream",
          "text": [
            "[2023-12-05 01:40:11] Evaluate_02: epoch = 0200 train time = 22 s train loss = 0.093303 train acc = 0.0050, test acc = 0.9708\n"
          ]
        },
        {
          "metadata": {
            "tags": null
          },
          "name": "stderr",
          "output_type": "stream",
          "text": [
            "100%|██████████| 201/201 [00:23<00:00,  8.64it/s]\n"
          ]
        },
        {
          "metadata": {
            "tags": null
          },
          "name": "stdout",
          "output_type": "stream",
          "text": [
            "[2023-12-05 01:40:34] Evaluate_03: epoch = 0200 train time = 23 s train loss = 0.109915 train acc = 0.0050, test acc = 0.9711\n"
          ]
        },
        {
          "metadata": {
            "tags": null
          },
          "name": "stderr",
          "output_type": "stream",
          "text": [
            "100%|██████████| 201/201 [00:21<00:00,  9.52it/s]\n"
          ]
        },
        {
          "metadata": {
            "tags": null
          },
          "name": "stdout",
          "output_type": "stream",
          "text": [
            "[2023-12-05 01:40:55] Evaluate_04: epoch = 0200 train time = 21 s train loss = 0.112072 train acc = 0.0050, test acc = 0.9683\n"
          ]
        },
        {
          "metadata": {
            "tags": null
          },
          "name": "stderr",
          "output_type": "stream",
          "text": [
            "100%|██████████| 201/201 [00:20<00:00,  9.58it/s]\n"
          ]
        },
        {
          "metadata": {
            "tags": null
          },
          "name": "stdout",
          "output_type": "stream",
          "text": [
            "[2023-12-05 01:41:16] Evaluate_05: epoch = 0200 train time = 20 s train loss = 0.123194 train acc = 0.0050, test acc = 0.9708\n"
          ]
        },
        {
          "metadata": {
            "tags": null
          },
          "name": "stderr",
          "output_type": "stream",
          "text": [
            "100%|██████████| 201/201 [00:22<00:00,  8.99it/s]\n"
          ]
        },
        {
          "metadata": {
            "tags": null
          },
          "name": "stdout",
          "output_type": "stream",
          "text": [
            "[2023-12-05 01:41:38] Evaluate_06: epoch = 0200 train time = 22 s train loss = 0.116413 train acc = 0.0050, test acc = 0.9717\n"
          ]
        },
        {
          "metadata": {
            "tags": null
          },
          "name": "stderr",
          "output_type": "stream",
          "text": [
            "100%|██████████| 201/201 [00:21<00:00,  9.31it/s]\n"
          ]
        },
        {
          "metadata": {
            "tags": null
          },
          "name": "stdout",
          "output_type": "stream",
          "text": [
            "[2023-12-05 01:42:00] Evaluate_07: epoch = 0200 train time = 21 s train loss = 0.112104 train acc = 0.0050, test acc = 0.9698\n"
          ]
        },
        {
          "metadata": {
            "tags": null
          },
          "name": "stderr",
          "output_type": "stream",
          "text": [
            "100%|██████████| 201/201 [00:21<00:00,  9.56it/s]\n"
          ]
        },
        {
          "metadata": {
            "tags": null
          },
          "name": "stdout",
          "output_type": "stream",
          "text": [
            "[2023-12-05 01:42:21] Evaluate_08: epoch = 0200 train time = 21 s train loss = 0.101838 train acc = 0.0050, test acc = 0.9708\n"
          ]
        },
        {
          "metadata": {
            "tags": null
          },
          "name": "stderr",
          "output_type": "stream",
          "text": [
            "100%|██████████| 201/201 [00:21<00:00,  9.42it/s]\n"
          ]
        },
        {
          "metadata": {
            "tags": null
          },
          "name": "stdout",
          "output_type": "stream",
          "text": [
            "[2023-12-05 01:42:42] Evaluate_09: epoch = 0200 train time = 21 s train loss = 0.108128 train acc = 0.0050, test acc = 0.9704\n"
          ]
        },
        {
          "metadata": {
            "tags": null
          },
          "name": "stderr",
          "output_type": "stream",
          "text": [
            "100%|██████████| 201/201 [00:22<00:00,  8.85it/s]\n"
          ]
        },
        {
          "metadata": {
            "tags": null
          },
          "name": "stdout",
          "output_type": "stream",
          "text": [
            "[2023-12-05 01:43:05] Evaluate_10: epoch = 0200 train time = 22 s train loss = 0.107032 train acc = 0.0050, test acc = 0.9714\n"
          ]
        },
        {
          "metadata": {
            "tags": null
          },
          "name": "stderr",
          "output_type": "stream",
          "text": [
            "100%|██████████| 201/201 [00:21<00:00,  9.48it/s]\n"
          ]
        },
        {
          "metadata": {
            "tags": null
          },
          "name": "stdout",
          "output_type": "stream",
          "text": [
            "[2023-12-05 01:43:26] Evaluate_11: epoch = 0200 train time = 21 s train loss = 0.115890 train acc = 0.0050, test acc = 0.9696\n"
          ]
        },
        {
          "metadata": {
            "tags": null
          },
          "name": "stderr",
          "output_type": "stream",
          "text": [
            "100%|██████████| 201/201 [00:21<00:00,  9.56it/s]\n"
          ]
        },
        {
          "metadata": {
            "tags": null
          },
          "name": "stdout",
          "output_type": "stream",
          "text": [
            "[2023-12-05 01:43:47] Evaluate_12: epoch = 0200 train time = 21 s train loss = 0.075106 train acc = 0.0050, test acc = 0.9723\n"
          ]
        },
        {
          "metadata": {
            "tags": null
          },
          "name": "stderr",
          "output_type": "stream",
          "text": [
            "100%|██████████| 201/201 [00:23<00:00,  8.64it/s]\n"
          ]
        },
        {
          "metadata": {
            "tags": null
          },
          "name": "stdout",
          "output_type": "stream",
          "text": [
            "[2023-12-05 01:44:11] Evaluate_13: epoch = 0200 train time = 23 s train loss = 0.114470 train acc = 0.0050, test acc = 0.9701\n"
          ]
        },
        {
          "metadata": {
            "tags": null
          },
          "name": "stderr",
          "output_type": "stream",
          "text": [
            "100%|██████████| 201/201 [00:21<00:00,  9.35it/s]\n"
          ]
        },
        {
          "metadata": {
            "tags": null
          },
          "name": "stdout",
          "output_type": "stream",
          "text": [
            "[2023-12-05 01:44:32] Evaluate_14: epoch = 0200 train time = 21 s train loss = 0.096725 train acc = 0.0050, test acc = 0.9705\n"
          ]
        },
        {
          "metadata": {
            "tags": null
          },
          "name": "stderr",
          "output_type": "stream",
          "text": [
            "100%|██████████| 201/201 [00:23<00:00,  8.63it/s]\n"
          ]
        },
        {
          "metadata": {
            "tags": null
          },
          "name": "stdout",
          "output_type": "stream",
          "text": [
            "[2023-12-05 01:44:56] Evaluate_15: epoch = 0200 train time = 23 s train loss = 0.083165 train acc = 0.0050, test acc = 0.9706\n"
          ]
        },
        {
          "metadata": {
            "tags": null
          },
          "name": "stderr",
          "output_type": "stream",
          "text": [
            "100%|██████████| 201/201 [00:22<00:00,  8.82it/s]\n"
          ]
        },
        {
          "metadata": {
            "tags": null
          },
          "name": "stdout",
          "output_type": "stream",
          "text": [
            "[2023-12-05 01:45:18] Evaluate_16: epoch = 0200 train time = 22 s train loss = 0.080198 train acc = 0.0050, test acc = 0.9687\n"
          ]
        },
        {
          "metadata": {
            "tags": null
          },
          "name": "stderr",
          "output_type": "stream",
          "text": [
            "100%|██████████| 201/201 [00:21<00:00,  9.43it/s]\n"
          ]
        },
        {
          "metadata": {
            "tags": null
          },
          "name": "stdout",
          "output_type": "stream",
          "text": [
            "[2023-12-05 01:45:40] Evaluate_17: epoch = 0200 train time = 21 s train loss = 0.092790 train acc = 0.0050, test acc = 0.9712\n"
          ]
        },
        {
          "metadata": {
            "tags": null
          },
          "name": "stderr",
          "output_type": "stream",
          "text": [
            "100%|██████████| 201/201 [00:21<00:00,  9.52it/s]\n"
          ]
        },
        {
          "metadata": {
            "tags": null
          },
          "name": "stdout",
          "output_type": "stream",
          "text": [
            "[2023-12-05 01:46:01] Evaluate_18: epoch = 0200 train time = 21 s train loss = 0.099593 train acc = 0.0050, test acc = 0.9677\n"
          ]
        },
        {
          "metadata": {
            "tags": null
          },
          "name": "stderr",
          "output_type": "stream",
          "text": [
            "100%|██████████| 201/201 [00:22<00:00,  8.95it/s]\n"
          ]
        },
        {
          "metadata": {
            "tags": null
          },
          "name": "stdout",
          "output_type": "stream",
          "text": [
            "[2023-12-05 01:46:23] Evaluate_19: epoch = 0200 train time = 22 s train loss = 0.101943 train acc = 0.0050, test acc = 0.9690\n",
            "Evaluate 20 random ConvNet, mean = 0.9703 std = 0.0012\n",
            "-------------------------\n",
            "[2023-12-05 01:46:26] iter = 0080, loss = 0.9698\n",
            "loading file ./MNISTbuffers/MNIST/ConvNet/replay_buffer_1.pt\n",
            "[2023-12-05 01:46:50] iter = 0090, loss = 0.9442\n",
            "loading file ./MNISTbuffers/MNIST/ConvNet/replay_buffer_3.pt\n",
            "-------------------------\n",
            "Evaluation\n",
            "model_train = ConvNet, model_eval = ConvNet, iteration = 100\n",
            "DC augmentation parameters: \n",
            " {'crop': 4, 'scale': 0.2, 'rotate': 45, 'noise': 0.001, 'strategy': 'crop_scale_rotate'}\n"
          ]
        },
        {
          "metadata": {
            "tags": null
          },
          "name": "stderr",
          "output_type": "stream",
          "text": [
            "100%|██████████| 201/201 [00:21<00:00,  9.30it/s]\n"
          ]
        },
        {
          "metadata": {
            "tags": null
          },
          "name": "stdout",
          "output_type": "stream",
          "text": [
            "[2023-12-05 01:47:32] Evaluate_00: epoch = 0200 train time = 21 s train loss = 0.115783 train acc = 0.0050, test acc = 0.9713\n"
          ]
        },
        {
          "metadata": {
            "tags": null
          },
          "name": "stderr",
          "output_type": "stream",
          "text": [
            "100%|██████████| 201/201 [00:21<00:00,  9.54it/s]\n"
          ]
        },
        {
          "metadata": {
            "tags": null
          },
          "name": "stdout",
          "output_type": "stream",
          "text": [
            "[2023-12-05 01:47:53] Evaluate_01: epoch = 0200 train time = 21 s train loss = 0.078525 train acc = 0.0050, test acc = 0.9704\n"
          ]
        },
        {
          "metadata": {
            "tags": null
          },
          "name": "stderr",
          "output_type": "stream",
          "text": [
            "100%|██████████| 201/201 [00:21<00:00,  9.40it/s]\n"
          ]
        },
        {
          "metadata": {
            "tags": null
          },
          "name": "stdout",
          "output_type": "stream",
          "text": [
            "[2023-12-05 01:48:15] Evaluate_02: epoch = 0200 train time = 21 s train loss = 0.078799 train acc = 0.0050, test acc = 0.9695\n"
          ]
        },
        {
          "metadata": {
            "tags": null
          },
          "name": "stderr",
          "output_type": "stream",
          "text": [
            "100%|██████████| 201/201 [00:22<00:00,  8.87it/s]\n"
          ]
        },
        {
          "metadata": {
            "tags": null
          },
          "name": "stdout",
          "output_type": "stream",
          "text": [
            "[2023-12-05 01:48:37] Evaluate_03: epoch = 0200 train time = 22 s train loss = 0.075631 train acc = 0.0050, test acc = 0.9737\n"
          ]
        },
        {
          "metadata": {
            "tags": null
          },
          "name": "stderr",
          "output_type": "stream",
          "text": [
            "100%|██████████| 201/201 [00:20<00:00,  9.68it/s]\n"
          ]
        },
        {
          "metadata": {
            "tags": null
          },
          "name": "stdout",
          "output_type": "stream",
          "text": [
            "[2023-12-05 01:48:58] Evaluate_04: epoch = 0200 train time = 20 s train loss = 0.083156 train acc = 0.0050, test acc = 0.9716\n"
          ]
        },
        {
          "metadata": {
            "tags": null
          },
          "name": "stderr",
          "output_type": "stream",
          "text": [
            "100%|██████████| 201/201 [00:20<00:00,  9.65it/s]\n"
          ]
        },
        {
          "metadata": {
            "tags": null
          },
          "name": "stdout",
          "output_type": "stream",
          "text": [
            "[2023-12-05 01:49:19] Evaluate_05: epoch = 0200 train time = 20 s train loss = 0.084526 train acc = 0.0050, test acc = 0.9671\n"
          ]
        },
        {
          "metadata": {
            "tags": null
          },
          "name": "stderr",
          "output_type": "stream",
          "text": [
            "100%|██████████| 201/201 [00:24<00:00,  8.23it/s]\n"
          ]
        },
        {
          "metadata": {
            "tags": null
          },
          "name": "stdout",
          "output_type": "stream",
          "text": [
            "[2023-12-05 01:49:44] Evaluate_06: epoch = 0200 train time = 24 s train loss = 0.084401 train acc = 0.0050, test acc = 0.9707\n"
          ]
        },
        {
          "metadata": {
            "tags": null
          },
          "name": "stderr",
          "output_type": "stream",
          "text": [
            "100%|██████████| 201/201 [00:21<00:00,  9.53it/s]\n"
          ]
        },
        {
          "metadata": {
            "tags": null
          },
          "name": "stdout",
          "output_type": "stream",
          "text": [
            "[2023-12-05 01:50:05] Evaluate_07: epoch = 0200 train time = 21 s train loss = 0.088687 train acc = 0.0050, test acc = 0.9728\n"
          ]
        },
        {
          "metadata": {
            "tags": null
          },
          "name": "stderr",
          "output_type": "stream",
          "text": [
            "100%|██████████| 201/201 [00:20<00:00,  9.68it/s]\n"
          ]
        },
        {
          "metadata": {
            "tags": null
          },
          "name": "stdout",
          "output_type": "stream",
          "text": [
            "[2023-12-05 01:50:25] Evaluate_08: epoch = 0200 train time = 20 s train loss = 0.100731 train acc = 0.0050, test acc = 0.9726\n"
          ]
        },
        {
          "metadata": {
            "tags": null
          },
          "name": "stderr",
          "output_type": "stream",
          "text": [
            "100%|██████████| 201/201 [00:21<00:00,  9.26it/s]\n"
          ]
        },
        {
          "metadata": {
            "tags": null
          },
          "name": "stdout",
          "output_type": "stream",
          "text": [
            "[2023-12-05 01:50:47] Evaluate_09: epoch = 0200 train time = 21 s train loss = 0.080014 train acc = 0.0050, test acc = 0.9681\n"
          ]
        },
        {
          "metadata": {
            "tags": null
          },
          "name": "stderr",
          "output_type": "stream",
          "text": [
            "100%|██████████| 201/201 [00:22<00:00,  9.11it/s]\n"
          ]
        },
        {
          "metadata": {
            "tags": null
          },
          "name": "stdout",
          "output_type": "stream",
          "text": [
            "[2023-12-05 01:51:09] Evaluate_10: epoch = 0200 train time = 22 s train loss = 0.093413 train acc = 0.0050, test acc = 0.9683\n"
          ]
        },
        {
          "metadata": {
            "tags": null
          },
          "name": "stderr",
          "output_type": "stream",
          "text": [
            "100%|██████████| 201/201 [00:20<00:00,  9.67it/s]\n"
          ]
        },
        {
          "metadata": {
            "tags": null
          },
          "name": "stdout",
          "output_type": "stream",
          "text": [
            "[2023-12-05 01:51:30] Evaluate_11: epoch = 0200 train time = 20 s train loss = 0.108185 train acc = 0.0050, test acc = 0.9682\n"
          ]
        },
        {
          "metadata": {
            "tags": null
          },
          "name": "stderr",
          "output_type": "stream",
          "text": [
            "100%|██████████| 201/201 [00:21<00:00,  9.54it/s]\n"
          ]
        },
        {
          "metadata": {
            "tags": null
          },
          "name": "stdout",
          "output_type": "stream",
          "text": [
            "[2023-12-05 01:51:51] Evaluate_12: epoch = 0200 train time = 21 s train loss = 0.090714 train acc = 0.0050, test acc = 0.9689\n"
          ]
        },
        {
          "metadata": {
            "tags": null
          },
          "name": "stderr",
          "output_type": "stream",
          "text": [
            "100%|██████████| 201/201 [00:23<00:00,  8.71it/s]\n"
          ]
        },
        {
          "metadata": {
            "tags": null
          },
          "name": "stdout",
          "output_type": "stream",
          "text": [
            "[2023-12-05 01:52:14] Evaluate_13: epoch = 0200 train time = 23 s train loss = 0.081699 train acc = 0.0050, test acc = 0.9733\n"
          ]
        },
        {
          "metadata": {
            "tags": null
          },
          "name": "stderr",
          "output_type": "stream",
          "text": [
            "100%|██████████| 201/201 [00:21<00:00,  9.55it/s]\n"
          ]
        },
        {
          "metadata": {
            "tags": null
          },
          "name": "stdout",
          "output_type": "stream",
          "text": [
            "[2023-12-05 01:52:35] Evaluate_14: epoch = 0200 train time = 21 s train loss = 0.102240 train acc = 0.0050, test acc = 0.9689\n"
          ]
        },
        {
          "metadata": {
            "tags": null
          },
          "name": "stderr",
          "output_type": "stream",
          "text": [
            "100%|██████████| 201/201 [00:20<00:00,  9.66it/s]\n"
          ]
        },
        {
          "metadata": {
            "tags": null
          },
          "name": "stdout",
          "output_type": "stream",
          "text": [
            "[2023-12-05 01:52:56] Evaluate_15: epoch = 0200 train time = 20 s train loss = 0.086832 train acc = 0.0050, test acc = 0.9715\n"
          ]
        },
        {
          "metadata": {
            "tags": null
          },
          "name": "stderr",
          "output_type": "stream",
          "text": [
            "100%|██████████| 201/201 [00:22<00:00,  8.87it/s]\n"
          ]
        },
        {
          "metadata": {
            "tags": null
          },
          "name": "stdout",
          "output_type": "stream",
          "text": [
            "[2023-12-05 01:53:19] Evaluate_16: epoch = 0200 train time = 22 s train loss = 0.104403 train acc = 0.0050, test acc = 0.9698\n"
          ]
        },
        {
          "metadata": {
            "tags": null
          },
          "name": "stderr",
          "output_type": "stream",
          "text": [
            "100%|██████████| 201/201 [00:21<00:00,  9.33it/s]\n"
          ]
        },
        {
          "metadata": {
            "tags": null
          },
          "name": "stdout",
          "output_type": "stream",
          "text": [
            "[2023-12-05 01:53:40] Evaluate_17: epoch = 0200 train time = 21 s train loss = 0.088863 train acc = 0.0050, test acc = 0.9700\n"
          ]
        },
        {
          "metadata": {
            "tags": null
          },
          "name": "stderr",
          "output_type": "stream",
          "text": [
            "100%|██████████| 201/201 [00:20<00:00,  9.65it/s]\n"
          ]
        },
        {
          "metadata": {
            "tags": null
          },
          "name": "stdout",
          "output_type": "stream",
          "text": [
            "[2023-12-05 01:54:01] Evaluate_18: epoch = 0200 train time = 20 s train loss = 0.099338 train acc = 0.0050, test acc = 0.9713\n"
          ]
        },
        {
          "metadata": {
            "tags": null
          },
          "name": "stderr",
          "output_type": "stream",
          "text": [
            "100%|██████████| 201/201 [00:22<00:00,  8.83it/s]\n"
          ]
        },
        {
          "metadata": {
            "tags": null
          },
          "name": "stdout",
          "output_type": "stream",
          "text": [
            "[2023-12-05 01:54:24] Evaluate_19: epoch = 0200 train time = 22 s train loss = 0.099145 train acc = 0.0050, test acc = 0.9728\n",
            "Evaluate 20 random ConvNet, mean = 0.9705 std = 0.0019\n",
            "-------------------------\n",
            "[2023-12-05 01:54:27] iter = 0100, loss = 0.9962\n",
            "loading file ./MNISTbuffers/MNIST/ConvNet/replay_buffer_0.pt\n",
            "[2023-12-05 01:54:50] iter = 0110, loss = 0.9651\n",
            "loading file ./MNISTbuffers/MNIST/ConvNet/replay_buffer_0.pt\n",
            "-------------------------\n",
            "Evaluation\n",
            "model_train = ConvNet, model_eval = ConvNet, iteration = 120\n",
            "DC augmentation parameters: \n",
            " {'crop': 4, 'scale': 0.2, 'rotate': 45, 'noise': 0.001, 'strategy': 'crop_scale_rotate'}\n"
          ]
        },
        {
          "metadata": {
            "tags": null
          },
          "name": "stderr",
          "output_type": "stream",
          "text": [
            "100%|██████████| 201/201 [00:21<00:00,  9.29it/s]\n"
          ]
        },
        {
          "metadata": {
            "tags": null
          },
          "name": "stdout",
          "output_type": "stream",
          "text": [
            "[2023-12-05 01:55:33] Evaluate_00: epoch = 0200 train time = 21 s train loss = 0.075647 train acc = 0.0050, test acc = 0.9751\n"
          ]
        },
        {
          "metadata": {
            "tags": null
          },
          "name": "stderr",
          "output_type": "stream",
          "text": [
            "100%|██████████| 201/201 [00:22<00:00,  8.94it/s]\n"
          ]
        },
        {
          "metadata": {
            "tags": null
          },
          "name": "stdout",
          "output_type": "stream",
          "text": [
            "[2023-12-05 01:55:55] Evaluate_01: epoch = 0200 train time = 22 s train loss = 0.085329 train acc = 0.0050, test acc = 0.9709\n"
          ]
        },
        {
          "metadata": {
            "tags": null
          },
          "name": "stderr",
          "output_type": "stream",
          "text": [
            "100%|██████████| 201/201 [00:21<00:00,  9.51it/s]\n"
          ]
        },
        {
          "metadata": {
            "tags": null
          },
          "name": "stdout",
          "output_type": "stream",
          "text": [
            "[2023-12-05 01:56:17] Evaluate_02: epoch = 0200 train time = 21 s train loss = 0.096837 train acc = 0.0050, test acc = 0.9749\n"
          ]
        },
        {
          "metadata": {
            "tags": null
          },
          "name": "stderr",
          "output_type": "stream",
          "text": [
            "100%|██████████| 201/201 [00:21<00:00,  9.50it/s]\n"
          ]
        },
        {
          "metadata": {
            "tags": null
          },
          "name": "stdout",
          "output_type": "stream",
          "text": [
            "[2023-12-05 01:56:38] Evaluate_03: epoch = 0200 train time = 21 s train loss = 0.083406 train acc = 0.0050, test acc = 0.9727\n"
          ]
        },
        {
          "metadata": {
            "tags": null
          },
          "name": "stderr",
          "output_type": "stream",
          "text": [
            "100%|██████████| 201/201 [00:22<00:00,  8.85it/s]\n"
          ]
        },
        {
          "metadata": {
            "tags": null
          },
          "name": "stdout",
          "output_type": "stream",
          "text": [
            "[2023-12-05 01:57:01] Evaluate_04: epoch = 0200 train time = 22 s train loss = 0.079197 train acc = 0.0050, test acc = 0.9721\n"
          ]
        },
        {
          "metadata": {
            "tags": null
          },
          "name": "stderr",
          "output_type": "stream",
          "text": [
            "100%|██████████| 201/201 [00:21<00:00,  9.52it/s]\n"
          ]
        },
        {
          "metadata": {
            "tags": null
          },
          "name": "stdout",
          "output_type": "stream",
          "text": [
            "[2023-12-05 01:57:22] Evaluate_05: epoch = 0200 train time = 21 s train loss = 0.091116 train acc = 0.0050, test acc = 0.9708\n"
          ]
        },
        {
          "metadata": {
            "tags": null
          },
          "name": "stderr",
          "output_type": "stream",
          "text": [
            "100%|██████████| 201/201 [00:20<00:00,  9.63it/s]\n"
          ]
        },
        {
          "metadata": {
            "tags": null
          },
          "name": "stdout",
          "output_type": "stream",
          "text": [
            "[2023-12-05 01:57:43] Evaluate_06: epoch = 0200 train time = 20 s train loss = 0.084103 train acc = 0.0050, test acc = 0.9728\n"
          ]
        },
        {
          "metadata": {
            "tags": null
          },
          "name": "stderr",
          "output_type": "stream",
          "text": [
            "100%|██████████| 201/201 [00:22<00:00,  8.88it/s]\n"
          ]
        },
        {
          "metadata": {
            "tags": null
          },
          "name": "stdout",
          "output_type": "stream",
          "text": [
            "[2023-12-05 01:58:05] Evaluate_07: epoch = 0200 train time = 22 s train loss = 0.095462 train acc = 0.0050, test acc = 0.9715\n"
          ]
        },
        {
          "metadata": {
            "tags": null
          },
          "name": "stderr",
          "output_type": "stream",
          "text": [
            "100%|██████████| 201/201 [00:21<00:00,  9.43it/s]\n"
          ]
        },
        {
          "metadata": {
            "tags": null
          },
          "name": "stdout",
          "output_type": "stream",
          "text": [
            "[2023-12-05 01:58:27] Evaluate_08: epoch = 0200 train time = 21 s train loss = 0.093436 train acc = 0.0050, test acc = 0.9755\n"
          ]
        },
        {
          "metadata": {
            "tags": null
          },
          "name": "stderr",
          "output_type": "stream",
          "text": [
            "100%|██████████| 201/201 [00:20<00:00,  9.66it/s]\n"
          ]
        },
        {
          "metadata": {
            "tags": null
          },
          "name": "stdout",
          "output_type": "stream",
          "text": [
            "[2023-12-05 01:58:47] Evaluate_09: epoch = 0200 train time = 20 s train loss = 0.085323 train acc = 0.0050, test acc = 0.9730\n"
          ]
        },
        {
          "metadata": {
            "tags": null
          },
          "name": "stderr",
          "output_type": "stream",
          "text": [
            "100%|██████████| 201/201 [00:22<00:00,  8.87it/s]\n"
          ]
        },
        {
          "metadata": {
            "tags": null
          },
          "name": "stdout",
          "output_type": "stream",
          "text": [
            "[2023-12-05 01:59:10] Evaluate_10: epoch = 0200 train time = 22 s train loss = 0.083957 train acc = 0.0050, test acc = 0.9758\n"
          ]
        },
        {
          "metadata": {
            "tags": null
          },
          "name": "stderr",
          "output_type": "stream",
          "text": [
            "100%|██████████| 201/201 [00:23<00:00,  8.62it/s]\n"
          ]
        },
        {
          "metadata": {
            "tags": null
          },
          "name": "stdout",
          "output_type": "stream",
          "text": [
            "[2023-12-05 01:59:33] Evaluate_11: epoch = 0200 train time = 23 s train loss = 0.103101 train acc = 0.0050, test acc = 0.9744\n"
          ]
        },
        {
          "metadata": {
            "tags": null
          },
          "name": "stderr",
          "output_type": "stream",
          "text": [
            "100%|██████████| 201/201 [00:20<00:00, 10.02it/s]\n"
          ]
        },
        {
          "metadata": {
            "tags": null
          },
          "name": "stdout",
          "output_type": "stream",
          "text": [
            "[2023-12-05 01:59:53] Evaluate_12: epoch = 0200 train time = 20 s train loss = 0.084834 train acc = 0.0050, test acc = 0.9750\n"
          ]
        },
        {
          "metadata": {
            "tags": null
          },
          "name": "stderr",
          "output_type": "stream",
          "text": [
            "100%|██████████| 201/201 [00:20<00:00,  9.65it/s]\n"
          ]
        },
        {
          "metadata": {
            "tags": null
          },
          "name": "stdout",
          "output_type": "stream",
          "text": [
            "[2023-12-05 02:00:14] Evaluate_13: epoch = 0200 train time = 20 s train loss = 0.090069 train acc = 0.0050, test acc = 0.9719\n"
          ]
        },
        {
          "metadata": {
            "tags": null
          },
          "name": "stderr",
          "output_type": "stream",
          "text": [
            "100%|██████████| 201/201 [00:21<00:00,  9.39it/s]\n"
          ]
        },
        {
          "metadata": {
            "tags": null
          },
          "name": "stdout",
          "output_type": "stream",
          "text": [
            "[2023-12-05 02:00:36] Evaluate_14: epoch = 0200 train time = 21 s train loss = 0.096902 train acc = 0.0050, test acc = 0.9746\n"
          ]
        },
        {
          "metadata": {
            "tags": null
          },
          "name": "stderr",
          "output_type": "stream",
          "text": [
            "100%|██████████| 201/201 [00:20<00:00,  9.90it/s]\n"
          ]
        },
        {
          "metadata": {
            "tags": null
          },
          "name": "stdout",
          "output_type": "stream",
          "text": [
            "[2023-12-05 02:00:56] Evaluate_15: epoch = 0200 train time = 20 s train loss = 0.079584 train acc = 0.0050, test acc = 0.9752\n"
          ]
        },
        {
          "metadata": {
            "tags": null
          },
          "name": "stderr",
          "output_type": "stream",
          "text": [
            "100%|██████████| 201/201 [00:21<00:00,  9.27it/s]\n"
          ]
        },
        {
          "metadata": {
            "tags": null
          },
          "name": "stdout",
          "output_type": "stream",
          "text": [
            "[2023-12-05 02:01:18] Evaluate_16: epoch = 0200 train time = 21 s train loss = 0.090976 train acc = 0.0050, test acc = 0.9748\n"
          ]
        },
        {
          "metadata": {
            "tags": null
          },
          "name": "stderr",
          "output_type": "stream",
          "text": [
            "100%|██████████| 201/201 [00:20<00:00,  9.90it/s]\n"
          ]
        },
        {
          "metadata": {
            "tags": null
          },
          "name": "stdout",
          "output_type": "stream",
          "text": [
            "[2023-12-05 02:01:38] Evaluate_17: epoch = 0200 train time = 20 s train loss = 0.097559 train acc = 0.0050, test acc = 0.9725\n"
          ]
        },
        {
          "metadata": {
            "tags": null
          },
          "name": "stderr",
          "output_type": "stream",
          "text": [
            "100%|██████████| 201/201 [00:20<00:00,  9.89it/s]\n"
          ]
        },
        {
          "metadata": {
            "tags": null
          },
          "name": "stdout",
          "output_type": "stream",
          "text": [
            "[2023-12-05 02:01:58] Evaluate_18: epoch = 0200 train time = 20 s train loss = 0.090854 train acc = 0.0050, test acc = 0.9692\n"
          ]
        },
        {
          "metadata": {
            "tags": null
          },
          "name": "stderr",
          "output_type": "stream",
          "text": [
            "100%|██████████| 201/201 [00:21<00:00,  9.27it/s]\n"
          ]
        },
        {
          "metadata": {
            "tags": null
          },
          "name": "stdout",
          "output_type": "stream",
          "text": [
            "[2023-12-05 02:02:20] Evaluate_19: epoch = 0200 train time = 21 s train loss = 0.072335 train acc = 0.0050, test acc = 0.9727\n",
            "Evaluate 20 random ConvNet, mean = 0.9733 std = 0.0018\n",
            "-------------------------\n",
            "[2023-12-05 02:02:23] iter = 0120, loss = 0.8972\n",
            "loading file ./MNISTbuffers/MNIST/ConvNet/replay_buffer_1.pt\n",
            "[2023-12-05 02:02:46] iter = 0130, loss = 0.9476\n",
            "loading file ./MNISTbuffers/MNIST/ConvNet/replay_buffer_3.pt\n",
            "-------------------------\n",
            "Evaluation\n",
            "model_train = ConvNet, model_eval = ConvNet, iteration = 140\n",
            "DC augmentation parameters: \n",
            " {'crop': 4, 'scale': 0.2, 'rotate': 45, 'noise': 0.001, 'strategy': 'crop_scale_rotate'}\n"
          ]
        },
        {
          "metadata": {
            "tags": null
          },
          "name": "stderr",
          "output_type": "stream",
          "text": [
            "100%|██████████| 201/201 [00:20<00:00, 10.02it/s]\n"
          ]
        },
        {
          "metadata": {
            "tags": null
          },
          "name": "stdout",
          "output_type": "stream",
          "text": [
            "[2023-12-05 02:03:27] Evaluate_00: epoch = 0200 train time = 20 s train loss = 0.067270 train acc = 0.0050, test acc = 0.9713\n"
          ]
        },
        {
          "metadata": {
            "tags": null
          },
          "name": "stderr",
          "output_type": "stream",
          "text": [
            "100%|██████████| 201/201 [00:21<00:00,  9.18it/s]\n"
          ]
        },
        {
          "metadata": {
            "tags": null
          },
          "name": "stdout",
          "output_type": "stream",
          "text": [
            "[2023-12-05 02:03:49] Evaluate_01: epoch = 0200 train time = 21 s train loss = 0.062551 train acc = 0.0050, test acc = 0.9752\n"
          ]
        },
        {
          "metadata": {
            "tags": null
          },
          "name": "stderr",
          "output_type": "stream",
          "text": [
            "100%|██████████| 201/201 [00:21<00:00,  9.21it/s]\n"
          ]
        },
        {
          "metadata": {
            "tags": null
          },
          "name": "stdout",
          "output_type": "stream",
          "text": [
            "[2023-12-05 02:04:11] Evaluate_02: epoch = 0200 train time = 21 s train loss = 0.070297 train acc = 0.0050, test acc = 0.9720\n"
          ]
        },
        {
          "metadata": {
            "tags": null
          },
          "name": "stderr",
          "output_type": "stream",
          "text": [
            "100%|██████████| 201/201 [00:21<00:00,  9.15it/s]\n"
          ]
        },
        {
          "metadata": {
            "tags": null
          },
          "name": "stdout",
          "output_type": "stream",
          "text": [
            "[2023-12-05 02:04:33] Evaluate_03: epoch = 0200 train time = 21 s train loss = 0.068099 train acc = 0.0050, test acc = 0.9732\n"
          ]
        },
        {
          "metadata": {
            "tags": null
          },
          "name": "stderr",
          "output_type": "stream",
          "text": [
            "100%|██████████| 201/201 [00:20<00:00,  9.70it/s]\n"
          ]
        },
        {
          "metadata": {
            "tags": null
          },
          "name": "stdout",
          "output_type": "stream",
          "text": [
            "[2023-12-05 02:04:54] Evaluate_04: epoch = 0200 train time = 20 s train loss = 0.066259 train acc = 0.0050, test acc = 0.9755\n"
          ]
        },
        {
          "metadata": {
            "tags": null
          },
          "name": "stderr",
          "output_type": "stream",
          "text": [
            "100%|██████████| 201/201 [00:20<00:00,  9.96it/s]\n"
          ]
        },
        {
          "metadata": {
            "tags": null
          },
          "name": "stdout",
          "output_type": "stream",
          "text": [
            "[2023-12-05 02:05:14] Evaluate_05: epoch = 0200 train time = 20 s train loss = 0.073866 train acc = 0.0050, test acc = 0.9680\n"
          ]
        },
        {
          "metadata": {
            "tags": null
          },
          "name": "stderr",
          "output_type": "stream",
          "text": [
            "100%|██████████| 201/201 [00:22<00:00,  9.04it/s]\n"
          ]
        },
        {
          "metadata": {
            "tags": null
          },
          "name": "stdout",
          "output_type": "stream",
          "text": [
            "[2023-12-05 02:05:36] Evaluate_06: epoch = 0200 train time = 22 s train loss = 0.077984 train acc = 0.0050, test acc = 0.9733\n"
          ]
        },
        {
          "metadata": {
            "tags": null
          },
          "name": "stderr",
          "output_type": "stream",
          "text": [
            "100%|██████████| 201/201 [00:20<00:00,  9.80it/s]\n"
          ]
        },
        {
          "metadata": {
            "tags": null
          },
          "name": "stdout",
          "output_type": "stream",
          "text": [
            "[2023-12-05 02:05:57] Evaluate_07: epoch = 0200 train time = 20 s train loss = 0.079122 train acc = 0.0050, test acc = 0.9721\n"
          ]
        },
        {
          "metadata": {
            "tags": null
          },
          "name": "stderr",
          "output_type": "stream",
          "text": [
            "100%|██████████| 201/201 [00:21<00:00,  9.38it/s]\n"
          ]
        },
        {
          "metadata": {
            "tags": null
          },
          "name": "stdout",
          "output_type": "stream",
          "text": [
            "[2023-12-05 02:06:18] Evaluate_08: epoch = 0200 train time = 21 s train loss = 0.076281 train acc = 0.0050, test acc = 0.9705\n"
          ]
        },
        {
          "metadata": {
            "tags": null
          },
          "name": "stderr",
          "output_type": "stream",
          "text": [
            "100%|██████████| 201/201 [00:20<00:00,  9.61it/s]\n"
          ]
        },
        {
          "metadata": {
            "tags": null
          },
          "name": "stdout",
          "output_type": "stream",
          "text": [
            "[2023-12-05 02:06:39] Evaluate_09: epoch = 0200 train time = 20 s train loss = 0.072958 train acc = 0.0050, test acc = 0.9754\n"
          ]
        },
        {
          "metadata": {
            "tags": null
          },
          "name": "stderr",
          "output_type": "stream",
          "text": [
            "100%|██████████| 201/201 [00:20<00:00,  9.71it/s]\n"
          ]
        },
        {
          "metadata": {
            "tags": null
          },
          "name": "stdout",
          "output_type": "stream",
          "text": [
            "[2023-12-05 02:07:00] Evaluate_10: epoch = 0200 train time = 20 s train loss = 0.069931 train acc = 0.0050, test acc = 0.9723\n"
          ]
        },
        {
          "metadata": {
            "tags": null
          },
          "name": "stderr",
          "output_type": "stream",
          "text": [
            "100%|██████████| 201/201 [00:21<00:00,  9.26it/s]\n"
          ]
        },
        {
          "metadata": {
            "tags": null
          },
          "name": "stdout",
          "output_type": "stream",
          "text": [
            "[2023-12-05 02:07:22] Evaluate_11: epoch = 0200 train time = 21 s train loss = 0.060150 train acc = 0.0050, test acc = 0.9717\n"
          ]
        },
        {
          "metadata": {
            "tags": null
          },
          "name": "stderr",
          "output_type": "stream",
          "text": [
            "100%|██████████| 201/201 [00:20<00:00,  9.81it/s]\n"
          ]
        },
        {
          "metadata": {
            "tags": null
          },
          "name": "stdout",
          "output_type": "stream",
          "text": [
            "[2023-12-05 02:07:42] Evaluate_12: epoch = 0200 train time = 20 s train loss = 0.065367 train acc = 0.0050, test acc = 0.9700\n"
          ]
        },
        {
          "metadata": {
            "tags": null
          },
          "name": "stderr",
          "output_type": "stream",
          "text": [
            "100%|██████████| 201/201 [00:21<00:00,  9.33it/s]\n"
          ]
        },
        {
          "metadata": {
            "tags": null
          },
          "name": "stdout",
          "output_type": "stream",
          "text": [
            "[2023-12-05 02:08:04] Evaluate_13: epoch = 0200 train time = 21 s train loss = 0.082557 train acc = 0.0050, test acc = 0.9736\n"
          ]
        },
        {
          "metadata": {
            "tags": null
          },
          "name": "stderr",
          "output_type": "stream",
          "text": [
            "100%|██████████| 201/201 [00:21<00:00,  9.46it/s]\n"
          ]
        },
        {
          "metadata": {
            "tags": null
          },
          "name": "stdout",
          "output_type": "stream",
          "text": [
            "[2023-12-05 02:08:25] Evaluate_14: epoch = 0200 train time = 21 s train loss = 0.075166 train acc = 0.0050, test acc = 0.9704\n"
          ]
        },
        {
          "metadata": {
            "tags": null
          },
          "name": "stderr",
          "output_type": "stream",
          "text": [
            "100%|██████████| 201/201 [00:20<00:00,  9.77it/s]\n"
          ]
        },
        {
          "metadata": {
            "tags": null
          },
          "name": "stdout",
          "output_type": "stream",
          "text": [
            "[2023-12-05 02:08:45] Evaluate_15: epoch = 0200 train time = 20 s train loss = 0.078338 train acc = 0.0050, test acc = 0.9691\n"
          ]
        },
        {
          "metadata": {
            "tags": null
          },
          "name": "stderr",
          "output_type": "stream",
          "text": [
            "100%|██████████| 201/201 [00:23<00:00,  8.72it/s]\n"
          ]
        },
        {
          "metadata": {
            "tags": null
          },
          "name": "stdout",
          "output_type": "stream",
          "text": [
            "[2023-12-05 02:09:09] Evaluate_16: epoch = 0200 train time = 23 s train loss = 0.086528 train acc = 0.0050, test acc = 0.9734\n"
          ]
        },
        {
          "metadata": {
            "tags": null
          },
          "name": "stderr",
          "output_type": "stream",
          "text": [
            "100%|██████████| 201/201 [00:20<00:00,  9.91it/s]\n"
          ]
        },
        {
          "metadata": {
            "tags": null
          },
          "name": "stdout",
          "output_type": "stream",
          "text": [
            "[2023-12-05 02:09:29] Evaluate_17: epoch = 0200 train time = 20 s train loss = 0.079837 train acc = 0.0050, test acc = 0.9732\n"
          ]
        },
        {
          "metadata": {
            "tags": null
          },
          "name": "stderr",
          "output_type": "stream",
          "text": [
            "100%|██████████| 201/201 [00:20<00:00,  9.92it/s]\n"
          ]
        },
        {
          "metadata": {
            "tags": null
          },
          "name": "stdout",
          "output_type": "stream",
          "text": [
            "[2023-12-05 02:09:49] Evaluate_18: epoch = 0200 train time = 20 s train loss = 0.072201 train acc = 0.0050, test acc = 0.9734\n"
          ]
        },
        {
          "metadata": {
            "tags": null
          },
          "name": "stderr",
          "output_type": "stream",
          "text": [
            "100%|██████████| 201/201 [00:21<00:00,  9.16it/s]\n"
          ]
        },
        {
          "metadata": {
            "tags": null
          },
          "name": "stdout",
          "output_type": "stream",
          "text": [
            "[2023-12-05 02:10:11] Evaluate_19: epoch = 0200 train time = 21 s train loss = 0.081064 train acc = 0.0050, test acc = 0.9723\n",
            "Evaluate 20 random ConvNet, mean = 0.9723 std = 0.0020\n",
            "-------------------------\n",
            "[2023-12-05 02:10:14] iter = 0140, loss = 0.9546\n",
            "loading file ./MNISTbuffers/MNIST/ConvNet/replay_buffer_2.pt\n",
            "[2023-12-05 02:10:37] iter = 0150, loss = 0.9969\n",
            "loading file ./MNISTbuffers/MNIST/ConvNet/replay_buffer_3.pt\n",
            "-------------------------\n",
            "Evaluation\n",
            "model_train = ConvNet, model_eval = ConvNet, iteration = 160\n",
            "DC augmentation parameters: \n",
            " {'crop': 4, 'scale': 0.2, 'rotate': 45, 'noise': 0.001, 'strategy': 'crop_scale_rotate'}\n"
          ]
        },
        {
          "metadata": {
            "tags": null
          },
          "name": "stderr",
          "output_type": "stream",
          "text": [
            "100%|██████████| 201/201 [00:20<00:00, 10.02it/s]\n"
          ]
        },
        {
          "metadata": {
            "tags": null
          },
          "name": "stdout",
          "output_type": "stream",
          "text": [
            "[2023-12-05 02:11:18] Evaluate_00: epoch = 0200 train time = 20 s train loss = 0.075686 train acc = 0.0050, test acc = 0.9694\n"
          ]
        },
        {
          "metadata": {
            "tags": null
          },
          "name": "stderr",
          "output_type": "stream",
          "text": [
            "100%|██████████| 201/201 [00:21<00:00,  9.19it/s]\n"
          ]
        },
        {
          "metadata": {
            "tags": null
          },
          "name": "stdout",
          "output_type": "stream",
          "text": [
            "[2023-12-05 02:11:40] Evaluate_01: epoch = 0200 train time = 21 s train loss = 0.094145 train acc = 0.0050, test acc = 0.9736\n"
          ]
        },
        {
          "metadata": {
            "tags": null
          },
          "name": "stderr",
          "output_type": "stream",
          "text": [
            "100%|██████████| 201/201 [00:20<00:00,  9.91it/s]\n"
          ]
        },
        {
          "metadata": {
            "tags": null
          },
          "name": "stdout",
          "output_type": "stream",
          "text": [
            "[2023-12-05 02:12:00] Evaluate_02: epoch = 0200 train time = 20 s train loss = 0.064880 train acc = 0.0050, test acc = 0.9736\n"
          ]
        },
        {
          "metadata": {
            "tags": null
          },
          "name": "stderr",
          "output_type": "stream",
          "text": [
            "100%|██████████| 201/201 [00:21<00:00,  9.34it/s]\n"
          ]
        },
        {
          "metadata": {
            "tags": null
          },
          "name": "stdout",
          "output_type": "stream",
          "text": [
            "[2023-12-05 02:12:22] Evaluate_03: epoch = 0200 train time = 21 s train loss = 0.092186 train acc = 0.0050, test acc = 0.9736\n"
          ]
        },
        {
          "metadata": {
            "tags": null
          },
          "name": "stderr",
          "output_type": "stream",
          "text": [
            "100%|██████████| 201/201 [00:21<00:00,  9.53it/s]\n"
          ]
        },
        {
          "metadata": {
            "tags": null
          },
          "name": "stdout",
          "output_type": "stream",
          "text": [
            "[2023-12-05 02:12:43] Evaluate_04: epoch = 0200 train time = 21 s train loss = 0.091985 train acc = 0.0050, test acc = 0.9704\n"
          ]
        },
        {
          "metadata": {
            "tags": null
          },
          "name": "stderr",
          "output_type": "stream",
          "text": [
            "100%|██████████| 201/201 [00:20<00:00,  9.86it/s]\n"
          ]
        },
        {
          "metadata": {
            "tags": null
          },
          "name": "stdout",
          "output_type": "stream",
          "text": [
            "[2023-12-05 02:13:03] Evaluate_05: epoch = 0200 train time = 20 s train loss = 0.083002 train acc = 0.0050, test acc = 0.9727\n"
          ]
        },
        {
          "metadata": {
            "tags": null
          },
          "name": "stderr",
          "output_type": "stream",
          "text": [
            "100%|██████████| 201/201 [00:21<00:00,  9.14it/s]\n"
          ]
        },
        {
          "metadata": {
            "tags": null
          },
          "name": "stdout",
          "output_type": "stream",
          "text": [
            "[2023-12-05 02:13:25] Evaluate_06: epoch = 0200 train time = 22 s train loss = 0.080493 train acc = 0.0050, test acc = 0.9711\n"
          ]
        },
        {
          "metadata": {
            "tags": null
          },
          "name": "stderr",
          "output_type": "stream",
          "text": [
            "100%|██████████| 201/201 [00:21<00:00,  9.29it/s]\n"
          ]
        },
        {
          "metadata": {
            "tags": null
          },
          "name": "stdout",
          "output_type": "stream",
          "text": [
            "[2023-12-05 02:13:47] Evaluate_07: epoch = 0200 train time = 21 s train loss = 0.086437 train acc = 0.0050, test acc = 0.9714\n"
          ]
        },
        {
          "metadata": {
            "tags": null
          },
          "name": "stderr",
          "output_type": "stream",
          "text": [
            "100%|██████████| 201/201 [00:21<00:00,  9.27it/s]\n"
          ]
        },
        {
          "metadata": {
            "tags": null
          },
          "name": "stdout",
          "output_type": "stream",
          "text": [
            "[2023-12-05 02:14:09] Evaluate_08: epoch = 0200 train time = 21 s train loss = 0.079573 train acc = 0.0050, test acc = 0.9714\n"
          ]
        },
        {
          "metadata": {
            "tags": null
          },
          "name": "stderr",
          "output_type": "stream",
          "text": [
            "100%|██████████| 201/201 [00:20<00:00,  9.69it/s]\n"
          ]
        },
        {
          "metadata": {
            "tags": null
          },
          "name": "stdout",
          "output_type": "stream",
          "text": [
            "[2023-12-05 02:14:29] Evaluate_09: epoch = 0200 train time = 20 s train loss = 0.082390 train acc = 0.0050, test acc = 0.9716\n"
          ]
        },
        {
          "metadata": {
            "tags": null
          },
          "name": "stderr",
          "output_type": "stream",
          "text": [
            "100%|██████████| 201/201 [00:20<00:00,  9.91it/s]\n"
          ]
        },
        {
          "metadata": {
            "tags": null
          },
          "name": "stdout",
          "output_type": "stream",
          "text": [
            "[2023-12-05 02:14:50] Evaluate_10: epoch = 0200 train time = 20 s train loss = 0.072522 train acc = 0.0050, test acc = 0.9745\n"
          ]
        },
        {
          "output_type": "stream",
          "name": "stderr",
          "text": [
            "100%|██████████| 201/201 [00:22<00:00,  9.08it/s]\n"
          ]
        },
        {
          "output_type": "stream",
          "name": "stdout",
          "text": [
            "[2023-12-05 02:15:12] Evaluate_11: epoch = 0200 train time = 22 s train loss = 0.078005 train acc = 0.0050, test acc = 0.9717\n"
          ]
        },
        {
          "output_type": "stream",
          "name": "stderr",
          "text": [
            "100%|██████████| 201/201 [00:20<00:00,  9.77it/s]\n"
          ]
        },
        {
          "output_type": "stream",
          "name": "stdout",
          "text": [
            "[2023-12-05 02:15:32] Evaluate_12: epoch = 0200 train time = 20 s train loss = 0.080658 train acc = 0.0050, test acc = 0.9704\n"
          ]
        },
        {
          "output_type": "stream",
          "name": "stderr",
          "text": [
            "100%|██████████| 201/201 [00:21<00:00,  9.32it/s]\n"
          ]
        },
        {
          "output_type": "stream",
          "name": "stdout",
          "text": [
            "[2023-12-05 02:15:54] Evaluate_13: epoch = 0200 train time = 21 s train loss = 0.086906 train acc = 0.0050, test acc = 0.9731\n"
          ]
        },
        {
          "output_type": "stream",
          "name": "stderr",
          "text": [
            "100%|██████████| 201/201 [00:21<00:00,  9.37it/s]\n"
          ]
        },
        {
          "output_type": "stream",
          "name": "stdout",
          "text": [
            "[2023-12-05 02:16:15] Evaluate_14: epoch = 0200 train time = 21 s train loss = 0.073581 train acc = 0.0050, test acc = 0.9747\n"
          ]
        },
        {
          "output_type": "stream",
          "name": "stderr",
          "text": [
            "100%|██████████| 201/201 [00:20<00:00,  9.69it/s]\n"
          ]
        },
        {
          "output_type": "stream",
          "name": "stdout",
          "text": [
            "[2023-12-05 02:16:36] Evaluate_15: epoch = 0200 train time = 20 s train loss = 0.077698 train acc = 0.0050, test acc = 0.9734\n"
          ]
        },
        {
          "output_type": "stream",
          "name": "stderr",
          "text": [
            "100%|██████████| 201/201 [00:22<00:00,  9.05it/s]\n"
          ]
        },
        {
          "output_type": "stream",
          "name": "stdout",
          "text": [
            "[2023-12-05 02:16:59] Evaluate_16: epoch = 0200 train time = 22 s train loss = 0.092105 train acc = 0.0050, test acc = 0.9725\n"
          ]
        },
        {
          "output_type": "stream",
          "name": "stderr",
          "text": [
            "100%|██████████| 201/201 [00:20<00:00,  9.64it/s]\n"
          ]
        },
        {
          "output_type": "stream",
          "name": "stdout",
          "text": [
            "[2023-12-05 02:17:19] Evaluate_17: epoch = 0200 train time = 20 s train loss = 0.082375 train acc = 0.0050, test acc = 0.9712\n"
          ]
        },
        {
          "output_type": "stream",
          "name": "stderr",
          "text": [
            "100%|██████████| 201/201 [00:22<00:00,  8.99it/s]\n"
          ]
        },
        {
          "output_type": "stream",
          "name": "stdout",
          "text": [
            "[2023-12-05 02:17:42] Evaluate_18: epoch = 0200 train time = 22 s train loss = 0.075820 train acc = 0.0050, test acc = 0.9720\n"
          ]
        },
        {
          "output_type": "stream",
          "name": "stderr",
          "text": [
            "100%|██████████| 201/201 [00:21<00:00,  9.36it/s]\n"
          ]
        },
        {
          "output_type": "stream",
          "name": "stdout",
          "text": [
            "[2023-12-05 02:18:03] Evaluate_19: epoch = 0200 train time = 21 s train loss = 0.065614 train acc = 0.0050, test acc = 0.9702\n",
            "Evaluate 20 random ConvNet, mean = 0.9721 std = 0.0015\n",
            "-------------------------\n",
            "[2023-12-05 02:18:06] iter = 0160, loss = 0.9740\n",
            "loading file ./MNISTbuffers/MNIST/ConvNet/replay_buffer_2.pt\n",
            "[2023-12-05 02:18:30] iter = 0170, loss = 0.9496\n",
            "loading file ./MNISTbuffers/MNIST/ConvNet/replay_buffer_1.pt\n",
            "-------------------------\n",
            "Evaluation\n",
            "model_train = ConvNet, model_eval = ConvNet, iteration = 180\n",
            "DC augmentation parameters: \n",
            " {'crop': 4, 'scale': 0.2, 'rotate': 45, 'noise': 0.001, 'strategy': 'crop_scale_rotate'}\n"
          ]
        },
        {
          "output_type": "stream",
          "name": "stderr",
          "text": [
            "100%|██████████| 201/201 [00:21<00:00,  9.40it/s]\n"
          ]
        },
        {
          "output_type": "stream",
          "name": "stdout",
          "text": [
            "[2023-12-05 02:19:12] Evaluate_00: epoch = 0200 train time = 21 s train loss = 0.061725 train acc = 0.0050, test acc = 0.9757\n"
          ]
        },
        {
          "output_type": "stream",
          "name": "stderr",
          "text": [
            "100%|██████████| 201/201 [00:21<00:00,  9.43it/s]\n"
          ]
        },
        {
          "output_type": "stream",
          "name": "stdout",
          "text": [
            "[2023-12-05 02:19:33] Evaluate_01: epoch = 0200 train time = 21 s train loss = 0.068376 train acc = 0.0050, test acc = 0.9704\n"
          ]
        },
        {
          "output_type": "stream",
          "name": "stderr",
          "text": [
            "100%|██████████| 201/201 [00:20<00:00,  9.82it/s]\n"
          ]
        },
        {
          "output_type": "stream",
          "name": "stdout",
          "text": [
            "[2023-12-05 02:19:54] Evaluate_02: epoch = 0200 train time = 20 s train loss = 0.098159 train acc = 0.0050, test acc = 0.9733\n"
          ]
        },
        {
          "output_type": "stream",
          "name": "stderr",
          "text": [
            "100%|██████████| 201/201 [00:22<00:00,  9.06it/s]\n"
          ]
        },
        {
          "output_type": "stream",
          "name": "stdout",
          "text": [
            "[2023-12-05 02:20:16] Evaluate_03: epoch = 0200 train time = 22 s train loss = 0.056689 train acc = 0.0050, test acc = 0.9690\n"
          ]
        },
        {
          "output_type": "stream",
          "name": "stderr",
          "text": [
            "100%|██████████| 201/201 [00:20<00:00,  9.81it/s]\n"
          ]
        },
        {
          "output_type": "stream",
          "name": "stdout",
          "text": [
            "[2023-12-05 02:20:36] Evaluate_04: epoch = 0200 train time = 20 s train loss = 0.083974 train acc = 0.0050, test acc = 0.9737\n"
          ]
        },
        {
          "output_type": "stream",
          "name": "stderr",
          "text": [
            "100%|██████████| 201/201 [00:21<00:00,  9.36it/s]\n"
          ]
        },
        {
          "output_type": "stream",
          "name": "stdout",
          "text": [
            "[2023-12-05 02:20:58] Evaluate_05: epoch = 0200 train time = 21 s train loss = 0.076886 train acc = 0.0050, test acc = 0.9712\n"
          ]
        },
        {
          "output_type": "stream",
          "name": "stderr",
          "text": [
            "100%|██████████| 201/201 [00:21<00:00,  9.32it/s]\n"
          ]
        },
        {
          "output_type": "stream",
          "name": "stdout",
          "text": [
            "[2023-12-05 02:21:20] Evaluate_06: epoch = 0200 train time = 21 s train loss = 0.069798 train acc = 0.0050, test acc = 0.9712\n"
          ]
        },
        {
          "output_type": "stream",
          "name": "stderr",
          "text": [
            "100%|██████████| 201/201 [00:20<00:00,  9.73it/s]\n"
          ]
        },
        {
          "output_type": "stream",
          "name": "stdout",
          "text": [
            "[2023-12-05 02:21:40] Evaluate_07: epoch = 0200 train time = 20 s train loss = 0.063774 train acc = 0.0050, test acc = 0.9725\n"
          ]
        },
        {
          "output_type": "stream",
          "name": "stderr",
          "text": [
            "100%|██████████| 201/201 [00:22<00:00,  8.99it/s]\n"
          ]
        },
        {
          "output_type": "stream",
          "name": "stdout",
          "text": [
            "[2023-12-05 02:22:03] Evaluate_08: epoch = 0200 train time = 22 s train loss = 0.069227 train acc = 0.0050, test acc = 0.9723\n"
          ]
        },
        {
          "output_type": "stream",
          "name": "stderr",
          "text": [
            "100%|██████████| 201/201 [00:20<00:00,  9.70it/s]\n"
          ]
        },
        {
          "output_type": "stream",
          "name": "stdout",
          "text": [
            "[2023-12-05 02:22:23] Evaluate_09: epoch = 0200 train time = 20 s train loss = 0.077167 train acc = 0.0050, test acc = 0.9751\n"
          ]
        },
        {
          "output_type": "stream",
          "name": "stderr",
          "text": [
            "100%|██████████| 201/201 [00:21<00:00,  9.43it/s]\n"
          ]
        },
        {
          "output_type": "stream",
          "name": "stdout",
          "text": [
            "[2023-12-05 02:22:45] Evaluate_10: epoch = 0200 train time = 21 s train loss = 0.076018 train acc = 0.0050, test acc = 0.9718\n"
          ]
        },
        {
          "output_type": "stream",
          "name": "stderr",
          "text": [
            "100%|██████████| 201/201 [00:21<00:00,  9.39it/s]\n"
          ]
        },
        {
          "output_type": "stream",
          "name": "stdout",
          "text": [
            "[2023-12-05 02:23:06] Evaluate_11: epoch = 0200 train time = 21 s train loss = 0.076195 train acc = 0.0050, test acc = 0.9709\n"
          ]
        },
        {
          "output_type": "stream",
          "name": "stderr",
          "text": [
            "100%|██████████| 201/201 [00:20<00:00,  9.70it/s]\n"
          ]
        },
        {
          "output_type": "stream",
          "name": "stdout",
          "text": [
            "[2023-12-05 02:23:27] Evaluate_12: epoch = 0200 train time = 20 s train loss = 0.076261 train acc = 0.0050, test acc = 0.9741\n"
          ]
        },
        {
          "output_type": "stream",
          "name": "stderr",
          "text": [
            "100%|██████████| 201/201 [00:23<00:00,  8.43it/s]\n"
          ]
        },
        {
          "output_type": "stream",
          "name": "stdout",
          "text": [
            "[2023-12-05 02:23:51] Evaluate_13: epoch = 0200 train time = 23 s train loss = 0.062955 train acc = 0.0050, test acc = 0.9738\n"
          ]
        },
        {
          "output_type": "stream",
          "name": "stderr",
          "text": [
            "100%|██████████| 201/201 [00:20<00:00,  9.63it/s]\n"
          ]
        },
        {
          "output_type": "stream",
          "name": "stdout",
          "text": [
            "[2023-12-05 02:24:12] Evaluate_14: epoch = 0200 train time = 20 s train loss = 0.065753 train acc = 0.0050, test acc = 0.9704\n"
          ]
        },
        {
          "output_type": "stream",
          "name": "stderr",
          "text": [
            "100%|██████████| 201/201 [00:20<00:00,  9.64it/s]\n"
          ]
        },
        {
          "output_type": "stream",
          "name": "stdout",
          "text": [
            "[2023-12-05 02:24:33] Evaluate_15: epoch = 0200 train time = 20 s train loss = 0.074866 train acc = 0.0050, test acc = 0.9751\n"
          ]
        },
        {
          "output_type": "stream",
          "name": "stderr",
          "text": [
            "100%|██████████| 201/201 [00:21<00:00,  9.34it/s]\n"
          ]
        },
        {
          "output_type": "stream",
          "name": "stdout",
          "text": [
            "[2023-12-05 02:24:54] Evaluate_16: epoch = 0200 train time = 21 s train loss = 0.070113 train acc = 0.0050, test acc = 0.9716\n"
          ]
        },
        {
          "output_type": "stream",
          "name": "stderr",
          "text": [
            "100%|██████████| 201/201 [00:20<00:00,  9.78it/s]\n"
          ]
        },
        {
          "output_type": "stream",
          "name": "stdout",
          "text": [
            "[2023-12-05 02:25:15] Evaluate_17: epoch = 0200 train time = 20 s train loss = 0.082794 train acc = 0.0050, test acc = 0.9733\n"
          ]
        },
        {
          "output_type": "stream",
          "name": "stderr",
          "text": [
            "100%|██████████| 201/201 [00:21<00:00,  9.24it/s]\n"
          ]
        },
        {
          "output_type": "stream",
          "name": "stdout",
          "text": [
            "[2023-12-05 02:25:36] Evaluate_18: epoch = 0200 train time = 21 s train loss = 0.068896 train acc = 0.0050, test acc = 0.9758\n"
          ]
        },
        {
          "output_type": "stream",
          "name": "stderr",
          "text": [
            "100%|██████████| 201/201 [00:20<00:00,  9.63it/s]\n"
          ]
        },
        {
          "output_type": "stream",
          "name": "stdout",
          "text": [
            "[2023-12-05 02:25:57] Evaluate_19: epoch = 0200 train time = 20 s train loss = 0.080558 train acc = 0.0050, test acc = 0.9713\n",
            "Evaluate 20 random ConvNet, mean = 0.9726 std = 0.0019\n",
            "-------------------------\n",
            "[2023-12-05 02:26:00] iter = 0180, loss = 0.9367\n",
            "loading file ./MNISTbuffers/MNIST/ConvNet/replay_buffer_0.pt\n",
            "[2023-12-05 02:26:24] iter = 0190, loss = 0.9422\n",
            "loading file ./MNISTbuffers/MNIST/ConvNet/replay_buffer_3.pt\n",
            "-------------------------\n",
            "Evaluation\n",
            "model_train = ConvNet, model_eval = ConvNet, iteration = 200\n",
            "DC augmentation parameters: \n",
            " {'crop': 4, 'scale': 0.2, 'rotate': 45, 'noise': 0.001, 'strategy': 'crop_scale_rotate'}\n"
          ]
        },
        {
          "output_type": "stream",
          "name": "stderr",
          "text": [
            "100%|██████████| 201/201 [00:21<00:00,  9.15it/s]\n"
          ]
        },
        {
          "output_type": "stream",
          "name": "stdout",
          "text": [
            "[2023-12-05 02:27:07] Evaluate_00: epoch = 0200 train time = 21 s train loss = 0.070972 train acc = 0.0050, test acc = 0.9748\n"
          ]
        },
        {
          "output_type": "stream",
          "name": "stderr",
          "text": [
            "100%|██████████| 201/201 [00:20<00:00,  9.71it/s]\n"
          ]
        },
        {
          "output_type": "stream",
          "name": "stdout",
          "text": [
            "[2023-12-05 02:27:27] Evaluate_01: epoch = 0200 train time = 20 s train loss = 0.095409 train acc = 0.0050, test acc = 0.9741\n"
          ]
        },
        {
          "output_type": "stream",
          "name": "stderr",
          "text": [
            "100%|██████████| 201/201 [00:20<00:00,  9.60it/s]\n"
          ]
        },
        {
          "output_type": "stream",
          "name": "stdout",
          "text": [
            "[2023-12-05 02:27:48] Evaluate_02: epoch = 0200 train time = 20 s train loss = 0.070137 train acc = 0.0050, test acc = 0.9734\n"
          ]
        },
        {
          "output_type": "stream",
          "name": "stderr",
          "text": [
            "100%|██████████| 201/201 [00:21<00:00,  9.15it/s]\n"
          ]
        },
        {
          "output_type": "stream",
          "name": "stdout",
          "text": [
            "[2023-12-05 02:28:10] Evaluate_03: epoch = 0200 train time = 21 s train loss = 0.079245 train acc = 0.0050, test acc = 0.9733\n"
          ]
        },
        {
          "output_type": "stream",
          "name": "stderr",
          "text": [
            "100%|██████████| 201/201 [00:21<00:00,  9.20it/s]\n"
          ]
        },
        {
          "output_type": "stream",
          "name": "stdout",
          "text": [
            "[2023-12-05 02:28:32] Evaluate_04: epoch = 0200 train time = 21 s train loss = 0.084691 train acc = 0.0050, test acc = 0.9735\n"
          ]
        },
        {
          "output_type": "stream",
          "name": "stderr",
          "text": [
            "100%|██████████| 201/201 [00:23<00:00,  8.73it/s]\n"
          ]
        },
        {
          "output_type": "stream",
          "name": "stdout",
          "text": [
            "[2023-12-05 02:28:55] Evaluate_05: epoch = 0200 train time = 23 s train loss = 0.075670 train acc = 0.0050, test acc = 0.9757\n"
          ]
        },
        {
          "output_type": "stream",
          "name": "stderr",
          "text": [
            "100%|██████████| 201/201 [00:20<00:00,  9.70it/s]\n"
          ]
        },
        {
          "output_type": "stream",
          "name": "stdout",
          "text": [
            "[2023-12-05 02:29:16] Evaluate_06: epoch = 0200 train time = 20 s train loss = 0.077758 train acc = 0.0050, test acc = 0.9728\n"
          ]
        },
        {
          "output_type": "stream",
          "name": "stderr",
          "text": [
            "100%|██████████| 201/201 [00:20<00:00,  9.65it/s]\n"
          ]
        },
        {
          "output_type": "stream",
          "name": "stdout",
          "text": [
            "[2023-12-05 02:29:37] Evaluate_07: epoch = 0200 train time = 20 s train loss = 0.053888 train acc = 0.0050, test acc = 0.9747\n"
          ]
        },
        {
          "output_type": "stream",
          "name": "stderr",
          "text": [
            "100%|██████████| 201/201 [00:21<00:00,  9.30it/s]\n"
          ]
        },
        {
          "output_type": "stream",
          "name": "stdout",
          "text": [
            "[2023-12-05 02:29:58] Evaluate_08: epoch = 0200 train time = 21 s train loss = 0.085837 train acc = 0.0050, test acc = 0.9744\n"
          ]
        },
        {
          "output_type": "stream",
          "name": "stderr",
          "text": [
            "100%|██████████| 201/201 [00:20<00:00,  9.79it/s]\n"
          ]
        },
        {
          "output_type": "stream",
          "name": "stdout",
          "text": [
            "[2023-12-05 02:30:19] Evaluate_09: epoch = 0200 train time = 20 s train loss = 0.069046 train acc = 0.0050, test acc = 0.9733\n"
          ]
        },
        {
          "output_type": "stream",
          "name": "stderr",
          "text": [
            "100%|██████████| 201/201 [00:22<00:00,  9.05it/s]\n"
          ]
        },
        {
          "output_type": "stream",
          "name": "stdout",
          "text": [
            "[2023-12-05 02:30:41] Evaluate_10: epoch = 0200 train time = 22 s train loss = 0.069370 train acc = 0.0050, test acc = 0.9747\n"
          ]
        },
        {
          "output_type": "stream",
          "name": "stderr",
          "text": [
            "100%|██████████| 201/201 [00:21<00:00,  9.55it/s]\n"
          ]
        },
        {
          "output_type": "stream",
          "name": "stdout",
          "text": [
            "[2023-12-05 02:31:02] Evaluate_11: epoch = 0200 train time = 21 s train loss = 0.063262 train acc = 0.0050, test acc = 0.9740\n"
          ]
        },
        {
          "output_type": "stream",
          "name": "stderr",
          "text": [
            "100%|██████████| 201/201 [00:21<00:00,  9.50it/s]\n"
          ]
        },
        {
          "output_type": "stream",
          "name": "stdout",
          "text": [
            "[2023-12-05 02:31:23] Evaluate_12: epoch = 0200 train time = 21 s train loss = 0.068839 train acc = 0.0050, test acc = 0.9757\n"
          ]
        },
        {
          "output_type": "stream",
          "name": "stderr",
          "text": [
            "100%|██████████| 201/201 [00:22<00:00,  9.08it/s]\n"
          ]
        },
        {
          "output_type": "stream",
          "name": "stdout",
          "text": [
            "[2023-12-05 02:31:46] Evaluate_13: epoch = 0200 train time = 22 s train loss = 0.068315 train acc = 0.0050, test acc = 0.9731\n"
          ]
        },
        {
          "output_type": "stream",
          "name": "stderr",
          "text": [
            "100%|██████████| 201/201 [00:20<00:00,  9.71it/s]\n"
          ]
        },
        {
          "output_type": "stream",
          "name": "stdout",
          "text": [
            "[2023-12-05 02:32:06] Evaluate_14: epoch = 0200 train time = 20 s train loss = 0.069578 train acc = 0.0050, test acc = 0.9714\n"
          ]
        },
        {
          "output_type": "stream",
          "name": "stderr",
          "text": [
            "100%|██████████| 201/201 [00:22<00:00,  8.97it/s]\n"
          ]
        },
        {
          "output_type": "stream",
          "name": "stdout",
          "text": [
            "[2023-12-05 02:32:29] Evaluate_15: epoch = 0200 train time = 22 s train loss = 0.062597 train acc = 0.0050, test acc = 0.9739\n"
          ]
        },
        {
          "output_type": "stream",
          "name": "stderr",
          "text": [
            "100%|██████████| 201/201 [00:20<00:00,  9.61it/s]\n"
          ]
        },
        {
          "output_type": "stream",
          "name": "stdout",
          "text": [
            "[2023-12-05 02:32:50] Evaluate_16: epoch = 0200 train time = 20 s train loss = 0.071574 train acc = 0.0050, test acc = 0.9741\n"
          ]
        },
        {
          "output_type": "stream",
          "name": "stderr",
          "text": [
            "100%|██████████| 201/201 [00:20<00:00,  9.58it/s]\n"
          ]
        },
        {
          "output_type": "stream",
          "name": "stdout",
          "text": [
            "[2023-12-05 02:33:11] Evaluate_17: epoch = 0200 train time = 20 s train loss = 0.071706 train acc = 0.0050, test acc = 0.9733\n"
          ]
        },
        {
          "output_type": "stream",
          "name": "stderr",
          "text": [
            "100%|██████████| 201/201 [00:23<00:00,  8.59it/s]\n"
          ]
        },
        {
          "output_type": "stream",
          "name": "stdout",
          "text": [
            "[2023-12-05 02:33:34] Evaluate_18: epoch = 0200 train time = 23 s train loss = 0.059336 train acc = 0.0050, test acc = 0.9692\n"
          ]
        },
        {
          "output_type": "stream",
          "name": "stderr",
          "text": [
            "100%|██████████| 201/201 [00:21<00:00,  9.36it/s]\n"
          ]
        },
        {
          "output_type": "stream",
          "name": "stdout",
          "text": [
            "[2023-12-05 02:33:56] Evaluate_19: epoch = 0200 train time = 21 s train loss = 0.073488 train acc = 0.0050, test acc = 0.9736\n",
            "Evaluate 20 random ConvNet, mean = 0.9737 std = 0.0014\n",
            "-------------------------\n",
            "[2023-12-05 02:33:58] iter = 0200, loss = 0.9217\n"
          ]
        }
      ],
      "source": [
        "ipcs = [20]\n",
        "sythetic_datas = []\n",
        "all_r_test_acc = []\n",
        "last_datas = []\n",
        "device = 'cuda' if torch.cuda.is_available() else 'cpu'\n",
        "args = datm_arguments(device, 20)\n",
        "model = utils.get_network(NET,channel,num_classes).to(device)\n",
        "channel, im_size, num_classes, class_names, mean, std, dst_train, dst_test, testloader = utils.get_dataset(mnist_dataset, mnist_data_path)\n",
        "NET = \"ConvNet\"\n",
        "args.Iteration = 200\n",
        "for i in ipcs:\n",
        "  args.ipc = i\n",
        "  best_data,last_data, r_test_acc,r_train_acc = DATM(args)\n",
        "  sythetic_datas.append(best_data)\n",
        "  all_r_test_acc.append(r_test_acc)\n",
        "  last_datas.append(last_data)\n"
      ]
    },
    {
      "cell_type": "code",
      "source": [
        "print(r_test_acc)"
      ],
      "metadata": {
        "colab": {
          "base_uri": "https://localhost:8080/"
        },
        "id": "BVNTIyJH4Vs4",
        "outputId": "2b241ce6-a23c-4a3c-dec4-76ed133b81c1"
      },
      "execution_count": null,
      "outputs": [
        {
          "output_type": "stream",
          "name": "stdout",
          "text": [
            "[('ConvNet', 0.9642200000000001), ('ConvNet', 0.9671100000000001), ('ConvNet', 0.9691449999999999), ('ConvNet', 0.969355), ('ConvNet', 0.9703350000000001), ('ConvNet', 0.97054), ('ConvNet', 0.97327), ('ConvNet', 0.9722950000000001), ('ConvNet', 0.9721249999999999), ('ConvNet', 0.9726250000000001), ('ConvNet', 0.9736500000000001)]\n"
          ]
        }
      ]
    },
    {
      "cell_type": "code",
      "execution_count": null,
      "metadata": {
        "colab": {
          "base_uri": "https://localhost:8080/",
          "height": 1000
        },
        "id": "OBkRVnyZHnzd",
        "outputId": "83c4ce45-5a8e-4e99-c0ed-ee5daeaf9651"
      },
      "outputs": [
        {
          "name": "stdout",
          "output_type": "stream",
          "text": [
            "Train ZCA\n"
          ]
        },
        {
          "name": "stderr",
          "output_type": "stream",
          "text": [
            "100%|██████████| 60000/60000 [00:07<00:00, 7816.21it/s]\n"
          ]
        },
        {
          "name": "stdout",
          "output_type": "stream",
          "text": [
            "Test ZCA\n"
          ]
        },
        {
          "name": "stderr",
          "output_type": "stream",
          "text": [
            "100%|██████████| 10000/10000 [00:01<00:00, 9563.70it/s]\n"
          ]
        },
        {
          "name": "stdout",
          "output_type": "stream",
          "text": [
            "<class 'kornia.enhance.zca.ZCAWhitening'>\n",
            "class c = 0: 5923 real images\n",
            "class c = 1: 6742 real images\n",
            "class c = 2: 5958 real images\n",
            "class c = 3: 6131 real images\n",
            "class c = 4: 5842 real images\n",
            "class c = 5: 5421 real images\n",
            "class c = 6: 5918 real images\n",
            "class c = 7: 6265 real images\n",
            "class c = 8: 5851 real images\n",
            "class c = 9: 5949 real images\n",
            "Expert Dir: ./MNISTbuffers/MNIST/ConvNet\n",
            "loading file ./MNISTbuffers/MNIST/ConvNet/replay_buffer_0.pt\n",
            "0.0.0\n",
            "1.0.0\n",
            "2.0.0\n",
            "3.0.0\n",
            "4.0.0\n",
            "5.0.0\n",
            "6.0.0\n",
            "7.0.0\n",
            "8.0.0\n",
            "9.0.0\n",
            "InitialAcc:1.0\n",
            "-------------------------\n",
            "Evaluation\n",
            "model_train = ConvNet, model_eval = ConvNet, iteration = 0\n",
            "DC augmentation parameters: \n",
            " {'crop': 4, 'scale': 0.2, 'rotate': 45, 'noise': 0.001, 'strategy': 'crop_scale_rotate'}\n"
          ]
        },
        {
          "name": "stderr",
          "output_type": "stream",
          "text": [
            "100%|██████████| 201/201 [00:24<00:00,  8.30it/s]\n"
          ]
        },
        {
          "name": "stdout",
          "output_type": "stream",
          "text": [
            "[2023-12-01 00:02:37] Evaluate_00: epoch = 0200 train time = 24 s train loss = 0.672346 train acc = 0.0040, test acc = 0.9356\n"
          ]
        },
        {
          "name": "stderr",
          "output_type": "stream",
          "text": [
            "100%|██████████| 201/201 [00:26<00:00,  7.46it/s]\n"
          ]
        },
        {
          "name": "stdout",
          "output_type": "stream",
          "text": [
            "[2023-12-01 00:03:04] Evaluate_01: epoch = 0200 train time = 26 s train loss = 0.689091 train acc = 0.0040, test acc = 0.9370\n"
          ]
        },
        {
          "name": "stderr",
          "output_type": "stream",
          "text": [
            "100%|██████████| 201/201 [00:24<00:00,  8.32it/s]\n"
          ]
        },
        {
          "name": "stdout",
          "output_type": "stream",
          "text": [
            "[2023-12-01 00:03:28] Evaluate_02: epoch = 0200 train time = 24 s train loss = 0.671071 train acc = 0.0040, test acc = 0.9370\n"
          ]
        },
        {
          "name": "stderr",
          "output_type": "stream",
          "text": [
            "100%|██████████| 201/201 [00:25<00:00,  8.03it/s]\n"
          ]
        },
        {
          "name": "stdout",
          "output_type": "stream",
          "text": [
            "[2023-12-01 00:03:53] Evaluate_03: epoch = 0200 train time = 25 s train loss = 0.671430 train acc = 0.0040, test acc = 0.9361\n"
          ]
        },
        {
          "name": "stderr",
          "output_type": "stream",
          "text": [
            "100%|██████████| 201/201 [00:23<00:00,  8.57it/s]\n"
          ]
        },
        {
          "name": "stdout",
          "output_type": "stream",
          "text": [
            "[2023-12-01 00:04:16] Evaluate_04: epoch = 0200 train time = 23 s train loss = 0.650659 train acc = 0.0040, test acc = 0.9385\n",
            "Evaluate 5 random ConvNet, mean = 0.9368 std = 0.0010\n",
            "-------------------------\n"
          ]
        },
        {
          "ename": "OutOfMemoryError",
          "evalue": "ignored",
          "output_type": "error",
          "traceback": [
            "\u001b[0;31m---------------------------------------------------------------------------\u001b[0m",
            "\u001b[0;31mOutOfMemoryError\u001b[0m                          Traceback (most recent call last)",
            "\u001b[0;32m<ipython-input-9-84ab584b0f89>\u001b[0m in \u001b[0;36m<cell line: 11>\u001b[0;34m()\u001b[0m\n\u001b[1;32m     11\u001b[0m \u001b[0;32mfor\u001b[0m \u001b[0mi\u001b[0m \u001b[0;32min\u001b[0m \u001b[0mipcs\u001b[0m\u001b[0;34m:\u001b[0m\u001b[0;34m\u001b[0m\u001b[0;34m\u001b[0m\u001b[0m\n\u001b[1;32m     12\u001b[0m   \u001b[0margs\u001b[0m\u001b[0;34m.\u001b[0m\u001b[0mipc\u001b[0m \u001b[0;34m=\u001b[0m \u001b[0mi\u001b[0m\u001b[0;34m\u001b[0m\u001b[0;34m\u001b[0m\u001b[0m\n\u001b[0;32m---> 13\u001b[0;31m   \u001b[0mbest_data\u001b[0m\u001b[0;34m,\u001b[0m\u001b[0mlast_data\u001b[0m\u001b[0;34m,\u001b[0m \u001b[0mr_test_acc\u001b[0m\u001b[0;34m,\u001b[0m\u001b[0mr_train_acc\u001b[0m \u001b[0;34m=\u001b[0m \u001b[0mDATM\u001b[0m\u001b[0;34m(\u001b[0m\u001b[0margs\u001b[0m\u001b[0;34m)\u001b[0m\u001b[0;34m\u001b[0m\u001b[0;34m\u001b[0m\u001b[0m\n\u001b[0m\u001b[1;32m     14\u001b[0m   \u001b[0msythetic_datas\u001b[0m\u001b[0;34m.\u001b[0m\u001b[0mappend\u001b[0m\u001b[0;34m(\u001b[0m\u001b[0mbest_data\u001b[0m\u001b[0;34m)\u001b[0m\u001b[0;34m\u001b[0m\u001b[0;34m\u001b[0m\u001b[0m\n\u001b[1;32m     15\u001b[0m   \u001b[0mall_r_test_acc\u001b[0m\u001b[0;34m.\u001b[0m\u001b[0mappend\u001b[0m\u001b[0;34m(\u001b[0m\u001b[0mr_test_acc\u001b[0m\u001b[0;34m)\u001b[0m\u001b[0;34m\u001b[0m\u001b[0;34m\u001b[0m\u001b[0m\n",
            "\u001b[0;32m<ipython-input-8-17bd94684bb6>\u001b[0m in \u001b[0;36mDATM\u001b[0;34m(args)\u001b[0m\n\u001b[1;32m    456\u001b[0m       \u001b[0mce_loss\u001b[0m \u001b[0;34m=\u001b[0m \u001b[0mcriterion\u001b[0m\u001b[0;34m(\u001b[0m\u001b[0mx\u001b[0m\u001b[0;34m,\u001b[0m \u001b[0mthis_y\u001b[0m\u001b[0;34m)\u001b[0m\u001b[0;34m\u001b[0m\u001b[0;34m\u001b[0m\u001b[0m\n\u001b[1;32m    457\u001b[0m \u001b[0;34m\u001b[0m\u001b[0m\n\u001b[0;32m--> 458\u001b[0;31m       \u001b[0mgrad\u001b[0m \u001b[0;34m=\u001b[0m \u001b[0mtorch\u001b[0m\u001b[0;34m.\u001b[0m\u001b[0mautograd\u001b[0m\u001b[0;34m.\u001b[0m\u001b[0mgrad\u001b[0m\u001b[0;34m(\u001b[0m\u001b[0mce_loss\u001b[0m\u001b[0;34m,\u001b[0m \u001b[0mstudent_params\u001b[0m\u001b[0;34m[\u001b[0m\u001b[0;34m-\u001b[0m\u001b[0;36m1\u001b[0m\u001b[0;34m]\u001b[0m\u001b[0;34m,\u001b[0m \u001b[0mcreate_graph\u001b[0m\u001b[0;34m=\u001b[0m\u001b[0;32mTrue\u001b[0m\u001b[0;34m)\u001b[0m\u001b[0;34m[\u001b[0m\u001b[0;36m0\u001b[0m\u001b[0;34m]\u001b[0m\u001b[0;34m\u001b[0m\u001b[0;34m\u001b[0m\u001b[0m\n\u001b[0m\u001b[1;32m    459\u001b[0m \u001b[0;34m\u001b[0m\u001b[0m\n\u001b[1;32m    460\u001b[0m       \u001b[0mstudent_params\u001b[0m\u001b[0;34m.\u001b[0m\u001b[0mappend\u001b[0m\u001b[0;34m(\u001b[0m\u001b[0mstudent_params\u001b[0m\u001b[0;34m[\u001b[0m\u001b[0;34m-\u001b[0m\u001b[0;36m1\u001b[0m\u001b[0;34m]\u001b[0m \u001b[0;34m-\u001b[0m \u001b[0msyn_lr\u001b[0m \u001b[0;34m*\u001b[0m \u001b[0mgrad\u001b[0m\u001b[0;34m)\u001b[0m\u001b[0;34m\u001b[0m\u001b[0;34m\u001b[0m\u001b[0m\n",
            "\u001b[0;32m/usr/local/lib/python3.10/dist-packages/torch/autograd/__init__.py\u001b[0m in \u001b[0;36mgrad\u001b[0;34m(outputs, inputs, grad_outputs, retain_graph, create_graph, only_inputs, allow_unused, is_grads_batched, materialize_grads)\u001b[0m\n\u001b[1;32m    392\u001b[0m         )\n\u001b[1;32m    393\u001b[0m     \u001b[0;32melse\u001b[0m\u001b[0;34m:\u001b[0m\u001b[0;34m\u001b[0m\u001b[0;34m\u001b[0m\u001b[0m\n\u001b[0;32m--> 394\u001b[0;31m         result = Variable._execution_engine.run_backward(  # Calls into the C++ engine to run the backward pass\n\u001b[0m\u001b[1;32m    395\u001b[0m             \u001b[0mt_outputs\u001b[0m\u001b[0;34m,\u001b[0m\u001b[0;34m\u001b[0m\u001b[0;34m\u001b[0m\u001b[0m\n\u001b[1;32m    396\u001b[0m             \u001b[0mgrad_outputs_\u001b[0m\u001b[0;34m,\u001b[0m\u001b[0;34m\u001b[0m\u001b[0;34m\u001b[0m\u001b[0m\n",
            "\u001b[0;31mOutOfMemoryError\u001b[0m: CUDA out of memory. Tried to allocate 126.00 MiB. GPU 0 has a total capacty of 14.75 GiB of which 52.81 MiB is free. Process 2858 has 14.69 GiB memory in use. Of the allocated memory 13.26 GiB is allocated by PyTorch, and 227.38 MiB is reserved by PyTorch but unallocated. If reserved but unallocated memory is large try setting max_split_size_mb to avoid fragmentation.  See documentation for Memory Management and PYTORCH_CUDA_ALLOC_CONF"
          ]
        }
      ],
      "source": [
        "ipcs = [500]\n",
        "sythetic_datas = []\n",
        "all_r_test_acc = []\n",
        "last_datas = []\n",
        "device = 'cuda' if torch.cuda.is_available() else 'cpu'\n",
        "args = datm_arguments(device, 20)\n",
        "model = utils.get_network(NET,channel,num_classes).to(device)\n",
        "channel, im_size, num_classes, class_names, mean, std, dst_train, dst_test, testloader = utils.get_dataset(mnist_dataset, mnist_data_path)\n",
        "NET = \"ConvNet\"\n",
        "\n",
        "for i in ipcs:\n",
        "  args.ipc = i\n",
        "  best_data,last_data, r_test_acc,r_train_acc = DATM(args)\n",
        "  sythetic_datas.append(best_data)\n",
        "  all_r_test_acc.append(r_test_acc)\n",
        "  last_datas.append(last_data)"
      ]
    },
    {
      "cell_type": "code",
      "execution_count": null,
      "metadata": {
        "id": "HmOhpLBq6wK0"
      },
      "outputs": [],
      "source": [
        "print(all_r_test_acc)\n",
        "print(max(all_r_test_acc))"
      ]
    }
  ],
  "metadata": {
    "accelerator": "GPU",
    "colab": {
      "provenance": [],
      "gpuType": "T4",
      "collapsed_sections": [
        "y5cVe_t2SrXm",
        "XhnFasZ8b9YO",
        "FAMcT1Mr3C75",
        "Uk9AjFiW3Nyw",
        "vi5l1rsC4dCM",
        "Kw3B6a9udm9C"
      ]
    },
    "kernelspec": {
      "display_name": "Python 3",
      "name": "python3"
    },
    "language_info": {
      "name": "python"
    }
  },
  "nbformat": 4,
  "nbformat_minor": 0
}