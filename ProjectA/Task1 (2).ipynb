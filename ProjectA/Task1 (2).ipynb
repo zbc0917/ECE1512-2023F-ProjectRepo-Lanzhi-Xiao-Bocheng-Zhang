{
  "cells": [
    {
      "cell_type": "code",
      "source": [
        "import tensorflow as tf\n",
        "tf.test.gpu_device_name()"
      ],
      "metadata": {
        "colab": {
          "base_uri": "https://localhost:8080/",
          "height": 35
        },
        "id": "wd9zqmHBhjhy",
        "outputId": "11b23cfb-392f-4fd8-fc69-0700ebc75272"
      },
      "execution_count": null,
      "outputs": [
        {
          "output_type": "execute_result",
          "data": {
            "text/plain": [
              "'/device:GPU:0'"
            ],
            "application/vnd.google.colaboratory.intrinsic+json": {
              "type": "string"
            }
          },
          "metadata": {},
          "execution_count": 1
        }
      ]
    },
    {
      "cell_type": "markdown",
      "metadata": {
        "id": "6WYMfvCNPwpm"
      },
      "source": [
        "# Project A: Knowledge Distillation for Building Lightweight Deep Learning Models in Visual Classification Tasks"
      ]
    },
    {
      "cell_type": "code",
      "execution_count": null,
      "metadata": {
        "id": "vA8ppgB2P0aJ",
        "is_executing": true
      },
      "outputs": [],
      "source": [
        "import tensorflow.compat.v2 as tf\n",
        "import tensorflow_datasets as tfds\n",
        "from typing import Union\n",
        "\n",
        "tf.enable_v2_behavior()\n",
        "tf.compat.v1.enable_eager_execution()\n",
        "\n",
        "builder = tfds.builder('mnist')\n",
        "BATCH_SIZE = 256\n",
        "NUM_EPOCHS = 12\n",
        "NUM_CLASSES = 10  # 10 total classes."
      ]
    },
    {
      "cell_type": "code",
      "execution_count": null,
      "metadata": {
        "id": "ynByMG_UP4A4",
        "colab": {
          "base_uri": "https://localhost:8080/",
          "height": 105,
          "referenced_widgets": [
            "cc5a9926dcba4b57bc216fb46df014e7",
            "7498e7ee28f849639091ac0a5fe58096",
            "c9908595fb6549469708a3af692b1c55",
            "bf1110b1540340a182ce61ad38e564b2",
            "56c9bde7d46349909df9943c98ec1a7f",
            "70f2e48defb6422eaac5d5bf3d70eb75",
            "8ff7158acfa4436f99c382854b0e159c",
            "5c7b8878023346ae9ea4853549ef1db6",
            "072340b51183416aa2787ed58d45da8b",
            "7a7fc56d525b4d20a5c790a0a5c0a734",
            "8abca1e93df24e98967f18827d532fd3"
          ]
        },
        "outputId": "0190e529-2016-46f1-84d7-9c56bf2633da"
      },
      "outputs": [
        {
          "output_type": "stream",
          "name": "stdout",
          "text": [
            "Downloading and preparing dataset 11.06 MiB (download: 11.06 MiB, generated: 21.00 MiB, total: 32.06 MiB) to /root/tensorflow_datasets/mnist/3.0.1...\n"
          ]
        },
        {
          "output_type": "display_data",
          "data": {
            "text/plain": [
              "Dl Completed...:   0%|          | 0/5 [00:00<?, ? file/s]"
            ],
            "application/vnd.jupyter.widget-view+json": {
              "version_major": 2,
              "version_minor": 0,
              "model_id": "cc5a9926dcba4b57bc216fb46df014e7"
            }
          },
          "metadata": {}
        },
        {
          "output_type": "stream",
          "name": "stdout",
          "text": [
            "Dataset mnist downloaded and prepared to /root/tensorflow_datasets/mnist/3.0.1. Subsequent calls will reuse this data.\n"
          ]
        }
      ],
      "source": [
        "# Load train and test splits.\n",
        "def preprocess(x):\n",
        "  image = tf.image.convert_image_dtype(x['image'], tf.float32)\n",
        "  subclass_labels = tf.one_hot(x['label'], builder.info.features['label'].num_classes)\n",
        "  return image, subclass_labels\n",
        "\n",
        "\n",
        "mnist_train = tfds.load('mnist', split='train', shuffle_files=False).cache()\n",
        "mnist_train = mnist_train.map(preprocess)\n",
        "mnist_train = mnist_train.shuffle(builder.info.splits['train'].num_examples)\n",
        "mnist_train = mnist_train.batch(BATCH_SIZE, drop_remainder=True)\n",
        "\n",
        "mnist_test = tfds.load('mnist', split='test').cache()\n",
        "mnist_test = mnist_test.map(preprocess).batch(BATCH_SIZE)\n"
      ]
    },
    {
      "cell_type": "markdown",
      "metadata": {
        "id": "kAZwfvW5P63q"
      },
      "source": [
        "# Model creation"
      ]
    },
    {
      "cell_type": "code",
      "execution_count": null,
      "metadata": {
        "id": "zINgDkA7P7BP"
      },
      "outputs": [],
      "source": [
        "#@test {\"output\": \"ignore\"}\n",
        "\n",
        "# Build CNN teacher.\n",
        "cnn_model = tf.keras.Sequential()\n",
        "\n",
        "# your code start from here for stpe 2\n",
        "cnn_model = tf.keras.Sequential([\n",
        "    tf.keras.layers.Conv2D(32, (3, 3),strides=1, activation='relu', input_shape=(28, 28, 1)),\n",
        "    tf.keras.layers.MaxPooling2D((2, 2),strides = 1),\n",
        "    tf.keras.layers.Conv2D(64, (3, 3), strides=1,activation='relu'),\n",
        "    tf.keras.layers.MaxPooling2D((2, 2),strides = 2),\n",
        "    tf.keras.layers.Flatten(),\n",
        "    tf.keras.layers.Dropout(0.5),\n",
        "    tf.keras.layers.Dense(128, activation='relu'),\n",
        "    tf.keras.layers.Dropout(0.5),\n",
        "    tf.keras.layers.Dense(NUM_CLASSES)\n",
        "])\n",
        "\n",
        "\n",
        "# Build fully connected student.\n",
        "\n",
        "\n",
        "# your code start from here for step 2\n",
        "fc_model = tf.keras.Sequential([\n",
        "    tf.keras.layers.Flatten(),\n",
        "    tf.keras.layers.Dense(784, activation='relu'),\n",
        "    tf.keras.layers.Dense(784, activation='relu'),\n",
        "    tf.keras.layers.Dense(NUM_CLASSES),\n",
        "])\n",
        "\n"
      ]
    },
    {
      "cell_type": "markdown",
      "metadata": {
        "id": "8JWGucyrQGav"
      },
      "source": [
        "# Teacher loss function"
      ]
    },
    {
      "cell_type": "code",
      "execution_count": null,
      "metadata": {
        "id": "DhzBP6ZLQJ57"
      },
      "outputs": [],
      "source": [
        "@tf.function\n",
        "def compute_teacher_loss(images, labels):\n",
        "  \"\"\"Compute subclass knowledge distillation teacher loss for given images\n",
        "     and labels.\n",
        "\n",
        "  Args:\n",
        "    images: Tensor representing a batch of images.\n",
        "    labels: Tensor representing a batch of labels.\n",
        "\n",
        "  Returns:\n",
        "    Scalar loss Tensor.\n",
        "  \"\"\"\n",
        "  subclass_logits = cnn_model(images, training=True)\n",
        "\n",
        "  # Compute cross-entropy loss for subclasses.\n",
        "\n",
        "  # your code start from here for step 3\n",
        "  cross_entropy_loss_value = tf.reduce_mean(tf.nn.softmax_cross_entropy_with_logits(labels,subclass_logits))\n",
        "\n",
        "  return cross_entropy_loss_value"
      ]
    },
    {
      "cell_type": "markdown",
      "metadata": {
        "id": "JS8xkuH0QbOS"
      },
      "source": [
        "# Student loss function"
      ]
    },
    {
      "cell_type": "code",
      "execution_count": null,
      "metadata": {
        "id": "lDKia4gPQMIr"
      },
      "outputs": [],
      "source": [
        "#@test {\"output\": \"ignore\"}\n",
        "\n",
        "# Hyperparameters for distillation (need to be tuned).\n",
        "ALPHA = 0.5 # task balance between cross-entropy and distillation loss\n",
        "DISTILLATION_TEMPERATURE = 4 #temperature hyperparameter\n",
        "\n",
        "def distillation_loss(teacher_logits: tf.Tensor, student_logits: tf.Tensor,\n",
        "                      temperature: Union[float, tf.Tensor]):\n",
        "  \"\"\"Compute distillation loss.\n",
        "\n",
        "  This function computes cross entropy between softened logits and softened\n",
        "  targets. The resulting loss is scaled by the squared temperature so that\n",
        "  the gradient magnitude remains approximately constant as the temperature is\n",
        "  changed. For reference, see Hinton et al., 2014, \"Distilling the knowledge in\n",
        "  a neural network.\"\n",
        "\n",
        "  Args:\n",
        "    teacher_logits: A Tensor of logits provided by the teacher.\n",
        "    student_logits: A Tensor of logits provided by the student, of the same\n",
        "      shape as `teacher_logits`.\n",
        "    temperature: Temperature to use for distillation.\n",
        "\n",
        "  Returns:\n",
        "    A scalar Tensor containing the distillation loss.\n",
        "  \"\"\"\n",
        " # your code start from here for step 3\n",
        "  soft_targets = tf.nn.softmax(teacher_logits / temperature, axis=1)\n",
        "\n",
        "  return tf.reduce_mean(\n",
        "      tf.nn.softmax_cross_entropy_with_logits(\n",
        "          soft_targets, student_logits / temperature)) * temperature ** 2\n",
        "\n",
        "def compute_student_loss(images, labels):\n",
        "  \"\"\"Compute subclass knowledge distillation student loss for given images\n",
        "     and labels.\n",
        "\n",
        "  Args:\n",
        "    images: Tensor representing a batch of images.\n",
        "    labels: Tensor representing a batch of labels.\n",
        "\n",
        "  Returns:\n",
        "    Scalar loss Tensor.\n",
        "  \"\"\"\n",
        "  student_subclass_logits = fc_model(images, training=True)\n",
        "\n",
        "  # Compute subclass distillation loss between student subclass logits and\n",
        "  # softened teacher subclass targets probabilities.\n",
        "\n",
        "  # your code start from here for step 3\n",
        "\n",
        "  teacher_subclass_logits = cnn_model(images, training=False)\n",
        "  distillation_loss_value = distillation_loss(teacher_subclass_logits, student_subclass_logits, DISTILLATION_TEMPERATURE)\n",
        "\n",
        "  # Compute cross-entropy loss with hard targets.\n",
        "\n",
        "  # your code start from here for step 3\n",
        "\n",
        "  cross_entropy_loss_value = tf.reduce_mean(\n",
        "        tf.nn.softmax_cross_entropy_with_logits(labels=labels, logits=student_subclass_logits))\n",
        "\n",
        "  total_loss = ALPHA * cross_entropy_loss_value + (1. - ALPHA) * distillation_loss_value\n",
        "\n",
        "  return total_loss"
      ]
    },
    {
      "cell_type": "markdown",
      "metadata": {
        "id": "RJ1uyvurQ3w4"
      },
      "source": [
        "# Train and evaluation"
      ]
    },
    {
      "cell_type": "code",
      "execution_count": null,
      "metadata": {
        "id": "EtoLbp8uQ4Vl"
      },
      "outputs": [],
      "source": [
        "@tf.function\n",
        "def compute_num_correct(model, images, labels):\n",
        "  \"\"\"Compute number of correctly classified images in a batch.\n",
        "\n",
        "  Args:\n",
        "    model: Instance of tf.keras.Model.\n",
        "    images: Tensor representing a batch of images.\n",
        "    labels: Tensor representing a batch of labels.\n",
        "\n",
        "  Returns:\n",
        "    Number of correctly classified images.\n",
        "  \"\"\"\n",
        "  class_logits = model(images, training=False)\n",
        "  return tf.reduce_sum(\n",
        "      tf.cast(tf.math.equal(tf.argmax(class_logits, -1), tf.argmax(labels, -1)),\n",
        "              tf.float32)), tf.argmax(class_logits, -1), tf.argmax(labels, -1)\n",
        "\n",
        "\n",
        "def train_and_evaluate(model, compute_loss_fn):\n",
        "  \"\"\"Perform training and evaluation for a given model.\n",
        "\n",
        "  Args:\n",
        "    model: Instance of tf.keras.Model.\n",
        "    compute_loss_fn: A function that computes the training loss given the\n",
        "      images, and labels.\n",
        "  \"\"\"\n",
        "\n",
        "  # your code start from here for step 4\n",
        "  optimizer = tf.keras.optimizers.Adam(learning_rate=0.001)\n",
        "\n",
        "  for epoch in range(1, NUM_EPOCHS + 1):\n",
        "    # Run training.\n",
        "    print('Epoch {}: '.format(epoch), end='')\n",
        "    for images, labels in mnist_train:\n",
        "      with tf.GradientTape() as tape:\n",
        "         # your code start from here for step 4\n",
        "        loss_value = compute_loss_fn(images, labels)\n",
        "\n",
        "      grads = tape.gradient(loss_value, model.trainable_variables)\n",
        "\n",
        "      optimizer.apply_gradients(zip(grads, model.trainable_variables))\n",
        "\n",
        "    # Run evaluation.\n",
        "    num_correct = 0\n",
        "    num_total = builder.info.splits['test'].num_examples\n",
        "    for images, labels in mnist_test:\n",
        "      # your code start from here for step 4\n",
        "      correct_predictions, _, _ = compute_num_correct(model, images, labels)\n",
        "      num_correct += correct_predictions.numpy()\n",
        "\n",
        "    print(\"Class_accuracy: \" + '{:.2f}%'.format(\n",
        "        num_correct / num_total * 100))\n",
        "  return num_correct / num_total * 100\n"
      ]
    },
    {
      "cell_type": "markdown",
      "metadata": {
        "id": "NQL1lJdaRPT1"
      },
      "source": [
        "# Training models"
      ]
    },
    {
      "cell_type": "code",
      "execution_count": null,
      "metadata": {
        "id": "-AGHbyABRPz3",
        "colab": {
          "base_uri": "https://localhost:8080/"
        },
        "outputId": "495b9aa7-d788-45c1-e6c0-581e498c9408"
      },
      "outputs": [
        {
          "output_type": "stream",
          "name": "stdout",
          "text": [
            "Training the teacher model\n",
            "Epoch 1: "
          ]
        },
        {
          "output_type": "stream",
          "name": "stderr",
          "text": [
            "WARNING:tensorflow:5 out of the last 5 calls to <function _BaseOptimizer._update_step_xla at 0x799e2425d120> triggered tf.function retracing. Tracing is expensive and the excessive number of tracings could be due to (1) creating @tf.function repeatedly in a loop, (2) passing tensors with different shapes, (3) passing Python objects instead of tensors. For (1), please define your @tf.function outside of the loop. For (2), @tf.function has reduce_retracing=True option that can avoid unnecessary retracing. For (3), please refer to https://www.tensorflow.org/guide/function#controlling_retracing and https://www.tensorflow.org/api_docs/python/tf/function for  more details.\n",
            "WARNING:tensorflow:6 out of the last 6 calls to <function _BaseOptimizer._update_step_xla at 0x799e2425d120> triggered tf.function retracing. Tracing is expensive and the excessive number of tracings could be due to (1) creating @tf.function repeatedly in a loop, (2) passing tensors with different shapes, (3) passing Python objects instead of tensors. For (1), please define your @tf.function outside of the loop. For (2), @tf.function has reduce_retracing=True option that can avoid unnecessary retracing. For (3), please refer to https://www.tensorflow.org/guide/function#controlling_retracing and https://www.tensorflow.org/api_docs/python/tf/function for  more details.\n"
          ]
        },
        {
          "output_type": "stream",
          "name": "stdout",
          "text": [
            "Class_accuracy: 97.97%\n",
            "Epoch 2: Class_accuracy: 98.54%\n",
            "Epoch 3: Class_accuracy: 98.89%\n",
            "Epoch 4: Class_accuracy: 99.02%\n",
            "Epoch 5: Class_accuracy: 98.91%\n",
            "Epoch 6: Class_accuracy: 98.91%\n",
            "Epoch 7: Class_accuracy: 99.19%\n",
            "Epoch 8: Class_accuracy: 99.13%\n",
            "Epoch 9: Class_accuracy: 99.14%\n",
            "Epoch 10: Class_accuracy: 99.12%\n",
            "Epoch 11: Class_accuracy: 99.22%\n",
            "Epoch 12: Class_accuracy: 99.31%\n",
            "=======================================================\n"
          ]
        }
      ],
      "source": [
        "# your code start from here for step 5\n",
        "print(\"Training the teacher model\")\n",
        "teacher_model = train_and_evaluate(cnn_model,compute_teacher_loss)\n"
      ]
    },
    {
      "cell_type": "code",
      "source": [
        "print(\"=======================================================\")\n",
        "print(\"Training the student model with KD\")\n",
        "student_model = train_and_evaluate(fc_model, compute_student_loss)"
      ],
      "metadata": {
        "colab": {
          "base_uri": "https://localhost:8080/"
        },
        "id": "CPo3AC2iBX04",
        "outputId": "e0547db4-1e34-4315-877c-4ea227e36063"
      },
      "execution_count": null,
      "outputs": [
        {
          "output_type": "stream",
          "name": "stdout",
          "text": [
            "=======================================================\n",
            "Training the student model with KD\n",
            "Epoch 1: Class_accuracy: 98.07%\n",
            "Epoch 2: Class_accuracy: 98.39%\n",
            "Epoch 3: Class_accuracy: 98.62%\n",
            "Epoch 4: Class_accuracy: 98.65%\n",
            "Epoch 5: Class_accuracy: 98.65%\n",
            "Epoch 6: Class_accuracy: 98.78%\n",
            "Epoch 7: Class_accuracy: 98.81%\n",
            "Epoch 8: Class_accuracy: 98.77%\n",
            "Epoch 9: Class_accuracy: 98.80%\n",
            "Epoch 10: Class_accuracy: 98.77%\n",
            "Epoch 11: Class_accuracy: 98.85%\n",
            "Epoch 12: Class_accuracy: 98.79%\n"
          ]
        }
      ]
    },
    {
      "cell_type": "code",
      "source": [
        "\n",
        "print(\"Tune Hyperparameter for the student model\")\n",
        "temperature_set = [1,2,4,16,32,64]\n",
        "alpha_set = [0.2,0.5,0.8]\n",
        "Acc_set = []\n",
        "best_acc = 0\n",
        "best_alpha = 0\n",
        "best_temperature = 0\n",
        "\n",
        "# your code start from here for step 6\n",
        "# Build fully connected student.\n",
        "for a in alpha_set:\n",
        "  for t in temperature_set:\n",
        "        print(f\"=============a:{a}===t:{t}===============\")\n",
        "        # Simulate the creation and training of a model\n",
        "        ALPHA = a\n",
        "        DISTILLATION_TEMPERATURE = t\n",
        "        fc_model = tf.keras.Sequential([\n",
        "          tf.keras.layers.Flatten(),\n",
        "          tf.keras.layers.Dense(784, activation='relu'),\n",
        "          tf.keras.layers.Dense(784, activation='relu'),\n",
        "          tf.keras.layers.Dense(NUM_CLASSES),\n",
        "          ])\n",
        "        test_acc = train_and_evaluate(fc_model, compute_student_loss)\n",
        "        if a == 0.5:\n",
        "          Acc_set.append(test_acc)\n",
        "        if test_acc > best_acc:\n",
        "            best_acc = test_acc\n",
        "            best_alpha = a\n",
        "            best_temperature = t\n",
        "\n",
        "# Output the best accuracy and its corresponding alpha and temperature\n",
        "best_acc, best_alpha, best_temperature\n"
      ],
      "metadata": {
        "colab": {
          "base_uri": "https://localhost:8080/"
        },
        "id": "bNk048_Z-fGM",
        "outputId": "324edd8d-767f-4436-ca67-0b71394b371a"
      },
      "execution_count": null,
      "outputs": [
        {
          "output_type": "stream",
          "name": "stdout",
          "text": [
            "Tune Hyperparameter for the student model\n",
            "=============a:0.2===t:1===============\n",
            "Epoch 1: Class_accuracy: 97.43%\n",
            "Epoch 2: Class_accuracy: 98.05%\n",
            "Epoch 3: Class_accuracy: 98.18%\n",
            "Epoch 4: Class_accuracy: 98.37%\n",
            "Epoch 5: Class_accuracy: 98.55%\n",
            "Epoch 6: Class_accuracy: 98.47%\n",
            "Epoch 7: Class_accuracy: 98.63%\n",
            "Epoch 8: Class_accuracy: 98.60%\n",
            "Epoch 9: Class_accuracy: 98.57%\n",
            "Epoch 10: Class_accuracy: 98.61%\n",
            "Epoch 11: Class_accuracy: 98.58%\n",
            "Epoch 12: Class_accuracy: 98.55%\n",
            "=============a:0.2===t:2===============\n",
            "Epoch 1: Class_accuracy: 97.42%\n",
            "Epoch 2: Class_accuracy: 98.01%\n",
            "Epoch 3: Class_accuracy: 98.28%\n",
            "Epoch 4: Class_accuracy: 98.38%\n",
            "Epoch 5: Class_accuracy: 98.46%\n",
            "Epoch 6: Class_accuracy: 98.39%\n",
            "Epoch 7: Class_accuracy: 98.58%\n",
            "Epoch 8: Class_accuracy: 98.54%\n",
            "Epoch 9: Class_accuracy: 98.66%\n",
            "Epoch 10: Class_accuracy: 98.46%\n",
            "Epoch 11: Class_accuracy: 98.62%\n",
            "Epoch 12: Class_accuracy: 98.62%\n",
            "=============a:0.2===t:4===============\n",
            "Epoch 1: Class_accuracy: 97.36%\n",
            "Epoch 2: Class_accuracy: 98.04%\n",
            "Epoch 3: Class_accuracy: 98.27%\n",
            "Epoch 4: Class_accuracy: 98.35%\n",
            "Epoch 5: Class_accuracy: 98.54%\n",
            "Epoch 6: Class_accuracy: 98.52%\n",
            "Epoch 7: Class_accuracy: 98.53%\n",
            "Epoch 8: Class_accuracy: 98.76%\n",
            "Epoch 9: Class_accuracy: 98.71%\n",
            "Epoch 10: Class_accuracy: 98.60%\n",
            "Epoch 11: Class_accuracy: 98.60%\n",
            "Epoch 12: Class_accuracy: 98.63%\n",
            "=============a:0.2===t:16===============\n",
            "Epoch 1: Class_accuracy: 97.43%\n",
            "Epoch 2: Class_accuracy: 97.92%\n",
            "Epoch 3: Class_accuracy: 98.34%\n",
            "Epoch 4: Class_accuracy: 98.39%\n",
            "Epoch 5: Class_accuracy: 98.38%\n",
            "Epoch 6: Class_accuracy: 98.54%\n",
            "Epoch 7: Class_accuracy: 98.63%\n",
            "Epoch 8: Class_accuracy: 98.70%\n",
            "Epoch 9: Class_accuracy: 98.65%\n",
            "Epoch 10: Class_accuracy: 98.56%\n",
            "Epoch 11: Class_accuracy: 98.72%\n",
            "Epoch 12: Class_accuracy: 98.69%\n",
            "=============a:0.2===t:32===============\n",
            "Epoch 1: Class_accuracy: 97.43%\n",
            "Epoch 2: Class_accuracy: 97.99%\n",
            "Epoch 3: Class_accuracy: 98.22%\n",
            "Epoch 4: Class_accuracy: 98.46%\n",
            "Epoch 5: Class_accuracy: 98.52%\n",
            "Epoch 6: Class_accuracy: 98.51%\n",
            "Epoch 7: Class_accuracy: 98.70%\n",
            "Epoch 8: Class_accuracy: 98.66%\n",
            "Epoch 9: Class_accuracy: 98.65%\n",
            "Epoch 10: Class_accuracy: 98.61%\n",
            "Epoch 11: Class_accuracy: 98.59%\n",
            "Epoch 12: Class_accuracy: 98.66%\n",
            "=============a:0.2===t:64===============\n",
            "Epoch 1: Class_accuracy: 97.29%\n",
            "Epoch 2: Class_accuracy: 98.11%\n",
            "Epoch 3: Class_accuracy: 98.29%\n",
            "Epoch 4: Class_accuracy: 98.55%\n",
            "Epoch 5: Class_accuracy: 98.59%\n",
            "Epoch 6: Class_accuracy: 98.59%\n",
            "Epoch 7: Class_accuracy: 98.69%\n",
            "Epoch 8: Class_accuracy: 98.58%\n",
            "Epoch 9: Class_accuracy: 98.61%\n",
            "Epoch 10: Class_accuracy: 98.66%\n",
            "Epoch 11: Class_accuracy: 98.77%\n",
            "Epoch 12: Class_accuracy: 98.61%\n",
            "=============a:0.5===t:1===============\n",
            "Epoch 1: Class_accuracy: 97.55%\n",
            "Epoch 2: Class_accuracy: 98.24%\n",
            "Epoch 3: Class_accuracy: 98.37%\n",
            "Epoch 4: Class_accuracy: 98.57%\n",
            "Epoch 5: Class_accuracy: 98.68%\n",
            "Epoch 6: Class_accuracy: 98.57%\n",
            "Epoch 7: Class_accuracy: 98.58%\n",
            "Epoch 8: Class_accuracy: 98.63%\n",
            "Epoch 9: Class_accuracy: 98.65%\n",
            "Epoch 10: Class_accuracy: 98.72%\n",
            "Epoch 11: Class_accuracy: 98.75%\n",
            "Epoch 12: Class_accuracy: 98.66%\n",
            "=============a:0.5===t:2===============\n",
            "Epoch 1: Class_accuracy: 97.44%\n",
            "Epoch 2: Class_accuracy: 98.11%\n",
            "Epoch 3: Class_accuracy: 98.36%\n",
            "Epoch 4: Class_accuracy: 98.60%\n",
            "Epoch 5: Class_accuracy: 98.67%\n",
            "Epoch 6: Class_accuracy: 98.55%\n",
            "Epoch 7: Class_accuracy: 98.70%\n",
            "Epoch 8: Class_accuracy: 98.73%\n",
            "Epoch 9: Class_accuracy: 98.66%\n",
            "Epoch 10: Class_accuracy: 98.71%\n",
            "Epoch 11: Class_accuracy: 98.69%\n",
            "Epoch 12: Class_accuracy: 98.66%\n",
            "=============a:0.5===t:4===============\n",
            "Epoch 1: Class_accuracy: 97.56%\n",
            "Epoch 2: Class_accuracy: 98.06%\n",
            "Epoch 3: Class_accuracy: 98.36%\n",
            "Epoch 4: Class_accuracy: 98.36%\n",
            "Epoch 5: Class_accuracy: 98.62%\n",
            "Epoch 6: Class_accuracy: 98.54%\n",
            "Epoch 7: Class_accuracy: 98.68%\n",
            "Epoch 8: Class_accuracy: 98.71%\n",
            "Epoch 9: Class_accuracy: 98.74%\n",
            "Epoch 10: Class_accuracy: 98.84%\n",
            "Epoch 11: Class_accuracy: 98.70%\n",
            "Epoch 12: Class_accuracy: 98.79%\n",
            "=============a:0.5===t:16===============\n",
            "Epoch 1: Class_accuracy: 97.29%\n",
            "Epoch 2: Class_accuracy: 98.04%\n",
            "Epoch 3: Class_accuracy: 98.27%\n",
            "Epoch 4: Class_accuracy: 98.47%\n",
            "Epoch 5: Class_accuracy: 98.50%\n",
            "Epoch 6: Class_accuracy: 98.46%\n",
            "Epoch 7: Class_accuracy: 98.56%\n",
            "Epoch 8: Class_accuracy: 98.65%\n",
            "Epoch 9: Class_accuracy: 98.71%\n",
            "Epoch 10: Class_accuracy: 98.61%\n",
            "Epoch 11: Class_accuracy: 98.62%\n",
            "Epoch 12: Class_accuracy: 98.67%\n",
            "=============a:0.5===t:32===============\n",
            "Epoch 1: Class_accuracy: 97.32%\n",
            "Epoch 2: Class_accuracy: 98.17%\n",
            "Epoch 3: Class_accuracy: 98.45%\n",
            "Epoch 4: Class_accuracy: 98.50%\n",
            "Epoch 5: Class_accuracy: 98.67%\n",
            "Epoch 6: Class_accuracy: 98.64%\n",
            "Epoch 7: Class_accuracy: 98.76%\n",
            "Epoch 8: Class_accuracy: 98.72%\n",
            "Epoch 9: Class_accuracy: 98.74%\n",
            "Epoch 10: Class_accuracy: 98.74%\n",
            "Epoch 11: Class_accuracy: 98.63%\n",
            "Epoch 12: Class_accuracy: 98.74%\n",
            "=============a:0.5===t:64===============\n",
            "Epoch 1: Class_accuracy: 97.53%\n",
            "Epoch 2: Class_accuracy: 98.10%\n",
            "Epoch 3: Class_accuracy: 98.34%\n",
            "Epoch 4: Class_accuracy: 98.51%\n",
            "Epoch 5: Class_accuracy: 98.61%\n",
            "Epoch 6: Class_accuracy: 98.70%\n",
            "Epoch 7: Class_accuracy: 98.63%\n",
            "Epoch 8: Class_accuracy: 98.67%\n",
            "Epoch 9: Class_accuracy: 98.67%\n",
            "Epoch 10: Class_accuracy: 98.63%\n",
            "Epoch 11: Class_accuracy: 98.69%\n",
            "Epoch 12: Class_accuracy: 98.71%\n",
            "=============a:0.8===t:1===============\n",
            "Epoch 1: Class_accuracy: 97.63%\n",
            "Epoch 2: Class_accuracy: 98.34%\n",
            "Epoch 3: Class_accuracy: 98.47%\n",
            "Epoch 4: Class_accuracy: 98.47%\n",
            "Epoch 5: Class_accuracy: 98.51%\n",
            "Epoch 6: Class_accuracy: 98.68%\n",
            "Epoch 7: Class_accuracy: 98.75%\n",
            "Epoch 8: Class_accuracy: 98.68%\n",
            "Epoch 9: Class_accuracy: 98.65%\n",
            "Epoch 10: Class_accuracy: 98.63%\n",
            "Epoch 11: Class_accuracy: 98.65%\n",
            "Epoch 12: Class_accuracy: 98.67%\n",
            "=============a:0.8===t:2===============\n",
            "Epoch 1: Class_accuracy: 97.55%\n",
            "Epoch 2: Class_accuracy: 98.15%\n",
            "Epoch 3: Class_accuracy: 98.34%\n",
            "Epoch 4: Class_accuracy: 98.46%\n",
            "Epoch 5: Class_accuracy: 98.63%\n",
            "Epoch 6: Class_accuracy: 98.55%\n",
            "Epoch 7: Class_accuracy: 98.57%\n",
            "Epoch 8: Class_accuracy: 98.66%\n",
            "Epoch 9: Class_accuracy: 98.65%\n",
            "Epoch 10: Class_accuracy: 98.62%\n",
            "Epoch 11: Class_accuracy: 98.73%\n",
            "Epoch 12: Class_accuracy: 98.69%\n",
            "=============a:0.8===t:4===============\n",
            "Epoch 1: Class_accuracy: 97.56%\n",
            "Epoch 2: Class_accuracy: 98.31%\n",
            "Epoch 3: Class_accuracy: 98.45%\n",
            "Epoch 4: Class_accuracy: 98.39%\n",
            "Epoch 5: Class_accuracy: 98.64%\n",
            "Epoch 6: Class_accuracy: 98.69%\n",
            "Epoch 7: Class_accuracy: 98.69%\n",
            "Epoch 8: Class_accuracy: 98.76%\n",
            "Epoch 9: Class_accuracy: 98.68%\n",
            "Epoch 10: Class_accuracy: 98.72%\n",
            "Epoch 11: Class_accuracy: 98.75%\n",
            "Epoch 12: Class_accuracy: 98.69%\n",
            "=============a:0.8===t:16===============\n",
            "Epoch 1: Class_accuracy: 97.51%\n",
            "Epoch 2: Class_accuracy: 98.20%\n",
            "Epoch 3: Class_accuracy: 98.39%\n",
            "Epoch 4: Class_accuracy: 98.59%\n",
            "Epoch 5: Class_accuracy: 98.62%\n",
            "Epoch 6: Class_accuracy: 98.67%\n",
            "Epoch 7: Class_accuracy: 98.62%\n",
            "Epoch 8: Class_accuracy: 98.77%\n",
            "Epoch 9: Class_accuracy: 98.67%\n",
            "Epoch 10: Class_accuracy: 98.71%\n",
            "Epoch 11: Class_accuracy: 98.85%\n",
            "Epoch 12: Class_accuracy: 98.76%\n",
            "=============a:0.8===t:32===============\n",
            "Epoch 1: Class_accuracy: 97.52%\n",
            "Epoch 2: Class_accuracy: 98.29%\n",
            "Epoch 3: Class_accuracy: 98.51%\n",
            "Epoch 4: Class_accuracy: 98.45%\n",
            "Epoch 5: Class_accuracy: 98.56%\n",
            "Epoch 6: Class_accuracy: 98.66%\n",
            "Epoch 7: Class_accuracy: 98.59%\n",
            "Epoch 8: Class_accuracy: 98.68%\n",
            "Epoch 9: Class_accuracy: 98.66%\n",
            "Epoch 10: Class_accuracy: 98.77%\n",
            "Epoch 11: Class_accuracy: 98.68%\n",
            "Epoch 12: Class_accuracy: 98.67%\n",
            "=============a:0.8===t:64===============\n",
            "Epoch 1: Class_accuracy: 97.61%\n",
            "Epoch 2: Class_accuracy: 98.24%\n",
            "Epoch 3: Class_accuracy: 98.44%\n",
            "Epoch 4: Class_accuracy: 98.50%\n",
            "Epoch 5: Class_accuracy: 98.65%\n",
            "Epoch 6: Class_accuracy: 98.60%\n",
            "Epoch 7: Class_accuracy: 98.63%\n",
            "Epoch 8: Class_accuracy: 98.75%\n",
            "Epoch 9: Class_accuracy: 98.80%\n",
            "Epoch 10: Class_accuracy: 98.75%\n",
            "Epoch 11: Class_accuracy: 98.76%\n",
            "Epoch 12: Class_accuracy: 98.72%\n"
          ]
        },
        {
          "output_type": "execute_result",
          "data": {
            "text/plain": [
              "(98.79, 0.5, 4)"
            ]
          },
          "metadata": {},
          "execution_count": 21
        }
      ]
    },
    {
      "cell_type": "markdown",
      "metadata": {
        "id": "sj1N38fnRTNB"
      },
      "source": [
        "# Test accuracy vs. tempreture curve"
      ]
    },
    {
      "cell_type": "code",
      "execution_count": null,
      "metadata": {
        "id": "gX4dbazrRWIz",
        "colab": {
          "base_uri": "https://localhost:8080/",
          "height": 472
        },
        "outputId": "6937d878-78ec-4412-8d20-ba7b9dfb794e"
      },
      "outputs": [
        {
          "output_type": "display_data",
          "data": {
            "text/plain": [
              "<Figure size 640x480 with 1 Axes>"
            ],
            "image/png": "[encoded data removed]"
          },
          "metadata": {}
        }
      ],
      "source": [
        "# your code start from here for step 6\n",
        "import matplotlib.pyplot as plt\n",
        "plt.plot(temperature_set, Acc_set)\n",
        "\n",
        "plt.xticks(temperature_set)\n",
        "plt.xlabel('Temperature')\n",
        "plt.ylabel('Accuracy')\n",
        "plt.title('Accuracy vs. Temperature ')\n",
        "plt.show()"
      ]
    },
    {
      "cell_type": "markdown",
      "metadata": {
        "id": "WNrH_1emRbGA"
      },
      "source": [
        "# Train student from scratch"
      ]
    },
    {
      "cell_type": "code",
      "execution_count": null,
      "metadata": {
        "id": "HjospsxIRbQ6",
        "colab": {
          "base_uri": "https://localhost:8080/"
        },
        "outputId": "1d48d970-23cf-4988-f595-8b4fcc5e13f9"
      },
      "outputs": [
        {
          "output_type": "stream",
          "name": "stdout",
          "text": [
            "Epoch 1: Class_accuracy: 96.73%\n",
            "Epoch 2: Class_accuracy: 97.57%\n",
            "Epoch 3: Class_accuracy: 97.95%\n",
            "Epoch 4: Class_accuracy: 97.09%\n",
            "Epoch 5: Class_accuracy: 98.05%\n",
            "Epoch 6: Class_accuracy: 98.09%\n",
            "Epoch 7: Class_accuracy: 98.06%\n",
            "Epoch 8: Class_accuracy: 98.14%\n",
            "Epoch 9: Class_accuracy: 97.90%\n",
            "Epoch 10: Class_accuracy: 98.29%\n",
            "Epoch 11: Class_accuracy: 97.84%\n",
            "Epoch 12: Class_accuracy: 98.10%\n"
          ]
        },
        {
          "output_type": "execute_result",
          "data": {
            "text/plain": [
              "98.1"
            ]
          },
          "metadata": {},
          "execution_count": 24
        }
      ],
      "source": [
        "# best hyperparameter to run\n",
        "\n",
        "# Build fully connected student.\n",
        "fc_model_no_distillation = tf.keras.Sequential()\n",
        "\n",
        "# your code start from here for step 7\n",
        "fc_model_no_distillation.add(tf.keras.layers.Flatten())\n",
        "fc_model_no_distillation.add(tf.keras.layers.Dense(784,activation = 'relu'))\n",
        "fc_model_no_distillation.add(tf.keras.layers.Dense(784, activation='relu'))\n",
        "fc_model_no_distillation.add(tf.keras.layers.Dense(NUM_CLASSES))\n",
        "\n",
        "#@test {\"output\": \"ignore\"}\n",
        "\n",
        "def compute_plain_cross_entropy_loss(images, labels):\n",
        "  \"\"\"Compute plain loss for given images and labels.\n",
        "\n",
        "  For fair comparison and convenience, this function also performs a\n",
        "  LogSumExp over subclasses, but does not perform subclass distillation.\n",
        "\n",
        "  Args:\n",
        "    images: Tensor representing a batch of images.\n",
        "    labels: Tensor representing a batch of labels.\n",
        "\n",
        "  Returns:\n",
        "    Scalar loss Tensor.\n",
        "  \"\"\"\n",
        "  # your code start from here for step 7\n",
        "\n",
        "  student_subclass_logits = fc_model_no_distillation(images, training=True)\n",
        "  cross_entropy_loss = tf.reduce_mean(tf.nn.softmax_cross_entropy_with_logits(\n",
        "          labels, student_subclass_logits))\n",
        "\n",
        "  return cross_entropy_loss\n",
        "\n",
        "\n",
        "train_and_evaluate(fc_model_no_distillation, compute_plain_cross_entropy_loss)"
      ]
    },
    {
      "cell_type": "markdown",
      "metadata": {
        "id": "yq3JTpQ4RuhR"
      },
      "source": [
        "# Comparing the teacher and student model (number of of parameters and FLOPs)"
      ]
    },
    {
      "cell_type": "markdown",
      "source": [
        "### This is the number of parameters comparison"
      ],
      "metadata": {
        "id": "ENHwnCgoB12W"
      }
    },
    {
      "cell_type": "code",
      "execution_count": null,
      "metadata": {
        "id": "4V8GB2yRRuxF",
        "colab": {
          "base_uri": "https://localhost:8080/"
        },
        "outputId": "043c6a9c-5714-4536-80cb-925035270837"
      },
      "outputs": [
        {
          "output_type": "stream",
          "name": "stdout",
          "text": [
            "The Teacher Model Summary:\n",
            "Model: \"sequential_1\"\n",
            "_________________________________________________________________\n",
            " Layer (type)                Output Shape              Param #   \n",
            "=================================================================\n",
            " conv2d (Conv2D)             (None, 26, 26, 32)        320       \n",
            "                                                                 \n",
            " max_pooling2d (MaxPooling2  (None, 25, 25, 32)        0         \n",
            " D)                                                              \n",
            "                                                                 \n",
            " conv2d_1 (Conv2D)           (None, 23, 23, 64)        18496     \n",
            "                                                                 \n",
            " max_pooling2d_1 (MaxPoolin  (None, 11, 11, 64)        0         \n",
            " g2D)                                                            \n",
            "                                                                 \n",
            " flatten (Flatten)           (None, 7744)              0         \n",
            "                                                                 \n",
            " dropout (Dropout)           (None, 7744)              0         \n",
            "                                                                 \n",
            " dense (Dense)               (None, 128)               991360    \n",
            "                                                                 \n",
            " dropout_1 (Dropout)         (None, 128)               0         \n",
            "                                                                 \n",
            " dense_1 (Dense)             (None, 10)                1290      \n",
            "                                                                 \n",
            "=================================================================\n",
            "Total params: 1011466 (3.86 MB)\n",
            "Trainable params: 1011466 (3.86 MB)\n",
            "Non-trainable params: 0 (0.00 Byte)\n",
            "_________________________________________________________________\n",
            "=======================================================\n",
            "The Student Model Summary:\n",
            "Model: \"sequential_24\"\n",
            "_________________________________________________________________\n",
            " Layer (type)                Output Shape              Param #   \n",
            "=================================================================\n",
            " flatten_23 (Flatten)        (None, 784)               0         \n",
            "                                                                 \n",
            " dense_68 (Dense)            (None, 784)               615440    \n",
            "                                                                 \n",
            " dense_69 (Dense)            (None, 784)               615440    \n",
            "                                                                 \n",
            " dense_70 (Dense)            (None, 10)                7850      \n",
            "                                                                 \n",
            "=================================================================\n",
            "Total params: 1238730 (4.73 MB)\n",
            "Trainable params: 1238730 (4.73 MB)\n",
            "Non-trainable params: 0 (0.00 Byte)\n",
            "_________________________________________________________________\n",
            "The Student Model without distillation Summary:\n",
            "Model: \"sequential_25\"\n",
            "_________________________________________________________________\n",
            " Layer (type)                Output Shape              Param #   \n",
            "=================================================================\n",
            " flatten_24 (Flatten)        (None, 784)               0         \n",
            "                                                                 \n",
            " dense_71 (Dense)            (None, 784)               615440    \n",
            "                                                                 \n",
            " dense_72 (Dense)            (None, 784)               615440    \n",
            "                                                                 \n",
            " dense_73 (Dense)            (None, 10)                7850      \n",
            "                                                                 \n",
            "=================================================================\n",
            "Total params: 1238730 (4.73 MB)\n",
            "Trainable params: 1238730 (4.73 MB)\n",
            "Non-trainable params: 0 (0.00 Byte)\n",
            "_________________________________________________________________\n"
          ]
        }
      ],
      "source": [
        "\n",
        "# your code start from here for step 8\n",
        "print(\"The Teacher Model Summary:\")\n",
        "cnn_model.summary()\n",
        "print(\"=======================================================\")\n",
        "print(\"The Student Model Summary:\")\n",
        "fc_model.summary()\n",
        "print(f\"The Student Model without distillation Summary:\")\n",
        "fc_model_no_distillation.summary()\n"
      ]
    },
    {
      "cell_type": "markdown",
      "source": [
        "### This is the FLOP comparing part\n",
        "citation: Tokusumi (2020). flops_calculation.py.  keras_flops.https://github.com/tokusumi/keras-flops/blob/master/keras_flops/flops_calculation.py"
      ],
      "metadata": {
        "id": "EQITQOOpCDc8"
      }
    },
    {
      "cell_type": "code",
      "source": [
        "\n",
        "from tensorflow.python.framework.convert_to_constants import convert_variables_to_constants_v2_as_graph\n",
        "\n",
        "def get_flops(model, batch_size=None):\n",
        "    if batch_size is None:\n",
        "        batch_size = 1\n",
        "\n",
        "    # Wrap the model's call function in a tf.function\n",
        "    @tf.function\n",
        "    def model_forward(input_data):\n",
        "        return model(input_data)\n",
        "\n",
        "    # Get a concrete function\n",
        "    real_model = model_forward.get_concrete_function(tf.TensorSpec([batch_size] + model.inputs[0].shape[1:], model.inputs[0].dtype))\n",
        "\n",
        "    frozen_func, graph_def = convert_variables_to_constants_v2_as_graph(real_model)\n",
        "\n",
        "    run_meta = tf.compat.v1.RunMetadata()\n",
        "    opts = tf.compat.v1.profiler.ProfileOptionBuilder.float_operation()\n",
        "    flops = tf.compat.v1.profiler.profile(graph=frozen_func.graph,\n",
        "                                          run_meta=run_meta, cmd='op', options=opts)\n",
        "    return flops.total_float_ops\n",
        "print(\"\\n=================================================\")\n",
        "print(\"==============Teacher Model==============\")\n",
        "print(\"=================================================\")\n",
        "model = cnn_model\n",
        "\n",
        "flops = get_flops(model, 1)\n",
        "print(f\"FLOPS: {flops}\")\n",
        "print(\"\\n=================================================\")\n",
        "print(\"==============Student Model==============\")\n",
        "print(\"=================================================\")\n",
        "model = fc_model\n",
        "\n",
        "flops = get_flops(model, 1)\n",
        "print(f\"FLOPS: {flops}\")\n",
        "print(\"\\n=================================================\")\n",
        "print(\"======Student Model from Scratch=======\")\n",
        "print(\"=================================================\")\n",
        "model = fc_model_no_distillation\n",
        "\n",
        "flops = get_flops(fc_model_no_distillation, 1)\n",
        "print(f\"FLOPS: {flops}\")\n"
      ],
      "metadata": {
        "colab": {
          "base_uri": "https://localhost:8080/"
        },
        "id": "JXhMQPxIrL0E",
        "outputId": "bce6b91c-1e89-428f-db78-d37e8e247f89"
      },
      "execution_count": null,
      "outputs": [
        {
          "output_type": "stream",
          "name": "stdout",
          "text": [
            "\n",
            "=================================================\n",
            "==============Teacher Model==============\n",
            "=================================================\n"
          ]
        },
        {
          "output_type": "stream",
          "name": "stderr",
          "text": [
            "WARNING:tensorflow:From /usr/local/lib/python3.10/dist-packages/tensorflow/python/ops/nn_ops.py:5253: tensor_shape_from_node_def_name (from tensorflow.python.framework.graph_util_impl) is deprecated and will be removed in a future version.\n",
            "Instructions for updating:\n",
            "This API was designed for TensorFlow v1. See https://www.tensorflow.org/guide/migrate for instructions on how to migrate your code to TensorFlow v2.\n"
          ]
        },
        {
          "output_type": "stream",
          "name": "stdout",
          "text": [
            "FLOPS: 22042058\n",
            "\n",
            "=================================================\n",
            "==============Student Model==============\n",
            "=================================================\n",
            "FLOPS: 2475882\n",
            "\n",
            "=================================================\n",
            "======Student Model from Scratch=======\n",
            "=================================================\n",
            "FLOPS: 2475882\n"
          ]
        }
      ]
    },
    {
      "cell_type": "markdown",
      "source": [
        "#Implementing the state-of-the-art KD algorithm (part a)\n",
        "Choose paper of citation 15: Subclass_Knowledge_Distillation_with_Known_Subclass_Labels.pdf\n",
        "using the skd"
      ],
      "metadata": {
        "id": "OyvgJolBGPrF"
      }
    },
    {
      "cell_type": "code",
      "source": [
        "import time\n",
        "def preprocess(x):\n",
        "  image = tf.image.convert_image_dtype(x['image'], tf.float32)\n",
        "  subclass_labels = tf.one_hot(x['label'], 4 * builder.info.features['label'].num_classes)\n",
        "  return image, subclass_labels\n",
        "\n",
        "def preprocess_test(x):\n",
        "  image = tf.image.convert_image_dtype(x['image'], tf.float32)\n",
        "  subclass_labels = tf.one_hot(x['label'], builder.info.features['label'].num_classes)\n",
        "  return image, subclass_labels\n",
        "\n",
        "mnist_train = tfds.load('mnist', split='train', shuffle_files=False).cache()\n",
        "mnist_train = mnist_train.map(preprocess)\n",
        "mnist_train = mnist_train.shuffle(builder.info.splits['train'].num_examples)\n",
        "mnist_train = mnist_train.batch(BATCH_SIZE, drop_remainder=True)\n",
        "\n",
        "mnist_test = tfds.load('mnist', split='test').cache()\n",
        "mnist_test = mnist_test.map(preprocess_test).batch(BATCH_SIZE)"
      ],
      "metadata": {
        "id": "Vv5eX4pUGveA"
      },
      "execution_count": null,
      "outputs": []
    },
    {
      "cell_type": "code",
      "source": [
        "# Build CNN teacher.\n",
        "cnn_model = tf.keras.Sequential()\n",
        "\n",
        "# your code start from here for stpe 2\n",
        "cnn_model = tf.keras.Sequential([\n",
        "    tf.keras.layers.Conv2D(32, (3, 3),strides=1, activation='relu', input_shape=(28, 28, 1)),\n",
        "    tf.keras.layers.MaxPooling2D((2, 2),strides = (1,1),padding='valid'),\n",
        "    tf.keras.layers.Conv2D(64, (3, 3), strides=1,activation='relu'),\n",
        "    tf.keras.layers.MaxPooling2D((2, 2),strides = (2,2),padding='valid'),\n",
        "    tf.keras.layers.Flatten(),\n",
        "    tf.keras.layers.Dropout(0.5),\n",
        "    tf.keras.layers.Dense(128, activation='relu'),\n",
        "    tf.keras.layers.Dropout(0.5),\n",
        "    tf.keras.layers.Dense(NUM_CLASSES*4)\n",
        "])\n",
        "\n",
        "\n",
        "\n",
        "# Build fully connected student.\n",
        "\n",
        "# your code start from here for step 2\n",
        "fc_model = tf.keras.Sequential([\n",
        "    tf.keras.layers.Flatten(),\n",
        "    tf.keras.layers.Dense(784, activation='relu'),\n",
        "    tf.keras.layers.Dense(784, activation='relu'),\n",
        "    tf.keras.layers.Dense(NUM_CLASSES*4)\n",
        "])"
      ],
      "metadata": {
        "id": "k9BotjrCG-Vg"
      },
      "execution_count": null,
      "outputs": []
    },
    {
      "cell_type": "code",
      "source": [
        "def compute_teacher_loss(images, labels, BETA=0.5, T=1.0):\n",
        "    subclass_logits = cnn_model(images, training=True)\n",
        "\n",
        "    # Compute the softmax cross-entropy loss\n",
        "    cross_entropy_loss_value = tf.nn.softmax_cross_entropy_with_logits(labels=labels, logits=subclass_logits)\n",
        "\n",
        "    # Normalize the logits\n",
        "    v_norm = tf.math.l2_normalize(subclass_logits, axis=1)\n",
        "\n",
        "    # Compute the dot product matrix using matrix multiplication\n",
        "    dot_product_matrix = tf.matmul(v_norm, tf.transpose(v_norm))\n",
        "\n",
        "    # Compute the loss matrix\n",
        "    loss_mat = tf.exp(dot_product_matrix / T)\n",
        "\n",
        "    # Compute the auxiliary loss\n",
        "    loss_aux = tf.reduce_mean(tf.math.log(tf.reduce_sum(loss_mat, axis=1))) - (1.0 / T) - tf.math.log(tf.cast(tf.shape(subclass_logits)[0], tf.float32))\n",
        "\n",
        "    # Compute the final loss\n",
        "    loss = cross_entropy_loss_value + BETA * loss_aux\n",
        "\n",
        "    return loss\n",
        "def distillation_loss(teacher_logits: tf.Tensor, student_logits: tf.Tensor,\n",
        "                      temperature: Union[float, tf.Tensor]):\n",
        "  soft_targets = tf.nn.softmax(teacher_logits / temperature)\n",
        "\n",
        "  return tf.reduce_mean(\n",
        "      tf.keras.losses.categorical_crossentropy(soft_targets, student_logits / temperature, from_logits=True)\n",
        "  ) * temperature ** 2\n",
        "\n",
        "\n",
        "def compute_student_loss(images, labels):\n",
        "  student_subclass_logits = fc_model(images, training=True)\n",
        "  teacher_subclass_logits = cnn_model(images, training=False)\n",
        "  distillation_loss_value = distillation_loss(teacher_subclass_logits,student_subclass_logits,DISTILLATION_TEMPERATURE)\n",
        "\n",
        "  # Compute cross-entropy loss with hard targets.\n",
        "\n",
        "  # your code start from here for step 3\n",
        "  cross_entropy_loss_value = tf.keras.losses.categorical_crossentropy(labels, student_subclass_logits,  from_logits=True)\n",
        "  loss= ALPHA*distillation_loss_value + (1-ALPHA)* cross_entropy_loss_value\n",
        "  return loss"
      ],
      "metadata": {
        "id": "j5PovPjeHBEK"
      },
      "execution_count": null,
      "outputs": []
    },
    {
      "cell_type": "code",
      "source": [
        "@tf.function\n",
        "\n",
        "def compute_num_correct(model, images, labels):\n",
        "  \"\"\"Compute number of correctly classified images in a batch.\n",
        "\n",
        "  Args:\n",
        "    model: Instance of tf.keras.Model.\n",
        "    images: Tensor representing a batch of images.\n",
        "    labels: Tensor representing a batch of labels.\n",
        "\n",
        "  Returns:\n",
        "    Number of correctly classified images.\n",
        "  \"\"\"\n",
        "  pred_labels = model(images, training=False)\n",
        "  value= tf.reduce_sum(\n",
        "      tf.cast(tf.math.equal(tf.argmax(pred_labels, -1), tf.argmax(labels, -1)),\n",
        "              tf.float32)), tf.argmax(pred_labels, -1), tf.argmax(labels, -1)\n",
        "  return value\n",
        "\n",
        "\n",
        "def train_and_evaluate(model, compute_loss_fn):\n",
        "  \"\"\"Perform training and evaluation for a given model.\n",
        "\n",
        "  Args:\n",
        "    model: Instance of tf.keras.Model.\n",
        "    compute_loss_fn: A function that computes the training loss given the\n",
        "      images, and labels.\n",
        "  \"\"\"\n",
        "\n",
        "  optimizer = tf.optimizers.Adam(learning_rate=0.001)\n",
        "  accuracy_matrix={}\n",
        "  time_matrix=[]\n",
        "  for epoch in range(1, NUM_EPOCHS + 1):\n",
        "    # Run training.\n",
        "    start_time = time.time()\n",
        "    print('Epoch {}: '.format(epoch), end='')\n",
        "    for images, labels in mnist_train:\n",
        "      with tf.GradientTape() as tape:\n",
        "         # your code start from here for step 4\n",
        "        loss_value = compute_loss_fn(images,labels)\n",
        "\n",
        "      grads = tape.gradient(loss_value, model.trainable_variables)\n",
        "      optimizer.apply_gradients(zip(grads, model.trainable_variables))\n",
        "\n",
        "    # Run evaluation.\n",
        "    num_correct = 0\n",
        "    num_total = builder.info.splits['test'].num_examples\n",
        "    for images, labels in mnist_test:\n",
        "      num,a, b = compute_num_correct(model, images, labels)\n",
        "      num_correct += num\n",
        "    print(\"Class_accuracy: \" + '{:.2f}%'.format(\n",
        "        num_correct / num_total * 100))\n",
        "    accuracy_matrix.update({\"Student Accuracy\": num_correct / num_total * 100})\n",
        "    epoch_time = time.time() - start_time\n",
        "    time_matrix.append(epoch_time)\n",
        "    print(\"Total time per epoch: {0:.2f} seconds\".format(epoch_time))\n",
        "  total_time = np.sum(time_matrix)\n",
        "  print(\"Total time of training this model: {0:.2f} seconds\".format(total_time))\n",
        "\n",
        "  return accuracy_matrix\n"
      ],
      "metadata": {
        "id": "P76m9HWoHHgP"
      },
      "execution_count": null,
      "outputs": []
    },
    {
      "cell_type": "code",
      "source": [
        "ALPHA = 0.5\n",
        "BETA = 0.5\n",
        "DISTILLATION_TEMPERATURE = 4\n",
        "NUM_EPOCHS = 12"
      ],
      "metadata": {
        "id": "xm-X-HX4HVxU"
      },
      "execution_count": null,
      "outputs": []
    },
    {
      "cell_type": "code",
      "source": [
        "teatherrun= train_and_evaluate(cnn_model, compute_teacher_loss)"
      ],
      "metadata": {
        "id": "Br_oynzOHNR8",
        "colab": {
          "base_uri": "https://localhost:8080/"
        },
        "outputId": "5b51df79-afae-473b-a39a-9488ffe3a4eb"
      },
      "execution_count": null,
      "outputs": [
        {
          "output_type": "stream",
          "name": "stdout",
          "text": [
            "Epoch 1: Class_accuracy: 97.86%\n",
            "Total time per epoch: 12.90 seconds\n",
            "Epoch 2: Class_accuracy: 98.57%\n",
            "Total time per epoch: 9.06 seconds\n",
            "Epoch 3: Class_accuracy: 98.78%\n",
            "Total time per epoch: 10.55 seconds\n",
            "Epoch 4: Class_accuracy: 98.86%\n",
            "Total time per epoch: 10.57 seconds\n",
            "Epoch 5: Class_accuracy: 98.91%\n",
            "Total time per epoch: 8.28 seconds\n",
            "Epoch 6: Class_accuracy: 99.01%\n",
            "Total time per epoch: 9.54 seconds\n",
            "Epoch 7: Class_accuracy: 99.11%\n",
            "Total time per epoch: 9.23 seconds\n",
            "Epoch 8: Class_accuracy: 98.97%\n",
            "Total time per epoch: 9.09 seconds\n",
            "Epoch 9: Class_accuracy: 99.10%\n",
            "Total time per epoch: 8.43 seconds\n",
            "Epoch 10: Class_accuracy: 99.13%\n",
            "Total time per epoch: 9.68 seconds\n",
            "Epoch 11: Class_accuracy: 99.11%\n",
            "Total time per epoch: 9.12 seconds\n",
            "Epoch 12: Class_accuracy: 99.15%\n",
            "Total time per epoch: 8.99 seconds\n",
            "Total time of training this model: 115.44 seconds\n"
          ]
        }
      ]
    },
    {
      "cell_type": "code",
      "source": [
        "studentrun = train_and_evaluate(fc_model, compute_student_loss)"
      ],
      "metadata": {
        "id": "bteQWcTxHUkR",
        "colab": {
          "base_uri": "https://localhost:8080/"
        },
        "outputId": "148ed806-5a8c-4cf9-a31e-b7fa44977172"
      },
      "execution_count": null,
      "outputs": [
        {
          "output_type": "stream",
          "name": "stdout",
          "text": [
            "Epoch 1: Class_accuracy: 98.46%\n",
            "Total time per epoch: 8.96 seconds\n",
            "Epoch 2: Class_accuracy: 98.54%\n",
            "Total time per epoch: 9.41 seconds\n",
            "Epoch 3: Class_accuracy: 98.63%\n",
            "Total time per epoch: 9.07 seconds\n",
            "Epoch 4: Class_accuracy: 98.70%\n",
            "Total time per epoch: 9.14 seconds\n",
            "Epoch 5: Class_accuracy: 98.69%\n",
            "Total time per epoch: 8.05 seconds\n",
            "Epoch 6: Class_accuracy: 98.80%\n",
            "Total time per epoch: 8.86 seconds\n",
            "Epoch 7: Class_accuracy: 98.79%\n",
            "Total time per epoch: 8.90 seconds\n",
            "Epoch 8: Class_accuracy: 98.79%\n",
            "Total time per epoch: 10.54 seconds\n",
            "Epoch 9: Class_accuracy: 98.79%\n",
            "Total time per epoch: 8.50 seconds\n",
            "Epoch 10: Class_accuracy: 98.82%\n",
            "Total time per epoch: 9.41 seconds\n",
            "Epoch 11: Class_accuracy: 98.83%\n",
            "Total time per epoch: 9.03 seconds\n",
            "Epoch 12: Class_accuracy: 98.82%\n",
            "Total time per epoch: 8.93 seconds\n",
            "Total time of training this model: 108.80 seconds\n"
          ]
        }
      ]
    },
    {
      "cell_type": "markdown",
      "metadata": {
        "id": "KjwJ5oziRvRn"
      },
      "source": [
        "# Implementing the state-of-the-art KD algorithm (part b)\n",
        "Choose to read the paper with citation 9:\n",
        "Seyed Iman Mirzadeh, Mehrdad Farajtabar, Ang Li, Nir Levine, Akihiro Matsukawa, and Hassan Ghasemzadeh. Improved knowledge distillation via teacher assistant. In Proceedings of the AAAI Conference on Artificial Intelligence, volume 34, pages 5191–5198, 2020"
      ]
    },
    {
      "cell_type": "code",
      "execution_count": null,
      "metadata": {
        "id": "q10lybAFRvZt",
        "colab": {
          "base_uri": "https://localhost:8080/",
          "height": 85,
          "referenced_widgets": [
            "d57f3573abc44a14a5bc7f4e3a405c2d",
            "3376a0bd405e4b1d80c36119c8d2b17a",
            "62d26f5a75a849ed879918d64843d786",
            "a1a94c3d7b3d4c70a7f80c3c02c1e5f8",
            "0872746ee15e49d3bd12f147c0a52c05",
            "019bc36ecc994e83a9317e4ba2aa907f",
            "90c95e3306c541148f1ea4961670eb64",
            "71f013e01de3475b95234fdf6b3d91f3",
            "b4162d15a0e5423193e5991ff02c6e4b",
            "98311903d5e6427eaa257a4af8c00d2b",
            "5154b0340d2e48128bcbbf7febab1a71"
          ]
        },
        "outputId": "06b99b55-c594-406b-f8c5-12582cec6d1b"
      },
      "outputs": [
        {
          "output_type": "stream",
          "name": "stdout",
          "text": [
            "Downloading and preparing dataset 11.06 MiB (download: 11.06 MiB, generated: 21.00 MiB, total: 32.06 MiB) to /root/tensorflow_datasets/mnist/3.0.1...\n"
          ]
        },
        {
          "output_type": "display_data",
          "data": {
            "text/plain": [
              "Dl Completed...:   0%|          | 0/5 [00:00<?, ? file/s]"
            ],
            "application/vnd.jupyter.widget-view+json": {
              "version_major": 2,
              "version_minor": 0,
              "model_id": "d57f3573abc44a14a5bc7f4e3a405c2d"
            }
          },
          "metadata": {}
        },
        {
          "output_type": "stream",
          "name": "stdout",
          "text": [
            "Dataset mnist downloaded and prepared to /root/tensorflow_datasets/mnist/3.0.1. Subsequent calls will reuse this data.\n"
          ]
        }
      ],
      "source": [
        "# your code start from here for step 12\n",
        "import time\n",
        "import numpy as np\n",
        "import tensorflow_datasets as tfds\n",
        "\n",
        "def preprocess(x):\n",
        "  image = tf.image.convert_image_dtype(x['image'], tf.float32)\n",
        "  subclass_labels = tf.one_hot(x['label'], builder.info.features['label'].num_classes)\n",
        "  return image, subclass_labels\n",
        "\n",
        "def preprocess_test(x):\n",
        "  image = tf.image.convert_image_dtype(x['image'], tf.float32)\n",
        "  subclass_labels = tf.one_hot(x['label'], builder.info.features['label'].num_classes)\n",
        "  return image, subclass_labels\n",
        "\n",
        "mnist_train = tfds.load('mnist', split='train', shuffle_files=False).cache()\n",
        "mnist_train = mnist_train.map(preprocess)\n",
        "mnist_train = mnist_train.shuffle(builder.info.splits['train'].num_examples)\n",
        "mnist_train = mnist_train.batch(BATCH_SIZE, drop_remainder=True)\n",
        "\n",
        "mnist_test = tfds.load('mnist', split='test').cache()\n",
        "mnist_test = mnist_test.map(preprocess_test).batch(BATCH_SIZE)"
      ]
    },
    {
      "cell_type": "code",
      "source": [
        "# Teacher model\n",
        "cnn_model_takd = tf.keras.Sequential([\n",
        "    tf.keras.layers.Conv2D(32, (3, 3),strides=1, activation='relu', input_shape=(28, 28, 1)),\n",
        "    tf.keras.layers.MaxPooling2D((2, 2),strides = (1,1),padding='valid'),\n",
        "    tf.keras.layers.Conv2D(64, (3, 3), strides=1,activation='relu'),\n",
        "    tf.keras.layers.MaxPooling2D((2, 2),strides = (2,2),padding='valid'),\n",
        "    tf.keras.layers.Flatten(),\n",
        "    tf.keras.layers.Dropout(0.5),\n",
        "    tf.keras.layers.Dense(128, activation='relu'),\n",
        "    tf.keras.layers.Dropout(0.5),\n",
        "    tf.keras.layers.Dense(NUM_CLASSES)\n",
        "])\n",
        "\n",
        "#TA Model\n",
        "ta_model_takd = tf.keras.Sequential([\n",
        "    tf.keras.layers.Conv2D(32, (3, 3),strides=1, activation='relu', input_shape=(28, 28, 1)),\n",
        "    tf.keras.layers.MaxPooling2D((2, 2),strides = (1,1),padding='valid'),\n",
        "    tf.keras.layers.Conv2D(63, (3, 3),strides=1, activation='relu', input_shape=(28, 28, 1)),\n",
        "    tf.keras.layers.Flatten(),\n",
        "    tf.keras.layers.Dense(784, activation='relu'),\n",
        "    tf.keras.layers.Dense(NUM_CLASSES)\n",
        "])\n",
        "\n",
        "#Student Model\n",
        "fc_model_takd = tf.keras.Sequential([\n",
        "    tf.keras.layers.Flatten(),\n",
        "    tf.keras.layers.Dense(784, activation='relu'),\n",
        "    tf.keras.layers.Dense(784, activation='relu'),\n",
        "    tf.keras.layers.Dense(NUM_CLASSES)\n",
        "])"
      ],
      "metadata": {
        "id": "ZBrOx9r0xKbK"
      },
      "execution_count": null,
      "outputs": []
    },
    {
      "cell_type": "code",
      "source": [
        "#Teacher Loss\n",
        "import torch\n",
        "import torch.nn as nn\n",
        "import torch.nn.functional as F\n",
        "\n",
        "def compute_teacher_loss_takd(images, labels):\n",
        "\n",
        "    subclass_logits = cnn_model_takd(images, training=True)\n",
        "\n",
        "    # # Compute the softmax cross-entropy loss\n",
        "    loss = tf.reduce_mean(tf.nn.softmax_cross_entropy_with_logits(labels,subclass_logits))\n",
        "\n",
        "    return loss"
      ],
      "metadata": {
        "id": "yGnjWK8IxMvr"
      },
      "execution_count": null,
      "outputs": []
    },
    {
      "cell_type": "code",
      "source": [
        "#TA Loss\n",
        "def kl_loss(student_logits, teacher_logits, T):\n",
        "\n",
        "  soft_targets = tf.nn.softmax(teacher_logits / T, axis=1)\n",
        "\n",
        "  return tf.reduce_mean(\n",
        "      tf.nn.softmax_cross_entropy_with_logits(\n",
        "          soft_targets, student_logits / T)) * T ** 2\n",
        "\n",
        "\n",
        "\n",
        "def compute_ta_loss_takd(images, labels, lamb=0.5, T=4):\n",
        "    teacher_logits = cnn_model_takd(images, training=False)\n",
        "    ta_logits = ta_model_takd(images, training = True)\n",
        "\n",
        "    L_kl = kl_loss(ta_logits, teacher_logits, T)\n",
        "    L_ce =  tf.reduce_mean(tf.nn.softmax_cross_entropy_with_logits(labels,ta_logits))\n",
        "    loss =  (1 - lamb) * L_ce + lamb * L_kl\n",
        "    return loss"
      ],
      "metadata": {
        "id": "2Sx6fHa8Xv6W"
      },
      "execution_count": null,
      "outputs": []
    },
    {
      "cell_type": "code",
      "source": [
        "#Student Loss\n",
        "def compute_student_loss_takd(images, labels, lamb=0.5, T=4):\n",
        "    ta_logits = ta_model_takd(images, training=False)\n",
        "    student_logits = fc_model_takd(images, training = True)\n",
        "\n",
        "    L_kl = kl_loss(student_logits, ta_logits, T)\n",
        "    L_ce =  tf.reduce_mean(tf.nn.softmax_cross_entropy_with_logits(labels,student_logits))\n",
        "    loss = (1 - lamb) * L_ce + lamb * L_kl\n",
        "    return loss\n"
      ],
      "metadata": {
        "id": "SDCHu-44xOdj"
      },
      "execution_count": null,
      "outputs": []
    },
    {
      "cell_type": "code",
      "source": [
        "print('Start training TEACHER model')\n",
        "test_acc_teacher = train_and_evaluate(cnn_model_takd, compute_teacher_loss_takd)\n",
        "print('Start training TA model')\n",
        "test_acc_ta = train_and_evaluate(ta_model_takd, compute_ta_loss_takd)\n",
        "print('Start training student model')\n",
        "test_acc_student = train_and_evaluate(fc_model_takd, compute_student_loss_takd)"
      ],
      "metadata": {
        "id": "27A8CrR2xSgX",
        "colab": {
          "base_uri": "https://localhost:8080/"
        },
        "outputId": "2c013b57-3f49-438e-83f3-6a58405f1bf4"
      },
      "execution_count": null,
      "outputs": [
        {
          "output_type": "stream",
          "name": "stdout",
          "text": [
            "Start training TEACHER model\n",
            "Epoch 1: Class_accuracy: 98.09%\n",
            "Epoch 2: Class_accuracy: 98.64%\n",
            "Epoch 3: Class_accuracy: 98.85%\n",
            "Epoch 4: Class_accuracy: 98.83%\n",
            "Epoch 5: Class_accuracy: 99.04%\n",
            "Epoch 6: Class_accuracy: 99.13%\n",
            "Epoch 7: Class_accuracy: 99.05%\n",
            "Epoch 8: Class_accuracy: 99.06%\n",
            "Epoch 9: Class_accuracy: 99.18%\n",
            "Epoch 10: Class_accuracy: 99.15%\n",
            "Epoch 11: Class_accuracy: 99.18%\n",
            "Epoch 12: Class_accuracy: 99.27%\n",
            "Start training TA model\n",
            "Epoch 1: Class_accuracy: 98.72%\n",
            "Epoch 2: Class_accuracy: 99.08%\n",
            "Epoch 3: Class_accuracy: 99.07%\n",
            "Epoch 4: Class_accuracy: 99.19%\n",
            "Epoch 5: Class_accuracy: 99.21%\n",
            "Epoch 6: Class_accuracy: 99.20%\n",
            "Epoch 7: Class_accuracy: 99.20%\n",
            "Epoch 8: Class_accuracy: 99.18%\n",
            "Epoch 9: Class_accuracy: 99.22%\n",
            "Epoch 10: Class_accuracy: 99.17%\n",
            "Epoch 11: Class_accuracy: 99.21%\n",
            "Epoch 12: Class_accuracy: 99.13%\n",
            "Start training student model\n",
            "Epoch 1: Class_accuracy: 96.68%\n",
            "Epoch 2: Class_accuracy: 97.76%\n",
            "Epoch 3: Class_accuracy: 98.27%\n",
            "Epoch 4: Class_accuracy: 98.44%\n",
            "Epoch 5: Class_accuracy: 98.61%\n",
            "Epoch 6: Class_accuracy: 98.53%\n",
            "Epoch 7: Class_accuracy: 98.62%\n",
            "Epoch 8: Class_accuracy: 98.78%\n",
            "Epoch 9: Class_accuracy: 98.70%\n",
            "Epoch 10: Class_accuracy: 98.83%\n",
            "Epoch 11: Class_accuracy: 98.75%\n",
            "Epoch 12: Class_accuracy: 98.76%\n"
          ]
        }
      ]
    },
    {
      "cell_type": "code",
      "source": [
        "fc_model_nokd = tf.keras.Sequential([\n",
        "    tf.keras.layers.Flatten(),\n",
        "    tf.keras.layers.Dense(784, activation='relu'),\n",
        "    tf.keras.layers.Dense(784, activation='relu'),\n",
        "    tf.keras.layers.Dense(NUM_CLASSES)\n",
        "])\n",
        "\n",
        "def csl(images, labels, lamb=0.5, T=4):\n",
        "    ta_logits = cnn_model_takd(images, training=False)\n",
        "    student_logits = fc_model_nokd(images, training = True)\n",
        "\n",
        "    L_kl = kl_loss(student_logits, ta_logits, T)\n",
        "    L_ce =  tf.reduce_mean(tf.nn.softmax_cross_entropy_with_logits(labels,student_logits))\n",
        "    loss = (1 - lamb) * L_ce + lamb * L_kl\n",
        "    return loss\n"
      ],
      "metadata": {
        "id": "o_MQTSZ21Uig"
      },
      "execution_count": null,
      "outputs": []
    },
    {
      "cell_type": "code",
      "source": [
        "print('Start training student model')\n",
        "test_acc_student = train_and_evaluate(fc_model_nokd, csl)"
      ],
      "metadata": {
        "colab": {
          "base_uri": "https://localhost:8080/"
        },
        "id": "_7DeTCOa2fnS",
        "outputId": "e000e211-6473-49b7-d336-79277aeb4614"
      },
      "execution_count": null,
      "outputs": [
        {
          "output_type": "stream",
          "name": "stdout",
          "text": [
            "Start training student model\n",
            "Epoch 1: Class_accuracy: 97.04%\n",
            "Epoch 2: Class_accuracy: 97.77%\n",
            "Epoch 3: Class_accuracy: 98.16%\n",
            "Epoch 4: Class_accuracy: 98.40%\n",
            "Epoch 5: Class_accuracy: 98.49%\n",
            "Epoch 6: Class_accuracy: 98.63%\n",
            "Epoch 7: Class_accuracy: 98.68%\n",
            "Epoch 8: Class_accuracy: 98.67%\n",
            "Epoch 9: Class_accuracy: 98.63%\n",
            "Epoch 10: Class_accuracy: 98.67%\n",
            "Epoch 11: Class_accuracy: 98.69%\n",
            "Epoch 12: Class_accuracy: 98.70%\n"
          ]
        }
      ]
    },
    {
      "cell_type": "markdown",
      "metadata": {
        "id": "6dsOmtqdieIC"
      },
      "source": [
        "# XAI method to explain models\n",
        "ciation: Mohammadi, Seyedmahmoud. \"xai_utils.py.\" ECE1512_2022W_ProjectRepo, GitHub, 2023, https://github.com/RezaMohammadi99/ECE1512_2022W_ProjectRepo_Seyedmahmoud-Mohammadi/blob/main/Project_A/xai_utils.py.\n"
      ]
    },
    {
      "cell_type": "code",
      "source": [
        "\"\"\"\n",
        "Reference:\n",
        "Mohammadi, Seyedmahmoud. \"xai_utils.py.\" ECE1512_2022W_ProjectRepo, GitHub, 2023,\n",
        "https://github.com/RezaMohammadi99/ECE1512_2022W_ProjectRepo_Seyedmahmoud-Mohammadi/blob/main/Project_A/xai_utils.py.\n",
        "\"\"\"\n",
        "import tensorflow.compat.v2 as tf\n",
        "import tensorflow_datasets as tfds\n",
        "from typing import Union\n",
        "\n",
        "tf.enable_v2_behavior()\n",
        "\n",
        "builder = tfds.builder('mnist')\n",
        "BATCH_SIZE = 256\n",
        "NUM_EPOCHS = 12\n",
        "NUM_CLASSES = 10  # 10 total classes.\n",
        "\n",
        "# Load train and test splits.\n",
        "def preprocess(x):\n",
        "  image = tf.image.convert_image_dtype(x['image'], tf.float32)\n",
        "  subclass_labels = tf.one_hot(x['label'], builder.info.features['label'].num_classes)\n",
        "  return image, subclass_labels\n",
        "\n",
        "\n",
        "mnist_train = tfds.load('mnist', split='train', shuffle_files=False).cache()\n",
        "mnist_train = mnist_train.map(preprocess)\n",
        "mnist_train = mnist_train.shuffle(builder.info.splits['train'].num_examples)\n",
        "mnist_train = mnist_train.batch(BATCH_SIZE, drop_remainder=True)\n",
        "\n",
        "mnist_test = tfds.load('mnist', split='test').cache()\n",
        "mnist_test = mnist_test.map(preprocess).batch(BATCH_SIZE)\n",
        "\n"
      ],
      "metadata": {
        "id": "DafJcWhlCObe"
      },
      "execution_count": null,
      "outputs": []
    },
    {
      "cell_type": "code",
      "source": [
        "import cv2\n",
        "from time import time\n",
        "import os\n",
        "import numpy as np\n",
        "import json\n",
        "\n",
        "import tensorflow as tf\n",
        "from tensorflow import keras\n",
        "from scipy.ndimage.interpolation import zoom\n",
        "from tensorflow.keras.preprocessing.image import load_img, img_to_array\n",
        "import tensorflow.keras.backend as K\n",
        "from PIL import Image, ImageDraw\n",
        "\n",
        "import matplotlib.pyplot as plt\n",
        "#############################\n",
        "\n",
        "def layer_finder(k_model, model_arch, pool_input=True):\n",
        "\n",
        "  '''\n",
        "  Returns a list of all of the last layers in each block of the model.\n",
        "\n",
        "    Parameters:\n",
        "      k_model (Keras model): Either a VGG or ResNet\n",
        "      model_arch (str): Either \"VGG\" or \"ResNet\"\n",
        "\n",
        "    Returns:\n",
        "      last_layers (list): A list of all of the last layers in each block of the\n",
        "      model.\n",
        "  '''\n",
        "\n",
        "  if type(model_arch) != str:\n",
        "    raise TypeError(\"Input argument \\\"model_arch\\\" must be a string that is\\\n",
        "                      either \\\"VGG\\\" or \\\"ResNet\\\".\")\n",
        "\n",
        "  last_layers = []\n",
        "  pool_flag=False\n",
        "  block_end_detected=False\n",
        "  first_layer=True\n",
        "  j=0\n",
        "\n",
        "  if model_arch == \"VGG\":\n",
        "\n",
        "    for layer in k_model.layers:\n",
        "      if type(layer) == tf.keras.layers.MaxPool2D:\n",
        "        last_layers.append(layer.name)\n",
        "\n",
        "  elif model_arch == \"ResNet\":\n",
        "\n",
        "\n",
        "    for i in range(len(k_model.layers)):\n",
        "      if i<j: continue\n",
        "      #print(k_model.layers[i])\n",
        "      if len(k_model.layers[i+1].output.get_shape()) < 4:\n",
        "        # only save a layer if the block before the end was a convolutional block\n",
        "            last_layers.append(k_model.layers[i].name)\n",
        "            break\n",
        "\n",
        "      if k_model.layers[i+1].output.get_shape()[2]<k_model.layers[i].output.get_shape()[2]-4:\n",
        "          if pool_input==True:\n",
        "              if type(k_model.layers[i]) == tf.keras.layers.InputLayer: continue\n",
        "              if 'ZeroPadding2D' in str(type(k_model.layers[i])):\n",
        "                  if type(k_model.layers[i-1]) == tf.keras.layers.InputLayer: continue\n",
        "                  last_layers.append(k_model.layers[i-1].name)\n",
        "              else:\n",
        "                  last_layers.append(k_model.layers[i].name)\n",
        "          else:\n",
        "              if first_layer:\n",
        "                  j=i+1\n",
        "                  pool_flag=True\n",
        "                  while(pool_flag):\n",
        "                      j += 1\n",
        "                      #print(str(type(k_model.layers[j])))\n",
        "                      if  'Conv2D' in str(type(k_model.layers[j])):\n",
        "                          #print('Here')\n",
        "                          last_layers.append(k_model.layers[j-1].name)\n",
        "                          first_layer=False\n",
        "                          pool_flag=False\n",
        "              else:\n",
        "                  j=i\n",
        "                  pool_flag=True\n",
        "                  while(pool_flag):\n",
        "                      j += 1\n",
        "                      #print(str(type(k_model.layers[j])))\n",
        "                      if 'merge.Add' in str(type(k_model.layers[j])):\n",
        "                          block_end_detected=True\n",
        "                          #print(j)\n",
        "                      elif block_end_detected==True and 'Conv2D' in str(type(k_model.layers[j])):\n",
        "                          #print('Here')\n",
        "                          last_layers.append(k_model.layers[j-1].name)\n",
        "                          block_end_detected=False\n",
        "                          pool_flag=False\n",
        "  else:\n",
        "\n",
        "    print(\"Input argument \\\"model_arch\\\" must be either \\\"VGG\\\" or \\\"ResNet\\\".\")\n",
        "\n",
        "  return [[lay] for lay in last_layers]\n",
        "def create_random_mask(h=7, w=7, H=224, W=224, p_1=0.5, resample=Image.BILINEAR):\n",
        "    '''\n",
        "    Generates one random mask utilized in RISE\n",
        "    inputs:\n",
        "        h, w: initial size of binary mask\n",
        "        H, W: final size of the upsampled mask\n",
        "        p_1: probability of actiating pixels in the down-sampled masks.\n",
        "        interp: upsampling technique.\n",
        "    returns:\n",
        "        mask: a smooth mask with the values in range [0,1] with size of HxW.\n",
        "    '''\n",
        "    assert H>h, 'Masks should be resized to higher dimensions.'\n",
        "    assert W>w, 'Masks should be resized to higher dimensions.'\n",
        "    # create random binary hxw mask\n",
        "    mask=np.random.choice([0, 1], size=(h, w), p=[1-p_1, p_1])\n",
        "\n",
        "    # upsample mask to (h+H,w+W)\n",
        "    mask = Image.fromarray(mask*255.)\n",
        "    mask = mask.resize((H + h, W + w), resample=resample)\n",
        "    mask = np.array(mask)\n",
        "\n",
        "    # randomly crop mask to HxW\n",
        "    w_crop = np.random.randint(0,w+1)\n",
        "    h_crop = np.random.randint(0,h+1)\n",
        "    mask = mask[h_crop:H + h_crop, w_crop:W + w_crop]\n",
        "\n",
        "    # normalize between 0 and 1\n",
        "    mask /= np.max(mask)\n",
        "\n",
        "    return mask\n",
        "\n",
        "def create_attribution_masks(img, model, layers, class_index, max_mask_num, interp='bilinear'):\n",
        "    '''\n",
        "    Derives feature maps from one, or a couple of layers, and post-processes them\n",
        "    to convert them to attribution masks.\n",
        "\n",
        "    inputs:\n",
        "        img: a 4-D tensor image.\n",
        "        model: the classification model\n",
        "        layers: list of layers to be visualized either individually or mutually.\n",
        "        class_index: the output class according to whom the layer(s) are visualized.\n",
        "        max_mask_num: the threshold \"normalized gradient\" value for sampling attribution masks (\\mu in our paper)\n",
        "        interp: upsampling technique.\n",
        "        For now, 'bilinear' and 'nearest' are supported.\n",
        "    returns:\n",
        "        masks: a set of attribution masks normalized between 0 and 1.\n",
        "    '''\n",
        "    assert interp in ['bilinear', 'nearest'], 'Selected upsampling type undefined or unsupported.'\n",
        "    # Forward pass to get attribution masks.\n",
        "    conv_outputs=[]\n",
        "    for layer in model.layers:\n",
        "        if np.isin(layer.name,layers):\n",
        "            conv_outputs.append(layer.output)\n",
        "    conv_outputs.append(model.output)\n",
        "    feedforward1=keras.models.Model([model.input], [conv_outputs])\n",
        "    with tf.GradientTape() as tape:\n",
        "        ff_results=feedforward1([img])[0]\n",
        "        all_fmap_masks, predictions = ff_results[:-1], ff_results[-1]\n",
        "        loss = predictions[:, class_index]\n",
        "    grads = tape.gradient(loss, all_fmap_masks)\n",
        "    ###\n",
        "\n",
        "    # upsample and normalize masks.\n",
        "    num_masks=0\n",
        "    masks=[]\n",
        "    for i in range(len(layers)):\n",
        "        tmp_mask = all_fmap_masks[i][0].numpy()\n",
        "        if len(img.shape)==3:\n",
        "            axis=0\n",
        "            size=img.shape[1:]\n",
        "            tmp_mask = np.expand_dims(tmp_mask, axis=1)\n",
        "        elif len(img.shape)==4:\n",
        "            axis=(0,1)\n",
        "            size=img.shape[1:-1]\n",
        "        significance = np.mean(grads[i][0], axis=axis)\n",
        "        #idxs = np.argpartition(significance, -1*max_mask_num)[-1*max_mask_num:]\n",
        "        idxs = np.where(significance>max_mask_num*np.max(significance))[0]\n",
        "        if interp == 'bilinear':\n",
        "            fmap = tf.image.resize(tmp_mask[...,idxs], size, method='bilinear').numpy()\n",
        "        elif interp == 'nearest':\n",
        "            fmap = tf.image.resize(tmp_mask[...,idxs], size, method='nearest').numpy()\n",
        "        else: raise ValueError('You have selected an unsupported interpolation type.')\n",
        "\n",
        "        num_masks+=fmap.shape[2]\n",
        "        fmap -= np.min(fmap, axis=(0,1))\n",
        "        fmap /= (np.max(fmap, axis=(0,1))+10e-7)\n",
        "        masks.append(fmap)\n",
        "    return masks\n",
        "\n",
        "def visualize_layers(img, model, class_index, masks, H=224, W=224, C=3, batch_size = 128):\n",
        "    '''\n",
        "    Combines attribution masks using the RISE-based framework mentioned in\n",
        "    SISE white paper.\n",
        "    inputs:\n",
        "        img: a 3-D tensor image.\n",
        "        model: the classification model\n",
        "        class_index: the output class according to whom the layer(s) are visualized.\n",
        "        masks: a set of attribution masks normalized between 0 and 1.\n",
        "    returns:\n",
        "        sum_masks: visualization map of the selected layer(s).\n",
        "    This function follows 'create_attribution_masks()'.\n",
        "    '''\n",
        "    # creates perturbed images to probe model.\n",
        "    img = img if len(img.shape)==3 else np.expand_dims(img, axis=1)\n",
        "    X = np.einsum('hwc,hwn->nhwc', img, masks)\n",
        "    # second forward pass to valuate attribution maps\n",
        "    preds_masked = np.empty([0])\n",
        "    if masks.shape[2] <= batch_size :\n",
        "      preds_masked=np.append(preds_masked, model(X, training=False)[:,class_index],axis=0)\n",
        "    else :\n",
        "      for i in range (0, masks.shape[2]-batch_size, batch_size) :\n",
        "        preds_masked=np.append(preds_masked, model(X[i:i+batch_size], training=False)[:,class_index],axis=0)\n",
        "      preds_masked=np.append(preds_masked, model(X[i+batch_size:], training=False)[:,class_index],axis=0)\n",
        "\n",
        "    # Linear combination of attribution masks.\n",
        "    masks /= (masks.sum(axis=(0,1))+10e-7)\n",
        "    sum_mask = np.einsum('hwn,n->hw', masks, preds_masked)\n",
        "\n",
        "    sum_mask -= np.min(sum_mask)\n",
        "    sum_mask /= np.max(sum_mask)\n",
        "    return sum_mask\n",
        "\n",
        "def otsu(I, nbins=256, tau=1.5):\n",
        "    '''\n",
        "    Finds the optimum adaptive threshold value for a 2-D image.\n",
        "    inputs:\n",
        "        I: a 2-D image (visualization map/ heat-map/ etc.)\n",
        "        nbins: resolution of histogram. Increasing this parameter yields to more\n",
        "        precise threshold value, achieved in longer time.\n",
        "        tau: bottleneck amplititude\n",
        "        returns: Otsu adaptive threshold value\n",
        "    '''\n",
        "    I = np.round(I*nbins)\n",
        "    #histogram of the image\n",
        "    hist, bins = np.histogram(I.ravel(),nbins,[0,nbins])\n",
        "    #CDF/ mean/ variance terms for multiple values\n",
        "    i = np.arange(nbins)\n",
        "    varsb = np.zeros(nbins)\n",
        "    for j in range(1, nbins):\n",
        "        w0 = np.sum(hist[0:j])\n",
        "        w1 = np.sum(hist[j:nbins])\n",
        "        u0 = np.sum(np.multiply(hist[0:j], i[0:j])) / w0\n",
        "        u1 = np.sum(np.multiply(hist[j:nbins], i[j:nbins])) / w1\n",
        "        varsb[j] = w0 * w1 * (u0-u1) * (u0-u1)\n",
        "    # the threshold value is the one maximizing the variance term.\n",
        "    t = np.argmax(varsb)\n",
        "    #print(t)\n",
        "    k = round(t*tau)\n",
        "    if np.sum(hist[int(k):256]) < .1 * np.sum(hist):\n",
        "        #print('happened')\n",
        "        return t*tau/nbins\n",
        "    else:\n",
        "        return t/nbins\n",
        "\n",
        "def otsu_sigmoid(I, nbins=256, T=100., tau=1.5):\n",
        "    '''\n",
        "        Thresholds the 2-D visualization map softly, combining Otsu's method and\n",
        "        sigmoid function.\n",
        "        inputs:\n",
        "            I: a 2-D image (visualization map/ heat-map/ etc.)\n",
        "            nbins: resolution of histogram. Increasing this parameter yields to more\n",
        "            precise threshold value, achieved in longer time.\n",
        "            T: sigmoid temparature (preferred to be set to high values.)\n",
        "        returns:\n",
        "            the soft-thresholded heat-map according to the input.\n",
        "    '''\n",
        "    thr=otsu(I, nbins=256, tau=1.5)\n",
        "    return 1/(1 + np.exp(-(I-thr)*T))\n",
        "\n",
        "def fuse_visualization_maps(exmaps, fusion_type='otsu', T=100.):\n",
        "    '''\n",
        "    Fuses visualization maps to a unique explanation map. Visualization maps should\n",
        "    be given with the correct order (low-level layer to high-level layer)\n",
        "\n",
        "    '''\n",
        "    assert fusion_type in ['simple', 'otsu']\n",
        "    ex=exmaps[0]\n",
        "    if fusion_type=='simple':\n",
        "        for i in range(1, len(exmaps)):\n",
        "            ex += exmaps[i]\n",
        "            ex *= exmaps[i]\n",
        "    elif fusion_type=='otsu':\n",
        "        for i in range(1, len(exmaps)):\n",
        "            ex += exmaps[i]\n",
        "            ex *= otsu_sigmoid(exmaps[i], T=T)\n",
        "    return ex\n",
        "\n",
        "def SISE(img, model, class_index, layers, grad_thr, interp='bilinear',\n",
        "         fusion_type='otsu', T=100.):\n",
        "\n",
        "    '''\n",
        "    For now, this function supports VGG16, ResNet50, and ResNet101.\n",
        "    img: a 4-D image, or a 3-D array.\n",
        "    model: the classification model\n",
        "    layers: list of layers to be visualized either individually or mutually.\n",
        "    interp: upsampling technique.\n",
        "    Check the supproted upsampling types in function 'create_attribution_masks'.\n",
        "\tgrad_thr: Threshold on the average gradient values to select the most appropriate feature maps.\n",
        "    fusion_type: the fusion technipue for visualization maps:\n",
        "        simple: Using only addition and multiplication blocks.\n",
        "        otsu: Using addition, soft otsu threshold, and multiplication blocks.\n",
        "    auto_layer_finder: if 'True', the layers are automatically selected. Otherwise,\n",
        "        pre-defined layers for the models experimented are used.\n",
        "    pool_input_select: If True, the inputs of pooling layers are detected automatically.\n",
        "        Otherwise,  the outputs of pooling layers are detected automatically.\n",
        "        If 'auto_layer_finder=False', this parameter is ineffective.\n",
        "    '''\n",
        "    masks = create_attribution_masks(img, model, layers, class_index=class_index, max_mask_num = grad_thr, interp=interp)\n",
        "    exmaps=[]\n",
        "    for mask_set in masks:\n",
        "        exmaps.append(visualize_layers(img[0], model, class_index, mask_set))\n",
        "    return fuse_visualization_maps(exmaps, fusion_type=fusion_type, T=T)\n",
        "\n",
        "\n",
        "def weighted_fusion(w,exmaps, T=100.):\n",
        "    '''\n",
        "    Objective: weighted fusion using weighted addition, unweighted multiplication, and otsu threshold blocks.\n",
        "    inputs:\n",
        "        w: an array of weight factors of length N-1.\n",
        "        exmaps: a 3-D array of explanation maps of length H x W x N.\n",
        "    parameters:\n",
        "        N: number of visualiation maps received\n",
        "        H x W: size of visualization maps.\n",
        "    outputs:\n",
        "        e_out: fused explanation map.\n",
        "    '''\n",
        "    #w_post=np.maximum(w,0)\n",
        "    w_post=np.clip(a=w, a_min=0, a_max=2)\n",
        "    e23=np.multiply((exmaps[:,:,0]*w_post[0]+exmaps[:,:,1]*(2-w_post[0])),\n",
        "                    otsu_sigmoid(exmaps[:,:,1], T=T))\n",
        "    e234=np.multiply((e23*w_post[1]+exmaps[:,:,2]*(2-w_post[1])),\n",
        "                    otsu_sigmoid(exmaps[:,:,2], T=T))\n",
        "    e2345=np.multiply((e234*w_post[2]+exmaps[:,:,3]*(2-w_post[2])),\n",
        "                    otsu_sigmoid(exmaps[:,:,3], T=T))\n",
        "    e23456=np.multiply((e2345*w_post[3]+exmaps[:,:,4]*(2-w_post[3])),\n",
        "                    otsu_sigmoid(exmaps[:,:,4], T=T))\n",
        "    e_out = e23456\n",
        "    return e_out\n",
        "\n",
        "def grad_cam(input_model, image, layer_name):\n",
        "    cls = np.argmax(input_model.predict(image))\n",
        "    def normalize(x):\n",
        "        \"\"\"Utility function to normalize a tensor by its L2 norm\"\"\"\n",
        "        return (x + 1e-10) / (K.sqrt(K.mean(K.square(x))) + 1e-10)\n",
        "    \"\"\"GradCAM method for visualizing input saliency.\"\"\"\n",
        "    y_c = input_model.output\n",
        "    conv_output = input_model.get_layer(layer_name).output\n",
        "    feedforward1 = keras.models.Model([input_model.input], [conv_output, y_c])\n",
        "    with tf.GradientTape() as tape:\n",
        "        ff_results=feedforward1([image])\n",
        "        all_fmap_masks, predictions = ff_results[0], ff_results[-1]\n",
        "        loss = predictions[:, cls]\n",
        "    grads_val = tape.gradient(loss, all_fmap_masks)\n",
        "    if len(image.shape)==3:\n",
        "        axis=(0, 1)\n",
        "    elif len(image.shape)==4:\n",
        "        axis=(0, 1, 2)\n",
        "    weights = np.mean(grads_val, axis=axis)\n",
        "    cam = np.dot(all_fmap_masks[0], weights)\n",
        "    H,W= image.shape[1:3]\n",
        "    cam = np.maximum(cam, 0)\n",
        "    cam = zoom(cam,H/cam.shape[0])\n",
        "    cam = cam / cam.max()\n",
        "    return cam\n",
        "\n",
        "def RISE(img, model, class_index, N_MASKS=8000, H=224, W=224, C=3):\n",
        "    '''\n",
        "\timg: a 3-D input image\n",
        "\tmodel: a trained model\n",
        "\tclass_index; The class of interest\n",
        "\tN_MASKS: The number of random masks to be generated\n",
        "\tH,W,C: The desired dimensions of the random masks\n",
        "\t'''\n",
        "    X = np.zeros(shape=(N_MASKS, H, W, C), dtype=np.float32)\n",
        "    masks = np.zeros((N_MASKS,H,W), dtype=np.float32)\n",
        "    #for i in tqdm(range(N_MASKS)):\n",
        "    for i in range(N_MASKS):\n",
        "        m =create_random_mask(H=H, W=W)\n",
        "        masks[i] = m\n",
        "        x = img.copy()\n",
        "\n",
        "        x[:, :, 0] *= m\n",
        "        #x[:, :, 1] *= m\n",
        "        #x[:, :, 2] *= m\n",
        "        X[i] = x\n",
        "    preds_masked = model.predict(X, verbose=0)\n",
        "    sum_mask = np.zeros(masks[0].shape, dtype=np.float32)\n",
        "\n",
        "    # np.einsum???\n",
        "    for i, mask in enumerate(masks):\n",
        "        m = mask * preds_masked[i, class_index]\n",
        "        sum_mask += m\n",
        "\n",
        "    sum_mask -= np.min(sum_mask)\n",
        "    sum_mask /= np.max(sum_mask)\n",
        "    return sum_mask"
      ],
      "metadata": {
        "colab": {
          "base_uri": "https://localhost:8080/"
        },
        "id": "oujP8v6JjUSH",
        "outputId": "3bbff005-f85e-4ecb-aac9-8770552980ea"
      },
      "execution_count": null,
      "outputs": [
        {
          "output_type": "stream",
          "name": "stderr",
          "text": [
            "<ipython-input-9-9dd273b1fbe7>:9: DeprecationWarning: Please use `zoom` from the `scipy.ndimage` namespace, the `scipy.ndimage.interpolation` namespace is deprecated.\n",
            "  from scipy.ndimage.interpolation import zoom\n"
          ]
        }
      ]
    },
    {
      "cell_type": "code",
      "source": [
        "\n",
        "k = 0\n",
        "index = 70\n",
        "for next_batch in mnist_train:\n",
        "    #print(np.array(next_batch[0]).shape)   #image\n",
        "    image_batch = next_batch[0]\n",
        "    prediction_teacher = cnn_model.predict(image_batch)\n",
        "    prediction_student = fc_model.predict(image_batch)\n",
        "    label = next_batch[1]\n",
        "    #print(np.array(next_batch[1]).shape)   #label\n",
        "\n",
        "    img = np.array(image_batch[index])\n",
        "\n",
        "    explanation_map_RISE1 = RISE(img, cnn_model, class_index=np.argmax(prediction_teacher[index]) ,N_MASKS=1000,H=28, W=28, C=1)  #\n",
        "    explanation_map_RISE1 -= explanation_map_RISE1.min()\n",
        "    explanation_map_RISE1 /= explanation_map_RISE1.max()+10e-30\n",
        "\n",
        "    explanation_map_RISE2 = RISE(img, fc_model, class_index=np.argmax(prediction_student[index]) ,N_MASKS=1000,H=28, W=28, C=1)\n",
        "    explanation_map_RISE2 -= explanation_map_RISE2.min()\n",
        "    explanation_map_RISE2 /= explanation_map_RISE2.max()+10e-30\n",
        "\n",
        "    explanation_map_RISE3 = RISE(img, fc_model_no_distillation, class_index=np.argmax(prediction_student[index]) ,N_MASKS=1000,H=28, W=28, C=1)\n",
        "    explanation_map_RISE3 -= explanation_map_RISE3.min()\n",
        "    explanation_map_RISE3 /= explanation_map_RISE3.max()+10e-30\n",
        "\n",
        "    plt.figure(figsize=(20,5))\n",
        "    plt.subplot(1,4,1)\n",
        "    plt.imshow(img[:,:,0])\n",
        "    plt.axis('off')\n",
        "    plt.title('Sample image')\n",
        "\n",
        "    plt.subplot(1,4,2)\n",
        "    plt.imshow(img[:,:,0])\n",
        "    plt.imshow(explanation_map_RISE1, cmap='jet', alpha=0.5)\n",
        "    plt.axis('off')\n",
        "    plt.title('Explanation map teacher)')\n",
        "\n",
        "    plt.subplot(1,4,3)\n",
        "    plt.imshow(img[:,:,0])\n",
        "    plt.imshow(explanation_map_RISE2, cmap='jet', alpha=0.5)\n",
        "    plt.axis('off')\n",
        "    plt.title('Explanation map student with KD')\n",
        "\n",
        "    plt.subplot(1,4,4)\n",
        "    plt.imshow(img[:,:,0])\n",
        "    plt.imshow(explanation_map_RISE3, cmap='jet', alpha=0.5)\n",
        "    plt.axis('off')\n",
        "    plt.title('Explanation map student without KD')\n",
        "    plt.show()\n",
        "\n",
        "    k += 1\n",
        "    print(k)\n",
        "    if k == 10:\n",
        "      break\n"
      ],
      "metadata": {
        "id": "Vtc7adPFjVby",
        "colab": {
          "base_uri": "https://localhost:8080/",
          "height": 1000
        },
        "outputId": "2336fcda-d016-4aea-d4d8-531671b53704"
      },
      "execution_count": null,
      "outputs": [
        {
          "output_type": "stream",
          "name": "stdout",
          "text": [
            "8/8 [==============================] - 0s 2ms/step\n",
            "8/8 [==============================] - 0s 2ms/step\n"
          ]
        },
        {
          "output_type": "display_data",
          "data": {
            "text/plain": [
              "<Figure size 2000x500 with 4 Axes>"
            ],
            "image/png": "[encoded data removed]"
          },
          "metadata": {}
        },
        {
          "output_type": "stream",
          "name": "stdout",
          "text": [
            "1\n",
            "8/8 [==============================] - 0s 2ms/step\n",
            "8/8 [==============================] - 0s 2ms/step\n"
          ]
        },
        {
          "output_type": "display_data",
          "data": {
            "text/plain": [
              "<Figure size 2000x500 with 4 Axes>"
            ],
            "image/png": "[encoded data removed]"
          },
          "metadata": {}
        },
        {
          "output_type": "stream",
          "name": "stdout",
          "text": [
            "2\n",
            "8/8 [==============================] - 0s 2ms/step\n",
            "8/8 [==============================] - 0s 2ms/step\n"
          ]
        },
        {
          "output_type": "display_data",
          "data": {
            "text/plain": [
              "<Figure size 2000x500 with 4 Axes>"
            ],
            "image/png": "[encoded data removed]"
          },
          "metadata": {}
        },
        {
          "output_type": "stream",
          "name": "stdout",
          "text": [
            "3\n",
            "8/8 [==============================] - 0s 2ms/step\n",
            "8/8 [==============================] - 0s 2ms/step\n"
          ]
        },
        {
          "output_type": "display_data",
          "data": {
            "text/plain": [
              "<Figure size 2000x500 with 4 Axes>"
            ],
            "image/png": "[encoded data removed]"
          },
          "metadata": {}
        },
        {
          "output_type": "stream",
          "name": "stdout",
          "text": [
            "4\n",
            "8/8 [==============================] - 0s 3ms/step\n",
            "8/8 [==============================] - 0s 2ms/step\n"
          ]
        },
        {
          "output_type": "display_data",
          "data": {
            "text/plain": [
              "<Figure size 2000x500 with 4 Axes>"
            ],
            "image/png": "[encoded data removed]"
          },
          "metadata": {}
        },
        {
          "output_type": "stream",
          "name": "stdout",
          "text": [
            "5\n",
            "8/8 [==============================] - 0s 2ms/step\n",
            "8/8 [==============================] - 0s 2ms/step\n"
          ]
        },
        {
          "output_type": "display_data",
          "data": {
            "text/plain": [
              "<Figure size 2000x500 with 4 Axes>"
            ],
            "image/png": "[encoded data removed]"
          },
          "metadata": {}
        },
        {
          "output_type": "stream",
          "name": "stdout",
          "text": [
            "6\n",
            "8/8 [==============================] - 0s 3ms/step\n",
            "8/8 [==============================] - 0s 2ms/step\n"
          ]
        },
        {
          "output_type": "display_data",
          "data": {
            "text/plain": [
              "<Figure size 2000x500 with 4 Axes>"
            ],
            "image/png": "[encoded data removed]"
          },
          "metadata": {}
        },
        {
          "output_type": "stream",
          "name": "stdout",
          "text": [
            "7\n",
            "8/8 [==============================] - 0s 3ms/step\n",
            "8/8 [==============================] - 0s 2ms/step\n"
          ]
        },
        {
          "output_type": "display_data",
          "data": {
            "text/plain": [
              "<Figure size 2000x500 with 4 Axes>"
            ],
            "image/png": "[encoded data removed]"
          },
          "metadata": {}
        },
        {
          "output_type": "stream",
          "name": "stdout",
          "text": [
            "8\n",
            "8/8 [==============================] - 0s 2ms/step\n",
            "8/8 [==============================] - 0s 2ms/step\n"
          ]
        },
        {
          "output_type": "display_data",
          "data": {
            "text/plain": [
              "<Figure size 2000x500 with 4 Axes>"
            ],
            "image/png": "[encoded data removed]"
          },
          "metadata": {}
        },
        {
          "output_type": "stream",
          "name": "stdout",
          "text": [
            "9\n",
            "8/8 [==============================] - 0s 2ms/step\n",
            "8/8 [==============================] - 0s 2ms/step\n"
          ]
        },
        {
          "output_type": "display_data",
          "data": {
            "text/plain": [
              "<Figure size 2000x500 with 4 Axes>"
            ],
            "image/png": "[encoded data removed]"
          },
          "metadata": {}
        },
        {
          "output_type": "stream",
          "name": "stdout",
          "text": [
            "10\n"
          ]
        }
      ]
    }
  ],
  "metadata": {
    "colab": {
      "provenance": [],
      "gpuType": "T4"
    },
    "kernelspec": {
      "display_name": "Python 3",
      "name": "python3"
    },
    "language_info": {
      "name": "python"
    },
    "accelerator": "GPU",
    "widgets": {
      "application/vnd.jupyter.widget-state+json": {
        "cc5a9926dcba4b57bc216fb46df014e7": {
          "model_module": "@jupyter-widgets/controls",
          "model_name": "HBoxModel",
          "model_module_version": "1.5.0",
          "state": {
            "_dom_classes": [],
            "_model_module": "@jupyter-widgets/controls",
            "_model_module_version": "1.5.0",
            "_model_name": "HBoxModel",
            "_view_count": null,
            "_view_module": "@jupyter-widgets/controls",
            "_view_module_version": "1.5.0",
            "_view_name": "HBoxView",
            "box_style": "",
            "children": [
              "IPY_MODEL_7498e7ee28f849639091ac0a5fe58096",
              "IPY_MODEL_c9908595fb6549469708a3af692b1c55",
              "IPY_MODEL_bf1110b1540340a182ce61ad38e564b2"
            ],
            "layout": "IPY_MODEL_56c9bde7d46349909df9943c98ec1a7f"
          }
        },
        "7498e7ee28f849639091ac0a5fe58096": {
          "model_module": "@jupyter-widgets/controls",
          "model_name": "HTMLModel",
          "model_module_version": "1.5.0",
          "state": {
            "_dom_classes": [],
            "_model_module": "@jupyter-widgets/controls",
            "_model_module_version": "1.5.0",
            "_model_name": "HTMLModel",
            "_view_count": null,
            "_view_module": "@jupyter-widgets/controls",
            "_view_module_version": "1.5.0",
            "_view_name": "HTMLView",
            "description": "",
            "description_tooltip": null,
            "layout": "IPY_MODEL_70f2e48defb6422eaac5d5bf3d70eb75",
            "placeholder": "​",
            "style": "IPY_MODEL_8ff7158acfa4436f99c382854b0e159c",
            "value": "Dl Completed...: 100%"
          }
        },
        "c9908595fb6549469708a3af692b1c55": {
          "model_module": "@jupyter-widgets/controls",
          "model_name": "FloatProgressModel",
          "model_module_version": "1.5.0",
          "state": {
            "_dom_classes": [],
            "_model_module": "@jupyter-widgets/controls",
            "_model_module_version": "1.5.0",
            "_model_name": "FloatProgressModel",
            "_view_count": null,
            "_view_module": "@jupyter-widgets/controls",
            "_view_module_version": "1.5.0",
            "_view_name": "ProgressView",
            "bar_style": "success",
            "description": "",
            "description_tooltip": null,
            "layout": "IPY_MODEL_5c7b8878023346ae9ea4853549ef1db6",
            "max": 5,
            "min": 0,
            "orientation": "horizontal",
            "style": "IPY_MODEL_072340b51183416aa2787ed58d45da8b",
            "value": 5
          }
        },
        "bf1110b1540340a182ce61ad38e564b2": {
          "model_module": "@jupyter-widgets/controls",
          "model_name": "HTMLModel",
          "model_module_version": "1.5.0",
          "state": {
            "_dom_classes": [],
            "_model_module": "@jupyter-widgets/controls",
            "_model_module_version": "1.5.0",
            "_model_name": "HTMLModel",
            "_view_count": null,
            "_view_module": "@jupyter-widgets/controls",
            "_view_module_version": "1.5.0",
            "_view_name": "HTMLView",
            "description": "",
            "description_tooltip": null,
            "layout": "IPY_MODEL_7a7fc56d525b4d20a5c790a0a5c0a734",
            "placeholder": "​",
            "style": "IPY_MODEL_8abca1e93df24e98967f18827d532fd3",
            "value": " 5/5 [00:00&lt;00:00, 12.90 file/s]"
          }
        },
        "56c9bde7d46349909df9943c98ec1a7f": {
          "model_module": "@jupyter-widgets/base",
          "model_name": "LayoutModel",
          "model_module_version": "1.2.0",
          "state": {
            "_model_module": "@jupyter-widgets/base",
            "_model_module_version": "1.2.0",
            "_model_name": "LayoutModel",
            "_view_count": null,
            "_view_module": "@jupyter-widgets/base",
            "_view_module_version": "1.2.0",
            "_view_name": "LayoutView",
            "align_content": null,
            "align_items": null,
            "align_self": null,
            "border": null,
            "bottom": null,
            "display": null,
            "flex": null,
            "flex_flow": null,
            "grid_area": null,
            "grid_auto_columns": null,
            "grid_auto_flow": null,
            "grid_auto_rows": null,
            "grid_column": null,
            "grid_gap": null,
            "grid_row": null,
            "grid_template_areas": null,
            "grid_template_columns": null,
            "grid_template_rows": null,
            "height": null,
            "justify_content": null,
            "justify_items": null,
            "left": null,
            "margin": null,
            "max_height": null,
            "max_width": null,
            "min_height": null,
            "min_width": null,
            "object_fit": null,
            "object_position": null,
            "order": null,
            "overflow": null,
            "overflow_x": null,
            "overflow_y": null,
            "padding": null,
            "right": null,
            "top": null,
            "visibility": null,
            "width": null
          }
        },
        "70f2e48defb6422eaac5d5bf3d70eb75": {
          "model_module": "@jupyter-widgets/base",
          "model_name": "LayoutModel",
          "model_module_version": "1.2.0",
          "state": {
            "_model_module": "@jupyter-widgets/base",
            "_model_module_version": "1.2.0",
            "_model_name": "LayoutModel",
            "_view_count": null,
            "_view_module": "@jupyter-widgets/base",
            "_view_module_version": "1.2.0",
            "_view_name": "LayoutView",
            "align_content": null,
            "align_items": null,
            "align_self": null,
            "border": null,
            "bottom": null,
            "display": null,
            "flex": null,
            "flex_flow": null,
            "grid_area": null,
            "grid_auto_columns": null,
            "grid_auto_flow": null,
            "grid_auto_rows": null,
            "grid_column": null,
            "grid_gap": null,
            "grid_row": null,
            "grid_template_areas": null,
            "grid_template_columns": null,
            "grid_template_rows": null,
            "height": null,
            "justify_content": null,
            "justify_items": null,
            "left": null,
            "margin": null,
            "max_height": null,
            "max_width": null,
            "min_height": null,
            "min_width": null,
            "object_fit": null,
            "object_position": null,
            "order": null,
            "overflow": null,
            "overflow_x": null,
            "overflow_y": null,
            "padding": null,
            "right": null,
            "top": null,
            "visibility": null,
            "width": null
          }
        },
        "8ff7158acfa4436f99c382854b0e159c": {
          "model_module": "@jupyter-widgets/controls",
          "model_name": "DescriptionStyleModel",
          "model_module_version": "1.5.0",
          "state": {
            "_model_module": "@jupyter-widgets/controls",
            "_model_module_version": "1.5.0",
            "_model_name": "DescriptionStyleModel",
            "_view_count": null,
            "_view_module": "@jupyter-widgets/base",
            "_view_module_version": "1.2.0",
            "_view_name": "StyleView",
            "description_width": ""
          }
        },
        "5c7b8878023346ae9ea4853549ef1db6": {
          "model_module": "@jupyter-widgets/base",
          "model_name": "LayoutModel",
          "model_module_version": "1.2.0",
          "state": {
            "_model_module": "@jupyter-widgets/base",
            "_model_module_version": "1.2.0",
            "_model_name": "LayoutModel",
            "_view_count": null,
            "_view_module": "@jupyter-widgets/base",
            "_view_module_version": "1.2.0",
            "_view_name": "LayoutView",
            "align_content": null,
            "align_items": null,
            "align_self": null,
            "border": null,
            "bottom": null,
            "display": null,
            "flex": null,
            "flex_flow": null,
            "grid_area": null,
            "grid_auto_columns": null,
            "grid_auto_flow": null,
            "grid_auto_rows": null,
            "grid_column": null,
            "grid_gap": null,
            "grid_row": null,
            "grid_template_areas": null,
            "grid_template_columns": null,
            "grid_template_rows": null,
            "height": null,
            "justify_content": null,
            "justify_items": null,
            "left": null,
            "margin": null,
            "max_height": null,
            "max_width": null,
            "min_height": null,
            "min_width": null,
            "object_fit": null,
            "object_position": null,
            "order": null,
            "overflow": null,
            "overflow_x": null,
            "overflow_y": null,
            "padding": null,
            "right": null,
            "top": null,
            "visibility": null,
            "width": null
          }
        },
        "072340b51183416aa2787ed58d45da8b": {
          "model_module": "@jupyter-widgets/controls",
          "model_name": "ProgressStyleModel",
          "model_module_version": "1.5.0",
          "state": {
            "_model_module": "@jupyter-widgets/controls",
            "_model_module_version": "1.5.0",
            "_model_name": "ProgressStyleModel",
            "_view_count": null,
            "_view_module": "@jupyter-widgets/base",
            "_view_module_version": "1.2.0",
            "_view_name": "StyleView",
            "bar_color": null,
            "description_width": ""
          }
        },
        "7a7fc56d525b4d20a5c790a0a5c0a734": {
          "model_module": "@jupyter-widgets/base",
          "model_name": "LayoutModel",
          "model_module_version": "1.2.0",
          "state": {
            "_model_module": "@jupyter-widgets/base",
            "_model_module_version": "1.2.0",
            "_model_name": "LayoutModel",
            "_view_count": null,
            "_view_module": "@jupyter-widgets/base",
            "_view_module_version": "1.2.0",
            "_view_name": "LayoutView",
            "align_content": null,
            "align_items": null,
            "align_self": null,
            "border": null,
            "bottom": null,
            "display": null,
            "flex": null,
            "flex_flow": null,
            "grid_area": null,
            "grid_auto_columns": null,
            "grid_auto_flow": null,
            "grid_auto_rows": null,
            "grid_column": null,
            "grid_gap": null,
            "grid_row": null,
            "grid_template_areas": null,
            "grid_template_columns": null,
            "grid_template_rows": null,
            "height": null,
            "justify_content": null,
            "justify_items": null,
            "left": null,
            "margin": null,
            "max_height": null,
            "max_width": null,
            "min_height": null,
            "min_width": null,
            "object_fit": null,
            "object_position": null,
            "order": null,
            "overflow": null,
            "overflow_x": null,
            "overflow_y": null,
            "padding": null,
            "right": null,
            "top": null,
            "visibility": null,
            "width": null
          }
        },
        "8abca1e93df24e98967f18827d532fd3": {
          "model_module": "@jupyter-widgets/controls",
          "model_name": "DescriptionStyleModel",
          "model_module_version": "1.5.0",
          "state": {
            "_model_module": "@jupyter-widgets/controls",
            "_model_module_version": "1.5.0",
            "_model_name": "DescriptionStyleModel",
            "_view_count": null,
            "_view_module": "@jupyter-widgets/base",
            "_view_module_version": "1.2.0",
            "_view_name": "StyleView",
            "description_width": ""
          }
        },
        "d57f3573abc44a14a5bc7f4e3a405c2d": {
          "model_module": "@jupyter-widgets/controls",
          "model_name": "HBoxModel",
          "model_module_version": "1.5.0",
          "state": {
            "_dom_classes": [],
            "_model_module": "@jupyter-widgets/controls",
            "_model_module_version": "1.5.0",
            "_model_name": "HBoxModel",
            "_view_count": null,
            "_view_module": "@jupyter-widgets/controls",
            "_view_module_version": "1.5.0",
            "_view_name": "HBoxView",
            "box_style": "",
            "children": [
              "IPY_MODEL_3376a0bd405e4b1d80c36119c8d2b17a",
              "IPY_MODEL_62d26f5a75a849ed879918d64843d786",
              "IPY_MODEL_a1a94c3d7b3d4c70a7f80c3c02c1e5f8"
            ],
            "layout": "IPY_MODEL_0872746ee15e49d3bd12f147c0a52c05"
          }
        },
        "3376a0bd405e4b1d80c36119c8d2b17a": {
          "model_module": "@jupyter-widgets/controls",
          "model_name": "HTMLModel",
          "model_module_version": "1.5.0",
          "state": {
            "_dom_classes": [],
            "_model_module": "@jupyter-widgets/controls",
            "_model_module_version": "1.5.0",
            "_model_name": "HTMLModel",
            "_view_count": null,
            "_view_module": "@jupyter-widgets/controls",
            "_view_module_version": "1.5.0",
            "_view_name": "HTMLView",
            "description": "",
            "description_tooltip": null,
            "layout": "IPY_MODEL_019bc36ecc994e83a9317e4ba2aa907f",
            "placeholder": "​",
            "style": "IPY_MODEL_90c95e3306c541148f1ea4961670eb64",
            "value": "Dl Completed...: 100%"
          }
        },
        "62d26f5a75a849ed879918d64843d786": {
          "model_module": "@jupyter-widgets/controls",
          "model_name": "FloatProgressModel",
          "model_module_version": "1.5.0",
          "state": {
            "_dom_classes": [],
            "_model_module": "@jupyter-widgets/controls",
            "_model_module_version": "1.5.0",
            "_model_name": "FloatProgressModel",
            "_view_count": null,
            "_view_module": "@jupyter-widgets/controls",
            "_view_module_version": "1.5.0",
            "_view_name": "ProgressView",
            "bar_style": "success",
            "description": "",
            "description_tooltip": null,
            "layout": "IPY_MODEL_71f013e01de3475b95234fdf6b3d91f3",
            "max": 5,
            "min": 0,
            "orientation": "horizontal",
            "style": "IPY_MODEL_b4162d15a0e5423193e5991ff02c6e4b",
            "value": 5
          }
        },
        "a1a94c3d7b3d4c70a7f80c3c02c1e5f8": {
          "model_module": "@jupyter-widgets/controls",
          "model_name": "HTMLModel",
          "model_module_version": "1.5.0",
          "state": {
            "_dom_classes": [],
            "_model_module": "@jupyter-widgets/controls",
            "_model_module_version": "1.5.0",
            "_model_name": "HTMLModel",
            "_view_count": null,
            "_view_module": "@jupyter-widgets/controls",
            "_view_module_version": "1.5.0",
            "_view_name": "HTMLView",
            "description": "",
            "description_tooltip": null,
            "layout": "IPY_MODEL_98311903d5e6427eaa257a4af8c00d2b",
            "placeholder": "​",
            "style": "IPY_MODEL_5154b0340d2e48128bcbbf7febab1a71",
            "value": " 5/5 [00:00&lt;00:00, 16.62 file/s]"
          }
        },
        "0872746ee15e49d3bd12f147c0a52c05": {
          "model_module": "@jupyter-widgets/base",
          "model_name": "LayoutModel",
          "model_module_version": "1.2.0",
          "state": {
            "_model_module": "@jupyter-widgets/base",
            "_model_module_version": "1.2.0",
            "_model_name": "LayoutModel",
            "_view_count": null,
            "_view_module": "@jupyter-widgets/base",
            "_view_module_version": "1.2.0",
            "_view_name": "LayoutView",
            "align_content": null,
            "align_items": null,
            "align_self": null,
            "border": null,
            "bottom": null,
            "display": null,
            "flex": null,
            "flex_flow": null,
            "grid_area": null,
            "grid_auto_columns": null,
            "grid_auto_flow": null,
            "grid_auto_rows": null,
            "grid_column": null,
            "grid_gap": null,
            "grid_row": null,
            "grid_template_areas": null,
            "grid_template_columns": null,
            "grid_template_rows": null,
            "height": null,
            "justify_content": null,
            "justify_items": null,
            "left": null,
            "margin": null,
            "max_height": null,
            "max_width": null,
            "min_height": null,
            "min_width": null,
            "object_fit": null,
            "object_position": null,
            "order": null,
            "overflow": null,
            "overflow_x": null,
            "overflow_y": null,
            "padding": null,
            "right": null,
            "top": null,
            "visibility": null,
            "width": null
          }
        },
        "019bc36ecc994e83a9317e4ba2aa907f": {
          "model_module": "@jupyter-widgets/base",
          "model_name": "LayoutModel",
          "model_module_version": "1.2.0",
          "state": {
            "_model_module": "@jupyter-widgets/base",
            "_model_module_version": "1.2.0",
            "_model_name": "LayoutModel",
            "_view_count": null,
            "_view_module": "@jupyter-widgets/base",
            "_view_module_version": "1.2.0",
            "_view_name": "LayoutView",
            "align_content": null,
            "align_items": null,
            "align_self": null,
            "border": null,
            "bottom": null,
            "display": null,
            "flex": null,
            "flex_flow": null,
            "grid_area": null,
            "grid_auto_columns": null,
            "grid_auto_flow": null,
            "grid_auto_rows": null,
            "grid_column": null,
            "grid_gap": null,
            "grid_row": null,
            "grid_template_areas": null,
            "grid_template_columns": null,
            "grid_template_rows": null,
            "height": null,
            "justify_content": null,
            "justify_items": null,
            "left": null,
            "margin": null,
            "max_height": null,
            "max_width": null,
            "min_height": null,
            "min_width": null,
            "object_fit": null,
            "object_position": null,
            "order": null,
            "overflow": null,
            "overflow_x": null,
            "overflow_y": null,
            "padding": null,
            "right": null,
            "top": null,
            "visibility": null,
            "width": null
          }
        },
        "90c95e3306c541148f1ea4961670eb64": {
          "model_module": "@jupyter-widgets/controls",
          "model_name": "DescriptionStyleModel",
          "model_module_version": "1.5.0",
          "state": {
            "_model_module": "@jupyter-widgets/controls",
            "_model_module_version": "1.5.0",
            "_model_name": "DescriptionStyleModel",
            "_view_count": null,
            "_view_module": "@jupyter-widgets/base",
            "_view_module_version": "1.2.0",
            "_view_name": "StyleView",
            "description_width": ""
          }
        },
        "71f013e01de3475b95234fdf6b3d91f3": {
          "model_module": "@jupyter-widgets/base",
          "model_name": "LayoutModel",
          "model_module_version": "1.2.0",
          "state": {
            "_model_module": "@jupyter-widgets/base",
            "_model_module_version": "1.2.0",
            "_model_name": "LayoutModel",
            "_view_count": null,
            "_view_module": "@jupyter-widgets/base",
            "_view_module_version": "1.2.0",
            "_view_name": "LayoutView",
            "align_content": null,
            "align_items": null,
            "align_self": null,
            "border": null,
            "bottom": null,
            "display": null,
            "flex": null,
            "flex_flow": null,
            "grid_area": null,
            "grid_auto_columns": null,
            "grid_auto_flow": null,
            "grid_auto_rows": null,
            "grid_column": null,
            "grid_gap": null,
            "grid_row": null,
            "grid_template_areas": null,
            "grid_template_columns": null,
            "grid_template_rows": null,
            "height": null,
            "justify_content": null,
            "justify_items": null,
            "left": null,
            "margin": null,
            "max_height": null,
            "max_width": null,
            "min_height": null,
            "min_width": null,
            "object_fit": null,
            "object_position": null,
            "order": null,
            "overflow": null,
            "overflow_x": null,
            "overflow_y": null,
            "padding": null,
            "right": null,
            "top": null,
            "visibility": null,
            "width": null
          }
        },
        "b4162d15a0e5423193e5991ff02c6e4b": {
          "model_module": "@jupyter-widgets/controls",
          "model_name": "ProgressStyleModel",
          "model_module_version": "1.5.0",
          "state": {
            "_model_module": "@jupyter-widgets/controls",
            "_model_module_version": "1.5.0",
            "_model_name": "ProgressStyleModel",
            "_view_count": null,
            "_view_module": "@jupyter-widgets/base",
            "_view_module_version": "1.2.0",
            "_view_name": "StyleView",
            "bar_color": null,
            "description_width": ""
          }
        },
        "98311903d5e6427eaa257a4af8c00d2b": {
          "model_module": "@jupyter-widgets/base",
          "model_name": "LayoutModel",
          "model_module_version": "1.2.0",
          "state": {
            "_model_module": "@jupyter-widgets/base",
            "_model_module_version": "1.2.0",
            "_model_name": "LayoutModel",
            "_view_count": null,
            "_view_module": "@jupyter-widgets/base",
            "_view_module_version": "1.2.0",
            "_view_name": "LayoutView",
            "align_content": null,
            "align_items": null,
            "align_self": null,
            "border": null,
            "bottom": null,
            "display": null,
            "flex": null,
            "flex_flow": null,
            "grid_area": null,
            "grid_auto_columns": null,
            "grid_auto_flow": null,
            "grid_auto_rows": null,
            "grid_column": null,
            "grid_gap": null,
            "grid_row": null,
            "grid_template_areas": null,
            "grid_template_columns": null,
            "grid_template_rows": null,
            "height": null,
            "justify_content": null,
            "justify_items": null,
            "left": null,
            "margin": null,
            "max_height": null,
            "max_width": null,
            "min_height": null,
            "min_width": null,
            "object_fit": null,
            "object_position": null,
            "order": null,
            "overflow": null,
            "overflow_x": null,
            "overflow_y": null,
            "padding": null,
            "right": null,
            "top": null,
            "visibility": null,
            "width": null
          }
        },
        "5154b0340d2e48128bcbbf7febab1a71": {
          "model_module": "@jupyter-widgets/controls",
          "model_name": "DescriptionStyleModel",
          "model_module_version": "1.5.0",
          "state": {
            "_model_module": "@jupyter-widgets/controls",
            "_model_module_version": "1.5.0",
            "_model_name": "DescriptionStyleModel",
            "_view_count": null,
            "_view_module": "@jupyter-widgets/base",
            "_view_module_version": "1.2.0",
            "_view_name": "StyleView",
            "description_width": ""
          }
        }
      }
    }
  },
  "nbformat": 4,
  "nbformat_minor": 0
}